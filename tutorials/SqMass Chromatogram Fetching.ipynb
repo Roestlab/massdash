{
 "cells": [
  {
   "cell_type": "markdown",
   "id": "200badbc-9db1-45f8-ab23-b55a36f786de",
   "metadata": {},
   "source": [
    "# **SqMass Chromatogram Fetching**"
   ]
  },
  {
   "cell_type": "markdown",
   "id": "bc8eaa06-5935-451d-a0b0-8504d8fe8012",
   "metadata": {},
   "source": [
    "This notebook demonstrates how masseer can be used to visualize chromatograms from `.sqMass` files. `.sqMass` files are output from `OpenSwathWorkflow`. Unlike the *pyopenms* implementation, *massseer* is designed for querying a specific peptide precursor and therefore does not load all of the data into memory. Furthermore, *massseer* also provides easy conversion directly to pandas dataframe for manipulation. "
   ]
  },
  {
   "cell_type": "markdown",
   "id": "89407f1e-f66e-45e2-a9af-879b34ade858",
   "metadata": {},
   "source": [
    "## **The `.osw` file**"
   ]
  },
  {
   "cell_type": "markdown",
   "id": "a8bd97be-4bf4-424e-950b-5b2c7a7792ce",
   "metadata": {},
   "source": [
    "The `.osw` file is a SQLite file which stores all of the library information, features, scores and statistical confidence for all precursors, proteins and peptides across an experiment."
   ]
  },
  {
   "cell_type": "markdown",
   "id": "52cdf155-1b6b-41f2-a963-53088498d042",
   "metadata": {},
   "source": [
    "## **The `.sqMass` file**"
   ]
  },
  {
   "cell_type": "markdown",
   "id": "1e26552b-2e15-42e3-a0c1-a66fe8eebf23",
   "metadata": {},
   "source": [
    "The `.sqMass` file is a SQLite file storing raw chromatogram data. The SqMass file has a limited amount of metadata and so it has to be linked with an OpenSwath file to determine information such as the peptide sequence, q-value and peak boundaries. "
   ]
  },
  {
   "cell_type": "code",
   "execution_count": 1,
   "id": "d59be509-7610-4402-af98-30a6b9fd4e8e",
   "metadata": {},
   "outputs": [],
   "source": [
    "from massseer.loaders.SqMassLoader import SqMassLoader\n",
    "import os"
   ]
  },
  {
   "cell_type": "markdown",
   "id": "d135c434-984a-48a8-8f65-8ef4d1da27c5",
   "metadata": {},
   "source": [
    "The `.SqMass Loader object requies a list of paths of transitionFiles (`.sqMass` files) and a single merged `.osw` file which contains the metainformation across all runs."
   ]
  },
  {
   "cell_type": "markdown",
   "id": "cca97dfb-e5cf-45bf-aa0b-0f772323f49d",
   "metadata": {},
   "source": [
    "**Note:** The SqMassLoader will fetch data for all .sqMass files. If you are only interested in a single run, only a single run is needed to be linked."
   ]
  },
  {
   "cell_type": "code",
   "execution_count": 2,
   "id": "f00f453e-8e34-4ff8-9bf5-a01330f623d8",
   "metadata": {
    "scrolled": true
   },
   "outputs": [
    {
     "name": "stdout",
     "output_type": "stream",
     "text": [
      "Help on class SqMassLoader in module massseer.loaders.SqMassLoader:\n",
      "\n",
      "class SqMassLoader(massseer.loaders.GenericLoader.GenericLoader)\n",
      " |  SqMassLoader(transitionFiles: List[str], rsltsFile: str)\n",
      " |  \n",
      " |  Class for loading Chromatograms and peak features from SqMass files and OSW files\n",
      " |  Inherits from GenericLoader\n",
      " |  \n",
      " |  Method resolution order:\n",
      " |      SqMassLoader\n",
      " |      massseer.loaders.GenericLoader.GenericLoader\n",
      " |      abc.ABC\n",
      " |      builtins.object\n",
      " |  \n",
      " |  Methods defined here:\n",
      " |  \n",
      " |  __init__(self, transitionFiles: List[str], rsltsFile: str)\n",
      " |      Initialize self.  See help(type(self)) for accurate signature.\n",
      " |  \n",
      " |  __repr__(self)\n",
      " |      Return repr(self).\n",
      " |  \n",
      " |  __str__(self)\n",
      " |      Return str(self).\n",
      " |  \n",
      " |  loadTransitionGroupFeature(self, pep_id: str, charge: int) -> List[massseer.structs.TransitionGroupFeature.TransitionGroupFeature]\n",
      " |      Loads a PeakFeature object from the results file\n",
      " |      Args:\n",
      " |          pep_id (str): Peptide ID\n",
      " |          charge (int): Charge\n",
      " |      Returns:\n",
      " |          PeakFeature: PeakFeature object containing peak boundaries, intensity and confidence\n",
      " |  \n",
      " |  loadTransitionGroupFeaturesDf(self, pep_id: str, charge: int) -> pandas.core.frame.DataFrame\n",
      " |      Loads a TransitionGroupFeature object from the results file to a pandas dataframe\n",
      " |  \n",
      " |  loadTransitionGroups(self, pep_id: str, charge: int) -> Dict[str, massseer.structs.TransitionGroup.TransitionGroup]\n",
      " |      Loads the transition group for a given peptide ID and charge across all files\n",
      " |      Args:\n",
      " |          pep_id (str): Peptide ID\n",
      " |          charge (int): Charge\n",
      " |      Returns:\n",
      " |          Dict[str, TransitionGroup]: Dictionary of TransitionGroups, with keys as sqMass filenames\n",
      " |  \n",
      " |  loadTransitionGroupsDf(self, pep_id: str, charge: int) -> pandas.core.frame.DataFrame\n",
      " |  \n",
      " |  ----------------------------------------------------------------------\n",
      " |  Data and other attributes defined here:\n",
      " |  \n",
      " |  __abstractmethods__ = frozenset()\n",
      " |  \n",
      " |  ----------------------------------------------------------------------\n",
      " |  Data descriptors inherited from massseer.loaders.GenericLoader.GenericLoader:\n",
      " |  \n",
      " |  __dict__\n",
      " |      dictionary for instance variables (if defined)\n",
      " |  \n",
      " |  __weakref__\n",
      " |      list of weak references to the object (if defined)\n",
      "\n"
     ]
    }
   ],
   "source": [
    "help(SqMassLoader)"
   ]
  },
  {
   "cell_type": "code",
   "execution_count": 3,
   "id": "da62bf40-2c5c-42f5-9399-e695d7734645",
   "metadata": {},
   "outputs": [],
   "source": [
    "pth = \"../tests/test_data/\"\n",
    "loader = SqMassLoader([os.path.join(pth, \"xics/test_chrom_1.sqMass\"), os.path.join(pth, \"xics/test_chrom_2.sqMass\")],\n",
    "                      os.path.join(pth, \"osw/test_data.osw\"))"
   ]
  },
  {
   "cell_type": "markdown",
   "id": "f7088998-32b8-441f-ba4a-f30793ec630d",
   "metadata": {},
   "source": [
    "Printing the loader we can see the result file and the transition files that are linked"
   ]
  },
  {
   "cell_type": "code",
   "execution_count": 4,
   "id": "30d2b59c-d987-4ae6-b680-412b294b42da",
   "metadata": {},
   "outputs": [
    {
     "data": {
      "text/plain": [
       "SqMassLoader(rsltsFile=../tests/test_data/osw/test_data.osw, transitionFiles=['../tests/test_data/xics/test_chrom_1.sqMass', '../tests/test_data/xics/test_chrom_2.sqMass']"
      ]
     },
     "execution_count": 4,
     "metadata": {},
     "output_type": "execute_result"
    }
   ],
   "source": [
    "loader"
   ]
  },
  {
   "cell_type": "markdown",
   "id": "ab024638-2486-411b-afa4-3eb79e96aa95",
   "metadata": {},
   "source": [
    "---"
   ]
  },
  {
   "cell_type": "markdown",
   "id": "ee7dd89a-9abd-4157-a2e7-559d3ffc76ac",
   "metadata": {},
   "source": [
    "## **Loading a Peptide**"
   ]
  },
  {
   "cell_type": "markdown",
   "id": "4c51615f-49dc-41b2-807b-21e3705d5df6",
   "metadata": {},
   "source": [
    "In this example we will visualize the peptide *NKESPT(UniMod:21)KAIVR(UniMod:267)* with a charge state of *3*"
   ]
  },
  {
   "cell_type": "markdown",
   "id": "5b8b362a-f747-4464-9936-a472f3d14ec1",
   "metadata": {},
   "source": [
    "#### **Get MetaData**"
   ]
  },
  {
   "cell_type": "code",
   "execution_count": 5,
   "id": "8ea3f5ad-ea74-464a-b872-084797639196",
   "metadata": {},
   "outputs": [
    {
     "data": {
      "text/plain": [
       "{'../tests/test_data/xics/test_chrom_1.sqMass': [TransitionGroupFeature Apex: None LeftWidth: 818.476013183594 RightWidth: 847.557983398438 Area: 15781.0 Qvalue: 0.00027720520546038556,\n",
       "  TransitionGroupFeature Apex: None LeftWidth: 843.921997070312 RightWidth: 916.620971679688 Area: 40030.0 Qvalue: 0.00027720520546038556,\n",
       "  TransitionGroupFeature Apex: None LeftWidth: 1018.39001464844 RightWidth: 1058.38000488281 Area: 11879.0 Qvalue: 0.6191579512574589,\n",
       "  TransitionGroupFeature Apex: None LeftWidth: 1091.08996582031 RightWidth: 1131.06994628906 Area: 6869.0 Qvalue: 0.21848283341834926,\n",
       "  TransitionGroupFeature Apex: None LeftWidth: 625.831970214844 RightWidth: 651.276977539062 Area: 3311.0 Qvalue: 0.6196804823619941],\n",
       " '../tests/test_data/xics/test_chrom_2.sqMass': [TransitionGroupFeature Apex: None LeftWidth: 1174.68994140625 RightWidth: 1189.22998046875 Area: 1187.0 Qvalue: 0.6252601620692566,\n",
       "  TransitionGroupFeature Apex: None LeftWidth: 865.742004394531 RightWidth: 898.453002929688 Area: 3968.0 Qvalue: 0.15503077334651527,\n",
       "  TransitionGroupFeature Apex: None LeftWidth: 898.453002929688 RightWidth: 949.336975097656 Area: 5058.0 Qvalue: 0.00027720520546038556,\n",
       "  TransitionGroupFeature Apex: None LeftWidth: 1131.07995605469 RightWidth: 1171.06005859375 Area: 4338.0 Qvalue: 0.611900807501989,\n",
       "  TransitionGroupFeature Apex: None LeftWidth: 1200.14001464844 RightWidth: 1225.58996582031 Area: 2150.0 Qvalue: 0.6209295471091476]}"
      ]
     },
     "execution_count": 5,
     "metadata": {},
     "output_type": "execute_result"
    }
   ],
   "source": [
    "loader.loadTransitionGroupFeature(\"NKESPT(UniMod:21)KAIVR(UniMod:267)\", 3)"
   ]
  },
  {
   "cell_type": "markdown",
   "id": "cde8ceeb-4d17-4604-812b-dd1fb6da4085",
   "metadata": {},
   "source": [
    "This gives us a dictionary where the keys are the transitionFile filenames and the values are a list of `PeakFeature` objects a masseer datatype for storing peak boundaries and other information on the feature.  "
   ]
  },
  {
   "cell_type": "markdown",
   "id": "e89507f1-98a5-4406-a65e-3fd5dc04d1cb",
   "metadata": {},
   "source": [
    "### **Fetch Chromatogram Raw Data**"
   ]
  },
  {
   "cell_type": "markdown",
   "id": "2bd3ce3e-79b2-4bb4-998c-97ea198f39bc",
   "metadata": {},
   "source": [
    "The raw chromatogram data can be fetched using the `loadTransitionGroups()` method. This also takes a peptide sequence and its charge state but returns the raw chromatogram data instead."
   ]
  },
  {
   "cell_type": "code",
   "execution_count": 6,
   "id": "6e600006-0b96-42f7-a6cb-94dc50d3ab74",
   "metadata": {},
   "outputs": [
    {
     "data": {
      "text/plain": [
       "{SqMassDataAccess(filename=../tests/test_data/xics/test_chrom_1.sqMass): <massseer.structs.TransitionGroup.TransitionGroup at 0x7f6e881a4fd0>,\n",
       " SqMassDataAccess(filename=../tests/test_data/xics/test_chrom_2.sqMass): <massseer.structs.TransitionGroup.TransitionGroup at 0x7f6df0bacac0>}"
      ]
     },
     "execution_count": 6,
     "metadata": {},
     "output_type": "execute_result"
    }
   ],
   "source": [
    "loader.loadTransitionGroups(\"NKESPT(UniMod:21)KAIVR(UniMod:267)\", 3)"
   ]
  },
  {
   "cell_type": "markdown",
   "id": "887ed880-4785-4744-9e29-4a39a7428505",
   "metadata": {},
   "source": [
    "Here we have a dictionary returned where the file keys are the SQMass connectors and the values are a `TransitionGroup` object. The `TransitionGroup` object holds a series of chromatograms belonging to the same precursor. "
   ]
  },
  {
   "cell_type": "markdown",
   "id": "fc4919d5-ed34-4651-90f1-9c18d01131c2",
   "metadata": {},
   "source": [
    "Alternatively for analysis directly in python the loaders can return a pandas dataframe object contianing all of the points for this peptide. "
   ]
  },
  {
   "cell_type": "code",
   "execution_count": 7,
   "id": "0c068fd8-f2d6-4956-81c8-de40bc76afde",
   "metadata": {},
   "outputs": [
    {
     "data": {
      "text/html": [
       "<div>\n",
       "<style scoped>\n",
       "    .dataframe tbody tr th:only-of-type {\n",
       "        vertical-align: middle;\n",
       "    }\n",
       "\n",
       "    .dataframe tbody tr th {\n",
       "        vertical-align: top;\n",
       "    }\n",
       "\n",
       "    .dataframe thead th {\n",
       "        text-align: right;\n",
       "    }\n",
       "</style>\n",
       "<table border=\"1\" class=\"dataframe\">\n",
       "  <thead>\n",
       "    <tr style=\"text-align: right;\">\n",
       "      <th></th>\n",
       "      <th>filename</th>\n",
       "      <th>rt</th>\n",
       "      <th>intensity</th>\n",
       "      <th>annotation</th>\n",
       "    </tr>\n",
       "  </thead>\n",
       "  <tbody>\n",
       "    <tr>\n",
       "      <th>0</th>\n",
       "      <td>../tests/test_data/xics/test_chrom_1.sqMass</td>\n",
       "      <td>512.8</td>\n",
       "      <td>1069.051908</td>\n",
       "      <td>2274_Precursor_i0</td>\n",
       "    </tr>\n",
       "    <tr>\n",
       "      <th>1</th>\n",
       "      <td>../tests/test_data/xics/test_chrom_1.sqMass</td>\n",
       "      <td>516.4</td>\n",
       "      <td>2230.982597</td>\n",
       "      <td>2274_Precursor_i0</td>\n",
       "    </tr>\n",
       "    <tr>\n",
       "      <th>2</th>\n",
       "      <td>../tests/test_data/xics/test_chrom_1.sqMass</td>\n",
       "      <td>520.0</td>\n",
       "      <td>2583.056921</td>\n",
       "      <td>2274_Precursor_i0</td>\n",
       "    </tr>\n",
       "    <tr>\n",
       "      <th>3</th>\n",
       "      <td>../tests/test_data/xics/test_chrom_1.sqMass</td>\n",
       "      <td>523.7</td>\n",
       "      <td>1876.955276</td>\n",
       "      <td>2274_Precursor_i0</td>\n",
       "    </tr>\n",
       "    <tr>\n",
       "      <th>4</th>\n",
       "      <td>../tests/test_data/xics/test_chrom_1.sqMass</td>\n",
       "      <td>527.3</td>\n",
       "      <td>1862.126603</td>\n",
       "      <td>2274_Precursor_i0</td>\n",
       "    </tr>\n",
       "    <tr>\n",
       "      <th>...</th>\n",
       "      <td>...</td>\n",
       "      <td>...</td>\n",
       "      <td>...</td>\n",
       "      <td>...</td>\n",
       "    </tr>\n",
       "    <tr>\n",
       "      <th>2697</th>\n",
       "      <td>../tests/test_data/xics/test_chrom_2.sqMass</td>\n",
       "      <td>1251.0</td>\n",
       "      <td>0.000000</td>\n",
       "      <td>b4^1</td>\n",
       "    </tr>\n",
       "    <tr>\n",
       "      <th>2698</th>\n",
       "      <td>../tests/test_data/xics/test_chrom_2.sqMass</td>\n",
       "      <td>1254.7</td>\n",
       "      <td>42.001872</td>\n",
       "      <td>b4^1</td>\n",
       "    </tr>\n",
       "    <tr>\n",
       "      <th>2699</th>\n",
       "      <td>../tests/test_data/xics/test_chrom_2.sqMass</td>\n",
       "      <td>1258.3</td>\n",
       "      <td>20.999608</td>\n",
       "      <td>b4^1</td>\n",
       "    </tr>\n",
       "    <tr>\n",
       "      <th>2700</th>\n",
       "      <td>../tests/test_data/xics/test_chrom_2.sqMass</td>\n",
       "      <td>1261.9</td>\n",
       "      <td>20.999608</td>\n",
       "      <td>b4^1</td>\n",
       "    </tr>\n",
       "    <tr>\n",
       "      <th>2701</th>\n",
       "      <td>../tests/test_data/xics/test_chrom_2.sqMass</td>\n",
       "      <td>1265.6</td>\n",
       "      <td>0.000000</td>\n",
       "      <td>b4^1</td>\n",
       "    </tr>\n",
       "  </tbody>\n",
       "</table>\n",
       "<p>2702 rows × 4 columns</p>\n",
       "</div>"
      ],
      "text/plain": [
       "                                         filename      rt    intensity  \\\n",
       "0     ../tests/test_data/xics/test_chrom_1.sqMass   512.8  1069.051908   \n",
       "1     ../tests/test_data/xics/test_chrom_1.sqMass   516.4  2230.982597   \n",
       "2     ../tests/test_data/xics/test_chrom_1.sqMass   520.0  2583.056921   \n",
       "3     ../tests/test_data/xics/test_chrom_1.sqMass   523.7  1876.955276   \n",
       "4     ../tests/test_data/xics/test_chrom_1.sqMass   527.3  1862.126603   \n",
       "...                                           ...     ...          ...   \n",
       "2697  ../tests/test_data/xics/test_chrom_2.sqMass  1251.0     0.000000   \n",
       "2698  ../tests/test_data/xics/test_chrom_2.sqMass  1254.7    42.001872   \n",
       "2699  ../tests/test_data/xics/test_chrom_2.sqMass  1258.3    20.999608   \n",
       "2700  ../tests/test_data/xics/test_chrom_2.sqMass  1261.9    20.999608   \n",
       "2701  ../tests/test_data/xics/test_chrom_2.sqMass  1265.6     0.000000   \n",
       "\n",
       "             annotation  \n",
       "0     2274_Precursor_i0  \n",
       "1     2274_Precursor_i0  \n",
       "2     2274_Precursor_i0  \n",
       "3     2274_Precursor_i0  \n",
       "4     2274_Precursor_i0  \n",
       "...                 ...  \n",
       "2697               b4^1  \n",
       "2698               b4^1  \n",
       "2699               b4^1  \n",
       "2700               b4^1  \n",
       "2701               b4^1  \n",
       "\n",
       "[2702 rows x 4 columns]"
      ]
     },
     "execution_count": 7,
     "metadata": {},
     "output_type": "execute_result"
    }
   ],
   "source": [
    "transitionGroupDf = loader.loadTransitionGroupsDf(\"NKESPT(UniMod:21)KAIVR(UniMod:267)\", 3)\n",
    "transitionGroupDf"
   ]
  },
  {
   "cell_type": "markdown",
   "id": "b40483bb-b47b-4836-a4f1-06a28f4bdb57",
   "metadata": {},
   "source": [
    "This dataframe has all of the intensities and retention times for all of the files across all transitions. Transitions can be diffrentiated by the *annotation* column and the *filename* column diffrentiates the file/run in which the chromatograms originate from. "
   ]
  },
  {
   "cell_type": "markdown",
   "id": "687c000c-1133-49ae-ad24-a77e45862263",
   "metadata": {},
   "source": [
    "For example to get the total intensity across the intensities we can use the pandas `groupby()` functions "
   ]
  },
  {
   "cell_type": "code",
   "execution_count": 8,
   "id": "efb996ca-8bd1-4dcc-b2ff-2664a12fa16d",
   "metadata": {},
   "outputs": [
    {
     "data": {
      "text/html": [
       "<div>\n",
       "<style scoped>\n",
       "    .dataframe tbody tr th:only-of-type {\n",
       "        vertical-align: middle;\n",
       "    }\n",
       "\n",
       "    .dataframe tbody tr th {\n",
       "        vertical-align: top;\n",
       "    }\n",
       "\n",
       "    .dataframe thead th {\n",
       "        text-align: right;\n",
       "    }\n",
       "</style>\n",
       "<table border=\"1\" class=\"dataframe\">\n",
       "  <thead>\n",
       "    <tr style=\"text-align: right;\">\n",
       "      <th></th>\n",
       "      <th></th>\n",
       "      <th>intensity</th>\n",
       "    </tr>\n",
       "    <tr>\n",
       "      <th>filename</th>\n",
       "      <th>annotation</th>\n",
       "      <th></th>\n",
       "    </tr>\n",
       "  </thead>\n",
       "  <tbody>\n",
       "    <tr>\n",
       "      <th rowspan=\"7\" valign=\"top\">../tests/test_data/xics/test_chrom_1.sqMass</th>\n",
       "      <th>2274_Precursor_i0</th>\n",
       "      <td>2.139805e+06</td>\n",
       "    </tr>\n",
       "    <tr>\n",
       "      <th>b4^1</th>\n",
       "      <td>3.000697e+04</td>\n",
       "    </tr>\n",
       "    <tr>\n",
       "      <th>y1^1</th>\n",
       "      <td>1.300780e+05</td>\n",
       "    </tr>\n",
       "    <tr>\n",
       "      <th>y2^1</th>\n",
       "      <td>2.837481e+04</td>\n",
       "    </tr>\n",
       "    <tr>\n",
       "      <th>y3^1</th>\n",
       "      <td>3.879062e+05</td>\n",
       "    </tr>\n",
       "    <tr>\n",
       "      <th>y4^1</th>\n",
       "      <td>1.295312e+05</td>\n",
       "    </tr>\n",
       "    <tr>\n",
       "      <th>y5^1</th>\n",
       "      <td>5.707377e+04</td>\n",
       "    </tr>\n",
       "    <tr>\n",
       "      <th rowspan=\"7\" valign=\"top\">../tests/test_data/xics/test_chrom_2.sqMass</th>\n",
       "      <th>2274_Precursor_i0</th>\n",
       "      <td>5.931736e+05</td>\n",
       "    </tr>\n",
       "    <tr>\n",
       "      <th>b4^1</th>\n",
       "      <td>7.226959e+03</td>\n",
       "    </tr>\n",
       "    <tr>\n",
       "      <th>y1^1</th>\n",
       "      <td>1.137597e+04</td>\n",
       "    </tr>\n",
       "    <tr>\n",
       "      <th>y2^1</th>\n",
       "      <td>1.631975e+05</td>\n",
       "    </tr>\n",
       "    <tr>\n",
       "      <th>y3^1</th>\n",
       "      <td>4.025936e+04</td>\n",
       "    </tr>\n",
       "    <tr>\n",
       "      <th>y4^1</th>\n",
       "      <td>3.567035e+03</td>\n",
       "    </tr>\n",
       "    <tr>\n",
       "      <th>y5^1</th>\n",
       "      <td>1.758796e+04</td>\n",
       "    </tr>\n",
       "  </tbody>\n",
       "</table>\n",
       "</div>"
      ],
      "text/plain": [
       "                                                                  intensity\n",
       "filename                                    annotation                     \n",
       "../tests/test_data/xics/test_chrom_1.sqMass 2274_Precursor_i0  2.139805e+06\n",
       "                                            b4^1               3.000697e+04\n",
       "                                            y1^1               1.300780e+05\n",
       "                                            y2^1               2.837481e+04\n",
       "                                            y3^1               3.879062e+05\n",
       "                                            y4^1               1.295312e+05\n",
       "                                            y5^1               5.707377e+04\n",
       "../tests/test_data/xics/test_chrom_2.sqMass 2274_Precursor_i0  5.931736e+05\n",
       "                                            b4^1               7.226959e+03\n",
       "                                            y1^1               1.137597e+04\n",
       "                                            y2^1               1.631975e+05\n",
       "                                            y3^1               4.025936e+04\n",
       "                                            y4^1               3.567035e+03\n",
       "                                            y5^1               1.758796e+04"
      ]
     },
     "execution_count": 8,
     "metadata": {},
     "output_type": "execute_result"
    }
   ],
   "source": [
    "transitionGroupDf[['intensity', 'filename', 'annotation']].groupby(['filename', 'annotation']).sum()"
   ]
  },
  {
   "cell_type": "markdown",
   "id": "2ef05ee4-4f9f-4e95-87c9-7a3f9095fe09",
   "metadata": {},
   "source": [
    "#### **Fetching Precomputed feature information**"
   ]
  },
  {
   "cell_type": "markdown",
   "id": "4e725666-cd66-4543-8fc7-ea77c7834b6f",
   "metadata": {},
   "source": [
    "The `SqMassLoader` object can also be used to load features from the *.osw* file.  "
   ]
  },
  {
   "cell_type": "code",
   "execution_count": 12,
   "id": "c5f0da66-0331-4d2b-bfca-0f65e87bbaed",
   "metadata": {},
   "outputs": [],
   "source": [
    "a = loader.loadTransitionGroupFeature(\"NKESPT(UniMod:21)KAIVR(UniMod:267)\", 3)"
   ]
  },
  {
   "cell_type": "markdown",
   "id": "8921771d-d871-496e-bddd-c005e841a761",
   "metadata": {},
   "source": [
    "Here, the filename is the key of the dictionary and the value is a transitionGroupFeature object which contains information such as the boundaries, qvalue and intensity of the feature. "
   ]
  },
  {
   "cell_type": "markdown",
   "id": "38f1aa00-c1a6-4e84-81c7-3897046bcd02",
   "metadata": {
    "jp-MarkdownHeadingCollapsed": true
   },
   "source": [
    "Like above, this data can also be export as a pandas dataframe however, this limits the usage with downstream *masseer* tools."
   ]
  },
  {
   "cell_type": "code",
   "execution_count": 10,
   "id": "cbd21980-8b3f-47d7-906b-b9a6753e2438",
   "metadata": {},
   "outputs": [
    {
     "data": {
      "text/html": [
       "<div>\n",
       "<style scoped>\n",
       "    .dataframe tbody tr th:only-of-type {\n",
       "        vertical-align: middle;\n",
       "    }\n",
       "\n",
       "    .dataframe tbody tr th {\n",
       "        vertical-align: top;\n",
       "    }\n",
       "\n",
       "    .dataframe thead th {\n",
       "        text-align: right;\n",
       "    }\n",
       "</style>\n",
       "<table border=\"1\" class=\"dataframe\">\n",
       "  <thead>\n",
       "    <tr style=\"text-align: right;\">\n",
       "      <th></th>\n",
       "      <th>filename</th>\n",
       "      <th>leftBoundary</th>\n",
       "      <th>rightBoundary</th>\n",
       "      <th>areaIntensity</th>\n",
       "      <th>qvalue</th>\n",
       "      <th>consensusApex</th>\n",
       "      <th>consensusApexIntensity</th>\n",
       "    </tr>\n",
       "  </thead>\n",
       "  <tbody>\n",
       "    <tr>\n",
       "      <th>0</th>\n",
       "      <td>../tests/test_data/xics/test_chrom_1.sqMass</td>\n",
       "      <td>818.476013</td>\n",
       "      <td>847.557983</td>\n",
       "      <td>64494.0</td>\n",
       "      <td>0.000277</td>\n",
       "      <td>838.622</td>\n",
       "      <td>15781.0</td>\n",
       "    </tr>\n",
       "    <tr>\n",
       "      <th>1</th>\n",
       "      <td>../tests/test_data/xics/test_chrom_1.sqMass</td>\n",
       "      <td>843.921997</td>\n",
       "      <td>916.620972</td>\n",
       "      <td>230773.0</td>\n",
       "      <td>0.000277</td>\n",
       "      <td>864.324</td>\n",
       "      <td>40030.0</td>\n",
       "    </tr>\n",
       "    <tr>\n",
       "      <th>2</th>\n",
       "      <td>../tests/test_data/xics/test_chrom_1.sqMass</td>\n",
       "      <td>1018.390015</td>\n",
       "      <td>1058.380005</td>\n",
       "      <td>76219.0</td>\n",
       "      <td>0.619158</td>\n",
       "      <td>1035.830</td>\n",
       "      <td>11879.0</td>\n",
       "    </tr>\n",
       "    <tr>\n",
       "      <th>3</th>\n",
       "      <td>../tests/test_data/xics/test_chrom_1.sqMass</td>\n",
       "      <td>1091.089966</td>\n",
       "      <td>1131.069946</td>\n",
       "      <td>48427.0</td>\n",
       "      <td>0.218483</td>\n",
       "      <td>1111.350</td>\n",
       "      <td>6869.0</td>\n",
       "    </tr>\n",
       "    <tr>\n",
       "      <th>4</th>\n",
       "      <td>../tests/test_data/xics/test_chrom_1.sqMass</td>\n",
       "      <td>625.831970</td>\n",
       "      <td>651.276978</td>\n",
       "      <td>14772.0</td>\n",
       "      <td>0.619680</td>\n",
       "      <td>636.468</td>\n",
       "      <td>3311.0</td>\n",
       "    </tr>\n",
       "    <tr>\n",
       "      <th>5</th>\n",
       "      <td>../tests/test_data/xics/test_chrom_2.sqMass</td>\n",
       "      <td>1174.689941</td>\n",
       "      <td>1189.229980</td>\n",
       "      <td>3697.0</td>\n",
       "      <td>0.625260</td>\n",
       "      <td>1178.480</td>\n",
       "      <td>1187.0</td>\n",
       "    </tr>\n",
       "    <tr>\n",
       "      <th>6</th>\n",
       "      <td>../tests/test_data/xics/test_chrom_2.sqMass</td>\n",
       "      <td>865.742004</td>\n",
       "      <td>898.453003</td>\n",
       "      <td>16398.0</td>\n",
       "      <td>0.155031</td>\n",
       "      <td>890.432</td>\n",
       "      <td>3968.0</td>\n",
       "    </tr>\n",
       "    <tr>\n",
       "      <th>7</th>\n",
       "      <td>../tests/test_data/xics/test_chrom_2.sqMass</td>\n",
       "      <td>898.453003</td>\n",
       "      <td>949.336975</td>\n",
       "      <td>29383.0</td>\n",
       "      <td>0.000277</td>\n",
       "      <td>915.050</td>\n",
       "      <td>5058.0</td>\n",
       "    </tr>\n",
       "    <tr>\n",
       "      <th>8</th>\n",
       "      <td>../tests/test_data/xics/test_chrom_2.sqMass</td>\n",
       "      <td>1131.079956</td>\n",
       "      <td>1171.060059</td>\n",
       "      <td>22497.0</td>\n",
       "      <td>0.611901</td>\n",
       "      <td>1151.740</td>\n",
       "      <td>4338.0</td>\n",
       "    </tr>\n",
       "    <tr>\n",
       "      <th>9</th>\n",
       "      <td>../tests/test_data/xics/test_chrom_2.sqMass</td>\n",
       "      <td>1200.140015</td>\n",
       "      <td>1225.589966</td>\n",
       "      <td>7743.0</td>\n",
       "      <td>0.620930</td>\n",
       "      <td>1204.060</td>\n",
       "      <td>2150.0</td>\n",
       "    </tr>\n",
       "  </tbody>\n",
       "</table>\n",
       "</div>"
      ],
      "text/plain": [
       "                                      filename  leftBoundary  rightBoundary  \\\n",
       "0  ../tests/test_data/xics/test_chrom_1.sqMass    818.476013     847.557983   \n",
       "1  ../tests/test_data/xics/test_chrom_1.sqMass    843.921997     916.620972   \n",
       "2  ../tests/test_data/xics/test_chrom_1.sqMass   1018.390015    1058.380005   \n",
       "3  ../tests/test_data/xics/test_chrom_1.sqMass   1091.089966    1131.069946   \n",
       "4  ../tests/test_data/xics/test_chrom_1.sqMass    625.831970     651.276978   \n",
       "5  ../tests/test_data/xics/test_chrom_2.sqMass   1174.689941    1189.229980   \n",
       "6  ../tests/test_data/xics/test_chrom_2.sqMass    865.742004     898.453003   \n",
       "7  ../tests/test_data/xics/test_chrom_2.sqMass    898.453003     949.336975   \n",
       "8  ../tests/test_data/xics/test_chrom_2.sqMass   1131.079956    1171.060059   \n",
       "9  ../tests/test_data/xics/test_chrom_2.sqMass   1200.140015    1225.589966   \n",
       "\n",
       "   areaIntensity    qvalue  consensusApex  consensusApexIntensity  \n",
       "0        64494.0  0.000277        838.622                 15781.0  \n",
       "1       230773.0  0.000277        864.324                 40030.0  \n",
       "2        76219.0  0.619158       1035.830                 11879.0  \n",
       "3        48427.0  0.218483       1111.350                  6869.0  \n",
       "4        14772.0  0.619680        636.468                  3311.0  \n",
       "5         3697.0  0.625260       1178.480                  1187.0  \n",
       "6        16398.0  0.155031        890.432                  3968.0  \n",
       "7        29383.0  0.000277        915.050                  5058.0  \n",
       "8        22497.0  0.611901       1151.740                  4338.0  \n",
       "9         7743.0  0.620930       1204.060                  2150.0  "
      ]
     },
     "execution_count": 10,
     "metadata": {},
     "output_type": "execute_result"
    }
   ],
   "source": [
    "featuresDf = loader.loadTransitionGroupFeaturesDf(\"NKESPT(UniMod:21)KAIVR(UniMod:267)\", 3)\n",
    "featuresDf"
   ]
  },
  {
   "cell_type": "markdown",
   "id": "2adb9e72-2998-42d0-a80d-70415307d93c",
   "metadata": {},
   "source": [
    "We can use the pandas dataframe to compute the peakWidth"
   ]
  },
  {
   "cell_type": "code",
   "execution_count": 11,
   "id": "b2100ec2-df68-49fb-be85-9475d444a8d3",
   "metadata": {},
   "outputs": [
    {
     "data": {
      "text/html": [
       "<div>\n",
       "<style scoped>\n",
       "    .dataframe tbody tr th:only-of-type {\n",
       "        vertical-align: middle;\n",
       "    }\n",
       "\n",
       "    .dataframe tbody tr th {\n",
       "        vertical-align: top;\n",
       "    }\n",
       "\n",
       "    .dataframe thead th {\n",
       "        text-align: right;\n",
       "    }\n",
       "</style>\n",
       "<table border=\"1\" class=\"dataframe\">\n",
       "  <thead>\n",
       "    <tr style=\"text-align: right;\">\n",
       "      <th></th>\n",
       "      <th>filename</th>\n",
       "      <th>leftBoundary</th>\n",
       "      <th>rightBoundary</th>\n",
       "      <th>areaIntensity</th>\n",
       "      <th>qvalue</th>\n",
       "      <th>consensusApex</th>\n",
       "      <th>consensusApexIntensity</th>\n",
       "      <th>peakWidth</th>\n",
       "    </tr>\n",
       "  </thead>\n",
       "  <tbody>\n",
       "    <tr>\n",
       "      <th>0</th>\n",
       "      <td>../tests/test_data/xics/test_chrom_1.sqMass</td>\n",
       "      <td>818.476013</td>\n",
       "      <td>847.557983</td>\n",
       "      <td>64494.0</td>\n",
       "      <td>0.000277</td>\n",
       "      <td>838.622</td>\n",
       "      <td>15781.0</td>\n",
       "      <td>29.081970</td>\n",
       "    </tr>\n",
       "    <tr>\n",
       "      <th>1</th>\n",
       "      <td>../tests/test_data/xics/test_chrom_1.sqMass</td>\n",
       "      <td>843.921997</td>\n",
       "      <td>916.620972</td>\n",
       "      <td>230773.0</td>\n",
       "      <td>0.000277</td>\n",
       "      <td>864.324</td>\n",
       "      <td>40030.0</td>\n",
       "      <td>72.698975</td>\n",
       "    </tr>\n",
       "    <tr>\n",
       "      <th>2</th>\n",
       "      <td>../tests/test_data/xics/test_chrom_1.sqMass</td>\n",
       "      <td>1018.390015</td>\n",
       "      <td>1058.380005</td>\n",
       "      <td>76219.0</td>\n",
       "      <td>0.619158</td>\n",
       "      <td>1035.830</td>\n",
       "      <td>11879.0</td>\n",
       "      <td>39.989990</td>\n",
       "    </tr>\n",
       "    <tr>\n",
       "      <th>3</th>\n",
       "      <td>../tests/test_data/xics/test_chrom_1.sqMass</td>\n",
       "      <td>1091.089966</td>\n",
       "      <td>1131.069946</td>\n",
       "      <td>48427.0</td>\n",
       "      <td>0.218483</td>\n",
       "      <td>1111.350</td>\n",
       "      <td>6869.0</td>\n",
       "      <td>39.979980</td>\n",
       "    </tr>\n",
       "    <tr>\n",
       "      <th>4</th>\n",
       "      <td>../tests/test_data/xics/test_chrom_1.sqMass</td>\n",
       "      <td>625.831970</td>\n",
       "      <td>651.276978</td>\n",
       "      <td>14772.0</td>\n",
       "      <td>0.619680</td>\n",
       "      <td>636.468</td>\n",
       "      <td>3311.0</td>\n",
       "      <td>25.445007</td>\n",
       "    </tr>\n",
       "    <tr>\n",
       "      <th>5</th>\n",
       "      <td>../tests/test_data/xics/test_chrom_2.sqMass</td>\n",
       "      <td>1174.689941</td>\n",
       "      <td>1189.229980</td>\n",
       "      <td>3697.0</td>\n",
       "      <td>0.625260</td>\n",
       "      <td>1178.480</td>\n",
       "      <td>1187.0</td>\n",
       "      <td>14.540039</td>\n",
       "    </tr>\n",
       "    <tr>\n",
       "      <th>6</th>\n",
       "      <td>../tests/test_data/xics/test_chrom_2.sqMass</td>\n",
       "      <td>865.742004</td>\n",
       "      <td>898.453003</td>\n",
       "      <td>16398.0</td>\n",
       "      <td>0.155031</td>\n",
       "      <td>890.432</td>\n",
       "      <td>3968.0</td>\n",
       "      <td>32.710999</td>\n",
       "    </tr>\n",
       "    <tr>\n",
       "      <th>7</th>\n",
       "      <td>../tests/test_data/xics/test_chrom_2.sqMass</td>\n",
       "      <td>898.453003</td>\n",
       "      <td>949.336975</td>\n",
       "      <td>29383.0</td>\n",
       "      <td>0.000277</td>\n",
       "      <td>915.050</td>\n",
       "      <td>5058.0</td>\n",
       "      <td>50.883972</td>\n",
       "    </tr>\n",
       "    <tr>\n",
       "      <th>8</th>\n",
       "      <td>../tests/test_data/xics/test_chrom_2.sqMass</td>\n",
       "      <td>1131.079956</td>\n",
       "      <td>1171.060059</td>\n",
       "      <td>22497.0</td>\n",
       "      <td>0.611901</td>\n",
       "      <td>1151.740</td>\n",
       "      <td>4338.0</td>\n",
       "      <td>39.980103</td>\n",
       "    </tr>\n",
       "    <tr>\n",
       "      <th>9</th>\n",
       "      <td>../tests/test_data/xics/test_chrom_2.sqMass</td>\n",
       "      <td>1200.140015</td>\n",
       "      <td>1225.589966</td>\n",
       "      <td>7743.0</td>\n",
       "      <td>0.620930</td>\n",
       "      <td>1204.060</td>\n",
       "      <td>2150.0</td>\n",
       "      <td>25.449951</td>\n",
       "    </tr>\n",
       "  </tbody>\n",
       "</table>\n",
       "</div>"
      ],
      "text/plain": [
       "                                      filename  leftBoundary  rightBoundary  \\\n",
       "0  ../tests/test_data/xics/test_chrom_1.sqMass    818.476013     847.557983   \n",
       "1  ../tests/test_data/xics/test_chrom_1.sqMass    843.921997     916.620972   \n",
       "2  ../tests/test_data/xics/test_chrom_1.sqMass   1018.390015    1058.380005   \n",
       "3  ../tests/test_data/xics/test_chrom_1.sqMass   1091.089966    1131.069946   \n",
       "4  ../tests/test_data/xics/test_chrom_1.sqMass    625.831970     651.276978   \n",
       "5  ../tests/test_data/xics/test_chrom_2.sqMass   1174.689941    1189.229980   \n",
       "6  ../tests/test_data/xics/test_chrom_2.sqMass    865.742004     898.453003   \n",
       "7  ../tests/test_data/xics/test_chrom_2.sqMass    898.453003     949.336975   \n",
       "8  ../tests/test_data/xics/test_chrom_2.sqMass   1131.079956    1171.060059   \n",
       "9  ../tests/test_data/xics/test_chrom_2.sqMass   1200.140015    1225.589966   \n",
       "\n",
       "   areaIntensity    qvalue  consensusApex  consensusApexIntensity  peakWidth  \n",
       "0        64494.0  0.000277        838.622                 15781.0  29.081970  \n",
       "1       230773.0  0.000277        864.324                 40030.0  72.698975  \n",
       "2        76219.0  0.619158       1035.830                 11879.0  39.989990  \n",
       "3        48427.0  0.218483       1111.350                  6869.0  39.979980  \n",
       "4        14772.0  0.619680        636.468                  3311.0  25.445007  \n",
       "5         3697.0  0.625260       1178.480                  1187.0  14.540039  \n",
       "6        16398.0  0.155031        890.432                  3968.0  32.710999  \n",
       "7        29383.0  0.000277        915.050                  5058.0  50.883972  \n",
       "8        22497.0  0.611901       1151.740                  4338.0  39.980103  \n",
       "9         7743.0  0.620930       1204.060                  2150.0  25.449951  "
      ]
     },
     "execution_count": 11,
     "metadata": {},
     "output_type": "execute_result"
    }
   ],
   "source": [
    "featuresDf['peakWidth'] = featuresDf['rightBoundary'] - featuresDf['leftBoundary']\n",
    "featuresDf"
   ]
  }
 ],
 "metadata": {
  "kernelspec": {
   "display_name": "Python 3 (ipykernel)",
   "language": "python",
   "name": "python3"
  },
  "language_info": {
   "codemirror_mode": {
    "name": "ipython",
    "version": 3
   },
   "file_extension": ".py",
   "mimetype": "text/x-python",
   "name": "python",
   "nbconvert_exporter": "python",
   "pygments_lexer": "ipython3",
   "version": "3.9.18"
  }
 },
 "nbformat": 4,
 "nbformat_minor": 5
}
