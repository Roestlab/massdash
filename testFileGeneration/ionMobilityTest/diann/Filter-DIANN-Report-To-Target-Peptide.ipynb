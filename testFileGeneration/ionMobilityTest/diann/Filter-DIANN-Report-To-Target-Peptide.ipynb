{
 "cells": [
  {
   "cell_type": "markdown",
   "id": "dcbff284-1525-436b-a99b-8b7ecc7483b8",
   "metadata": {},
   "source": [
    "## **Filter-DIANN-Report-To-Target-Peptide**"
   ]
  },
  {
   "cell_type": "markdown",
   "id": "c83ce7c3-c4db-421d-b14b-74556cc2ab3c",
   "metadata": {},
   "source": [
    "Once the `DIA-NN` report file has been created from the `run_diann.sh` script, the report is filtered down to the target peptide for testing purposes. "
   ]
  },
  {
   "cell_type": "code",
   "execution_count": 1,
   "id": "8fd1b8a5-756f-44bb-8dab-9894ec47c778",
   "metadata": {},
   "outputs": [],
   "source": [
    "import pandas as pd"
   ]
  },
  {
   "cell_type": "code",
   "execution_count": 2,
   "id": "c756f382-b76a-4cb1-a419-726224b34fd3",
   "metadata": {},
   "outputs": [],
   "source": [
    "rslts = pd.read_csv(\"report.tsv\", sep='\\t')"
   ]
  },
  {
   "cell_type": "markdown",
   "id": "93754149-2a78-4d29-80a4-360a31238398",
   "metadata": {},
   "source": [
    "The precursor we are using in the test example is `AFVDFLSDEIK2`"
   ]
  },
  {
   "cell_type": "code",
   "execution_count": 3,
   "id": "c923cc56-0d9b-4268-9c73-28435d40e710",
   "metadata": {},
   "outputs": [],
   "source": [
    "rslts_target_pep = rslts[rslts['Precursor.Id'] == 'AFVDFLSDEIK2']"
   ]
  },
  {
   "cell_type": "markdown",
   "id": "2976749c-f74e-414f-ba24-2167b46c2622",
   "metadata": {},
   "source": [
    "Since `MassDash` does matching based on the run name since the test file will be called ionMobilityTest.mzML we need to rename the run column and filename in our test results. "
   ]
  },
  {
   "cell_type": "code",
   "execution_count": 4,
   "id": "7b05dc45-3ec3-4ff4-a3f6-dc980fb98501",
   "metadata": {},
   "outputs": [],
   "source": [
    "rslts_target_pep.loc[rslts_target_pep['File.Name'] == '20190816_TIMS05_MA_FlMe_diaPASEF_25pc_50ng_A2_1_26.d', 'File.Name'] = 'ionMobilityTest2.mzML'\n",
    "rslts_target_pep.loc[rslts_target_pep['Run'] == '20190816_TIMS05_MA_FlMe_diaPASEF_25pc_50ng_A2_1_26', 'Run'] = 'ionMobilityTest2'"
   ]
  },
  {
   "cell_type": "code",
   "execution_count": 5,
   "id": "fd3241fc-1642-4330-991f-9d347fe284bd",
   "metadata": {},
   "outputs": [
    {
     "data": {
      "text/html": [
       "<div>\n",
       "<style scoped>\n",
       "    .dataframe tbody tr th:only-of-type {\n",
       "        vertical-align: middle;\n",
       "    }\n",
       "\n",
       "    .dataframe tbody tr th {\n",
       "        vertical-align: top;\n",
       "    }\n",
       "\n",
       "    .dataframe thead th {\n",
       "        text-align: right;\n",
       "    }\n",
       "</style>\n",
       "<table border=\"1\" class=\"dataframe\">\n",
       "  <thead>\n",
       "    <tr style=\"text-align: right;\">\n",
       "      <th></th>\n",
       "      <th>File.Name</th>\n",
       "      <th>Run</th>\n",
       "      <th>Protein.Group</th>\n",
       "      <th>Protein.Ids</th>\n",
       "      <th>Protein.Names</th>\n",
       "      <th>Genes</th>\n",
       "      <th>PG.Quantity</th>\n",
       "      <th>PG.Normalised</th>\n",
       "      <th>PG.MaxLFQ</th>\n",
       "      <th>Genes.Quantity</th>\n",
       "      <th>...</th>\n",
       "      <th>Fragment.Quant.Corrected</th>\n",
       "      <th>Fragment.Correlations</th>\n",
       "      <th>MS2.Scan</th>\n",
       "      <th>Precursor.Mz</th>\n",
       "      <th>Fragment.Info</th>\n",
       "      <th>Lib.Index</th>\n",
       "      <th>IM</th>\n",
       "      <th>iIM</th>\n",
       "      <th>Predicted.IM</th>\n",
       "      <th>Predicted.iIM</th>\n",
       "    </tr>\n",
       "  </thead>\n",
       "  <tbody>\n",
       "    <tr>\n",
       "      <th>3223</th>\n",
       "      <td>20190816_TIMS05_MA_FlMe_diaPASEF_25pc_50ng_A2_...</td>\n",
       "      <td>20190816_TIMS05_MA_FlMe_diaPASEF_25pc_50ng_A2_...</td>\n",
       "      <td>sp|Q07021|C1QBP_HUMAN</td>\n",
       "      <td>sp|Q07021|C1QBP_HUMAN</td>\n",
       "      <td>NaN</td>\n",
       "      <td>NaN</td>\n",
       "      <td>1488190.75</td>\n",
       "      <td>869107.125</td>\n",
       "      <td>869106.9375</td>\n",
       "      <td>NaN</td>\n",
       "      <td>...</td>\n",
       "      <td>1072342.75;715817.75;596355.5625;560935.0625;4...</td>\n",
       "      <td>0.9810045362;0.9921962619;0.99086833;0.9867872...</td>\n",
       "      <td>55826</td>\n",
       "      <td>642.329529</td>\n",
       "      <td>y8^1/966.4789429;y5^1/591.2994995;y6^1/704.383...</td>\n",
       "      <td>4544</td>\n",
       "      <td>0.979896</td>\n",
       "      <td>0.98</td>\n",
       "      <td>0.980046</td>\n",
       "      <td>0.979830</td>\n",
       "    </tr>\n",
       "    <tr>\n",
       "      <th>3224</th>\n",
       "      <td>ionMobilityTest2.mzML</td>\n",
       "      <td>ionMobilityTest2</td>\n",
       "      <td>sp|Q07021|C1QBP_HUMAN</td>\n",
       "      <td>sp|Q07021|C1QBP_HUMAN</td>\n",
       "      <td>NaN</td>\n",
       "      <td>NaN</td>\n",
       "      <td>1137201.50</td>\n",
       "      <td>878240.375</td>\n",
       "      <td>878240.3750</td>\n",
       "      <td>NaN</td>\n",
       "      <td>...</td>\n",
       "      <td>795349.6875;550496.25;447920.75;405139.5312;33...</td>\n",
       "      <td>0.968488276;0.9854635;0.9848174453;0.977160751...</td>\n",
       "      <td>55842</td>\n",
       "      <td>642.329529</td>\n",
       "      <td>y8^1/966.4789429;y5^1/591.2994995;y6^1/704.383...</td>\n",
       "      <td>4544</td>\n",
       "      <td>0.980000</td>\n",
       "      <td>0.98</td>\n",
       "      <td>0.979880</td>\n",
       "      <td>0.980045</td>\n",
       "    </tr>\n",
       "  </tbody>\n",
       "</table>\n",
       "<p>2 rows × 60 columns</p>\n",
       "</div>"
      ],
      "text/plain": [
       "                                              File.Name  \\\n",
       "3223  20190816_TIMS05_MA_FlMe_diaPASEF_25pc_50ng_A2_...   \n",
       "3224                              ionMobilityTest2.mzML   \n",
       "\n",
       "                                                    Run  \\\n",
       "3223  20190816_TIMS05_MA_FlMe_diaPASEF_25pc_50ng_A2_...   \n",
       "3224                                   ionMobilityTest2   \n",
       "\n",
       "              Protein.Group            Protein.Ids  Protein.Names  Genes  \\\n",
       "3223  sp|Q07021|C1QBP_HUMAN  sp|Q07021|C1QBP_HUMAN            NaN    NaN   \n",
       "3224  sp|Q07021|C1QBP_HUMAN  sp|Q07021|C1QBP_HUMAN            NaN    NaN   \n",
       "\n",
       "      PG.Quantity  PG.Normalised    PG.MaxLFQ  Genes.Quantity  ...  \\\n",
       "3223   1488190.75     869107.125  869106.9375             NaN  ...   \n",
       "3224   1137201.50     878240.375  878240.3750             NaN  ...   \n",
       "\n",
       "                               Fragment.Quant.Corrected  \\\n",
       "3223  1072342.75;715817.75;596355.5625;560935.0625;4...   \n",
       "3224  795349.6875;550496.25;447920.75;405139.5312;33...   \n",
       "\n",
       "                                  Fragment.Correlations  MS2.Scan  \\\n",
       "3223  0.9810045362;0.9921962619;0.99086833;0.9867872...     55826   \n",
       "3224  0.968488276;0.9854635;0.9848174453;0.977160751...     55842   \n",
       "\n",
       "     Precursor.Mz                                      Fragment.Info  \\\n",
       "3223   642.329529  y8^1/966.4789429;y5^1/591.2994995;y6^1/704.383...   \n",
       "3224   642.329529  y8^1/966.4789429;y5^1/591.2994995;y6^1/704.383...   \n",
       "\n",
       "     Lib.Index        IM   iIM  Predicted.IM  Predicted.iIM  \n",
       "3223      4544  0.979896  0.98      0.980046       0.979830  \n",
       "3224      4544  0.980000  0.98      0.979880       0.980045  \n",
       "\n",
       "[2 rows x 60 columns]"
      ]
     },
     "execution_count": 5,
     "metadata": {},
     "output_type": "execute_result"
    }
   ],
   "source": [
    "rslts_target_pep"
   ]
  },
  {
   "cell_type": "markdown",
   "id": "05aebb9f-e86c-46d4-a4f1-bd34caafdac7",
   "metadata": {},
   "source": [
    "Now the result file can be exported. "
   ]
  },
  {
   "cell_type": "code",
   "execution_count": 6,
   "id": "7fd59c45-e16c-4964-b641-8e10d98aba79",
   "metadata": {},
   "outputs": [],
   "source": [
    "rslts_target_pep.to_csv(\"ionMobilityTest-diannReport.tsv\", sep='\\t', index=False)"
   ]
  }
 ],
 "metadata": {
  "kernelspec": {
   "display_name": "Python 3 (ipykernel)",
   "language": "python",
   "name": "python3"
  },
  "language_info": {
   "codemirror_mode": {
    "name": "ipython",
    "version": 3
   },
   "file_extension": ".py",
   "mimetype": "text/x-python",
   "name": "python",
   "nbconvert_exporter": "python",
   "pygments_lexer": "ipython3",
   "version": "3.11.1"
  }
 },
 "nbformat": 4,
 "nbformat_minor": 5
}
