{
 "cells": [
  {
   "cell_type": "markdown",
   "id": "85f14f36-dd4d-43a6-bf8b-171226b323d0",
   "metadata": {},
   "source": [
    "## **Create-Target-Library**"
   ]
  },
  {
   "cell_type": "markdown",
   "id": "1ffc9726-4c56-41f1-af34-ce00afeeabd6",
   "metadata": {},
   "source": [
    "FIlter the target library to precursor `AFVDFLSDEIK2`"
   ]
  },
  {
   "cell_type": "code",
   "execution_count": 1,
   "id": "95353aa8-7da9-4c75-a8a5-7b1b49d0129d",
   "metadata": {},
   "outputs": [],
   "source": [
    "import polars as pl"
   ]
  },
  {
   "cell_type": "code",
   "execution_count": 2,
   "id": "34e478f0-755f-4191-842e-50c586775d86",
   "metadata": {},
   "outputs": [],
   "source": [
    "lib = pl.scan_csv(\"190513_hela_24fr_library_ptypic_decoy.tsv\", sep='\\t')"
   ]
  },
  {
   "cell_type": "code",
   "execution_count": 3,
   "id": "dd7eba23-340c-464d-bacc-9398f1b07760",
   "metadata": {},
   "outputs": [],
   "source": [
    "libOut = lib.filter(pl.col('Decoy') == 0).filter(pl.col('ModifiedPeptideSequence') == 'AFVDFLSDEIK').filter(pl.col('PrecursorCharge') == 2).collect().to_pandas()"
   ]
  },
  {
   "cell_type": "code",
   "execution_count": 4,
   "id": "5fa8af67-b1dc-41a4-9d3a-fc34c67b393f",
   "metadata": {},
   "outputs": [],
   "source": [
    "libOut.to_csv(\"ionMobilityTestLibrary.tsv\", sep='\\t', index=False)"
   ]
  }
 ],
 "metadata": {
  "kernelspec": {
   "display_name": "Python 3 (ipykernel)",
   "language": "python",
   "name": "python3"
  },
  "language_info": {
   "codemirror_mode": {
    "name": "ipython",
    "version": 3
   },
   "file_extension": ".py",
   "mimetype": "text/x-python",
   "name": "python",
   "nbconvert_exporter": "python",
   "pygments_lexer": "ipython3",
   "version": "3.11.1"
  }
 },
 "nbformat": 4,
 "nbformat_minor": 5
}
