{
 "cells": [
  {
   "cell_type": "markdown",
   "id": "936d222b-1569-4aac-9059-90144808a23f",
   "metadata": {},
   "source": [
    "## **Create `.osw` file**"
   ]
  },
  {
   "cell_type": "markdown",
   "id": "c2fc55fd-61f2-486d-a854-3c0d62604f32",
   "metadata": {},
   "source": [
    "Create a .osw file with the target peptide `AFVDFLSDEIK2`. This is done by converting the `.tsv` file with PXD017703 to a dummy `.osw` file. "
   ]
  },
  {
   "cell_type": "code",
   "execution_count": 1,
   "id": "b354168c-c717-47e1-b9d1-6708d7a5107e",
   "metadata": {},
   "outputs": [],
   "source": [
    "import pandas as pd\n",
    "import numpy as np\n",
    "import sqlite3\n",
    "import shutil\n",
    "import requests"
   ]
  },
  {
   "cell_type": "markdown",
   "id": "de74212f-b120-41e9-a8fa-903f1afe9d1e",
   "metadata": {},
   "source": [
    "#### **Fetch Data**"
   ]
  },
  {
   "cell_type": "markdown",
   "id": "a54ad26c-9631-4ead-bc7b-352245844949",
   "metadata": {},
   "source": [
    "Data is fetched using the `fetchData.sh` script"
   ]
  },
  {
   "cell_type": "code",
   "execution_count": 2,
   "id": "5b6203d1-1bd1-45a6-bcaa-e74b880c4a3e",
   "metadata": {},
   "outputs": [
    {
     "data": {
      "text/plain": [
       "'ionMobilityTest.osw'"
      ]
     },
     "execution_count": 2,
     "metadata": {},
     "output_type": "execute_result"
    }
   ],
   "source": [
    "# Copy the library to a new file, this will be what create the .osw file from\n",
    "shutil.copy(\"190513_hela_24fr_library_ptypic_decoy.pqp\", 'ionMobilityTest.osw')"
   ]
  },
  {
   "cell_type": "code",
   "execution_count": 3,
   "id": "c887fbd1-4bd1-4c2d-b76e-7a7a59659fd7",
   "metadata": {},
   "outputs": [],
   "source": [
    "conn = sqlite3.connect(\"ionMobilityTest.osw\")"
   ]
  },
  {
   "cell_type": "code",
   "execution_count": 4,
   "id": "2b0222f2-7709-4695-bce9-519ef71f3f74",
   "metadata": {},
   "outputs": [],
   "source": [
    "rslts = pd.read_csv(\"pyprophet_export_25pc_50ng.tsv\", sep='\\t')"
   ]
  },
  {
   "cell_type": "code",
   "execution_count": 5,
   "id": "288dfcc9-2e40-49b4-a935-0e5a82261ac7",
   "metadata": {},
   "outputs": [],
   "source": [
    "rslts = rslts[(rslts['FullPeptideName'] == 'AFVDFLSDEIK') & (rslts['Charge'] == 2)].copy()"
   ]
  },
  {
   "cell_type": "code",
   "execution_count": 6,
   "id": "82cdda20-8615-416f-a8a5-49ef444929e7",
   "metadata": {},
   "outputs": [
    {
     "data": {
      "text/html": [
       "<div>\n",
       "<style scoped>\n",
       "    .dataframe tbody tr th:only-of-type {\n",
       "        vertical-align: middle;\n",
       "    }\n",
       "\n",
       "    .dataframe tbody tr th {\n",
       "        vertical-align: top;\n",
       "    }\n",
       "\n",
       "    .dataframe thead th {\n",
       "        text-align: right;\n",
       "    }\n",
       "</style>\n",
       "<table border=\"1\" class=\"dataframe\">\n",
       "  <thead>\n",
       "    <tr style=\"text-align: right;\">\n",
       "      <th></th>\n",
       "      <th>transition_group_id</th>\n",
       "      <th>decoy</th>\n",
       "      <th>run_id</th>\n",
       "      <th>filename</th>\n",
       "      <th>IM</th>\n",
       "      <th>IM_MS1</th>\n",
       "      <th>RT</th>\n",
       "      <th>assay_rt</th>\n",
       "      <th>delta_rt</th>\n",
       "      <th>iRT</th>\n",
       "      <th>...</th>\n",
       "      <th>var_ms2_elution_model_fit_score</th>\n",
       "      <th>var_ms2_im_xcorr_shape</th>\n",
       "      <th>var_ms2_im_xcorr_coelution</th>\n",
       "      <th>var_ms2_im_delta_score</th>\n",
       "      <th>var_ms2_sonar_lag</th>\n",
       "      <th>var_ms2_sonar_shape</th>\n",
       "      <th>var_ms2_sonar_log_sn</th>\n",
       "      <th>var_ms2_sonar_log_diff</th>\n",
       "      <th>var_ms2_sonar_log_trend</th>\n",
       "      <th>var_ms2_sonar_rsq</th>\n",
       "    </tr>\n",
       "  </thead>\n",
       "  <tbody>\n",
       "    <tr>\n",
       "      <th>19871</th>\n",
       "      <td>33018</td>\n",
       "      <td>0</td>\n",
       "      <td>5656776311985213027</td>\n",
       "      <td>20190816_TIMS05_MA_FlMe_diaPASEF_25pc_50ng_A2_...</td>\n",
       "      <td>0.979779</td>\n",
       "      <td>0.980456</td>\n",
       "      <td>6240.41</td>\n",
       "      <td>6240.400747</td>\n",
       "      <td>0.009253</td>\n",
       "      <td>66.989397</td>\n",
       "      <td>...</td>\n",
       "      <td>NaN</td>\n",
       "      <td>0.968553</td>\n",
       "      <td>1.396681</td>\n",
       "      <td>0.001254</td>\n",
       "      <td>NaN</td>\n",
       "      <td>NaN</td>\n",
       "      <td>NaN</td>\n",
       "      <td>NaN</td>\n",
       "      <td>NaN</td>\n",
       "      <td>NaN</td>\n",
       "    </tr>\n",
       "    <tr>\n",
       "      <th>19872</th>\n",
       "      <td>33018</td>\n",
       "      <td>0</td>\n",
       "      <td>5656776311985213027</td>\n",
       "      <td>20190816_TIMS05_MA_FlMe_diaPASEF_25pc_50ng_A2_...</td>\n",
       "      <td>0.979454</td>\n",
       "      <td>0.979969</td>\n",
       "      <td>6261.07</td>\n",
       "      <td>6240.405881</td>\n",
       "      <td>20.664119</td>\n",
       "      <td>68.841634</td>\n",
       "      <td>...</td>\n",
       "      <td>NaN</td>\n",
       "      <td>0.614877</td>\n",
       "      <td>9.156187</td>\n",
       "      <td>0.003512</td>\n",
       "      <td>NaN</td>\n",
       "      <td>NaN</td>\n",
       "      <td>NaN</td>\n",
       "      <td>NaN</td>\n",
       "      <td>NaN</td>\n",
       "      <td>NaN</td>\n",
       "    </tr>\n",
       "    <tr>\n",
       "      <th>19873</th>\n",
       "      <td>33018</td>\n",
       "      <td>0</td>\n",
       "      <td>5656776311985213027</td>\n",
       "      <td>20190816_TIMS05_MA_FlMe_diaPASEF_25pc_50ng_A2_...</td>\n",
       "      <td>0.975373</td>\n",
       "      <td>0.977215</td>\n",
       "      <td>6271.32</td>\n",
       "      <td>6240.405027</td>\n",
       "      <td>30.914973</td>\n",
       "      <td>69.760885</td>\n",
       "      <td>...</td>\n",
       "      <td>NaN</td>\n",
       "      <td>0.605793</td>\n",
       "      <td>7.177857</td>\n",
       "      <td>0.003481</td>\n",
       "      <td>NaN</td>\n",
       "      <td>NaN</td>\n",
       "      <td>NaN</td>\n",
       "      <td>NaN</td>\n",
       "      <td>NaN</td>\n",
       "      <td>NaN</td>\n",
       "    </tr>\n",
       "    <tr>\n",
       "      <th>19874</th>\n",
       "      <td>33018</td>\n",
       "      <td>0</td>\n",
       "      <td>2870707016753918864</td>\n",
       "      <td>20190816_TIMS05_MA_FlMe_diaPASEF_25pc_50ng_A2_...</td>\n",
       "      <td>0.978579</td>\n",
       "      <td>0.979768</td>\n",
       "      <td>6242.15</td>\n",
       "      <td>6242.145214</td>\n",
       "      <td>0.004786</td>\n",
       "      <td>63.637029</td>\n",
       "      <td>...</td>\n",
       "      <td>NaN</td>\n",
       "      <td>0.975977</td>\n",
       "      <td>1.155826</td>\n",
       "      <td>0.001074</td>\n",
       "      <td>NaN</td>\n",
       "      <td>NaN</td>\n",
       "      <td>NaN</td>\n",
       "      <td>NaN</td>\n",
       "      <td>NaN</td>\n",
       "      <td>NaN</td>\n",
       "    </tr>\n",
       "    <tr>\n",
       "      <th>19875</th>\n",
       "      <td>33018</td>\n",
       "      <td>0</td>\n",
       "      <td>2870707016753918864</td>\n",
       "      <td>20190816_TIMS05_MA_FlMe_diaPASEF_25pc_50ng_A2_...</td>\n",
       "      <td>0.981811</td>\n",
       "      <td>0.982960</td>\n",
       "      <td>6256.67</td>\n",
       "      <td>6242.142411</td>\n",
       "      <td>14.527589</td>\n",
       "      <td>63.872895</td>\n",
       "      <td>...</td>\n",
       "      <td>NaN</td>\n",
       "      <td>0.696450</td>\n",
       "      <td>4.527548</td>\n",
       "      <td>0.003774</td>\n",
       "      <td>NaN</td>\n",
       "      <td>NaN</td>\n",
       "      <td>NaN</td>\n",
       "      <td>NaN</td>\n",
       "      <td>NaN</td>\n",
       "      <td>NaN</td>\n",
       "    </tr>\n",
       "    <tr>\n",
       "      <th>19876</th>\n",
       "      <td>33018</td>\n",
       "      <td>0</td>\n",
       "      <td>295227301306857</td>\n",
       "      <td>20190816_TIMS05_MA_FlMe_diaPASEF_25pc_50ng_A2_...</td>\n",
       "      <td>0.980773</td>\n",
       "      <td>0.981425</td>\n",
       "      <td>6244.37</td>\n",
       "      <td>6244.379389</td>\n",
       "      <td>-0.009389</td>\n",
       "      <td>63.694808</td>\n",
       "      <td>...</td>\n",
       "      <td>NaN</td>\n",
       "      <td>0.974809</td>\n",
       "      <td>1.026186</td>\n",
       "      <td>0.003413</td>\n",
       "      <td>NaN</td>\n",
       "      <td>NaN</td>\n",
       "      <td>NaN</td>\n",
       "      <td>NaN</td>\n",
       "      <td>NaN</td>\n",
       "      <td>NaN</td>\n",
       "    </tr>\n",
       "    <tr>\n",
       "      <th>19877</th>\n",
       "      <td>33018</td>\n",
       "      <td>0</td>\n",
       "      <td>295227301306857</td>\n",
       "      <td>20190816_TIMS05_MA_FlMe_diaPASEF_25pc_50ng_A2_...</td>\n",
       "      <td>0.983123</td>\n",
       "      <td>0.986551</td>\n",
       "      <td>6258.42</td>\n",
       "      <td>6244.379603</td>\n",
       "      <td>14.040397</td>\n",
       "      <td>63.961188</td>\n",
       "      <td>...</td>\n",
       "      <td>NaN</td>\n",
       "      <td>0.687260</td>\n",
       "      <td>2.956088</td>\n",
       "      <td>0.005763</td>\n",
       "      <td>NaN</td>\n",
       "      <td>NaN</td>\n",
       "      <td>NaN</td>\n",
       "      <td>NaN</td>\n",
       "      <td>NaN</td>\n",
       "      <td>NaN</td>\n",
       "    </tr>\n",
       "  </tbody>\n",
       "</table>\n",
       "<p>7 rows × 82 columns</p>\n",
       "</div>"
      ],
      "text/plain": [
       "       transition_group_id  decoy               run_id  \\\n",
       "19871                33018      0  5656776311985213027   \n",
       "19872                33018      0  5656776311985213027   \n",
       "19873                33018      0  5656776311985213027   \n",
       "19874                33018      0  2870707016753918864   \n",
       "19875                33018      0  2870707016753918864   \n",
       "19876                33018      0      295227301306857   \n",
       "19877                33018      0      295227301306857   \n",
       "\n",
       "                                                filename        IM    IM_MS1  \\\n",
       "19871  20190816_TIMS05_MA_FlMe_diaPASEF_25pc_50ng_A2_...  0.979779  0.980456   \n",
       "19872  20190816_TIMS05_MA_FlMe_diaPASEF_25pc_50ng_A2_...  0.979454  0.979969   \n",
       "19873  20190816_TIMS05_MA_FlMe_diaPASEF_25pc_50ng_A2_...  0.975373  0.977215   \n",
       "19874  20190816_TIMS05_MA_FlMe_diaPASEF_25pc_50ng_A2_...  0.978579  0.979768   \n",
       "19875  20190816_TIMS05_MA_FlMe_diaPASEF_25pc_50ng_A2_...  0.981811  0.982960   \n",
       "19876  20190816_TIMS05_MA_FlMe_diaPASEF_25pc_50ng_A2_...  0.980773  0.981425   \n",
       "19877  20190816_TIMS05_MA_FlMe_diaPASEF_25pc_50ng_A2_...  0.983123  0.986551   \n",
       "\n",
       "            RT     assay_rt   delta_rt        iRT  ...  \\\n",
       "19871  6240.41  6240.400747   0.009253  66.989397  ...   \n",
       "19872  6261.07  6240.405881  20.664119  68.841634  ...   \n",
       "19873  6271.32  6240.405027  30.914973  69.760885  ...   \n",
       "19874  6242.15  6242.145214   0.004786  63.637029  ...   \n",
       "19875  6256.67  6242.142411  14.527589  63.872895  ...   \n",
       "19876  6244.37  6244.379389  -0.009389  63.694808  ...   \n",
       "19877  6258.42  6244.379603  14.040397  63.961188  ...   \n",
       "\n",
       "       var_ms2_elution_model_fit_score  var_ms2_im_xcorr_shape  \\\n",
       "19871                              NaN                0.968553   \n",
       "19872                              NaN                0.614877   \n",
       "19873                              NaN                0.605793   \n",
       "19874                              NaN                0.975977   \n",
       "19875                              NaN                0.696450   \n",
       "19876                              NaN                0.974809   \n",
       "19877                              NaN                0.687260   \n",
       "\n",
       "       var_ms2_im_xcorr_coelution  var_ms2_im_delta_score  var_ms2_sonar_lag  \\\n",
       "19871                    1.396681                0.001254                NaN   \n",
       "19872                    9.156187                0.003512                NaN   \n",
       "19873                    7.177857                0.003481                NaN   \n",
       "19874                    1.155826                0.001074                NaN   \n",
       "19875                    4.527548                0.003774                NaN   \n",
       "19876                    1.026186                0.003413                NaN   \n",
       "19877                    2.956088                0.005763                NaN   \n",
       "\n",
       "      var_ms2_sonar_shape var_ms2_sonar_log_sn  var_ms2_sonar_log_diff  \\\n",
       "19871                 NaN                  NaN                     NaN   \n",
       "19872                 NaN                  NaN                     NaN   \n",
       "19873                 NaN                  NaN                     NaN   \n",
       "19874                 NaN                  NaN                     NaN   \n",
       "19875                 NaN                  NaN                     NaN   \n",
       "19876                 NaN                  NaN                     NaN   \n",
       "19877                 NaN                  NaN                     NaN   \n",
       "\n",
       "       var_ms2_sonar_log_trend  var_ms2_sonar_rsq  \n",
       "19871                      NaN                NaN  \n",
       "19872                      NaN                NaN  \n",
       "19873                      NaN                NaN  \n",
       "19874                      NaN                NaN  \n",
       "19875                      NaN                NaN  \n",
       "19876                      NaN                NaN  \n",
       "19877                      NaN                NaN  \n",
       "\n",
       "[7 rows x 82 columns]"
      ]
     },
     "execution_count": 6,
     "metadata": {},
     "output_type": "execute_result"
    }
   ],
   "source": [
    "rslts"
   ]
  },
  {
   "cell_type": "markdown",
   "id": "b1d2b273-17f4-4d99-910e-64e7eaf32177",
   "metadata": {},
   "source": [
    "#### **Feature Table**"
   ]
  },
  {
   "cell_type": "code",
   "execution_count": 7,
   "id": "f0521b6a-d96f-4c19-b3d5-be046f011bb7",
   "metadata": {},
   "outputs": [],
   "source": [
    "# create feature table\n",
    "feature = rslts[['id', 'transition_group_id', 'run_id', 'assay_rt', 'delta_rt', 'assay_iRT', 'delta_iRT', 'leftWidth', 'rightWidth', 'IM']].copy()"
   ]
  },
  {
   "cell_type": "code",
   "execution_count": 8,
   "id": "dd5c9506-66ea-4896-85e9-ef58c4ba6ef0",
   "metadata": {},
   "outputs": [],
   "source": [
    "feature['EXP_RT'] = feature['assay_rt'] + feature['delta_rt']\n",
    "feature['NORM_RT'] = feature['assay_iRT'] + feature['delta_iRT']\n",
    "feature = feature.rename(columns=dict(id='ID', run_id='RUN_ID', transition_group_id='PRECURSOR_ID', leftWidth='LEFT_WIDTH', rightWidth='RIGHT_WIDTH', IM='EXP_IM', delta_rt='DELTA_RT')).drop(columns=['assay_rt', 'assay_iRT', 'delta_iRT'])"
   ]
  },
  {
   "cell_type": "code",
   "execution_count": 9,
   "id": "b7c872a4-9c20-46a0-99eb-313b68847aa7",
   "metadata": {},
   "outputs": [
    {
     "data": {
      "text/plain": [
       "7"
      ]
     },
     "execution_count": 9,
     "metadata": {},
     "output_type": "execute_result"
    }
   ],
   "source": [
    "feature.to_sql('FEATURE', conn, index=False)"
   ]
  },
  {
   "cell_type": "markdown",
   "id": "52d9083d-845b-4499-a811-b2033a2d9479",
   "metadata": {},
   "source": [
    "---"
   ]
  },
  {
   "cell_type": "markdown",
   "id": "634cc70b-9d0e-4060-84a8-e75bdd94412a",
   "metadata": {},
   "source": [
    "#### **Feature MS2 - Exclude Scores**"
   ]
  },
  {
   "cell_type": "code",
   "execution_count": 10,
   "id": "93ac3136-d701-4284-9b29-5fb2eace6db8",
   "metadata": {},
   "outputs": [],
   "source": [
    "feature_ms2 = rslts[['id', 'Intensity', 'aggr_Peak_Apex']].copy()\n",
    "feature_ms2['aggr_Peak_Apex'] = feature_ms2['aggr_Peak_Apex'].apply(lambda x: max([ float(i) for i in x.split(';') ]))\n",
    "feature_ms2 = feature_ms2.rename(columns = dict(id='FEATURE_ID', Intensity='AREA_INTENSITY', aggr_Peak_Apex='APEX_INTENSITY'))"
   ]
  },
  {
   "cell_type": "code",
   "execution_count": 11,
   "id": "ee345c77-8baa-41c1-abc6-03abff4761c3",
   "metadata": {},
   "outputs": [
    {
     "data": {
      "text/plain": [
       "7"
      ]
     },
     "execution_count": 11,
     "metadata": {},
     "output_type": "execute_result"
    }
   ],
   "source": [
    "feature_ms2.to_sql(\"FEATURE_MS2\", conn, index=False)"
   ]
  },
  {
   "cell_type": "markdown",
   "id": "2a509cd6-30d3-4ca1-bcf7-e2cef1f7c81d",
   "metadata": {},
   "source": [
    "#### **FEATUE MS1 - Exclude Scores**"
   ]
  },
  {
   "cell_type": "code",
   "execution_count": 12,
   "id": "2359295c-72f2-41c4-881e-365e4153b133",
   "metadata": {},
   "outputs": [],
   "source": [
    "feature_ms1 = rslts[['id', 'aggr_prec_Peak_Apex', 'aggr_prec_Peak_Area']].copy()\n",
    "feature_ms1 = feature_ms1.rename(columns = dict(id='FEATURE_ID', aggr_prec_Peak_Area='AREA_INTENSITY', aggr_prec_Peak_Apex='APEX_INTENSITY'))"
   ]
  },
  {
   "cell_type": "code",
   "execution_count": 13,
   "id": "564da8da-4386-4371-a2f7-ee2edca80345",
   "metadata": {},
   "outputs": [
    {
     "data": {
      "text/plain": [
       "7"
      ]
     },
     "execution_count": 13,
     "metadata": {},
     "output_type": "execute_result"
    }
   ],
   "source": [
    "feature_ms1.to_sql(\"FEATURE_MS1\", conn, index=False)"
   ]
  },
  {
   "cell_type": "markdown",
   "id": "41e5f025-6da7-4ee6-ab52-055a28f1c154",
   "metadata": {},
   "source": [
    "#### **Feature Transition**"
   ]
  },
  {
   "cell_type": "code",
   "execution_count": 14,
   "id": "d6698fb7-bec6-4f72-a3aa-be4f91ae4a29",
   "metadata": {},
   "outputs": [],
   "source": [
    "feature_transition = rslts[['id', 'aggr_Peak_Area', 'aggr_Peak_Apex', 'aggr_Fragment_Annotation']].drop_duplicates().copy()\n",
    "\n",
    "feature_transition = feature_transition.set_index(['id']).apply(lambda x: x.str.split(';').explode()).reset_index()\n",
    "feature_transition['TRANSITION_ID'] = feature_transition['aggr_Fragment_Annotation'].str.extract(r'(\\d*)').astype(int)\n",
    "\n",
    "feature_transition = feature_transition.rename(\n",
    "    dict(id='FEATURE_ID', aggr_Peak_Area='AREA_INTENSITY', aggr_Peak_Apex='APEX_INTENSITY'), axis=1).drop(columns='aggr_Fragment_Annotation')"
   ]
  },
  {
   "cell_type": "code",
   "execution_count": 15,
   "id": "cf6d8a82-0727-4a00-b4f4-1116928dfcac",
   "metadata": {},
   "outputs": [
    {
     "data": {
      "text/html": [
       "<div>\n",
       "<style scoped>\n",
       "    .dataframe tbody tr th:only-of-type {\n",
       "        vertical-align: middle;\n",
       "    }\n",
       "\n",
       "    .dataframe tbody tr th {\n",
       "        vertical-align: top;\n",
       "    }\n",
       "\n",
       "    .dataframe thead th {\n",
       "        text-align: right;\n",
       "    }\n",
       "</style>\n",
       "<table border=\"1\" class=\"dataframe\">\n",
       "  <thead>\n",
       "    <tr style=\"text-align: right;\">\n",
       "      <th></th>\n",
       "      <th>FEATURE_ID</th>\n",
       "      <th>AREA_INTENSITY</th>\n",
       "      <th>APEX_INTENSITY</th>\n",
       "      <th>TRANSITION_ID</th>\n",
       "    </tr>\n",
       "  </thead>\n",
       "  <tbody>\n",
       "    <tr>\n",
       "      <th>0</th>\n",
       "      <td>-8695081159217853818</td>\n",
       "      <td>138434.0</td>\n",
       "      <td>50509.3248023987</td>\n",
       "      <td>228216</td>\n",
       "    </tr>\n",
       "    <tr>\n",
       "      <th>1</th>\n",
       "      <td>-8695081159217853818</td>\n",
       "      <td>755923.0</td>\n",
       "      <td>279267.348846436</td>\n",
       "      <td>228217</td>\n",
       "    </tr>\n",
       "    <tr>\n",
       "      <th>2</th>\n",
       "      <td>-8695081159217853818</td>\n",
       "      <td>642517.0</td>\n",
       "      <td>237738.337417603</td>\n",
       "      <td>228218</td>\n",
       "    </tr>\n",
       "    <tr>\n",
       "      <th>3</th>\n",
       "      <td>-8695081159217853818</td>\n",
       "      <td>606450.0</td>\n",
       "      <td>233409.041866302</td>\n",
       "      <td>228219</td>\n",
       "    </tr>\n",
       "    <tr>\n",
       "      <th>4</th>\n",
       "      <td>-8695081159217853818</td>\n",
       "      <td>1190100.0</td>\n",
       "      <td>477323.231594086</td>\n",
       "      <td>228220</td>\n",
       "    </tr>\n",
       "    <tr>\n",
       "      <th>5</th>\n",
       "      <td>-8695081159217853818</td>\n",
       "      <td>512767.0</td>\n",
       "      <td>201583.622556686</td>\n",
       "      <td>228221</td>\n",
       "    </tr>\n",
       "    <tr>\n",
       "      <th>6</th>\n",
       "      <td>3856844824901256445</td>\n",
       "      <td>1889.04</td>\n",
       "      <td>893.01416015625</td>\n",
       "      <td>228216</td>\n",
       "    </tr>\n",
       "    <tr>\n",
       "      <th>7</th>\n",
       "      <td>3856844824901256445</td>\n",
       "      <td>9482.97</td>\n",
       "      <td>2838.98555755615</td>\n",
       "      <td>228217</td>\n",
       "    </tr>\n",
       "    <tr>\n",
       "      <th>8</th>\n",
       "      <td>3856844824901256445</td>\n",
       "      <td>5687.99</td>\n",
       "      <td>1910.01319885254</td>\n",
       "      <td>228218</td>\n",
       "    </tr>\n",
       "    <tr>\n",
       "      <th>9</th>\n",
       "      <td>3856844824901256445</td>\n",
       "      <td>6293.98</td>\n",
       "      <td>1784.9877166748</td>\n",
       "      <td>228219</td>\n",
       "    </tr>\n",
       "    <tr>\n",
       "      <th>10</th>\n",
       "      <td>3856844824901256445</td>\n",
       "      <td>8383.0</td>\n",
       "      <td>2640.01487541199</td>\n",
       "      <td>228220</td>\n",
       "    </tr>\n",
       "    <tr>\n",
       "      <th>11</th>\n",
       "      <td>3856844824901256445</td>\n",
       "      <td>4771.98</td>\n",
       "      <td>1663.00096130371</td>\n",
       "      <td>228221</td>\n",
       "    </tr>\n",
       "    <tr>\n",
       "      <th>12</th>\n",
       "      <td>-7511058219376514442</td>\n",
       "      <td>2829.0</td>\n",
       "      <td>494.012329101562</td>\n",
       "      <td>228216</td>\n",
       "    </tr>\n",
       "    <tr>\n",
       "      <th>13</th>\n",
       "      <td>-7511058219376514442</td>\n",
       "      <td>8856.97</td>\n",
       "      <td>1950.00074768066</td>\n",
       "      <td>228217</td>\n",
       "    </tr>\n",
       "    <tr>\n",
       "      <th>14</th>\n",
       "      <td>-7511058219376514442</td>\n",
       "      <td>6417.96</td>\n",
       "      <td>1776.0170917511</td>\n",
       "      <td>228218</td>\n",
       "    </tr>\n",
       "    <tr>\n",
       "      <th>15</th>\n",
       "      <td>-7511058219376514442</td>\n",
       "      <td>4733.01</td>\n",
       "      <td>1035.01356887817</td>\n",
       "      <td>228219</td>\n",
       "    </tr>\n",
       "    <tr>\n",
       "      <th>16</th>\n",
       "      <td>-7511058219376514442</td>\n",
       "      <td>9627.0</td>\n",
       "      <td>2515.96932983398</td>\n",
       "      <td>228220</td>\n",
       "    </tr>\n",
       "    <tr>\n",
       "      <th>17</th>\n",
       "      <td>-7511058219376514442</td>\n",
       "      <td>3958.98</td>\n",
       "      <td>872.01501083374</td>\n",
       "      <td>228221</td>\n",
       "    </tr>\n",
       "    <tr>\n",
       "      <th>18</th>\n",
       "      <td>-4054571632749145316</td>\n",
       "      <td>143396.0</td>\n",
       "      <td>52937.8216514587</td>\n",
       "      <td>228216</td>\n",
       "    </tr>\n",
       "    <tr>\n",
       "      <th>19</th>\n",
       "      <td>-4054571632749145316</td>\n",
       "      <td>565538.0</td>\n",
       "      <td>218411.584991455</td>\n",
       "      <td>228217</td>\n",
       "    </tr>\n",
       "    <tr>\n",
       "      <th>20</th>\n",
       "      <td>-4054571632749145316</td>\n",
       "      <td>473756.0</td>\n",
       "      <td>184811.419876099</td>\n",
       "      <td>228218</td>\n",
       "    </tr>\n",
       "    <tr>\n",
       "      <th>21</th>\n",
       "      <td>-4054571632749145316</td>\n",
       "      <td>429874.0</td>\n",
       "      <td>172318.603553772</td>\n",
       "      <td>228219</td>\n",
       "    </tr>\n",
       "    <tr>\n",
       "      <th>22</th>\n",
       "      <td>-4054571632749145316</td>\n",
       "      <td>861214.0</td>\n",
       "      <td>352642.16135025</td>\n",
       "      <td>228220</td>\n",
       "    </tr>\n",
       "    <tr>\n",
       "      <th>23</th>\n",
       "      <td>-4054571632749145316</td>\n",
       "      <td>374413.0</td>\n",
       "      <td>152462.522346497</td>\n",
       "      <td>228221</td>\n",
       "    </tr>\n",
       "    <tr>\n",
       "      <th>24</th>\n",
       "      <td>8869432762985074175</td>\n",
       "      <td>2315.98</td>\n",
       "      <td>660.991634368896</td>\n",
       "      <td>228216</td>\n",
       "    </tr>\n",
       "    <tr>\n",
       "      <th>25</th>\n",
       "      <td>8869432762985074175</td>\n",
       "      <td>8027.95</td>\n",
       "      <td>1877.98918914795</td>\n",
       "      <td>228217</td>\n",
       "    </tr>\n",
       "    <tr>\n",
       "      <th>26</th>\n",
       "      <td>8869432762985074175</td>\n",
       "      <td>6541.95</td>\n",
       "      <td>1671.97065925598</td>\n",
       "      <td>228218</td>\n",
       "    </tr>\n",
       "    <tr>\n",
       "      <th>27</th>\n",
       "      <td>8869432762985074175</td>\n",
       "      <td>5399.01</td>\n",
       "      <td>1132.00201892853</td>\n",
       "      <td>228219</td>\n",
       "    </tr>\n",
       "    <tr>\n",
       "      <th>28</th>\n",
       "      <td>8869432762985074175</td>\n",
       "      <td>9799.01</td>\n",
       "      <td>2888.98703575134</td>\n",
       "      <td>228220</td>\n",
       "    </tr>\n",
       "    <tr>\n",
       "      <th>29</th>\n",
       "      <td>8869432762985074175</td>\n",
       "      <td>3350.03</td>\n",
       "      <td>906.01537322998</td>\n",
       "      <td>228221</td>\n",
       "    </tr>\n",
       "    <tr>\n",
       "      <th>30</th>\n",
       "      <td>5639426310684338968</td>\n",
       "      <td>141738.0</td>\n",
       "      <td>57085.7945251465</td>\n",
       "      <td>228216</td>\n",
       "    </tr>\n",
       "    <tr>\n",
       "      <th>31</th>\n",
       "      <td>5639426310684338968</td>\n",
       "      <td>596579.0</td>\n",
       "      <td>245201.294147491</td>\n",
       "      <td>228217</td>\n",
       "    </tr>\n",
       "    <tr>\n",
       "      <th>32</th>\n",
       "      <td>5639426310684338968</td>\n",
       "      <td>483936.0</td>\n",
       "      <td>199608.419403076</td>\n",
       "      <td>228218</td>\n",
       "    </tr>\n",
       "    <tr>\n",
       "      <th>33</th>\n",
       "      <td>5639426310684338968</td>\n",
       "      <td>459104.0</td>\n",
       "      <td>204763.899280548</td>\n",
       "      <td>228219</td>\n",
       "    </tr>\n",
       "    <tr>\n",
       "      <th>34</th>\n",
       "      <td>5639426310684338968</td>\n",
       "      <td>901238.0</td>\n",
       "      <td>411685.494031906</td>\n",
       "      <td>228220</td>\n",
       "    </tr>\n",
       "    <tr>\n",
       "      <th>35</th>\n",
       "      <td>5639426310684338968</td>\n",
       "      <td>395306.0</td>\n",
       "      <td>175911.34236145</td>\n",
       "      <td>228221</td>\n",
       "    </tr>\n",
       "    <tr>\n",
       "      <th>36</th>\n",
       "      <td>-9192190425556639132</td>\n",
       "      <td>5309.03</td>\n",
       "      <td>1388.00771713257</td>\n",
       "      <td>228216</td>\n",
       "    </tr>\n",
       "    <tr>\n",
       "      <th>37</th>\n",
       "      <td>-9192190425556639132</td>\n",
       "      <td>18944.0</td>\n",
       "      <td>2825.99628448486</td>\n",
       "      <td>228217</td>\n",
       "    </tr>\n",
       "    <tr>\n",
       "      <th>38</th>\n",
       "      <td>-9192190425556639132</td>\n",
       "      <td>14625.1</td>\n",
       "      <td>2306.03861999512</td>\n",
       "      <td>228218</td>\n",
       "    </tr>\n",
       "    <tr>\n",
       "      <th>39</th>\n",
       "      <td>-9192190425556639132</td>\n",
       "      <td>12783.0</td>\n",
       "      <td>1729.02198410034</td>\n",
       "      <td>228219</td>\n",
       "    </tr>\n",
       "    <tr>\n",
       "      <th>40</th>\n",
       "      <td>-9192190425556639132</td>\n",
       "      <td>20645.0</td>\n",
       "      <td>3802.01678371429</td>\n",
       "      <td>228220</td>\n",
       "    </tr>\n",
       "    <tr>\n",
       "      <th>41</th>\n",
       "      <td>-9192190425556639132</td>\n",
       "      <td>9560.06</td>\n",
       "      <td>1252.99118804932</td>\n",
       "      <td>228221</td>\n",
       "    </tr>\n",
       "  </tbody>\n",
       "</table>\n",
       "</div>"
      ],
      "text/plain": [
       "             FEATURE_ID AREA_INTENSITY    APEX_INTENSITY  TRANSITION_ID\n",
       "0  -8695081159217853818       138434.0  50509.3248023987         228216\n",
       "1  -8695081159217853818       755923.0  279267.348846436         228217\n",
       "2  -8695081159217853818       642517.0  237738.337417603         228218\n",
       "3  -8695081159217853818       606450.0  233409.041866302         228219\n",
       "4  -8695081159217853818      1190100.0  477323.231594086         228220\n",
       "5  -8695081159217853818       512767.0  201583.622556686         228221\n",
       "6   3856844824901256445        1889.04   893.01416015625         228216\n",
       "7   3856844824901256445        9482.97  2838.98555755615         228217\n",
       "8   3856844824901256445        5687.99  1910.01319885254         228218\n",
       "9   3856844824901256445        6293.98   1784.9877166748         228219\n",
       "10  3856844824901256445         8383.0  2640.01487541199         228220\n",
       "11  3856844824901256445        4771.98  1663.00096130371         228221\n",
       "12 -7511058219376514442         2829.0  494.012329101562         228216\n",
       "13 -7511058219376514442        8856.97  1950.00074768066         228217\n",
       "14 -7511058219376514442        6417.96   1776.0170917511         228218\n",
       "15 -7511058219376514442        4733.01  1035.01356887817         228219\n",
       "16 -7511058219376514442         9627.0  2515.96932983398         228220\n",
       "17 -7511058219376514442        3958.98   872.01501083374         228221\n",
       "18 -4054571632749145316       143396.0  52937.8216514587         228216\n",
       "19 -4054571632749145316       565538.0  218411.584991455         228217\n",
       "20 -4054571632749145316       473756.0  184811.419876099         228218\n",
       "21 -4054571632749145316       429874.0  172318.603553772         228219\n",
       "22 -4054571632749145316       861214.0   352642.16135025         228220\n",
       "23 -4054571632749145316       374413.0  152462.522346497         228221\n",
       "24  8869432762985074175        2315.98  660.991634368896         228216\n",
       "25  8869432762985074175        8027.95  1877.98918914795         228217\n",
       "26  8869432762985074175        6541.95  1671.97065925598         228218\n",
       "27  8869432762985074175        5399.01  1132.00201892853         228219\n",
       "28  8869432762985074175        9799.01  2888.98703575134         228220\n",
       "29  8869432762985074175        3350.03   906.01537322998         228221\n",
       "30  5639426310684338968       141738.0  57085.7945251465         228216\n",
       "31  5639426310684338968       596579.0  245201.294147491         228217\n",
       "32  5639426310684338968       483936.0  199608.419403076         228218\n",
       "33  5639426310684338968       459104.0  204763.899280548         228219\n",
       "34  5639426310684338968       901238.0  411685.494031906         228220\n",
       "35  5639426310684338968       395306.0   175911.34236145         228221\n",
       "36 -9192190425556639132        5309.03  1388.00771713257         228216\n",
       "37 -9192190425556639132        18944.0  2825.99628448486         228217\n",
       "38 -9192190425556639132        14625.1  2306.03861999512         228218\n",
       "39 -9192190425556639132        12783.0  1729.02198410034         228219\n",
       "40 -9192190425556639132        20645.0  3802.01678371429         228220\n",
       "41 -9192190425556639132        9560.06  1252.99118804932         228221"
      ]
     },
     "execution_count": 15,
     "metadata": {},
     "output_type": "execute_result"
    }
   ],
   "source": [
    "feature_transition"
   ]
  },
  {
   "cell_type": "code",
   "execution_count": 16,
   "id": "c2ee2263-fe8f-4005-a282-3b57506a4950",
   "metadata": {},
   "outputs": [
    {
     "data": {
      "text/plain": [
       "42"
      ]
     },
     "execution_count": 16,
     "metadata": {},
     "output_type": "execute_result"
    }
   ],
   "source": [
    "feature_transition.to_sql('FEATURE_TRANSITION', conn, index=False)"
   ]
  },
  {
   "cell_type": "markdown",
   "id": "824f7d96-c6f5-4043-8518-c8d3fbe95b96",
   "metadata": {},
   "source": [
    "---"
   ]
  },
  {
   "cell_type": "markdown",
   "id": "6fd40cb9-ba13-47a0-b9f0-ec1d5dcd35e3",
   "metadata": {},
   "source": [
    "#### **Score MS2**"
   ]
  },
  {
   "cell_type": "code",
   "execution_count": 17,
   "id": "91d0a528-769c-4b9c-9d4b-5295d1c7fcf4",
   "metadata": {},
   "outputs": [],
   "source": [
    "score_ms2 = rslts[['id', 'd_score', 'peak_group_rank', 'm_score']].drop_duplicates()"
   ]
  },
  {
   "cell_type": "code",
   "execution_count": 18,
   "id": "1f9a7cf3-7641-42ff-a4a7-4dd421489514",
   "metadata": {},
   "outputs": [],
   "source": [
    "score_ms2 = score_ms2.rename(columns=dict(\n",
    "    id='FEATURE_ID',\n",
    "    d_score='SCORE',\n",
    "    peak_group_rank='RANK',\n",
    "    m_score='QVALUE'))\n",
    "    "
   ]
  },
  {
   "cell_type": "code",
   "execution_count": 19,
   "id": "76db776a-34a7-4800-b98a-91e99a18a533",
   "metadata": {},
   "outputs": [
    {
     "data": {
      "text/plain": [
       "7"
      ]
     },
     "execution_count": 19,
     "metadata": {},
     "output_type": "execute_result"
    }
   ],
   "source": [
    "score_ms2.to_sql('SCORE_MS2', conn, index=False)"
   ]
  },
  {
   "cell_type": "markdown",
   "id": "8a029a6a-4ad0-4c16-98ef-999a23443a51",
   "metadata": {},
   "source": [
    "#### **Run**"
   ]
  },
  {
   "cell_type": "code",
   "execution_count": 20,
   "id": "2b5815de-16fa-43ea-9037-0458b6325bd1",
   "metadata": {},
   "outputs": [],
   "source": [
    "run = rslts[['run_id', 'filename']].drop_duplicates()"
   ]
  },
  {
   "cell_type": "code",
   "execution_count": 21,
   "id": "a674e023-eef6-4c8a-b790-ea2d70267530",
   "metadata": {},
   "outputs": [],
   "source": [
    "# rename run to ion mobility test \n",
    "run.loc[run['filename'] == '20190816_TIMS05_MA_FlMe_diaPASEF_25pc_50ng_A2_1_26.d_mergeFiles.mzML', 'filename'] = 'ionMobilityTest2.mzML'"
   ]
  },
  {
   "cell_type": "code",
   "execution_count": 22,
   "id": "d2289ab1-a396-49c6-8a9e-c671c0fe9a69",
   "metadata": {},
   "outputs": [],
   "source": [
    "run = run.rename(columns=dict(run_id='ID', filename='FILENAME'))"
   ]
  },
  {
   "cell_type": "code",
   "execution_count": 23,
   "id": "7bbc5434-76f8-4d63-b475-d5f09cc69ad7",
   "metadata": {},
   "outputs": [
    {
     "data": {
      "text/plain": [
       "3"
      ]
     },
     "execution_count": 23,
     "metadata": {},
     "output_type": "execute_result"
    }
   ],
   "source": [
    "run.to_sql('RUN', conn, index=False)"
   ]
  },
  {
   "cell_type": "markdown",
   "id": "959feacd-0786-40bf-8043-bd0f2aa520ab",
   "metadata": {},
   "source": [
    "#### **Make Precursor Table Smaller**"
   ]
  },
  {
   "cell_type": "code",
   "execution_count": 24,
   "id": "f523ea0d-08c3-43d5-96f1-808234598ea1",
   "metadata": {},
   "outputs": [],
   "source": [
    "precursor = pd.read_sql(\"select * from precursor\", conn)"
   ]
  },
  {
   "cell_type": "code",
   "execution_count": 25,
   "id": "efa8bafc-35ce-402e-9a99-b1a2c234482d",
   "metadata": {},
   "outputs": [],
   "source": [
    "precursor = precursor[precursor['ID'] == rslts['transition_group_id'].iloc[0]]"
   ]
  },
  {
   "cell_type": "code",
   "execution_count": 26,
   "id": "0ac311b7-a8c3-472f-8518-93e4267bab5f",
   "metadata": {},
   "outputs": [
    {
     "data": {
      "text/plain": [
       "1"
      ]
     },
     "execution_count": 26,
     "metadata": {},
     "output_type": "execute_result"
    }
   ],
   "source": [
    "precursor.to_sql('PRECURSOR', conn, index=False, if_exists='replace')"
   ]
  },
  {
   "cell_type": "markdown",
   "id": "42dc87c9-e8cb-4203-8c14-e1a1dd1693c9",
   "metadata": {},
   "source": [
    "---"
   ]
  },
  {
   "cell_type": "markdown",
   "id": "7c307cda-d8c8-45df-aedb-a8cc136f150a",
   "metadata": {},
   "source": [
    "#### **Make Transition Table Smaller**"
   ]
  },
  {
   "cell_type": "code",
   "execution_count": 27,
   "id": "a9421910-53e8-4ee9-8e6d-5f9d71303481",
   "metadata": {},
   "outputs": [],
   "source": [
    "transition = pd.read_sql('select * from transition', conn)"
   ]
  },
  {
   "cell_type": "code",
   "execution_count": 28,
   "id": "f4dd7bd0-bddf-4be1-9b94-6404d322e774",
   "metadata": {},
   "outputs": [],
   "source": [
    "transition = transition[transition['ID'].isin(feature_transition['TRANSITION_ID'].drop_duplicates().values)]"
   ]
  },
  {
   "cell_type": "code",
   "execution_count": 29,
   "id": "0e21fed6-7ca3-45ad-be57-df5473af2682",
   "metadata": {},
   "outputs": [
    {
     "data": {
      "text/plain": [
       "6"
      ]
     },
     "execution_count": 29,
     "metadata": {},
     "output_type": "execute_result"
    }
   ],
   "source": [
    "transition.to_sql('TRANSITION', conn, index=False, if_exists='replace')"
   ]
  },
  {
   "cell_type": "markdown",
   "id": "059ced42-686b-4803-975d-b4750badffa9",
   "metadata": {},
   "source": [
    "---"
   ]
  },
  {
   "cell_type": "markdown",
   "id": "8f414fff-b968-49bd-93ee-f32af13601a4",
   "metadata": {},
   "source": [
    "#### **Make Peptide Table Smaller**"
   ]
  },
  {
   "cell_type": "code",
   "execution_count": 30,
   "id": "c0b3fb23-1b8f-4edc-b667-fcdab797fff5",
   "metadata": {},
   "outputs": [],
   "source": [
    "peptide = pd.read_sql('select * from peptide', conn)"
   ]
  },
  {
   "cell_type": "code",
   "execution_count": 31,
   "id": "be82c9a5-e366-4270-8b52-f3cefe648329",
   "metadata": {},
   "outputs": [],
   "source": [
    "peptide = peptide[peptide['MODIFIED_SEQUENCE'] == rslts['FullPeptideName'].iloc[0]]"
   ]
  },
  {
   "cell_type": "code",
   "execution_count": 32,
   "id": "85db8045-0ee0-4f37-b2d9-315d0753c8ca",
   "metadata": {},
   "outputs": [
    {
     "data": {
      "text/plain": [
       "1"
      ]
     },
     "execution_count": 32,
     "metadata": {},
     "output_type": "execute_result"
    }
   ],
   "source": [
    "peptide.to_sql('PEPTIDE', conn, index=False, if_exists='replace')"
   ]
  },
  {
   "cell_type": "markdown",
   "id": "a3fe6d40-7296-4777-b18f-14640315e666",
   "metadata": {},
   "source": [
    "---"
   ]
  },
  {
   "cell_type": "markdown",
   "id": "98616010-e903-4c8d-adbb-19e2f4dc526d",
   "metadata": {},
   "source": [
    "#### **Make Protein Table Smaller**"
   ]
  },
  {
   "cell_type": "code",
   "execution_count": 33,
   "id": "54f393cc-49fd-4491-88e0-e3be956bd9e2",
   "metadata": {},
   "outputs": [],
   "source": [
    "protein = pd.read_sql('select * from Protein', conn)"
   ]
  },
  {
   "cell_type": "code",
   "execution_count": 34,
   "id": "1c4f0bd0-b328-4073-8d7e-6f9568d71edf",
   "metadata": {},
   "outputs": [],
   "source": [
    "protein = protein[protein['PROTEIN_ACCESSION'] == rslts['ProteinName'].iloc[0]]"
   ]
  },
  {
   "cell_type": "code",
   "execution_count": 35,
   "id": "5582dc96-79d8-41f9-9883-372a3769944b",
   "metadata": {},
   "outputs": [
    {
     "data": {
      "text/html": [
       "<div>\n",
       "<style scoped>\n",
       "    .dataframe tbody tr th:only-of-type {\n",
       "        vertical-align: middle;\n",
       "    }\n",
       "\n",
       "    .dataframe tbody tr th {\n",
       "        vertical-align: top;\n",
       "    }\n",
       "\n",
       "    .dataframe thead th {\n",
       "        text-align: right;\n",
       "    }\n",
       "</style>\n",
       "<table border=\"1\" class=\"dataframe\">\n",
       "  <thead>\n",
       "    <tr style=\"text-align: right;\">\n",
       "      <th></th>\n",
       "      <th>ID</th>\n",
       "      <th>PROTEIN_ACCESSION</th>\n",
       "      <th>DECOY</th>\n",
       "    </tr>\n",
       "  </thead>\n",
       "  <tbody>\n",
       "    <tr>\n",
       "      <th>12219</th>\n",
       "      <td>12219</td>\n",
       "      <td>sp|Q07021|C1QBP_HUMAN</td>\n",
       "      <td>0</td>\n",
       "    </tr>\n",
       "  </tbody>\n",
       "</table>\n",
       "</div>"
      ],
      "text/plain": [
       "          ID      PROTEIN_ACCESSION  DECOY\n",
       "12219  12219  sp|Q07021|C1QBP_HUMAN      0"
      ]
     },
     "execution_count": 35,
     "metadata": {},
     "output_type": "execute_result"
    }
   ],
   "source": [
    "protein"
   ]
  },
  {
   "cell_type": "code",
   "execution_count": 36,
   "id": "3831e535-c632-4a2a-b7ac-402489a29af9",
   "metadata": {},
   "outputs": [
    {
     "data": {
      "text/plain": [
       "1"
      ]
     },
     "execution_count": 36,
     "metadata": {},
     "output_type": "execute_result"
    }
   ],
   "source": [
    "protein.to_sql('PROTEIN', conn, index=False, if_exists='replace')"
   ]
  },
  {
   "cell_type": "markdown",
   "id": "f181b91e-9a66-4956-92f3-6257251e08fb",
   "metadata": {},
   "source": [
    "---"
   ]
  },
  {
   "cell_type": "markdown",
   "id": "654f97d5-0cda-49a2-9716-d824384a8b60",
   "metadata": {},
   "source": [
    "#### **Make Transition Precursor Mapping Table Smaller**"
   ]
  },
  {
   "cell_type": "code",
   "execution_count": 37,
   "id": "44e719d3-b7ce-4c6a-9079-5e3086822a77",
   "metadata": {},
   "outputs": [],
   "source": [
    "transition_precursor_mapping = pd.read_sql('select * from transition_precursor_mapping', conn)"
   ]
  },
  {
   "cell_type": "code",
   "execution_count": 38,
   "id": "c278965a-ad21-4610-b0f3-bcb4870a90cc",
   "metadata": {},
   "outputs": [],
   "source": [
    "transition_precursor_mapping = transition_precursor_mapping[transition_precursor_mapping['TRANSITION_ID'].isin(feature_transition['TRANSITION_ID'].drop_duplicates().values)]"
   ]
  },
  {
   "cell_type": "code",
   "execution_count": 39,
   "id": "1bbc00aa-a137-42e5-b377-e7bd7d533cad",
   "metadata": {},
   "outputs": [
    {
     "data": {
      "text/html": [
       "<div>\n",
       "<style scoped>\n",
       "    .dataframe tbody tr th:only-of-type {\n",
       "        vertical-align: middle;\n",
       "    }\n",
       "\n",
       "    .dataframe tbody tr th {\n",
       "        vertical-align: top;\n",
       "    }\n",
       "\n",
       "    .dataframe thead th {\n",
       "        text-align: right;\n",
       "    }\n",
       "</style>\n",
       "<table border=\"1\" class=\"dataframe\">\n",
       "  <thead>\n",
       "    <tr style=\"text-align: right;\">\n",
       "      <th></th>\n",
       "      <th>TRANSITION_ID</th>\n",
       "      <th>PRECURSOR_ID</th>\n",
       "    </tr>\n",
       "  </thead>\n",
       "  <tbody>\n",
       "    <tr>\n",
       "      <th>228216</th>\n",
       "      <td>228216</td>\n",
       "      <td>33018</td>\n",
       "    </tr>\n",
       "    <tr>\n",
       "      <th>228217</th>\n",
       "      <td>228217</td>\n",
       "      <td>33018</td>\n",
       "    </tr>\n",
       "    <tr>\n",
       "      <th>228218</th>\n",
       "      <td>228218</td>\n",
       "      <td>33018</td>\n",
       "    </tr>\n",
       "    <tr>\n",
       "      <th>228219</th>\n",
       "      <td>228219</td>\n",
       "      <td>33018</td>\n",
       "    </tr>\n",
       "    <tr>\n",
       "      <th>228220</th>\n",
       "      <td>228220</td>\n",
       "      <td>33018</td>\n",
       "    </tr>\n",
       "    <tr>\n",
       "      <th>228221</th>\n",
       "      <td>228221</td>\n",
       "      <td>33018</td>\n",
       "    </tr>\n",
       "  </tbody>\n",
       "</table>\n",
       "</div>"
      ],
      "text/plain": [
       "        TRANSITION_ID  PRECURSOR_ID\n",
       "228216         228216         33018\n",
       "228217         228217         33018\n",
       "228218         228218         33018\n",
       "228219         228219         33018\n",
       "228220         228220         33018\n",
       "228221         228221         33018"
      ]
     },
     "execution_count": 39,
     "metadata": {},
     "output_type": "execute_result"
    }
   ],
   "source": [
    "transition_precursor_mapping"
   ]
  },
  {
   "cell_type": "code",
   "execution_count": 40,
   "id": "310eacf4-9731-4382-9f21-0bcdeaa643ef",
   "metadata": {},
   "outputs": [
    {
     "data": {
      "text/plain": [
       "6"
      ]
     },
     "execution_count": 40,
     "metadata": {},
     "output_type": "execute_result"
    }
   ],
   "source": [
    "transition_precursor_mapping.to_sql('TRANSITION_PRECURSOR_MAPPING', conn, index=False, if_exists='replace')"
   ]
  },
  {
   "cell_type": "markdown",
   "id": "2713c00d-04e4-431a-bdc3-042cd6c62ad9",
   "metadata": {},
   "source": [
    "---"
   ]
  },
  {
   "cell_type": "markdown",
   "id": "5fb93d43-ef32-4785-9d47-8c84598c1e77",
   "metadata": {},
   "source": [
    "#### **Make Precursor Peptide Mapping Smaller**"
   ]
  },
  {
   "cell_type": "code",
   "execution_count": 41,
   "id": "40ddd50d-6e17-42d6-a8cc-2c646ce1c351",
   "metadata": {},
   "outputs": [],
   "source": [
    "precursor_peptide_mapping = pd.read_sql(\"select * from precursor_peptide_mapping\", conn)"
   ]
  },
  {
   "cell_type": "code",
   "execution_count": 42,
   "id": "940b41cf-9ff2-4bd9-9e27-84bfefee6b7a",
   "metadata": {},
   "outputs": [],
   "source": [
    "precursor_peptide_mapping = precursor_peptide_mapping[precursor_peptide_mapping['PRECURSOR_ID'] == rslts['transition_group_id'].iloc[0]] "
   ]
  },
  {
   "cell_type": "code",
   "execution_count": 43,
   "id": "9d0ad4c3-a3cb-4f7a-b9e7-6fe0c73764b7",
   "metadata": {},
   "outputs": [
    {
     "data": {
      "text/html": [
       "<div>\n",
       "<style scoped>\n",
       "    .dataframe tbody tr th:only-of-type {\n",
       "        vertical-align: middle;\n",
       "    }\n",
       "\n",
       "    .dataframe tbody tr th {\n",
       "        vertical-align: top;\n",
       "    }\n",
       "\n",
       "    .dataframe thead th {\n",
       "        text-align: right;\n",
       "    }\n",
       "</style>\n",
       "<table border=\"1\" class=\"dataframe\">\n",
       "  <thead>\n",
       "    <tr style=\"text-align: right;\">\n",
       "      <th></th>\n",
       "      <th>PRECURSOR_ID</th>\n",
       "      <th>PEPTIDE_ID</th>\n",
       "    </tr>\n",
       "  </thead>\n",
       "  <tbody>\n",
       "    <tr>\n",
       "      <th>38036</th>\n",
       "      <td>33018</td>\n",
       "      <td>6558</td>\n",
       "    </tr>\n",
       "  </tbody>\n",
       "</table>\n",
       "</div>"
      ],
      "text/plain": [
       "       PRECURSOR_ID  PEPTIDE_ID\n",
       "38036         33018        6558"
      ]
     },
     "execution_count": 43,
     "metadata": {},
     "output_type": "execute_result"
    }
   ],
   "source": [
    "precursor_peptide_mapping"
   ]
  },
  {
   "cell_type": "code",
   "execution_count": 44,
   "id": "8d0937cc-8bb4-417e-adbb-9cbb75adfa7a",
   "metadata": {},
   "outputs": [
    {
     "data": {
      "text/plain": [
       "1"
      ]
     },
     "execution_count": 44,
     "metadata": {},
     "output_type": "execute_result"
    }
   ],
   "source": [
    "precursor_peptide_mapping.to_sql('PRECURSOR_PEPTIDE_MAPPING', conn, index=False, if_exists='replace')"
   ]
  },
  {
   "cell_type": "markdown",
   "id": "6dd64469-3a91-4e85-b665-5379c8d1c0e4",
   "metadata": {},
   "source": [
    "---"
   ]
  },
  {
   "cell_type": "markdown",
   "id": "77a0894a-0529-4685-9dd9-3dcb5e574c7e",
   "metadata": {},
   "source": [
    "#### **Add Score Peptide**"
   ]
  },
  {
   "cell_type": "code",
   "execution_count": 45,
   "id": "1dc08a05-0814-4285-b3db-38f7c52b5665",
   "metadata": {},
   "outputs": [],
   "source": [
    "score_peptide = rslts[['run_id', 'm_score_peptide_global']]\n",
    "score_peptide = score_peptide.rename(columns={'run_id':'RUN_ID', 'm_score_peptide_global':'QVALUE'})\n",
    "score_peptide['CONTEXT'] = 'global'\n",
    "score_peptide['PEPTIDE_ID'] = 6558"
   ]
  },
  {
   "cell_type": "code",
   "execution_count": 46,
   "id": "a129d9c3-3eb9-4e3c-877c-e7e7e590d7f0",
   "metadata": {},
   "outputs": [
    {
     "data": {
      "text/plain": [
       "7"
      ]
     },
     "execution_count": 46,
     "metadata": {},
     "output_type": "execute_result"
    }
   ],
   "source": [
    "score_peptide.to_sql(\"SCORE_PEPTIDE\", conn, index=False, if_exists='replace')"
   ]
  },
  {
   "cell_type": "markdown",
   "id": "29058cb7-4671-49b0-a815-375ec0f84b7d",
   "metadata": {},
   "source": [
    "#### **Add Score Protein**"
   ]
  },
  {
   "cell_type": "code",
   "execution_count": 47,
   "id": "229ebda8-1be2-46d4-a93f-b38f92165f54",
   "metadata": {},
   "outputs": [],
   "source": [
    "score_protein = rslts[['run_id', 'm_score_protein_global']]\n",
    "score_protein = score_protein.rename(columns={'run_id':'RUN_ID', 'm_score_protein_global':'QVALUE'})\n",
    "score_protein['PROTEIN_ID'] = 12219\n",
    "score_protein['CONTEXT'] = 'global'"
   ]
  },
  {
   "cell_type": "code",
   "execution_count": 48,
   "id": "2aaff171-60ee-45a8-93dd-eecf4e70ea9a",
   "metadata": {},
   "outputs": [
    {
     "data": {
      "text/plain": [
       "7"
      ]
     },
     "execution_count": 48,
     "metadata": {},
     "output_type": "execute_result"
    }
   ],
   "source": [
    "score_protein.to_sql(\"SCORE_PROTEIN\", conn, index=False, if_exists='replace')"
   ]
  },
  {
   "cell_type": "markdown",
   "id": "5519e176-9fe0-4f53-a6b9-c014f0d2e6f5",
   "metadata": {},
   "source": [
    "#### **Clean Up Free Memory**"
   ]
  },
  {
   "cell_type": "code",
   "execution_count": 49,
   "id": "9a767346-3db3-497d-b7a2-bb37bd181aa1",
   "metadata": {},
   "outputs": [
    {
     "data": {
      "text/plain": [
       "<sqlite3.Cursor at 0x767aeac730a0>"
      ]
     },
     "execution_count": 49,
     "metadata": {},
     "output_type": "execute_result"
    }
   ],
   "source": [
    "conn.execute('vacuum')"
   ]
  },
  {
   "cell_type": "code",
   "execution_count": 50,
   "id": "2f77749e-6291-49e8-b408-e05509c2e0be",
   "metadata": {},
   "outputs": [],
   "source": [
    "conn.close()"
   ]
  }
 ],
 "metadata": {
  "kernelspec": {
   "display_name": "Python 3 (ipykernel)",
   "language": "python",
   "name": "python3"
  },
  "language_info": {
   "codemirror_mode": {
    "name": "ipython",
    "version": 3
   },
   "file_extension": ".py",
   "mimetype": "text/x-python",
   "name": "python",
   "nbconvert_exporter": "python",
   "pygments_lexer": "ipython3",
   "version": "3.9.18"
  }
 },
 "nbformat": 4,
 "nbformat_minor": 5
}
