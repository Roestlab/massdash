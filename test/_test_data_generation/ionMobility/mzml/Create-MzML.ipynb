{
 "cells": [
  {
   "cell_type": "markdown",
   "id": "7b73b41d-5f7a-475d-ba11-c088bfd2bdb4",
   "metadata": {},
   "source": [
    "# **Create-MzML**"
   ]
  },
  {
   "cell_type": "markdown",
   "id": "eae65f2a-6146-44b6-b476-6cf7ab2bc7cb",
   "metadata": {},
   "source": [
    "Create small `.mzML` with signals from the precursor `AFVDFLSDEIK2`"
   ]
  },
  {
   "cell_type": "code",
   "execution_count": 1,
   "id": "53da5a21-5629-4c09-94b2-e353bd943db0",
   "metadata": {},
   "outputs": [],
   "source": [
    "import pandas as pd\n",
    "import polars as pl\n",
    "import pyopenms as po"
   ]
  },
  {
   "cell_type": "markdown",
   "id": "49ef887c-2893-4776-a536-ec8dcc0e0e68",
   "metadata": {},
   "source": [
    "#### **Load Results**"
   ]
  },
  {
   "cell_type": "code",
   "execution_count": 2,
   "id": "803d8bbc-3d71-4597-ad70-5c6348a99fce",
   "metadata": {},
   "outputs": [],
   "source": [
    "rslts = pl.scan_csv(\"../osw/pyprophet_export_25pc_50ng.tsv\", sep='\\t')\n",
    "rslts = rslts.filter(pl.col('decoy') == 0).filter(pl.col('filename') == '20190816_TIMS05_MA_FlMe_diaPASEF_25pc_50ng_A2_1_26.d_mergeFiles.mzML').filter(pl.col('m_score') < 0.01).collect().to_pandas()"
   ]
  },
  {
   "cell_type": "markdown",
   "id": "94c47743-42a1-4def-945a-26325fb35b09",
   "metadata": {},
   "source": [
    "---"
   ]
  },
  {
   "cell_type": "markdown",
   "id": "5b525877-85f9-4950-a75f-4aa00c9ac3bc",
   "metadata": {},
   "source": [
    "## **Create Test File**"
   ]
  },
  {
   "cell_type": "markdown",
   "id": "deb10dd2-ac69-4d7f-b232-8707b3175247",
   "metadata": {},
   "source": [
    "Create test file for peptide `AFVDFLSDEIK2`"
   ]
  },
  {
   "cell_type": "code",
   "execution_count": 3,
   "id": "7ff82b35-0344-4f61-8c05-34f4f87b8ed8",
   "metadata": {},
   "outputs": [],
   "source": [
    "exp = po.OnDiscMSExperiment()"
   ]
  },
  {
   "cell_type": "code",
   "execution_count": 4,
   "id": "e3b31a36-542e-4d97-9696-ccb6ab6eb310",
   "metadata": {},
   "outputs": [
    {
     "data": {
      "text/plain": [
       "True"
      ]
     },
     "execution_count": 4,
     "metadata": {},
     "output_type": "execute_result"
    }
   ],
   "source": [
    "exp.openFile(\"20190816_TIMS05_MA_FlMe_diaPASEF_25pc_50ng_A2_1_26.mzML\")"
   ]
  },
  {
   "cell_type": "markdown",
   "id": "dddb944a-9227-448c-b3f8-824191413bfe",
   "metadata": {},
   "source": [
    "Get the peak boundaries so know where to filter."
   ]
  },
  {
   "cell_type": "code",
   "execution_count": 5,
   "id": "17220ea0-ec3b-4233-80c1-cbf48ee846ad",
   "metadata": {},
   "outputs": [
    {
     "data": {
      "text/plain": [
       "array([['20190816_TIMS05_MA_FlMe_diaPASEF_25pc_50ng_A2_1_26.d_mergeFiles.mzML',\n",
       "        6235.8486328125, 6248.42822265625, 642.3295],\n",
       "       ['20190816_TIMS05_MA_FlMe_diaPASEF_25pc_50ng_A2_1_26.d_mergeFiles.mzML',\n",
       "        6255.64599609375, 6266.51513671875, 642.3295]], dtype=object)"
      ]
     },
     "execution_count": 5,
     "metadata": {},
     "output_type": "execute_result"
    }
   ],
   "source": [
    "rslts[(rslts['FullPeptideName'] == 'AFVDFLSDEIK') & (rslts['Charge'] == 2)][['filename','leftWidth', 'rightWidth', 'mz']].values"
   ]
  },
  {
   "cell_type": "code",
   "execution_count": 6,
   "id": "49ce2c65-b9c0-4a04-ae0d-866c56260bb3",
   "metadata": {},
   "outputs": [],
   "source": [
    "exp_meta = exp.getMetaData()"
   ]
  },
  {
   "cell_type": "code",
   "execution_count": 7,
   "id": "8f78e4d4-4819-46b4-8782-bf0906d6e08d",
   "metadata": {
    "scrolled": true,
    "tags": []
   },
   "outputs": [
    {
     "name": "stdout",
     "output_type": "stream",
     "text": [
      "adding ms1\n",
      "found!!\n",
      "6225.11081679484 625.0\n",
      "adding ms1\n",
      "found!!\n",
      "6226.89773809107 625.0\n",
      "adding ms1\n",
      "found!!\n",
      "6228.68570364494 625.0\n",
      "adding ms1\n",
      "found!!\n",
      "6230.47519995558 625.0\n",
      "adding ms1\n",
      "found!!\n",
      "6232.26158460719 625.0\n",
      "adding ms1\n",
      "found!!\n",
      "6234.0534788102 625.0\n",
      "adding ms1\n",
      "found!!\n",
      "6235.84861018256 625.0\n",
      "adding ms1\n",
      "found!!\n",
      "6237.64613563505 625.0\n",
      "adding ms1\n",
      "found!!\n",
      "6239.43720522349 625.0\n",
      "adding ms1\n",
      "found!!\n",
      "6241.24574655304 625.0\n",
      "adding ms1\n",
      "found!!\n",
      "6243.03476926748 625.0\n",
      "adding ms1\n",
      "found!!\n",
      "6244.82797253146 625.0\n",
      "adding ms1\n",
      "found!!\n",
      "6246.62867474413 625.0\n",
      "adding ms1\n",
      "found!!\n",
      "6248.42832918019 625.0\n",
      "adding ms1\n",
      "found!!\n",
      "6250.22954838984 625.0\n",
      "adding ms1\n",
      "found!!\n",
      "6252.03127198678 625.0\n",
      "adding ms1\n",
      "found!!\n",
      "6253.83602161421 625.0\n",
      "adding ms1\n",
      "found!!\n",
      "6255.64580924956 625.0\n",
      "adding ms1\n",
      "found!!\n",
      "6257.45004012053 625.0\n",
      "adding ms1\n",
      "found!!\n",
      "6259.2927545687 625.0\n",
      "adding ms1\n",
      "found!!\n",
      "6261.10140645291 625.0\n",
      "adding ms1\n",
      "found!!\n",
      "6262.90909501605 625.0\n",
      "adding ms1\n",
      "found!!\n",
      "6264.71157343443 625.0\n",
      "adding ms1\n",
      "found!!\n",
      "6266.51513569899 625.0\n",
      "adding ms1\n",
      "found!!\n",
      "6268.33268180791 625.0\n"
     ]
    }
   ],
   "source": [
    "expOut = po.MSExperiment()\n",
    "\n",
    "rtMin = 6225\n",
    "rtMax = 6270\n",
    "for s in exp_meta:\n",
    "    nativeId = s.getNativeID()\n",
    "    rt = s.getRT()\n",
    "    mz = s.getPrecursors()[0].getMZ()\n",
    "    low = s.getPrecursors()[0].getIsolationWindowLowerOffset()\n",
    "    if rt > rtMin and rt < rtMax:\n",
    "        if s.getMSLevel() == 1:\n",
    "            print(\"adding ms1\")\n",
    "            expOut.addSpectrum(exp.getSpectrumByNativeId(nativeId))\n",
    "        else:\n",
    "            if mz == 625.0: # window is 600-650\n",
    "                print(\"found!!\")\n",
    "                print(rt, mz)\n",
    "                expOut.addSpectrum(exp.getSpectrumByNativeId(nativeId))"
   ]
  },
  {
   "cell_type": "code",
   "execution_count": 8,
   "id": "4871922e-37c8-4daa-beed-ff016d6ce797",
   "metadata": {},
   "outputs": [],
   "source": [
    "mzmlOut = po.MzMLFile()\n",
    "\n",
    "opt = mzmlOut.getOptions()\n",
    "\n",
    "cfg = po.NumpressConfig()\n",
    "cfg.estimate_fixed_point = True\n",
    "cfg.numpressErrorTolerance = -1.0 # skip check, faster\n",
    "cfg.setCompression(b\"linear\");\n",
    "cfg.linear_fp_mass_acc = -1; # set the desired RT accuracy in seconds\n",
    "opt.setNumpressConfigurationMassTime(cfg)\n",
    "cfg = po.NumpressConfig()\n",
    "cfg.estimate_fixed_point = True\n",
    "cfg.numpressErrorTolerance = -1.0 # skip check, faster\n",
    "cfg.setCompression(b\"slof\");\n",
    "opt.setNumpressConfigurationIntensity(cfg)\n",
    "opt.setCompression(True) # zlib compression\n",
    "\n",
    "# Now also try to compress float data arrays (this is not enabled in all\n",
    "# versions of pyopenms).\n",
    "try:\n",
    "    cfg = po.NumpressConfig()\n",
    "    cfg.estimate_fixed_point = True\n",
    "    cfg.numpressErrorTolerance = -1.0 # skip check, faster\n",
    "    cfg.setCompression(b\"slof\");\n",
    "    opt.setNumpressConfigurationFloatDataArray(cfg)\n",
    "except Exception:\n",
    "    pass\n",
    "\n",
    "mzmlOut.setOptions(opt)\n",
    "\n",
    "mzmlOut.store('ionMobilityTest.mzML', expOut)"
   ]
  }
 ],
 "metadata": {
  "kernelspec": {
   "display_name": "Python 3 (ipykernel)",
   "language": "python",
   "name": "python3"
  },
  "language_info": {
   "codemirror_mode": {
    "name": "ipython",
    "version": 3
   },
   "file_extension": ".py",
   "mimetype": "text/x-python",
   "name": "python",
   "nbconvert_exporter": "python",
   "pygments_lexer": "ipython3",
   "version": "3.11.1"
  }
 },
 "nbformat": 4,
 "nbformat_minor": 5
}
