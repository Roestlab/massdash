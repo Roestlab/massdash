{
 "cells": [
  {
   "cell_type": "markdown",
   "id": "fe99e0b8-b08d-4d59-a604-1fdd26693733",
   "metadata": {},
   "source": [
    "# Figure 5: Peak Picking"
   ]
  },
  {
   "cell_type": "code",
   "execution_count": 1,
   "id": "00ac113a-34d1-4c63-b9e9-83d7ff2d7ce8",
   "metadata": {},
   "outputs": [],
   "source": [
    "import pandas as pd \n",
    "from bokeh.io import output_notebook, export_svg\n",
    "from bokeh.plotting import show"
   ]
  },
  {
   "cell_type": "code",
   "execution_count": 2,
   "id": "4792af54-9ce5-494c-9253-df7c60599a35",
   "metadata": {},
   "outputs": [],
   "source": [
    "%load_ext autoreload\n",
    "%autoreload 2"
   ]
  },
  {
   "cell_type": "code",
   "execution_count": 3,
   "id": "d09148df-9619-4636-8199-5e19315d0d56",
   "metadata": {},
   "outputs": [
    {
     "data": {
      "text/html": [
       "<div class=\"bk-root\">\n",
       "        <a href=\"https://bokeh.org\" target=\"_blank\" class=\"bk-logo bk-logo-small bk-logo-notebook\"></a>\n",
       "        <span id=\"1002\">Loading BokehJS ...</span>\n",
       "    </div>\n"
      ]
     },
     "metadata": {},
     "output_type": "display_data"
    },
    {
     "data": {
      "application/javascript": [
       "(function(root) {\n",
       "  function now() {\n",
       "    return new Date();\n",
       "  }\n",
       "\n",
       "  const force = true;\n",
       "\n",
       "  if (typeof root._bokeh_onload_callbacks === \"undefined\" || force === true) {\n",
       "    root._bokeh_onload_callbacks = [];\n",
       "    root._bokeh_is_loading = undefined;\n",
       "  }\n",
       "\n",
       "const JS_MIME_TYPE = 'application/javascript';\n",
       "  const HTML_MIME_TYPE = 'text/html';\n",
       "  const EXEC_MIME_TYPE = 'application/vnd.bokehjs_exec.v0+json';\n",
       "  const CLASS_NAME = 'output_bokeh rendered_html';\n",
       "\n",
       "  /**\n",
       "   * Render data to the DOM node\n",
       "   */\n",
       "  function render(props, node) {\n",
       "    const script = document.createElement(\"script\");\n",
       "    node.appendChild(script);\n",
       "  }\n",
       "\n",
       "  /**\n",
       "   * Handle when an output is cleared or removed\n",
       "   */\n",
       "  function handleClearOutput(event, handle) {\n",
       "    const cell = handle.cell;\n",
       "\n",
       "    const id = cell.output_area._bokeh_element_id;\n",
       "    const server_id = cell.output_area._bokeh_server_id;\n",
       "    // Clean up Bokeh references\n",
       "    if (id != null && id in Bokeh.index) {\n",
       "      Bokeh.index[id].model.document.clear();\n",
       "      delete Bokeh.index[id];\n",
       "    }\n",
       "\n",
       "    if (server_id !== undefined) {\n",
       "      // Clean up Bokeh references\n",
       "      const cmd_clean = \"from bokeh.io.state import curstate; print(curstate().uuid_to_server['\" + server_id + \"'].get_sessions()[0].document.roots[0]._id)\";\n",
       "      cell.notebook.kernel.execute(cmd_clean, {\n",
       "        iopub: {\n",
       "          output: function(msg) {\n",
       "            const id = msg.content.text.trim();\n",
       "            if (id in Bokeh.index) {\n",
       "              Bokeh.index[id].model.document.clear();\n",
       "              delete Bokeh.index[id];\n",
       "            }\n",
       "          }\n",
       "        }\n",
       "      });\n",
       "      // Destroy server and session\n",
       "      const cmd_destroy = \"import bokeh.io.notebook as ion; ion.destroy_server('\" + server_id + \"')\";\n",
       "      cell.notebook.kernel.execute(cmd_destroy);\n",
       "    }\n",
       "  }\n",
       "\n",
       "  /**\n",
       "   * Handle when a new output is added\n",
       "   */\n",
       "  function handleAddOutput(event, handle) {\n",
       "    const output_area = handle.output_area;\n",
       "    const output = handle.output;\n",
       "\n",
       "    // limit handleAddOutput to display_data with EXEC_MIME_TYPE content only\n",
       "    if ((output.output_type != \"display_data\") || (!Object.prototype.hasOwnProperty.call(output.data, EXEC_MIME_TYPE))) {\n",
       "      return\n",
       "    }\n",
       "\n",
       "    const toinsert = output_area.element.find(\".\" + CLASS_NAME.split(' ')[0]);\n",
       "\n",
       "    if (output.metadata[EXEC_MIME_TYPE][\"id\"] !== undefined) {\n",
       "      toinsert[toinsert.length - 1].firstChild.textContent = output.data[JS_MIME_TYPE];\n",
       "      // store reference to embed id on output_area\n",
       "      output_area._bokeh_element_id = output.metadata[EXEC_MIME_TYPE][\"id\"];\n",
       "    }\n",
       "    if (output.metadata[EXEC_MIME_TYPE][\"server_id\"] !== undefined) {\n",
       "      const bk_div = document.createElement(\"div\");\n",
       "      bk_div.innerHTML = output.data[HTML_MIME_TYPE];\n",
       "      const script_attrs = bk_div.children[0].attributes;\n",
       "      for (let i = 0; i < script_attrs.length; i++) {\n",
       "        toinsert[toinsert.length - 1].firstChild.setAttribute(script_attrs[i].name, script_attrs[i].value);\n",
       "        toinsert[toinsert.length - 1].firstChild.textContent = bk_div.children[0].textContent\n",
       "      }\n",
       "      // store reference to server id on output_area\n",
       "      output_area._bokeh_server_id = output.metadata[EXEC_MIME_TYPE][\"server_id\"];\n",
       "    }\n",
       "  }\n",
       "\n",
       "  function register_renderer(events, OutputArea) {\n",
       "\n",
       "    function append_mime(data, metadata, element) {\n",
       "      // create a DOM node to render to\n",
       "      const toinsert = this.create_output_subarea(\n",
       "        metadata,\n",
       "        CLASS_NAME,\n",
       "        EXEC_MIME_TYPE\n",
       "      );\n",
       "      this.keyboard_manager.register_events(toinsert);\n",
       "      // Render to node\n",
       "      const props = {data: data, metadata: metadata[EXEC_MIME_TYPE]};\n",
       "      render(props, toinsert[toinsert.length - 1]);\n",
       "      element.append(toinsert);\n",
       "      return toinsert\n",
       "    }\n",
       "\n",
       "    /* Handle when an output is cleared or removed */\n",
       "    events.on('clear_output.CodeCell', handleClearOutput);\n",
       "    events.on('delete.Cell', handleClearOutput);\n",
       "\n",
       "    /* Handle when a new output is added */\n",
       "    events.on('output_added.OutputArea', handleAddOutput);\n",
       "\n",
       "    /**\n",
       "     * Register the mime type and append_mime function with output_area\n",
       "     */\n",
       "    OutputArea.prototype.register_mime_type(EXEC_MIME_TYPE, append_mime, {\n",
       "      /* Is output safe? */\n",
       "      safe: true,\n",
       "      /* Index of renderer in `output_area.display_order` */\n",
       "      index: 0\n",
       "    });\n",
       "  }\n",
       "\n",
       "  // register the mime type if in Jupyter Notebook environment and previously unregistered\n",
       "  if (root.Jupyter !== undefined) {\n",
       "    const events = require('base/js/events');\n",
       "    const OutputArea = require('notebook/js/outputarea').OutputArea;\n",
       "\n",
       "    if (OutputArea.prototype.mime_types().indexOf(EXEC_MIME_TYPE) == -1) {\n",
       "      register_renderer(events, OutputArea);\n",
       "    }\n",
       "  }\n",
       "  if (typeof (root._bokeh_timeout) === \"undefined\" || force === true) {\n",
       "    root._bokeh_timeout = Date.now() + 5000;\n",
       "    root._bokeh_failed_load = false;\n",
       "  }\n",
       "\n",
       "  const NB_LOAD_WARNING = {'data': {'text/html':\n",
       "     \"<div style='background-color: #fdd'>\\n\"+\n",
       "     \"<p>\\n\"+\n",
       "     \"BokehJS does not appear to have successfully loaded. If loading BokehJS from CDN, this \\n\"+\n",
       "     \"may be due to a slow or bad network connection. Possible fixes:\\n\"+\n",
       "     \"</p>\\n\"+\n",
       "     \"<ul>\\n\"+\n",
       "     \"<li>re-rerun `output_notebook()` to attempt to load from CDN again, or</li>\\n\"+\n",
       "     \"<li>use INLINE resources instead, as so:</li>\\n\"+\n",
       "     \"</ul>\\n\"+\n",
       "     \"<code>\\n\"+\n",
       "     \"from bokeh.resources import INLINE\\n\"+\n",
       "     \"output_notebook(resources=INLINE)\\n\"+\n",
       "     \"</code>\\n\"+\n",
       "     \"</div>\"}};\n",
       "\n",
       "  function display_loaded() {\n",
       "    const el = document.getElementById(\"1002\");\n",
       "    if (el != null) {\n",
       "      el.textContent = \"BokehJS is loading...\";\n",
       "    }\n",
       "    if (root.Bokeh !== undefined) {\n",
       "      if (el != null) {\n",
       "        el.textContent = \"BokehJS \" + root.Bokeh.version + \" successfully loaded.\";\n",
       "      }\n",
       "    } else if (Date.now() < root._bokeh_timeout) {\n",
       "      setTimeout(display_loaded, 100)\n",
       "    }\n",
       "  }\n",
       "\n",
       "  function run_callbacks() {\n",
       "    try {\n",
       "      root._bokeh_onload_callbacks.forEach(function(callback) {\n",
       "        if (callback != null)\n",
       "          callback();\n",
       "      });\n",
       "    } finally {\n",
       "      delete root._bokeh_onload_callbacks\n",
       "    }\n",
       "    console.debug(\"Bokeh: all callbacks have finished\");\n",
       "  }\n",
       "\n",
       "  function load_libs(css_urls, js_urls, callback) {\n",
       "    if (css_urls == null) css_urls = [];\n",
       "    if (js_urls == null) js_urls = [];\n",
       "\n",
       "    root._bokeh_onload_callbacks.push(callback);\n",
       "    if (root._bokeh_is_loading > 0) {\n",
       "      console.debug(\"Bokeh: BokehJS is being loaded, scheduling callback at\", now());\n",
       "      return null;\n",
       "    }\n",
       "    if (js_urls == null || js_urls.length === 0) {\n",
       "      run_callbacks();\n",
       "      return null;\n",
       "    }\n",
       "    console.debug(\"Bokeh: BokehJS not loaded, scheduling load and callback at\", now());\n",
       "    root._bokeh_is_loading = css_urls.length + js_urls.length;\n",
       "\n",
       "    function on_load() {\n",
       "      root._bokeh_is_loading--;\n",
       "      if (root._bokeh_is_loading === 0) {\n",
       "        console.debug(\"Bokeh: all BokehJS libraries/stylesheets loaded\");\n",
       "        run_callbacks()\n",
       "      }\n",
       "    }\n",
       "\n",
       "    function on_error(url) {\n",
       "      console.error(\"failed to load \" + url);\n",
       "    }\n",
       "\n",
       "    for (let i = 0; i < css_urls.length; i++) {\n",
       "      const url = css_urls[i];\n",
       "      const element = document.createElement(\"link\");\n",
       "      element.onload = on_load;\n",
       "      element.onerror = on_error.bind(null, url);\n",
       "      element.rel = \"stylesheet\";\n",
       "      element.type = \"text/css\";\n",
       "      element.href = url;\n",
       "      console.debug(\"Bokeh: injecting link tag for BokehJS stylesheet: \", url);\n",
       "      document.body.appendChild(element);\n",
       "    }\n",
       "\n",
       "    for (let i = 0; i < js_urls.length; i++) {\n",
       "      const url = js_urls[i];\n",
       "      const element = document.createElement('script');\n",
       "      element.onload = on_load;\n",
       "      element.onerror = on_error.bind(null, url);\n",
       "      element.async = false;\n",
       "      element.src = url;\n",
       "      console.debug(\"Bokeh: injecting script tag for BokehJS library: \", url);\n",
       "      document.head.appendChild(element);\n",
       "    }\n",
       "  };\n",
       "\n",
       "  function inject_raw_css(css) {\n",
       "    const element = document.createElement(\"style\");\n",
       "    element.appendChild(document.createTextNode(css));\n",
       "    document.body.appendChild(element);\n",
       "  }\n",
       "\n",
       "  const js_urls = [\"https://cdn.bokeh.org/bokeh/release/bokeh-2.4.3.min.js\", \"https://cdn.bokeh.org/bokeh/release/bokeh-gl-2.4.3.min.js\", \"https://cdn.bokeh.org/bokeh/release/bokeh-widgets-2.4.3.min.js\", \"https://cdn.bokeh.org/bokeh/release/bokeh-tables-2.4.3.min.js\", \"https://cdn.bokeh.org/bokeh/release/bokeh-mathjax-2.4.3.min.js\"];\n",
       "  const css_urls = [];\n",
       "\n",
       "  const inline_js = [    function(Bokeh) {\n",
       "      Bokeh.set_log_level(\"info\");\n",
       "    },\n",
       "function(Bokeh) {\n",
       "    }\n",
       "  ];\n",
       "\n",
       "  function run_inline_js() {\n",
       "    if (root.Bokeh !== undefined || force === true) {\n",
       "          for (let i = 0; i < inline_js.length; i++) {\n",
       "      inline_js[i].call(root, root.Bokeh);\n",
       "    }\n",
       "if (force === true) {\n",
       "        display_loaded();\n",
       "      }} else if (Date.now() < root._bokeh_timeout) {\n",
       "      setTimeout(run_inline_js, 100);\n",
       "    } else if (!root._bokeh_failed_load) {\n",
       "      console.log(\"Bokeh: BokehJS failed to load within specified timeout.\");\n",
       "      root._bokeh_failed_load = true;\n",
       "    } else if (force !== true) {\n",
       "      const cell = $(document.getElementById(\"1002\")).parents('.cell').data().cell;\n",
       "      cell.output_area.append_execute_result(NB_LOAD_WARNING)\n",
       "    }\n",
       "  }\n",
       "\n",
       "  if (root._bokeh_is_loading === 0) {\n",
       "    console.debug(\"Bokeh: BokehJS loaded, going straight to plotting\");\n",
       "    run_inline_js();\n",
       "  } else {\n",
       "    load_libs(css_urls, js_urls, function() {\n",
       "      console.debug(\"Bokeh: BokehJS plotting callback run at\", now());\n",
       "      run_inline_js();\n",
       "    });\n",
       "  }\n",
       "}(window));"
      ],
      "application/vnd.bokehjs_load.v0+json": "(function(root) {\n  function now() {\n    return new Date();\n  }\n\n  const force = true;\n\n  if (typeof root._bokeh_onload_callbacks === \"undefined\" || force === true) {\n    root._bokeh_onload_callbacks = [];\n    root._bokeh_is_loading = undefined;\n  }\n\n\n  if (typeof (root._bokeh_timeout) === \"undefined\" || force === true) {\n    root._bokeh_timeout = Date.now() + 5000;\n    root._bokeh_failed_load = false;\n  }\n\n  const NB_LOAD_WARNING = {'data': {'text/html':\n     \"<div style='background-color: #fdd'>\\n\"+\n     \"<p>\\n\"+\n     \"BokehJS does not appear to have successfully loaded. If loading BokehJS from CDN, this \\n\"+\n     \"may be due to a slow or bad network connection. Possible fixes:\\n\"+\n     \"</p>\\n\"+\n     \"<ul>\\n\"+\n     \"<li>re-rerun `output_notebook()` to attempt to load from CDN again, or</li>\\n\"+\n     \"<li>use INLINE resources instead, as so:</li>\\n\"+\n     \"</ul>\\n\"+\n     \"<code>\\n\"+\n     \"from bokeh.resources import INLINE\\n\"+\n     \"output_notebook(resources=INLINE)\\n\"+\n     \"</code>\\n\"+\n     \"</div>\"}};\n\n  function display_loaded() {\n    const el = document.getElementById(\"1002\");\n    if (el != null) {\n      el.textContent = \"BokehJS is loading...\";\n    }\n    if (root.Bokeh !== undefined) {\n      if (el != null) {\n        el.textContent = \"BokehJS \" + root.Bokeh.version + \" successfully loaded.\";\n      }\n    } else if (Date.now() < root._bokeh_timeout) {\n      setTimeout(display_loaded, 100)\n    }\n  }\n\n  function run_callbacks() {\n    try {\n      root._bokeh_onload_callbacks.forEach(function(callback) {\n        if (callback != null)\n          callback();\n      });\n    } finally {\n      delete root._bokeh_onload_callbacks\n    }\n    console.debug(\"Bokeh: all callbacks have finished\");\n  }\n\n  function load_libs(css_urls, js_urls, callback) {\n    if (css_urls == null) css_urls = [];\n    if (js_urls == null) js_urls = [];\n\n    root._bokeh_onload_callbacks.push(callback);\n    if (root._bokeh_is_loading > 0) {\n      console.debug(\"Bokeh: BokehJS is being loaded, scheduling callback at\", now());\n      return null;\n    }\n    if (js_urls == null || js_urls.length === 0) {\n      run_callbacks();\n      return null;\n    }\n    console.debug(\"Bokeh: BokehJS not loaded, scheduling load and callback at\", now());\n    root._bokeh_is_loading = css_urls.length + js_urls.length;\n\n    function on_load() {\n      root._bokeh_is_loading--;\n      if (root._bokeh_is_loading === 0) {\n        console.debug(\"Bokeh: all BokehJS libraries/stylesheets loaded\");\n        run_callbacks()\n      }\n    }\n\n    function on_error(url) {\n      console.error(\"failed to load \" + url);\n    }\n\n    for (let i = 0; i < css_urls.length; i++) {\n      const url = css_urls[i];\n      const element = document.createElement(\"link\");\n      element.onload = on_load;\n      element.onerror = on_error.bind(null, url);\n      element.rel = \"stylesheet\";\n      element.type = \"text/css\";\n      element.href = url;\n      console.debug(\"Bokeh: injecting link tag for BokehJS stylesheet: \", url);\n      document.body.appendChild(element);\n    }\n\n    for (let i = 0; i < js_urls.length; i++) {\n      const url = js_urls[i];\n      const element = document.createElement('script');\n      element.onload = on_load;\n      element.onerror = on_error.bind(null, url);\n      element.async = false;\n      element.src = url;\n      console.debug(\"Bokeh: injecting script tag for BokehJS library: \", url);\n      document.head.appendChild(element);\n    }\n  };\n\n  function inject_raw_css(css) {\n    const element = document.createElement(\"style\");\n    element.appendChild(document.createTextNode(css));\n    document.body.appendChild(element);\n  }\n\n  const js_urls = [\"https://cdn.bokeh.org/bokeh/release/bokeh-2.4.3.min.js\", \"https://cdn.bokeh.org/bokeh/release/bokeh-gl-2.4.3.min.js\", \"https://cdn.bokeh.org/bokeh/release/bokeh-widgets-2.4.3.min.js\", \"https://cdn.bokeh.org/bokeh/release/bokeh-tables-2.4.3.min.js\", \"https://cdn.bokeh.org/bokeh/release/bokeh-mathjax-2.4.3.min.js\"];\n  const css_urls = [];\n\n  const inline_js = [    function(Bokeh) {\n      Bokeh.set_log_level(\"info\");\n    },\nfunction(Bokeh) {\n    }\n  ];\n\n  function run_inline_js() {\n    if (root.Bokeh !== undefined || force === true) {\n          for (let i = 0; i < inline_js.length; i++) {\n      inline_js[i].call(root, root.Bokeh);\n    }\nif (force === true) {\n        display_loaded();\n      }} else if (Date.now() < root._bokeh_timeout) {\n      setTimeout(run_inline_js, 100);\n    } else if (!root._bokeh_failed_load) {\n      console.log(\"Bokeh: BokehJS failed to load within specified timeout.\");\n      root._bokeh_failed_load = true;\n    } else if (force !== true) {\n      const cell = $(document.getElementById(\"1002\")).parents('.cell').data().cell;\n      cell.output_area.append_execute_result(NB_LOAD_WARNING)\n    }\n  }\n\n  if (root._bokeh_is_loading === 0) {\n    console.debug(\"Bokeh: BokehJS loaded, going straight to plotting\");\n    run_inline_js();\n  } else {\n    load_libs(css_urls, js_urls, function() {\n      console.debug(\"Bokeh: BokehJS plotting callback run at\", now());\n      run_inline_js();\n    });\n  }\n}(window));"
     },
     "metadata": {},
     "output_type": "display_data"
    }
   ],
   "source": [
    "output_notebook()"
   ]
  },
  {
   "cell_type": "markdown",
   "id": "aba8bfb2-c263-41c3-8106-c49e3fd7c47f",
   "metadata": {},
   "source": [
    "#### Load Data"
   ]
  },
  {
   "cell_type": "code",
   "execution_count": 4,
   "id": "8f617562-1270-40b7-9bd5-148d9ad8c502",
   "metadata": {},
   "outputs": [],
   "source": [
    "from massdash.loaders import SqMassLoader\n",
    "\n",
    "loader = SqMassLoader(dataFiles=\"../../test/test_data/xics/test_chrom_1.sqMass\", \n",
    "                      rsltsFile=\"../../test/test_data/osw/test_data.osw\" )\n",
    "\n",
    "transitionGroup = list(loader.loadTransitionGroups(\"NKESPT(UniMod:21)KAIVR(UniMod:267)\", 3).values())[0]"
   ]
  },
  {
   "cell_type": "markdown",
   "id": "0589fe79-8936-45c4-8653-618e353ffb79",
   "metadata": {},
   "source": [
    "#### Initiate Peak Pickers"
   ]
  },
  {
   "cell_type": "code",
   "execution_count": 5,
   "id": "9c140609-a169-45b1-8470-5d2feb6476b2",
   "metadata": {},
   "outputs": [
    {
     "name": "stdout",
     "output_type": "stream",
     "text": [
      "torch is not installed. Please install it using 'pip install torch'.\n",
      "torchmetrics is not installed. Please install it using 'pip install torchmetrics'.\n"
     ]
    }
   ],
   "source": [
    "from massdash.peakPickers import MRMTransitionGroupPicker, ConformerPeakPicker\n",
    "from massdash.loaders import SpectralLibraryLoader\n",
    "\n",
    "pickerMRM_Default = MRMTransitionGroupPicker('sgolay', sgolay_frame_length=11, sgolay_polynomial_order=3)\n",
    "pickerMRM_Wide = MRMTransitionGroupPicker('sgolay', sgolay_frame_length=13, sgolay_polynomial_order=3)\n",
    "pickerConformer = ConformerPeakPicker(SpectralLibraryLoader(\"../../test/test_data/osw/test_data.osw\"), \"../../massdash/assets/models/conformer/base_cape.onnx\", prediction_type='sigmoided')"
   ]
  },
  {
   "cell_type": "markdown",
   "id": "d6795300-7d57-42a7-973c-f7cd0719349b",
   "metadata": {},
   "source": [
    "#### Perform Peak Picking"
   ]
  },
  {
   "cell_type": "code",
   "execution_count": 6,
   "id": "5d16d6f8-c7b4-4eaf-9abc-10cd7bdb22bf",
   "metadata": {},
   "outputs": [
    {
     "name": "stdout",
     "output_type": "stream",
     "text": [
      "[2024-03-20 08:47:17,008] ConformerPeakPicker - INFO - Loading model...\n",
      "[2024-03-20 08:47:17,838] ConformerPeakPicker - INFO - Preprocessing data...\n",
      "[2024-03-20 08:47:17,844] ConformerPeakPicker - INFO - Predicting...\n",
      "[2024-03-20 08:47:18,038] ConformerPeakPicker - INFO - Getting predicted boundaries...\n",
      "[2024-03-20 08:47:18,040] ConformerPeakPicker - INFO - Peak info: {'precursor': [{'max_idx': 88, 'start_idx': 83, 'end_idx': 93, 'score': array([1.5621653], dtype=float32), 'rt_apex': 865.7, 'rt_start': 847.6, 'rt_end': 883.9, 'int_apex': 15790.191329174686}]}\n"
     ]
    }
   ],
   "source": [
    "topFeatureMRM_Default = pickerMRM_Default.pick(transitionGroup)[0]\n",
    "topFeatureMRM_Wide = pickerMRM_Wide.pick(transitionGroup)[0]\n",
    "topFeatureConformer = pickerConformer.pick(transitionGroup)[0]\n",
    "\n",
    "### for conformer adjust intensity\n",
    "topFeatureConformer.areaIntensity = 2e5"
   ]
  },
  {
   "cell_type": "markdown",
   "id": "c12670db-f780-4181-88c7-0bc944d67ba1",
   "metadata": {},
   "source": [
    "#### Plot"
   ]
  },
  {
   "cell_type": "code",
   "execution_count": 7,
   "id": "df6bbab4-b918-4482-b420-85103903c7dd",
   "metadata": {},
   "outputs": [
    {
     "data": {
      "text/html": [
       "\n",
       "  <div class=\"bk-root\" id=\"3457bf30-061a-4d97-aec3-0d0cce509860\" data-root-id=\"1003\"></div>\n"
      ]
     },
     "metadata": {},
     "output_type": "display_data"
    },
    {
     "data": {
      "application/javascript": [
       "(function(root) {\n",
       "  function embed_document(root) {\n",
       "  const docs_json = {\"16b8e2d6-63ba-4994-a0c1-dba9741a80f3\":{\"defs\":[],\"roots\":{\"references\":[{\"attributes\":{\"above\":[{\"id\":\"1144\"}],\"below\":[{\"id\":\"1012\"}],\"center\":[{\"id\":\"1015\"},{\"id\":\"1019\"}],\"height\":400,\"left\":[{\"id\":\"1016\"}],\"renderers\":[{\"id\":\"1042\"},{\"id\":\"1049\"},{\"id\":\"1056\"},{\"id\":\"1063\"},{\"id\":\"1070\"},{\"id\":\"1077\"},{\"id\":\"1090\"},{\"id\":\"1096\"},{\"id\":\"1102\"},{\"id\":\"1109\"},{\"id\":\"1115\"},{\"id\":\"1121\"},{\"id\":\"1128\"},{\"id\":\"1134\"},{\"id\":\"1140\"}],\"right\":[{\"id\":\"1036\"}],\"sizing_mode\":\"scale_width\",\"title\":{\"id\":\"1148\"},\"toolbar\":{\"id\":\"1028\"},\"toolbar_location\":null,\"width\":800,\"x_range\":{\"id\":\"1004\"},\"x_scale\":{\"id\":\"1008\"},\"y_range\":{\"id\":\"1006\"},\"y_scale\":{\"id\":\"1010\"}},\"id\":\"1003\",\"subtype\":\"Figure\",\"type\":\"Plot\"},{\"attributes\":{\"source\":{\"id\":\"1065\"}},\"id\":\"1071\",\"type\":\"CDSView\"},{\"attributes\":{\"data\":{\"precursor_mz\":[null,null,null,null,null,null,null,null,null,null,null,null,null,null,null,null,null,null,null,null,null,null,null,null,null,null,null,null,null,null,null,null,null,null,null,null,null,null,null,null,null,null,null,null,null,null,null,null,null,null,null,null,null,null,null,null,null,null,null,null,null,null,null,null,null,null,null,null,null,null,null,null,null,null,null,null,null,null,null,null,null,null,null,null,null,null,null,null,null,null,null,null,null,null,null,null,null,null,null,null,null,null,null,null,null,null,null,null,null,null,null,null,null,null,null,null,null,null,null,null,null,null,null,null,null,null,null,null,null,null,null,null,null,null,null,null,null,null,null,null,null,null,null,null,null,null,null,null,null,null,null,null,null,null,null,null,null,null,null,null,null,null,null,null,null,null,null,null,null,null,null,null,null,null,null,null,null,null,null,null,null,null,null,null,null,null,null,null,null,null,null,null,null],\"product_charge\":[null,null,null,null,null,null,null,null,null,null,null,null,null,null,null,null,null,null,null,null,null,null,null,null,null,null,null,null,null,null,null,null,null,null,null,null,null,null,null,null,null,null,null,null,null,null,null,null,null,null,null,null,null,null,null,null,null,null,null,null,null,null,null,null,null,null,null,null,null,null,null,null,null,null,null,null,null,null,null,null,null,null,null,null,null,null,null,null,null,null,null,null,null,null,null,null,null,null,null,null,null,null,null,null,null,null,null,null,null,null,null,null,null,null,null,null,null,null,null,null,null,null,null,null,null,null,null,null,null,null,null,null,null,null,null,null,null,null,null,null,null,null,null,null,null,null,null,null,null,null,null,null,null,null,null,null,null,null,null,null,null,null,null,null,null,null,null,null,null,null,null,null,null,null,null,null,null,null,null,null,null,null,null,null,null,null,null,null,null,null,null,null,null],\"product_mz\":[null,null,null,null,null,null,null,null,null,null,null,null,null,null,null,null,null,null,null,null,null,null,null,null,null,null,null,null,null,null,null,null,null,null,null,null,null,null,null,null,null,null,null,null,null,null,null,null,null,null,null,null,null,null,null,null,null,null,null,null,null,null,null,null,null,null,null,null,null,null,null,null,null,null,null,null,null,null,null,null,null,null,null,null,null,null,null,null,null,null,null,null,null,null,null,null,null,null,null,null,null,null,null,null,null,null,null,null,null,null,null,null,null,null,null,null,null,null,null,null,null,null,null,null,null,null,null,null,null,null,null,null,null,null,null,null,null,null,null,null,null,null,null,null,null,null,null,null,null,null,null,null,null,null,null,null,null,null,null,null,null,null,null,null,null,null,null,null,null,null,null,null,null,null,null,null,null,null,null,null,null,null,null,null,null,null,null,null,null,null,null,null,null],\"x\":{\"__ndarray__\":\"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\",\"dtype\":\"float64\",\"order\":\"little\",\"shape\":[193]},\"y\":{\"__ndarray__\":\"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\",\"dtype\":\"float64\",\"order\":\"little\",\"shape\":[193]}},\"selected\":{\"id\":\"1167\"},\"selection_policy\":{\"id\":\"1166\"}},\"id\":\"1072\",\"type\":\"ColumnDataSource\"},{\"attributes\":{},\"id\":\"1171\",\"type\":\"Selection\"},{\"attributes\":{\"fill_alpha\":{\"value\":0.1},\"fill_color\":{\"value\":\"#1f77b4\"},\"hatch_alpha\":{\"value\":0.1},\"line_alpha\":{\"value\":0.1},\"line_color\":{\"value\":\"#1f77b4\"},\"x\":{\"field\":\"leftWidth\"},\"y\":{\"field\":\"Intensity\"}},\"id\":\"1119\",\"type\":\"Circle\"},{\"attributes\":{\"bottom\":{\"field\":\"bottom_int\"},\"fill_alpha\":{\"value\":0.1},\"fill_color\":{\"value\":\"#1B9E77\"},\"hatch_alpha\":{\"value\":0.1},\"hatch_color\":{\"value\":\"#1B9E77\"},\"line_alpha\":{\"value\":0.1},\"line_color\":{\"value\":\"#1B9E77\"},\"top\":{\"field\":\"Intensity\"},\"width\":{\"value\":0.1},\"x\":{\"field\":\"leftWidth\"}},\"id\":\"1088\",\"type\":\"VBar\"},{\"attributes\":{},\"id\":\"1154\",\"type\":\"BasicTickFormatter\"},{\"attributes\":{\"label\":{\"value\":\"y4^1\"},\"renderers\":[{\"id\":\"1042\"}]},\"id\":\"1079\",\"type\":\"LegendItem\"},{\"attributes\":{},\"id\":\"1155\",\"type\":\"AllLabels\"},{\"attributes\":{},\"id\":\"1156\",\"type\":\"UnionRenderers\"},{\"attributes\":{\"click_policy\":\"mute\",\"coordinates\":null,\"group\":null,\"items\":[{\"id\":\"1079\"},{\"id\":\"1080\"},{\"id\":\"1081\"},{\"id\":\"1082\"},{\"id\":\"1083\"},{\"id\":\"1084\"}],\"label_text_font_size\":\"14pt\",\"location\":\"top_left\",\"title\":\"Transition\",\"title_text_font_size\":\"14pt\"},\"id\":\"1036\",\"type\":\"Legend\"},{\"attributes\":{},\"id\":\"1157\",\"type\":\"Selection\"},{\"attributes\":{\"data\":{\"precursor_mz\":[null,null,null,null,null,null,null,null,null,null,null,null,null,null,null,null,null,null,null,null,null,null,null,null,null,null,null,null,null,null,null,null,null,null,null,null,null,null,null,null,null,null,null,null,null,null,null,null,null,null,null,null,null,null,null,null,null,null,null,null,null,null,null,null,null,null,null,null,null,null,null,null,null,null,null,null,null,null,null,null,null,null,null,null,null,null,null,null,null,null,null,null,null,null,null,null,null,null,null,null,null,null,null,null,null,null,null,null,null,null,null,null,null,null,null,null,null,null,null,null,null,null,null,null,null,null,null,null,null,null,null,null,null,null,null,null,null,null,null,null,null,null,null,null,null,null,null,null,null,null,null,null,null,null,null,null,null,null,null,null,null,null,null,null,null,null,null,null,null,null,null,null,null,null,null,null,null,null,null,null,null,null,null,null,null,null,null,null,null,null,null,null,null],\"product_charge\":[null,null,null,null,null,null,null,null,null,null,null,null,null,null,null,null,null,null,null,null,null,null,null,null,null,null,null,null,null,null,null,null,null,null,null,null,null,null,null,null,null,null,null,null,null,null,null,null,null,null,null,null,null,null,null,null,null,null,null,null,null,null,null,null,null,null,null,null,null,null,null,null,null,null,null,null,null,null,null,null,null,null,null,null,null,null,null,null,null,null,null,null,null,null,null,null,null,null,null,null,null,null,null,null,null,null,null,null,null,null,null,null,null,null,null,null,null,null,null,null,null,null,null,null,null,null,null,null,null,null,null,null,null,null,null,null,null,null,null,null,null,null,null,null,null,null,null,null,null,null,null,null,null,null,null,null,null,null,null,null,null,null,null,null,null,null,null,null,null,null,null,null,null,null,null,null,null,null,null,null,null,null,null,null,null,null,null,null,null,null,null,null,null],\"product_mz\":[null,null,null,null,null,null,null,null,null,null,null,null,null,null,null,null,null,null,null,null,null,null,null,null,null,null,null,null,null,null,null,null,null,null,null,null,null,null,null,null,null,null,null,null,null,null,null,null,null,null,null,null,null,null,null,null,null,null,null,null,null,null,null,null,null,null,null,null,null,null,null,null,null,null,null,null,null,null,null,null,null,null,null,null,null,null,null,null,null,null,null,null,null,null,null,null,null,null,null,null,null,null,null,null,null,null,null,null,null,null,null,null,null,null,null,null,null,null,null,null,null,null,null,null,null,null,null,null,null,null,null,null,null,null,null,null,null,null,null,null,null,null,null,null,null,null,null,null,null,null,null,null,null,null,null,null,null,null,null,null,null,null,null,null,null,null,null,null,null,null,null,null,null,null,null,null,null,null,null,null,null,null,null,null,null,null,null,null,null,null,null,null,null],\"x\":{\"__ndarray__\":\"mpmZmZkJgEBmZmZmZiaAQDMzMzMzQ4BAzczMzMxggECamZmZmX2AQGZmZmZmmoBAAAAAAAC4gEDNzMzMzNSAQJqZmZmZ8YBAMzMzMzMPgUAAAAAAACyBQM3MzMzMSIFAZmZmZmZmgUAzMzMzM4OBQAAAAAAAoIFAmpmZmZm9gUBmZmZmZtqBQDMzMzMz94FAzczMzMwUgkCamZmZmTGCQDMzMzMzT4JAAAAAAABsgkDNzMzMzIiCQGZmZmZmpoJAMzMzMzPDgkAAAAAAAOCCQJqZmZmZ/YJAZmZmZmYag0AzMzMzMzeDQM3MzMzMVINAmpmZmZlxg0BmZmZmZo6DQAAAAAAArINAzczMzMzIg0CamZmZmeWDQDMzMzMzA4RAAAAAAAAghEDNzMzMzDyEQGZmZmZmWoRAMzMzMzN3hEAAAAAAAJSEQJqZmZmZsYRAZmZmZmbOhEAAAAAAAOyEQM3MzMzMCIVAmpmZmZklhUAzMzMzM0OFQAAAAAAAYIVAzczMzMx8hUBmZmZmZpqFQDMzMzMzt4VAAAAAAADUhUCamZmZmfGFQGZmZmZmDoZAMzMzMzMrhkDNzMzMzEiGQJqZmZmZZYZAZmZmZmaChkAAAAAAAKCGQM3MzMzMvIZAmpmZmZnZhkAzMzMzM/eGQAAAAAAAFIdAzczMzMwwh0BmZmZmZk6HQDMzMzMza4dAzczMzMyIh0CamZmZmaWHQGZmZmZmwodAAAAAAADgh0DNzMzMzPyHQJqZmZmZGYhAMzMzMzM3iEAAAAAAAFSIQM3MzMzMcIhAZmZmZmaOiEAzMzMzM6uIQAAAAAAAyIhAmpmZmZnliEBmZmZmZgKJQDMzMzMzH4lAzczMzMw8iUCamZmZmVmJQGZmZmZmdolAAAAAAACUiUDNzMzMzLCJQJqZmZmZzYlAMzMzMzPriUAAAAAAAAiKQJqZmZmZJYpAZmZmZmZCikAzMzMzM1+KQM3MzMzMfIpAmpmZmZmZikBmZmZmZraKQAAAAAAA1IpAzczMzMzwikCamZmZmQ2LQDMzMzMzK4tAAAAAAABIi0DNzMzMzGSLQGZmZmZmgotAMzMzMzOfi0AAAAAAALyLQJqZmZmZ2YtAZmZmZmb2i0AzMzMzMxOMQM3MzMzMMIxAmpmZmZlNjEAzMzMzM2uMQAAAAAAAiIxAzczMzMykjEBmZmZmZsKMQDMzMzMz34xAAAAAAAD8jECamZmZmRmNQGZmZmZmNo1AMzMzMzNTjUDNzMzMzHCNQJqZmZmZjY1AZmZmZmaqjUAAAAAAAMiNQM3MzMzM5I1AmpmZmZkBjkAzMzMzMx+OQAAAAAAAPI5AzczMzMxYjkBmZmZmZnaOQDMzMzMzk45AAAAAAACwjkCamZmZmc2OQGZmZmZm6o5AMzMzMzMHj0DNzMzMzCSPQJqZmZmZQY9AMzMzMzNfj0AAAAAAAHyPQM3MzMzMmI9AZmZmZma2j0AzMzMzM9OPQAAAAAAA8I9AzczMzMwGkEAzMzMzMxWQQJqZmZmZI5BAZmZmZmYykEDNzMzMzECQQDMzMzMzT5BAAAAAAABekEBmZmZmZmyQQM3MzMzMepBAmpmZmZmJkEAAAAAAAJiQQM3MzMzMppBAMzMzMzO1kECamZmZmcOQQGZmZmZm0pBAzczMzMzgkEAzMzMzM++QQAAAAAAA/pBAZmZmZmYMkUDNzMzMzBqRQJqZmZmZKZFAAAAAAAA4kUBmZmZmZkaRQDMzMzMzVZFAmpmZmZljkUAAAAAAAHKRQM3MzMzMgJFAMzMzMzOPkUCamZmZmZ2RQGZmZmZmrJFAzczMzMy6kUAzMzMzM8mRQAAAAAAA2JFAZmZmZmbmkUAzMzMzM/WRQJqZmZmZA5JAAAAAAAASkkDNzMzMzCCSQDMzMzMzL5JAmpmZmZk9kkBmZmZmZkySQM3MzMzMWpJAMzMzMzNpkkAAAAAAAHiSQGZmZmZmhpJAzczMzMyUkkCamZmZmaOSQAAAAAAAspJAZmZmZmbAkkAzMzMzM8+SQJqZmZmZ3ZJAAAAAAADskkA=\",\"dtype\":\"float64\",\"order\":\"little\",\"shape\":[193]},\"y\":{\"__ndarray__\":\"r8DWuLw/X0AbakyZkH9PQK9w915CQFpAG2pMmZB/T0DZEvuLCwBFQIJZNCUbwFRA/+ZkdkFgYkDmJtXZv/9kQP33PGOxf29Aufj8I9I/akCxxVjwwz9vQK9w915CQFpA/+ZkdkFgYkDmJtXZv/9kQBtqTJmQf09AG2pMmZB/T0AbakyZkH9PQP/mZHZBYGJA5ibV2b//ZEAbakyZkH9PQK9w915CQFpAcHb3UOt/X0D6OUx4z59nQJFKDuWs/1RAG2pMmZB/T0BwdvdQ639fQJFKDuWs/1RAr3D3XkJAWkDZEvuLCwBFQOYm1dm//2RA5ibV2b//ZED/5mR2QWBiQPo5THjPn2dA/+ZkdkFgYkAAAAAAAAAAAHB291Drf19A/+ZkdkFgYkAbakyZkH9PQJFKDuWs/1RAr3D3XkJAWkBh0Alyql9vQPo5THjPn2dA5ibV2b//ZEAbakyZkH9PQPo5THjPn2dA5ibV2b//ZEBh0Alyql9vQGKER11GwGxAr3D3XkJAWkC5+Pwj0j9qQMVNKpUOYHJAETULuiGAhUBcQKBw15eBQP33PGOxf29Aufj8I9I/akD/5mR2QWBiQHB291Drf19Aufj8I9I/akAbakyZkH9PQJFKDuWs/1RAr3D3XkJAWkAbakyZkH9PQHB291Drf19ATV+N4PL/NECRSg7lrP9UQJFKDuWs/1RAXlGINf8/YkC5+Pwj0j9qQLn4/CPSP2pA4R8ljPRPckD99zxjsX9vQK5u0MJ0MHpAxU0qlQ5gckC5+Pwj0j9qQFA/V34foHNAK6ToWfKvfEAbakyZkH9PQOtrl1kBMHZA+FLo8g8AcUBwdvdQ639fQJFKDuWs/1RAcHb3UOt/X0AbakyZkH9PQK9w915CQFpA+jlMeM+fZ0CRSg7lrP9UQOEfJYz0T3JAm7HjdRmQkUAtBBO7LpiUQK4CwKk7vJZAIYjBpcqTkUAEInloZ1iLQChBm6LJT4tAi9qhBzTEk0BSRpUGbqibQD63LMYAWKFAvpVb5nvTrUDN027tG1SxQEexa1o9rqhAL9NQI62ZpkDb8sJi0g+cQHykTlxEQJdAtiOp6yBIjUD6O09euL+IQHEq+HYPwHxAAKqRGRrQeEDFTSqVDmByQH6OhTn+r3NAZVu3HarfbEBh0Alyql9vQP33PGOxf29AcHb3UOt/X0DmJtXZv/9kQPo5THjPn2dAufj8I9I/akDmJtXZv/9kQHB291Drf19A/fc8Y7F/b0DmJtXZv/9kQBEbz2w2EHFASkjX9Q7gZED6OUx4z59nQHoDwoNNkHNAcHb3UOt/X0CRSg7lrP9UQP/mZHZBYGJAG2pMmZB/T0D/5mR2QWBiQNkS+4sLAEVAufj8I9I/akCvcPdeQkBaQNkS+4sLAEVAXlGINf8/YkDhHyWM9E9yQBEbz2w2EHFAw1sf8mBAdkBQP1d+H6BzQOYm1dm//2RAydl88nAAakC5+Pwj0j9qQC9tyUXy/3lAJHsq7hkYjkC5LiHWHGKrQBgyKxXYVL5A1N9h1l7qvUAlj1R0A9e7QFfiQh01nLZAR5Z5OAR7sEAe8mqylY+uQE0Q6POekaxAKd1jPFRupkCHTNxkTFymQC3ye2a6zaJAdF7VmB8ElkDAhcfqgT+PQIX1BlQb+IJAcSr4dg/AfEDFTSqVDmByQCuk6Fnyr3xAw1sf8mBAdkDe4JUR8R96QBaDANvUj4FA6yAczJW/eECoY+Cr3Z+BQGeC7j29J4RA/CmFIEKYg0D/L3p2oB+IQEfeGLyxT39A4R8ljPRPckBlW7cdqt9sQEpI1/UO4GRArEU0dCZwe0ARG89sNhBxQPo5THjPn2dAZVu3HarfbECubtDCdDB6QBEbz2w2EHFAAKqRGRrQeEAYh9+dXwB+QAz5G9yux4RAwJOTd0KQd0DAk5N3QpB3QBiH351fAH5A7WErneovckB6z4kpBpCDQCx0iltoaIlA19T/qmXIiEAdtBv28UeAQPhS6PIPAHFA/VpIvmPweEAtuOfX/J93QNI/KkVXzJhAGWhZSatLqUA=\",\"dtype\":\"float64\",\"order\":\"little\",\"shape\":[193]}},\"selected\":{\"id\":\"1157\"},\"selection_policy\":{\"id\":\"1156\"}},\"id\":\"1037\",\"type\":\"ColumnDataSource\"},{\"attributes\":{\"source\":{\"id\":\"1104\"}},\"id\":\"1122\",\"type\":\"CDSView\"},{\"attributes\":{\"line_alpha\":0.5,\"line_color\":\"#1f77b4\",\"line_width\":2,\"x\":{\"field\":\"x\"},\"y\":{\"field\":\"y\"}},\"id\":\"1039\",\"type\":\"Line\"},{\"attributes\":{\"line_alpha\":0.1,\"line_color\":\"#aec7e8\",\"line_width\":2,\"x\":{\"field\":\"x\"},\"y\":{\"field\":\"y\"}},\"id\":\"1047\",\"type\":\"Line\"},{\"attributes\":{\"coordinates\":null,\"data_source\":{\"id\":\"1044\"},\"glyph\":{\"id\":\"1046\"},\"group\":null,\"hover_glyph\":null,\"muted_glyph\":{\"id\":\"1048\"},\"nonselection_glyph\":{\"id\":\"1047\"},\"view\":{\"id\":\"1050\"}},\"id\":\"1049\",\"type\":\"GlyphRenderer\"},{\"attributes\":{\"line_alpha\":0.1,\"line_color\":\"#1f77b4\",\"line_width\":2,\"x\":{\"field\":\"x\"},\"y\":{\"field\":\"y\"}},\"id\":\"1040\",\"type\":\"Line\"},{\"attributes\":{\"bottom\":{\"field\":\"bottom_int\"},\"fill_color\":{\"value\":\"#D95F02\"},\"hatch_color\":{\"value\":\"#D95F02\"},\"line_color\":{\"value\":\"#D95F02\"},\"top\":{\"field\":\"Intensity\"},\"width\":{\"value\":0.1},\"x\":{\"field\":\"rightWidth\"}},\"id\":\"1112\",\"type\":\"VBar\"},{\"attributes\":{\"coordinates\":null,\"data_source\":{\"id\":\"1085\"},\"glyph\":{\"id\":\"1093\"},\"group\":null,\"hover_glyph\":null,\"muted_glyph\":{\"id\":\"1095\"},\"nonselection_glyph\":{\"id\":\"1094\"},\"view\":{\"id\":\"1097\"}},\"id\":\"1096\",\"type\":\"GlyphRenderer\"},{\"attributes\":{\"bottom\":{\"field\":\"bottom_int\"},\"fill_alpha\":{\"value\":0.2},\"fill_color\":{\"value\":\"#1B9E77\"},\"hatch_alpha\":{\"value\":0.2},\"hatch_color\":{\"value\":\"#1B9E77\"},\"line_alpha\":{\"value\":0.2},\"line_color\":{\"value\":\"#1B9E77\"},\"top\":{\"field\":\"Intensity\"},\"width\":{\"value\":0.1},\"x\":{\"field\":\"leftWidth\"}},\"id\":\"1089\",\"type\":\"VBar\"},{\"attributes\":{},\"id\":\"1158\",\"type\":\"UnionRenderers\"},{\"attributes\":{\"bottom\":{\"field\":\"bottom_int\"},\"fill_alpha\":{\"value\":0.2},\"fill_color\":{\"value\":\"#D95F02\"},\"hatch_alpha\":{\"value\":0.2},\"hatch_color\":{\"value\":\"#D95F02\"},\"line_alpha\":{\"value\":0.2},\"line_color\":{\"value\":\"#D95F02\"},\"top\":{\"field\":\"Intensity\"},\"width\":{\"value\":0.1},\"x\":{\"field\":\"rightWidth\"}},\"id\":\"1114\",\"type\":\"VBar\"},{\"attributes\":{\"coordinates\":null,\"data_source\":{\"id\":\"1085\"},\"glyph\":{\"id\":\"1087\"},\"group\":null,\"hover_glyph\":null,\"muted_glyph\":{\"id\":\"1089\"},\"nonselection_glyph\":{\"id\":\"1088\"},\"view\":{\"id\":\"1091\"}},\"id\":\"1090\",\"type\":\"GlyphRenderer\"},{\"attributes\":{\"bottom\":{\"field\":\"bottom_int\"},\"fill_color\":{\"value\":\"#1B9E77\"},\"hatch_color\":{\"value\":\"#1B9E77\"},\"line_color\":{\"value\":\"#1B9E77\"},\"top\":{\"field\":\"Intensity\"},\"width\":{\"value\":0.1},\"x\":{\"field\":\"rightWidth\"}},\"id\":\"1093\",\"type\":\"VBar\"},{\"attributes\":{},\"id\":\"1159\",\"type\":\"Selection\"},{\"attributes\":{\"source\":{\"id\":\"1104\"}},\"id\":\"1110\",\"type\":\"CDSView\"},{\"attributes\":{\"source\":{\"id\":\"1085\"}},\"id\":\"1091\",\"type\":\"CDSView\"},{\"attributes\":{\"bottom\":{\"field\":\"bottom_int\"},\"fill_alpha\":{\"value\":0.2},\"fill_color\":{\"value\":\"#1B9E77\"},\"hatch_alpha\":{\"value\":0.2},\"hatch_color\":{\"value\":\"#1B9E77\"},\"line_alpha\":{\"value\":0.2},\"line_color\":{\"value\":\"#1B9E77\"},\"top\":{\"field\":\"Intensity\"},\"width\":{\"value\":0.1},\"x\":{\"field\":\"rightWidth\"}},\"id\":\"1095\",\"type\":\"VBar\"},{\"attributes\":{\"bottom\":{\"field\":\"bottom_int\"},\"fill_alpha\":{\"value\":0.1},\"fill_color\":{\"value\":\"#1B9E77\"},\"hatch_alpha\":{\"value\":0.1},\"hatch_color\":{\"value\":\"#1B9E77\"},\"line_alpha\":{\"value\":0.1},\"line_color\":{\"value\":\"#1B9E77\"},\"top\":{\"field\":\"Intensity\"},\"width\":{\"value\":0.1},\"x\":{\"field\":\"rightWidth\"}},\"id\":\"1094\",\"type\":\"VBar\"},{\"attributes\":{\"fill_alpha\":{\"value\":0.1},\"fill_color\":{\"value\":\"#1f77b4\"},\"hatch_alpha\":{\"value\":0.1},\"line_alpha\":{\"value\":0.1},\"line_color\":{\"value\":\"#1f77b4\"},\"x\":{\"field\":\"leftWidth\"},\"y\":{\"field\":\"Intensity\"}},\"id\":\"1100\",\"type\":\"Circle\"},{\"attributes\":{\"coordinates\":null,\"data_source\":{\"id\":\"1104\"},\"glyph\":{\"id\":\"1112\"},\"group\":null,\"hover_glyph\":null,\"muted_glyph\":{\"id\":\"1114\"},\"nonselection_glyph\":{\"id\":\"1113\"},\"view\":{\"id\":\"1116\"}},\"id\":\"1115\",\"type\":\"GlyphRenderer\"},{\"attributes\":{\"source\":{\"id\":\"1085\"}},\"id\":\"1097\",\"type\":\"CDSView\"},{\"attributes\":{\"fill_alpha\":{\"value\":0},\"fill_color\":{\"value\":\"#1f77b4\"},\"hatch_alpha\":{\"value\":0},\"line_alpha\":{\"value\":0},\"line_color\":{\"value\":\"#1f77b4\"},\"x\":{\"field\":\"leftWidth\"},\"y\":{\"field\":\"Intensity\"}},\"id\":\"1099\",\"type\":\"Circle\"},{\"attributes\":{\"fill_alpha\":{\"value\":0.2},\"fill_color\":{\"value\":\"#1f77b4\"},\"hatch_alpha\":{\"value\":0.2},\"line_alpha\":{\"value\":0.2},\"line_color\":{\"value\":\"#1f77b4\"},\"x\":{\"field\":\"leftWidth\"},\"y\":{\"field\":\"Intensity\"}},\"id\":\"1101\",\"type\":\"Circle\"},{\"attributes\":{\"data\":{\"Intensity\":[235346.49947055007],\"bottom_int\":[0],\"leftWidth\":[818.5],\"ms2_mscore\":[null],\"rightWidth\":[898.4000244140625]},\"selected\":{\"id\":\"1171\"},\"selection_policy\":{\"id\":\"1170\"}},\"id\":\"1104\",\"type\":\"ColumnDataSource\"},{\"attributes\":{\"coordinates\":null,\"data_source\":{\"id\":\"1085\"},\"glyph\":{\"id\":\"1099\"},\"group\":null,\"hover_glyph\":null,\"muted_glyph\":{\"id\":\"1101\"},\"name\":\"leftWidth_apex_point\",\"nonselection_glyph\":{\"id\":\"1100\"},\"view\":{\"id\":\"1103\"}},\"id\":\"1102\",\"type\":\"GlyphRenderer\"},{\"attributes\":{\"source\":{\"id\":\"1085\"}},\"id\":\"1103\",\"type\":\"CDSView\"},{\"attributes\":{\"bottom\":{\"field\":\"bottom_int\"},\"fill_alpha\":{\"value\":0.1},\"fill_color\":{\"value\":\"#D95F02\"},\"hatch_alpha\":{\"value\":0.1},\"hatch_color\":{\"value\":\"#D95F02\"},\"line_alpha\":{\"value\":0.1},\"line_color\":{\"value\":\"#D95F02\"},\"top\":{\"field\":\"Intensity\"},\"width\":{\"value\":0.1},\"x\":{\"field\":\"leftWidth\"}},\"id\":\"1107\",\"type\":\"VBar\"},{\"attributes\":{},\"id\":\"1021\",\"type\":\"WheelZoomTool\"},{\"attributes\":{\"bottom\":{\"field\":\"bottom_int\"},\"fill_alpha\":{\"value\":0.1},\"fill_color\":{\"value\":\"#D95F02\"},\"hatch_alpha\":{\"value\":0.1},\"hatch_color\":{\"value\":\"#D95F02\"},\"line_alpha\":{\"value\":0.1},\"line_color\":{\"value\":\"#D95F02\"},\"top\":{\"field\":\"Intensity\"},\"width\":{\"value\":0.1},\"x\":{\"field\":\"rightWidth\"}},\"id\":\"1113\",\"type\":\"VBar\"},{\"attributes\":{},\"id\":\"1160\",\"type\":\"UnionRenderers\"},{\"attributes\":{\"bottom\":{\"field\":\"bottom_int\"},\"fill_color\":{\"value\":\"#D95F02\"},\"hatch_color\":{\"value\":\"#D95F02\"},\"line_color\":{\"value\":\"#D95F02\"},\"top\":{\"field\":\"Intensity\"},\"width\":{\"value\":0.1},\"x\":{\"field\":\"leftWidth\"}},\"id\":\"1106\",\"type\":\"VBar\"},{\"attributes\":{},\"id\":\"1161\",\"type\":\"Selection\"},{\"attributes\":{\"bottom\":{\"field\":\"bottom_int\"},\"fill_alpha\":{\"value\":0.1},\"fill_color\":{\"value\":\"#7570B3\"},\"hatch_alpha\":{\"value\":0.1},\"hatch_color\":{\"value\":\"#7570B3\"},\"line_alpha\":{\"value\":0.1},\"line_color\":{\"value\":\"#7570B3\"},\"top\":{\"field\":\"Intensity\"},\"width\":{\"value\":0.1},\"x\":{\"field\":\"leftWidth\"}},\"id\":\"1126\",\"type\":\"VBar\"},{\"attributes\":{\"bottom\":{\"field\":\"bottom_int\"},\"fill_alpha\":{\"value\":0.2},\"fill_color\":{\"value\":\"#D95F02\"},\"hatch_alpha\":{\"value\":0.2},\"hatch_color\":{\"value\":\"#D95F02\"},\"line_alpha\":{\"value\":0.2},\"line_color\":{\"value\":\"#D95F02\"},\"top\":{\"field\":\"Intensity\"},\"width\":{\"value\":0.1},\"x\":{\"field\":\"leftWidth\"}},\"id\":\"1108\",\"type\":\"VBar\"},{\"attributes\":{\"coordinates\":null,\"data_source\":{\"id\":\"1104\"},\"glyph\":{\"id\":\"1106\"},\"group\":null,\"hover_glyph\":null,\"muted_glyph\":{\"id\":\"1108\"},\"nonselection_glyph\":{\"id\":\"1107\"},\"view\":{\"id\":\"1110\"}},\"id\":\"1109\",\"type\":\"GlyphRenderer\"},{\"attributes\":{\"bottom\":{\"field\":\"bottom_int\"},\"fill_alpha\":{\"value\":0.1},\"fill_color\":{\"value\":\"#7570B3\"},\"hatch_alpha\":{\"value\":0.1},\"hatch_color\":{\"value\":\"#7570B3\"},\"line_alpha\":{\"value\":0.1},\"line_color\":{\"value\":\"#7570B3\"},\"top\":{\"field\":\"Intensity\"},\"width\":{\"value\":0.1},\"x\":{\"field\":\"rightWidth\"}},\"id\":\"1132\",\"type\":\"VBar\"},{\"attributes\":{\"bottom\":{\"field\":\"bottom_int\"},\"fill_color\":{\"value\":\"#7570B3\"},\"hatch_color\":{\"value\":\"#7570B3\"},\"line_color\":{\"value\":\"#7570B3\"},\"top\":{\"field\":\"Intensity\"},\"width\":{\"value\":0.1},\"x\":{\"field\":\"leftWidth\"}},\"id\":\"1125\",\"type\":\"VBar\"},{\"attributes\":{},\"id\":\"1172\",\"type\":\"UnionRenderers\"},{\"attributes\":{},\"id\":\"1173\",\"type\":\"Selection\"},{\"attributes\":{\"bottom\":{\"field\":\"bottom_int\"},\"fill_alpha\":{\"value\":0.2},\"fill_color\":{\"value\":\"#7570B3\"},\"hatch_alpha\":{\"value\":0.2},\"hatch_color\":{\"value\":\"#7570B3\"},\"line_alpha\":{\"value\":0.2},\"line_color\":{\"value\":\"#7570B3\"},\"top\":{\"field\":\"Intensity\"},\"width\":{\"value\":0.1},\"x\":{\"field\":\"leftWidth\"}},\"id\":\"1127\",\"type\":\"VBar\"},{\"attributes\":{\"coordinates\":null,\"data_source\":{\"id\":\"1123\"},\"glyph\":{\"id\":\"1125\"},\"group\":null,\"hover_glyph\":null,\"muted_glyph\":{\"id\":\"1127\"},\"nonselection_glyph\":{\"id\":\"1126\"},\"view\":{\"id\":\"1129\"}},\"id\":\"1128\",\"type\":\"GlyphRenderer\"},{\"attributes\":{\"coordinates\":null,\"data_source\":{\"id\":\"1123\"},\"glyph\":{\"id\":\"1131\"},\"group\":null,\"hover_glyph\":null,\"muted_glyph\":{\"id\":\"1133\"},\"nonselection_glyph\":{\"id\":\"1132\"},\"view\":{\"id\":\"1135\"}},\"id\":\"1134\",\"type\":\"GlyphRenderer\"},{\"attributes\":{\"source\":{\"id\":\"1123\"}},\"id\":\"1129\",\"type\":\"CDSView\"},{\"attributes\":{\"bottom\":{\"field\":\"bottom_int\"},\"fill_color\":{\"value\":\"#7570B3\"},\"hatch_color\":{\"value\":\"#7570B3\"},\"line_color\":{\"value\":\"#7570B3\"},\"top\":{\"field\":\"Intensity\"},\"width\":{\"value\":0.1},\"x\":{\"field\":\"rightWidth\"}},\"id\":\"1131\",\"type\":\"VBar\"},{\"attributes\":{},\"id\":\"1162\",\"type\":\"UnionRenderers\"},{\"attributes\":{\"bottom\":{\"field\":\"bottom_int\"},\"fill_alpha\":{\"value\":0.2},\"fill_color\":{\"value\":\"#7570B3\"},\"hatch_alpha\":{\"value\":0.2},\"hatch_color\":{\"value\":\"#7570B3\"},\"line_alpha\":{\"value\":0.2},\"line_color\":{\"value\":\"#7570B3\"},\"top\":{\"field\":\"Intensity\"},\"width\":{\"value\":0.1},\"x\":{\"field\":\"rightWidth\"}},\"id\":\"1133\",\"type\":\"VBar\"},{\"attributes\":{\"fill_alpha\":{\"value\":0.1},\"fill_color\":{\"value\":\"#1f77b4\"},\"hatch_alpha\":{\"value\":0.1},\"line_alpha\":{\"value\":0.1},\"line_color\":{\"value\":\"#1f77b4\"},\"x\":{\"field\":\"leftWidth\"},\"y\":{\"field\":\"Intensity\"}},\"id\":\"1138\",\"type\":\"Circle\"},{\"attributes\":{},\"id\":\"1163\",\"type\":\"Selection\"},{\"attributes\":{\"source\":{\"id\":\"1123\"}},\"id\":\"1135\",\"type\":\"CDSView\"},{\"attributes\":{\"fill_alpha\":{\"value\":0},\"fill_color\":{\"value\":\"#1f77b4\"},\"hatch_alpha\":{\"value\":0},\"line_alpha\":{\"value\":0},\"line_color\":{\"value\":\"#1f77b4\"},\"x\":{\"field\":\"leftWidth\"},\"y\":{\"field\":\"Intensity\"}},\"id\":\"1137\",\"type\":\"Circle\"},{\"attributes\":{},\"id\":\"1008\",\"type\":\"LinearScale\"},{\"attributes\":{\"fill_alpha\":{\"value\":0.2},\"fill_color\":{\"value\":\"#1f77b4\"},\"hatch_alpha\":{\"value\":0.2},\"line_alpha\":{\"value\":0.2},\"line_color\":{\"value\":\"#1f77b4\"},\"x\":{\"field\":\"leftWidth\"},\"y\":{\"field\":\"Intensity\"}},\"id\":\"1139\",\"type\":\"Circle\"},{\"attributes\":{\"callback\":null,\"names\":[\"leftWidth_apex_point\"],\"tooltips\":[[\"Intensity\",\"@Intensity\"],[\"Left Width\",\"@leftWidth{0.00}\"],[\"Right Width\",\"@rightWidth{0.00}\"],[\"Peak Group Rank\",\"@peakgroup_rank\"],[\"MS2 m-score\",\"@ms2_mscore\"]]},\"id\":\"1142\",\"type\":\"HoverTool\"},{\"attributes\":{\"coordinates\":null,\"data_source\":{\"id\":\"1123\"},\"glyph\":{\"id\":\"1137\"},\"group\":null,\"hover_glyph\":null,\"muted_glyph\":{\"id\":\"1139\"},\"name\":\"leftWidth_apex_point\",\"nonselection_glyph\":{\"id\":\"1138\"},\"view\":{\"id\":\"1141\"}},\"id\":\"1140\",\"type\":\"GlyphRenderer\"},{\"attributes\":{\"callback\":null,\"tooltips\":[[\"index\",\"$index\"],[\"(rt,int)\",\"(@x{0.00}, @y)\"]]},\"id\":\"1027\",\"type\":\"HoverTool\"},{\"attributes\":{\"source\":{\"id\":\"1123\"}},\"id\":\"1141\",\"type\":\"CDSView\"},{\"attributes\":{\"label\":{\"value\":\"PeakPickerMRM sgolay_frame_legnth=13\"},\"renderers\":[{\"id\":\"1109\"}]},\"id\":\"1146\",\"type\":\"LegendItem\"},{\"attributes\":{\"axis_label\":\"Intensity\",\"axis_label_text_font_size\":\"16pt\",\"coordinates\":null,\"formatter\":{\"id\":\"1151\"},\"group\":null,\"major_label_policy\":{\"id\":\"1152\"},\"major_label_text_font_size\":\"16pt\",\"ticker\":{\"id\":\"1017\"}},\"id\":\"1016\",\"type\":\"LinearAxis\"},{\"attributes\":{\"label\":{\"value\":\"PeakPickerMRM sgolay_frame_length=11\"},\"renderers\":[{\"id\":\"1090\"}]},\"id\":\"1145\",\"type\":\"LegendItem\"},{\"attributes\":{\"coordinates\":null,\"glyph_width\":1,\"group\":null,\"items\":[{\"id\":\"1145\"},{\"id\":\"1146\"},{\"id\":\"1147\"}],\"label_text_font_size\":\"14pt\",\"title\":\"TransitionGroupFeatures\",\"title_text_font_size\":\"14pt\"},\"id\":\"1144\",\"type\":\"Legend\"},{\"attributes\":{\"axis\":{\"id\":\"1016\"},\"coordinates\":null,\"dimension\":1,\"group\":null,\"ticker\":null},\"id\":\"1019\",\"type\":\"Grid\"},{\"attributes\":{},\"id\":\"1017\",\"type\":\"BasicTicker\"},{\"attributes\":{},\"id\":\"1164\",\"type\":\"UnionRenderers\"},{\"attributes\":{\"coordinates\":null,\"group\":null},\"id\":\"1148\",\"type\":\"Title\"},{\"attributes\":{},\"id\":\"1025\",\"type\":\"HelpTool\"},{\"attributes\":{},\"id\":\"1020\",\"type\":\"PanTool\"},{\"attributes\":{\"overlay\":{\"id\":\"1026\"}},\"id\":\"1022\",\"type\":\"BoxZoomTool\"},{\"attributes\":{},\"id\":\"1165\",\"type\":\"Selection\"},{\"attributes\":{},\"id\":\"1023\",\"type\":\"SaveTool\"},{\"attributes\":{},\"id\":\"1024\",\"type\":\"ResetTool\"},{\"attributes\":{\"label\":{\"value\":\"Conformer: Sigmoided\"},\"renderers\":[{\"id\":\"1128\"}]},\"id\":\"1147\",\"type\":\"LegendItem\"},{\"attributes\":{\"bottom_units\":\"screen\",\"coordinates\":null,\"fill_alpha\":0.5,\"fill_color\":\"lightgrey\",\"group\":null,\"left_units\":\"screen\",\"level\":\"overlay\",\"line_alpha\":1.0,\"line_color\":\"black\",\"line_dash\":[4,4],\"line_width\":2,\"right_units\":\"screen\",\"syncable\":false,\"top_units\":\"screen\"},\"id\":\"1026\",\"type\":\"BoxAnnotation\"},{\"attributes\":{\"end\":20000.0},\"id\":\"1006\",\"type\":\"DataRange1d\"},{\"attributes\":{\"source\":{\"id\":\"1037\"}},\"id\":\"1043\",\"type\":\"CDSView\"},{\"attributes\":{\"bottom\":{\"field\":\"bottom_int\"},\"fill_color\":{\"value\":\"#1B9E77\"},\"hatch_color\":{\"value\":\"#1B9E77\"},\"line_color\":{\"value\":\"#1B9E77\"},\"top\":{\"field\":\"Intensity\"},\"width\":{\"value\":0.1},\"x\":{\"field\":\"leftWidth\"}},\"id\":\"1087\",\"type\":\"VBar\"},{\"attributes\":{\"coordinates\":null,\"data_source\":{\"id\":\"1037\"},\"glyph\":{\"id\":\"1039\"},\"group\":null,\"hover_glyph\":null,\"muted_glyph\":{\"id\":\"1041\"},\"nonselection_glyph\":{\"id\":\"1040\"},\"view\":{\"id\":\"1043\"}},\"id\":\"1042\",\"type\":\"GlyphRenderer\"},{\"attributes\":{},\"id\":\"1166\",\"type\":\"UnionRenderers\"},{\"attributes\":{\"end\":1000,\"start\":700},\"id\":\"1004\",\"type\":\"DataRange1d\"},{\"attributes\":{\"line_alpha\":0.1,\"line_color\":\"#ff7f0e\",\"line_width\":2,\"x\":{\"field\":\"x\"},\"y\":{\"field\":\"y\"}},\"id\":\"1054\",\"type\":\"Line\"},{\"attributes\":{},\"id\":\"1167\",\"type\":\"Selection\"},{\"attributes\":{\"tools\":[{\"id\":\"1020\"},{\"id\":\"1021\"},{\"id\":\"1022\"},{\"id\":\"1023\"},{\"id\":\"1024\"},{\"id\":\"1025\"},{\"id\":\"1027\"},{\"id\":\"1142\"}]},\"id\":\"1028\",\"type\":\"Toolbar\"},{\"attributes\":{\"coordinates\":null,\"data_source\":{\"id\":\"1104\"},\"glyph\":{\"id\":\"1118\"},\"group\":null,\"hover_glyph\":null,\"muted_glyph\":{\"id\":\"1120\"},\"name\":\"leftWidth_apex_point\",\"nonselection_glyph\":{\"id\":\"1119\"},\"view\":{\"id\":\"1122\"}},\"id\":\"1121\",\"type\":\"GlyphRenderer\"},{\"attributes\":{\"coordinates\":null,\"data_source\":{\"id\":\"1051\"},\"glyph\":{\"id\":\"1053\"},\"group\":null,\"hover_glyph\":null,\"muted_glyph\":{\"id\":\"1055\"},\"nonselection_glyph\":{\"id\":\"1054\"},\"view\":{\"id\":\"1057\"}},\"id\":\"1056\",\"type\":\"GlyphRenderer\"},{\"attributes\":{\"line_alpha\":0.2,\"line_color\":\"#aec7e8\",\"line_width\":2,\"x\":{\"field\":\"x\"},\"y\":{\"field\":\"y\"}},\"id\":\"1048\",\"type\":\"Line\"},{\"attributes\":{\"line_alpha\":0.5,\"line_color\":\"#ff7f0e\",\"line_width\":2,\"x\":{\"field\":\"x\"},\"y\":{\"field\":\"y\"}},\"id\":\"1053\",\"type\":\"Line\"},{\"attributes\":{\"source\":{\"id\":\"1044\"}},\"id\":\"1050\",\"type\":\"CDSView\"},{\"attributes\":{\"data\":{\"precursor_mz\":[null,null,null,null,null,null,null,null,null,null,null,null,null,null,null,null,null,null,null,null,null,null,null,null,null,null,null,null,null,null,null,null,null,null,null,null,null,null,null,null,null,null,null,null,null,null,null,null,null,null,null,null,null,null,null,null,null,null,null,null,null,null,null,null,null,null,null,null,null,null,null,null,null,null,null,null,null,null,null,null,null,null,null,null,null,null,null,null,null,null,null,null,null,null,null,null,null,null,null,null,null,null,null,null,null,null,null,null,null,null,null,null,null,null,null,null,null,null,null,null,null,null,null,null,null,null,null,null,null,null,null,null,null,null,null,null,null,null,null,null,null,null,null,null,null,null,null,null,null,null,null,null,null,null,null,null,null,null,null,null,null,null,null,null,null,null,null,null,null,null,null,null,null,null,null,null,null,null,null,null,null,null,null,null,null,null,null,null,null,null,null,null,null],\"product_charge\":[null,null,null,null,null,null,null,null,null,null,null,null,null,null,null,null,null,null,null,null,null,null,null,null,null,null,null,null,null,null,null,null,null,null,null,null,null,null,null,null,null,null,null,null,null,null,null,null,null,null,null,null,null,null,null,null,null,null,null,null,null,null,null,null,null,null,null,null,null,null,null,null,null,null,null,null,null,null,null,null,null,null,null,null,null,null,null,null,null,null,null,null,null,null,null,null,null,null,null,null,null,null,null,null,null,null,null,null,null,null,null,null,null,null,null,null,null,null,null,null,null,null,null,null,null,null,null,null,null,null,null,null,null,null,null,null,null,null,null,null,null,null,null,null,null,null,null,null,null,null,null,null,null,null,null,null,null,null,null,null,null,null,null,null,null,null,null,null,null,null,null,null,null,null,null,null,null,null,null,null,null,null,null,null,null,null,null,null,null,null,null,null,null],\"product_mz\":[null,null,null,null,null,null,null,null,null,null,null,null,null,null,null,null,null,null,null,null,null,null,null,null,null,null,null,null,null,null,null,null,null,null,null,null,null,null,null,null,null,null,null,null,null,null,null,null,null,null,null,null,null,null,null,null,null,null,null,null,null,null,null,null,null,null,null,null,null,null,null,null,null,null,null,null,null,null,null,null,null,null,null,null,null,null,null,null,null,null,null,null,null,null,null,null,null,null,null,null,null,null,null,null,null,null,null,null,null,null,null,null,null,null,null,null,null,null,null,null,null,null,null,null,null,null,null,null,null,null,null,null,null,null,null,null,null,null,null,null,null,null,null,null,null,null,null,null,null,null,null,null,null,null,null,null,null,null,null,null,null,null,null,null,null,null,null,null,null,null,null,null,null,null,null,null,null,null,null,null,null,null,null,null,null,null,null,null,null,null,null,null,null],\"x\":{\"__ndarray__\":\"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\",\"dtype\":\"float64\",\"order\":\"little\",\"shape\":[193]},\"y\":{\"__ndarray__\":\"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\",\"dtype\":\"float64\",\"order\":\"little\",\"shape\":[193]}},\"selected\":{\"id\":\"1161\"},\"selection_policy\":{\"id\":\"1160\"}},\"id\":\"1051\",\"type\":\"ColumnDataSource\"},{\"attributes\":{\"fill_alpha\":{\"value\":0.2},\"fill_color\":{\"value\":\"#1f77b4\"},\"hatch_alpha\":{\"value\":0.2},\"line_alpha\":{\"value\":0.2},\"line_color\":{\"value\":\"#1f77b4\"},\"x\":{\"field\":\"leftWidth\"},\"y\":{\"field\":\"Intensity\"}},\"id\":\"1120\",\"type\":\"Circle\"},{\"attributes\":{\"line_alpha\":0.1,\"line_color\":\"#ffbb78\",\"line_width\":2,\"x\":{\"field\":\"x\"},\"y\":{\"field\":\"y\"}},\"id\":\"1061\",\"type\":\"Line\"},{\"attributes\":{},\"id\":\"1168\",\"type\":\"UnionRenderers\"},{\"attributes\":{\"data\":{\"Intensity\":[235346.49947055007],\"bottom_int\":[0],\"leftWidth\":[847.6],\"ms2_mscore\":[null],\"rightWidth\":[883.9]},\"selected\":{\"id\":\"1173\"},\"selection_policy\":{\"id\":\"1172\"}},\"id\":\"1123\",\"type\":\"ColumnDataSource\"},{\"attributes\":{\"coordinates\":null,\"data_source\":{\"id\":\"1058\"},\"glyph\":{\"id\":\"1060\"},\"group\":null,\"hover_glyph\":null,\"muted_glyph\":{\"id\":\"1062\"},\"nonselection_glyph\":{\"id\":\"1061\"},\"view\":{\"id\":\"1064\"}},\"id\":\"1063\",\"type\":\"GlyphRenderer\"},{\"attributes\":{\"line_alpha\":0.2,\"line_color\":\"#ff7f0e\",\"line_width\":2,\"x\":{\"field\":\"x\"},\"y\":{\"field\":\"y\"}},\"id\":\"1055\",\"type\":\"Line\"},{\"attributes\":{},\"id\":\"1169\",\"type\":\"Selection\"},{\"attributes\":{\"line_alpha\":0.5,\"line_color\":\"#ffbb78\",\"line_width\":2,\"x\":{\"field\":\"x\"},\"y\":{\"field\":\"y\"}},\"id\":\"1060\",\"type\":\"Line\"},{\"attributes\":{\"source\":{\"id\":\"1051\"}},\"id\":\"1057\",\"type\":\"CDSView\"},{\"attributes\":{\"data\":{\"precursor_mz\":[null,null,null,null,null,null,null,null,null,null,null,null,null,null,null,null,null,null,null,null,null,null,null,null,null,null,null,null,null,null,null,null,null,null,null,null,null,null,null,null,null,null,null,null,null,null,null,null,null,null,null,null,null,null,null,null,null,null,null,null,null,null,null,null,null,null,null,null,null,null,null,null,null,null,null,null,null,null,null,null,null,null,null,null,null,null,null,null,null,null,null,null,null,null,null,null,null,null,null,null,null,null,null,null,null,null,null,null,null,null,null,null,null,null,null,null,null,null,null,null,null,null,null,null,null,null,null,null,null,null,null,null,null,null,null,null,null,null,null,null,null,null,null,null,null,null,null,null,null,null,null,null,null,null,null,null,null,null,null,null,null,null,null,null,null,null,null,null,null,null,null,null,null,null,null,null,null,null,null,null,null,null,null,null,null,null,null,null,null,null,null,null,null],\"product_charge\":[null,null,null,null,null,null,null,null,null,null,null,null,null,null,null,null,null,null,null,null,null,null,null,null,null,null,null,null,null,null,null,null,null,null,null,null,null,null,null,null,null,null,null,null,null,null,null,null,null,null,null,null,null,null,null,null,null,null,null,null,null,null,null,null,null,null,null,null,null,null,null,null,null,null,null,null,null,null,null,null,null,null,null,null,null,null,null,null,null,null,null,null,null,null,null,null,null,null,null,null,null,null,null,null,null,null,null,null,null,null,null,null,null,null,null,null,null,null,null,null,null,null,null,null,null,null,null,null,null,null,null,null,null,null,null,null,null,null,null,null,null,null,null,null,null,null,null,null,null,null,null,null,null,null,null,null,null,null,null,null,null,null,null,null,null,null,null,null,null,null,null,null,null,null,null,null,null,null,null,null,null,null,null,null,null,null,null,null,null,null,null,null,null],\"product_mz\":[null,null,null,null,null,null,null,null,null,null,null,null,null,null,null,null,null,null,null,null,null,null,null,null,null,null,null,null,null,null,null,null,null,null,null,null,null,null,null,null,null,null,null,null,null,null,null,null,null,null,null,null,null,null,null,null,null,null,null,null,null,null,null,null,null,null,null,null,null,null,null,null,null,null,null,null,null,null,null,null,null,null,null,null,null,null,null,null,null,null,null,null,null,null,null,null,null,null,null,null,null,null,null,null,null,null,null,null,null,null,null,null,null,null,null,null,null,null,null,null,null,null,null,null,null,null,null,null,null,null,null,null,null,null,null,null,null,null,null,null,null,null,null,null,null,null,null,null,null,null,null,null,null,null,null,null,null,null,null,null,null,null,null,null,null,null,null,null,null,null,null,null,null,null,null,null,null,null,null,null,null,null,null,null,null,null,null,null,null,null,null,null,null],\"x\":{\"__ndarray__\":\"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\",\"dtype\":\"float64\",\"order\":\"little\",\"shape\":[193]},\"y\":{\"__ndarray__\":\"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\",\"dtype\":\"float64\",\"order\":\"little\",\"shape\":[193]}},\"selected\":{\"id\":\"1163\"},\"selection_policy\":{\"id\":\"1162\"}},\"id\":\"1058\",\"type\":\"ColumnDataSource\"},{\"attributes\":{\"source\":{\"id\":\"1104\"}},\"id\":\"1116\",\"type\":\"CDSView\"},{\"attributes\":{\"line_alpha\":0.1,\"line_color\":\"#2ca02c\",\"line_width\":2,\"x\":{\"field\":\"x\"},\"y\":{\"field\":\"y\"}},\"id\":\"1068\",\"type\":\"Line\"},{\"attributes\":{\"fill_alpha\":{\"value\":0},\"fill_color\":{\"value\":\"#1f77b4\"},\"hatch_alpha\":{\"value\":0},\"line_alpha\":{\"value\":0},\"line_color\":{\"value\":\"#1f77b4\"},\"x\":{\"field\":\"leftWidth\"},\"y\":{\"field\":\"Intensity\"}},\"id\":\"1118\",\"type\":\"Circle\"},{\"attributes\":{\"coordinates\":null,\"data_source\":{\"id\":\"1065\"},\"glyph\":{\"id\":\"1067\"},\"group\":null,\"hover_glyph\":null,\"muted_glyph\":{\"id\":\"1069\"},\"nonselection_glyph\":{\"id\":\"1068\"},\"view\":{\"id\":\"1071\"}},\"id\":\"1070\",\"type\":\"GlyphRenderer\"},{\"attributes\":{\"line_alpha\":0.2,\"line_color\":\"#ffbb78\",\"line_width\":2,\"x\":{\"field\":\"x\"},\"y\":{\"field\":\"y\"}},\"id\":\"1062\",\"type\":\"Line\"},{\"attributes\":{\"line_alpha\":0.5,\"line_color\":\"#2ca02c\",\"line_width\":2,\"x\":{\"field\":\"x\"},\"y\":{\"field\":\"y\"}},\"id\":\"1067\",\"type\":\"Line\"},{\"attributes\":{\"source\":{\"id\":\"1058\"}},\"id\":\"1064\",\"type\":\"CDSView\"},{\"attributes\":{\"label\":{\"value\":\"y3^1\"},\"renderers\":[{\"id\":\"1056\"}]},\"id\":\"1081\",\"type\":\"LegendItem\"},{\"attributes\":{\"coordinates\":null,\"data_source\":{\"id\":\"1072\"},\"glyph\":{\"id\":\"1074\"},\"group\":null,\"hover_glyph\":null,\"muted_glyph\":{\"id\":\"1076\"},\"nonselection_glyph\":{\"id\":\"1075\"},\"view\":{\"id\":\"1078\"}},\"id\":\"1077\",\"type\":\"GlyphRenderer\"},{\"attributes\":{\"label\":{\"value\":\"b4^1\"},\"renderers\":[{\"id\":\"1077\"}]},\"id\":\"1084\",\"type\":\"LegendItem\"},{\"attributes\":{\"line_alpha\":0.2,\"line_color\":\"#2ca02c\",\"line_width\":2,\"x\":{\"field\":\"x\"},\"y\":{\"field\":\"y\"}},\"id\":\"1069\",\"type\":\"Line\"},{\"attributes\":{\"line_alpha\":0.5,\"line_color\":\"#98df8a\",\"line_width\":2,\"x\":{\"field\":\"x\"},\"y\":{\"field\":\"y\"}},\"id\":\"1074\",\"type\":\"Line\"},{\"attributes\":{\"data\":{\"precursor_mz\":[null,null,null,null,null,null,null,null,null,null,null,null,null,null,null,null,null,null,null,null,null,null,null,null,null,null,null,null,null,null,null,null,null,null,null,null,null,null,null,null,null,null,null,null,null,null,null,null,null,null,null,null,null,null,null,null,null,null,null,null,null,null,null,null,null,null,null,null,null,null,null,null,null,null,null,null,null,null,null,null,null,null,null,null,null,null,null,null,null,null,null,null,null,null,null,null,null,null,null,null,null,null,null,null,null,null,null,null,null,null,null,null,null,null,null,null,null,null,null,null,null,null,null,null,null,null,null,null,null,null,null,null,null,null,null,null,null,null,null,null,null,null,null,null,null,null,null,null,null,null,null,null,null,null,null,null,null,null,null,null,null,null,null,null,null,null,null,null,null,null,null,null,null,null,null,null,null,null,null,null,null,null,null,null,null,null,null,null,null,null,null,null,null],\"product_charge\":[null,null,null,null,null,null,null,null,null,null,null,null,null,null,null,null,null,null,null,null,null,null,null,null,null,null,null,null,null,null,null,null,null,null,null,null,null,null,null,null,null,null,null,null,null,null,null,null,null,null,null,null,null,null,null,null,null,null,null,null,null,null,null,null,null,null,null,null,null,null,null,null,null,null,null,null,null,null,null,null,null,null,null,null,null,null,null,null,null,null,null,null,null,null,null,null,null,null,null,null,null,null,null,null,null,null,null,null,null,null,null,null,null,null,null,null,null,null,null,null,null,null,null,null,null,null,null,null,null,null,null,null,null,null,null,null,null,null,null,null,null,null,null,null,null,null,null,null,null,null,null,null,null,null,null,null,null,null,null,null,null,null,null,null,null,null,null,null,null,null,null,null,null,null,null,null,null,null,null,null,null,null,null,null,null,null,null,null,null,null,null,null,null],\"product_mz\":[null,null,null,null,null,null,null,null,null,null,null,null,null,null,null,null,null,null,null,null,null,null,null,null,null,null,null,null,null,null,null,null,null,null,null,null,null,null,null,null,null,null,null,null,null,null,null,null,null,null,null,null,null,null,null,null,null,null,null,null,null,null,null,null,null,null,null,null,null,null,null,null,null,null,null,null,null,null,null,null,null,null,null,null,null,null,null,null,null,null,null,null,null,null,null,null,null,null,null,null,null,null,null,null,null,null,null,null,null,null,null,null,null,null,null,null,null,null,null,null,null,null,null,null,null,null,null,null,null,null,null,null,null,null,null,null,null,null,null,null,null,null,null,null,null,null,null,null,null,null,null,null,null,null,null,null,null,null,null,null,null,null,null,null,null,null,null,null,null,null,null,null,null,null,null,null,null,null,null,null,null,null,null,null,null,null,null,null,null,null,null,null,null],\"x\":{\"__ndarray__\":\"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\",\"dtype\":\"float64\",\"order\":\"little\",\"shape\":[193]},\"y\":{\"__ndarray__\":\"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\",\"dtype\":\"float64\",\"order\":\"little\",\"shape\":[193]}},\"selected\":{\"id\":\"1165\"},\"selection_policy\":{\"id\":\"1164\"}},\"id\":\"1065\",\"type\":\"ColumnDataSource\"},{\"attributes\":{\"axis\":{\"id\":\"1012\"},\"coordinates\":null,\"group\":null,\"ticker\":null},\"id\":\"1015\",\"type\":\"Grid\"},{\"attributes\":{\"line_alpha\":0.1,\"line_color\":\"#98df8a\",\"line_width\":2,\"x\":{\"field\":\"x\"},\"y\":{\"field\":\"y\"}},\"id\":\"1075\",\"type\":\"Line\"},{\"attributes\":{\"label\":{\"value\":\"y5^1\"},\"renderers\":[{\"id\":\"1063\"}]},\"id\":\"1082\",\"type\":\"LegendItem\"},{\"attributes\":{\"label\":{\"value\":\"y2^1\"},\"renderers\":[{\"id\":\"1070\"}]},\"id\":\"1083\",\"type\":\"LegendItem\"},{\"attributes\":{\"data\":{\"precursor_mz\":[null,null,null,null,null,null,null,null,null,null,null,null,null,null,null,null,null,null,null,null,null,null,null,null,null,null,null,null,null,null,null,null,null,null,null,null,null,null,null,null,null,null,null,null,null,null,null,null,null,null,null,null,null,null,null,null,null,null,null,null,null,null,null,null,null,null,null,null,null,null,null,null,null,null,null,null,null,null,null,null,null,null,null,null,null,null,null,null,null,null,null,null,null,null,null,null,null,null,null,null,null,null,null,null,null,null,null,null,null,null,null,null,null,null,null,null,null,null,null,null,null,null,null,null,null,null,null,null,null,null,null,null,null,null,null,null,null,null,null,null,null,null,null,null,null,null,null,null,null,null,null,null,null,null,null,null,null,null,null,null,null,null,null,null,null,null,null,null,null,null,null,null,null,null,null,null,null,null,null,null,null,null,null,null,null,null,null,null,null,null,null,null,null],\"product_charge\":[null,null,null,null,null,null,null,null,null,null,null,null,null,null,null,null,null,null,null,null,null,null,null,null,null,null,null,null,null,null,null,null,null,null,null,null,null,null,null,null,null,null,null,null,null,null,null,null,null,null,null,null,null,null,null,null,null,null,null,null,null,null,null,null,null,null,null,null,null,null,null,null,null,null,null,null,null,null,null,null,null,null,null,null,null,null,null,null,null,null,null,null,null,null,null,null,null,null,null,null,null,null,null,null,null,null,null,null,null,null,null,null,null,null,null,null,null,null,null,null,null,null,null,null,null,null,null,null,null,null,null,null,null,null,null,null,null,null,null,null,null,null,null,null,null,null,null,null,null,null,null,null,null,null,null,null,null,null,null,null,null,null,null,null,null,null,null,null,null,null,null,null,null,null,null,null,null,null,null,null,null,null,null,null,null,null,null,null,null,null,null,null,null],\"product_mz\":[null,null,null,null,null,null,null,null,null,null,null,null,null,null,null,null,null,null,null,null,null,null,null,null,null,null,null,null,null,null,null,null,null,null,null,null,null,null,null,null,null,null,null,null,null,null,null,null,null,null,null,null,null,null,null,null,null,null,null,null,null,null,null,null,null,null,null,null,null,null,null,null,null,null,null,null,null,null,null,null,null,null,null,null,null,null,null,null,null,null,null,null,null,null,null,null,null,null,null,null,null,null,null,null,null,null,null,null,null,null,null,null,null,null,null,null,null,null,null,null,null,null,null,null,null,null,null,null,null,null,null,null,null,null,null,null,null,null,null,null,null,null,null,null,null,null,null,null,null,null,null,null,null,null,null,null,null,null,null,null,null,null,null,null,null,null,null,null,null,null,null,null,null,null,null,null,null,null,null,null,null,null,null,null,null,null,null,null,null,null,null,null,null],\"x\":{\"__ndarray__\":\"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\",\"dtype\":\"float64\",\"order\":\"little\",\"shape\":[193]},\"y\":{\"__ndarray__\":\"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\",\"dtype\":\"float64\",\"order\":\"little\",\"shape\":[193]}},\"selected\":{\"id\":\"1159\"},\"selection_policy\":{\"id\":\"1158\"}},\"id\":\"1044\",\"type\":\"ColumnDataSource\"},{\"attributes\":{\"line_alpha\":0.2,\"line_color\":\"#1f77b4\",\"line_width\":2,\"x\":{\"field\":\"x\"},\"y\":{\"field\":\"y\"}},\"id\":\"1041\",\"type\":\"Line\"},{\"attributes\":{},\"id\":\"1013\",\"type\":\"BasicTicker\"},{\"attributes\":{},\"id\":\"1151\",\"type\":\"BasicTickFormatter\"},{\"attributes\":{},\"id\":\"1010\",\"type\":\"LinearScale\"},{\"attributes\":{\"data\":{\"Intensity\":[235346.49947055007],\"bottom_int\":[0],\"leftWidth\":[843.9000244140625],\"ms2_mscore\":[null],\"rightWidth\":[916.5999755859375]},\"selected\":{\"id\":\"1169\"},\"selection_policy\":{\"id\":\"1168\"}},\"id\":\"1085\",\"type\":\"ColumnDataSource\"},{\"attributes\":{},\"id\":\"1152\",\"type\":\"AllLabels\"},{\"attributes\":{\"source\":{\"id\":\"1072\"}},\"id\":\"1078\",\"type\":\"CDSView\"},{\"attributes\":{\"label\":{\"value\":\"y1^1\"},\"renderers\":[{\"id\":\"1049\"}]},\"id\":\"1080\",\"type\":\"LegendItem\"},{\"attributes\":{\"axis_label\":\"Retention Time\",\"axis_label_text_font_size\":\"16pt\",\"coordinates\":null,\"formatter\":{\"id\":\"1154\"},\"group\":null,\"major_label_policy\":{\"id\":\"1155\"},\"major_label_text_font_size\":\"16pt\",\"ticker\":{\"id\":\"1013\"}},\"id\":\"1012\",\"type\":\"LinearAxis\"},{\"attributes\":{\"line_alpha\":0.5,\"line_color\":\"#aec7e8\",\"line_width\":2,\"x\":{\"field\":\"x\"},\"y\":{\"field\":\"y\"}},\"id\":\"1046\",\"type\":\"Line\"},{\"attributes\":{\"line_alpha\":0.2,\"line_color\":\"#98df8a\",\"line_width\":2,\"x\":{\"field\":\"x\"},\"y\":{\"field\":\"y\"}},\"id\":\"1076\",\"type\":\"Line\"},{\"attributes\":{},\"id\":\"1170\",\"type\":\"UnionRenderers\"}],\"root_ids\":[\"1003\"]},\"title\":\"Bokeh Application\",\"version\":\"2.4.3\"}};\n",
       "  const render_items = [{\"docid\":\"16b8e2d6-63ba-4994-a0c1-dba9741a80f3\",\"root_ids\":[\"1003\"],\"roots\":{\"1003\":\"3457bf30-061a-4d97-aec3-0d0cce509860\"}}];\n",
       "  root.Bokeh.embed.embed_items_notebook(docs_json, render_items);\n",
       "  }\n",
       "  if (root.Bokeh !== undefined) {\n",
       "    embed_document(root);\n",
       "  } else {\n",
       "    let attempts = 0;\n",
       "    const timer = setInterval(function(root) {\n",
       "      if (root.Bokeh !== undefined) {\n",
       "        clearInterval(timer);\n",
       "        embed_document(root);\n",
       "      } else {\n",
       "        attempts++;\n",
       "        if (attempts > 100) {\n",
       "          clearInterval(timer);\n",
       "          console.log(\"Bokeh: ERROR: Unable to run BokehJS code because BokehJS library is missing\");\n",
       "        }\n",
       "      }\n",
       "    }, 10, root)\n",
       "  }\n",
       "})(window);"
      ],
      "application/vnd.bokehjs_exec.v0+json": ""
     },
     "metadata": {
      "application/vnd.bokehjs_exec.v0+json": {
       "id": "1003"
      }
     },
     "output_type": "display_data"
    },
    {
     "data": {
      "text/plain": [
       "['Figure_Peak_Picking.svg']"
      ]
     },
     "execution_count": 7,
     "metadata": {},
     "output_type": "execute_result"
    }
   ],
   "source": [
    "from massdash.plotting import InteractivePlotter, PlotConfig\n",
    "\n",
    "plotConfig = PlotConfig()\n",
    "plotConfig.smoothing_dict = dict(type='none')\n",
    "plotConfig.include_ms1 = False\n",
    "\n",
    "plotter = InteractivePlotter(plotConfig)\n",
    "\n",
    "fig = plotter.plot(transitionGroup, \n",
    "                   features=[topFeatureMRM_Default, topFeatureMRM_Wide, topFeatureConformer], \n",
    "                   feature_legend_labels=['PeakPickerMRM sgolay_frame_length=11','PeakPickerMRM sgolay_frame_legnth=13', 'Conformer: Sigmoided'])\n",
    "\n",
    "\n",
    "\n",
    "fig.y_range.end = 2e4\n",
    "fig.x_range.start = 700\n",
    "fig.x_range.end = 1000\n",
    "fig.axis.axis_label_text_font_size= '16pt'\n",
    "fig.axis.major_label_text_font_size = '16pt'\n",
    "fig.legend.label_text_font_size = '14pt'\n",
    "fig.legend.title_text_font_size = '14pt'\n",
    "fig.toolbar_location = None\n",
    "\n",
    "show(fig)\n",
    "\n",
    "fig.output_backend = 'svg'\n",
    "\n",
    "export_svg(fig, filename='Figure_Peak_Picking.svg')"
   ]
  }
 ],
 "metadata": {
  "kernelspec": {
   "display_name": "Python 3 (ipykernel)",
   "language": "python",
   "name": "python3"
  },
  "language_info": {
   "codemirror_mode": {
    "name": "ipython",
    "version": 3
   },
   "file_extension": ".py",
   "mimetype": "text/x-python",
   "name": "python",
   "nbconvert_exporter": "python",
   "pygments_lexer": "ipython3",
   "version": "3.10.13"
  }
 },
 "nbformat": 4,
 "nbformat_minor": 5
}
