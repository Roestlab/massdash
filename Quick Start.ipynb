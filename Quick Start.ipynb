{
 "cells": [
  {
   "cell_type": "markdown",
   "id": "cd537c30-9bcc-4efd-a749-bac4f6d78241",
   "metadata": {
    "editable": true,
    "slideshow": {
     "slide_type": ""
    },
    "tags": []
   },
   "source": [
    "# Quick Start"
   ]
  },
  {
   "cell_type": "markdown",
   "id": "e1863fd6-f9ab-497d-851a-6e1273143872",
   "metadata": {
    "editable": true,
    "slideshow": {
     "slide_type": ""
    },
    "tags": []
   },
   "source": [
    "This page provides an overview of the functionalities of MassDash and shows a highlights a few convience functions to help you get started with the python interface. The python interface is designed to be run in a jupyter notebook so that plots can be reproducibly generated for a particular peptide of interest."
   ]
  },
  {
   "cell_type": "code",
   "execution_count": 1,
   "id": "c92ee981-17ed-439c-9d5c-1a73b02d1a90",
   "metadata": {
    "editable": true,
    "nbsphinx": "hidden",
    "slideshow": {
     "slide_type": ""
    },
    "tags": []
   },
   "outputs": [],
   "source": [
    "%load_ext autoreload\n",
    "%autoreload 2"
   ]
  },
  {
   "cell_type": "code",
   "execution_count": 2,
   "id": "e6785d91-70c6-4b5d-9f15-71f20c93955e",
   "metadata": {
    "editable": true,
    "nbsphinx": "hidden",
    "slideshow": {
     "slide_type": ""
    },
    "tags": []
   },
   "outputs": [],
   "source": [
    "# Please run this before executing any cell\n",
    "import os\n",
    "os.chdir(\"../../test/test_data/\") #### Insert path to data, this is the path to the tutorial data. "
   ]
  },
  {
   "cell_type": "markdown",
   "id": "8f3df370-62bf-45ce-b7f1-62fa96b2b918",
   "metadata": {
    "editable": true,
    "slideshow": {
     "slide_type": ""
    },
    "tags": []
   },
   "source": [
    "## Plotting a Chromatogram"
   ]
  },
  {
   "cell_type": "markdown",
   "id": "25b6a934-8464-4c4e-9cf7-635d575ac2b6",
   "metadata": {
    "editable": true,
    "slideshow": {
     "slide_type": ""
    },
    "tags": []
   },
   "source": [
    "Here, we will demonstrate how to plot a chromatogram of the peptide *NKESPT(UniMod:21)KAIVR(UniMod:267)* with a charge state of *3* from multiple different file inputs. The general process is that first the loader object must be initiated and then we can call the `plotChromatogram()` method to fetch an interactive plot for a specified precursor. "
   ]
  },
  {
   "cell_type": "markdown",
   "id": "46bf0fc9-497d-499e-8d29-865126c4db21",
   "metadata": {
    "editable": true,
    "slideshow": {
     "slide_type": ""
    },
    "tags": []
   },
   "source": [
    "### SqMass Visualization"
   ]
  },
  {
   "cell_type": "markdown",
   "id": "180c3d94-36e5-4620-965b-7bd6de399383",
   "metadata": {
    "editable": true,
    "slideshow": {
     "slide_type": ""
    },
    "tags": []
   },
   "source": [
    "Running [OpenSwath](http://www.openswath.org) with a `out_chrom filename.sqMass` will output the extracted chromatograms alongside the OpenSwath results. Since extraction is already performed this is the quickest way to visualize plots. "
   ]
  },
  {
   "cell_type": "raw",
   "id": "228a7493-4540-43ab-9b4e-1e5bc06b3e0a",
   "metadata": {
    "editable": true,
    "raw_mimetype": "text/restructuredtext",
    "slideshow": {
     "slide_type": ""
    },
    "tags": []
   },
   "source": [
    "Since the .sqMass file does not contain any metadata, to link chromatograms with their corresponding peptide sequence we must link an ``.osw`` file with the ``.sqMass`` file. In MassDash this is done by initiating a :py:class:`~loaders.SqMassLoader` as shown below.  "
   ]
  },
  {
   "cell_type": "code",
   "execution_count": 3,
   "id": "8b6839d8-e12c-4beb-978f-0c92f03b8c42",
   "metadata": {
    "editable": true,
    "slideshow": {
     "slide_type": ""
    },
    "tags": []
   },
   "outputs": [
    {
     "name": "stdout",
     "output_type": "stream",
     "text": [
      "Initializing valid scores for selection\n"
     ]
    }
   ],
   "source": [
    "from massdash.loaders import SqMassLoader\n",
    "sqMassLoader = SqMassLoader(rsltsFile='osw/test_data.osw', dataFiles='xics/test_chrom_1.sqMass')"
   ]
  },
  {
   "cell_type": "raw",
   "id": "adcb677d-b696-462c-88dc-bd6a36d3fb7c",
   "metadata": {
    "editable": true,
    "raw_mimetype": "text/restructuredtext",
    "slideshow": {
     "slide_type": ""
    },
    "tags": []
   },
   "source": [
    "Now that the :py:class:`~plotting.SqMassLoader` is initiated we can use it to plot a chroamtogram. To plot a chromatogram, we use the :py:func:`~structs.SqMassLoader.plotChromatogram` function."
   ]
  },
  {
   "cell_type": "code",
   "execution_count": 7,
   "id": "7d1b07fe-6839-4700-905a-a9ea706dcba5",
   "metadata": {
    "editable": true,
    "slideshow": {
     "slide_type": ""
    },
    "tags": []
   },
   "outputs": [
    {
     "name": "stdout",
     "output_type": "stream",
     "text": [
      "-------- TransitionGroup --------\n",
      "precursor data: 1\n",
      "transition data: 6\n",
      "data type: Chromatogram\n"
     ]
    },
    {
     "data": {
      "text/html": [
       "<div class=\"bk-root\">\n",
       "        <a href=\"https://bokeh.org\" target=\"_blank\" class=\"bk-logo bk-logo-small bk-logo-notebook\"></a>\n",
       "        <span id=\"1004\">Loading BokehJS ...</span>\n",
       "    </div>\n"
      ]
     },
     "metadata": {},
     "output_type": "display_data"
    },
    {
     "data": {
      "application/javascript": [
       "(function(root) {\n",
       "  function now() {\n",
       "    return new Date();\n",
       "  }\n",
       "\n",
       "  const force = true;\n",
       "\n",
       "  if (typeof root._bokeh_onload_callbacks === \"undefined\" || force === true) {\n",
       "    root._bokeh_onload_callbacks = [];\n",
       "    root._bokeh_is_loading = undefined;\n",
       "  }\n",
       "\n",
       "const JS_MIME_TYPE = 'application/javascript';\n",
       "  const HTML_MIME_TYPE = 'text/html';\n",
       "  const EXEC_MIME_TYPE = 'application/vnd.bokehjs_exec.v0+json';\n",
       "  const CLASS_NAME = 'output_bokeh rendered_html';\n",
       "\n",
       "  /**\n",
       "   * Render data to the DOM node\n",
       "   */\n",
       "  function render(props, node) {\n",
       "    const script = document.createElement(\"script\");\n",
       "    node.appendChild(script);\n",
       "  }\n",
       "\n",
       "  /**\n",
       "   * Handle when an output is cleared or removed\n",
       "   */\n",
       "  function handleClearOutput(event, handle) {\n",
       "    const cell = handle.cell;\n",
       "\n",
       "    const id = cell.output_area._bokeh_element_id;\n",
       "    const server_id = cell.output_area._bokeh_server_id;\n",
       "    // Clean up Bokeh references\n",
       "    if (id != null && id in Bokeh.index) {\n",
       "      Bokeh.index[id].model.document.clear();\n",
       "      delete Bokeh.index[id];\n",
       "    }\n",
       "\n",
       "    if (server_id !== undefined) {\n",
       "      // Clean up Bokeh references\n",
       "      const cmd_clean = \"from bokeh.io.state import curstate; print(curstate().uuid_to_server['\" + server_id + \"'].get_sessions()[0].document.roots[0]._id)\";\n",
       "      cell.notebook.kernel.execute(cmd_clean, {\n",
       "        iopub: {\n",
       "          output: function(msg) {\n",
       "            const id = msg.content.text.trim();\n",
       "            if (id in Bokeh.index) {\n",
       "              Bokeh.index[id].model.document.clear();\n",
       "              delete Bokeh.index[id];\n",
       "            }\n",
       "          }\n",
       "        }\n",
       "      });\n",
       "      // Destroy server and session\n",
       "      const cmd_destroy = \"import bokeh.io.notebook as ion; ion.destroy_server('\" + server_id + \"')\";\n",
       "      cell.notebook.kernel.execute(cmd_destroy);\n",
       "    }\n",
       "  }\n",
       "\n",
       "  /**\n",
       "   * Handle when a new output is added\n",
       "   */\n",
       "  function handleAddOutput(event, handle) {\n",
       "    const output_area = handle.output_area;\n",
       "    const output = handle.output;\n",
       "\n",
       "    // limit handleAddOutput to display_data with EXEC_MIME_TYPE content only\n",
       "    if ((output.output_type != \"display_data\") || (!Object.prototype.hasOwnProperty.call(output.data, EXEC_MIME_TYPE))) {\n",
       "      return\n",
       "    }\n",
       "\n",
       "    const toinsert = output_area.element.find(\".\" + CLASS_NAME.split(' ')[0]);\n",
       "\n",
       "    if (output.metadata[EXEC_MIME_TYPE][\"id\"] !== undefined) {\n",
       "      toinsert[toinsert.length - 1].firstChild.textContent = output.data[JS_MIME_TYPE];\n",
       "      // store reference to embed id on output_area\n",
       "      output_area._bokeh_element_id = output.metadata[EXEC_MIME_TYPE][\"id\"];\n",
       "    }\n",
       "    if (output.metadata[EXEC_MIME_TYPE][\"server_id\"] !== undefined) {\n",
       "      const bk_div = document.createElement(\"div\");\n",
       "      bk_div.innerHTML = output.data[HTML_MIME_TYPE];\n",
       "      const script_attrs = bk_div.children[0].attributes;\n",
       "      for (let i = 0; i < script_attrs.length; i++) {\n",
       "        toinsert[toinsert.length - 1].firstChild.setAttribute(script_attrs[i].name, script_attrs[i].value);\n",
       "        toinsert[toinsert.length - 1].firstChild.textContent = bk_div.children[0].textContent\n",
       "      }\n",
       "      // store reference to server id on output_area\n",
       "      output_area._bokeh_server_id = output.metadata[EXEC_MIME_TYPE][\"server_id\"];\n",
       "    }\n",
       "  }\n",
       "\n",
       "  function register_renderer(events, OutputArea) {\n",
       "\n",
       "    function append_mime(data, metadata, element) {\n",
       "      // create a DOM node to render to\n",
       "      const toinsert = this.create_output_subarea(\n",
       "        metadata,\n",
       "        CLASS_NAME,\n",
       "        EXEC_MIME_TYPE\n",
       "      );\n",
       "      this.keyboard_manager.register_events(toinsert);\n",
       "      // Render to node\n",
       "      const props = {data: data, metadata: metadata[EXEC_MIME_TYPE]};\n",
       "      render(props, toinsert[toinsert.length - 1]);\n",
       "      element.append(toinsert);\n",
       "      return toinsert\n",
       "    }\n",
       "\n",
       "    /* Handle when an output is cleared or removed */\n",
       "    events.on('clear_output.CodeCell', handleClearOutput);\n",
       "    events.on('delete.Cell', handleClearOutput);\n",
       "\n",
       "    /* Handle when a new output is added */\n",
       "    events.on('output_added.OutputArea', handleAddOutput);\n",
       "\n",
       "    /**\n",
       "     * Register the mime type and append_mime function with output_area\n",
       "     */\n",
       "    OutputArea.prototype.register_mime_type(EXEC_MIME_TYPE, append_mime, {\n",
       "      /* Is output safe? */\n",
       "      safe: true,\n",
       "      /* Index of renderer in `output_area.display_order` */\n",
       "      index: 0\n",
       "    });\n",
       "  }\n",
       "\n",
       "  // register the mime type if in Jupyter Notebook environment and previously unregistered\n",
       "  if (root.Jupyter !== undefined) {\n",
       "    const events = require('base/js/events');\n",
       "    const OutputArea = require('notebook/js/outputarea').OutputArea;\n",
       "\n",
       "    if (OutputArea.prototype.mime_types().indexOf(EXEC_MIME_TYPE) == -1) {\n",
       "      register_renderer(events, OutputArea);\n",
       "    }\n",
       "  }\n",
       "  if (typeof (root._bokeh_timeout) === \"undefined\" || force === true) {\n",
       "    root._bokeh_timeout = Date.now() + 5000;\n",
       "    root._bokeh_failed_load = false;\n",
       "  }\n",
       "\n",
       "  const NB_LOAD_WARNING = {'data': {'text/html':\n",
       "     \"<div style='background-color: #fdd'>\\n\"+\n",
       "     \"<p>\\n\"+\n",
       "     \"BokehJS does not appear to have successfully loaded. If loading BokehJS from CDN, this \\n\"+\n",
       "     \"may be due to a slow or bad network connection. Possible fixes:\\n\"+\n",
       "     \"</p>\\n\"+\n",
       "     \"<ul>\\n\"+\n",
       "     \"<li>re-rerun `output_notebook()` to attempt to load from CDN again, or</li>\\n\"+\n",
       "     \"<li>use INLINE resources instead, as so:</li>\\n\"+\n",
       "     \"</ul>\\n\"+\n",
       "     \"<code>\\n\"+\n",
       "     \"from bokeh.resources import INLINE\\n\"+\n",
       "     \"output_notebook(resources=INLINE)\\n\"+\n",
       "     \"</code>\\n\"+\n",
       "     \"</div>\"}};\n",
       "\n",
       "  function display_loaded() {\n",
       "    const el = document.getElementById(\"1004\");\n",
       "    if (el != null) {\n",
       "      el.textContent = \"BokehJS is loading...\";\n",
       "    }\n",
       "    if (root.Bokeh !== undefined) {\n",
       "      if (el != null) {\n",
       "        el.textContent = \"BokehJS \" + root.Bokeh.version + \" successfully loaded.\";\n",
       "      }\n",
       "    } else if (Date.now() < root._bokeh_timeout) {\n",
       "      setTimeout(display_loaded, 100)\n",
       "    }\n",
       "  }\n",
       "\n",
       "  function run_callbacks() {\n",
       "    try {\n",
       "      root._bokeh_onload_callbacks.forEach(function(callback) {\n",
       "        if (callback != null)\n",
       "          callback();\n",
       "      });\n",
       "    } finally {\n",
       "      delete root._bokeh_onload_callbacks\n",
       "    }\n",
       "    console.debug(\"Bokeh: all callbacks have finished\");\n",
       "  }\n",
       "\n",
       "  function load_libs(css_urls, js_urls, callback) {\n",
       "    if (css_urls == null) css_urls = [];\n",
       "    if (js_urls == null) js_urls = [];\n",
       "\n",
       "    root._bokeh_onload_callbacks.push(callback);\n",
       "    if (root._bokeh_is_loading > 0) {\n",
       "      console.debug(\"Bokeh: BokehJS is being loaded, scheduling callback at\", now());\n",
       "      return null;\n",
       "    }\n",
       "    if (js_urls == null || js_urls.length === 0) {\n",
       "      run_callbacks();\n",
       "      return null;\n",
       "    }\n",
       "    console.debug(\"Bokeh: BokehJS not loaded, scheduling load and callback at\", now());\n",
       "    root._bokeh_is_loading = css_urls.length + js_urls.length;\n",
       "\n",
       "    function on_load() {\n",
       "      root._bokeh_is_loading--;\n",
       "      if (root._bokeh_is_loading === 0) {\n",
       "        console.debug(\"Bokeh: all BokehJS libraries/stylesheets loaded\");\n",
       "        run_callbacks()\n",
       "      }\n",
       "    }\n",
       "\n",
       "    function on_error(url) {\n",
       "      console.error(\"failed to load \" + url);\n",
       "    }\n",
       "\n",
       "    for (let i = 0; i < css_urls.length; i++) {\n",
       "      const url = css_urls[i];\n",
       "      const element = document.createElement(\"link\");\n",
       "      element.onload = on_load;\n",
       "      element.onerror = on_error.bind(null, url);\n",
       "      element.rel = \"stylesheet\";\n",
       "      element.type = \"text/css\";\n",
       "      element.href = url;\n",
       "      console.debug(\"Bokeh: injecting link tag for BokehJS stylesheet: \", url);\n",
       "      document.body.appendChild(element);\n",
       "    }\n",
       "\n",
       "    for (let i = 0; i < js_urls.length; i++) {\n",
       "      const url = js_urls[i];\n",
       "      const element = document.createElement('script');\n",
       "      element.onload = on_load;\n",
       "      element.onerror = on_error.bind(null, url);\n",
       "      element.async = false;\n",
       "      element.src = url;\n",
       "      console.debug(\"Bokeh: injecting script tag for BokehJS library: \", url);\n",
       "      document.head.appendChild(element);\n",
       "    }\n",
       "  };\n",
       "\n",
       "  function inject_raw_css(css) {\n",
       "    const element = document.createElement(\"style\");\n",
       "    element.appendChild(document.createTextNode(css));\n",
       "    document.body.appendChild(element);\n",
       "  }\n",
       "\n",
       "  const js_urls = [\"https://cdn.bokeh.org/bokeh/release/bokeh-2.4.3.min.js\", \"https://cdn.bokeh.org/bokeh/release/bokeh-gl-2.4.3.min.js\", \"https://cdn.bokeh.org/bokeh/release/bokeh-widgets-2.4.3.min.js\", \"https://cdn.bokeh.org/bokeh/release/bokeh-tables-2.4.3.min.js\", \"https://cdn.bokeh.org/bokeh/release/bokeh-mathjax-2.4.3.min.js\"];\n",
       "  const css_urls = [];\n",
       "\n",
       "  const inline_js = [    function(Bokeh) {\n",
       "      Bokeh.set_log_level(\"info\");\n",
       "    },\n",
       "function(Bokeh) {\n",
       "    }\n",
       "  ];\n",
       "\n",
       "  function run_inline_js() {\n",
       "    if (root.Bokeh !== undefined || force === true) {\n",
       "          for (let i = 0; i < inline_js.length; i++) {\n",
       "      inline_js[i].call(root, root.Bokeh);\n",
       "    }\n",
       "if (force === true) {\n",
       "        display_loaded();\n",
       "      }} else if (Date.now() < root._bokeh_timeout) {\n",
       "      setTimeout(run_inline_js, 100);\n",
       "    } else if (!root._bokeh_failed_load) {\n",
       "      console.log(\"Bokeh: BokehJS failed to load within specified timeout.\");\n",
       "      root._bokeh_failed_load = true;\n",
       "    } else if (force !== true) {\n",
       "      const cell = $(document.getElementById(\"1004\")).parents('.cell').data().cell;\n",
       "      cell.output_area.append_execute_result(NB_LOAD_WARNING)\n",
       "    }\n",
       "  }\n",
       "\n",
       "  if (root._bokeh_is_loading === 0) {\n",
       "    console.debug(\"Bokeh: BokehJS loaded, going straight to plotting\");\n",
       "    run_inline_js();\n",
       "  } else {\n",
       "    load_libs(css_urls, js_urls, function() {\n",
       "      console.debug(\"Bokeh: BokehJS plotting callback run at\", now());\n",
       "      run_inline_js();\n",
       "    });\n",
       "  }\n",
       "}(window));"
      ],
      "application/vnd.bokehjs_load.v0+json": "(function(root) {\n  function now() {\n    return new Date();\n  }\n\n  const force = true;\n\n  if (typeof root._bokeh_onload_callbacks === \"undefined\" || force === true) {\n    root._bokeh_onload_callbacks = [];\n    root._bokeh_is_loading = undefined;\n  }\n\n\n  if (typeof (root._bokeh_timeout) === \"undefined\" || force === true) {\n    root._bokeh_timeout = Date.now() + 5000;\n    root._bokeh_failed_load = false;\n  }\n\n  const NB_LOAD_WARNING = {'data': {'text/html':\n     \"<div style='background-color: #fdd'>\\n\"+\n     \"<p>\\n\"+\n     \"BokehJS does not appear to have successfully loaded. If loading BokehJS from CDN, this \\n\"+\n     \"may be due to a slow or bad network connection. Possible fixes:\\n\"+\n     \"</p>\\n\"+\n     \"<ul>\\n\"+\n     \"<li>re-rerun `output_notebook()` to attempt to load from CDN again, or</li>\\n\"+\n     \"<li>use INLINE resources instead, as so:</li>\\n\"+\n     \"</ul>\\n\"+\n     \"<code>\\n\"+\n     \"from bokeh.resources import INLINE\\n\"+\n     \"output_notebook(resources=INLINE)\\n\"+\n     \"</code>\\n\"+\n     \"</div>\"}};\n\n  function display_loaded() {\n    const el = document.getElementById(\"1004\");\n    if (el != null) {\n      el.textContent = \"BokehJS is loading...\";\n    }\n    if (root.Bokeh !== undefined) {\n      if (el != null) {\n        el.textContent = \"BokehJS \" + root.Bokeh.version + \" successfully loaded.\";\n      }\n    } else if (Date.now() < root._bokeh_timeout) {\n      setTimeout(display_loaded, 100)\n    }\n  }\n\n  function run_callbacks() {\n    try {\n      root._bokeh_onload_callbacks.forEach(function(callback) {\n        if (callback != null)\n          callback();\n      });\n    } finally {\n      delete root._bokeh_onload_callbacks\n    }\n    console.debug(\"Bokeh: all callbacks have finished\");\n  }\n\n  function load_libs(css_urls, js_urls, callback) {\n    if (css_urls == null) css_urls = [];\n    if (js_urls == null) js_urls = [];\n\n    root._bokeh_onload_callbacks.push(callback);\n    if (root._bokeh_is_loading > 0) {\n      console.debug(\"Bokeh: BokehJS is being loaded, scheduling callback at\", now());\n      return null;\n    }\n    if (js_urls == null || js_urls.length === 0) {\n      run_callbacks();\n      return null;\n    }\n    console.debug(\"Bokeh: BokehJS not loaded, scheduling load and callback at\", now());\n    root._bokeh_is_loading = css_urls.length + js_urls.length;\n\n    function on_load() {\n      root._bokeh_is_loading--;\n      if (root._bokeh_is_loading === 0) {\n        console.debug(\"Bokeh: all BokehJS libraries/stylesheets loaded\");\n        run_callbacks()\n      }\n    }\n\n    function on_error(url) {\n      console.error(\"failed to load \" + url);\n    }\n\n    for (let i = 0; i < css_urls.length; i++) {\n      const url = css_urls[i];\n      const element = document.createElement(\"link\");\n      element.onload = on_load;\n      element.onerror = on_error.bind(null, url);\n      element.rel = \"stylesheet\";\n      element.type = \"text/css\";\n      element.href = url;\n      console.debug(\"Bokeh: injecting link tag for BokehJS stylesheet: \", url);\n      document.body.appendChild(element);\n    }\n\n    for (let i = 0; i < js_urls.length; i++) {\n      const url = js_urls[i];\n      const element = document.createElement('script');\n      element.onload = on_load;\n      element.onerror = on_error.bind(null, url);\n      element.async = false;\n      element.src = url;\n      console.debug(\"Bokeh: injecting script tag for BokehJS library: \", url);\n      document.head.appendChild(element);\n    }\n  };\n\n  function inject_raw_css(css) {\n    const element = document.createElement(\"style\");\n    element.appendChild(document.createTextNode(css));\n    document.body.appendChild(element);\n  }\n\n  const js_urls = [\"https://cdn.bokeh.org/bokeh/release/bokeh-2.4.3.min.js\", \"https://cdn.bokeh.org/bokeh/release/bokeh-gl-2.4.3.min.js\", \"https://cdn.bokeh.org/bokeh/release/bokeh-widgets-2.4.3.min.js\", \"https://cdn.bokeh.org/bokeh/release/bokeh-tables-2.4.3.min.js\", \"https://cdn.bokeh.org/bokeh/release/bokeh-mathjax-2.4.3.min.js\"];\n  const css_urls = [];\n\n  const inline_js = [    function(Bokeh) {\n      Bokeh.set_log_level(\"info\");\n    },\nfunction(Bokeh) {\n    }\n  ];\n\n  function run_inline_js() {\n    if (root.Bokeh !== undefined || force === true) {\n          for (let i = 0; i < inline_js.length; i++) {\n      inline_js[i].call(root, root.Bokeh);\n    }\nif (force === true) {\n        display_loaded();\n      }} else if (Date.now() < root._bokeh_timeout) {\n      setTimeout(run_inline_js, 100);\n    } else if (!root._bokeh_failed_load) {\n      console.log(\"Bokeh: BokehJS failed to load within specified timeout.\");\n      root._bokeh_failed_load = true;\n    } else if (force !== true) {\n      const cell = $(document.getElementById(\"1004\")).parents('.cell').data().cell;\n      cell.output_area.append_execute_result(NB_LOAD_WARNING)\n    }\n  }\n\n  if (root._bokeh_is_loading === 0) {\n    console.debug(\"Bokeh: BokehJS loaded, going straight to plotting\");\n    run_inline_js();\n  } else {\n    load_libs(css_urls, js_urls, function() {\n      console.debug(\"Bokeh: BokehJS plotting callback run at\", now());\n      run_inline_js();\n    });\n  }\n}(window));"
     },
     "metadata": {},
     "output_type": "display_data"
    },
    {
     "data": {
      "text/html": [
       "\n",
       "  <div class=\"bk-root\" id=\"ca510ad1-f5d7-415b-94a7-d873b2d12f3c\" data-root-id=\"1005\"></div>\n"
      ]
     },
     "metadata": {},
     "output_type": "display_data"
    },
    {
     "data": {
      "application/javascript": [
       "(function(root) {\n",
       "  function embed_document(root) {\n",
       "  const docs_json = {\"cd7c9d9f-7f71-4d8d-ba42-fd753f04b357\":{\"defs\":[],\"roots\":{\"references\":[{\"attributes\":{\"above\":[{\"id\":\"1165\"}],\"below\":[{\"id\":\"1014\"}],\"center\":[{\"id\":\"1017\"},{\"id\":\"1021\"}],\"height\":450,\"left\":[{\"id\":\"1018\"}],\"renderers\":[{\"id\":\"1044\"},{\"id\":\"1051\"},{\"id\":\"1058\"},{\"id\":\"1065\"},{\"id\":\"1072\"},{\"id\":\"1079\"},{\"id\":\"1092\"},{\"id\":\"1098\"},{\"id\":\"1104\"},{\"id\":\"1111\"},{\"id\":\"1117\"},{\"id\":\"1123\"},{\"id\":\"1130\"},{\"id\":\"1136\"},{\"id\":\"1142\"},{\"id\":\"1149\"},{\"id\":\"1155\"},{\"id\":\"1161\"}],\"right\":[{\"id\":\"1038\"}],\"sizing_mode\":\"scale_width\",\"title\":{\"id\":\"1170\"},\"toolbar\":{\"id\":\"1030\"},\"toolbar_location\":\"above\",\"width\":800,\"x_range\":{\"id\":\"1006\"},\"x_scale\":{\"id\":\"1010\"},\"y_range\":{\"id\":\"1008\"},\"y_scale\":{\"id\":\"1012\"}},\"id\":\"1005\",\"subtype\":\"Figure\",\"type\":\"Plot\"},{\"attributes\":{\"line_alpha\":0.5,\"line_color\":\"#ffbb78\",\"line_width\":2,\"x\":{\"field\":\"x\"},\"y\":{\"field\":\"y\"}},\"id\":\"1062\",\"type\":\"Line\"},{\"attributes\":{\"line_alpha\":0.2,\"line_color\":\"#2ca02c\",\"line_width\":2,\"x\":{\"field\":\"x\"},\"y\":{\"field\":\"y\"}},\"id\":\"1071\",\"type\":\"Line\"},{\"attributes\":{\"fill_alpha\":{\"value\":0.2},\"fill_color\":{\"value\":\"#1f77b4\"},\"hatch_alpha\":{\"value\":0.2},\"line_alpha\":{\"value\":0.2},\"line_color\":{\"value\":\"#1f77b4\"},\"x\":{\"field\":\"leftWidth\"},\"y\":{\"field\":\"Intensity\"}},\"id\":\"1122\",\"type\":\"Circle\"},{\"attributes\":{\"fill_alpha\":{\"value\":0.2},\"fill_color\":{\"value\":\"#1f77b4\"},\"hatch_alpha\":{\"value\":0.2},\"line_alpha\":{\"value\":0.2},\"line_color\":{\"value\":\"#1f77b4\"},\"x\":{\"field\":\"leftWidth\"},\"y\":{\"field\":\"Intensity\"}},\"id\":\"1160\",\"type\":\"Circle\"},{\"attributes\":{\"data\":{\"precursor_mz\":[null,null,null,null,null,null,null,null,null,null,null,null,null,null,null,null,null,null,null,null,null,null,null,null,null,null,null,null,null,null,null,null,null,null,null,null,null,null,null,null,null,null,null,null,null,null,null,null,null,null,null,null,null,null,null,null,null,null,null,null,null,null,null,null,null,null,null,null,null,null,null,null,null,null,null,null,null,null,null,null,null,null,null,null,null,null,null,null,null,null,null,null,null,null,null,null,null,null,null,null,null,null,null,null,null,null,null,null,null,null,null,null,null,null,null,null,null,null,null,null,null,null,null,null,null,null,null,null,null,null,null,null,null,null,null,null,null,null,null,null,null,null,null,null,null,null,null,null,null,null,null,null,null,null,null,null,null,null,null,null,null,null,null,null,null,null,null,null,null,null,null,null,null,null,null,null,null,null,null,null,null,null,null,null,null,null,null,null,null,null,null,null,null],\"product_charge\":[null,null,null,null,null,null,null,null,null,null,null,null,null,null,null,null,null,null,null,null,null,null,null,null,null,null,null,null,null,null,null,null,null,null,null,null,null,null,null,null,null,null,null,null,null,null,null,null,null,null,null,null,null,null,null,null,null,null,null,null,null,null,null,null,null,null,null,null,null,null,null,null,null,null,null,null,null,null,null,null,null,null,null,null,null,null,null,null,null,null,null,null,null,null,null,null,null,null,null,null,null,null,null,null,null,null,null,null,null,null,null,null,null,null,null,null,null,null,null,null,null,null,null,null,null,null,null,null,null,null,null,null,null,null,null,null,null,null,null,null,null,null,null,null,null,null,null,null,null,null,null,null,null,null,null,null,null,null,null,null,null,null,null,null,null,null,null,null,null,null,null,null,null,null,null,null,null,null,null,null,null,null,null,null,null,null,null,null,null,null,null,null,null],\"product_mz\":[null,null,null,null,null,null,null,null,null,null,null,null,null,null,null,null,null,null,null,null,null,null,null,null,null,null,null,null,null,null,null,null,null,null,null,null,null,null,null,null,null,null,null,null,null,null,null,null,null,null,null,null,null,null,null,null,null,null,null,null,null,null,null,null,null,null,null,null,null,null,null,null,null,null,null,null,null,null,null,null,null,null,null,null,null,null,null,null,null,null,null,null,null,null,null,null,null,null,null,null,null,null,null,null,null,null,null,null,null,null,null,null,null,null,null,null,null,null,null,null,null,null,null,null,null,null,null,null,null,null,null,null,null,null,null,null,null,null,null,null,null,null,null,null,null,null,null,null,null,null,null,null,null,null,null,null,null,null,null,null,null,null,null,null,null,null,null,null,null,null,null,null,null,null,null,null,null,null,null,null,null,null,null,null,null,null,null,null,null,null,null,null,null],\"x\":{\"__ndarray__\":\"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\",\"dtype\":\"float64\",\"order\":\"little\",\"shape\":[193]},\"y\":{\"__ndarray__\":\"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\",\"dtype\":\"float64\",\"order\":\"little\",\"shape\":[193]}},\"selected\":{\"id\":\"1181\"},\"selection_policy\":{\"id\":\"1180\"}},\"id\":\"1046\",\"type\":\"ColumnDataSource\"},{\"attributes\":{\"line_alpha\":0.2,\"line_color\":\"#98df8a\",\"line_width\":2,\"x\":{\"field\":\"x\"},\"y\":{\"field\":\"y\"}},\"id\":\"1078\",\"type\":\"Line\"},{\"attributes\":{},\"id\":\"1173\",\"type\":\"BasicTickFormatter\"},{\"attributes\":{},\"id\":\"1180\",\"type\":\"UnionRenderers\"},{\"attributes\":{\"bottom\":{\"field\":\"bottom_int\"},\"fill_alpha\":{\"value\":0.1},\"fill_color\":{\"value\":\"#7570B3\"},\"hatch_alpha\":{\"value\":0.1},\"hatch_color\":{\"value\":\"#7570B3\"},\"line_alpha\":{\"value\":0.1},\"line_color\":{\"value\":\"#7570B3\"},\"top\":{\"field\":\"Intensity\"},\"width\":{\"value\":0.3},\"x\":{\"field\":\"leftWidth\"}},\"id\":\"1128\",\"type\":\"VBar\"},{\"attributes\":{\"fill_alpha\":{\"value\":0.1},\"fill_color\":{\"value\":\"#1f77b4\"},\"hatch_alpha\":{\"value\":0.1},\"line_alpha\":{\"value\":0.1},\"line_color\":{\"value\":\"#1f77b4\"},\"x\":{\"field\":\"leftWidth\"},\"y\":{\"field\":\"Intensity\"}},\"id\":\"1159\",\"type\":\"Circle\"},{\"attributes\":{\"data\":{\"precursor_mz\":[null,null,null,null,null,null,null,null,null,null,null,null,null,null,null,null,null,null,null,null,null,null,null,null,null,null,null,null,null,null,null,null,null,null,null,null,null,null,null,null,null,null,null,null,null,null,null,null,null,null,null,null,null,null,null,null,null,null,null,null,null,null,null,null,null,null,null,null,null,null,null,null,null,null,null,null,null,null,null,null,null,null,null,null,null,null,null,null,null,null,null,null,null,null,null,null,null,null,null,null,null,null,null,null,null,null,null,null,null,null,null,null,null,null,null,null,null,null,null,null,null,null,null,null,null,null,null,null,null,null,null,null,null,null,null,null,null,null,null,null,null,null,null,null,null,null,null,null,null,null,null,null,null,null,null,null,null,null,null,null,null,null,null,null,null,null,null,null,null,null,null,null,null,null,null,null,null,null,null,null,null,null,null,null,null,null,null,null,null,null,null,null,null],\"product_charge\":[null,null,null,null,null,null,null,null,null,null,null,null,null,null,null,null,null,null,null,null,null,null,null,null,null,null,null,null,null,null,null,null,null,null,null,null,null,null,null,null,null,null,null,null,null,null,null,null,null,null,null,null,null,null,null,null,null,null,null,null,null,null,null,null,null,null,null,null,null,null,null,null,null,null,null,null,null,null,null,null,null,null,null,null,null,null,null,null,null,null,null,null,null,null,null,null,null,null,null,null,null,null,null,null,null,null,null,null,null,null,null,null,null,null,null,null,null,null,null,null,null,null,null,null,null,null,null,null,null,null,null,null,null,null,null,null,null,null,null,null,null,null,null,null,null,null,null,null,null,null,null,null,null,null,null,null,null,null,null,null,null,null,null,null,null,null,null,null,null,null,null,null,null,null,null,null,null,null,null,null,null,null,null,null,null,null,null,null,null,null,null,null,null],\"product_mz\":[null,null,null,null,null,null,null,null,null,null,null,null,null,null,null,null,null,null,null,null,null,null,null,null,null,null,null,null,null,null,null,null,null,null,null,null,null,null,null,null,null,null,null,null,null,null,null,null,null,null,null,null,null,null,null,null,null,null,null,null,null,null,null,null,null,null,null,null,null,null,null,null,null,null,null,null,null,null,null,null,null,null,null,null,null,null,null,null,null,null,null,null,null,null,null,null,null,null,null,null,null,null,null,null,null,null,null,null,null,null,null,null,null,null,null,null,null,null,null,null,null,null,null,null,null,null,null,null,null,null,null,null,null,null,null,null,null,null,null,null,null,null,null,null,null,null,null,null,null,null,null,null,null,null,null,null,null,null,null,null,null,null,null,null,null,null,null,null,null,null,null,null,null,null,null,null,null,null,null,null,null,null,null,null,null,null,null,null,null,null,null,null,null],\"x\":{\"__ndarray__\":\"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\",\"dtype\":\"float64\",\"order\":\"little\",\"shape\":[193]},\"y\":{\"__ndarray__\":\"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\",\"dtype\":\"float64\",\"order\":\"little\",\"shape\":[193]}},\"selected\":{\"id\":\"1189\"},\"selection_policy\":{\"id\":\"1188\"}},\"id\":\"1074\",\"type\":\"ColumnDataSource\"},{\"attributes\":{},\"id\":\"1179\",\"type\":\"Selection\"},{\"attributes\":{\"coordinates\":null,\"data_source\":{\"id\":\"1106\"},\"glyph\":{\"id\":\"1108\"},\"group\":null,\"hover_glyph\":null,\"muted_glyph\":{\"id\":\"1110\"},\"nonselection_glyph\":{\"id\":\"1109\"},\"view\":{\"id\":\"1112\"}},\"id\":\"1111\",\"type\":\"GlyphRenderer\"},{\"attributes\":{},\"id\":\"1181\",\"type\":\"Selection\"},{\"attributes\":{\"source\":{\"id\":\"1125\"}},\"id\":\"1137\",\"type\":\"CDSView\"},{\"attributes\":{\"coordinates\":null,\"glyph_width\":1,\"group\":null,\"items\":[{\"id\":\"1166\"},{\"id\":\"1167\"},{\"id\":\"1168\"},{\"id\":\"1169\"}],\"title\":\"TransitionGroupFeatures\"},\"id\":\"1165\",\"type\":\"Legend\"},{\"attributes\":{\"label\":{\"value\":\"y2^1\"},\"renderers\":[{\"id\":\"1072\"}]},\"id\":\"1085\",\"type\":\"LegendItem\"},{\"attributes\":{},\"id\":\"1176\",\"type\":\"BasicTickFormatter\"},{\"attributes\":{\"fill_alpha\":{\"value\":0},\"fill_color\":{\"value\":\"#1f77b4\"},\"hatch_alpha\":{\"value\":0},\"line_alpha\":{\"value\":0},\"line_color\":{\"value\":\"#1f77b4\"},\"x\":{\"field\":\"leftWidth\"},\"y\":{\"field\":\"Intensity\"}},\"id\":\"1101\",\"type\":\"Circle\"},{\"attributes\":{\"bottom\":{\"field\":\"bottom_int\"},\"fill_alpha\":{\"value\":0.1},\"fill_color\":{\"value\":\"#E7298A\"},\"hatch_alpha\":{\"value\":0.1},\"hatch_color\":{\"value\":\"#E7298A\"},\"line_alpha\":{\"value\":0.1},\"line_color\":{\"value\":\"#E7298A\"},\"top\":{\"field\":\"Intensity\"},\"width\":{\"value\":0.3},\"x\":{\"field\":\"rightWidth\"}},\"id\":\"1153\",\"type\":\"VBar\"},{\"attributes\":{\"tools\":[{\"id\":\"1022\"},{\"id\":\"1023\"},{\"id\":\"1024\"},{\"id\":\"1025\"},{\"id\":\"1026\"},{\"id\":\"1027\"},{\"id\":\"1029\"},{\"id\":\"1163\"}]},\"id\":\"1030\",\"type\":\"Toolbar\"},{\"attributes\":{\"line_alpha\":0.1,\"line_color\":\"#ffbb78\",\"line_width\":2,\"x\":{\"field\":\"x\"},\"y\":{\"field\":\"y\"}},\"id\":\"1063\",\"type\":\"Line\"},{\"attributes\":{\"line_alpha\":0.2,\"line_color\":\"#ffbb78\",\"line_width\":2,\"x\":{\"field\":\"x\"},\"y\":{\"field\":\"y\"}},\"id\":\"1064\",\"type\":\"Line\"},{\"attributes\":{},\"id\":\"1012\",\"type\":\"LinearScale\"},{\"attributes\":{\"click_policy\":\"mute\",\"coordinates\":null,\"group\":null,\"items\":[{\"id\":\"1081\"},{\"id\":\"1082\"},{\"id\":\"1083\"},{\"id\":\"1084\"},{\"id\":\"1085\"},{\"id\":\"1086\"}],\"label_text_font_size\":\"10pt\",\"location\":\"top_left\",\"title\":\"Transition\"},\"id\":\"1038\",\"type\":\"Legend\"},{\"attributes\":{\"line_alpha\":0.1,\"line_color\":\"#98df8a\",\"line_width\":2,\"x\":{\"field\":\"x\"},\"y\":{\"field\":\"y\"}},\"id\":\"1077\",\"type\":\"Line\"},{\"attributes\":{\"overlay\":{\"id\":\"1028\"}},\"id\":\"1024\",\"type\":\"BoxZoomTool\"},{\"attributes\":{},\"id\":\"1188\",\"type\":\"UnionRenderers\"},{\"attributes\":{\"coordinates\":null,\"data_source\":{\"id\":\"1144\"},\"glyph\":{\"id\":\"1158\"},\"group\":null,\"hover_glyph\":null,\"muted_glyph\":{\"id\":\"1160\"},\"name\":\"leftWidth_apex_point\",\"nonselection_glyph\":{\"id\":\"1159\"},\"view\":{\"id\":\"1162\"}},\"id\":\"1161\",\"type\":\"GlyphRenderer\"},{\"attributes\":{},\"id\":\"1189\",\"type\":\"Selection\"},{\"attributes\":{},\"id\":\"1023\",\"type\":\"WheelZoomTool\"},{\"attributes\":{\"coordinates\":null,\"data_source\":{\"id\":\"1125\"},\"glyph\":{\"id\":\"1139\"},\"group\":null,\"hover_glyph\":null,\"muted_glyph\":{\"id\":\"1141\"},\"name\":\"leftWidth_apex_point\",\"nonselection_glyph\":{\"id\":\"1140\"},\"view\":{\"id\":\"1143\"}},\"id\":\"1142\",\"type\":\"GlyphRenderer\"},{\"attributes\":{\"fill_alpha\":{\"value\":0},\"fill_color\":{\"value\":\"#1f77b4\"},\"hatch_alpha\":{\"value\":0},\"line_alpha\":{\"value\":0},\"line_color\":{\"value\":\"#1f77b4\"},\"x\":{\"field\":\"leftWidth\"},\"y\":{\"field\":\"Intensity\"}},\"id\":\"1158\",\"type\":\"Circle\"},{\"attributes\":{\"fill_alpha\":{\"value\":0.1},\"fill_color\":{\"value\":\"#1f77b4\"},\"hatch_alpha\":{\"value\":0.1},\"line_alpha\":{\"value\":0.1},\"line_color\":{\"value\":\"#1f77b4\"},\"x\":{\"field\":\"leftWidth\"},\"y\":{\"field\":\"Intensity\"}},\"id\":\"1121\",\"type\":\"Circle\"},{\"attributes\":{\"coordinates\":null,\"data_source\":{\"id\":\"1039\"},\"glyph\":{\"id\":\"1041\"},\"group\":null,\"hover_glyph\":null,\"muted_glyph\":{\"id\":\"1043\"},\"nonselection_glyph\":{\"id\":\"1042\"},\"view\":{\"id\":\"1045\"}},\"id\":\"1044\",\"type\":\"GlyphRenderer\"},{\"attributes\":{\"coordinates\":null,\"data_source\":{\"id\":\"1060\"},\"glyph\":{\"id\":\"1062\"},\"group\":null,\"hover_glyph\":null,\"muted_glyph\":{\"id\":\"1064\"},\"nonselection_glyph\":{\"id\":\"1063\"},\"view\":{\"id\":\"1066\"}},\"id\":\"1065\",\"type\":\"GlyphRenderer\"},{\"attributes\":{\"source\":{\"id\":\"1046\"}},\"id\":\"1052\",\"type\":\"CDSView\"},{\"attributes\":{\"source\":{\"id\":\"1106\"}},\"id\":\"1118\",\"type\":\"CDSView\"},{\"attributes\":{\"label\":{\"value\":\"Feature 1\"},\"renderers\":[{\"id\":\"1092\"}]},\"id\":\"1166\",\"type\":\"LegendItem\"},{\"attributes\":{},\"id\":\"1183\",\"type\":\"Selection\"},{\"attributes\":{\"bottom\":{\"field\":\"bottom_int\"},\"fill_alpha\":{\"value\":0.2},\"fill_color\":{\"value\":\"#7570B3\"},\"hatch_alpha\":{\"value\":0.2},\"hatch_color\":{\"value\":\"#7570B3\"},\"line_alpha\":{\"value\":0.2},\"line_color\":{\"value\":\"#7570B3\"},\"top\":{\"field\":\"Intensity\"},\"width\":{\"value\":0.3},\"x\":{\"field\":\"leftWidth\"}},\"id\":\"1129\",\"type\":\"VBar\"},{\"attributes\":{\"callback\":null,\"tooltips\":[[\"index\",\"$index\"],[\"(rt,int)\",\"(@x{0.00}, @y)\"]]},\"id\":\"1029\",\"type\":\"HoverTool\"},{\"attributes\":{\"line_alpha\":0.1,\"line_color\":\"#aec7e8\",\"line_width\":2,\"x\":{\"field\":\"x\"},\"y\":{\"field\":\"y\"}},\"id\":\"1049\",\"type\":\"Line\"},{\"attributes\":{\"bottom\":{\"field\":\"bottom_int\"},\"fill_alpha\":{\"value\":0.2},\"fill_color\":{\"value\":\"#D95F02\"},\"hatch_alpha\":{\"value\":0.2},\"hatch_color\":{\"value\":\"#D95F02\"},\"line_alpha\":{\"value\":0.2},\"line_color\":{\"value\":\"#D95F02\"},\"top\":{\"field\":\"Intensity\"},\"width\":{\"value\":0.3},\"x\":{\"field\":\"rightWidth\"}},\"id\":\"1116\",\"type\":\"VBar\"},{\"attributes\":{\"source\":{\"id\":\"1125\"}},\"id\":\"1143\",\"type\":\"CDSView\"},{\"attributes\":{\"label\":{\"value\":\"b4^1\"},\"renderers\":[{\"id\":\"1079\"}]},\"id\":\"1086\",\"type\":\"LegendItem\"},{\"attributes\":{\"source\":{\"id\":\"1060\"}},\"id\":\"1066\",\"type\":\"CDSView\"},{\"attributes\":{},\"id\":\"1194\",\"type\":\"UnionRenderers\"},{\"attributes\":{\"line_alpha\":0.5,\"line_color\":\"#98df8a\",\"line_width\":2,\"x\":{\"field\":\"x\"},\"y\":{\"field\":\"y\"}},\"id\":\"1076\",\"type\":\"Line\"},{\"attributes\":{\"bottom\":{\"field\":\"bottom_int\"},\"fill_alpha\":{\"value\":0.1},\"fill_color\":{\"value\":\"#E7298A\"},\"hatch_alpha\":{\"value\":0.1},\"hatch_color\":{\"value\":\"#E7298A\"},\"line_alpha\":{\"value\":0.1},\"line_color\":{\"value\":\"#E7298A\"},\"top\":{\"field\":\"Intensity\"},\"width\":{\"value\":0.3},\"x\":{\"field\":\"leftWidth\"}},\"id\":\"1147\",\"type\":\"VBar\"},{\"attributes\":{},\"id\":\"1182\",\"type\":\"UnionRenderers\"},{\"attributes\":{\"bottom\":{\"field\":\"bottom_int\"},\"fill_alpha\":{\"value\":0.1},\"fill_color\":{\"value\":\"#1B9E77\"},\"hatch_alpha\":{\"value\":0.1},\"hatch_color\":{\"value\":\"#1B9E77\"},\"line_alpha\":{\"value\":0.1},\"line_color\":{\"value\":\"#1B9E77\"},\"top\":{\"field\":\"Intensity\"},\"width\":{\"value\":0.3},\"x\":{\"field\":\"leftWidth\"}},\"id\":\"1090\",\"type\":\"VBar\"},{\"attributes\":{},\"id\":\"1190\",\"type\":\"UnionRenderers\"},{\"attributes\":{\"bottom\":{\"field\":\"bottom_int\"},\"fill_alpha\":{\"value\":0.2},\"fill_color\":{\"value\":\"#E7298A\"},\"hatch_alpha\":{\"value\":0.2},\"hatch_color\":{\"value\":\"#E7298A\"},\"line_alpha\":{\"value\":0.2},\"line_color\":{\"value\":\"#E7298A\"},\"top\":{\"field\":\"Intensity\"},\"width\":{\"value\":0.3},\"x\":{\"field\":\"leftWidth\"}},\"id\":\"1148\",\"type\":\"VBar\"},{\"attributes\":{\"data\":{\"precursor_mz\":[null,null,null,null,null,null,null,null,null,null,null,null,null,null,null,null,null,null,null,null,null,null,null,null,null,null,null,null,null,null,null,null,null,null,null,null,null,null,null,null,null,null,null,null,null,null,null,null,null,null,null,null,null,null,null,null,null,null,null,null,null,null,null,null,null,null,null,null,null,null,null,null,null,null,null,null,null,null,null,null,null,null,null,null,null,null,null,null,null,null,null,null,null,null,null,null,null,null,null,null,null,null,null,null,null,null,null,null,null,null,null,null,null,null,null,null,null,null,null,null,null,null,null,null,null,null,null,null,null,null,null,null,null,null,null,null,null,null,null,null,null,null,null,null,null,null,null,null,null,null,null,null,null,null,null,null,null,null,null,null,null,null,null,null,null,null,null,null,null,null,null,null,null,null,null,null,null,null,null,null,null,null,null,null,null,null,null,null,null,null,null,null,null],\"product_charge\":[null,null,null,null,null,null,null,null,null,null,null,null,null,null,null,null,null,null,null,null,null,null,null,null,null,null,null,null,null,null,null,null,null,null,null,null,null,null,null,null,null,null,null,null,null,null,null,null,null,null,null,null,null,null,null,null,null,null,null,null,null,null,null,null,null,null,null,null,null,null,null,null,null,null,null,null,null,null,null,null,null,null,null,null,null,null,null,null,null,null,null,null,null,null,null,null,null,null,null,null,null,null,null,null,null,null,null,null,null,null,null,null,null,null,null,null,null,null,null,null,null,null,null,null,null,null,null,null,null,null,null,null,null,null,null,null,null,null,null,null,null,null,null,null,null,null,null,null,null,null,null,null,null,null,null,null,null,null,null,null,null,null,null,null,null,null,null,null,null,null,null,null,null,null,null,null,null,null,null,null,null,null,null,null,null,null,null,null,null,null,null,null,null],\"product_mz\":[null,null,null,null,null,null,null,null,null,null,null,null,null,null,null,null,null,null,null,null,null,null,null,null,null,null,null,null,null,null,null,null,null,null,null,null,null,null,null,null,null,null,null,null,null,null,null,null,null,null,null,null,null,null,null,null,null,null,null,null,null,null,null,null,null,null,null,null,null,null,null,null,null,null,null,null,null,null,null,null,null,null,null,null,null,null,null,null,null,null,null,null,null,null,null,null,null,null,null,null,null,null,null,null,null,null,null,null,null,null,null,null,null,null,null,null,null,null,null,null,null,null,null,null,null,null,null,null,null,null,null,null,null,null,null,null,null,null,null,null,null,null,null,null,null,null,null,null,null,null,null,null,null,null,null,null,null,null,null,null,null,null,null,null,null,null,null,null,null,null,null,null,null,null,null,null,null,null,null,null,null,null,null,null,null,null,null,null,null,null,null,null,null],\"x\":{\"__ndarray__\":\"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\",\"dtype\":\"float64\",\"order\":\"little\",\"shape\":[193]},\"y\":{\"__ndarray__\":\"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\",\"dtype\":\"float64\",\"order\":\"little\",\"shape\":[193]}},\"selected\":{\"id\":\"1183\"},\"selection_policy\":{\"id\":\"1182\"}},\"id\":\"1053\",\"type\":\"ColumnDataSource\"},{\"attributes\":{},\"id\":\"1191\",\"type\":\"Selection\"},{\"attributes\":{},\"id\":\"1195\",\"type\":\"Selection\"},{\"attributes\":{\"data\":{\"precursor_mz\":[null,null,null,null,null,null,null,null,null,null,null,null,null,null,null,null,null,null,null,null,null,null,null,null,null,null,null,null,null,null,null,null,null,null,null,null,null,null,null,null,null,null,null,null,null,null,null,null,null,null,null,null,null,null,null,null,null,null,null,null,null,null,null,null,null,null,null,null,null,null,null,null,null,null,null,null,null,null,null,null,null,null,null,null,null,null,null,null,null,null,null,null,null,null,null,null,null,null,null,null,null,null,null,null,null,null,null,null,null,null,null,null,null,null,null,null,null,null,null,null,null,null,null,null,null,null,null,null,null,null,null,null,null,null,null,null,null,null,null,null,null,null,null,null,null,null,null,null,null,null,null,null,null,null,null,null,null,null,null,null,null,null,null,null,null,null,null,null,null,null,null,null,null,null,null,null,null,null,null,null,null,null,null,null,null,null,null,null,null,null,null,null,null],\"product_charge\":[null,null,null,null,null,null,null,null,null,null,null,null,null,null,null,null,null,null,null,null,null,null,null,null,null,null,null,null,null,null,null,null,null,null,null,null,null,null,null,null,null,null,null,null,null,null,null,null,null,null,null,null,null,null,null,null,null,null,null,null,null,null,null,null,null,null,null,null,null,null,null,null,null,null,null,null,null,null,null,null,null,null,null,null,null,null,null,null,null,null,null,null,null,null,null,null,null,null,null,null,null,null,null,null,null,null,null,null,null,null,null,null,null,null,null,null,null,null,null,null,null,null,null,null,null,null,null,null,null,null,null,null,null,null,null,null,null,null,null,null,null,null,null,null,null,null,null,null,null,null,null,null,null,null,null,null,null,null,null,null,null,null,null,null,null,null,null,null,null,null,null,null,null,null,null,null,null,null,null,null,null,null,null,null,null,null,null,null,null,null,null,null,null],\"product_mz\":[null,null,null,null,null,null,null,null,null,null,null,null,null,null,null,null,null,null,null,null,null,null,null,null,null,null,null,null,null,null,null,null,null,null,null,null,null,null,null,null,null,null,null,null,null,null,null,null,null,null,null,null,null,null,null,null,null,null,null,null,null,null,null,null,null,null,null,null,null,null,null,null,null,null,null,null,null,null,null,null,null,null,null,null,null,null,null,null,null,null,null,null,null,null,null,null,null,null,null,null,null,null,null,null,null,null,null,null,null,null,null,null,null,null,null,null,null,null,null,null,null,null,null,null,null,null,null,null,null,null,null,null,null,null,null,null,null,null,null,null,null,null,null,null,null,null,null,null,null,null,null,null,null,null,null,null,null,null,null,null,null,null,null,null,null,null,null,null,null,null,null,null,null,null,null,null,null,null,null,null,null,null,null,null,null,null,null,null,null,null,null,null,null],\"x\":{\"__ndarray__\":\"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\",\"dtype\":\"float64\",\"order\":\"little\",\"shape\":[193]},\"y\":{\"__ndarray__\":\"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\",\"dtype\":\"float64\",\"order\":\"little\",\"shape\":[193]}},\"selected\":{\"id\":\"1187\"},\"selection_policy\":{\"id\":\"1186\"}},\"id\":\"1067\",\"type\":\"ColumnDataSource\"},{\"attributes\":{\"fill_alpha\":{\"value\":0},\"fill_color\":{\"value\":\"#1f77b4\"},\"hatch_alpha\":{\"value\":0},\"line_alpha\":{\"value\":0},\"line_color\":{\"value\":\"#1f77b4\"},\"x\":{\"field\":\"leftWidth\"},\"y\":{\"field\":\"Intensity\"}},\"id\":\"1120\",\"type\":\"Circle\"},{\"attributes\":{\"fill_alpha\":{\"value\":0.1},\"fill_color\":{\"value\":\"#1f77b4\"},\"hatch_alpha\":{\"value\":0.1},\"line_alpha\":{\"value\":0.1},\"line_color\":{\"value\":\"#1f77b4\"},\"x\":{\"field\":\"leftWidth\"},\"y\":{\"field\":\"Intensity\"}},\"id\":\"1102\",\"type\":\"Circle\"},{\"attributes\":{\"fill_alpha\":{\"value\":0.1},\"fill_color\":{\"value\":\"#1f77b4\"},\"hatch_alpha\":{\"value\":0.1},\"line_alpha\":{\"value\":0.1},\"line_color\":{\"value\":\"#1f77b4\"},\"x\":{\"field\":\"leftWidth\"},\"y\":{\"field\":\"Intensity\"}},\"id\":\"1140\",\"type\":\"Circle\"},{\"attributes\":{\"bottom\":{\"field\":\"bottom_int\"},\"fill_alpha\":{\"value\":0.1},\"fill_color\":{\"value\":\"#1B9E77\"},\"hatch_alpha\":{\"value\":0.1},\"hatch_color\":{\"value\":\"#1B9E77\"},\"line_alpha\":{\"value\":0.1},\"line_color\":{\"value\":\"#1B9E77\"},\"top\":{\"field\":\"Intensity\"},\"width\":{\"value\":0.3},\"x\":{\"field\":\"rightWidth\"}},\"id\":\"1096\",\"type\":\"VBar\"},{\"attributes\":{\"coordinates\":null,\"data_source\":{\"id\":\"1106\"},\"glyph\":{\"id\":\"1120\"},\"group\":null,\"hover_glyph\":null,\"muted_glyph\":{\"id\":\"1122\"},\"name\":\"leftWidth_apex_point\",\"nonselection_glyph\":{\"id\":\"1121\"},\"view\":{\"id\":\"1124\"}},\"id\":\"1123\",\"type\":\"GlyphRenderer\"},{\"attributes\":{\"line_alpha\":0.5,\"line_color\":\"#ff7f0e\",\"line_width\":2,\"x\":{\"field\":\"x\"},\"y\":{\"field\":\"y\"}},\"id\":\"1055\",\"type\":\"Line\"},{\"attributes\":{\"bottom\":{\"field\":\"bottom_int\"},\"fill_alpha\":{\"value\":0.1},\"fill_color\":{\"value\":\"#D95F02\"},\"hatch_alpha\":{\"value\":0.1},\"hatch_color\":{\"value\":\"#D95F02\"},\"line_alpha\":{\"value\":0.1},\"line_color\":{\"value\":\"#D95F02\"},\"top\":{\"field\":\"Intensity\"},\"width\":{\"value\":0.3},\"x\":{\"field\":\"rightWidth\"}},\"id\":\"1115\",\"type\":\"VBar\"},{\"attributes\":{\"coordinates\":null,\"data_source\":{\"id\":\"1053\"},\"glyph\":{\"id\":\"1055\"},\"group\":null,\"hover_glyph\":null,\"muted_glyph\":{\"id\":\"1057\"},\"nonselection_glyph\":{\"id\":\"1056\"},\"view\":{\"id\":\"1059\"}},\"id\":\"1058\",\"type\":\"GlyphRenderer\"},{\"attributes\":{\"label\":{\"value\":\"y3^1\"},\"renderers\":[{\"id\":\"1058\"}]},\"id\":\"1083\",\"type\":\"LegendItem\"},{\"attributes\":{\"data\":{\"Intensity\":[235346.49947055007],\"bottom_int\":[0],\"leftWidth\":[843.921997070312],\"ms2_mscore\":[0.10215831770233398],\"rightWidth\":[916.620971679688]},\"selected\":{\"id\":\"1195\"},\"selection_policy\":{\"id\":\"1194\"}},\"id\":\"1125\",\"type\":\"ColumnDataSource\"},{\"attributes\":{\"label\":{\"value\":\"y5^1\"},\"renderers\":[{\"id\":\"1065\"}]},\"id\":\"1084\",\"type\":\"LegendItem\"},{\"attributes\":{\"source\":{\"id\":\"1144\"}},\"id\":\"1150\",\"type\":\"CDSView\"},{\"attributes\":{\"coordinates\":null,\"data_source\":{\"id\":\"1144\"},\"glyph\":{\"id\":\"1146\"},\"group\":null,\"hover_glyph\":null,\"muted_glyph\":{\"id\":\"1148\"},\"nonselection_glyph\":{\"id\":\"1147\"},\"view\":{\"id\":\"1150\"}},\"id\":\"1149\",\"type\":\"GlyphRenderer\"},{\"attributes\":{\"coordinates\":null,\"data_source\":{\"id\":\"1087\"},\"glyph\":{\"id\":\"1089\"},\"group\":null,\"hover_glyph\":null,\"muted_glyph\":{\"id\":\"1091\"},\"nonselection_glyph\":{\"id\":\"1090\"},\"view\":{\"id\":\"1093\"}},\"id\":\"1092\",\"type\":\"GlyphRenderer\"},{\"attributes\":{\"line_alpha\":0.2,\"line_color\":\"#aec7e8\",\"line_width\":2,\"x\":{\"field\":\"x\"},\"y\":{\"field\":\"y\"}},\"id\":\"1050\",\"type\":\"Line\"},{\"attributes\":{\"line_alpha\":0.5,\"line_color\":\"#2ca02c\",\"line_width\":2,\"x\":{\"field\":\"x\"},\"y\":{\"field\":\"y\"}},\"id\":\"1069\",\"type\":\"Line\"},{\"attributes\":{\"data\":{\"Intensity\":[78247.75276112532],\"bottom_int\":[0],\"leftWidth\":[818.476013183594],\"ms2_mscore\":[0.491091881315617],\"rightWidth\":[847.557983398438]},\"selected\":{\"id\":\"1193\"},\"selection_policy\":{\"id\":\"1192\"}},\"id\":\"1106\",\"type\":\"ColumnDataSource\"},{\"attributes\":{\"source\":{\"id\":\"1087\"}},\"id\":\"1093\",\"type\":\"CDSView\"},{\"attributes\":{\"bottom\":{\"field\":\"bottom_int\"},\"fill_color\":{\"value\":\"#D95F02\"},\"hatch_color\":{\"value\":\"#D95F02\"},\"line_color\":{\"value\":\"#D95F02\"},\"top\":{\"field\":\"Intensity\"},\"width\":{\"value\":0.3},\"x\":{\"field\":\"leftWidth\"}},\"id\":\"1108\",\"type\":\"VBar\"},{\"attributes\":{\"bottom\":{\"field\":\"bottom_int\"},\"fill_alpha\":{\"value\":0.2},\"fill_color\":{\"value\":\"#7570B3\"},\"hatch_alpha\":{\"value\":0.2},\"hatch_color\":{\"value\":\"#7570B3\"},\"line_alpha\":{\"value\":0.2},\"line_color\":{\"value\":\"#7570B3\"},\"top\":{\"field\":\"Intensity\"},\"width\":{\"value\":0.3},\"x\":{\"field\":\"rightWidth\"}},\"id\":\"1135\",\"type\":\"VBar\"},{\"attributes\":{},\"id\":\"1027\",\"type\":\"HelpTool\"},{\"attributes\":{},\"id\":\"1178\",\"type\":\"UnionRenderers\"},{\"attributes\":{\"axis_label\":\"Retention Time\",\"axis_label_text_font_size\":\"11pt\",\"coordinates\":null,\"formatter\":{\"id\":\"1176\"},\"group\":null,\"major_label_policy\":{\"id\":\"1177\"},\"major_label_text_font_size\":\"11pt\",\"ticker\":{\"id\":\"1015\"}},\"id\":\"1014\",\"type\":\"LinearAxis\"},{\"attributes\":{\"bottom\":{\"field\":\"bottom_int\"},\"fill_alpha\":{\"value\":0.2},\"fill_color\":{\"value\":\"#E7298A\"},\"hatch_alpha\":{\"value\":0.2},\"hatch_color\":{\"value\":\"#E7298A\"},\"line_alpha\":{\"value\":0.2},\"line_color\":{\"value\":\"#E7298A\"},\"top\":{\"field\":\"Intensity\"},\"width\":{\"value\":0.3},\"x\":{\"field\":\"rightWidth\"}},\"id\":\"1154\",\"type\":\"VBar\"},{\"attributes\":{},\"id\":\"1019\",\"type\":\"BasicTicker\"},{\"attributes\":{\"coordinates\":null,\"data_source\":{\"id\":\"1125\"},\"glyph\":{\"id\":\"1127\"},\"group\":null,\"hover_glyph\":null,\"muted_glyph\":{\"id\":\"1129\"},\"nonselection_glyph\":{\"id\":\"1128\"},\"view\":{\"id\":\"1131\"}},\"id\":\"1130\",\"type\":\"GlyphRenderer\"},{\"attributes\":{\"line_alpha\":0.5,\"line_color\":\"#aec7e8\",\"line_width\":2,\"x\":{\"field\":\"x\"},\"y\":{\"field\":\"y\"}},\"id\":\"1048\",\"type\":\"Line\"},{\"attributes\":{\"coordinates\":null,\"group\":null},\"id\":\"1170\",\"type\":\"Title\"},{\"attributes\":{\"source\":{\"id\":\"1039\"}},\"id\":\"1045\",\"type\":\"CDSView\"},{\"attributes\":{\"line_alpha\":0.1,\"line_color\":\"#2ca02c\",\"line_width\":2,\"x\":{\"field\":\"x\"},\"y\":{\"field\":\"y\"}},\"id\":\"1070\",\"type\":\"Line\"},{\"attributes\":{\"source\":{\"id\":\"1087\"}},\"id\":\"1105\",\"type\":\"CDSView\"},{\"attributes\":{\"source\":{\"id\":\"1125\"}},\"id\":\"1131\",\"type\":\"CDSView\"},{\"attributes\":{\"label\":{\"value\":\"y4^1\"},\"renderers\":[{\"id\":\"1044\"}]},\"id\":\"1081\",\"type\":\"LegendItem\"},{\"attributes\":{},\"id\":\"1174\",\"type\":\"AllLabels\"},{\"attributes\":{\"data\":{\"Intensity\":[235346.49947055007],\"bottom_int\":[0],\"leftWidth\":[843.921997070312],\"ms2_mscore\":[0.4342245125263835],\"rightWidth\":[916.620971679688]},\"selected\":{\"id\":\"1197\"},\"selection_policy\":{\"id\":\"1196\"}},\"id\":\"1144\",\"type\":\"ColumnDataSource\"},{\"attributes\":{},\"id\":\"1184\",\"type\":\"UnionRenderers\"},{\"attributes\":{\"bottom\":{\"field\":\"bottom_int\"},\"fill_color\":{\"value\":\"#1B9E77\"},\"hatch_color\":{\"value\":\"#1B9E77\"},\"line_color\":{\"value\":\"#1B9E77\"},\"top\":{\"field\":\"Intensity\"},\"width\":{\"value\":0.3},\"x\":{\"field\":\"leftWidth\"}},\"id\":\"1089\",\"type\":\"VBar\"},{\"attributes\":{\"coordinates\":null,\"data_source\":{\"id\":\"1046\"},\"glyph\":{\"id\":\"1048\"},\"group\":null,\"hover_glyph\":null,\"muted_glyph\":{\"id\":\"1050\"},\"nonselection_glyph\":{\"id\":\"1049\"},\"view\":{\"id\":\"1052\"}},\"id\":\"1051\",\"type\":\"GlyphRenderer\"},{\"attributes\":{\"data\":{\"Intensity\":[78247.75276112532],\"bottom_int\":[0],\"leftWidth\":[818.476013183594],\"ms2_mscore\":[0.07677153679402818],\"rightWidth\":[847.557983398438]},\"selected\":{\"id\":\"1191\"},\"selection_policy\":{\"id\":\"1190\"}},\"id\":\"1087\",\"type\":\"ColumnDataSource\"},{\"attributes\":{\"coordinates\":null,\"data_source\":{\"id\":\"1087\"},\"glyph\":{\"id\":\"1095\"},\"group\":null,\"hover_glyph\":null,\"muted_glyph\":{\"id\":\"1097\"},\"nonselection_glyph\":{\"id\":\"1096\"},\"view\":{\"id\":\"1099\"}},\"id\":\"1098\",\"type\":\"GlyphRenderer\"},{\"attributes\":{\"coordinates\":null,\"data_source\":{\"id\":\"1074\"},\"glyph\":{\"id\":\"1076\"},\"group\":null,\"hover_glyph\":null,\"muted_glyph\":{\"id\":\"1078\"},\"nonselection_glyph\":{\"id\":\"1077\"},\"view\":{\"id\":\"1080\"}},\"id\":\"1079\",\"type\":\"GlyphRenderer\"},{\"attributes\":{\"axis\":{\"id\":\"1014\"},\"coordinates\":null,\"group\":null,\"ticker\":null},\"id\":\"1017\",\"type\":\"Grid\"},{\"attributes\":{},\"id\":\"1026\",\"type\":\"ResetTool\"},{\"attributes\":{\"coordinates\":null,\"data_source\":{\"id\":\"1067\"},\"glyph\":{\"id\":\"1069\"},\"group\":null,\"hover_glyph\":null,\"muted_glyph\":{\"id\":\"1071\"},\"nonselection_glyph\":{\"id\":\"1070\"},\"view\":{\"id\":\"1073\"}},\"id\":\"1072\",\"type\":\"GlyphRenderer\"},{\"attributes\":{\"line_alpha\":0.2,\"line_color\":\"#ff7f0e\",\"line_width\":2,\"x\":{\"field\":\"x\"},\"y\":{\"field\":\"y\"}},\"id\":\"1057\",\"type\":\"Line\"},{\"attributes\":{\"source\":{\"id\":\"1106\"}},\"id\":\"1112\",\"type\":\"CDSView\"},{\"attributes\":{\"bottom\":{\"field\":\"bottom_int\"},\"fill_color\":{\"value\":\"#E7298A\"},\"hatch_color\":{\"value\":\"#E7298A\"},\"line_color\":{\"value\":\"#E7298A\"},\"top\":{\"field\":\"Intensity\"},\"width\":{\"value\":0.3},\"x\":{\"field\":\"rightWidth\"}},\"id\":\"1152\",\"type\":\"VBar\"},{\"attributes\":{\"line_alpha\":0.1,\"line_color\":\"#ff7f0e\",\"line_width\":2,\"x\":{\"field\":\"x\"},\"y\":{\"field\":\"y\"}},\"id\":\"1056\",\"type\":\"Line\"},{\"attributes\":{\"axis\":{\"id\":\"1018\"},\"coordinates\":null,\"dimension\":1,\"group\":null,\"ticker\":null},\"id\":\"1021\",\"type\":\"Grid\"},{\"attributes\":{},\"id\":\"1185\",\"type\":\"Selection\"},{\"attributes\":{},\"id\":\"1025\",\"type\":\"SaveTool\"},{\"attributes\":{\"bottom\":{\"field\":\"bottom_int\"},\"fill_color\":{\"value\":\"#7570B3\"},\"hatch_color\":{\"value\":\"#7570B3\"},\"line_color\":{\"value\":\"#7570B3\"},\"top\":{\"field\":\"Intensity\"},\"width\":{\"value\":0.3},\"x\":{\"field\":\"rightWidth\"}},\"id\":\"1133\",\"type\":\"VBar\"},{\"attributes\":{\"bottom\":{\"field\":\"bottom_int\"},\"fill_color\":{\"value\":\"#E7298A\"},\"hatch_color\":{\"value\":\"#E7298A\"},\"line_color\":{\"value\":\"#E7298A\"},\"top\":{\"field\":\"Intensity\"},\"width\":{\"value\":0.3},\"x\":{\"field\":\"leftWidth\"}},\"id\":\"1146\",\"type\":\"VBar\"},{\"attributes\":{\"line_alpha\":0.5,\"line_color\":\"#1f77b4\",\"line_width\":2,\"x\":{\"field\":\"x\"},\"y\":{\"field\":\"y\"}},\"id\":\"1041\",\"type\":\"Line\"},{\"attributes\":{\"label\":{\"value\":\"Feature 2\"},\"renderers\":[{\"id\":\"1111\"}]},\"id\":\"1167\",\"type\":\"LegendItem\"},{\"attributes\":{\"source\":{\"id\":\"1067\"}},\"id\":\"1073\",\"type\":\"CDSView\"},{\"attributes\":{\"source\":{\"id\":\"1087\"}},\"id\":\"1099\",\"type\":\"CDSView\"},{\"attributes\":{\"bottom\":{\"field\":\"bottom_int\"},\"fill_color\":{\"value\":\"#D95F02\"},\"hatch_color\":{\"value\":\"#D95F02\"},\"line_color\":{\"value\":\"#D95F02\"},\"top\":{\"field\":\"Intensity\"},\"width\":{\"value\":0.3},\"x\":{\"field\":\"rightWidth\"}},\"id\":\"1114\",\"type\":\"VBar\"},{\"attributes\":{\"bottom\":{\"field\":\"bottom_int\"},\"fill_alpha\":{\"value\":0.2},\"fill_color\":{\"value\":\"#1B9E77\"},\"hatch_alpha\":{\"value\":0.2},\"hatch_color\":{\"value\":\"#1B9E77\"},\"line_alpha\":{\"value\":0.2},\"line_color\":{\"value\":\"#1B9E77\"},\"top\":{\"field\":\"Intensity\"},\"width\":{\"value\":0.3},\"x\":{\"field\":\"rightWidth\"}},\"id\":\"1097\",\"type\":\"VBar\"},{\"attributes\":{\"source\":{\"id\":\"1106\"}},\"id\":\"1124\",\"type\":\"CDSView\"},{\"attributes\":{},\"id\":\"1010\",\"type\":\"LinearScale\"},{\"attributes\":{\"label\":{\"value\":\"y1^1\"},\"renderers\":[{\"id\":\"1051\"}]},\"id\":\"1082\",\"type\":\"LegendItem\"},{\"attributes\":{},\"id\":\"1008\",\"type\":\"DataRange1d\"},{\"attributes\":{\"line_alpha\":0.2,\"line_color\":\"#1f77b4\",\"line_width\":2,\"x\":{\"field\":\"x\"},\"y\":{\"field\":\"y\"}},\"id\":\"1043\",\"type\":\"Line\"},{\"attributes\":{\"source\":{\"id\":\"1053\"}},\"id\":\"1059\",\"type\":\"CDSView\"},{\"attributes\":{\"bottom\":{\"field\":\"bottom_int\"},\"fill_alpha\":{\"value\":0.1},\"fill_color\":{\"value\":\"#7570B3\"},\"hatch_alpha\":{\"value\":0.1},\"hatch_color\":{\"value\":\"#7570B3\"},\"line_alpha\":{\"value\":0.1},\"line_color\":{\"value\":\"#7570B3\"},\"top\":{\"field\":\"Intensity\"},\"width\":{\"value\":0.3},\"x\":{\"field\":\"rightWidth\"}},\"id\":\"1134\",\"type\":\"VBar\"},{\"attributes\":{\"data\":{\"precursor_mz\":[null,null,null,null,null,null,null,null,null,null,null,null,null,null,null,null,null,null,null,null,null,null,null,null,null,null,null,null,null,null,null,null,null,null,null,null,null,null,null,null,null,null,null,null,null,null,null,null,null,null,null,null,null,null,null,null,null,null,null,null,null,null,null,null,null,null,null,null,null,null,null,null,null,null,null,null,null,null,null,null,null,null,null,null,null,null,null,null,null,null,null,null,null,null,null,null,null,null,null,null,null,null,null,null,null,null,null,null,null,null,null,null,null,null,null,null,null,null,null,null,null,null,null,null,null,null,null,null,null,null,null,null,null,null,null,null,null,null,null,null,null,null,null,null,null,null,null,null,null,null,null,null,null,null,null,null,null,null,null,null,null,null,null,null,null,null,null,null,null,null,null,null,null,null,null,null,null,null,null,null,null,null,null,null,null,null,null,null,null,null,null,null,null],\"product_charge\":[null,null,null,null,null,null,null,null,null,null,null,null,null,null,null,null,null,null,null,null,null,null,null,null,null,null,null,null,null,null,null,null,null,null,null,null,null,null,null,null,null,null,null,null,null,null,null,null,null,null,null,null,null,null,null,null,null,null,null,null,null,null,null,null,null,null,null,null,null,null,null,null,null,null,null,null,null,null,null,null,null,null,null,null,null,null,null,null,null,null,null,null,null,null,null,null,null,null,null,null,null,null,null,null,null,null,null,null,null,null,null,null,null,null,null,null,null,null,null,null,null,null,null,null,null,null,null,null,null,null,null,null,null,null,null,null,null,null,null,null,null,null,null,null,null,null,null,null,null,null,null,null,null,null,null,null,null,null,null,null,null,null,null,null,null,null,null,null,null,null,null,null,null,null,null,null,null,null,null,null,null,null,null,null,null,null,null,null,null,null,null,null,null],\"product_mz\":[null,null,null,null,null,null,null,null,null,null,null,null,null,null,null,null,null,null,null,null,null,null,null,null,null,null,null,null,null,null,null,null,null,null,null,null,null,null,null,null,null,null,null,null,null,null,null,null,null,null,null,null,null,null,null,null,null,null,null,null,null,null,null,null,null,null,null,null,null,null,null,null,null,null,null,null,null,null,null,null,null,null,null,null,null,null,null,null,null,null,null,null,null,null,null,null,null,null,null,null,null,null,null,null,null,null,null,null,null,null,null,null,null,null,null,null,null,null,null,null,null,null,null,null,null,null,null,null,null,null,null,null,null,null,null,null,null,null,null,null,null,null,null,null,null,null,null,null,null,null,null,null,null,null,null,null,null,null,null,null,null,null,null,null,null,null,null,null,null,null,null,null,null,null,null,null,null,null,null,null,null,null,null,null,null,null,null,null,null,null,null,null,null],\"x\":{\"__ndarray__\":\"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\",\"dtype\":\"float64\",\"order\":\"little\",\"shape\":[193]},\"y\":{\"__ndarray__\":\"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\",\"dtype\":\"float64\",\"order\":\"little\",\"shape\":[193]}},\"selected\":{\"id\":\"1179\"},\"selection_policy\":{\"id\":\"1178\"}},\"id\":\"1039\",\"type\":\"ColumnDataSource\"},{\"attributes\":{\"fill_alpha\":{\"value\":0.2},\"fill_color\":{\"value\":\"#1f77b4\"},\"hatch_alpha\":{\"value\":0.2},\"line_alpha\":{\"value\":0.2},\"line_color\":{\"value\":\"#1f77b4\"},\"x\":{\"field\":\"leftWidth\"},\"y\":{\"field\":\"Intensity\"}},\"id\":\"1141\",\"type\":\"Circle\"},{\"attributes\":{\"axis_label\":\"Intensity\",\"axis_label_text_font_size\":\"11pt\",\"coordinates\":null,\"formatter\":{\"id\":\"1173\"},\"group\":null,\"major_label_policy\":{\"id\":\"1174\"},\"major_label_text_font_size\":\"11pt\",\"ticker\":{\"id\":\"1019\"}},\"id\":\"1018\",\"type\":\"LinearAxis\"},{\"attributes\":{},\"id\":\"1022\",\"type\":\"PanTool\"},{\"attributes\":{\"data\":{\"precursor_mz\":[null,null,null,null,null,null,null,null,null,null,null,null,null,null,null,null,null,null,null,null,null,null,null,null,null,null,null,null,null,null,null,null,null,null,null,null,null,null,null,null,null,null,null,null,null,null,null,null,null,null,null,null,null,null,null,null,null,null,null,null,null,null,null,null,null,null,null,null,null,null,null,null,null,null,null,null,null,null,null,null,null,null,null,null,null,null,null,null,null,null,null,null,null,null,null,null,null,null,null,null,null,null,null,null,null,null,null,null,null,null,null,null,null,null,null,null,null,null,null,null,null,null,null,null,null,null,null,null,null,null,null,null,null,null,null,null,null,null,null,null,null,null,null,null,null,null,null,null,null,null,null,null,null,null,null,null,null,null,null,null,null,null,null,null,null,null,null,null,null,null,null,null,null,null,null,null,null,null,null,null,null,null,null,null,null,null,null,null,null,null,null,null,null],\"product_charge\":[null,null,null,null,null,null,null,null,null,null,null,null,null,null,null,null,null,null,null,null,null,null,null,null,null,null,null,null,null,null,null,null,null,null,null,null,null,null,null,null,null,null,null,null,null,null,null,null,null,null,null,null,null,null,null,null,null,null,null,null,null,null,null,null,null,null,null,null,null,null,null,null,null,null,null,null,null,null,null,null,null,null,null,null,null,null,null,null,null,null,null,null,null,null,null,null,null,null,null,null,null,null,null,null,null,null,null,null,null,null,null,null,null,null,null,null,null,null,null,null,null,null,null,null,null,null,null,null,null,null,null,null,null,null,null,null,null,null,null,null,null,null,null,null,null,null,null,null,null,null,null,null,null,null,null,null,null,null,null,null,null,null,null,null,null,null,null,null,null,null,null,null,null,null,null,null,null,null,null,null,null,null,null,null,null,null,null,null,null,null,null,null,null],\"product_mz\":[null,null,null,null,null,null,null,null,null,null,null,null,null,null,null,null,null,null,null,null,null,null,null,null,null,null,null,null,null,null,null,null,null,null,null,null,null,null,null,null,null,null,null,null,null,null,null,null,null,null,null,null,null,null,null,null,null,null,null,null,null,null,null,null,null,null,null,null,null,null,null,null,null,null,null,null,null,null,null,null,null,null,null,null,null,null,null,null,null,null,null,null,null,null,null,null,null,null,null,null,null,null,null,null,null,null,null,null,null,null,null,null,null,null,null,null,null,null,null,null,null,null,null,null,null,null,null,null,null,null,null,null,null,null,null,null,null,null,null,null,null,null,null,null,null,null,null,null,null,null,null,null,null,null,null,null,null,null,null,null,null,null,null,null,null,null,null,null,null,null,null,null,null,null,null,null,null,null,null,null,null,null,null,null,null,null,null,null,null,null,null,null,null],\"x\":{\"__ndarray__\":\"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\",\"dtype\":\"float64\",\"order\":\"little\",\"shape\":[193]},\"y\":{\"__ndarray__\":\"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\",\"dtype\":\"float64\",\"order\":\"little\",\"shape\":[193]}},\"selected\":{\"id\":\"1185\"},\"selection_policy\":{\"id\":\"1184\"}},\"id\":\"1060\",\"type\":\"ColumnDataSource\"},{\"attributes\":{\"bottom\":{\"field\":\"bottom_int\"},\"fill_alpha\":{\"value\":0.2},\"fill_color\":{\"value\":\"#D95F02\"},\"hatch_alpha\":{\"value\":0.2},\"hatch_color\":{\"value\":\"#D95F02\"},\"line_alpha\":{\"value\":0.2},\"line_color\":{\"value\":\"#D95F02\"},\"top\":{\"field\":\"Intensity\"},\"width\":{\"value\":0.3},\"x\":{\"field\":\"leftWidth\"}},\"id\":\"1110\",\"type\":\"VBar\"},{\"attributes\":{\"coordinates\":null,\"data_source\":{\"id\":\"1087\"},\"glyph\":{\"id\":\"1101\"},\"group\":null,\"hover_glyph\":null,\"muted_glyph\":{\"id\":\"1103\"},\"name\":\"leftWidth_apex_point\",\"nonselection_glyph\":{\"id\":\"1102\"},\"view\":{\"id\":\"1105\"}},\"id\":\"1104\",\"type\":\"GlyphRenderer\"},{\"attributes\":{\"label\":{\"value\":\"Feature 3\"},\"renderers\":[{\"id\":\"1130\"}]},\"id\":\"1168\",\"type\":\"LegendItem\"},{\"attributes\":{},\"id\":\"1192\",\"type\":\"UnionRenderers\"},{\"attributes\":{},\"id\":\"1186\",\"type\":\"UnionRenderers\"},{\"attributes\":{},\"id\":\"1196\",\"type\":\"UnionRenderers\"},{\"attributes\":{},\"id\":\"1193\",\"type\":\"Selection\"},{\"attributes\":{\"label\":{\"value\":\"Feature 4\"},\"renderers\":[{\"id\":\"1149\"}]},\"id\":\"1169\",\"type\":\"LegendItem\"},{\"attributes\":{},\"id\":\"1177\",\"type\":\"AllLabels\"},{\"attributes\":{\"callback\":null,\"names\":[\"leftWidth_apex_point\"],\"tooltips\":[[\"Intensity\",\"@Intensity\"],[\"Left Width\",\"@leftWidth{0.00}\"],[\"Right Width\",\"@rightWidth{0.00}\"],[\"Peak Group Rank\",\"@peakgroup_rank\"],[\"MS2 m-score\",\"@ms2_mscore\"]]},\"id\":\"1163\",\"type\":\"HoverTool\"},{\"attributes\":{},\"id\":\"1015\",\"type\":\"BasicTicker\"},{\"attributes\":{},\"id\":\"1187\",\"type\":\"Selection\"},{\"attributes\":{\"coordinates\":null,\"data_source\":{\"id\":\"1106\"},\"glyph\":{\"id\":\"1114\"},\"group\":null,\"hover_glyph\":null,\"muted_glyph\":{\"id\":\"1116\"},\"nonselection_glyph\":{\"id\":\"1115\"},\"view\":{\"id\":\"1118\"}},\"id\":\"1117\",\"type\":\"GlyphRenderer\"},{\"attributes\":{\"bottom\":{\"field\":\"bottom_int\"},\"fill_alpha\":{\"value\":0.2},\"fill_color\":{\"value\":\"#1B9E77\"},\"hatch_alpha\":{\"value\":0.2},\"hatch_color\":{\"value\":\"#1B9E77\"},\"line_alpha\":{\"value\":0.2},\"line_color\":{\"value\":\"#1B9E77\"},\"top\":{\"field\":\"Intensity\"},\"width\":{\"value\":0.3},\"x\":{\"field\":\"leftWidth\"}},\"id\":\"1091\",\"type\":\"VBar\"},{\"attributes\":{},\"id\":\"1006\",\"type\":\"DataRange1d\"},{\"attributes\":{\"fill_alpha\":{\"value\":0.2},\"fill_color\":{\"value\":\"#1f77b4\"},\"hatch_alpha\":{\"value\":0.2},\"line_alpha\":{\"value\":0.2},\"line_color\":{\"value\":\"#1f77b4\"},\"x\":{\"field\":\"leftWidth\"},\"y\":{\"field\":\"Intensity\"}},\"id\":\"1103\",\"type\":\"Circle\"},{\"attributes\":{},\"id\":\"1197\",\"type\":\"Selection\"},{\"attributes\":{\"source\":{\"id\":\"1144\"}},\"id\":\"1162\",\"type\":\"CDSView\"},{\"attributes\":{\"line_alpha\":0.1,\"line_color\":\"#1f77b4\",\"line_width\":2,\"x\":{\"field\":\"x\"},\"y\":{\"field\":\"y\"}},\"id\":\"1042\",\"type\":\"Line\"},{\"attributes\":{\"bottom_units\":\"screen\",\"coordinates\":null,\"fill_alpha\":0.5,\"fill_color\":\"lightgrey\",\"group\":null,\"left_units\":\"screen\",\"level\":\"overlay\",\"line_alpha\":1.0,\"line_color\":\"black\",\"line_dash\":[4,4],\"line_width\":2,\"right_units\":\"screen\",\"syncable\":false,\"top_units\":\"screen\"},\"id\":\"1028\",\"type\":\"BoxAnnotation\"},{\"attributes\":{\"coordinates\":null,\"data_source\":{\"id\":\"1125\"},\"glyph\":{\"id\":\"1133\"},\"group\":null,\"hover_glyph\":null,\"muted_glyph\":{\"id\":\"1135\"},\"nonselection_glyph\":{\"id\":\"1134\"},\"view\":{\"id\":\"1137\"}},\"id\":\"1136\",\"type\":\"GlyphRenderer\"},{\"attributes\":{\"source\":{\"id\":\"1074\"}},\"id\":\"1080\",\"type\":\"CDSView\"},{\"attributes\":{\"bottom\":{\"field\":\"bottom_int\"},\"fill_color\":{\"value\":\"#1B9E77\"},\"hatch_color\":{\"value\":\"#1B9E77\"},\"line_color\":{\"value\":\"#1B9E77\"},\"top\":{\"field\":\"Intensity\"},\"width\":{\"value\":0.3},\"x\":{\"field\":\"rightWidth\"}},\"id\":\"1095\",\"type\":\"VBar\"},{\"attributes\":{\"coordinates\":null,\"data_source\":{\"id\":\"1144\"},\"glyph\":{\"id\":\"1152\"},\"group\":null,\"hover_glyph\":null,\"muted_glyph\":{\"id\":\"1154\"},\"nonselection_glyph\":{\"id\":\"1153\"},\"view\":{\"id\":\"1156\"}},\"id\":\"1155\",\"type\":\"GlyphRenderer\"},{\"attributes\":{\"bottom\":{\"field\":\"bottom_int\"},\"fill_color\":{\"value\":\"#7570B3\"},\"hatch_color\":{\"value\":\"#7570B3\"},\"line_color\":{\"value\":\"#7570B3\"},\"top\":{\"field\":\"Intensity\"},\"width\":{\"value\":0.3},\"x\":{\"field\":\"leftWidth\"}},\"id\":\"1127\",\"type\":\"VBar\"},{\"attributes\":{\"source\":{\"id\":\"1144\"}},\"id\":\"1156\",\"type\":\"CDSView\"},{\"attributes\":{\"bottom\":{\"field\":\"bottom_int\"},\"fill_alpha\":{\"value\":0.1},\"fill_color\":{\"value\":\"#D95F02\"},\"hatch_alpha\":{\"value\":0.1},\"hatch_color\":{\"value\":\"#D95F02\"},\"line_alpha\":{\"value\":0.1},\"line_color\":{\"value\":\"#D95F02\"},\"top\":{\"field\":\"Intensity\"},\"width\":{\"value\":0.3},\"x\":{\"field\":\"leftWidth\"}},\"id\":\"1109\",\"type\":\"VBar\"},{\"attributes\":{\"fill_alpha\":{\"value\":0},\"fill_color\":{\"value\":\"#1f77b4\"},\"hatch_alpha\":{\"value\":0},\"line_alpha\":{\"value\":0},\"line_color\":{\"value\":\"#1f77b4\"},\"x\":{\"field\":\"leftWidth\"},\"y\":{\"field\":\"Intensity\"}},\"id\":\"1139\",\"type\":\"Circle\"}],\"root_ids\":[\"1005\"]},\"title\":\"Bokeh Application\",\"version\":\"2.4.3\"}};\n",
       "  const render_items = [{\"docid\":\"cd7c9d9f-7f71-4d8d-ba42-fd753f04b357\",\"root_ids\":[\"1005\"],\"roots\":{\"1005\":\"ca510ad1-f5d7-415b-94a7-d873b2d12f3c\"}}];\n",
       "  root.Bokeh.embed.embed_items_notebook(docs_json, render_items);\n",
       "  }\n",
       "  if (root.Bokeh !== undefined) {\n",
       "    embed_document(root);\n",
       "  } else {\n",
       "    let attempts = 0;\n",
       "    const timer = setInterval(function(root) {\n",
       "      if (root.Bokeh !== undefined) {\n",
       "        clearInterval(timer);\n",
       "        embed_document(root);\n",
       "      } else {\n",
       "        attempts++;\n",
       "        if (attempts > 100) {\n",
       "          clearInterval(timer);\n",
       "          console.log(\"Bokeh: ERROR: Unable to run BokehJS code because BokehJS library is missing\");\n",
       "        }\n",
       "      }\n",
       "    }, 10, root)\n",
       "  }\n",
       "})(window);"
      ],
      "application/vnd.bokehjs_exec.v0+json": ""
     },
     "metadata": {
      "application/vnd.bokehjs_exec.v0+json": {
       "id": "1005"
      }
     },
     "output_type": "display_data"
    },
    {
     "data": {
      "text/html": [
       "<div style=\"display: table;\"><div style=\"display: table-row;\"><div style=\"display: table-cell;\"><b title=\"bokeh.plotting.figure.Figure\">Figure</b>(</div><div style=\"display: table-cell;\">id&nbsp;=&nbsp;'1005', <span id=\"1345\" style=\"cursor: pointer;\">&hellip;)</span></div></div><div class=\"1344\" style=\"display: none;\"><div style=\"display: table-cell;\"></div><div style=\"display: table-cell;\">above&nbsp;=&nbsp;[Legend(id='1165', ...)],</div></div><div class=\"1344\" style=\"display: none;\"><div style=\"display: table-cell;\"></div><div style=\"display: table-cell;\">align&nbsp;=&nbsp;'start',</div></div><div class=\"1344\" style=\"display: none;\"><div style=\"display: table-cell;\"></div><div style=\"display: table-cell;\">aspect_ratio&nbsp;=&nbsp;None,</div></div><div class=\"1344\" style=\"display: none;\"><div style=\"display: table-cell;\"></div><div style=\"display: table-cell;\">aspect_scale&nbsp;=&nbsp;1,</div></div><div class=\"1344\" style=\"display: none;\"><div style=\"display: table-cell;\"></div><div style=\"display: table-cell;\">background&nbsp;=&nbsp;None,</div></div><div class=\"1344\" style=\"display: none;\"><div style=\"display: table-cell;\"></div><div style=\"display: table-cell;\">background_fill_alpha&nbsp;=&nbsp;1.0,</div></div><div class=\"1344\" style=\"display: none;\"><div style=\"display: table-cell;\"></div><div style=\"display: table-cell;\">background_fill_color&nbsp;=&nbsp;'#ffffff',</div></div><div class=\"1344\" style=\"display: none;\"><div style=\"display: table-cell;\"></div><div style=\"display: table-cell;\">below&nbsp;=&nbsp;[LinearAxis(id='1014', ...)],</div></div><div class=\"1344\" style=\"display: none;\"><div style=\"display: table-cell;\"></div><div style=\"display: table-cell;\">border_fill_alpha&nbsp;=&nbsp;1.0,</div></div><div class=\"1344\" style=\"display: none;\"><div style=\"display: table-cell;\"></div><div style=\"display: table-cell;\">border_fill_color&nbsp;=&nbsp;'#ffffff',</div></div><div class=\"1344\" style=\"display: none;\"><div style=\"display: table-cell;\"></div><div style=\"display: table-cell;\">center&nbsp;=&nbsp;[Grid(id='1017', ...), Grid(id='1021', ...)],</div></div><div class=\"1344\" style=\"display: none;\"><div style=\"display: table-cell;\"></div><div style=\"display: table-cell;\">css_classes&nbsp;=&nbsp;[],</div></div><div class=\"1344\" style=\"display: none;\"><div style=\"display: table-cell;\"></div><div style=\"display: table-cell;\">disabled&nbsp;=&nbsp;False,</div></div><div class=\"1344\" style=\"display: none;\"><div style=\"display: table-cell;\"></div><div style=\"display: table-cell;\">extra_x_ranges&nbsp;=&nbsp;{},</div></div><div class=\"1344\" style=\"display: none;\"><div style=\"display: table-cell;\"></div><div style=\"display: table-cell;\">extra_x_scales&nbsp;=&nbsp;{},</div></div><div class=\"1344\" style=\"display: none;\"><div style=\"display: table-cell;\"></div><div style=\"display: table-cell;\">extra_y_ranges&nbsp;=&nbsp;{},</div></div><div class=\"1344\" style=\"display: none;\"><div style=\"display: table-cell;\"></div><div style=\"display: table-cell;\">extra_y_scales&nbsp;=&nbsp;{},</div></div><div class=\"1344\" style=\"display: none;\"><div style=\"display: table-cell;\"></div><div style=\"display: table-cell;\">frame_height&nbsp;=&nbsp;None,</div></div><div class=\"1344\" style=\"display: none;\"><div style=\"display: table-cell;\"></div><div style=\"display: table-cell;\">frame_width&nbsp;=&nbsp;None,</div></div><div class=\"1344\" style=\"display: none;\"><div style=\"display: table-cell;\"></div><div style=\"display: table-cell;\">height&nbsp;=&nbsp;450,</div></div><div class=\"1344\" style=\"display: none;\"><div style=\"display: table-cell;\"></div><div style=\"display: table-cell;\">height_policy&nbsp;=&nbsp;'auto',</div></div><div class=\"1344\" style=\"display: none;\"><div style=\"display: table-cell;\"></div><div style=\"display: table-cell;\">hidpi&nbsp;=&nbsp;True,</div></div><div class=\"1344\" style=\"display: none;\"><div style=\"display: table-cell;\"></div><div style=\"display: table-cell;\">inner_height&nbsp;=&nbsp;0,</div></div><div class=\"1344\" style=\"display: none;\"><div style=\"display: table-cell;\"></div><div style=\"display: table-cell;\">inner_width&nbsp;=&nbsp;0,</div></div><div class=\"1344\" style=\"display: none;\"><div style=\"display: table-cell;\"></div><div style=\"display: table-cell;\">js_event_callbacks&nbsp;=&nbsp;{},</div></div><div class=\"1344\" style=\"display: none;\"><div style=\"display: table-cell;\"></div><div style=\"display: table-cell;\">js_property_callbacks&nbsp;=&nbsp;{},</div></div><div class=\"1344\" style=\"display: none;\"><div style=\"display: table-cell;\"></div><div style=\"display: table-cell;\">left&nbsp;=&nbsp;[LinearAxis(id='1018', ...)],</div></div><div class=\"1344\" style=\"display: none;\"><div style=\"display: table-cell;\"></div><div style=\"display: table-cell;\">lod_factor&nbsp;=&nbsp;10,</div></div><div class=\"1344\" style=\"display: none;\"><div style=\"display: table-cell;\"></div><div style=\"display: table-cell;\">lod_interval&nbsp;=&nbsp;300,</div></div><div class=\"1344\" style=\"display: none;\"><div style=\"display: table-cell;\"></div><div style=\"display: table-cell;\">lod_threshold&nbsp;=&nbsp;2000,</div></div><div class=\"1344\" style=\"display: none;\"><div style=\"display: table-cell;\"></div><div style=\"display: table-cell;\">lod_timeout&nbsp;=&nbsp;500,</div></div><div class=\"1344\" style=\"display: none;\"><div style=\"display: table-cell;\"></div><div style=\"display: table-cell;\">margin&nbsp;=&nbsp;(0, 0, 0, 0),</div></div><div class=\"1344\" style=\"display: none;\"><div style=\"display: table-cell;\"></div><div style=\"display: table-cell;\">match_aspect&nbsp;=&nbsp;False,</div></div><div class=\"1344\" style=\"display: none;\"><div style=\"display: table-cell;\"></div><div style=\"display: table-cell;\">max_height&nbsp;=&nbsp;None,</div></div><div class=\"1344\" style=\"display: none;\"><div style=\"display: table-cell;\"></div><div style=\"display: table-cell;\">max_width&nbsp;=&nbsp;None,</div></div><div class=\"1344\" style=\"display: none;\"><div style=\"display: table-cell;\"></div><div style=\"display: table-cell;\">min_border&nbsp;=&nbsp;5,</div></div><div class=\"1344\" style=\"display: none;\"><div style=\"display: table-cell;\"></div><div style=\"display: table-cell;\">min_border_bottom&nbsp;=&nbsp;None,</div></div><div class=\"1344\" style=\"display: none;\"><div style=\"display: table-cell;\"></div><div style=\"display: table-cell;\">min_border_left&nbsp;=&nbsp;None,</div></div><div class=\"1344\" style=\"display: none;\"><div style=\"display: table-cell;\"></div><div style=\"display: table-cell;\">min_border_right&nbsp;=&nbsp;None,</div></div><div class=\"1344\" style=\"display: none;\"><div style=\"display: table-cell;\"></div><div style=\"display: table-cell;\">min_border_top&nbsp;=&nbsp;None,</div></div><div class=\"1344\" style=\"display: none;\"><div style=\"display: table-cell;\"></div><div style=\"display: table-cell;\">min_height&nbsp;=&nbsp;None,</div></div><div class=\"1344\" style=\"display: none;\"><div style=\"display: table-cell;\"></div><div style=\"display: table-cell;\">min_width&nbsp;=&nbsp;None,</div></div><div class=\"1344\" style=\"display: none;\"><div style=\"display: table-cell;\"></div><div style=\"display: table-cell;\">name&nbsp;=&nbsp;None,</div></div><div class=\"1344\" style=\"display: none;\"><div style=\"display: table-cell;\"></div><div style=\"display: table-cell;\">outer_height&nbsp;=&nbsp;0,</div></div><div class=\"1344\" style=\"display: none;\"><div style=\"display: table-cell;\"></div><div style=\"display: table-cell;\">outer_width&nbsp;=&nbsp;0,</div></div><div class=\"1344\" style=\"display: none;\"><div style=\"display: table-cell;\"></div><div style=\"display: table-cell;\">outline_line_alpha&nbsp;=&nbsp;1.0,</div></div><div class=\"1344\" style=\"display: none;\"><div style=\"display: table-cell;\"></div><div style=\"display: table-cell;\">outline_line_cap&nbsp;=&nbsp;'butt',</div></div><div class=\"1344\" style=\"display: none;\"><div style=\"display: table-cell;\"></div><div style=\"display: table-cell;\">outline_line_color&nbsp;=&nbsp;'#e5e5e5',</div></div><div class=\"1344\" style=\"display: none;\"><div style=\"display: table-cell;\"></div><div style=\"display: table-cell;\">outline_line_dash&nbsp;=&nbsp;[],</div></div><div class=\"1344\" style=\"display: none;\"><div style=\"display: table-cell;\"></div><div style=\"display: table-cell;\">outline_line_dash_offset&nbsp;=&nbsp;0,</div></div><div class=\"1344\" style=\"display: none;\"><div style=\"display: table-cell;\"></div><div style=\"display: table-cell;\">outline_line_join&nbsp;=&nbsp;'bevel',</div></div><div class=\"1344\" style=\"display: none;\"><div style=\"display: table-cell;\"></div><div style=\"display: table-cell;\">outline_line_width&nbsp;=&nbsp;1,</div></div><div class=\"1344\" style=\"display: none;\"><div style=\"display: table-cell;\"></div><div style=\"display: table-cell;\">output_backend&nbsp;=&nbsp;'canvas',</div></div><div class=\"1344\" style=\"display: none;\"><div style=\"display: table-cell;\"></div><div style=\"display: table-cell;\">renderers&nbsp;=&nbsp;[GlyphRenderer(id='1044', ...), GlyphRenderer(id='1051', ...), GlyphRenderer(id='1058', ...), GlyphRenderer(id='1065', ...), GlyphRenderer(id='1072', ...), GlyphRenderer(id='1079', ...), GlyphRenderer(id='1092', ...), GlyphRenderer(id='1098', ...), GlyphRenderer(id='1104', ...), GlyphRenderer(id='1111', ...), GlyphRenderer(id='1117', ...), GlyphRenderer(id='1123', ...), GlyphRenderer(id='1130', ...), GlyphRenderer(id='1136', ...), GlyphRenderer(id='1142', ...), GlyphRenderer(id='1149', ...), GlyphRenderer(id='1155', ...), GlyphRenderer(id='1161', ...)],</div></div><div class=\"1344\" style=\"display: none;\"><div style=\"display: table-cell;\"></div><div style=\"display: table-cell;\">reset_policy&nbsp;=&nbsp;'standard',</div></div><div class=\"1344\" style=\"display: none;\"><div style=\"display: table-cell;\"></div><div style=\"display: table-cell;\">right&nbsp;=&nbsp;[Legend(id='1038', ...)],</div></div><div class=\"1344\" style=\"display: none;\"><div style=\"display: table-cell;\"></div><div style=\"display: table-cell;\">sizing_mode&nbsp;=&nbsp;'scale_width',</div></div><div class=\"1344\" style=\"display: none;\"><div style=\"display: table-cell;\"></div><div style=\"display: table-cell;\">subscribed_events&nbsp;=&nbsp;[],</div></div><div class=\"1344\" style=\"display: none;\"><div style=\"display: table-cell;\"></div><div style=\"display: table-cell;\">syncable&nbsp;=&nbsp;True,</div></div><div class=\"1344\" style=\"display: none;\"><div style=\"display: table-cell;\"></div><div style=\"display: table-cell;\">tags&nbsp;=&nbsp;[],</div></div><div class=\"1344\" style=\"display: none;\"><div style=\"display: table-cell;\"></div><div style=\"display: table-cell;\">title&nbsp;=&nbsp;Title(id='1170', ...),</div></div><div class=\"1344\" style=\"display: none;\"><div style=\"display: table-cell;\"></div><div style=\"display: table-cell;\">title_location&nbsp;=&nbsp;'above',</div></div><div class=\"1344\" style=\"display: none;\"><div style=\"display: table-cell;\"></div><div style=\"display: table-cell;\">toolbar&nbsp;=&nbsp;Toolbar(id='1030', ...),</div></div><div class=\"1344\" style=\"display: none;\"><div style=\"display: table-cell;\"></div><div style=\"display: table-cell;\">toolbar_location&nbsp;=&nbsp;'above',</div></div><div class=\"1344\" style=\"display: none;\"><div style=\"display: table-cell;\"></div><div style=\"display: table-cell;\">toolbar_sticky&nbsp;=&nbsp;True,</div></div><div class=\"1344\" style=\"display: none;\"><div style=\"display: table-cell;\"></div><div style=\"display: table-cell;\">visible&nbsp;=&nbsp;True,</div></div><div class=\"1344\" style=\"display: none;\"><div style=\"display: table-cell;\"></div><div style=\"display: table-cell;\">width&nbsp;=&nbsp;800,</div></div><div class=\"1344\" style=\"display: none;\"><div style=\"display: table-cell;\"></div><div style=\"display: table-cell;\">width_policy&nbsp;=&nbsp;'auto',</div></div><div class=\"1344\" style=\"display: none;\"><div style=\"display: table-cell;\"></div><div style=\"display: table-cell;\">x_range&nbsp;=&nbsp;DataRange1d(id='1006', ...),</div></div><div class=\"1344\" style=\"display: none;\"><div style=\"display: table-cell;\"></div><div style=\"display: table-cell;\">x_scale&nbsp;=&nbsp;LinearScale(id='1010', ...),</div></div><div class=\"1344\" style=\"display: none;\"><div style=\"display: table-cell;\"></div><div style=\"display: table-cell;\">y_range&nbsp;=&nbsp;DataRange1d(id='1008', ...),</div></div><div class=\"1344\" style=\"display: none;\"><div style=\"display: table-cell;\"></div><div style=\"display: table-cell;\">y_scale&nbsp;=&nbsp;LinearScale(id='1012', ...))</div></div></div>\n",
       "<script>\n",
       "(function() {\n",
       "  let expanded = false;\n",
       "  const ellipsis = document.getElementById(\"1345\");\n",
       "  ellipsis.addEventListener(\"click\", function() {\n",
       "    const rows = document.getElementsByClassName(\"1344\");\n",
       "    for (let i = 0; i < rows.length; i++) {\n",
       "      const el = rows[i];\n",
       "      el.style.display = expanded ? \"none\" : \"table-row\";\n",
       "    }\n",
       "    ellipsis.innerHTML = expanded ? \"&hellip;)\" : \"&lsaquo;&lsaquo;&lsaquo;\";\n",
       "    expanded = !expanded;\n",
       "  });\n",
       "})();\n",
       "</script>\n"
      ],
      "text/plain": [
       "Figure(id='1005', ...)"
      ]
     },
     "execution_count": 7,
     "metadata": {},
     "output_type": "execute_result"
    }
   ],
   "source": [
    "sqMassLoader.plotChromatogram(\"NKESPT(UniMod:21)KAIVR(UniMod:267)\", 3)"
   ]
  },
  {
   "cell_type": "markdown",
   "id": "327371e4-0381-4344-8576-f9ba6b7fb054",
   "metadata": {
    "editable": true,
    "slideshow": {
     "slide_type": ""
    },
    "tags": []
   },
   "source": [
    "By default the plot is smoothed and the boundaries of the features found in the OpenSwath file are plotted. The length of the boundary lines is indicative of the intensity of the feature. These can be turned off as shown below. "
   ]
  },
  {
   "cell_type": "code",
   "execution_count": 8,
   "id": "caf0ff7e-8fc6-4771-98f1-11ae6b8ac71f",
   "metadata": {
    "editable": true,
    "slideshow": {
     "slide_type": ""
    },
    "tags": []
   },
   "outputs": [
    {
     "ename": "TypeError",
     "evalue": "GenericChromatogramLoader.plotChromatogram() got an unexpected keyword argument 'title'",
     "output_type": "error",
     "traceback": [
      "\u001b[0;31m---------------------------------------------------------------------------\u001b[0m",
      "\u001b[0;31mTypeError\u001b[0m                                 Traceback (most recent call last)",
      "Cell \u001b[0;32mIn[8], line 1\u001b[0m\n\u001b[0;32m----> 1\u001b[0m \u001b[43msqMassLoader\u001b[49m\u001b[38;5;241;43m.\u001b[39;49m\u001b[43mplotChromatogram\u001b[49m\u001b[43m(\u001b[49m\u001b[38;5;124;43m\"\u001b[39;49m\u001b[38;5;124;43mNKESPT(UniMod:21)KAIVR(UniMod:267)\u001b[39;49m\u001b[38;5;124;43m\"\u001b[39;49m\u001b[43m,\u001b[49m\u001b[43m \u001b[49m\u001b[38;5;241;43m3\u001b[39;49m\u001b[43m,\u001b[49m\u001b[43m \u001b[49m\u001b[43mincludeBoundaries\u001b[49m\u001b[38;5;241;43m=\u001b[39;49m\u001b[38;5;28;43;01mFalse\u001b[39;49;00m\u001b[43m,\u001b[49m\u001b[43m \u001b[49m\u001b[43msmooth\u001b[49m\u001b[38;5;241;43m=\u001b[39;49m\u001b[38;5;28;43;01mFalse\u001b[39;49;00m\u001b[43m,\u001b[49m\u001b[43m \u001b[49m\u001b[43mtitle\u001b[49m\u001b[38;5;241;43m=\u001b[39;49m\u001b[38;5;124;43m\"\u001b[39;49m\u001b[38;5;124;43mHello\u001b[39;49m\u001b[38;5;124;43m\"\u001b[39;49m\u001b[43m,\u001b[49m\u001b[43m \u001b[49m\u001b[43mgrid\u001b[49m\u001b[38;5;241;43m=\u001b[39;49m\u001b[38;5;28;43;01mFalse\u001b[39;49;00m\u001b[43m)\u001b[49m\n",
      "\u001b[0;31mTypeError\u001b[0m: GenericChromatogramLoader.plotChromatogram() got an unexpected keyword argument 'title'"
     ]
    }
   ],
   "source": [
    "sqMassLoader.plotChromatogram(\"NKESPT(UniMod:21)KAIVR(UniMod:267)\", 3, includeBoundaries=False, smooth=False, title=\"Hello\", grid=False)"
   ]
  },
  {
   "cell_type": "markdown",
   "id": "4051ab11-c400-4824-84a7-82ea74dc93cc",
   "metadata": {
    "editable": true,
    "slideshow": {
     "slide_type": ""
    },
    "tags": []
   },
   "source": [
    "Furthermore, the MS1 elution can also be shown."
   ]
  },
  {
   "cell_type": "code",
   "execution_count": 6,
   "id": "d4d6e554-f163-419c-b1bb-7b474c6d7546",
   "metadata": {
    "editable": true,
    "slideshow": {
     "slide_type": ""
    },
    "tags": []
   },
   "outputs": [
    {
     "data": {
      "text/html": [
       "    <style>\n",
       "        .bk-notebook-logo {\n",
       "            display: block;\n",
       "            width: 20px;\n",
       "            height: 20px;\n",
       "            background-image: url(data:image/png;base64,iVBORw0KGgoAAAANSUhEUgAAABQAAAAUCAYAAACNiR0NAAAABHNCSVQICAgIfAhkiAAAAAlwSFlzAAALEgAACxIB0t1+/AAAABx0RVh0U29mdHdhcmUAQWRvYmUgRmlyZXdvcmtzIENTNui8sowAAAOkSURBVDiNjZRtaJVlGMd/1/08zzln5zjP1LWcU9N0NkN8m2CYjpgQYQXqSs0I84OLIC0hkEKoPtiH3gmKoiJDU7QpLgoLjLIQCpEsNJ1vqUOdO7ppbuec5+V+rj4ctwzd8IIbbi6u+8f1539dt3A78eXC7QizUF7gyV1fD1Yqg4JWz84yffhm0qkFqBogB9rM8tZdtwVsPUhWhGcFJngGeWrPzHm5oaMmkfEg1usvLFyc8jLRqDOMru7AyC8saQr7GG7f5fvDeH7Ej8CM66nIF+8yngt6HWaKh7k49Soy9nXurCi1o3qUbS3zWfrYeQDTB/Qj6kX6Ybhw4B+bOYoLKCC9H3Nu/leUTZ1JdRWkkn2ldcCamzrcf47KKXdAJllSlxAOkRgyHsGC/zRday5Qld9DyoM4/q/rUoy/CXh3jzOu3bHUVZeU+DEn8FInkPBFlu3+nW3Nw0mk6vCDiWg8CeJaxEwuHS3+z5RgY+YBR6V1Z1nxSOfoaPa4LASWxxdNp+VWTk7+4vzaou8v8PN+xo+KY2xsw6une2frhw05CTYOmQvsEhjhWjn0bmXPjpE1+kplmmkP3suftwTubK9Vq22qKmrBhpY4jvd5afdRA3wGjFAgcnTK2s4hY0/GPNIb0nErGMCRxWOOX64Z8RAC4oCXdklmEvcL8o0BfkNK4lUg9HTl+oPlQxdNo3Mg4Nv175e/1LDGzZen30MEjRUtmXSfiTVu1kK8W4txyV6BMKlbgk3lMwYCiusNy9fVfvvwMxv8Ynl6vxoByANLTWplvuj/nF9m2+PDtt1eiHPBr1oIfhCChQMBw6Aw0UulqTKZdfVvfG7VcfIqLG9bcldL/+pdWTLxLUy8Qq38heUIjh4XlzZxzQm19lLFlr8vdQ97rjZVOLf8nclzckbcD4wxXMidpX30sFd37Fv/GtwwhzhxGVAprjbg0gCAEeIgwCZyTV2Z1REEW8O4py0wsjeloKoMr6iCY6dP92H6Vw/oTyICIthibxjm/DfN9lVz8IqtqKYLUXfoKVMVQVVJOElGjrnnUt9T9wbgp8AyYKaGlqingHZU/uG2NTZSVqwHQTWkx9hxjkpWDaCg6Ckj5qebgBVbT3V3NNXMSiWSDdGV3hrtzla7J+duwPOToIg42ChPQOQjspnSlp1V+Gjdged7+8UN5CRAV7a5EdFNwCjEaBR27b3W890TE7g24NAP/mMDXRWrGoFPQI9ls/MWO2dWFAar/xcOIImbbpA3zgAAAABJRU5ErkJggg==);\n",
       "        }\n",
       "    </style>\n",
       "    <div>\n",
       "        <a href=\"https://bokeh.org\" target=\"_blank\" class=\"bk-notebook-logo\"></a>\n",
       "        <span id=\"eff78e8f-fd60-4c83-81ad-64f161daec36\">Loading BokehJS ...</span>\n",
       "    </div>\n"
      ]
     },
     "metadata": {},
     "output_type": "display_data"
    },
    {
     "data": {
      "application/javascript": [
       "'use strict';\n",
       "(function(root) {\n",
       "  function now() {\n",
       "    return new Date();\n",
       "  }\n",
       "\n",
       "  const force = true;\n",
       "\n",
       "  if (typeof root._bokeh_onload_callbacks === \"undefined\" || force === true) {\n",
       "    root._bokeh_onload_callbacks = [];\n",
       "    root._bokeh_is_loading = undefined;\n",
       "  }\n",
       "\n",
       "const JS_MIME_TYPE = 'application/javascript';\n",
       "  const HTML_MIME_TYPE = 'text/html';\n",
       "  const EXEC_MIME_TYPE = 'application/vnd.bokehjs_exec.v0+json';\n",
       "  const CLASS_NAME = 'output_bokeh rendered_html';\n",
       "\n",
       "  /**\n",
       "   * Render data to the DOM node\n",
       "   */\n",
       "  function render(props, node) {\n",
       "    const script = document.createElement(\"script\");\n",
       "    node.appendChild(script);\n",
       "  }\n",
       "\n",
       "  /**\n",
       "   * Handle when an output is cleared or removed\n",
       "   */\n",
       "  function handleClearOutput(event, handle) {\n",
       "    function drop(id) {\n",
       "      const view = Bokeh.index.get_by_id(id)\n",
       "      if (view != null) {\n",
       "        view.model.document.clear()\n",
       "        Bokeh.index.delete(view)\n",
       "      }\n",
       "    }\n",
       "\n",
       "    const cell = handle.cell;\n",
       "\n",
       "    const id = cell.output_area._bokeh_element_id;\n",
       "    const server_id = cell.output_area._bokeh_server_id;\n",
       "\n",
       "    // Clean up Bokeh references\n",
       "    if (id != null) {\n",
       "      drop(id)\n",
       "    }\n",
       "\n",
       "    if (server_id !== undefined) {\n",
       "      // Clean up Bokeh references\n",
       "      const cmd_clean = \"from bokeh.io.state import curstate; print(curstate().uuid_to_server['\" + server_id + \"'].get_sessions()[0].document.roots[0]._id)\";\n",
       "      cell.notebook.kernel.execute(cmd_clean, {\n",
       "        iopub: {\n",
       "          output: function(msg) {\n",
       "            const id = msg.content.text.trim()\n",
       "            drop(id)\n",
       "          }\n",
       "        }\n",
       "      });\n",
       "      // Destroy server and session\n",
       "      const cmd_destroy = \"import bokeh.io.notebook as ion; ion.destroy_server('\" + server_id + \"')\";\n",
       "      cell.notebook.kernel.execute(cmd_destroy);\n",
       "    }\n",
       "  }\n",
       "\n",
       "  /**\n",
       "   * Handle when a new output is added\n",
       "   */\n",
       "  function handleAddOutput(event, handle) {\n",
       "    const output_area = handle.output_area;\n",
       "    const output = handle.output;\n",
       "\n",
       "    // limit handleAddOutput to display_data with EXEC_MIME_TYPE content only\n",
       "    if ((output.output_type != \"display_data\") || (!Object.prototype.hasOwnProperty.call(output.data, EXEC_MIME_TYPE))) {\n",
       "      return\n",
       "    }\n",
       "\n",
       "    const toinsert = output_area.element.find(\".\" + CLASS_NAME.split(' ')[0]);\n",
       "\n",
       "    if (output.metadata[EXEC_MIME_TYPE][\"id\"] !== undefined) {\n",
       "      toinsert[toinsert.length - 1].firstChild.textContent = output.data[JS_MIME_TYPE];\n",
       "      // store reference to embed id on output_area\n",
       "      output_area._bokeh_element_id = output.metadata[EXEC_MIME_TYPE][\"id\"];\n",
       "    }\n",
       "    if (output.metadata[EXEC_MIME_TYPE][\"server_id\"] !== undefined) {\n",
       "      const bk_div = document.createElement(\"div\");\n",
       "      bk_div.innerHTML = output.data[HTML_MIME_TYPE];\n",
       "      const script_attrs = bk_div.children[0].attributes;\n",
       "      for (let i = 0; i < script_attrs.length; i++) {\n",
       "        toinsert[toinsert.length - 1].firstChild.setAttribute(script_attrs[i].name, script_attrs[i].value);\n",
       "        toinsert[toinsert.length - 1].firstChild.textContent = bk_div.children[0].textContent\n",
       "      }\n",
       "      // store reference to server id on output_area\n",
       "      output_area._bokeh_server_id = output.metadata[EXEC_MIME_TYPE][\"server_id\"];\n",
       "    }\n",
       "  }\n",
       "\n",
       "  function register_renderer(events, OutputArea) {\n",
       "\n",
       "    function append_mime(data, metadata, element) {\n",
       "      // create a DOM node to render to\n",
       "      const toinsert = this.create_output_subarea(\n",
       "        metadata,\n",
       "        CLASS_NAME,\n",
       "        EXEC_MIME_TYPE\n",
       "      );\n",
       "      this.keyboard_manager.register_events(toinsert);\n",
       "      // Render to node\n",
       "      const props = {data: data, metadata: metadata[EXEC_MIME_TYPE]};\n",
       "      render(props, toinsert[toinsert.length - 1]);\n",
       "      element.append(toinsert);\n",
       "      return toinsert\n",
       "    }\n",
       "\n",
       "    /* Handle when an output is cleared or removed */\n",
       "    events.on('clear_output.CodeCell', handleClearOutput);\n",
       "    events.on('delete.Cell', handleClearOutput);\n",
       "\n",
       "    /* Handle when a new output is added */\n",
       "    events.on('output_added.OutputArea', handleAddOutput);\n",
       "\n",
       "    /**\n",
       "     * Register the mime type and append_mime function with output_area\n",
       "     */\n",
       "    OutputArea.prototype.register_mime_type(EXEC_MIME_TYPE, append_mime, {\n",
       "      /* Is output safe? */\n",
       "      safe: true,\n",
       "      /* Index of renderer in `output_area.display_order` */\n",
       "      index: 0\n",
       "    });\n",
       "  }\n",
       "\n",
       "  // register the mime type if in Jupyter Notebook environment and previously unregistered\n",
       "  if (root.Jupyter !== undefined) {\n",
       "    const events = require('base/js/events');\n",
       "    const OutputArea = require('notebook/js/outputarea').OutputArea;\n",
       "\n",
       "    if (OutputArea.prototype.mime_types().indexOf(EXEC_MIME_TYPE) == -1) {\n",
       "      register_renderer(events, OutputArea);\n",
       "    }\n",
       "  }\n",
       "  if (typeof (root._bokeh_timeout) === \"undefined\" || force === true) {\n",
       "    root._bokeh_timeout = Date.now() + 5000;\n",
       "    root._bokeh_failed_load = false;\n",
       "  }\n",
       "\n",
       "  const NB_LOAD_WARNING = {'data': {'text/html':\n",
       "     \"<div style='background-color: #fdd'>\\n\"+\n",
       "     \"<p>\\n\"+\n",
       "     \"BokehJS does not appear to have successfully loaded. If loading BokehJS from CDN, this \\n\"+\n",
       "     \"may be due to a slow or bad network connection. Possible fixes:\\n\"+\n",
       "     \"</p>\\n\"+\n",
       "     \"<ul>\\n\"+\n",
       "     \"<li>re-rerun `output_notebook()` to attempt to load from CDN again, or</li>\\n\"+\n",
       "     \"<li>use INLINE resources instead, as so:</li>\\n\"+\n",
       "     \"</ul>\\n\"+\n",
       "     \"<code>\\n\"+\n",
       "     \"from bokeh.resources import INLINE\\n\"+\n",
       "     \"output_notebook(resources=INLINE)\\n\"+\n",
       "     \"</code>\\n\"+\n",
       "     \"</div>\"}};\n",
       "\n",
       "  function display_loaded(error = null) {\n",
       "    const el = document.getElementById(\"eff78e8f-fd60-4c83-81ad-64f161daec36\");\n",
       "    if (el != null) {\n",
       "      const html = (() => {\n",
       "        if (typeof root.Bokeh === \"undefined\") {\n",
       "          if (error == null) {\n",
       "            return \"BokehJS is loading ...\";\n",
       "          } else {\n",
       "            return \"BokehJS failed to load.\";\n",
       "          }\n",
       "        } else {\n",
       "          const prefix = `BokehJS ${root.Bokeh.version}`;\n",
       "          if (error == null) {\n",
       "            return `${prefix} successfully loaded.`;\n",
       "          } else {\n",
       "            return `${prefix} <b>encountered errors</b> while loading and may not function as expected.`;\n",
       "          }\n",
       "        }\n",
       "      })();\n",
       "      el.innerHTML = html;\n",
       "\n",
       "      if (error != null) {\n",
       "        const wrapper = document.createElement(\"div\");\n",
       "        wrapper.style.overflow = \"auto\";\n",
       "        wrapper.style.height = \"5em\";\n",
       "        wrapper.style.resize = \"vertical\";\n",
       "        const content = document.createElement(\"div\");\n",
       "        content.style.fontFamily = \"monospace\";\n",
       "        content.style.whiteSpace = \"pre-wrap\";\n",
       "        content.style.backgroundColor = \"rgb(255, 221, 221)\";\n",
       "        content.textContent = error.stack ?? error.toString();\n",
       "        wrapper.append(content);\n",
       "        el.append(wrapper);\n",
       "      }\n",
       "    } else if (Date.now() < root._bokeh_timeout) {\n",
       "      setTimeout(() => display_loaded(error), 100);\n",
       "    }\n",
       "  }\n",
       "\n",
       "  function run_callbacks() {\n",
       "    try {\n",
       "      root._bokeh_onload_callbacks.forEach(function(callback) {\n",
       "        if (callback != null)\n",
       "          callback();\n",
       "      });\n",
       "    } finally {\n",
       "      delete root._bokeh_onload_callbacks\n",
       "    }\n",
       "    console.debug(\"Bokeh: all callbacks have finished\");\n",
       "  }\n",
       "\n",
       "  function load_libs(css_urls, js_urls, callback) {\n",
       "    if (css_urls == null) css_urls = [];\n",
       "    if (js_urls == null) js_urls = [];\n",
       "\n",
       "    root._bokeh_onload_callbacks.push(callback);\n",
       "    if (root._bokeh_is_loading > 0) {\n",
       "      console.debug(\"Bokeh: BokehJS is being loaded, scheduling callback at\", now());\n",
       "      return null;\n",
       "    }\n",
       "    if (js_urls == null || js_urls.length === 0) {\n",
       "      run_callbacks();\n",
       "      return null;\n",
       "    }\n",
       "    console.debug(\"Bokeh: BokehJS not loaded, scheduling load and callback at\", now());\n",
       "    root._bokeh_is_loading = css_urls.length + js_urls.length;\n",
       "\n",
       "    function on_load() {\n",
       "      root._bokeh_is_loading--;\n",
       "      if (root._bokeh_is_loading === 0) {\n",
       "        console.debug(\"Bokeh: all BokehJS libraries/stylesheets loaded\");\n",
       "        run_callbacks()\n",
       "      }\n",
       "    }\n",
       "\n",
       "    function on_error(url) {\n",
       "      console.error(\"failed to load \" + url);\n",
       "    }\n",
       "\n",
       "    for (let i = 0; i < css_urls.length; i++) {\n",
       "      const url = css_urls[i];\n",
       "      const element = document.createElement(\"link\");\n",
       "      element.onload = on_load;\n",
       "      element.onerror = on_error.bind(null, url);\n",
       "      element.rel = \"stylesheet\";\n",
       "      element.type = \"text/css\";\n",
       "      element.href = url;\n",
       "      console.debug(\"Bokeh: injecting link tag for BokehJS stylesheet: \", url);\n",
       "      document.body.appendChild(element);\n",
       "    }\n",
       "\n",
       "    for (let i = 0; i < js_urls.length; i++) {\n",
       "      const url = js_urls[i];\n",
       "      const element = document.createElement('script');\n",
       "      element.onload = on_load;\n",
       "      element.onerror = on_error.bind(null, url);\n",
       "      element.async = false;\n",
       "      element.src = url;\n",
       "      console.debug(\"Bokeh: injecting script tag for BokehJS library: \", url);\n",
       "      document.head.appendChild(element);\n",
       "    }\n",
       "  };\n",
       "\n",
       "  function inject_raw_css(css) {\n",
       "    const element = document.createElement(\"style\");\n",
       "    element.appendChild(document.createTextNode(css));\n",
       "    document.body.appendChild(element);\n",
       "  }\n",
       "\n",
       "  const js_urls = [\"https://cdn.bokeh.org/bokeh/release/bokeh-3.6.0.min.js\", \"https://cdn.bokeh.org/bokeh/release/bokeh-gl-3.6.0.min.js\", \"https://cdn.bokeh.org/bokeh/release/bokeh-widgets-3.6.0.min.js\", \"https://cdn.bokeh.org/bokeh/release/bokeh-tables-3.6.0.min.js\", \"https://cdn.bokeh.org/bokeh/release/bokeh-mathjax-3.6.0.min.js\"];\n",
       "  const css_urls = [];\n",
       "\n",
       "  const inline_js = [    function(Bokeh) {\n",
       "      Bokeh.set_log_level(\"info\");\n",
       "    },\n",
       "function(Bokeh) {\n",
       "    }\n",
       "  ];\n",
       "\n",
       "  function run_inline_js() {\n",
       "    if (root.Bokeh !== undefined || force === true) {\n",
       "      try {\n",
       "            for (let i = 0; i < inline_js.length; i++) {\n",
       "      inline_js[i].call(root, root.Bokeh);\n",
       "    }\n",
       "\n",
       "      } catch (error) {display_loaded(error);throw error;\n",
       "      }if (force === true) {\n",
       "        display_loaded();\n",
       "      }} else if (Date.now() < root._bokeh_timeout) {\n",
       "      setTimeout(run_inline_js, 100);\n",
       "    } else if (!root._bokeh_failed_load) {\n",
       "      console.log(\"Bokeh: BokehJS failed to load within specified timeout.\");\n",
       "      root._bokeh_failed_load = true;\n",
       "    } else if (force !== true) {\n",
       "      const cell = $(document.getElementById(\"eff78e8f-fd60-4c83-81ad-64f161daec36\")).parents('.cell').data().cell;\n",
       "      cell.output_area.append_execute_result(NB_LOAD_WARNING)\n",
       "    }\n",
       "  }\n",
       "\n",
       "  if (root._bokeh_is_loading === 0) {\n",
       "    console.debug(\"Bokeh: BokehJS loaded, going straight to plotting\");\n",
       "    run_inline_js();\n",
       "  } else {\n",
       "    load_libs(css_urls, js_urls, function() {\n",
       "      console.debug(\"Bokeh: BokehJS plotting callback run at\", now());\n",
       "      run_inline_js();\n",
       "    });\n",
       "  }\n",
       "}(window));"
      ],
      "application/vnd.bokehjs_load.v0+json": "'use strict';\n(function(root) {\n  function now() {\n    return new Date();\n  }\n\n  const force = true;\n\n  if (typeof root._bokeh_onload_callbacks === \"undefined\" || force === true) {\n    root._bokeh_onload_callbacks = [];\n    root._bokeh_is_loading = undefined;\n  }\n\n\n  if (typeof (root._bokeh_timeout) === \"undefined\" || force === true) {\n    root._bokeh_timeout = Date.now() + 5000;\n    root._bokeh_failed_load = false;\n  }\n\n  const NB_LOAD_WARNING = {'data': {'text/html':\n     \"<div style='background-color: #fdd'>\\n\"+\n     \"<p>\\n\"+\n     \"BokehJS does not appear to have successfully loaded. If loading BokehJS from CDN, this \\n\"+\n     \"may be due to a slow or bad network connection. Possible fixes:\\n\"+\n     \"</p>\\n\"+\n     \"<ul>\\n\"+\n     \"<li>re-rerun `output_notebook()` to attempt to load from CDN again, or</li>\\n\"+\n     \"<li>use INLINE resources instead, as so:</li>\\n\"+\n     \"</ul>\\n\"+\n     \"<code>\\n\"+\n     \"from bokeh.resources import INLINE\\n\"+\n     \"output_notebook(resources=INLINE)\\n\"+\n     \"</code>\\n\"+\n     \"</div>\"}};\n\n  function display_loaded(error = null) {\n    const el = document.getElementById(\"eff78e8f-fd60-4c83-81ad-64f161daec36\");\n    if (el != null) {\n      const html = (() => {\n        if (typeof root.Bokeh === \"undefined\") {\n          if (error == null) {\n            return \"BokehJS is loading ...\";\n          } else {\n            return \"BokehJS failed to load.\";\n          }\n        } else {\n          const prefix = `BokehJS ${root.Bokeh.version}`;\n          if (error == null) {\n            return `${prefix} successfully loaded.`;\n          } else {\n            return `${prefix} <b>encountered errors</b> while loading and may not function as expected.`;\n          }\n        }\n      })();\n      el.innerHTML = html;\n\n      if (error != null) {\n        const wrapper = document.createElement(\"div\");\n        wrapper.style.overflow = \"auto\";\n        wrapper.style.height = \"5em\";\n        wrapper.style.resize = \"vertical\";\n        const content = document.createElement(\"div\");\n        content.style.fontFamily = \"monospace\";\n        content.style.whiteSpace = \"pre-wrap\";\n        content.style.backgroundColor = \"rgb(255, 221, 221)\";\n        content.textContent = error.stack ?? error.toString();\n        wrapper.append(content);\n        el.append(wrapper);\n      }\n    } else if (Date.now() < root._bokeh_timeout) {\n      setTimeout(() => display_loaded(error), 100);\n    }\n  }\n\n  function run_callbacks() {\n    try {\n      root._bokeh_onload_callbacks.forEach(function(callback) {\n        if (callback != null)\n          callback();\n      });\n    } finally {\n      delete root._bokeh_onload_callbacks\n    }\n    console.debug(\"Bokeh: all callbacks have finished\");\n  }\n\n  function load_libs(css_urls, js_urls, callback) {\n    if (css_urls == null) css_urls = [];\n    if (js_urls == null) js_urls = [];\n\n    root._bokeh_onload_callbacks.push(callback);\n    if (root._bokeh_is_loading > 0) {\n      console.debug(\"Bokeh: BokehJS is being loaded, scheduling callback at\", now());\n      return null;\n    }\n    if (js_urls == null || js_urls.length === 0) {\n      run_callbacks();\n      return null;\n    }\n    console.debug(\"Bokeh: BokehJS not loaded, scheduling load and callback at\", now());\n    root._bokeh_is_loading = css_urls.length + js_urls.length;\n\n    function on_load() {\n      root._bokeh_is_loading--;\n      if (root._bokeh_is_loading === 0) {\n        console.debug(\"Bokeh: all BokehJS libraries/stylesheets loaded\");\n        run_callbacks()\n      }\n    }\n\n    function on_error(url) {\n      console.error(\"failed to load \" + url);\n    }\n\n    for (let i = 0; i < css_urls.length; i++) {\n      const url = css_urls[i];\n      const element = document.createElement(\"link\");\n      element.onload = on_load;\n      element.onerror = on_error.bind(null, url);\n      element.rel = \"stylesheet\";\n      element.type = \"text/css\";\n      element.href = url;\n      console.debug(\"Bokeh: injecting link tag for BokehJS stylesheet: \", url);\n      document.body.appendChild(element);\n    }\n\n    for (let i = 0; i < js_urls.length; i++) {\n      const url = js_urls[i];\n      const element = document.createElement('script');\n      element.onload = on_load;\n      element.onerror = on_error.bind(null, url);\n      element.async = false;\n      element.src = url;\n      console.debug(\"Bokeh: injecting script tag for BokehJS library: \", url);\n      document.head.appendChild(element);\n    }\n  };\n\n  function inject_raw_css(css) {\n    const element = document.createElement(\"style\");\n    element.appendChild(document.createTextNode(css));\n    document.body.appendChild(element);\n  }\n\n  const js_urls = [\"https://cdn.bokeh.org/bokeh/release/bokeh-3.6.0.min.js\", \"https://cdn.bokeh.org/bokeh/release/bokeh-gl-3.6.0.min.js\", \"https://cdn.bokeh.org/bokeh/release/bokeh-widgets-3.6.0.min.js\", \"https://cdn.bokeh.org/bokeh/release/bokeh-tables-3.6.0.min.js\", \"https://cdn.bokeh.org/bokeh/release/bokeh-mathjax-3.6.0.min.js\"];\n  const css_urls = [];\n\n  const inline_js = [    function(Bokeh) {\n      Bokeh.set_log_level(\"info\");\n    },\nfunction(Bokeh) {\n    }\n  ];\n\n  function run_inline_js() {\n    if (root.Bokeh !== undefined || force === true) {\n      try {\n            for (let i = 0; i < inline_js.length; i++) {\n      inline_js[i].call(root, root.Bokeh);\n    }\n\n      } catch (error) {display_loaded(error);throw error;\n      }if (force === true) {\n        display_loaded();\n      }} else if (Date.now() < root._bokeh_timeout) {\n      setTimeout(run_inline_js, 100);\n    } else if (!root._bokeh_failed_load) {\n      console.log(\"Bokeh: BokehJS failed to load within specified timeout.\");\n      root._bokeh_failed_load = true;\n    } else if (force !== true) {\n      const cell = $(document.getElementById(\"eff78e8f-fd60-4c83-81ad-64f161daec36\")).parents('.cell').data().cell;\n      cell.output_area.append_execute_result(NB_LOAD_WARNING)\n    }\n  }\n\n  if (root._bokeh_is_loading === 0) {\n    console.debug(\"Bokeh: BokehJS loaded, going straight to plotting\");\n    run_inline_js();\n  } else {\n    load_libs(css_urls, js_urls, function() {\n      console.debug(\"Bokeh: BokehJS plotting callback run at\", now());\n      run_inline_js();\n    });\n  }\n}(window));"
     },
     "metadata": {},
     "output_type": "display_data"
    },
    {
     "name": "stdout",
     "output_type": "stream",
     "text": [
      "Line width not set, defaulting to 2.5\n"
     ]
    },
    {
     "data": {
      "application/vnd.bokehjs_exec.v0+json": "",
      "text/html": [
       "<script id=\"ca5c5945-e0ea-488c-bc96-39b8cfb63d86\">\n",
       "  (function() {\n",
       "    const xhr = new XMLHttpRequest()\n",
       "    xhr.responseType = 'blob';\n",
       "    xhr.open('GET', \"http://localhost:35917/autoload.js?bokeh-autoload-element=ca5c5945-e0ea-488c-bc96-39b8cfb63d86&bokeh-absolute-url=http://localhost:35917&resources=none\", true);\n",
       "    xhr.withCredentials = false;\n",
       "    xhr.onload = function (event) {\n",
       "      const script = document.createElement('script');\n",
       "      const src = URL.createObjectURL(event.target.response);\n",
       "      script.src = src;\n",
       "      document.body.appendChild(script);\n",
       "    };\n",
       "    xhr.send();\n",
       "  })();\n",
       "</script>"
      ]
     },
     "metadata": {
      "application/vnd.bokehjs_exec.v0+json": {
       "server_id": "22f560209d184ea7a8913c42fc785192"
      }
     },
     "output_type": "display_data"
    }
   ],
   "source": [
    "sqMassLoader.plotChromatogram(\"NKESPT(UniMod:21)KAIVR(UniMod:267)\", 3, include_ms1=True)"
   ]
  },
  {
   "cell_type": "markdown",
   "id": "8b89c240-7cd8-4305-98e9-f59b5f866ccf",
   "metadata": {
    "editable": true,
    "slideshow": {
     "slide_type": ""
    },
    "tags": []
   },
   "source": [
    "<div class=\"alert alert-info\">\n",
    "\n",
    "Note\n",
    "\n",
    "Boundaries shown are directly copied from the the OpenSwath output and are not effected by changing smoothing parameters.\n",
    "\n",
    "</div>"
   ]
  },
  {
   "cell_type": "markdown",
   "id": "0856df57-0b9d-4dc4-9f25-c09a945a55f3",
   "metadata": {
    "editable": true,
    "slideshow": {
     "slide_type": ""
    },
    "tags": []
   },
   "source": [
    "### MzML Visualization"
   ]
  },
  {
   "cell_type": "markdown",
   "id": "18aa614d-6ec3-4d57-b0c2-70c9d8c6ab67",
   "metadata": {
    "editable": true,
    "slideshow": {
     "slide_type": ""
    },
    "tags": []
   },
   "source": [
    "Chromatograms can also be extracted on the fly from .mzML files. This is useful for visualizing how a chromatogram would appear if different extraction parameters were used and if chromatograms were not saved upon data analysis. "
   ]
  },
  {
   "cell_type": "raw",
   "id": "73037ef3-9aaf-47bb-a35d-b3473d595c79",
   "metadata": {
    "editable": true,
    "raw_mimetype": "text/restructuredtext",
    "slideshow": {
     "slide_type": ""
    },
    "tags": []
   },
   "source": [
    "First we must initiate a :py:class:`~loaders.MzMLDataLoader` which links a `.mzML` file with a results file and a library file. Currently supported results files include `.osw` and a DIA-NN `.tsv` report. We can link multiple result files in a single loader object in order to compare the features across software tools as shown below."
   ]
  },
  {
   "cell_type": "code",
   "execution_count": 11,
   "id": "c1facffe-6e96-4248-bcda-4553bbcded82",
   "metadata": {
    "editable": true,
    "slideshow": {
     "slide_type": ""
    },
    "tags": []
   },
   "outputs": [
    {
     "name": "stdout",
     "output_type": "stream",
     "text": [
      "Initializing valid scores for selection\n",
      "[2024-10-09 15:39:45,148] MzMLDataAccess - INFO - Opening example_dia/raw/test_raw_1.mzML file...: Elapsed 0.35804009437561035 ms\n",
      "[2024-10-09 15:39:45,149] MzMLDataAccess - INFO - There are 3867 spectra and 1 chromatograms.\n",
      "[2024-10-09 15:39:45,173] MzMLDataAccess - INFO - There are 117 MS1 spectra and 3750 MS2 spectra.\n"
     ]
    }
   ],
   "source": [
    "from massdash.loaders import MzMLDataLoader\n",
    "mzml_loader = MzMLDataLoader(rsltsFile=[\"example_dia/diann/report/test_1_diann_report.tsv\", \"example_dia/openswath/osw/test.osw\"], \n",
    "                            dataFiles=\"example_dia/raw/test_raw_1.mzML\",\n",
    "                            libraryFile=\"example_dia/diann/lib/test_1_lib.tsv\")"
   ]
  },
  {
   "cell_type": "raw",
   "id": "9da9da90-e397-46d6-ac76-fa1219edeb76",
   "metadata": {
    "editable": true,
    "raw_mimetype": "text/restructuredtext",
    "slideshow": {
     "slide_type": ""
    },
    "tags": []
   },
   "source": [
    "Now we can plot each of these using the :py:func:`~structs.MzMLLoader.plotChromatogram` function. Here, we must also specify extraction parameters such as mz_tol (in ppm) and rt_window (in seconds)."
   ]
  },
  {
   "cell_type": "code",
   "execution_count": 12,
   "id": "f1028997-16e1-4313-9b77-e1b02c018d59",
   "metadata": {},
   "outputs": [
    {
     "data": {
      "text/html": [
       "<div class=\"bk-root\">\n",
       "        <a href=\"https://bokeh.org\" target=\"_blank\" class=\"bk-logo bk-logo-small bk-logo-notebook\"></a>\n",
       "        <span id=\"1348\">Loading BokehJS ...</span>\n",
       "    </div>\n"
      ]
     },
     "metadata": {},
     "output_type": "display_data"
    },
    {
     "data": {
      "application/javascript": [
       "(function(root) {\n",
       "  function now() {\n",
       "    return new Date();\n",
       "  }\n",
       "\n",
       "  const force = true;\n",
       "\n",
       "  if (typeof root._bokeh_onload_callbacks === \"undefined\" || force === true) {\n",
       "    root._bokeh_onload_callbacks = [];\n",
       "    root._bokeh_is_loading = undefined;\n",
       "  }\n",
       "\n",
       "const JS_MIME_TYPE = 'application/javascript';\n",
       "  const HTML_MIME_TYPE = 'text/html';\n",
       "  const EXEC_MIME_TYPE = 'application/vnd.bokehjs_exec.v0+json';\n",
       "  const CLASS_NAME = 'output_bokeh rendered_html';\n",
       "\n",
       "  /**\n",
       "   * Render data to the DOM node\n",
       "   */\n",
       "  function render(props, node) {\n",
       "    const script = document.createElement(\"script\");\n",
       "    node.appendChild(script);\n",
       "  }\n",
       "\n",
       "  /**\n",
       "   * Handle when an output is cleared or removed\n",
       "   */\n",
       "  function handleClearOutput(event, handle) {\n",
       "    const cell = handle.cell;\n",
       "\n",
       "    const id = cell.output_area._bokeh_element_id;\n",
       "    const server_id = cell.output_area._bokeh_server_id;\n",
       "    // Clean up Bokeh references\n",
       "    if (id != null && id in Bokeh.index) {\n",
       "      Bokeh.index[id].model.document.clear();\n",
       "      delete Bokeh.index[id];\n",
       "    }\n",
       "\n",
       "    if (server_id !== undefined) {\n",
       "      // Clean up Bokeh references\n",
       "      const cmd_clean = \"from bokeh.io.state import curstate; print(curstate().uuid_to_server['\" + server_id + \"'].get_sessions()[0].document.roots[0]._id)\";\n",
       "      cell.notebook.kernel.execute(cmd_clean, {\n",
       "        iopub: {\n",
       "          output: function(msg) {\n",
       "            const id = msg.content.text.trim();\n",
       "            if (id in Bokeh.index) {\n",
       "              Bokeh.index[id].model.document.clear();\n",
       "              delete Bokeh.index[id];\n",
       "            }\n",
       "          }\n",
       "        }\n",
       "      });\n",
       "      // Destroy server and session\n",
       "      const cmd_destroy = \"import bokeh.io.notebook as ion; ion.destroy_server('\" + server_id + \"')\";\n",
       "      cell.notebook.kernel.execute(cmd_destroy);\n",
       "    }\n",
       "  }\n",
       "\n",
       "  /**\n",
       "   * Handle when a new output is added\n",
       "   */\n",
       "  function handleAddOutput(event, handle) {\n",
       "    const output_area = handle.output_area;\n",
       "    const output = handle.output;\n",
       "\n",
       "    // limit handleAddOutput to display_data with EXEC_MIME_TYPE content only\n",
       "    if ((output.output_type != \"display_data\") || (!Object.prototype.hasOwnProperty.call(output.data, EXEC_MIME_TYPE))) {\n",
       "      return\n",
       "    }\n",
       "\n",
       "    const toinsert = output_area.element.find(\".\" + CLASS_NAME.split(' ')[0]);\n",
       "\n",
       "    if (output.metadata[EXEC_MIME_TYPE][\"id\"] !== undefined) {\n",
       "      toinsert[toinsert.length - 1].firstChild.textContent = output.data[JS_MIME_TYPE];\n",
       "      // store reference to embed id on output_area\n",
       "      output_area._bokeh_element_id = output.metadata[EXEC_MIME_TYPE][\"id\"];\n",
       "    }\n",
       "    if (output.metadata[EXEC_MIME_TYPE][\"server_id\"] !== undefined) {\n",
       "      const bk_div = document.createElement(\"div\");\n",
       "      bk_div.innerHTML = output.data[HTML_MIME_TYPE];\n",
       "      const script_attrs = bk_div.children[0].attributes;\n",
       "      for (let i = 0; i < script_attrs.length; i++) {\n",
       "        toinsert[toinsert.length - 1].firstChild.setAttribute(script_attrs[i].name, script_attrs[i].value);\n",
       "        toinsert[toinsert.length - 1].firstChild.textContent = bk_div.children[0].textContent\n",
       "      }\n",
       "      // store reference to server id on output_area\n",
       "      output_area._bokeh_server_id = output.metadata[EXEC_MIME_TYPE][\"server_id\"];\n",
       "    }\n",
       "  }\n",
       "\n",
       "  function register_renderer(events, OutputArea) {\n",
       "\n",
       "    function append_mime(data, metadata, element) {\n",
       "      // create a DOM node to render to\n",
       "      const toinsert = this.create_output_subarea(\n",
       "        metadata,\n",
       "        CLASS_NAME,\n",
       "        EXEC_MIME_TYPE\n",
       "      );\n",
       "      this.keyboard_manager.register_events(toinsert);\n",
       "      // Render to node\n",
       "      const props = {data: data, metadata: metadata[EXEC_MIME_TYPE]};\n",
       "      render(props, toinsert[toinsert.length - 1]);\n",
       "      element.append(toinsert);\n",
       "      return toinsert\n",
       "    }\n",
       "\n",
       "    /* Handle when an output is cleared or removed */\n",
       "    events.on('clear_output.CodeCell', handleClearOutput);\n",
       "    events.on('delete.Cell', handleClearOutput);\n",
       "\n",
       "    /* Handle when a new output is added */\n",
       "    events.on('output_added.OutputArea', handleAddOutput);\n",
       "\n",
       "    /**\n",
       "     * Register the mime type and append_mime function with output_area\n",
       "     */\n",
       "    OutputArea.prototype.register_mime_type(EXEC_MIME_TYPE, append_mime, {\n",
       "      /* Is output safe? */\n",
       "      safe: true,\n",
       "      /* Index of renderer in `output_area.display_order` */\n",
       "      index: 0\n",
       "    });\n",
       "  }\n",
       "\n",
       "  // register the mime type if in Jupyter Notebook environment and previously unregistered\n",
       "  if (root.Jupyter !== undefined) {\n",
       "    const events = require('base/js/events');\n",
       "    const OutputArea = require('notebook/js/outputarea').OutputArea;\n",
       "\n",
       "    if (OutputArea.prototype.mime_types().indexOf(EXEC_MIME_TYPE) == -1) {\n",
       "      register_renderer(events, OutputArea);\n",
       "    }\n",
       "  }\n",
       "  if (typeof (root._bokeh_timeout) === \"undefined\" || force === true) {\n",
       "    root._bokeh_timeout = Date.now() + 5000;\n",
       "    root._bokeh_failed_load = false;\n",
       "  }\n",
       "\n",
       "  const NB_LOAD_WARNING = {'data': {'text/html':\n",
       "     \"<div style='background-color: #fdd'>\\n\"+\n",
       "     \"<p>\\n\"+\n",
       "     \"BokehJS does not appear to have successfully loaded. If loading BokehJS from CDN, this \\n\"+\n",
       "     \"may be due to a slow or bad network connection. Possible fixes:\\n\"+\n",
       "     \"</p>\\n\"+\n",
       "     \"<ul>\\n\"+\n",
       "     \"<li>re-rerun `output_notebook()` to attempt to load from CDN again, or</li>\\n\"+\n",
       "     \"<li>use INLINE resources instead, as so:</li>\\n\"+\n",
       "     \"</ul>\\n\"+\n",
       "     \"<code>\\n\"+\n",
       "     \"from bokeh.resources import INLINE\\n\"+\n",
       "     \"output_notebook(resources=INLINE)\\n\"+\n",
       "     \"</code>\\n\"+\n",
       "     \"</div>\"}};\n",
       "\n",
       "  function display_loaded() {\n",
       "    const el = document.getElementById(\"1348\");\n",
       "    if (el != null) {\n",
       "      el.textContent = \"BokehJS is loading...\";\n",
       "    }\n",
       "    if (root.Bokeh !== undefined) {\n",
       "      if (el != null) {\n",
       "        el.textContent = \"BokehJS \" + root.Bokeh.version + \" successfully loaded.\";\n",
       "      }\n",
       "    } else if (Date.now() < root._bokeh_timeout) {\n",
       "      setTimeout(display_loaded, 100)\n",
       "    }\n",
       "  }\n",
       "\n",
       "  function run_callbacks() {\n",
       "    try {\n",
       "      root._bokeh_onload_callbacks.forEach(function(callback) {\n",
       "        if (callback != null)\n",
       "          callback();\n",
       "      });\n",
       "    } finally {\n",
       "      delete root._bokeh_onload_callbacks\n",
       "    }\n",
       "    console.debug(\"Bokeh: all callbacks have finished\");\n",
       "  }\n",
       "\n",
       "  function load_libs(css_urls, js_urls, callback) {\n",
       "    if (css_urls == null) css_urls = [];\n",
       "    if (js_urls == null) js_urls = [];\n",
       "\n",
       "    root._bokeh_onload_callbacks.push(callback);\n",
       "    if (root._bokeh_is_loading > 0) {\n",
       "      console.debug(\"Bokeh: BokehJS is being loaded, scheduling callback at\", now());\n",
       "      return null;\n",
       "    }\n",
       "    if (js_urls == null || js_urls.length === 0) {\n",
       "      run_callbacks();\n",
       "      return null;\n",
       "    }\n",
       "    console.debug(\"Bokeh: BokehJS not loaded, scheduling load and callback at\", now());\n",
       "    root._bokeh_is_loading = css_urls.length + js_urls.length;\n",
       "\n",
       "    function on_load() {\n",
       "      root._bokeh_is_loading--;\n",
       "      if (root._bokeh_is_loading === 0) {\n",
       "        console.debug(\"Bokeh: all BokehJS libraries/stylesheets loaded\");\n",
       "        run_callbacks()\n",
       "      }\n",
       "    }\n",
       "\n",
       "    function on_error(url) {\n",
       "      console.error(\"failed to load \" + url);\n",
       "    }\n",
       "\n",
       "    for (let i = 0; i < css_urls.length; i++) {\n",
       "      const url = css_urls[i];\n",
       "      const element = document.createElement(\"link\");\n",
       "      element.onload = on_load;\n",
       "      element.onerror = on_error.bind(null, url);\n",
       "      element.rel = \"stylesheet\";\n",
       "      element.type = \"text/css\";\n",
       "      element.href = url;\n",
       "      console.debug(\"Bokeh: injecting link tag for BokehJS stylesheet: \", url);\n",
       "      document.body.appendChild(element);\n",
       "    }\n",
       "\n",
       "    for (let i = 0; i < js_urls.length; i++) {\n",
       "      const url = js_urls[i];\n",
       "      const element = document.createElement('script');\n",
       "      element.onload = on_load;\n",
       "      element.onerror = on_error.bind(null, url);\n",
       "      element.async = false;\n",
       "      element.src = url;\n",
       "      console.debug(\"Bokeh: injecting script tag for BokehJS library: \", url);\n",
       "      document.head.appendChild(element);\n",
       "    }\n",
       "  };\n",
       "\n",
       "  function inject_raw_css(css) {\n",
       "    const element = document.createElement(\"style\");\n",
       "    element.appendChild(document.createTextNode(css));\n",
       "    document.body.appendChild(element);\n",
       "  }\n",
       "\n",
       "  const js_urls = [\"https://cdn.bokeh.org/bokeh/release/bokeh-2.4.3.min.js\", \"https://cdn.bokeh.org/bokeh/release/bokeh-gl-2.4.3.min.js\", \"https://cdn.bokeh.org/bokeh/release/bokeh-widgets-2.4.3.min.js\", \"https://cdn.bokeh.org/bokeh/release/bokeh-tables-2.4.3.min.js\", \"https://cdn.bokeh.org/bokeh/release/bokeh-mathjax-2.4.3.min.js\"];\n",
       "  const css_urls = [];\n",
       "\n",
       "  const inline_js = [    function(Bokeh) {\n",
       "      Bokeh.set_log_level(\"info\");\n",
       "    },\n",
       "function(Bokeh) {\n",
       "    }\n",
       "  ];\n",
       "\n",
       "  function run_inline_js() {\n",
       "    if (root.Bokeh !== undefined || force === true) {\n",
       "          for (let i = 0; i < inline_js.length; i++) {\n",
       "      inline_js[i].call(root, root.Bokeh);\n",
       "    }\n",
       "if (force === true) {\n",
       "        display_loaded();\n",
       "      }} else if (Date.now() < root._bokeh_timeout) {\n",
       "      setTimeout(run_inline_js, 100);\n",
       "    } else if (!root._bokeh_failed_load) {\n",
       "      console.log(\"Bokeh: BokehJS failed to load within specified timeout.\");\n",
       "      root._bokeh_failed_load = true;\n",
       "    } else if (force !== true) {\n",
       "      const cell = $(document.getElementById(\"1348\")).parents('.cell').data().cell;\n",
       "      cell.output_area.append_execute_result(NB_LOAD_WARNING)\n",
       "    }\n",
       "  }\n",
       "\n",
       "  if (root._bokeh_is_loading === 0) {\n",
       "    console.debug(\"Bokeh: BokehJS loaded, going straight to plotting\");\n",
       "    run_inline_js();\n",
       "  } else {\n",
       "    load_libs(css_urls, js_urls, function() {\n",
       "      console.debug(\"Bokeh: BokehJS plotting callback run at\", now());\n",
       "      run_inline_js();\n",
       "    });\n",
       "  }\n",
       "}(window));"
      ],
      "application/vnd.bokehjs_load.v0+json": "(function(root) {\n  function now() {\n    return new Date();\n  }\n\n  const force = true;\n\n  if (typeof root._bokeh_onload_callbacks === \"undefined\" || force === true) {\n    root._bokeh_onload_callbacks = [];\n    root._bokeh_is_loading = undefined;\n  }\n\n\n  if (typeof (root._bokeh_timeout) === \"undefined\" || force === true) {\n    root._bokeh_timeout = Date.now() + 5000;\n    root._bokeh_failed_load = false;\n  }\n\n  const NB_LOAD_WARNING = {'data': {'text/html':\n     \"<div style='background-color: #fdd'>\\n\"+\n     \"<p>\\n\"+\n     \"BokehJS does not appear to have successfully loaded. If loading BokehJS from CDN, this \\n\"+\n     \"may be due to a slow or bad network connection. Possible fixes:\\n\"+\n     \"</p>\\n\"+\n     \"<ul>\\n\"+\n     \"<li>re-rerun `output_notebook()` to attempt to load from CDN again, or</li>\\n\"+\n     \"<li>use INLINE resources instead, as so:</li>\\n\"+\n     \"</ul>\\n\"+\n     \"<code>\\n\"+\n     \"from bokeh.resources import INLINE\\n\"+\n     \"output_notebook(resources=INLINE)\\n\"+\n     \"</code>\\n\"+\n     \"</div>\"}};\n\n  function display_loaded() {\n    const el = document.getElementById(\"1348\");\n    if (el != null) {\n      el.textContent = \"BokehJS is loading...\";\n    }\n    if (root.Bokeh !== undefined) {\n      if (el != null) {\n        el.textContent = \"BokehJS \" + root.Bokeh.version + \" successfully loaded.\";\n      }\n    } else if (Date.now() < root._bokeh_timeout) {\n      setTimeout(display_loaded, 100)\n    }\n  }\n\n  function run_callbacks() {\n    try {\n      root._bokeh_onload_callbacks.forEach(function(callback) {\n        if (callback != null)\n          callback();\n      });\n    } finally {\n      delete root._bokeh_onload_callbacks\n    }\n    console.debug(\"Bokeh: all callbacks have finished\");\n  }\n\n  function load_libs(css_urls, js_urls, callback) {\n    if (css_urls == null) css_urls = [];\n    if (js_urls == null) js_urls = [];\n\n    root._bokeh_onload_callbacks.push(callback);\n    if (root._bokeh_is_loading > 0) {\n      console.debug(\"Bokeh: BokehJS is being loaded, scheduling callback at\", now());\n      return null;\n    }\n    if (js_urls == null || js_urls.length === 0) {\n      run_callbacks();\n      return null;\n    }\n    console.debug(\"Bokeh: BokehJS not loaded, scheduling load and callback at\", now());\n    root._bokeh_is_loading = css_urls.length + js_urls.length;\n\n    function on_load() {\n      root._bokeh_is_loading--;\n      if (root._bokeh_is_loading === 0) {\n        console.debug(\"Bokeh: all BokehJS libraries/stylesheets loaded\");\n        run_callbacks()\n      }\n    }\n\n    function on_error(url) {\n      console.error(\"failed to load \" + url);\n    }\n\n    for (let i = 0; i < css_urls.length; i++) {\n      const url = css_urls[i];\n      const element = document.createElement(\"link\");\n      element.onload = on_load;\n      element.onerror = on_error.bind(null, url);\n      element.rel = \"stylesheet\";\n      element.type = \"text/css\";\n      element.href = url;\n      console.debug(\"Bokeh: injecting link tag for BokehJS stylesheet: \", url);\n      document.body.appendChild(element);\n    }\n\n    for (let i = 0; i < js_urls.length; i++) {\n      const url = js_urls[i];\n      const element = document.createElement('script');\n      element.onload = on_load;\n      element.onerror = on_error.bind(null, url);\n      element.async = false;\n      element.src = url;\n      console.debug(\"Bokeh: injecting script tag for BokehJS library: \", url);\n      document.head.appendChild(element);\n    }\n  };\n\n  function inject_raw_css(css) {\n    const element = document.createElement(\"style\");\n    element.appendChild(document.createTextNode(css));\n    document.body.appendChild(element);\n  }\n\n  const js_urls = [\"https://cdn.bokeh.org/bokeh/release/bokeh-2.4.3.min.js\", \"https://cdn.bokeh.org/bokeh/release/bokeh-gl-2.4.3.min.js\", \"https://cdn.bokeh.org/bokeh/release/bokeh-widgets-2.4.3.min.js\", \"https://cdn.bokeh.org/bokeh/release/bokeh-tables-2.4.3.min.js\", \"https://cdn.bokeh.org/bokeh/release/bokeh-mathjax-2.4.3.min.js\"];\n  const css_urls = [];\n\n  const inline_js = [    function(Bokeh) {\n      Bokeh.set_log_level(\"info\");\n    },\nfunction(Bokeh) {\n    }\n  ];\n\n  function run_inline_js() {\n    if (root.Bokeh !== undefined || force === true) {\n          for (let i = 0; i < inline_js.length; i++) {\n      inline_js[i].call(root, root.Bokeh);\n    }\nif (force === true) {\n        display_loaded();\n      }} else if (Date.now() < root._bokeh_timeout) {\n      setTimeout(run_inline_js, 100);\n    } else if (!root._bokeh_failed_load) {\n      console.log(\"Bokeh: BokehJS failed to load within specified timeout.\");\n      root._bokeh_failed_load = true;\n    } else if (force !== true) {\n      const cell = $(document.getElementById(\"1348\")).parents('.cell').data().cell;\n      cell.output_area.append_execute_result(NB_LOAD_WARNING)\n    }\n  }\n\n  if (root._bokeh_is_loading === 0) {\n    console.debug(\"Bokeh: BokehJS loaded, going straight to plotting\");\n    run_inline_js();\n  } else {\n    load_libs(css_urls, js_urls, function() {\n      console.debug(\"Bokeh: BokehJS plotting callback run at\", now());\n      run_inline_js();\n    });\n  }\n}(window));"
     },
     "metadata": {},
     "output_type": "display_data"
    },
    {
     "data": {
      "text/html": [
       "\n",
       "  <div class=\"bk-root\" id=\"dc0fcb40-1810-45f9-b572-3907cc6f205a\" data-root-id=\"1349\"></div>\n"
      ]
     },
     "metadata": {},
     "output_type": "display_data"
    },
    {
     "data": {
      "application/javascript": [
       "(function(root) {\n",
       "  function embed_document(root) {\n",
       "  const docs_json = {\"051e568f-09a1-4683-a7d4-fec078dc5c0e\":{\"defs\":[],\"roots\":{\"references\":[{\"attributes\":{\"above\":[{\"id\":\"1535\"}],\"below\":[{\"id\":\"1358\"}],\"center\":[{\"id\":\"1361\"},{\"id\":\"1365\"}],\"height\":450,\"left\":[{\"id\":\"1362\"}],\"renderers\":[{\"id\":\"1388\"},{\"id\":\"1395\"},{\"id\":\"1402\"},{\"id\":\"1409\"},{\"id\":\"1416\"},{\"id\":\"1423\"},{\"id\":\"1430\"},{\"id\":\"1437\"},{\"id\":\"1444\"},{\"id\":\"1451\"},{\"id\":\"1458\"},{\"id\":\"1465\"},{\"id\":\"1472\"},{\"id\":\"1479\"},{\"id\":\"1500\"},{\"id\":\"1506\"},{\"id\":\"1512\"},{\"id\":\"1519\"},{\"id\":\"1525\"},{\"id\":\"1531\"}],\"right\":[{\"id\":\"1382\"}],\"sizing_mode\":\"scale_width\",\"title\":{\"id\":\"1567\"},\"toolbar\":{\"id\":\"1374\"},\"toolbar_location\":\"above\",\"width\":800,\"x_range\":{\"id\":\"1350\"},\"x_scale\":{\"id\":\"1354\"},\"y_range\":{\"id\":\"1352\"},\"y_scale\":{\"id\":\"1356\"}},\"id\":\"1349\",\"subtype\":\"Figure\",\"type\":\"Plot\"},{\"attributes\":{\"line_alpha\":0.1,\"line_color\":\"#98df8a\",\"line_width\":2,\"x\":{\"field\":\"x\"},\"y\":{\"field\":\"y\"}},\"id\":\"1421\",\"type\":\"Line\"},{\"attributes\":{\"line_alpha\":0.2,\"line_color\":\"#d62728\",\"line_width\":2,\"x\":{\"field\":\"x\"},\"y\":{\"field\":\"y\"}},\"id\":\"1429\",\"type\":\"Line\"},{\"attributes\":{\"data\":{\"precursor_mz\":[null,null,null,null,null,null,null,null,null,null,null,null,null,null,null,null,null,null,null,null,null,null,null,null,null,null,null,null,null,null,null,null,null,null,null,null,null,null,null,null,null,null,null,null,null,null,null,null,null,null,null,null,null,null,null,null,null,null,null],\"product_charge\":[null,null,null,null,null,null,null,null,null,null,null,null,null,null,null,null,null,null,null,null,null,null,null,null,null,null,null,null,null,null,null,null,null,null,null,null,null,null,null,null,null,null,null,null,null,null,null,null,null,null,null,null,null,null,null,null,null,null,null],\"product_mz\":[null,null,null,null,null,null,null,null,null,null,null,null,null,null,null,null,null,null,null,null,null,null,null,null,null,null,null,null,null,null,null,null,null,null,null,null,null,null,null,null,null,null,null,null,null,null,null,null,null,null,null,null,null,null,null,null,null,null,null],\"x\":{\"__ndarray__\":\"o/dT42VHokC50CLbOU6iQNCp8dINVaJA5oLAyuFbokD9W4/CtWKiQNTGSzeJaaJAJzEIrFxwokA9CtejMHeiQBhSuB4FfqJALiuHFtmEokCBlUOLrIuiQJhuEoOAkqJA69jO91OZokABsp3vJ6CiQNgcWmT7pqJA8tJNYtCtokBFPQrXo7SiQFsW2c53u6JAcu+nxkvCokBJWmQ7H8miQF8zMzPzz6JAsp3vp8bWokDJdr6fmt2iQN9PjZdu5KJAuZduEkProkDQcD0KF/KiQOZJDALr+KJA/SLb+b7/okBQjZdukgajQGZmZmZmDaNAudAi2zkUo0CTGARWDhujQKrx0k3iIaNAwcqhRbYoo0AUNV66iS+jQCoOLbJdNqNAAXnpJjE9o0AYUrgeBUSjQGq8dJPYSqNAvSYxCKxRo0CYbhKDgFijQHK28/1UX6NAiI/C9Shmo0CfaJHt/GyjQLVBYOXQc6NACKwcWqR6o0AfhetReIGjQDVeuklMiKNATDeJQSCPo0BiEFg59JWjQHnpJjHInKNAzFPjpZujo0DiLLKdb6qjQLmXbhJDsaNA0HA9Che4o0Aj2/l+6r6jQDm0yHa+xaNAE/yp8ZLMo0Aq1XjpZtOjQA==\",\"dtype\":\"float64\",\"order\":\"little\",\"shape\":[59]},\"y\":{\"__ndarray__\":\"fBXMP0L1GT+YJeU9u8OYO/ZPIj6niOc+9Zk2P/WZNj9gux4/a/zdPtmJHT4hDVI+MtwrPQAAAAAAAAAAAAAAAAAAAAAAAAAAAAAAAAAAAAAAAAAAamv8PyUKu0GatkZCayGgQk423UIHaQhD1WcaQ1yZIUO0Wh5DKQcaQ5NyFkMkVBND6w4LQx7GBEOgRO1CShTKQtlko0KDNHhCzJIyQvwC50H44INBfBUMQYp4jkA3tJpAEBnuP15Pxz/ZZJM/LQT9PonC4j4AAAAAAAAAAAAAAAAAAAAAAAAAAAAAAAAAAAAAAAAAAAAAAAA=\",\"dtype\":\"float32\",\"order\":\"little\",\"shape\":[59]}},\"selected\":{\"id\":\"1582\"},\"selection_policy\":{\"id\":\"1581\"}},\"id\":\"1404\",\"type\":\"ColumnDataSource\"},{\"attributes\":{\"bottom\":{\"field\":\"bottom_int\"},\"fill_color\":{\"value\":\"#1B9E77\"},\"hatch_color\":{\"value\":\"#1B9E77\"},\"line_color\":{\"value\":\"#1B9E77\"},\"top\":{\"field\":\"Intensity\"},\"width\":{\"value\":0.3},\"x\":{\"field\":\"leftWidth\"}},\"id\":\"1497\",\"type\":\"VBar\"},{\"attributes\":{},\"id\":\"1581\",\"type\":\"UnionRenderers\"},{\"attributes\":{\"click_policy\":\"mute\",\"coordinates\":null,\"group\":null,\"items\":[{\"id\":\"1481\"},{\"id\":\"1482\"},{\"id\":\"1483\"},{\"id\":\"1484\"},{\"id\":\"1485\"},{\"id\":\"1486\"},{\"id\":\"1487\"},{\"id\":\"1488\"},{\"id\":\"1489\"},{\"id\":\"1490\"},{\"id\":\"1491\"},{\"id\":\"1492\"},{\"id\":\"1493\"},{\"id\":\"1494\"}],\"label_text_font_size\":\"10pt\",\"location\":\"top_left\",\"title\":\"Transition\"},\"id\":\"1382\",\"type\":\"Legend\"},{\"attributes\":{\"source\":{\"id\":\"1397\"}},\"id\":\"1403\",\"type\":\"CDSView\"},{\"attributes\":{\"line_alpha\":0.2,\"line_color\":\"#c49c94\",\"line_width\":2,\"x\":{\"field\":\"x\"},\"y\":{\"field\":\"y\"}},\"id\":\"1464\",\"type\":\"Line\"},{\"attributes\":{},\"id\":\"1590\",\"type\":\"Selection\"},{\"attributes\":{\"coordinates\":null,\"data_source\":{\"id\":\"1514\"},\"glyph\":{\"id\":\"1516\"},\"group\":null,\"hover_glyph\":null,\"muted_glyph\":{\"id\":\"1518\"},\"nonselection_glyph\":{\"id\":\"1517\"},\"view\":{\"id\":\"1520\"}},\"id\":\"1519\",\"type\":\"GlyphRenderer\"},{\"attributes\":{\"coordinates\":null,\"glyph_width\":1,\"group\":null,\"items\":[{\"id\":\"1536\"},{\"id\":\"1537\"}],\"title\":\"TransitionGroupFeatures\"},\"id\":\"1535\",\"type\":\"Legend\"},{\"attributes\":{\"label\":{\"value\":\"y9^1\"},\"renderers\":[{\"id\":\"1479\"}]},\"id\":\"1494\",\"type\":\"LegendItem\"},{\"attributes\":{\"source\":{\"id\":\"1439\"}},\"id\":\"1445\",\"type\":\"CDSView\"},{\"attributes\":{\"coordinates\":null,\"data_source\":{\"id\":\"1425\"},\"glyph\":{\"id\":\"1427\"},\"group\":null,\"hover_glyph\":null,\"muted_glyph\":{\"id\":\"1429\"},\"nonselection_glyph\":{\"id\":\"1428\"},\"view\":{\"id\":\"1431\"}},\"id\":\"1430\",\"type\":\"GlyphRenderer\"},{\"attributes\":{\"line_alpha\":0.1,\"line_color\":\"#9467bd\",\"line_width\":2,\"x\":{\"field\":\"x\"},\"y\":{\"field\":\"y\"}},\"id\":\"1442\",\"type\":\"Line\"},{\"attributes\":{\"source\":{\"id\":\"1446\"}},\"id\":\"1452\",\"type\":\"CDSView\"},{\"attributes\":{},\"id\":\"1582\",\"type\":\"Selection\"},{\"attributes\":{\"source\":{\"id\":\"1495\"}},\"id\":\"1513\",\"type\":\"CDSView\"},{\"attributes\":{\"data\":{\"precursor_mz\":[null,null,null,null,null,null,null,null,null,null,null,null,null,null,null,null,null,null,null,null,null,null,null,null,null,null,null,null,null,null,null,null,null,null,null,null,null,null,null,null,null,null,null,null,null,null,null,null,null,null,null,null,null,null,null,null,null,null,null],\"product_charge\":[null,null,null,null,null,null,null,null,null,null,null,null,null,null,null,null,null,null,null,null,null,null,null,null,null,null,null,null,null,null,null,null,null,null,null,null,null,null,null,null,null,null,null,null,null,null,null,null,null,null,null,null,null,null,null,null,null,null,null],\"product_mz\":[null,null,null,null,null,null,null,null,null,null,null,null,null,null,null,null,null,null,null,null,null,null,null,null,null,null,null,null,null,null,null,null,null,null,null,null,null,null,null,null,null,null,null,null,null,null,null,null,null,null,null,null,null,null,null,null,null,null,null],\"x\":{\"__ndarray__\":\"o/dT42VHokC50CLbOU6iQNCp8dINVaJA5oLAyuFbokD9W4/CtWKiQNTGSzeJaaJAJzEIrFxwokA9CtejMHeiQBhSuB4FfqJALiuHFtmEokCBlUOLrIuiQJhuEoOAkqJA69jO91OZokABsp3vJ6CiQNgcWmT7pqJA8tJNYtCtokBFPQrXo7SiQFsW2c53u6JAcu+nxkvCokBJWmQ7H8miQF8zMzPzz6JAsp3vp8bWokDJdr6fmt2iQN9PjZdu5KJAuZduEkProkDQcD0KF/KiQOZJDALr+KJA/SLb+b7/okBQjZdukgajQGZmZmZmDaNAudAi2zkUo0CTGARWDhujQKrx0k3iIaNAwcqhRbYoo0AUNV66iS+jQCoOLbJdNqNAAXnpJjE9o0AYUrgeBUSjQGq8dJPYSqNAvSYxCKxRo0CYbhKDgFijQHK28/1UX6NAiI/C9Shmo0CfaJHt/GyjQLVBYOXQc6NACKwcWqR6o0AfhetReIGjQDVeuklMiKNATDeJQSCPo0BiEFg59JWjQHnpJjHInKNAzFPjpZujo0DiLLKdb6qjQLmXbhJDsaNA0HA9Che4o0Aj2/l+6r6jQDm0yHa+xaNAE/yp8ZLMo0Aq1XjpZtOjQA==\",\"dtype\":\"float64\",\"order\":\"little\",\"shape\":[59]},\"y\":{\"__ndarray__\":\"AAAAAAAAAAAAAAAAAAAAAAAAAAAAAAAAAAAAAAAAAAAAAAAAAAAAAAAAAAAAAAAAAAAAAAAAAAAAAAAAAAAAAAAAAAAAAAAAAAAAAAAAAAAAAAAAp4i3QWZJV0NhluZD35c3RMPiekThg5pEGBOvRGaJt0Qq4rNE1eeuRK4MrETQtKhE2O6hRB3rl0RpUIpEtNpxREBkSUQRdB5EayHqQ+Y2nEO3oT1DptLPQhQWT0I0bc1BxgSYQUbykkF9po1B8OZxQZq2RkGWlCNBi1MkQYgMF0HEcxZBqD4TQVpSDkGxOAVBDffqQGZJuUA=\",\"dtype\":\"float32\",\"order\":\"little\",\"shape\":[59]}},\"selected\":{\"id\":\"1602\"},\"selection_policy\":{\"id\":\"1601\"}},\"id\":\"1474\",\"type\":\"ColumnDataSource\"},{\"attributes\":{},\"id\":\"1369\",\"type\":\"SaveTool\"},{\"attributes\":{},\"id\":\"1356\",\"type\":\"LinearScale\"},{\"attributes\":{\"tools\":[{\"id\":\"1366\"},{\"id\":\"1367\"},{\"id\":\"1368\"},{\"id\":\"1369\"},{\"id\":\"1370\"},{\"id\":\"1371\"},{\"id\":\"1373\"},{\"id\":\"1533\"}]},\"id\":\"1374\",\"type\":\"Toolbar\"},{\"attributes\":{\"axis\":{\"id\":\"1362\"},\"coordinates\":null,\"dimension\":1,\"group\":null,\"ticker\":null},\"id\":\"1365\",\"type\":\"Grid\"},{\"attributes\":{\"label\":{\"value\":\"y6^1\"},\"renderers\":[{\"id\":\"1458\"}]},\"id\":\"1491\",\"type\":\"LegendItem\"},{\"attributes\":{\"source\":{\"id\":\"1425\"}},\"id\":\"1431\",\"type\":\"CDSView\"},{\"attributes\":{\"coordinates\":null,\"data_source\":{\"id\":\"1397\"},\"glyph\":{\"id\":\"1399\"},\"group\":null,\"hover_glyph\":null,\"muted_glyph\":{\"id\":\"1401\"},\"nonselection_glyph\":{\"id\":\"1400\"},\"view\":{\"id\":\"1403\"}},\"id\":\"1402\",\"type\":\"GlyphRenderer\"},{\"attributes\":{},\"id\":\"1605\",\"type\":\"UnionRenderers\"},{\"attributes\":{\"coordinates\":null,\"data_source\":{\"id\":\"1460\"},\"glyph\":{\"id\":\"1462\"},\"group\":null,\"hover_glyph\":null,\"muted_glyph\":{\"id\":\"1464\"},\"nonselection_glyph\":{\"id\":\"1463\"},\"view\":{\"id\":\"1466\"}},\"id\":\"1465\",\"type\":\"GlyphRenderer\"},{\"attributes\":{\"data\":{\"precursor_mz\":[null,null,null,null,null,null,null,null,null,null,null,null,null,null,null,null,null,null,null,null,null,null,null,null,null,null,null,null,null,null,null,null,null,null,null,null,null,null,null,null,null,null,null,null,null,null,null,null,null,null,null,null,null,null,null,null,null,null,null],\"product_charge\":[null,null,null,null,null,null,null,null,null,null,null,null,null,null,null,null,null,null,null,null,null,null,null,null,null,null,null,null,null,null,null,null,null,null,null,null,null,null,null,null,null,null,null,null,null,null,null,null,null,null,null,null,null,null,null,null,null,null,null],\"product_mz\":[null,null,null,null,null,null,null,null,null,null,null,null,null,null,null,null,null,null,null,null,null,null,null,null,null,null,null,null,null,null,null,null,null,null,null,null,null,null,null,null,null,null,null,null,null,null,null,null,null,null,null,null,null,null,null,null,null,null,null],\"x\":{\"__ndarray__\":\"o/dT42VHokC50CLbOU6iQNCp8dINVaJA5oLAyuFbokD9W4/CtWKiQNTGSzeJaaJAJzEIrFxwokA9CtejMHeiQBhSuB4FfqJALiuHFtmEokCBlUOLrIuiQJhuEoOAkqJA69jO91OZokABsp3vJ6CiQNgcWmT7pqJA8tJNYtCtokBFPQrXo7SiQFsW2c53u6JAcu+nxkvCokBJWmQ7H8miQF8zMzPzz6JAsp3vp8bWokDJdr6fmt2iQN9PjZdu5KJAuZduEkProkDQcD0KF/KiQOZJDALr+KJA/SLb+b7/okBQjZdukgajQGZmZmZmDaNAudAi2zkUo0CTGARWDhujQKrx0k3iIaNAwcqhRbYoo0AUNV66iS+jQCoOLbJdNqNAAXnpJjE9o0AYUrgeBUSjQGq8dJPYSqNAvSYxCKxRo0CYbhKDgFijQHK28/1UX6NAiI/C9Shmo0CfaJHt/GyjQLVBYOXQc6NACKwcWqR6o0AfhetReIGjQDVeuklMiKNATDeJQSCPo0BiEFg59JWjQHnpJjHInKNAzFPjpZujo0DiLLKdb6qjQLmXbhJDsaNA0HA9Che4o0Aj2/l+6r6jQDm0yHa+xaNAE/yp8ZLMo0Aq1XjpZtOjQA==\",\"dtype\":\"float64\",\"order\":\"little\",\"shape\":[59]},\"y\":{\"__ndarray__\":\"AAAAAAAAAAAAAAAAAAAAAAAAAAAAAAAAAAAAAAAAAAAAAAAAAAAAAAAAAAAAAAAAAAAAAAAAAAAAAAAAAAAAADLcqzwhDdI9AAAAAAAAAAAAAAAAnCIeP22yiUAB2xVBB2lwQWjaokFXC8lBE2DjQclL7UHqWOdBH3zoQa0W4kHaP9lBNv7OQZUDwkHCB69BThGXQWsheEEkVD9BZyQPQVTE00BYnGJAdPbPP5tsMj9qRvI+4xTxPuMU8T5iTAA/MSbAPo6akT72TyI9AAAAAAAAAAAy3Ks8MtyrPdmJHT6YJWU+FcySPjLcqz4=\",\"dtype\":\"float32\",\"order\":\"little\",\"shape\":[59]}},\"selected\":{\"id\":\"1588\"},\"selection_policy\":{\"id\":\"1587\"}},\"id\":\"1425\",\"type\":\"ColumnDataSource\"},{\"attributes\":{\"source\":{\"id\":\"1495\"}},\"id\":\"1507\",\"type\":\"CDSView\"},{\"attributes\":{},\"id\":\"1599\",\"type\":\"UnionRenderers\"},{\"attributes\":{\"coordinates\":null,\"data_source\":{\"id\":\"1383\"},\"glyph\":{\"id\":\"1385\"},\"group\":null,\"hover_glyph\":null,\"muted_glyph\":{\"id\":\"1387\"},\"nonselection_glyph\":{\"id\":\"1386\"},\"view\":{\"id\":\"1389\"}},\"id\":\"1388\",\"type\":\"GlyphRenderer\"},{\"attributes\":{\"data\":{\"precursor_mz\":[null,null,null,null,null,null,null,null,null,null,null,null,null,null,null,null,null,null,null,null,null,null,null,null,null,null,null,null,null,null,null,null,null,null,null,null,null,null,null,null,null,null,null,null,null,null,null,null,null,null,null,null,null,null,null,null,null,null,null],\"product_charge\":[null,null,null,null,null,null,null,null,null,null,null,null,null,null,null,null,null,null,null,null,null,null,null,null,null,null,null,null,null,null,null,null,null,null,null,null,null,null,null,null,null,null,null,null,null,null,null,null,null,null,null,null,null,null,null,null,null,null,null],\"product_mz\":[null,null,null,null,null,null,null,null,null,null,null,null,null,null,null,null,null,null,null,null,null,null,null,null,null,null,null,null,null,null,null,null,null,null,null,null,null,null,null,null,null,null,null,null,null,null,null,null,null,null,null,null,null,null,null,null,null,null,null],\"x\":{\"__ndarray__\":\"o/dT42VHokC50CLbOU6iQNCp8dINVaJA5oLAyuFbokD9W4/CtWKiQNTGSzeJaaJAJzEIrFxwokA9CtejMHeiQBhSuB4FfqJALiuHFtmEokCBlUOLrIuiQJhuEoOAkqJA69jO91OZokABsp3vJ6CiQNgcWmT7pqJA8tJNYtCtokBFPQrXo7SiQFsW2c53u6JAcu+nxkvCokBJWmQ7H8miQF8zMzPzz6JAsp3vp8bWokDJdr6fmt2iQN9PjZdu5KJAuZduEkProkDQcD0KF/KiQOZJDALr+KJA/SLb+b7/okBQjZdukgajQGZmZmZmDaNAudAi2zkUo0CTGARWDhujQKrx0k3iIaNAwcqhRbYoo0AUNV66iS+jQCoOLbJdNqNAAXnpJjE9o0AYUrgeBUSjQGq8dJPYSqNAvSYxCKxRo0CYbhKDgFijQHK28/1UX6NAiI/C9Shmo0CfaJHt/GyjQLVBYOXQc6NACKwcWqR6o0AfhetReIGjQDVeuklMiKNATDeJQSCPo0BiEFg59JWjQHnpJjHInKNAzFPjpZujo0DiLLKdb6qjQLmXbhJDsaNA0HA9Che4o0Aj2/l+6r6jQDm0yHa+xaNAE/yp8ZLMo0Aq1XjpZtOjQA==\",\"dtype\":\"float64\",\"order\":\"little\",\"shape\":[59]},\"y\":{\"__ndarray__\":\"AAAAAAAAAAAAAAAAAAAAAAAAAAAAAAAAAAAAAAAAAAAAAAAAAAAAAAAAAAAAAAAAAAAAAAAAAAAm5YA92YmdPogM9z6sYBY/AAAAAAAAAAAAAAAAAAAAACLDTUGmrdlB3Ks0QsO9gkJhlqJClQO6QqatvULKAb1CamuwQtyrqkL5u6VCQGScQhddlkIEIo9C3jx6Qp9pU0JSDiBCDoj8QYHIoEHT1jhB1/ibQFF9JkCIDPc/c0DkP5NywD8J1ec/5xGqPwKRYT+e2Ak/IsO9PgAAAAAAAAAAAAAAAAAAAAACkeE+rGCWP8CbB0A=\",\"dtype\":\"float32\",\"order\":\"little\",\"shape\":[59]}},\"selected\":{\"id\":\"1590\"},\"selection_policy\":{\"id\":\"1589\"}},\"id\":\"1432\",\"type\":\"ColumnDataSource\"},{\"attributes\":{\"data\":{\"precursor_mz\":[null,null,null,null,null,null,null,null,null,null,null,null,null,null,null,null,null,null,null,null,null,null,null,null,null,null,null,null,null,null,null,null,null,null,null,null,null,null,null,null,null,null,null,null,null,null,null,null,null,null,null,null,null,null,null,null,null,null,null],\"product_charge\":[null,null,null,null,null,null,null,null,null,null,null,null,null,null,null,null,null,null,null,null,null,null,null,null,null,null,null,null,null,null,null,null,null,null,null,null,null,null,null,null,null,null,null,null,null,null,null,null,null,null,null,null,null,null,null,null,null,null,null],\"product_mz\":[null,null,null,null,null,null,null,null,null,null,null,null,null,null,null,null,null,null,null,null,null,null,null,null,null,null,null,null,null,null,null,null,null,null,null,null,null,null,null,null,null,null,null,null,null,null,null,null,null,null,null,null,null,null,null,null,null,null,null],\"x\":{\"__ndarray__\":\"o/dT42VHokC50CLbOU6iQNCp8dINVaJA5oLAyuFbokD9W4/CtWKiQNTGSzeJaaJAJzEIrFxwokA9CtejMHeiQBhSuB4FfqJALiuHFtmEokCBlUOLrIuiQJhuEoOAkqJA69jO91OZokABsp3vJ6CiQNgcWmT7pqJA8tJNYtCtokBFPQrXo7SiQFsW2c53u6JAcu+nxkvCokBJWmQ7H8miQF8zMzPzz6JAsp3vp8bWokDJdr6fmt2iQN9PjZdu5KJAuZduEkProkDQcD0KF/KiQOZJDALr+KJA/SLb+b7/okBQjZdukgajQGZmZmZmDaNAudAi2zkUo0CTGARWDhujQKrx0k3iIaNAwcqhRbYoo0AUNV66iS+jQCoOLbJdNqNAAXnpJjE9o0AYUrgeBUSjQGq8dJPYSqNAvSYxCKxRo0CYbhKDgFijQHK28/1UX6NAiI/C9Shmo0CfaJHt/GyjQLVBYOXQc6NACKwcWqR6o0AfhetReIGjQDVeuklMiKNATDeJQSCPo0BiEFg59JWjQHnpJjHInKNAzFPjpZujo0DiLLKdb6qjQLmXbhJDsaNA0HA9Che4o0Aj2/l+6r6jQDm0yHa+xaNAE/yp8ZLMo0Aq1XjpZtOjQA==\",\"dtype\":\"float64\",\"order\":\"little\",\"shape\":[59]},\"y\":{\"__ndarray__\":\"AAAAAAAAAAAAAAAAAAAAAAAAAAAAAAAAAAAAADLcKz0hDVI+BbOkPuWAyD4wcNQ+5YDIPgWzpD4hDVI+MtwrPQAAAAAAAAAAAAAAAAAAAAAAAAAAN48wQcySjkIRzxNDcNRmQ0ylm0MmwL1D3WHUQ+8L3EMtKdZDKSzQQx0QzUMFs8lDZLjCQ539t0ODWalDAmyWQ7rofkNAiU5DwgcdQzLc20L/SYxC4jkjQoTqo0EhDRJBLHObQNyrYEDcq2BAN7RaQBXMEkB1rDtAFBYnQOzETkDIlTlABCJDQDePUEA++GBA8ndzQJaUg0A=\",\"dtype\":\"float32\",\"order\":\"little\",\"shape\":[59]}},\"selected\":{\"id\":\"1580\"},\"selection_policy\":{\"id\":\"1579\"}},\"id\":\"1397\",\"type\":\"ColumnDataSource\"},{\"attributes\":{},\"id\":\"1606\",\"type\":\"Selection\"},{\"attributes\":{\"coordinates\":null,\"data_source\":{\"id\":\"1495\"},\"glyph\":{\"id\":\"1509\"},\"group\":null,\"hover_glyph\":null,\"muted_glyph\":{\"id\":\"1511\"},\"name\":\"leftWidth_apex_point\",\"nonselection_glyph\":{\"id\":\"1510\"},\"view\":{\"id\":\"1513\"}},\"id\":\"1512\",\"type\":\"GlyphRenderer\"},{\"attributes\":{\"line_alpha\":0.1,\"line_color\":\"#ff7f0e\",\"line_width\":2,\"x\":{\"field\":\"x\"},\"y\":{\"field\":\"y\"}},\"id\":\"1400\",\"type\":\"Line\"},{\"attributes\":{},\"id\":\"1600\",\"type\":\"Selection\"},{\"attributes\":{\"line_alpha\":0.5,\"line_color\":\"#2ca02c\",\"line_width\":2,\"x\":{\"field\":\"x\"},\"y\":{\"field\":\"y\"}},\"id\":\"1413\",\"type\":\"Line\"},{\"attributes\":{\"coordinates\":null,\"data_source\":{\"id\":\"1495\"},\"glyph\":{\"id\":\"1503\"},\"group\":null,\"hover_glyph\":null,\"muted_glyph\":{\"id\":\"1505\"},\"nonselection_glyph\":{\"id\":\"1504\"},\"view\":{\"id\":\"1507\"}},\"id\":\"1506\",\"type\":\"GlyphRenderer\"},{\"attributes\":{\"line_alpha\":0.5,\"line_color\":\"#aec7e8\",\"line_width\":2,\"x\":{\"field\":\"x\"},\"y\":{\"field\":\"y\"}},\"id\":\"1392\",\"type\":\"Line\"},{\"attributes\":{},\"id\":\"1591\",\"type\":\"UnionRenderers\"},{\"attributes\":{\"line_alpha\":0.2,\"line_color\":\"#c5b0d5\",\"line_width\":2,\"x\":{\"field\":\"x\"},\"y\":{\"field\":\"y\"}},\"id\":\"1450\",\"type\":\"Line\"},{\"attributes\":{},\"id\":\"1367\",\"type\":\"WheelZoomTool\"},{\"attributes\":{\"data\":{\"precursor_mz\":[null,null,null,null,null,null,null,null,null,null,null,null,null,null,null,null,null,null,null,null,null,null,null,null,null,null,null,null,null,null,null,null,null,null,null,null,null,null,null,null,null,null,null,null,null,null,null,null,null,null,null,null,null,null,null,null,null,null,null],\"product_charge\":[null,null,null,null,null,null,null,null,null,null,null,null,null,null,null,null,null,null,null,null,null,null,null,null,null,null,null,null,null,null,null,null,null,null,null,null,null,null,null,null,null,null,null,null,null,null,null,null,null,null,null,null,null,null,null,null,null,null,null],\"product_mz\":[null,null,null,null,null,null,null,null,null,null,null,null,null,null,null,null,null,null,null,null,null,null,null,null,null,null,null,null,null,null,null,null,null,null,null,null,null,null,null,null,null,null,null,null,null,null,null,null,null,null,null,null,null,null,null,null,null,null,null],\"x\":{\"__ndarray__\":\"o/dT42VHokC50CLbOU6iQNCp8dINVaJA5oLAyuFbokD9W4/CtWKiQNTGSzeJaaJAJzEIrFxwokA9CtejMHeiQBhSuB4FfqJALiuHFtmEokCBlUOLrIuiQJhuEoOAkqJA69jO91OZokABsp3vJ6CiQNgcWmT7pqJA8tJNYtCtokBFPQrXo7SiQFsW2c53u6JAcu+nxkvCokBJWmQ7H8miQF8zMzPzz6JAsp3vp8bWokDJdr6fmt2iQN9PjZdu5KJAuZduEkProkDQcD0KF/KiQOZJDALr+KJA/SLb+b7/okBQjZdukgajQGZmZmZmDaNAudAi2zkUo0CTGARWDhujQKrx0k3iIaNAwcqhRbYoo0AUNV66iS+jQCoOLbJdNqNAAXnpJjE9o0AYUrgeBUSjQGq8dJPYSqNAvSYxCKxRo0CYbhKDgFijQHK28/1UX6NAiI/C9Shmo0CfaJHt/GyjQLVBYOXQc6NACKwcWqR6o0AfhetReIGjQDVeuklMiKNATDeJQSCPo0BiEFg59JWjQHnpJjHInKNAzFPjpZujo0DiLLKdb6qjQLmXbhJDsaNA0HA9Che4o0Aj2/l+6r6jQDm0yHa+xaNAE/yp8ZLMo0Aq1XjpZtOjQA==\",\"dtype\":\"float64\",\"order\":\"little\",\"shape\":[59]},\"y\":{\"__ndarray__\":\"AAAAAAAAAAAAAAAAAAAAAAAAAAAAAAAAAAAAAAAAAAAAAAAAAAAAAAAAAAAAAAAAAAAAAAAAAAAAAAAAAAAAAAAAAAAAAAAAAAAAAAAAAAAAAAAAzJIyQFcLgUFLygFCbx5JQuI5h0JRfaRCptK3Qqn0vEIwS7hCrDu0QpNNskJgu7BCuTKrQkSGo0JSDphCB2mIQjRtaULSID1CTjYRQrehzUGGoIdBC0EfQWf/pEDFTixA+yfRPwXYrj/3Kpg/ec5+P4wJMD8y3Cs/TVtjPwWzJD8V8Rw/fPBBP/snUT8jnjM/BbOkPgAAAAA=\",\"dtype\":\"float32\",\"order\":\"little\",\"shape\":[59]}},\"selected\":{\"id\":\"1586\"},\"selection_policy\":{\"id\":\"1585\"}},\"id\":\"1418\",\"type\":\"ColumnDataSource\"},{\"attributes\":{\"source\":{\"id\":\"1514\"}},\"id\":\"1526\",\"type\":\"CDSView\"},{\"attributes\":{},\"id\":\"1583\",\"type\":\"UnionRenderers\"},{\"attributes\":{\"source\":{\"id\":\"1453\"}},\"id\":\"1459\",\"type\":\"CDSView\"},{\"attributes\":{\"label\":{\"value\":\"y7^1\"},\"renderers\":[{\"id\":\"1465\"}]},\"id\":\"1492\",\"type\":\"LegendItem\"},{\"attributes\":{},\"id\":\"1579\",\"type\":\"UnionRenderers\"},{\"attributes\":{},\"id\":\"1592\",\"type\":\"Selection\"},{\"attributes\":{\"coordinates\":null,\"data_source\":{\"id\":\"1514\"},\"glyph\":{\"id\":\"1528\"},\"group\":null,\"hover_glyph\":null,\"muted_glyph\":{\"id\":\"1530\"},\"name\":\"leftWidth_apex_point\",\"nonselection_glyph\":{\"id\":\"1529\"},\"view\":{\"id\":\"1532\"}},\"id\":\"1531\",\"type\":\"GlyphRenderer\"},{\"attributes\":{\"data\":{\"precursor_mz\":[null,null,null,null,null,null,null,null,null,null,null,null,null,null,null,null,null,null,null,null,null,null,null,null,null,null,null,null,null,null,null,null,null,null,null,null,null,null,null,null,null,null,null,null,null,null,null,null,null,null,null,null,null,null,null,null,null,null,null],\"product_charge\":[null,null,null,null,null,null,null,null,null,null,null,null,null,null,null,null,null,null,null,null,null,null,null,null,null,null,null,null,null,null,null,null,null,null,null,null,null,null,null,null,null,null,null,null,null,null,null,null,null,null,null,null,null,null,null,null,null,null,null],\"product_mz\":[null,null,null,null,null,null,null,null,null,null,null,null,null,null,null,null,null,null,null,null,null,null,null,null,null,null,null,null,null,null,null,null,null,null,null,null,null,null,null,null,null,null,null,null,null,null,null,null,null,null,null,null,null,null,null,null,null,null,null],\"x\":{\"__ndarray__\":\"o/dT42VHokC50CLbOU6iQNCp8dINVaJA5oLAyuFbokD9W4/CtWKiQNTGSzeJaaJAJzEIrFxwokA9CtejMHeiQBhSuB4FfqJALiuHFtmEokCBlUOLrIuiQJhuEoOAkqJA69jO91OZokABsp3vJ6CiQNgcWmT7pqJA8tJNYtCtokBFPQrXo7SiQFsW2c53u6JAcu+nxkvCokBJWmQ7H8miQF8zMzPzz6JAsp3vp8bWokDJdr6fmt2iQN9PjZdu5KJAuZduEkProkDQcD0KF/KiQOZJDALr+KJA/SLb+b7/okBQjZdukgajQGZmZmZmDaNAudAi2zkUo0CTGARWDhujQKrx0k3iIaNAwcqhRbYoo0AUNV66iS+jQCoOLbJdNqNAAXnpJjE9o0AYUrgeBUSjQGq8dJPYSqNAvSYxCKxRo0CYbhKDgFijQHK28/1UX6NAiI/C9Shmo0CfaJHt/GyjQLVBYOXQc6NACKwcWqR6o0AfhetReIGjQDVeuklMiKNATDeJQSCPo0BiEFg59JWjQHnpJjHInKNAzFPjpZujo0DiLLKdb6qjQLmXbhJDsaNA0HA9Che4o0Aj2/l+6r6jQDm0yHa+xaNAE/yp8ZLMo0Aq1XjpZtOjQA==\",\"dtype\":\"float64\",\"order\":\"little\",\"shape\":[59]},\"y\":{\"__ndarray__\":\"AAAAAAAAAAC7wxg7ED54PUOrBT7lgEg+MHBUPuWASD4FsyQ+IQ3SPTLcqzwAAAAAAAAAAAAAAAAAAAAAAAAAAAAAAAAAAAAAAAAAAAAAAAAAAAAApRywQLETh0JotRVDI55tQxS7o0OKHcpDfzfnQw4I80NTae9D2QnpQ0E/5UO0/99DQ9DVQzKBxEO8ebBDptKWQwQid0OSvDxDxJgJQ9o/t0JfBV9CKFH4QRA+gEH9uPJA8OaxQDrWnUAFs4RA2K5nQGv8XUAayUtAzv5JQMRzNkBk3SFAsF0PQKBEAUAu3/I/8nfzPykHBEA=\",\"dtype\":\"float32\",\"order\":\"little\",\"shape\":[59]}},\"selected\":{\"id\":\"1600\"},\"selection_policy\":{\"id\":\"1599\"}},\"id\":\"1467\",\"type\":\"ColumnDataSource\"},{\"attributes\":{\"label\":{\"value\":\"DIA-NN\"},\"renderers\":[{\"id\":\"1500\"}]},\"id\":\"1536\",\"type\":\"LegendItem\"},{\"attributes\":{\"line_alpha\":0.1,\"line_color\":\"#1f77b4\",\"line_width\":2,\"x\":{\"field\":\"x\"},\"y\":{\"field\":\"y\"}},\"id\":\"1386\",\"type\":\"Line\"},{\"attributes\":{\"data\":{\"precursor_mz\":[null,null,null,null,null,null,null,null,null,null,null,null,null,null,null,null,null,null,null,null,null,null,null,null,null,null,null,null,null,null,null,null,null,null,null,null,null,null,null,null,null,null,null,null,null,null,null,null,null,null,null,null,null,null,null,null,null,null,null],\"product_charge\":[null,null,null,null,null,null,null,null,null,null,null,null,null,null,null,null,null,null,null,null,null,null,null,null,null,null,null,null,null,null,null,null,null,null,null,null,null,null,null,null,null,null,null,null,null,null,null,null,null,null,null,null,null,null,null,null,null,null,null],\"product_mz\":[null,null,null,null,null,null,null,null,null,null,null,null,null,null,null,null,null,null,null,null,null,null,null,null,null,null,null,null,null,null,null,null,null,null,null,null,null,null,null,null,null,null,null,null,null,null,null,null,null,null,null,null,null,null,null,null,null,null,null],\"x\":{\"__ndarray__\":\"o/dT42VHokC50CLbOU6iQNCp8dINVaJA5oLAyuFbokD9W4/CtWKiQNTGSzeJaaJAJzEIrFxwokA9CtejMHeiQBhSuB4FfqJALiuHFtmEokCBlUOLrIuiQJhuEoOAkqJA69jO91OZokABsp3vJ6CiQNgcWmT7pqJA8tJNYtCtokBFPQrXo7SiQFsW2c53u6JAcu+nxkvCokBJWmQ7H8miQF8zMzPzz6JAsp3vp8bWokDJdr6fmt2iQN9PjZdu5KJAuZduEkProkDQcD0KF/KiQOZJDALr+KJA/SLb+b7/okBQjZdukgajQGZmZmZmDaNAudAi2zkUo0CTGARWDhujQKrx0k3iIaNAwcqhRbYoo0AUNV66iS+jQCoOLbJdNqNAAXnpJjE9o0AYUrgeBUSjQGq8dJPYSqNAvSYxCKxRo0CYbhKDgFijQHK28/1UX6NAiI/C9Shmo0CfaJHt/GyjQLVBYOXQc6NACKwcWqR6o0AfhetReIGjQDVeuklMiKNATDeJQSCPo0BiEFg59JWjQHnpJjHInKNAzFPjpZujo0DiLLKdb6qjQLmXbhJDsaNA0HA9Che4o0Aj2/l+6r6jQDm0yHa+xaNAE/yp8ZLMo0Aq1XjpZtOjQA==\",\"dtype\":\"float64\",\"order\":\"little\",\"shape\":[59]},\"y\":{\"__ndarray__\":\"AAAAAAAAAAAAAAAAAAAAAAAAAAAAAAAAAAAAAAAAAAAAAAAAAAAAAAAAAAAAAAAAAAAAAAAAAAAAAAAA9k+iPY6aET89HWs/AAAAAAAAAAAAAAAAD2OCQBQ7IUJNW69CoR8NQxtaQUNHzW5DRheHQ9SMjUMpB4tDcYqHQ/MIhUP2dIJDDfd6QzePakNn/1JDuFc3Q/24FkMpB+xCCdWvQixOcUIvuhBCC0GfQSbAFkHmWz5AqfQ+PZgl5T41SIM+XJlbP9fTsT/pfYE/+AWOP46akT9SM5I/yiabP8PilD/FTmw/P9PWPgAAAAA=\",\"dtype\":\"float32\",\"order\":\"little\",\"shape\":[59]}},\"selected\":{\"id\":\"1584\"},\"selection_policy\":{\"id\":\"1583\"}},\"id\":\"1411\",\"type\":\"ColumnDataSource\"},{\"attributes\":{\"data\":{\"precursor_mz\":[null,null,null,null,null,null,null,null,null,null,null,null,null,null,null,null,null,null,null,null,null,null,null,null,null,null,null,null,null,null,null,null,null,null,null,null,null,null,null,null,null,null,null,null,null,null,null,null,null,null,null,null,null,null,null,null,null,null,null],\"product_charge\":[null,null,null,null,null,null,null,null,null,null,null,null,null,null,null,null,null,null,null,null,null,null,null,null,null,null,null,null,null,null,null,null,null,null,null,null,null,null,null,null,null,null,null,null,null,null,null,null,null,null,null,null,null,null,null,null,null,null,null],\"product_mz\":[null,null,null,null,null,null,null,null,null,null,null,null,null,null,null,null,null,null,null,null,null,null,null,null,null,null,null,null,null,null,null,null,null,null,null,null,null,null,null,null,null,null,null,null,null,null,null,null,null,null,null,null,null,null,null,null,null,null,null],\"x\":{\"__ndarray__\":\"o/dT42VHokC50CLbOU6iQNCp8dINVaJA5oLAyuFbokD9W4/CtWKiQNTGSzeJaaJAJzEIrFxwokA9CtejMHeiQBhSuB4FfqJALiuHFtmEokCBlUOLrIuiQJhuEoOAkqJA69jO91OZokABsp3vJ6CiQNgcWmT7pqJA8tJNYtCtokBFPQrXo7SiQFsW2c53u6JAcu+nxkvCokBJWmQ7H8miQF8zMzPzz6JAsp3vp8bWokDJdr6fmt2iQN9PjZdu5KJAuZduEkProkDQcD0KF/KiQOZJDALr+KJA/SLb+b7/okBQjZdukgajQGZmZmZmDaNAudAi2zkUo0CTGARWDhujQKrx0k3iIaNAwcqhRbYoo0AUNV66iS+jQCoOLbJdNqNAAXnpJjE9o0AYUrgeBUSjQGq8dJPYSqNAvSYxCKxRo0CYbhKDgFijQHK28/1UX6NAiI/C9Shmo0CfaJHt/GyjQLVBYOXQc6NACKwcWqR6o0AfhetReIGjQDVeuklMiKNATDeJQSCPo0BiEFg59JWjQHnpJjHInKNAzFPjpZujo0DiLLKdb6qjQLmXbhJDsaNA0HA9Che4o0Aj2/l+6r6jQDm0yHa+xaNAE/yp8ZLMo0Aq1XjpZtOjQA==\",\"dtype\":\"float64\",\"order\":\"little\",\"shape\":[59]},\"y\":{\"__ndarray__\":\"AAAAADLcKz4DR80+LQT9PgHb9T7lgMg+BbOkPiENUj4y3Cs9AAAAAAAAAAAAAAAALQR9Pn3Ltz64V0E/6X2BPwdpkD9P7EQ/AAAAAAAAAAAAAAAAHqG6QGv8A0N2YpRDa/zyQ2shKERL71BElhRtRJAGekSV3nREOlZtRHwVZ0T7zGBE3FBVRPtMRUTwwS9E0LQVRMu38EMzt7hDGe6DQxt/L0OoPtNCIDJsQkfN+EGcIn5B+AUuQezpGEHzCBVBPR0LQYnCAkEYOOpANv7uQBta7UADR81AptK7QL/AsUA5ILJAAADAQP5u3kA=\",\"dtype\":\"float32\",\"order\":\"little\",\"shape\":[59]}},\"selected\":{\"id\":\"1594\"},\"selection_policy\":{\"id\":\"1593\"}},\"id\":\"1446\",\"type\":\"ColumnDataSource\"},{\"attributes\":{\"line_alpha\":0.2,\"line_color\":\"#8c564b\",\"line_width\":2,\"x\":{\"field\":\"x\"},\"y\":{\"field\":\"y\"}},\"id\":\"1457\",\"type\":\"Line\"},{\"attributes\":{\"data\":{\"precursor_mz\":[null,null,null,null,null,null,null,null,null,null,null,null,null,null,null,null,null,null,null,null,null,null,null,null,null,null,null,null,null,null,null,null,null,null,null,null,null,null,null,null,null,null,null,null,null,null,null,null,null,null,null,null,null,null,null,null,null,null,null],\"product_charge\":[null,null,null,null,null,null,null,null,null,null,null,null,null,null,null,null,null,null,null,null,null,null,null,null,null,null,null,null,null,null,null,null,null,null,null,null,null,null,null,null,null,null,null,null,null,null,null,null,null,null,null,null,null,null,null,null,null,null,null],\"product_mz\":[null,null,null,null,null,null,null,null,null,null,null,null,null,null,null,null,null,null,null,null,null,null,null,null,null,null,null,null,null,null,null,null,null,null,null,null,null,null,null,null,null,null,null,null,null,null,null,null,null,null,null,null,null,null,null,null,null,null,null],\"x\":{\"__ndarray__\":\"o/dT42VHokC50CLbOU6iQNCp8dINVaJA5oLAyuFbokD9W4/CtWKiQNTGSzeJaaJAJzEIrFxwokA9CtejMHeiQBhSuB4FfqJALiuHFtmEokCBlUOLrIuiQJhuEoOAkqJA69jO91OZokABsp3vJ6CiQNgcWmT7pqJA8tJNYtCtokBFPQrXo7SiQFsW2c53u6JAcu+nxkvCokBJWmQ7H8miQF8zMzPzz6JAsp3vp8bWokDJdr6fmt2iQN9PjZdu5KJAuZduEkProkDQcD0KF/KiQOZJDALr+KJA/SLb+b7/okBQjZdukgajQGZmZmZmDaNAudAi2zkUo0CTGARWDhujQKrx0k3iIaNAwcqhRbYoo0AUNV66iS+jQCoOLbJdNqNAAXnpJjE9o0AYUrgeBUSjQGq8dJPYSqNAvSYxCKxRo0CYbhKDgFijQHK28/1UX6NAiI/C9Shmo0CfaJHt/GyjQLVBYOXQc6NACKwcWqR6o0AfhetReIGjQDVeuklMiKNATDeJQSCPo0BiEFg59JWjQHnpJjHInKNAzFPjpZujo0DiLLKdb6qjQLmXbhJDsaNA0HA9Che4o0Aj2/l+6r6jQDm0yHa+xaNAE/yp8ZLMo0Aq1XjpZtOjQA==\",\"dtype\":\"float64\",\"order\":\"little\",\"shape\":[59]},\"y\":{\"__ndarray__\":\"AAAAAAAAAAAAAAAAAAAAAAAAAAAAAAAAAAAAAAAAAAAAAAAAAAAAAAAAAAAAAAAAAAAAAAAAAAAy3Cs9IQ1SPgWzpD4AAAAAAAAAAAAAAAAAAAAAsRNjQjhqo0O66CdESbmEROMvuEQJ1eNEcQoBRYANB0VqxgNFBm4BRbeh/kRtjfZEljnrRNf43ETYbsxEFx21RFXVmETzLXREpq01ROI5/0OoPqRD+0w5Qzr7x0LmNkxC3NAKQnaHCUJZd/hBOGrWQfpxtUHIlZlBKFGIQdzQakFzG1pB7lVQQcffTUFotVBBP9NWQbU1XkE=\",\"dtype\":\"float32\",\"order\":\"little\",\"shape\":[59]}},\"selected\":{\"id\":\"1598\"},\"selection_policy\":{\"id\":\"1597\"}},\"id\":\"1460\",\"type\":\"ColumnDataSource\"},{\"attributes\":{\"fill_alpha\":{\"value\":0.2},\"fill_color\":{\"value\":\"#1f77b4\"},\"hatch_alpha\":{\"value\":0.2},\"line_alpha\":{\"value\":0.2},\"line_color\":{\"value\":\"#1f77b4\"},\"x\":{\"field\":\"leftWidth\"},\"y\":{\"field\":\"Intensity\"}},\"id\":\"1530\",\"type\":\"Circle\"},{\"attributes\":{\"label\":{\"value\":\"b5^1\"},\"renderers\":[{\"id\":\"1402\"}]},\"id\":\"1483\",\"type\":\"LegendItem\"},{\"attributes\":{},\"id\":\"1578\",\"type\":\"Selection\"},{\"attributes\":{},\"id\":\"1352\",\"type\":\"DataRange1d\"},{\"attributes\":{},\"id\":\"1584\",\"type\":\"Selection\"},{\"attributes\":{\"coordinates\":null,\"data_source\":{\"id\":\"1404\"},\"glyph\":{\"id\":\"1406\"},\"group\":null,\"hover_glyph\":null,\"muted_glyph\":{\"id\":\"1408\"},\"nonselection_glyph\":{\"id\":\"1407\"},\"view\":{\"id\":\"1410\"}},\"id\":\"1409\",\"type\":\"GlyphRenderer\"},{\"attributes\":{\"bottom\":{\"field\":\"bottom_int\"},\"fill_color\":{\"value\":\"#1B9E77\"},\"hatch_color\":{\"value\":\"#1B9E77\"},\"line_color\":{\"value\":\"#1B9E77\"},\"top\":{\"field\":\"Intensity\"},\"width\":{\"value\":0.3},\"x\":{\"field\":\"rightWidth\"}},\"id\":\"1503\",\"type\":\"VBar\"},{\"attributes\":{\"coordinates\":null,\"data_source\":{\"id\":\"1418\"},\"glyph\":{\"id\":\"1420\"},\"group\":null,\"hover_glyph\":null,\"muted_glyph\":{\"id\":\"1422\"},\"nonselection_glyph\":{\"id\":\"1421\"},\"view\":{\"id\":\"1424\"}},\"id\":\"1423\",\"type\":\"GlyphRenderer\"},{\"attributes\":{\"coordinates\":null,\"data_source\":{\"id\":\"1474\"},\"glyph\":{\"id\":\"1476\"},\"group\":null,\"hover_glyph\":null,\"muted_glyph\":{\"id\":\"1478\"},\"nonselection_glyph\":{\"id\":\"1477\"},\"view\":{\"id\":\"1480\"}},\"id\":\"1479\",\"type\":\"GlyphRenderer\"},{\"attributes\":{},\"id\":\"1354\",\"type\":\"LinearScale\"},{\"attributes\":{\"axis\":{\"id\":\"1358\"},\"coordinates\":null,\"group\":null,\"ticker\":null},\"id\":\"1361\",\"type\":\"Grid\"},{\"attributes\":{\"data\":{\"Intensity\":[5696.0],\"bottom_int\":[0],\"leftWidth\":[2421.63],\"ms2_mscore\":[3.28317e-05],\"rightWidth\":[2455.77]},\"selected\":{\"id\":\"1604\"},\"selection_policy\":{\"id\":\"1603\"}},\"id\":\"1495\",\"type\":\"ColumnDataSource\"},{\"attributes\":{},\"id\":\"1359\",\"type\":\"BasicTicker\"},{\"attributes\":{\"label\":{\"value\":\"OpenSWATH\"},\"renderers\":[{\"id\":\"1519\"}]},\"id\":\"1537\",\"type\":\"LegendItem\"},{\"attributes\":{\"line_alpha\":0.5,\"line_color\":\"#c49c94\",\"line_width\":2,\"x\":{\"field\":\"x\"},\"y\":{\"field\":\"y\"}},\"id\":\"1462\",\"type\":\"Line\"},{\"attributes\":{\"bottom\":{\"field\":\"bottom_int\"},\"fill_alpha\":{\"value\":0.1},\"fill_color\":{\"value\":\"#D95F02\"},\"hatch_alpha\":{\"value\":0.1},\"hatch_color\":{\"value\":\"#D95F02\"},\"line_alpha\":{\"value\":0.1},\"line_color\":{\"value\":\"#D95F02\"},\"top\":{\"field\":\"Intensity\"},\"width\":{\"value\":0.3},\"x\":{\"field\":\"leftWidth\"}},\"id\":\"1517\",\"type\":\"VBar\"},{\"attributes\":{\"label\":{\"value\":\"b3^1\"},\"renderers\":[{\"id\":\"1388\"}]},\"id\":\"1481\",\"type\":\"LegendItem\"},{\"attributes\":{\"line_alpha\":0.2,\"line_color\":\"#ffbb78\",\"line_width\":2,\"x\":{\"field\":\"x\"},\"y\":{\"field\":\"y\"}},\"id\":\"1408\",\"type\":\"Line\"},{\"attributes\":{\"line_alpha\":0.2,\"line_color\":\"#f7b6d2\",\"line_width\":2,\"x\":{\"field\":\"x\"},\"y\":{\"field\":\"y\"}},\"id\":\"1478\",\"type\":\"Line\"},{\"attributes\":{},\"id\":\"1573\",\"type\":\"BasicTickFormatter\"},{\"attributes\":{\"line_alpha\":0.1,\"line_color\":\"#f7b6d2\",\"line_width\":2,\"x\":{\"field\":\"x\"},\"y\":{\"field\":\"y\"}},\"id\":\"1477\",\"type\":\"Line\"},{\"attributes\":{},\"id\":\"1577\",\"type\":\"UnionRenderers\"},{\"attributes\":{},\"id\":\"1601\",\"type\":\"UnionRenderers\"},{\"attributes\":{\"line_alpha\":0.5,\"line_color\":\"#ff9896\",\"line_width\":2,\"x\":{\"field\":\"x\"},\"y\":{\"field\":\"y\"}},\"id\":\"1434\",\"type\":\"Line\"},{\"attributes\":{\"bottom\":{\"field\":\"bottom_int\"},\"fill_color\":{\"value\":\"#D95F02\"},\"hatch_color\":{\"value\":\"#D95F02\"},\"line_color\":{\"value\":\"#D95F02\"},\"top\":{\"field\":\"Intensity\"},\"width\":{\"value\":0.3},\"x\":{\"field\":\"rightWidth\"}},\"id\":\"1522\",\"type\":\"VBar\"},{\"attributes\":{\"source\":{\"id\":\"1467\"}},\"id\":\"1473\",\"type\":\"CDSView\"},{\"attributes\":{\"bottom\":{\"field\":\"bottom_int\"},\"fill_alpha\":{\"value\":0.1},\"fill_color\":{\"value\":\"#1B9E77\"},\"hatch_alpha\":{\"value\":0.1},\"hatch_color\":{\"value\":\"#1B9E77\"},\"line_alpha\":{\"value\":0.1},\"line_color\":{\"value\":\"#1B9E77\"},\"top\":{\"field\":\"Intensity\"},\"width\":{\"value\":0.3},\"x\":{\"field\":\"leftWidth\"}},\"id\":\"1498\",\"type\":\"VBar\"},{\"attributes\":{},\"id\":\"1571\",\"type\":\"AllLabels\"},{\"attributes\":{\"data\":{\"precursor_mz\":[null,null,null,null,null,null,null,null,null,null,null,null,null,null,null,null,null,null,null,null,null,null,null,null,null,null,null,null,null,null,null,null,null,null,null,null,null,null,null,null,null,null,null,null,null,null,null,null,null,null,null,null,null,null,null,null,null,null,null],\"product_charge\":[null,null,null,null,null,null,null,null,null,null,null,null,null,null,null,null,null,null,null,null,null,null,null,null,null,null,null,null,null,null,null,null,null,null,null,null,null,null,null,null,null,null,null,null,null,null,null,null,null,null,null,null,null,null,null,null,null,null,null],\"product_mz\":[null,null,null,null,null,null,null,null,null,null,null,null,null,null,null,null,null,null,null,null,null,null,null,null,null,null,null,null,null,null,null,null,null,null,null,null,null,null,null,null,null,null,null,null,null,null,null,null,null,null,null,null,null,null,null,null,null,null,null],\"x\":{\"__ndarray__\":\"o/dT42VHokC50CLbOU6iQNCp8dINVaJA5oLAyuFbokD9W4/CtWKiQNTGSzeJaaJAJzEIrFxwokA9CtejMHeiQBhSuB4FfqJALiuHFtmEokCBlUOLrIuiQJhuEoOAkqJA69jO91OZokABsp3vJ6CiQNgcWmT7pqJA8tJNYtCtokBFPQrXo7SiQFsW2c53u6JAcu+nxkvCokBJWmQ7H8miQF8zMzPzz6JAsp3vp8bWokDJdr6fmt2iQN9PjZdu5KJAuZduEkProkDQcD0KF/KiQOZJDALr+KJA/SLb+b7/okBQjZdukgajQGZmZmZmDaNAudAi2zkUo0CTGARWDhujQKrx0k3iIaNAwcqhRbYoo0AUNV66iS+jQCoOLbJdNqNAAXnpJjE9o0AYUrgeBUSjQGq8dJPYSqNAvSYxCKxRo0CYbhKDgFijQHK28/1UX6NAiI/C9Shmo0CfaJHt/GyjQLVBYOXQc6NACKwcWqR6o0AfhetReIGjQDVeuklMiKNATDeJQSCPo0BiEFg59JWjQHnpJjHInKNAzFPjpZujo0DiLLKdb6qjQLmXbhJDsaNA0HA9Che4o0Aj2/l+6r6jQDm0yHa+xaNAE/yp8ZLMo0Aq1XjpZtOjQA==\",\"dtype\":\"float64\",\"order\":\"little\",\"shape\":[59]},\"y\":{\"__ndarray__\":\"rGCWPgAAAAAAAAAAAAAAACblAD7L3AY/9Zk2P36BIz9ONlk/PR1rP042WT9+gSM/nf2TPpglZT4Fs6Q+IQ1SPgAAAAAAAAAAAAAAAAAAAAAAAAAAZZNNQEylo0IcNS1Dg1mMQ59pwUM4avBDsTgJRN68EEQbfw5EQ1AKRMKHB0QB2wREziP6Q1cL6ENDq85DcNSwQ2Fxj0Nb41tD7Z8eQ5UD0kJk3XlCygEJQhKFlUHT+yJBhqDfQOzEzkDuerpA8y2fQMffjUBjAmxAEfRjQMRzdkBT6X1Aj1B9QLrogkCWuY1Abx6hQNoav0A=\",\"dtype\":\"float32\",\"order\":\"little\",\"shape\":[59]}},\"selected\":{\"id\":\"1576\"},\"selection_policy\":{\"id\":\"1575\"}},\"id\":\"1383\",\"type\":\"ColumnDataSource\"},{\"attributes\":{\"source\":{\"id\":\"1411\"}},\"id\":\"1417\",\"type\":\"CDSView\"},{\"attributes\":{\"line_alpha\":0.1,\"line_color\":\"#ff9896\",\"line_width\":2,\"x\":{\"field\":\"x\"},\"y\":{\"field\":\"y\"}},\"id\":\"1435\",\"type\":\"Line\"},{\"attributes\":{\"line_alpha\":0.5,\"line_color\":\"#e377c2\",\"line_width\":2,\"x\":{\"field\":\"x\"},\"y\":{\"field\":\"y\"}},\"id\":\"1469\",\"type\":\"Line\"},{\"attributes\":{\"bottom\":{\"field\":\"bottom_int\"},\"fill_alpha\":{\"value\":0.2},\"fill_color\":{\"value\":\"#D95F02\"},\"hatch_alpha\":{\"value\":0.2},\"hatch_color\":{\"value\":\"#D95F02\"},\"line_alpha\":{\"value\":0.2},\"line_color\":{\"value\":\"#D95F02\"},\"top\":{\"field\":\"Intensity\"},\"width\":{\"value\":0.3},\"x\":{\"field\":\"leftWidth\"}},\"id\":\"1518\",\"type\":\"VBar\"},{\"attributes\":{\"data\":{\"precursor_mz\":[null,null,null,null,null,null,null,null,null,null,null,null,null,null,null,null,null,null,null,null,null,null,null,null,null,null,null,null,null,null,null,null,null,null,null,null,null,null,null,null,null,null,null,null,null,null,null,null,null,null,null,null,null,null,null,null,null,null,null],\"product_charge\":[null,null,null,null,null,null,null,null,null,null,null,null,null,null,null,null,null,null,null,null,null,null,null,null,null,null,null,null,null,null,null,null,null,null,null,null,null,null,null,null,null,null,null,null,null,null,null,null,null,null,null,null,null,null,null,null,null,null,null],\"product_mz\":[null,null,null,null,null,null,null,null,null,null,null,null,null,null,null,null,null,null,null,null,null,null,null,null,null,null,null,null,null,null,null,null,null,null,null,null,null,null,null,null,null,null,null,null,null,null,null,null,null,null,null,null,null,null,null,null,null,null,null],\"x\":{\"__ndarray__\":\"o/dT42VHokC50CLbOU6iQNCp8dINVaJA5oLAyuFbokD9W4/CtWKiQNTGSzeJaaJAJzEIrFxwokA9CtejMHeiQBhSuB4FfqJALiuHFtmEokCBlUOLrIuiQJhuEoOAkqJA69jO91OZokABsp3vJ6CiQNgcWmT7pqJA8tJNYtCtokBFPQrXo7SiQFsW2c53u6JAcu+nxkvCokBJWmQ7H8miQF8zMzPzz6JAsp3vp8bWokDJdr6fmt2iQN9PjZdu5KJAuZduEkProkDQcD0KF/KiQOZJDALr+KJA/SLb+b7/okBQjZdukgajQGZmZmZmDaNAudAi2zkUo0CTGARWDhujQKrx0k3iIaNAwcqhRbYoo0AUNV66iS+jQCoOLbJdNqNAAXnpJjE9o0AYUrgeBUSjQGq8dJPYSqNAvSYxCKxRo0CYbhKDgFijQHK28/1UX6NAiI/C9Shmo0CfaJHt/GyjQLVBYOXQc6NACKwcWqR6o0AfhetReIGjQDVeuklMiKNATDeJQSCPo0BiEFg59JWjQHnpJjHInKNAzFPjpZujo0DiLLKdb6qjQLmXbhJDsaNA0HA9Che4o0Aj2/l+6r6jQDm0yHa+xaNAE/yp8ZLMo0Aq1XjpZtOjQA==\",\"dtype\":\"float64\",\"order\":\"little\",\"shape\":[59]},\"y\":{\"__ndarray__\":\"AAAAAAAAAAAAAAAAAAAAAAAAAAAAAAAAAAAAAAAAAAAAAAAAAAAAAAAAAAAAAAAAAAAAADLcKz27wxg9jC66PrvDGD+OmhE/AAAAAAAAAAAAAAAARWHxQIqd5EJiTH5DAADOQ5WDDkTj7zBE2K5JRFqtU0QKi1BE1AxLREqURkR5zkFELHM4RHLlKkRGFxlEIFcDRGpr1UPw5qJD2j9tQ6hjH0PKAcFCSV5aQi0p50Fn/2RB3YYWQZQoDEFlbgNBvgrmQDe02kDlgMhAezrWQDxnv0DJcK9AMEuKQNFFV0D1mTZA3jxCQE/shEA=\",\"dtype\":\"float32\",\"order\":\"little\",\"shape\":[59]}},\"selected\":{\"id\":\"1578\"},\"selection_policy\":{\"id\":\"1577\"}},\"id\":\"1390\",\"type\":\"ColumnDataSource\"},{\"attributes\":{\"fill_alpha\":{\"value\":0.2},\"fill_color\":{\"value\":\"#1f77b4\"},\"hatch_alpha\":{\"value\":0.2},\"line_alpha\":{\"value\":0.2},\"line_color\":{\"value\":\"#1f77b4\"},\"x\":{\"field\":\"leftWidth\"},\"y\":{\"field\":\"Intensity\"}},\"id\":\"1511\",\"type\":\"Circle\"},{\"attributes\":{},\"id\":\"1602\",\"type\":\"Selection\"},{\"attributes\":{},\"id\":\"1593\",\"type\":\"UnionRenderers\"},{\"attributes\":{\"line_alpha\":0.2,\"line_color\":\"#ff9896\",\"line_width\":2,\"x\":{\"field\":\"x\"},\"y\":{\"field\":\"y\"}},\"id\":\"1436\",\"type\":\"Line\"},{\"attributes\":{\"fill_alpha\":{\"value\":0.1},\"fill_color\":{\"value\":\"#1f77b4\"},\"hatch_alpha\":{\"value\":0.1},\"line_alpha\":{\"value\":0.1},\"line_color\":{\"value\":\"#1f77b4\"},\"x\":{\"field\":\"leftWidth\"},\"y\":{\"field\":\"Intensity\"}},\"id\":\"1510\",\"type\":\"Circle\"},{\"attributes\":{\"label\":{\"value\":\"y3^1\"},\"renderers\":[{\"id\":\"1437\"}]},\"id\":\"1488\",\"type\":\"LegendItem\"},{\"attributes\":{\"line_alpha\":0.5,\"line_color\":\"#98df8a\",\"line_width\":2,\"x\":{\"field\":\"x\"},\"y\":{\"field\":\"y\"}},\"id\":\"1420\",\"type\":\"Line\"},{\"attributes\":{},\"id\":\"1575\",\"type\":\"UnionRenderers\"},{\"attributes\":{\"data\":{\"precursor_mz\":[null,null,null,null,null,null,null,null,null,null,null,null,null,null,null,null,null,null,null,null,null,null,null,null,null,null,null,null,null,null,null,null,null,null,null,null,null,null,null,null,null,null,null,null,null,null,null,null,null,null,null,null,null,null,null,null,null,null,null],\"product_charge\":[null,null,null,null,null,null,null,null,null,null,null,null,null,null,null,null,null,null,null,null,null,null,null,null,null,null,null,null,null,null,null,null,null,null,null,null,null,null,null,null,null,null,null,null,null,null,null,null,null,null,null,null,null,null,null,null,null,null,null],\"product_mz\":[null,null,null,null,null,null,null,null,null,null,null,null,null,null,null,null,null,null,null,null,null,null,null,null,null,null,null,null,null,null,null,null,null,null,null,null,null,null,null,null,null,null,null,null,null,null,null,null,null,null,null,null,null,null,null,null,null,null,null],\"x\":{\"__ndarray__\":\"o/dT42VHokC50CLbOU6iQNCp8dINVaJA5oLAyuFbokD9W4/CtWKiQNTGSzeJaaJAJzEIrFxwokA9CtejMHeiQBhSuB4FfqJALiuHFtmEokCBlUOLrIuiQJhuEoOAkqJA69jO91OZokABsp3vJ6CiQNgcWmT7pqJA8tJNYtCtokBFPQrXo7SiQFsW2c53u6JAcu+nxkvCokBJWmQ7H8miQF8zMzPzz6JAsp3vp8bWokDJdr6fmt2iQN9PjZdu5KJAuZduEkProkDQcD0KF/KiQOZJDALr+KJA/SLb+b7/okBQjZdukgajQGZmZmZmDaNAudAi2zkUo0CTGARWDhujQKrx0k3iIaNAwcqhRbYoo0AUNV66iS+jQCoOLbJdNqNAAXnpJjE9o0AYUrgeBUSjQGq8dJPYSqNAvSYxCKxRo0CYbhKDgFijQHK28/1UX6NAiI/C9Shmo0CfaJHt/GyjQLVBYOXQc6NACKwcWqR6o0AfhetReIGjQDVeuklMiKNATDeJQSCPo0BiEFg59JWjQHnpJjHInKNAzFPjpZujo0DiLLKdb6qjQLmXbhJDsaNA0HA9Che4o0Aj2/l+6r6jQDm0yHa+xaNAE/yp8ZLMo0Aq1XjpZtOjQA==\",\"dtype\":\"float64\",\"order\":\"little\",\"shape\":[59]},\"y\":{\"__ndarray__\":\"AAAAAJgl5T2MLjo+mCXlPQAAAAAAAAAAMtwrPSENUj7yd3M+HqF6Pn83Dz988EE/P9NWPwAAAAAAAAAAIDLcP2jaukCJwgJB6aJLQAAAAAAAAAAADfeSQb7l10LpfVdDPZ2pQ/0450PMUg5Eh1YhRHC5KkQHaShESZ4lRAvmJESKOCNEeQ4cRAkVEUTg6AFEXJndQ0m5s0NvnopDotVEQ3s6AkOgRJtC4YMrQr/AuUGPdVdBkeE+QezEPkE1IzlBC0EfQdf4C0FbCPpA6X3hQMoB0UAzt8FAgBLFQJkAy0DJcM9AWlLOQJaUw0A=\",\"dtype\":\"float32\",\"order\":\"little\",\"shape\":[59]}},\"selected\":{\"id\":\"1596\"},\"selection_policy\":{\"id\":\"1595\"}},\"id\":\"1453\",\"type\":\"ColumnDataSource\"},{\"attributes\":{},\"id\":\"1585\",\"type\":\"UnionRenderers\"},{\"attributes\":{\"line_alpha\":0.5,\"line_color\":\"#d62728\",\"line_width\":2,\"x\":{\"field\":\"x\"},\"y\":{\"field\":\"y\"}},\"id\":\"1427\",\"type\":\"Line\"},{\"attributes\":{},\"id\":\"1594\",\"type\":\"Selection\"},{\"attributes\":{\"coordinates\":null,\"data_source\":{\"id\":\"1390\"},\"glyph\":{\"id\":\"1392\"},\"group\":null,\"hover_glyph\":null,\"muted_glyph\":{\"id\":\"1394\"},\"nonselection_glyph\":{\"id\":\"1393\"},\"view\":{\"id\":\"1396\"}},\"id\":\"1395\",\"type\":\"GlyphRenderer\"},{\"attributes\":{\"coordinates\":null,\"data_source\":{\"id\":\"1432\"},\"glyph\":{\"id\":\"1434\"},\"group\":null,\"hover_glyph\":null,\"muted_glyph\":{\"id\":\"1436\"},\"nonselection_glyph\":{\"id\":\"1435\"},\"view\":{\"id\":\"1438\"}},\"id\":\"1437\",\"type\":\"GlyphRenderer\"},{\"attributes\":{\"source\":{\"id\":\"1418\"}},\"id\":\"1424\",\"type\":\"CDSView\"},{\"attributes\":{\"line_alpha\":0.5,\"line_color\":\"#c5b0d5\",\"line_width\":2,\"x\":{\"field\":\"x\"},\"y\":{\"field\":\"y\"}},\"id\":\"1448\",\"type\":\"Line\"},{\"attributes\":{\"line_alpha\":0.1,\"line_color\":\"#d62728\",\"line_width\":2,\"x\":{\"field\":\"x\"},\"y\":{\"field\":\"y\"}},\"id\":\"1428\",\"type\":\"Line\"},{\"attributes\":{},\"id\":\"1586\",\"type\":\"Selection\"},{\"attributes\":{\"line_alpha\":0.2,\"line_color\":\"#aec7e8\",\"line_width\":2,\"x\":{\"field\":\"x\"},\"y\":{\"field\":\"y\"}},\"id\":\"1394\",\"type\":\"Line\"},{\"attributes\":{\"callback\":null,\"tooltips\":[[\"index\",\"$index\"],[\"(rt,int)\",\"(@x{0.00}, @y)\"]]},\"id\":\"1373\",\"type\":\"HoverTool\"},{\"attributes\":{\"line_alpha\":0.5,\"line_color\":\"#1f77b4\",\"line_width\":2,\"x\":{\"field\":\"x\"},\"y\":{\"field\":\"y\"}},\"id\":\"1385\",\"type\":\"Line\"},{\"attributes\":{\"bottom\":{\"field\":\"bottom_int\"},\"fill_alpha\":{\"value\":0.2},\"fill_color\":{\"value\":\"#1B9E77\"},\"hatch_alpha\":{\"value\":0.2},\"hatch_color\":{\"value\":\"#1B9E77\"},\"line_alpha\":{\"value\":0.2},\"line_color\":{\"value\":\"#1B9E77\"},\"top\":{\"field\":\"Intensity\"},\"width\":{\"value\":0.3},\"x\":{\"field\":\"leftWidth\"}},\"id\":\"1499\",\"type\":\"VBar\"},{\"attributes\":{},\"id\":\"1370\",\"type\":\"ResetTool\"},{\"attributes\":{\"source\":{\"id\":\"1432\"}},\"id\":\"1438\",\"type\":\"CDSView\"},{\"attributes\":{\"fill_alpha\":{\"value\":0},\"fill_color\":{\"value\":\"#1f77b4\"},\"hatch_alpha\":{\"value\":0},\"line_alpha\":{\"value\":0},\"line_color\":{\"value\":\"#1f77b4\"},\"x\":{\"field\":\"leftWidth\"},\"y\":{\"field\":\"Intensity\"}},\"id\":\"1509\",\"type\":\"Circle\"},{\"attributes\":{\"source\":{\"id\":\"1495\"}},\"id\":\"1501\",\"type\":\"CDSView\"},{\"attributes\":{\"line_alpha\":0.5,\"line_color\":\"#9467bd\",\"line_width\":2,\"x\":{\"field\":\"x\"},\"y\":{\"field\":\"y\"}},\"id\":\"1441\",\"type\":\"Line\"},{\"attributes\":{\"source\":{\"id\":\"1460\"}},\"id\":\"1466\",\"type\":\"CDSView\"},{\"attributes\":{\"coordinates\":null,\"data_source\":{\"id\":\"1446\"},\"glyph\":{\"id\":\"1448\"},\"group\":null,\"hover_glyph\":null,\"muted_glyph\":{\"id\":\"1450\"},\"nonselection_glyph\":{\"id\":\"1449\"},\"view\":{\"id\":\"1452\"}},\"id\":\"1451\",\"type\":\"GlyphRenderer\"},{\"attributes\":{\"axis_label\":\"Intensity\",\"axis_label_text_font_size\":\"11pt\",\"coordinates\":null,\"formatter\":{\"id\":\"1570\"},\"group\":null,\"major_label_policy\":{\"id\":\"1571\"},\"major_label_text_font_size\":\"11pt\",\"ticker\":{\"id\":\"1363\"}},\"id\":\"1362\",\"type\":\"LinearAxis\"},{\"attributes\":{\"line_alpha\":0.1,\"line_color\":\"#aec7e8\",\"line_width\":2,\"x\":{\"field\":\"x\"},\"y\":{\"field\":\"y\"}},\"id\":\"1393\",\"type\":\"Line\"},{\"attributes\":{\"data\":{\"Intensity\":[5696.0],\"bottom_int\":[0],\"leftWidth\":[2411.387939453125],\"ms2_mscore\":[6.993573006436113e-06],\"rightWidth\":[2520.631103515625]},\"selected\":{\"id\":\"1606\"},\"selection_policy\":{\"id\":\"1605\"}},\"id\":\"1514\",\"type\":\"ColumnDataSource\"},{\"attributes\":{\"line_alpha\":0.2,\"line_color\":\"#9467bd\",\"line_width\":2,\"x\":{\"field\":\"x\"},\"y\":{\"field\":\"y\"}},\"id\":\"1443\",\"type\":\"Line\"},{\"attributes\":{\"label\":{\"value\":\"y10^2\"},\"renderers\":[{\"id\":\"1430\"}]},\"id\":\"1487\",\"type\":\"LegendItem\"},{\"attributes\":{\"line_alpha\":0.5,\"line_color\":\"#f7b6d2\",\"line_width\":2,\"x\":{\"field\":\"x\"},\"y\":{\"field\":\"y\"}},\"id\":\"1476\",\"type\":\"Line\"},{\"attributes\":{\"line_alpha\":0.2,\"line_color\":\"#e377c2\",\"line_width\":2,\"x\":{\"field\":\"x\"},\"y\":{\"field\":\"y\"}},\"id\":\"1471\",\"type\":\"Line\"},{\"attributes\":{\"bottom\":{\"field\":\"bottom_int\"},\"fill_color\":{\"value\":\"#D95F02\"},\"hatch_color\":{\"value\":\"#D95F02\"},\"line_color\":{\"value\":\"#D95F02\"},\"top\":{\"field\":\"Intensity\"},\"width\":{\"value\":0.3},\"x\":{\"field\":\"leftWidth\"}},\"id\":\"1516\",\"type\":\"VBar\"},{\"attributes\":{},\"id\":\"1603\",\"type\":\"UnionRenderers\"},{\"attributes\":{\"coordinates\":null,\"group\":null},\"id\":\"1567\",\"type\":\"Title\"},{\"attributes\":{\"data\":{\"precursor_mz\":[null,null,null,null,null,null,null,null,null,null,null,null,null,null,null,null,null,null,null,null,null,null,null,null,null,null,null,null,null,null,null,null,null,null,null,null,null,null,null,null,null,null,null,null,null,null,null,null,null,null,null,null,null,null,null,null,null,null,null],\"product_charge\":[null,null,null,null,null,null,null,null,null,null,null,null,null,null,null,null,null,null,null,null,null,null,null,null,null,null,null,null,null,null,null,null,null,null,null,null,null,null,null,null,null,null,null,null,null,null,null,null,null,null,null,null,null,null,null,null,null,null,null],\"product_mz\":[null,null,null,null,null,null,null,null,null,null,null,null,null,null,null,null,null,null,null,null,null,null,null,null,null,null,null,null,null,null,null,null,null,null,null,null,null,null,null,null,null,null,null,null,null,null,null,null,null,null,null,null,null,null,null,null,null,null,null],\"x\":{\"__ndarray__\":\"o/dT42VHokC50CLbOU6iQNCp8dINVaJA5oLAyuFbokD9W4/CtWKiQNTGSzeJaaJAJzEIrFxwokA9CtejMHeiQBhSuB4FfqJALiuHFtmEokCBlUOLrIuiQJhuEoOAkqJA69jO91OZokABsp3vJ6CiQNgcWmT7pqJA8tJNYtCtokBFPQrXo7SiQFsW2c53u6JAcu+nxkvCokBJWmQ7H8miQF8zMzPzz6JAsp3vp8bWokDJdr6fmt2iQN9PjZdu5KJAuZduEkProkDQcD0KF/KiQOZJDALr+KJA/SLb+b7/okBQjZdukgajQGZmZmZmDaNAudAi2zkUo0CTGARWDhujQKrx0k3iIaNAwcqhRbYoo0AUNV66iS+jQCoOLbJdNqNAAXnpJjE9o0AYUrgeBUSjQGq8dJPYSqNAvSYxCKxRo0CYbhKDgFijQHK28/1UX6NAiI/C9Shmo0CfaJHt/GyjQLVBYOXQc6NACKwcWqR6o0AfhetReIGjQDVeuklMiKNATDeJQSCPo0BiEFg59JWjQHnpJjHInKNAzFPjpZujo0DiLLKdb6qjQLmXbhJDsaNA0HA9Che4o0Aj2/l+6r6jQDm0yHa+xaNAE/yp8ZLMo0Aq1XjpZtOjQA==\",\"dtype\":\"float64\",\"order\":\"little\",\"shape\":[59]},\"y\":{\"__ndarray__\":\"dmLHQFIOyECE6rNAFDuRQA6ITECYJeU/QGQ4PwAAAAAAAAAAAAAAAAAAAAAm5YA9mCVlPemiCz8FsyQ/hnuVP9mJnT9fBbM/AAAAAAAAAAAAAAAAx9/1QWGWr0Mk1DxEowuZRJo2y0SsIAJFFVwWRdzbHkVRPRxFFawURaNbFEUE4hJFn5kMRcfPAkX5++ZEa9zPRETmq0RdFIREx984RAtm20Nb45RDeoQnQzRtsUIJ1TdCygEBQu5V6EHQtN1BAADAQUYXpUFb449BlQOCQaUciEFRfXZBg1liQXZiT0FaUj5BW+MvQarPJEE=\",\"dtype\":\"float32\",\"order\":\"little\",\"shape\":[59]}},\"selected\":{\"id\":\"1592\"},\"selection_policy\":{\"id\":\"1591\"}},\"id\":\"1439\",\"type\":\"ColumnDataSource\"},{\"attributes\":{\"line_alpha\":0.1,\"line_color\":\"#c49c94\",\"line_width\":2,\"x\":{\"field\":\"x\"},\"y\":{\"field\":\"y\"}},\"id\":\"1463\",\"type\":\"Line\"},{\"attributes\":{},\"id\":\"1570\",\"type\":\"BasicTickFormatter\"},{\"attributes\":{\"bottom\":{\"field\":\"bottom_int\"},\"fill_alpha\":{\"value\":0.2},\"fill_color\":{\"value\":\"#D95F02\"},\"hatch_alpha\":{\"value\":0.2},\"hatch_color\":{\"value\":\"#D95F02\"},\"line_alpha\":{\"value\":0.2},\"line_color\":{\"value\":\"#D95F02\"},\"top\":{\"field\":\"Intensity\"},\"width\":{\"value\":0.3},\"x\":{\"field\":\"rightWidth\"}},\"id\":\"1524\",\"type\":\"VBar\"},{\"attributes\":{\"label\":{\"value\":\"y8^1\"},\"renderers\":[{\"id\":\"1472\"}]},\"id\":\"1493\",\"type\":\"LegendItem\"},{\"attributes\":{},\"id\":\"1604\",\"type\":\"Selection\"},{\"attributes\":{\"bottom\":{\"field\":\"bottom_int\"},\"fill_alpha\":{\"value\":0.2},\"fill_color\":{\"value\":\"#1B9E77\"},\"hatch_alpha\":{\"value\":0.2},\"hatch_color\":{\"value\":\"#1B9E77\"},\"line_alpha\":{\"value\":0.2},\"line_color\":{\"value\":\"#1B9E77\"},\"top\":{\"field\":\"Intensity\"},\"width\":{\"value\":0.3},\"x\":{\"field\":\"rightWidth\"}},\"id\":\"1505\",\"type\":\"VBar\"},{\"attributes\":{\"coordinates\":null,\"data_source\":{\"id\":\"1467\"},\"glyph\":{\"id\":\"1469\"},\"group\":null,\"hover_glyph\":null,\"muted_glyph\":{\"id\":\"1471\"},\"nonselection_glyph\":{\"id\":\"1470\"},\"view\":{\"id\":\"1473\"}},\"id\":\"1472\",\"type\":\"GlyphRenderer\"},{\"attributes\":{\"callback\":null,\"names\":[\"leftWidth_apex_point\"],\"tooltips\":[[\"Intensity\",\"@Intensity\"],[\"Left Width\",\"@leftWidth{0.00}\"],[\"Right Width\",\"@rightWidth{0.00}\"],[\"Peak Group Rank\",\"@peakgroup_rank\"],[\"MS2 m-score\",\"@ms2_mscore\"]]},\"id\":\"1533\",\"type\":\"HoverTool\"},{\"attributes\":{},\"id\":\"1595\",\"type\":\"UnionRenderers\"},{\"attributes\":{\"line_alpha\":0.5,\"line_color\":\"#ff7f0e\",\"line_width\":2,\"x\":{\"field\":\"x\"},\"y\":{\"field\":\"y\"}},\"id\":\"1399\",\"type\":\"Line\"},{\"attributes\":{\"source\":{\"id\":\"1514\"}},\"id\":\"1532\",\"type\":\"CDSView\"},{\"attributes\":{},\"id\":\"1350\",\"type\":\"DataRange1d\"},{\"attributes\":{\"line_alpha\":0.2,\"line_color\":\"#1f77b4\",\"line_width\":2,\"x\":{\"field\":\"x\"},\"y\":{\"field\":\"y\"}},\"id\":\"1387\",\"type\":\"Line\"},{\"attributes\":{},\"id\":\"1587\",\"type\":\"UnionRenderers\"},{\"attributes\":{\"source\":{\"id\":\"1390\"}},\"id\":\"1396\",\"type\":\"CDSView\"},{\"attributes\":{},\"id\":\"1596\",\"type\":\"Selection\"},{\"attributes\":{\"line_alpha\":0.2,\"line_color\":\"#ff7f0e\",\"line_width\":2,\"x\":{\"field\":\"x\"},\"y\":{\"field\":\"y\"}},\"id\":\"1401\",\"type\":\"Line\"},{\"attributes\":{\"coordinates\":null,\"data_source\":{\"id\":\"1495\"},\"glyph\":{\"id\":\"1497\"},\"group\":null,\"hover_glyph\":null,\"muted_glyph\":{\"id\":\"1499\"},\"nonselection_glyph\":{\"id\":\"1498\"},\"view\":{\"id\":\"1501\"}},\"id\":\"1500\",\"type\":\"GlyphRenderer\"},{\"attributes\":{},\"id\":\"1576\",\"type\":\"Selection\"},{\"attributes\":{\"line_alpha\":0.1,\"line_color\":\"#c5b0d5\",\"line_width\":2,\"x\":{\"field\":\"x\"},\"y\":{\"field\":\"y\"}},\"id\":\"1449\",\"type\":\"Line\"},{\"attributes\":{\"line_alpha\":0.5,\"line_color\":\"#ffbb78\",\"line_width\":2,\"x\":{\"field\":\"x\"},\"y\":{\"field\":\"y\"}},\"id\":\"1406\",\"type\":\"Line\"},{\"attributes\":{\"fill_alpha\":{\"value\":0.1},\"fill_color\":{\"value\":\"#1f77b4\"},\"hatch_alpha\":{\"value\":0.1},\"line_alpha\":{\"value\":0.1},\"line_color\":{\"value\":\"#1f77b4\"},\"x\":{\"field\":\"leftWidth\"},\"y\":{\"field\":\"Intensity\"}},\"id\":\"1529\",\"type\":\"Circle\"},{\"attributes\":{\"coordinates\":null,\"data_source\":{\"id\":\"1411\"},\"glyph\":{\"id\":\"1413\"},\"group\":null,\"hover_glyph\":null,\"muted_glyph\":{\"id\":\"1415\"},\"nonselection_glyph\":{\"id\":\"1414\"},\"view\":{\"id\":\"1417\"}},\"id\":\"1416\",\"type\":\"GlyphRenderer\"},{\"attributes\":{},\"id\":\"1363\",\"type\":\"BasicTicker\"},{\"attributes\":{\"label\":{\"value\":\"b4^1\"},\"renderers\":[{\"id\":\"1395\"}]},\"id\":\"1482\",\"type\":\"LegendItem\"},{\"attributes\":{},\"id\":\"1588\",\"type\":\"Selection\"},{\"attributes\":{\"coordinates\":null,\"data_source\":{\"id\":\"1514\"},\"glyph\":{\"id\":\"1522\"},\"group\":null,\"hover_glyph\":null,\"muted_glyph\":{\"id\":\"1524\"},\"nonselection_glyph\":{\"id\":\"1523\"},\"view\":{\"id\":\"1526\"}},\"id\":\"1525\",\"type\":\"GlyphRenderer\"},{\"attributes\":{\"source\":{\"id\":\"1514\"}},\"id\":\"1520\",\"type\":\"CDSView\"},{\"attributes\":{\"line_alpha\":0.5,\"line_color\":\"#8c564b\",\"line_width\":2,\"x\":{\"field\":\"x\"},\"y\":{\"field\":\"y\"}},\"id\":\"1455\",\"type\":\"Line\"},{\"attributes\":{\"line_alpha\":0.1,\"line_color\":\"#2ca02c\",\"line_width\":2,\"x\":{\"field\":\"x\"},\"y\":{\"field\":\"y\"}},\"id\":\"1414\",\"type\":\"Line\"},{\"attributes\":{\"label\":{\"value\":\"y5^1\"},\"renderers\":[{\"id\":\"1451\"}]},\"id\":\"1490\",\"type\":\"LegendItem\"},{\"attributes\":{\"fill_alpha\":{\"value\":0},\"fill_color\":{\"value\":\"#1f77b4\"},\"hatch_alpha\":{\"value\":0},\"line_alpha\":{\"value\":0},\"line_color\":{\"value\":\"#1f77b4\"},\"x\":{\"field\":\"leftWidth\"},\"y\":{\"field\":\"Intensity\"}},\"id\":\"1528\",\"type\":\"Circle\"},{\"attributes\":{\"label\":{\"value\":\"b6^1\"},\"renderers\":[{\"id\":\"1409\"}]},\"id\":\"1484\",\"type\":\"LegendItem\"},{\"attributes\":{\"overlay\":{\"id\":\"1372\"}},\"id\":\"1368\",\"type\":\"BoxZoomTool\"},{\"attributes\":{},\"id\":\"1580\",\"type\":\"Selection\"},{\"attributes\":{\"label\":{\"value\":\"y4^1\"},\"renderers\":[{\"id\":\"1444\"}]},\"id\":\"1489\",\"type\":\"LegendItem\"},{\"attributes\":{\"line_alpha\":0.1,\"line_color\":\"#ffbb78\",\"line_width\":2,\"x\":{\"field\":\"x\"},\"y\":{\"field\":\"y\"}},\"id\":\"1407\",\"type\":\"Line\"},{\"attributes\":{\"line_alpha\":0.1,\"line_color\":\"#e377c2\",\"line_width\":2,\"x\":{\"field\":\"x\"},\"y\":{\"field\":\"y\"}},\"id\":\"1470\",\"type\":\"Line\"},{\"attributes\":{},\"id\":\"1366\",\"type\":\"PanTool\"},{\"attributes\":{\"source\":{\"id\":\"1383\"}},\"id\":\"1389\",\"type\":\"CDSView\"},{\"attributes\":{\"line_alpha\":0.2,\"line_color\":\"#2ca02c\",\"line_width\":2,\"x\":{\"field\":\"x\"},\"y\":{\"field\":\"y\"}},\"id\":\"1415\",\"type\":\"Line\"},{\"attributes\":{\"bottom\":{\"field\":\"bottom_int\"},\"fill_alpha\":{\"value\":0.1},\"fill_color\":{\"value\":\"#D95F02\"},\"hatch_alpha\":{\"value\":0.1},\"hatch_color\":{\"value\":\"#D95F02\"},\"line_alpha\":{\"value\":0.1},\"line_color\":{\"value\":\"#D95F02\"},\"top\":{\"field\":\"Intensity\"},\"width\":{\"value\":0.3},\"x\":{\"field\":\"rightWidth\"}},\"id\":\"1523\",\"type\":\"VBar\"},{\"attributes\":{\"label\":{\"value\":\"b7^1\"},\"renderers\":[{\"id\":\"1416\"}]},\"id\":\"1485\",\"type\":\"LegendItem\"},{\"attributes\":{\"coordinates\":null,\"data_source\":{\"id\":\"1439\"},\"glyph\":{\"id\":\"1441\"},\"group\":null,\"hover_glyph\":null,\"muted_glyph\":{\"id\":\"1443\"},\"nonselection_glyph\":{\"id\":\"1442\"},\"view\":{\"id\":\"1445\"}},\"id\":\"1444\",\"type\":\"GlyphRenderer\"},{\"attributes\":{\"bottom_units\":\"screen\",\"coordinates\":null,\"fill_alpha\":0.5,\"fill_color\":\"lightgrey\",\"group\":null,\"left_units\":\"screen\",\"level\":\"overlay\",\"line_alpha\":1.0,\"line_color\":\"black\",\"line_dash\":[4,4],\"line_width\":2,\"right_units\":\"screen\",\"syncable\":false,\"top_units\":\"screen\"},\"id\":\"1372\",\"type\":\"BoxAnnotation\"},{\"attributes\":{\"label\":{\"value\":\"b8^1\"},\"renderers\":[{\"id\":\"1423\"}]},\"id\":\"1486\",\"type\":\"LegendItem\"},{\"attributes\":{},\"id\":\"1597\",\"type\":\"UnionRenderers\"},{\"attributes\":{\"line_alpha\":0.1,\"line_color\":\"#8c564b\",\"line_width\":2,\"x\":{\"field\":\"x\"},\"y\":{\"field\":\"y\"}},\"id\":\"1456\",\"type\":\"Line\"},{\"attributes\":{},\"id\":\"1574\",\"type\":\"AllLabels\"},{\"attributes\":{\"bottom\":{\"field\":\"bottom_int\"},\"fill_alpha\":{\"value\":0.1},\"fill_color\":{\"value\":\"#1B9E77\"},\"hatch_alpha\":{\"value\":0.1},\"hatch_color\":{\"value\":\"#1B9E77\"},\"line_alpha\":{\"value\":0.1},\"line_color\":{\"value\":\"#1B9E77\"},\"top\":{\"field\":\"Intensity\"},\"width\":{\"value\":0.3},\"x\":{\"field\":\"rightWidth\"}},\"id\":\"1504\",\"type\":\"VBar\"},{\"attributes\":{\"source\":{\"id\":\"1404\"}},\"id\":\"1410\",\"type\":\"CDSView\"},{\"attributes\":{},\"id\":\"1371\",\"type\":\"HelpTool\"},{\"attributes\":{},\"id\":\"1598\",\"type\":\"Selection\"},{\"attributes\":{\"axis_label\":\"Retention Time\",\"axis_label_text_font_size\":\"11pt\",\"coordinates\":null,\"formatter\":{\"id\":\"1573\"},\"group\":null,\"major_label_policy\":{\"id\":\"1574\"},\"major_label_text_font_size\":\"11pt\",\"ticker\":{\"id\":\"1359\"}},\"id\":\"1358\",\"type\":\"LinearAxis\"},{\"attributes\":{\"line_alpha\":0.2,\"line_color\":\"#98df8a\",\"line_width\":2,\"x\":{\"field\":\"x\"},\"y\":{\"field\":\"y\"}},\"id\":\"1422\",\"type\":\"Line\"},{\"attributes\":{},\"id\":\"1589\",\"type\":\"UnionRenderers\"},{\"attributes\":{\"coordinates\":null,\"data_source\":{\"id\":\"1453\"},\"glyph\":{\"id\":\"1455\"},\"group\":null,\"hover_glyph\":null,\"muted_glyph\":{\"id\":\"1457\"},\"nonselection_glyph\":{\"id\":\"1456\"},\"view\":{\"id\":\"1459\"}},\"id\":\"1458\",\"type\":\"GlyphRenderer\"},{\"attributes\":{\"source\":{\"id\":\"1474\"}},\"id\":\"1480\",\"type\":\"CDSView\"}],\"root_ids\":[\"1349\"]},\"title\":\"Bokeh Application\",\"version\":\"2.4.3\"}};\n",
       "  const render_items = [{\"docid\":\"051e568f-09a1-4683-a7d4-fec078dc5c0e\",\"root_ids\":[\"1349\"],\"roots\":{\"1349\":\"dc0fcb40-1810-45f9-b572-3907cc6f205a\"}}];\n",
       "  root.Bokeh.embed.embed_items_notebook(docs_json, render_items);\n",
       "  }\n",
       "  if (root.Bokeh !== undefined) {\n",
       "    embed_document(root);\n",
       "  } else {\n",
       "    let attempts = 0;\n",
       "    const timer = setInterval(function(root) {\n",
       "      if (root.Bokeh !== undefined) {\n",
       "        clearInterval(timer);\n",
       "        embed_document(root);\n",
       "      } else {\n",
       "        attempts++;\n",
       "        if (attempts > 100) {\n",
       "          clearInterval(timer);\n",
       "          console.log(\"Bokeh: ERROR: Unable to run BokehJS code because BokehJS library is missing\");\n",
       "        }\n",
       "      }\n",
       "    }, 10, root)\n",
       "  }\n",
       "})(window);"
      ],
      "application/vnd.bokehjs_exec.v0+json": ""
     },
     "metadata": {
      "application/vnd.bokehjs_exec.v0+json": {
       "id": "1349"
      }
     },
     "output_type": "display_data"
    },
    {
     "data": {
      "text/html": [
       "<div style=\"display: table;\"><div style=\"display: table-row;\"><div style=\"display: table-cell;\"><b title=\"bokeh.plotting.figure.Figure\">Figure</b>(</div><div style=\"display: table-cell;\">id&nbsp;=&nbsp;'1349', <span id=\"1814\" style=\"cursor: pointer;\">&hellip;)</span></div></div><div class=\"1813\" style=\"display: none;\"><div style=\"display: table-cell;\"></div><div style=\"display: table-cell;\">above&nbsp;=&nbsp;[Legend(id='1535', ...)],</div></div><div class=\"1813\" style=\"display: none;\"><div style=\"display: table-cell;\"></div><div style=\"display: table-cell;\">align&nbsp;=&nbsp;'start',</div></div><div class=\"1813\" style=\"display: none;\"><div style=\"display: table-cell;\"></div><div style=\"display: table-cell;\">aspect_ratio&nbsp;=&nbsp;None,</div></div><div class=\"1813\" style=\"display: none;\"><div style=\"display: table-cell;\"></div><div style=\"display: table-cell;\">aspect_scale&nbsp;=&nbsp;1,</div></div><div class=\"1813\" style=\"display: none;\"><div style=\"display: table-cell;\"></div><div style=\"display: table-cell;\">background&nbsp;=&nbsp;None,</div></div><div class=\"1813\" style=\"display: none;\"><div style=\"display: table-cell;\"></div><div style=\"display: table-cell;\">background_fill_alpha&nbsp;=&nbsp;1.0,</div></div><div class=\"1813\" style=\"display: none;\"><div style=\"display: table-cell;\"></div><div style=\"display: table-cell;\">background_fill_color&nbsp;=&nbsp;'#ffffff',</div></div><div class=\"1813\" style=\"display: none;\"><div style=\"display: table-cell;\"></div><div style=\"display: table-cell;\">below&nbsp;=&nbsp;[LinearAxis(id='1358', ...)],</div></div><div class=\"1813\" style=\"display: none;\"><div style=\"display: table-cell;\"></div><div style=\"display: table-cell;\">border_fill_alpha&nbsp;=&nbsp;1.0,</div></div><div class=\"1813\" style=\"display: none;\"><div style=\"display: table-cell;\"></div><div style=\"display: table-cell;\">border_fill_color&nbsp;=&nbsp;'#ffffff',</div></div><div class=\"1813\" style=\"display: none;\"><div style=\"display: table-cell;\"></div><div style=\"display: table-cell;\">center&nbsp;=&nbsp;[Grid(id='1361', ...), Grid(id='1365', ...)],</div></div><div class=\"1813\" style=\"display: none;\"><div style=\"display: table-cell;\"></div><div style=\"display: table-cell;\">css_classes&nbsp;=&nbsp;[],</div></div><div class=\"1813\" style=\"display: none;\"><div style=\"display: table-cell;\"></div><div style=\"display: table-cell;\">disabled&nbsp;=&nbsp;False,</div></div><div class=\"1813\" style=\"display: none;\"><div style=\"display: table-cell;\"></div><div style=\"display: table-cell;\">extra_x_ranges&nbsp;=&nbsp;{},</div></div><div class=\"1813\" style=\"display: none;\"><div style=\"display: table-cell;\"></div><div style=\"display: table-cell;\">extra_x_scales&nbsp;=&nbsp;{},</div></div><div class=\"1813\" style=\"display: none;\"><div style=\"display: table-cell;\"></div><div style=\"display: table-cell;\">extra_y_ranges&nbsp;=&nbsp;{},</div></div><div class=\"1813\" style=\"display: none;\"><div style=\"display: table-cell;\"></div><div style=\"display: table-cell;\">extra_y_scales&nbsp;=&nbsp;{},</div></div><div class=\"1813\" style=\"display: none;\"><div style=\"display: table-cell;\"></div><div style=\"display: table-cell;\">frame_height&nbsp;=&nbsp;None,</div></div><div class=\"1813\" style=\"display: none;\"><div style=\"display: table-cell;\"></div><div style=\"display: table-cell;\">frame_width&nbsp;=&nbsp;None,</div></div><div class=\"1813\" style=\"display: none;\"><div style=\"display: table-cell;\"></div><div style=\"display: table-cell;\">height&nbsp;=&nbsp;450,</div></div><div class=\"1813\" style=\"display: none;\"><div style=\"display: table-cell;\"></div><div style=\"display: table-cell;\">height_policy&nbsp;=&nbsp;'auto',</div></div><div class=\"1813\" style=\"display: none;\"><div style=\"display: table-cell;\"></div><div style=\"display: table-cell;\">hidpi&nbsp;=&nbsp;True,</div></div><div class=\"1813\" style=\"display: none;\"><div style=\"display: table-cell;\"></div><div style=\"display: table-cell;\">inner_height&nbsp;=&nbsp;0,</div></div><div class=\"1813\" style=\"display: none;\"><div style=\"display: table-cell;\"></div><div style=\"display: table-cell;\">inner_width&nbsp;=&nbsp;0,</div></div><div class=\"1813\" style=\"display: none;\"><div style=\"display: table-cell;\"></div><div style=\"display: table-cell;\">js_event_callbacks&nbsp;=&nbsp;{},</div></div><div class=\"1813\" style=\"display: none;\"><div style=\"display: table-cell;\"></div><div style=\"display: table-cell;\">js_property_callbacks&nbsp;=&nbsp;{},</div></div><div class=\"1813\" style=\"display: none;\"><div style=\"display: table-cell;\"></div><div style=\"display: table-cell;\">left&nbsp;=&nbsp;[LinearAxis(id='1362', ...)],</div></div><div class=\"1813\" style=\"display: none;\"><div style=\"display: table-cell;\"></div><div style=\"display: table-cell;\">lod_factor&nbsp;=&nbsp;10,</div></div><div class=\"1813\" style=\"display: none;\"><div style=\"display: table-cell;\"></div><div style=\"display: table-cell;\">lod_interval&nbsp;=&nbsp;300,</div></div><div class=\"1813\" style=\"display: none;\"><div style=\"display: table-cell;\"></div><div style=\"display: table-cell;\">lod_threshold&nbsp;=&nbsp;2000,</div></div><div class=\"1813\" style=\"display: none;\"><div style=\"display: table-cell;\"></div><div style=\"display: table-cell;\">lod_timeout&nbsp;=&nbsp;500,</div></div><div class=\"1813\" style=\"display: none;\"><div style=\"display: table-cell;\"></div><div style=\"display: table-cell;\">margin&nbsp;=&nbsp;(0, 0, 0, 0),</div></div><div class=\"1813\" style=\"display: none;\"><div style=\"display: table-cell;\"></div><div style=\"display: table-cell;\">match_aspect&nbsp;=&nbsp;False,</div></div><div class=\"1813\" style=\"display: none;\"><div style=\"display: table-cell;\"></div><div style=\"display: table-cell;\">max_height&nbsp;=&nbsp;None,</div></div><div class=\"1813\" style=\"display: none;\"><div style=\"display: table-cell;\"></div><div style=\"display: table-cell;\">max_width&nbsp;=&nbsp;None,</div></div><div class=\"1813\" style=\"display: none;\"><div style=\"display: table-cell;\"></div><div style=\"display: table-cell;\">min_border&nbsp;=&nbsp;5,</div></div><div class=\"1813\" style=\"display: none;\"><div style=\"display: table-cell;\"></div><div style=\"display: table-cell;\">min_border_bottom&nbsp;=&nbsp;None,</div></div><div class=\"1813\" style=\"display: none;\"><div style=\"display: table-cell;\"></div><div style=\"display: table-cell;\">min_border_left&nbsp;=&nbsp;None,</div></div><div class=\"1813\" style=\"display: none;\"><div style=\"display: table-cell;\"></div><div style=\"display: table-cell;\">min_border_right&nbsp;=&nbsp;None,</div></div><div class=\"1813\" style=\"display: none;\"><div style=\"display: table-cell;\"></div><div style=\"display: table-cell;\">min_border_top&nbsp;=&nbsp;None,</div></div><div class=\"1813\" style=\"display: none;\"><div style=\"display: table-cell;\"></div><div style=\"display: table-cell;\">min_height&nbsp;=&nbsp;None,</div></div><div class=\"1813\" style=\"display: none;\"><div style=\"display: table-cell;\"></div><div style=\"display: table-cell;\">min_width&nbsp;=&nbsp;None,</div></div><div class=\"1813\" style=\"display: none;\"><div style=\"display: table-cell;\"></div><div style=\"display: table-cell;\">name&nbsp;=&nbsp;None,</div></div><div class=\"1813\" style=\"display: none;\"><div style=\"display: table-cell;\"></div><div style=\"display: table-cell;\">outer_height&nbsp;=&nbsp;0,</div></div><div class=\"1813\" style=\"display: none;\"><div style=\"display: table-cell;\"></div><div style=\"display: table-cell;\">outer_width&nbsp;=&nbsp;0,</div></div><div class=\"1813\" style=\"display: none;\"><div style=\"display: table-cell;\"></div><div style=\"display: table-cell;\">outline_line_alpha&nbsp;=&nbsp;1.0,</div></div><div class=\"1813\" style=\"display: none;\"><div style=\"display: table-cell;\"></div><div style=\"display: table-cell;\">outline_line_cap&nbsp;=&nbsp;'butt',</div></div><div class=\"1813\" style=\"display: none;\"><div style=\"display: table-cell;\"></div><div style=\"display: table-cell;\">outline_line_color&nbsp;=&nbsp;'#e5e5e5',</div></div><div class=\"1813\" style=\"display: none;\"><div style=\"display: table-cell;\"></div><div style=\"display: table-cell;\">outline_line_dash&nbsp;=&nbsp;[],</div></div><div class=\"1813\" style=\"display: none;\"><div style=\"display: table-cell;\"></div><div style=\"display: table-cell;\">outline_line_dash_offset&nbsp;=&nbsp;0,</div></div><div class=\"1813\" style=\"display: none;\"><div style=\"display: table-cell;\"></div><div style=\"display: table-cell;\">outline_line_join&nbsp;=&nbsp;'bevel',</div></div><div class=\"1813\" style=\"display: none;\"><div style=\"display: table-cell;\"></div><div style=\"display: table-cell;\">outline_line_width&nbsp;=&nbsp;1,</div></div><div class=\"1813\" style=\"display: none;\"><div style=\"display: table-cell;\"></div><div style=\"display: table-cell;\">output_backend&nbsp;=&nbsp;'canvas',</div></div><div class=\"1813\" style=\"display: none;\"><div style=\"display: table-cell;\"></div><div style=\"display: table-cell;\">renderers&nbsp;=&nbsp;[GlyphRenderer(id='1388', ...), GlyphRenderer(id='1395', ...), GlyphRenderer(id='1402', ...), GlyphRenderer(id='1409', ...), GlyphRenderer(id='1416', ...), GlyphRenderer(id='1423', ...), GlyphRenderer(id='1430', ...), GlyphRenderer(id='1437', ...), GlyphRenderer(id='1444', ...), GlyphRenderer(id='1451', ...), GlyphRenderer(id='1458', ...), GlyphRenderer(id='1465', ...), GlyphRenderer(id='1472', ...), GlyphRenderer(id='1479', ...), GlyphRenderer(id='1500', ...), GlyphRenderer(id='1506', ...), GlyphRenderer(id='1512', ...), GlyphRenderer(id='1519', ...), GlyphRenderer(id='1525', ...), GlyphRenderer(id='1531', ...)],</div></div><div class=\"1813\" style=\"display: none;\"><div style=\"display: table-cell;\"></div><div style=\"display: table-cell;\">reset_policy&nbsp;=&nbsp;'standard',</div></div><div class=\"1813\" style=\"display: none;\"><div style=\"display: table-cell;\"></div><div style=\"display: table-cell;\">right&nbsp;=&nbsp;[Legend(id='1382', ...)],</div></div><div class=\"1813\" style=\"display: none;\"><div style=\"display: table-cell;\"></div><div style=\"display: table-cell;\">sizing_mode&nbsp;=&nbsp;'scale_width',</div></div><div class=\"1813\" style=\"display: none;\"><div style=\"display: table-cell;\"></div><div style=\"display: table-cell;\">subscribed_events&nbsp;=&nbsp;[],</div></div><div class=\"1813\" style=\"display: none;\"><div style=\"display: table-cell;\"></div><div style=\"display: table-cell;\">syncable&nbsp;=&nbsp;True,</div></div><div class=\"1813\" style=\"display: none;\"><div style=\"display: table-cell;\"></div><div style=\"display: table-cell;\">tags&nbsp;=&nbsp;[],</div></div><div class=\"1813\" style=\"display: none;\"><div style=\"display: table-cell;\"></div><div style=\"display: table-cell;\">title&nbsp;=&nbsp;Title(id='1567', ...),</div></div><div class=\"1813\" style=\"display: none;\"><div style=\"display: table-cell;\"></div><div style=\"display: table-cell;\">title_location&nbsp;=&nbsp;'above',</div></div><div class=\"1813\" style=\"display: none;\"><div style=\"display: table-cell;\"></div><div style=\"display: table-cell;\">toolbar&nbsp;=&nbsp;Toolbar(id='1374', ...),</div></div><div class=\"1813\" style=\"display: none;\"><div style=\"display: table-cell;\"></div><div style=\"display: table-cell;\">toolbar_location&nbsp;=&nbsp;'above',</div></div><div class=\"1813\" style=\"display: none;\"><div style=\"display: table-cell;\"></div><div style=\"display: table-cell;\">toolbar_sticky&nbsp;=&nbsp;True,</div></div><div class=\"1813\" style=\"display: none;\"><div style=\"display: table-cell;\"></div><div style=\"display: table-cell;\">visible&nbsp;=&nbsp;True,</div></div><div class=\"1813\" style=\"display: none;\"><div style=\"display: table-cell;\"></div><div style=\"display: table-cell;\">width&nbsp;=&nbsp;800,</div></div><div class=\"1813\" style=\"display: none;\"><div style=\"display: table-cell;\"></div><div style=\"display: table-cell;\">width_policy&nbsp;=&nbsp;'auto',</div></div><div class=\"1813\" style=\"display: none;\"><div style=\"display: table-cell;\"></div><div style=\"display: table-cell;\">x_range&nbsp;=&nbsp;DataRange1d(id='1350', ...),</div></div><div class=\"1813\" style=\"display: none;\"><div style=\"display: table-cell;\"></div><div style=\"display: table-cell;\">x_scale&nbsp;=&nbsp;LinearScale(id='1354', ...),</div></div><div class=\"1813\" style=\"display: none;\"><div style=\"display: table-cell;\"></div><div style=\"display: table-cell;\">y_range&nbsp;=&nbsp;DataRange1d(id='1352', ...),</div></div><div class=\"1813\" style=\"display: none;\"><div style=\"display: table-cell;\"></div><div style=\"display: table-cell;\">y_scale&nbsp;=&nbsp;LinearScale(id='1356', ...))</div></div></div>\n",
       "<script>\n",
       "(function() {\n",
       "  let expanded = false;\n",
       "  const ellipsis = document.getElementById(\"1814\");\n",
       "  ellipsis.addEventListener(\"click\", function() {\n",
       "    const rows = document.getElementsByClassName(\"1813\");\n",
       "    for (let i = 0; i < rows.length; i++) {\n",
       "      const el = rows[i];\n",
       "      el.style.display = expanded ? \"none\" : \"table-row\";\n",
       "    }\n",
       "    ellipsis.innerHTML = expanded ? \"&hellip;)\" : \"&lsaquo;&lsaquo;&lsaquo;\";\n",
       "    expanded = !expanded;\n",
       "  });\n",
       "})();\n",
       "</script>\n"
      ],
      "text/plain": [
       "Figure(id='1349', ...)"
      ]
     },
     "execution_count": 12,
     "metadata": {},
     "output_type": "execute_result"
    }
   ],
   "source": [
    "mzml_loader.plotChromatogram(\"DYASIDAAPEER\", 2, mz_tol=20, rt_window=200, im_window=None, smooth=True)"
   ]
  },
  {
   "cell_type": "markdown",
   "id": "32a1feb3-648e-45a1-9c84-8f97c1d703e5",
   "metadata": {
    "editable": true,
    "slideshow": {
     "slide_type": ""
    },
    "tags": []
   },
   "source": [
    "## More Information"
   ]
  },
  {
   "cell_type": "markdown",
   "id": "84302a40-82f1-4344-9a13-29984f5065fc",
   "metadata": {
    "editable": true,
    "slideshow": {
     "slide_type": ""
    },
    "tags": []
   },
   "source": [
    "For more details on the implementation please checkout the [Python API](../API.rst)."
   ]
  }
 ],
 "metadata": {
  "kernelspec": {
   "display_name": "Python 3 (ipykernel)",
   "language": "python",
   "name": "python3"
  },
  "language_info": {
   "codemirror_mode": {
    "name": "ipython",
    "version": 3
   },
   "file_extension": ".py",
   "mimetype": "text/x-python",
   "name": "python",
   "nbconvert_exporter": "python",
   "pygments_lexer": "ipython3",
   "version": "3.11.10"
  }
 },
 "nbformat": 4,
 "nbformat_minor": 5
}
