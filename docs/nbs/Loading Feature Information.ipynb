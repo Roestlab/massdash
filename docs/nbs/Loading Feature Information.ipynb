{
 "cells": [
  {
   "cell_type": "markdown",
   "id": "bf77e2af-f181-4470-859d-bfccfe625514",
   "metadata": {},
   "source": [
    "# Loading Feature Information"
   ]
  },
  {
   "cell_type": "markdown",
   "id": "218fd1df-10eb-4c05-b3da-75a77cb868be",
   "metadata": {},
   "source": [
    "Regardless of whether a `ChromatogramLoader` or `SpectrumLoader` is used, *Massseer* can read information from the `OpenSwath` or `DIA-NN` output on the features found for a particular peptide. "
   ]
  },
  {
   "cell_type": "markdown",
   "id": "ee86ae1c-dfed-452b-b7e9-a1d4bd657600",
   "metadata": {},
   "source": [
    "As a demonstration, we will compare the features found for the peptide `AFVDFLSDEIK` with a charge state of 2"
   ]
  },
  {
   "cell_type": "code",
   "execution_count": 1,
   "id": "f15a7806-3adb-41be-8d81-5e1eda910d71",
   "metadata": {
    "editable": true,
    "nbsphinx": "hidden",
    "slideshow": {
     "slide_type": ""
    },
    "tags": []
   },
   "outputs": [],
   "source": [
    "# Please run this before executing any cell\n",
    "import os\n",
    "os.chdir(\"../../tests/test_data/\") #### Insert path to data, this is the path to the tutorial data. "
   ]
  },
  {
   "cell_type": "markdown",
   "id": "41187449-e751-44b2-830b-91212c622ac1",
   "metadata": {
    "editable": true,
    "slideshow": {
     "slide_type": ""
    },
    "tags": []
   },
   "source": [
    "## Loading Transition Group Features"
   ]
  },
  {
   "cell_type": "markdown",
   "id": "62c22a79-8d7a-421e-b5ce-6ed79b2f0485",
   "metadata": {},
   "source": [
    "For this example, lets initialize an `MzMLLoader` with both DIA-NN outputs and `OpenSWATH` outputs so that we can compare their features. "
   ]
  },
  {
   "cell_type": "code",
   "execution_count": 2,
   "id": "6436fa7e-b8be-4325-a3b2-905e9b58b22f",
   "metadata": {},
   "outputs": [
    {
     "name": "stdout",
     "output_type": "stream",
     "text": [
      "[2024-01-02 11:48:03,243] MzMLDataAccess - INFO - Opening ionMobilityTest2/ionMobilityTest2.mzML file...: Elapsed 0.09108734130859375 ms\n",
      "[2024-01-02 11:48:03,244] MzMLDataAccess - INFO - There are 125 spectra and 0 chromatograms.\n",
      "[2024-01-02 11:48:03,245] MzMLDataAccess - INFO - There are 25 MS1 spectra and 100 MS2 spectra.\n",
      "[2024-01-02 11:48:03,297] MzMLDataAccess - INFO - Opening ionMobilityTest2/ionMobilityTest2.mzML file...: Elapsed 0.044258832931518555 ms\n",
      "[2024-01-02 11:48:03,298] MzMLDataAccess - INFO - There are 125 spectra and 0 chromatograms.\n",
      "[2024-01-02 11:48:03,299] MzMLDataAccess - INFO - There are 25 MS1 spectra and 100 MS2 spectra.\n"
     ]
    }
   ],
   "source": [
    "from massseer.loaders import MzMLDataLoader\n",
    "loader_osw = MzMLDataLoader(dataFiles=\"ionMobilityTest2/ionMobilityTest2.mzML\",\n",
    "                        rsltsFile=\"ionMobilityTest2/ionMobilityTest2.osw\",\n",
    "                        rsltsFileType=\"OpenSWATH\")\n",
    "\n",
    "loader_diann = MzMLDataLoader(dataFiles=\"ionMobilityTest2/ionMobilityTest2.mzML\",\n",
    "                        rsltsFile=\"ionMobilityTest2/ionMobilityTest2-diannReport.tsv\",\n",
    "                        libraryFile=\"ionMobilityTest2/ionMobilityTest2Library.tsv\",\n",
    "                        rsltsFileType='DIA-NN')"
   ]
  },
  {
   "cell_type": "markdown",
   "id": "208a9271-3735-46fb-8eb8-d72c3838b452",
   "metadata": {},
   "source": [
    "*Massseer* uses `TransitionGroupFeature` information to store metadata on the feature detected. At minimum this contains the retention time boundaries detected by the software tool but other information as described below is also found. "
   ]
  },
  {
   "cell_type": "markdown",
   "id": "f64a16be-660a-4492-a25b-cfbe9531d857",
   "metadata": {},
   "source": [
    "TODO: Other columns and their descriptions."
   ]
  },
  {
   "cell_type": "markdown",
   "id": "c73f8954-e919-44d6-8553-f7c73a33edbd",
   "metadata": {},
   "source": [
    "To load the top  `TransitionGroupFeature` we can use the `loadTopTransitionGroupFeature()` method. "
   ]
  },
  {
   "cell_type": "code",
   "execution_count": 3,
   "id": "292b3c81-4f9b-4d72-a36b-caed53f614ae",
   "metadata": {},
   "outputs": [
    {
     "data": {
      "text/plain": [
       "{'ionMobilityTest2/ionMobilityTest2.mzML': -------- TransitionGroupFeature --------\n",
       " leftBoundary: 6235.8486328125\n",
       " rightBoundary: 6248.42822265625\n",
       " areaIntensity: 332556.620606927\n",
       " consensusApex: 6242.15\n",
       " consensusApexIntensity: 332556.620606927\n",
       " qvalue: 3.5084067486223456e-05\n",
       " consensusApexIM: -1\n",
       " precursor_mz: None\n",
       " precursor_charge: 2\n",
       " product_annotations: None\n",
       " product_mz: None\n",
       " sequence: AFVDFLSDEIK}"
      ]
     },
     "execution_count": 3,
     "metadata": {},
     "output_type": "execute_result"
    }
   ],
   "source": [
    "features_osw = loader_osw.loadTopTransitionGroupFeature(\"AFVDFLSDEIK\", 2)\n",
    "features_osw"
   ]
  },
  {
   "cell_type": "code",
   "execution_count": 4,
   "id": "8a83eead-5269-4b3b-9b65-4b5e74fe4e93",
   "metadata": {},
   "outputs": [
    {
     "data": {
      "text/plain": [
       "{'ionMobilityTest2/ionMobilityTest2.mzML': -------- TransitionGroupFeature --------\n",
       " leftBoundary: 6236.052702\n",
       " rightBoundary: 6248.63205\n",
       " areaIntensity: 1137201.5\n",
       " consensusApex: 6241.44882\n",
       " consensusApexIntensity: None\n",
       " qvalue: 7.964108227e-05\n",
       " consensusApexIM: 0.9800000191\n",
       " precursor_mz: None\n",
       " precursor_charge: 2\n",
       " product_annotations: None\n",
       " product_mz: None\n",
       " sequence: AFVDFLSDEIK}"
      ]
     },
     "execution_count": 4,
     "metadata": {},
     "output_type": "execute_result"
    }
   ],
   "source": [
    "features_diann = loader_diann.loadTopTransitionGroupFeature(\"AFVDFLSDEIK\", 2)\n",
    "features_diann"
   ]
  },
  {
   "cell_type": "markdown",
   "id": "e5a3c6a1-0905-4e93-86dd-8112b0248f29",
   "metadata": {},
   "source": [
    "This method returns a dictionary where the keys are the runnames and the value is a list of TransitionGroupFeatures. "
   ]
  },
  {
   "cell_type": "markdown",
   "id": "c7bdfb24-981d-4c3a-94f1-2a331c4e9df3",
   "metadata": {},
   "source": [
    "Here, we can see that both `OpenSwath` and `DIA-NN` are detecting the same feature since the left and right boundaries and consensusApex are approximately equal. The intensities are different due to the different strategies that `OpenSWATH` and `DIA-NN` use to compute intensity. `OpenSWATH` sums up the intensity across all fragments while `DIA-NN` sums up the intensity across the top 3 fragment ions.  "
   ]
  },
  {
   "cell_type": "markdown",
   "id": "831a5e9d-eb7e-490f-bf0b-86dcf7ccc857",
   "metadata": {
    "editable": true,
    "slideshow": {
     "slide_type": ""
    },
    "tags": []
   },
   "source": [
    "### Loading The Top Transition Group Features as a Pandas DataFrame"
   ]
  },
  {
   "cell_type": "markdown",
   "id": "798d4c4c-79a4-4a3a-802b-f8877809162a",
   "metadata": {
    "editable": true,
    "jp-MarkdownHeadingCollapsed": true,
    "slideshow": {
     "slide_type": ""
    },
    "tags": []
   },
   "source": [
    "For easier data manipulation, *Massseer* can also load feature information directly into a pandas dataframe using the `loadTransitionGroupFeaturesDf` method. However, this limits the usage with downstream *masseer* tools."
   ]
  },
  {
   "cell_type": "code",
   "execution_count": 5,
   "id": "b5297af2-8399-400f-866e-d02debb78bb3",
   "metadata": {
    "editable": true,
    "slideshow": {
     "slide_type": ""
    },
    "tags": []
   },
   "outputs": [
    {
     "data": {
      "text/html": [
       "<div>\n",
       "<style scoped>\n",
       "    .dataframe tbody tr th:only-of-type {\n",
       "        vertical-align: middle;\n",
       "    }\n",
       "\n",
       "    .dataframe tbody tr th {\n",
       "        vertical-align: top;\n",
       "    }\n",
       "\n",
       "    .dataframe thead th {\n",
       "        text-align: right;\n",
       "    }\n",
       "</style>\n",
       "<table border=\"1\" class=\"dataframe\">\n",
       "  <thead>\n",
       "    <tr style=\"text-align: right;\">\n",
       "      <th></th>\n",
       "      <th>filename</th>\n",
       "      <th>feature_id</th>\n",
       "      <th>precursor_id</th>\n",
       "      <th>precursor_mz</th>\n",
       "      <th>precursor_charge</th>\n",
       "      <th>areaIntensity</th>\n",
       "      <th>consensusApexIntensity</th>\n",
       "      <th>sequence</th>\n",
       "      <th>consensusApex</th>\n",
       "      <th>leftBoundary</th>\n",
       "      <th>rightBoundary</th>\n",
       "      <th>consensusApexIM</th>\n",
       "      <th>ms2_dscore</th>\n",
       "      <th>peakgroup_rank</th>\n",
       "      <th>qvalue</th>\n",
       "      <th>run_id</th>\n",
       "    </tr>\n",
       "  </thead>\n",
       "  <tbody>\n",
       "    <tr>\n",
       "      <th>0</th>\n",
       "      <td>ionMobilityTest2/ionMobilityTest2.mzML</td>\n",
       "      <td>-4054571632749145316</td>\n",
       "      <td>33018</td>\n",
       "      <td>642.3295</td>\n",
       "      <td>2</td>\n",
       "      <td>2848190.0</td>\n",
       "      <td>332556.620607</td>\n",
       "      <td>AFVDFLSDEIK</td>\n",
       "      <td>6242.15</td>\n",
       "      <td>6235.848633</td>\n",
       "      <td>6248.428223</td>\n",
       "      <td>-1</td>\n",
       "      <td>5.932165</td>\n",
       "      <td>1.0</td>\n",
       "      <td>0.000035</td>\n",
       "      <td>2870707016753918864</td>\n",
       "    </tr>\n",
       "  </tbody>\n",
       "</table>\n",
       "</div>"
      ],
      "text/plain": [
       "                                 filename           feature_id  precursor_id  \\\n",
       "0  ionMobilityTest2/ionMobilityTest2.mzML -4054571632749145316         33018   \n",
       "\n",
       "   precursor_mz  precursor_charge  areaIntensity  consensusApexIntensity  \\\n",
       "0      642.3295                 2      2848190.0           332556.620607   \n",
       "\n",
       "      sequence  consensusApex  leftBoundary  rightBoundary  consensusApexIM  \\\n",
       "0  AFVDFLSDEIK        6242.15   6235.848633    6248.428223               -1   \n",
       "\n",
       "   ms2_dscore  peakgroup_rank    qvalue               run_id  \n",
       "0    5.932165             1.0  0.000035  2870707016753918864  "
      ]
     },
     "execution_count": 5,
     "metadata": {},
     "output_type": "execute_result"
    }
   ],
   "source": [
    "loader_osw.loadTopTransitionGroupFeatureDf(\"AFVDFLSDEIK\", 2)"
   ]
  },
  {
   "cell_type": "code",
   "execution_count": 6,
   "id": "78441a8e-b4ce-4884-817d-be43af9d733d",
   "metadata": {
    "editable": true,
    "slideshow": {
     "slide_type": ""
    },
    "tags": []
   },
   "outputs": [
    {
     "data": {
      "text/html": [
       "<div>\n",
       "<style scoped>\n",
       "    .dataframe tbody tr th:only-of-type {\n",
       "        vertical-align: middle;\n",
       "    }\n",
       "\n",
       "    .dataframe tbody tr th {\n",
       "        vertical-align: top;\n",
       "    }\n",
       "\n",
       "    .dataframe thead th {\n",
       "        text-align: right;\n",
       "    }\n",
       "</style>\n",
       "<table border=\"1\" class=\"dataframe\">\n",
       "  <thead>\n",
       "    <tr style=\"text-align: right;\">\n",
       "      <th></th>\n",
       "      <th>filename</th>\n",
       "      <th>Run</th>\n",
       "      <th>leftBoundary</th>\n",
       "      <th>rightBoundary</th>\n",
       "      <th>areaIntensity</th>\n",
       "      <th>qvalue</th>\n",
       "      <th>consensusApex</th>\n",
       "      <th>consensusApexIntensity</th>\n",
       "      <th>precursor_charge</th>\n",
       "      <th>sequence</th>\n",
       "      <th>consensusApexIM</th>\n",
       "    </tr>\n",
       "  </thead>\n",
       "  <tbody>\n",
       "    <tr>\n",
       "      <th>0</th>\n",
       "      <td>ionMobilityTest2/ionMobilityTest2.mzML</td>\n",
       "      <td>ionMobilityTest2</td>\n",
       "      <td>6236.052702</td>\n",
       "      <td>6248.63205</td>\n",
       "      <td>1137201.5</td>\n",
       "      <td>0.00008</td>\n",
       "      <td>6241.44882</td>\n",
       "      <td>NaN</td>\n",
       "      <td>2</td>\n",
       "      <td>AFVDFLSDEIK</td>\n",
       "      <td>0.98</td>\n",
       "    </tr>\n",
       "  </tbody>\n",
       "</table>\n",
       "</div>"
      ],
      "text/plain": [
       "                                 filename               Run  leftBoundary  \\\n",
       "0  ionMobilityTest2/ionMobilityTest2.mzML  ionMobilityTest2   6236.052702   \n",
       "\n",
       "   rightBoundary  areaIntensity   qvalue  consensusApex  \\\n",
       "0     6248.63205      1137201.5  0.00008     6241.44882   \n",
       "\n",
       "   consensusApexIntensity  precursor_charge     sequence  consensusApexIM  \n",
       "0                     NaN                 2  AFVDFLSDEIK             0.98  "
      ]
     },
     "execution_count": 6,
     "metadata": {},
     "output_type": "execute_result"
    }
   ],
   "source": [
    "loader_diann.loadTopTransitionGroupFeatureDf(\"AFVDFLSDEIK\", 2)"
   ]
  },
  {
   "cell_type": "markdown",
   "id": "270d5109-eff2-4175-8059-b1075cb9f284",
   "metadata": {},
   "source": [
    "## Loading All TransitionGroupFeatures"
   ]
  },
  {
   "cell_type": "markdown",
   "id": "4c362f23-66ef-4ca9-8d82-104b37865b3c",
   "metadata": {},
   "source": [
    "By default, `OpenSWATH` computes several features for a target peptide and the top feature is determined by `PyProphet` to load all of the features identified by `OpenSwath` for a particular precursor, we can use the `loadTransitionGroupFeatures` method. "
   ]
  },
  {
   "cell_type": "code",
   "execution_count": 7,
   "id": "f511c91d-f088-488c-88ff-5c5f56e1383d",
   "metadata": {},
   "outputs": [
    {
     "data": {
      "text/plain": [
       "{'ionMobilityTest2/ionMobilityTest2.mzML': [-------- TransitionGroupFeature --------\n",
       "  leftBoundary: 6235.8486328125\n",
       "  rightBoundary: 6248.42822265625\n",
       "  areaIntensity: 2848190.0\n",
       "  consensusApex: 6242.15\n",
       "  consensusApexIntensity: 332556.620606927\n",
       "  qvalue: 3.5084067486223456e-05\n",
       "  consensusApexIM: -1\n",
       "  precursor_mz: None\n",
       "  precursor_charge: 2\n",
       "  product_annotations: None\n",
       "  product_mz: None\n",
       "  sequence: AFVDFLSDEIK,\n",
       "  -------- TransitionGroupFeature --------\n",
       "  leftBoundary: 6255.64599609375\n",
       "  rightBoundary: 6266.51513671875\n",
       "  areaIntensity: 35433.9\n",
       "  consensusApex: 6256.67\n",
       "  consensusApexIntensity: 5550.48670984957\n",
       "  qvalue: 0.0001776217262565\n",
       "  consensusApexIM: -1\n",
       "  precursor_mz: None\n",
       "  precursor_charge: 2\n",
       "  product_annotations: None\n",
       "  product_mz: None\n",
       "  sequence: AFVDFLSDEIK]}"
      ]
     },
     "execution_count": 7,
     "metadata": {},
     "output_type": "execute_result"
    }
   ],
   "source": [
    "loader_osw.loadTransitionGroupFeatures(\"AFVDFLSDEIK\", 2)"
   ]
  },
  {
   "cell_type": "markdown",
   "id": "9b3da5d2-bfeb-40c6-ab07-38bff89e994d",
   "metadata": {},
   "source": [
    "This method returns a dictionary where the keys are the run names and the values are a list of all the TransitionGroupFeatures found. Here we can see that `OpenSWATH` finds an additional feature however in general this should be ignore because the top `TransitionGruopFeature` has a lower `q-value` "
   ]
  },
  {
   "cell_type": "markdown",
   "id": "d5bbc4e8-e2a1-4d8b-8bc5-db290ba2de56",
   "metadata": {},
   "source": [
    "<div class=\"alert alert-info\">\n",
    "\n",
    "**Note:**\n",
    "\n",
    "DIA-NN only outputs one feature per precursor so calling the `loadTransitionGroupFeatures()` method will output esentially the same (only difference is that `loadTransitionGroupFeatures()` outputs a list of `TransitionGroupFeatures`)   \n",
    "\n",
    "</div>"
   ]
  },
  {
   "cell_type": "code",
   "execution_count": 8,
   "id": "d41149bb-51c9-4013-8c24-bb35c2f6065a",
   "metadata": {},
   "outputs": [
    {
     "data": {
      "text/plain": [
       "{'ionMobilityTest2/ionMobilityTest2.mzML': [-------- TransitionGroupFeature --------\n",
       "  leftBoundary: 6236.052702\n",
       "  rightBoundary: 6248.63205\n",
       "  areaIntensity: 1137201.5\n",
       "  consensusApex: 6241.44882\n",
       "  consensusApexIntensity: None\n",
       "  qvalue: 7.964108227e-05\n",
       "  consensusApexIM: 0.9800000191\n",
       "  precursor_mz: None\n",
       "  precursor_charge: 2\n",
       "  product_annotations: None\n",
       "  product_mz: None\n",
       "  sequence: AFVDFLSDEIK]}"
      ]
     },
     "execution_count": 8,
     "metadata": {},
     "output_type": "execute_result"
    }
   ],
   "source": [
    "loader_diann.loadTransitionGroupFeatures(\"AFVDFLSDEIK\", 2)"
   ]
  },
  {
   "cell_type": "markdown",
   "id": "b18e520d-272b-4ce0-b65a-5c7598db1d95",
   "metadata": {},
   "source": [
    "## Loading All TransitionGroupFeatures In a Pandas DataFrame"
   ]
  },
  {
   "cell_type": "markdown",
   "id": "f1e2db32-6ac8-4389-a559-5d5b6626d68a",
   "metadata": {},
   "source": [
    "To load all TransitionGroupFeatures in a pandas dataframe, the `loadTransitionGroupFeaturesDf()` method can be used. "
   ]
  },
  {
   "cell_type": "code",
   "execution_count": 9,
   "id": "4cde28b7-f917-417d-b0e8-e4d701c59c1a",
   "metadata": {},
   "outputs": [
    {
     "data": {
      "text/html": [
       "<div>\n",
       "<style scoped>\n",
       "    .dataframe tbody tr th:only-of-type {\n",
       "        vertical-align: middle;\n",
       "    }\n",
       "\n",
       "    .dataframe tbody tr th {\n",
       "        vertical-align: top;\n",
       "    }\n",
       "\n",
       "    .dataframe thead th {\n",
       "        text-align: right;\n",
       "    }\n",
       "</style>\n",
       "<table border=\"1\" class=\"dataframe\">\n",
       "  <thead>\n",
       "    <tr style=\"text-align: right;\">\n",
       "      <th></th>\n",
       "      <th>filename</th>\n",
       "      <th>feature_id</th>\n",
       "      <th>precursor_id</th>\n",
       "      <th>precursor_mz</th>\n",
       "      <th>precursor_charge</th>\n",
       "      <th>areaIntensity</th>\n",
       "      <th>consensusApexIntensity</th>\n",
       "      <th>sequence</th>\n",
       "      <th>consensusApex</th>\n",
       "      <th>leftBoundary</th>\n",
       "      <th>rightBoundary</th>\n",
       "      <th>consensusApexIM</th>\n",
       "      <th>ms2_dscore</th>\n",
       "      <th>peakgroup_rank</th>\n",
       "      <th>qvalue</th>\n",
       "      <th>run_id</th>\n",
       "    </tr>\n",
       "  </thead>\n",
       "  <tbody>\n",
       "    <tr>\n",
       "      <th>0</th>\n",
       "      <td>ionMobilityTest2/ionMobilityTest2.mzML</td>\n",
       "      <td>-4054571632749145316</td>\n",
       "      <td>33018</td>\n",
       "      <td>642.3295</td>\n",
       "      <td>2</td>\n",
       "      <td>2848190.0</td>\n",
       "      <td>332556.620607</td>\n",
       "      <td>AFVDFLSDEIK</td>\n",
       "      <td>6242.15</td>\n",
       "      <td>6235.848633</td>\n",
       "      <td>6248.428223</td>\n",
       "      <td>-1</td>\n",
       "      <td>5.932165</td>\n",
       "      <td>1.0</td>\n",
       "      <td>0.000035</td>\n",
       "      <td>2870707016753918864</td>\n",
       "    </tr>\n",
       "    <tr>\n",
       "      <th>1</th>\n",
       "      <td>ionMobilityTest2/ionMobilityTest2.mzML</td>\n",
       "      <td>8869432762985074175</td>\n",
       "      <td>33018</td>\n",
       "      <td>642.3295</td>\n",
       "      <td>2</td>\n",
       "      <td>35433.9</td>\n",
       "      <td>5550.486710</td>\n",
       "      <td>AFVDFLSDEIK</td>\n",
       "      <td>6256.67</td>\n",
       "      <td>6255.645996</td>\n",
       "      <td>6266.515137</td>\n",
       "      <td>-1</td>\n",
       "      <td>5.131462</td>\n",
       "      <td>2.0</td>\n",
       "      <td>0.000178</td>\n",
       "      <td>2870707016753918864</td>\n",
       "    </tr>\n",
       "  </tbody>\n",
       "</table>\n",
       "</div>"
      ],
      "text/plain": [
       "                                 filename           feature_id  precursor_id  \\\n",
       "0  ionMobilityTest2/ionMobilityTest2.mzML -4054571632749145316         33018   \n",
       "1  ionMobilityTest2/ionMobilityTest2.mzML  8869432762985074175         33018   \n",
       "\n",
       "   precursor_mz  precursor_charge  areaIntensity  consensusApexIntensity  \\\n",
       "0      642.3295                 2      2848190.0           332556.620607   \n",
       "1      642.3295                 2        35433.9             5550.486710   \n",
       "\n",
       "      sequence  consensusApex  leftBoundary  rightBoundary  consensusApexIM  \\\n",
       "0  AFVDFLSDEIK        6242.15   6235.848633    6248.428223               -1   \n",
       "1  AFVDFLSDEIK        6256.67   6255.645996    6266.515137               -1   \n",
       "\n",
       "   ms2_dscore  peakgroup_rank    qvalue               run_id  \n",
       "0    5.932165             1.0  0.000035  2870707016753918864  \n",
       "1    5.131462             2.0  0.000178  2870707016753918864  "
      ]
     },
     "execution_count": 9,
     "metadata": {},
     "output_type": "execute_result"
    }
   ],
   "source": [
    "features_df_osw = loader_osw.loadTransitionGroupFeaturesDf(\"AFVDFLSDEIK\", 2)\n",
    "features_df_osw"
   ]
  },
  {
   "cell_type": "markdown",
   "id": "e8ef2e2b-12bf-4c3a-a0de-708a9f7e72ff",
   "metadata": {},
   "source": [
    "Althuogh the Pandas DataFrame output is incompatible with further *Masseer* analysis, the pandas dataframe allows for greater flexibity with alternative analysis. For example, we can calculate the peakWidth of all features as shown below."
   ]
  },
  {
   "cell_type": "code",
   "execution_count": 10,
   "id": "d8e60660-c069-4c15-a532-d869eeee4d84",
   "metadata": {
    "editable": true,
    "slideshow": {
     "slide_type": ""
    },
    "tags": []
   },
   "outputs": [
    {
     "data": {
      "text/html": [
       "<div>\n",
       "<style scoped>\n",
       "    .dataframe tbody tr th:only-of-type {\n",
       "        vertical-align: middle;\n",
       "    }\n",
       "\n",
       "    .dataframe tbody tr th {\n",
       "        vertical-align: top;\n",
       "    }\n",
       "\n",
       "    .dataframe thead th {\n",
       "        text-align: right;\n",
       "    }\n",
       "</style>\n",
       "<table border=\"1\" class=\"dataframe\">\n",
       "  <thead>\n",
       "    <tr style=\"text-align: right;\">\n",
       "      <th></th>\n",
       "      <th>filename</th>\n",
       "      <th>feature_id</th>\n",
       "      <th>precursor_id</th>\n",
       "      <th>precursor_mz</th>\n",
       "      <th>precursor_charge</th>\n",
       "      <th>areaIntensity</th>\n",
       "      <th>consensusApexIntensity</th>\n",
       "      <th>sequence</th>\n",
       "      <th>consensusApex</th>\n",
       "      <th>leftBoundary</th>\n",
       "      <th>rightBoundary</th>\n",
       "      <th>consensusApexIM</th>\n",
       "      <th>ms2_dscore</th>\n",
       "      <th>peakgroup_rank</th>\n",
       "      <th>qvalue</th>\n",
       "      <th>run_id</th>\n",
       "      <th>peakWidth</th>\n",
       "    </tr>\n",
       "  </thead>\n",
       "  <tbody>\n",
       "    <tr>\n",
       "      <th>0</th>\n",
       "      <td>ionMobilityTest2/ionMobilityTest2.mzML</td>\n",
       "      <td>-4054571632749145316</td>\n",
       "      <td>33018</td>\n",
       "      <td>642.3295</td>\n",
       "      <td>2</td>\n",
       "      <td>2848190.0</td>\n",
       "      <td>332556.620607</td>\n",
       "      <td>AFVDFLSDEIK</td>\n",
       "      <td>6242.15</td>\n",
       "      <td>6235.848633</td>\n",
       "      <td>6248.428223</td>\n",
       "      <td>-1</td>\n",
       "      <td>5.932165</td>\n",
       "      <td>1.0</td>\n",
       "      <td>0.000035</td>\n",
       "      <td>2870707016753918864</td>\n",
       "      <td>12.579590</td>\n",
       "    </tr>\n",
       "    <tr>\n",
       "      <th>1</th>\n",
       "      <td>ionMobilityTest2/ionMobilityTest2.mzML</td>\n",
       "      <td>8869432762985074175</td>\n",
       "      <td>33018</td>\n",
       "      <td>642.3295</td>\n",
       "      <td>2</td>\n",
       "      <td>35433.9</td>\n",
       "      <td>5550.486710</td>\n",
       "      <td>AFVDFLSDEIK</td>\n",
       "      <td>6256.67</td>\n",
       "      <td>6255.645996</td>\n",
       "      <td>6266.515137</td>\n",
       "      <td>-1</td>\n",
       "      <td>5.131462</td>\n",
       "      <td>2.0</td>\n",
       "      <td>0.000178</td>\n",
       "      <td>2870707016753918864</td>\n",
       "      <td>10.869141</td>\n",
       "    </tr>\n",
       "  </tbody>\n",
       "</table>\n",
       "</div>"
      ],
      "text/plain": [
       "                                 filename           feature_id  precursor_id  \\\n",
       "0  ionMobilityTest2/ionMobilityTest2.mzML -4054571632749145316         33018   \n",
       "1  ionMobilityTest2/ionMobilityTest2.mzML  8869432762985074175         33018   \n",
       "\n",
       "   precursor_mz  precursor_charge  areaIntensity  consensusApexIntensity  \\\n",
       "0      642.3295                 2      2848190.0           332556.620607   \n",
       "1      642.3295                 2        35433.9             5550.486710   \n",
       "\n",
       "      sequence  consensusApex  leftBoundary  rightBoundary  consensusApexIM  \\\n",
       "0  AFVDFLSDEIK        6242.15   6235.848633    6248.428223               -1   \n",
       "1  AFVDFLSDEIK        6256.67   6255.645996    6266.515137               -1   \n",
       "\n",
       "   ms2_dscore  peakgroup_rank    qvalue               run_id  peakWidth  \n",
       "0    5.932165             1.0  0.000035  2870707016753918864  12.579590  \n",
       "1    5.131462             2.0  0.000178  2870707016753918864  10.869141  "
      ]
     },
     "execution_count": 10,
     "metadata": {},
     "output_type": "execute_result"
    }
   ],
   "source": [
    "features_df_osw['peakWidth'] = features_df_osw['rightBoundary'] - features_df_osw['leftBoundary']\n",
    "features_df_osw"
   ]
  },
  {
   "cell_type": "markdown",
   "id": "c71db448-905f-47f0-9fe1-e0ede2dbe467",
   "metadata": {
    "editable": true,
    "slideshow": {
     "slide_type": ""
    },
    "tags": []
   },
   "source": [
    "We can also just load the top features in a dataframe if desired."
   ]
  },
  {
   "cell_type": "markdown",
   "id": "c7238cf3-aad0-445d-8e49-891a461fa25e",
   "metadata": {},
   "source": [
    "Proof Intensities are the same"
   ]
  },
  {
   "cell_type": "code",
   "execution_count": 11,
   "id": "0bfaa924-653a-44a4-9fea-9142c924128d",
   "metadata": {},
   "outputs": [
    {
     "data": {
      "text/plain": [
       "3079256.37492"
      ]
     },
     "execution_count": 11,
     "metadata": {},
     "output_type": "execute_result"
    }
   ],
   "source": [
    "import pandas as pd\n",
    "df = pd.read_csv(\"ionMobilityTest2/ionMobilityTest2-diannReport.tsv\", sep='\\t')\n",
    "sum([ float(i) for i in df['Fragment.Quant.Raw'].iloc[1].split(';')[:-1] ])"
   ]
  },
  {
   "cell_type": "code",
   "execution_count": null,
   "id": "a1d879fb-aecd-4f33-8f57-19fc5ab47d0f",
   "metadata": {},
   "outputs": [],
   "source": []
  }
 ],
 "metadata": {
  "kernelspec": {
   "display_name": "Python 3 (ipykernel)",
   "language": "python",
   "name": "python3"
  },
  "language_info": {
   "codemirror_mode": {
    "name": "ipython",
    "version": 3
   },
   "file_extension": ".py",
   "mimetype": "text/x-python",
   "name": "python",
   "nbconvert_exporter": "python",
   "pygments_lexer": "ipython3",
   "version": "3.9.18"
  }
 },
 "nbformat": 4,
 "nbformat_minor": 5
}
