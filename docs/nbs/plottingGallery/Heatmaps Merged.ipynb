{
 "cells": [
  {
   "cell_type": "markdown",
   "id": "5f66cc36-2ca9-4c86-b2fd-7d3bc0c185aa",
   "metadata": {
    "editable": true,
    "slideshow": {
     "slide_type": ""
    },
    "tags": []
   },
   "source": [
    "# Heatmap Merged Across Transitions "
   ]
  },
  {
   "cell_type": "raw",
   "id": "25f013fb-2a84-4c2e-8c9e-08b9aa8b7f19",
   "metadata": {
    "editable": true,
    "raw_mimetype": "text/restructuredtext",
    "slideshow": {
     "slide_type": ""
    },
    "tags": []
   },
   "source": [
    "    Input: :py:class:`~massdash.structs.FeatureMap`"
   ]
  },
  {
   "cell_type": "markdown",
   "id": "460b7395-8ff7-41cf-92ee-68af77b10605",
   "metadata": {
    "editable": true,
    "slideshow": {
     "slide_type": ""
    },
    "tags": []
   },
   "source": [
    "In this plot the signals from all transitions are merged into one heatmap."
   ]
  },
  {
   "cell_type": "markdown",
   "id": "5cd87246-e666-4ec1-8767-e2710f21dc98",
   "metadata": {
    "editable": true,
    "slideshow": {
     "slide_type": ""
    },
    "tags": []
   },
   "source": [
    "By changing the `type_of_heatmap` in the <link PlotConfig, we can plot different axis against one another. "
   ]
  },
  {
   "cell_type": "markdown",
   "id": "109a0b12-a22f-4b13-8923-08cdb7b8c0be",
   "metadata": {
    "editable": true,
    "raw_mimetype": "",
    "slideshow": {
     "slide_type": ""
    },
    "tags": []
   },
   "source": [
    "Options are:\n",
    "\n",
    "1. m/z vs retention time\n",
    "2. m/z vs ion mobility\n",
    "3. retention time vs ion mobility"
   ]
  },
  {
   "cell_type": "code",
   "execution_count": 1,
   "id": "856cd75e-038e-458e-a0fc-b93b4083727a",
   "metadata": {
    "editable": true,
    "nbsphinx": "hidden",
    "slideshow": {
     "slide_type": ""
    },
    "tags": []
   },
   "outputs": [],
   "source": [
    "%load_ext autoreload \n",
    "%autoreload 2"
   ]
  },
  {
   "cell_type": "code",
   "execution_count": 2,
   "id": "c9a89257-de1d-42c4-bc47-089581152abb",
   "metadata": {
    "editable": true,
    "nbsphinx": "hidden",
    "slideshow": {
     "slide_type": ""
    },
    "tags": []
   },
   "outputs": [],
   "source": [
    "# Please run this before executing any cell\n",
    "import os\n",
    "os.chdir(\"../../../test/test_data/\") #### Insert path to data, this is the path to the tutorial data. "
   ]
  },
  {
   "cell_type": "markdown",
   "id": "a8a98079-d5f9-4411-8c55-d43b9a6225f5",
   "metadata": {
    "editable": true,
    "slideshow": {
     "slide_type": ""
    },
    "tags": []
   },
   "source": [
    "## Load FeatureMap"
   ]
  },
  {
   "cell_type": "code",
   "execution_count": 3,
   "id": "366c87f2-5b42-4d81-be41-6d627cb1b399",
   "metadata": {
    "editable": true,
    "slideshow": {
     "slide_type": ""
    },
    "tags": []
   },
   "outputs": [
    {
     "name": "stdout",
     "output_type": "stream",
     "text": [
      "[2024-01-12 10:58:10,291] MzMLDataAccess - INFO - Opening mzml/ionMobilityTest.mzML file...: Elapsed 0.08508515357971191 ms\n",
      "[2024-01-12 10:58:10,292] MzMLDataAccess - INFO - There are 50 spectra and 0 chromatograms.\n",
      "[2024-01-12 10:58:10,292] MzMLDataAccess - INFO - There are 25 MS1 spectra and 25 MS2 spectra.\n"
     ]
    }
   ],
   "source": [
    "from massdash.loaders import MzMLDataLoader\n",
    "from massdash.structs import TargetedDIAConfig\n",
    "\n",
    "# Initate TargetedDIAConfig and set parameters\n",
    "extraction_config = TargetedDIAConfig()\n",
    "extraction_config.im_window = 0.2\n",
    "extraction_config.rt_window = 50\n",
    "extraction_config.mz_tol = 20\n",
    "\n",
    "# Initiate loader object\n",
    "loader = MzMLDataLoader(dataFiles=\"mzml/ionMobilityTest.mzML\",\n",
    "                        rsltsFile=\"osw/ionMobilityTest.osw\",\n",
    "                        rsltsFileType=\"OpenSWATH\")\n",
    "\n",
    "# fetch featureMap for target peptide\n",
    "featureMap = loader.loadFeatureMaps(\"AFVDFLSDEIK\", 2, extraction_config)['mzml/ionMobilityTest.mzML']"
   ]
  },
  {
   "cell_type": "markdown",
   "id": "5e9f35c0-eaf7-4173-b5f8-0ea94afddde1",
   "metadata": {
    "editable": true,
    "slideshow": {
     "slide_type": ""
    },
    "tags": []
   },
   "source": [
    "## Plot Recipe"
   ]
  },
  {
   "cell_type": "markdown",
   "id": "130f8c86-3dd0-4860-a13e-33539ea6c142",
   "metadata": {
    "editable": true,
    "slideshow": {
     "slide_type": ""
    },
    "tags": []
   },
   "source": [
    "For demonstration purposes, `retention time vs ion mobility` is shown but this can be changes by changing to the other config.type_of_heatmap statements."
   ]
  },
  {
   "cell_type": "code",
   "execution_count": 7,
   "id": "a7bab367-86ad-4eb8-9f9f-e0b9b5383cb5",
   "metadata": {
    "editable": true,
    "slideshow": {
     "slide_type": ""
    },
    "tags": []
   },
   "outputs": [
    {
     "data": {
      "text/html": [
       "<div class=\"bk-root\">\n",
       "        <a href=\"https://bokeh.org\" target=\"_blank\" class=\"bk-logo bk-logo-small bk-logo-notebook\"></a>\n",
       "        <span id=\"1288\">Loading BokehJS ...</span>\n",
       "    </div>\n"
      ]
     },
     "metadata": {},
     "output_type": "display_data"
    },
    {
     "data": {
      "application/javascript": [
       "(function(root) {\n",
       "  function now() {\n",
       "    return new Date();\n",
       "  }\n",
       "\n",
       "  const force = true;\n",
       "\n",
       "  if (typeof root._bokeh_onload_callbacks === \"undefined\" || force === true) {\n",
       "    root._bokeh_onload_callbacks = [];\n",
       "    root._bokeh_is_loading = undefined;\n",
       "  }\n",
       "\n",
       "const JS_MIME_TYPE = 'application/javascript';\n",
       "  const HTML_MIME_TYPE = 'text/html';\n",
       "  const EXEC_MIME_TYPE = 'application/vnd.bokehjs_exec.v0+json';\n",
       "  const CLASS_NAME = 'output_bokeh rendered_html';\n",
       "\n",
       "  /**\n",
       "   * Render data to the DOM node\n",
       "   */\n",
       "  function render(props, node) {\n",
       "    const script = document.createElement(\"script\");\n",
       "    node.appendChild(script);\n",
       "  }\n",
       "\n",
       "  /**\n",
       "   * Handle when an output is cleared or removed\n",
       "   */\n",
       "  function handleClearOutput(event, handle) {\n",
       "    const cell = handle.cell;\n",
       "\n",
       "    const id = cell.output_area._bokeh_element_id;\n",
       "    const server_id = cell.output_area._bokeh_server_id;\n",
       "    // Clean up Bokeh references\n",
       "    if (id != null && id in Bokeh.index) {\n",
       "      Bokeh.index[id].model.document.clear();\n",
       "      delete Bokeh.index[id];\n",
       "    }\n",
       "\n",
       "    if (server_id !== undefined) {\n",
       "      // Clean up Bokeh references\n",
       "      const cmd_clean = \"from bokeh.io.state import curstate; print(curstate().uuid_to_server['\" + server_id + \"'].get_sessions()[0].document.roots[0]._id)\";\n",
       "      cell.notebook.kernel.execute(cmd_clean, {\n",
       "        iopub: {\n",
       "          output: function(msg) {\n",
       "            const id = msg.content.text.trim();\n",
       "            if (id in Bokeh.index) {\n",
       "              Bokeh.index[id].model.document.clear();\n",
       "              delete Bokeh.index[id];\n",
       "            }\n",
       "          }\n",
       "        }\n",
       "      });\n",
       "      // Destroy server and session\n",
       "      const cmd_destroy = \"import bokeh.io.notebook as ion; ion.destroy_server('\" + server_id + \"')\";\n",
       "      cell.notebook.kernel.execute(cmd_destroy);\n",
       "    }\n",
       "  }\n",
       "\n",
       "  /**\n",
       "   * Handle when a new output is added\n",
       "   */\n",
       "  function handleAddOutput(event, handle) {\n",
       "    const output_area = handle.output_area;\n",
       "    const output = handle.output;\n",
       "\n",
       "    // limit handleAddOutput to display_data with EXEC_MIME_TYPE content only\n",
       "    if ((output.output_type != \"display_data\") || (!Object.prototype.hasOwnProperty.call(output.data, EXEC_MIME_TYPE))) {\n",
       "      return\n",
       "    }\n",
       "\n",
       "    const toinsert = output_area.element.find(\".\" + CLASS_NAME.split(' ')[0]);\n",
       "\n",
       "    if (output.metadata[EXEC_MIME_TYPE][\"id\"] !== undefined) {\n",
       "      toinsert[toinsert.length - 1].firstChild.textContent = output.data[JS_MIME_TYPE];\n",
       "      // store reference to embed id on output_area\n",
       "      output_area._bokeh_element_id = output.metadata[EXEC_MIME_TYPE][\"id\"];\n",
       "    }\n",
       "    if (output.metadata[EXEC_MIME_TYPE][\"server_id\"] !== undefined) {\n",
       "      const bk_div = document.createElement(\"div\");\n",
       "      bk_div.innerHTML = output.data[HTML_MIME_TYPE];\n",
       "      const script_attrs = bk_div.children[0].attributes;\n",
       "      for (let i = 0; i < script_attrs.length; i++) {\n",
       "        toinsert[toinsert.length - 1].firstChild.setAttribute(script_attrs[i].name, script_attrs[i].value);\n",
       "        toinsert[toinsert.length - 1].firstChild.textContent = bk_div.children[0].textContent\n",
       "      }\n",
       "      // store reference to server id on output_area\n",
       "      output_area._bokeh_server_id = output.metadata[EXEC_MIME_TYPE][\"server_id\"];\n",
       "    }\n",
       "  }\n",
       "\n",
       "  function register_renderer(events, OutputArea) {\n",
       "\n",
       "    function append_mime(data, metadata, element) {\n",
       "      // create a DOM node to render to\n",
       "      const toinsert = this.create_output_subarea(\n",
       "        metadata,\n",
       "        CLASS_NAME,\n",
       "        EXEC_MIME_TYPE\n",
       "      );\n",
       "      this.keyboard_manager.register_events(toinsert);\n",
       "      // Render to node\n",
       "      const props = {data: data, metadata: metadata[EXEC_MIME_TYPE]};\n",
       "      render(props, toinsert[toinsert.length - 1]);\n",
       "      element.append(toinsert);\n",
       "      return toinsert\n",
       "    }\n",
       "\n",
       "    /* Handle when an output is cleared or removed */\n",
       "    events.on('clear_output.CodeCell', handleClearOutput);\n",
       "    events.on('delete.Cell', handleClearOutput);\n",
       "\n",
       "    /* Handle when a new output is added */\n",
       "    events.on('output_added.OutputArea', handleAddOutput);\n",
       "\n",
       "    /**\n",
       "     * Register the mime type and append_mime function with output_area\n",
       "     */\n",
       "    OutputArea.prototype.register_mime_type(EXEC_MIME_TYPE, append_mime, {\n",
       "      /* Is output safe? */\n",
       "      safe: true,\n",
       "      /* Index of renderer in `output_area.display_order` */\n",
       "      index: 0\n",
       "    });\n",
       "  }\n",
       "\n",
       "  // register the mime type if in Jupyter Notebook environment and previously unregistered\n",
       "  if (root.Jupyter !== undefined) {\n",
       "    const events = require('base/js/events');\n",
       "    const OutputArea = require('notebook/js/outputarea').OutputArea;\n",
       "\n",
       "    if (OutputArea.prototype.mime_types().indexOf(EXEC_MIME_TYPE) == -1) {\n",
       "      register_renderer(events, OutputArea);\n",
       "    }\n",
       "  }\n",
       "  if (typeof (root._bokeh_timeout) === \"undefined\" || force === true) {\n",
       "    root._bokeh_timeout = Date.now() + 5000;\n",
       "    root._bokeh_failed_load = false;\n",
       "  }\n",
       "\n",
       "  const NB_LOAD_WARNING = {'data': {'text/html':\n",
       "     \"<div style='background-color: #fdd'>\\n\"+\n",
       "     \"<p>\\n\"+\n",
       "     \"BokehJS does not appear to have successfully loaded. If loading BokehJS from CDN, this \\n\"+\n",
       "     \"may be due to a slow or bad network connection. Possible fixes:\\n\"+\n",
       "     \"</p>\\n\"+\n",
       "     \"<ul>\\n\"+\n",
       "     \"<li>re-rerun `output_notebook()` to attempt to load from CDN again, or</li>\\n\"+\n",
       "     \"<li>use INLINE resources instead, as so:</li>\\n\"+\n",
       "     \"</ul>\\n\"+\n",
       "     \"<code>\\n\"+\n",
       "     \"from bokeh.resources import INLINE\\n\"+\n",
       "     \"output_notebook(resources=INLINE)\\n\"+\n",
       "     \"</code>\\n\"+\n",
       "     \"</div>\"}};\n",
       "\n",
       "  function display_loaded() {\n",
       "    const el = document.getElementById(\"1288\");\n",
       "    if (el != null) {\n",
       "      el.textContent = \"BokehJS is loading...\";\n",
       "    }\n",
       "    if (root.Bokeh !== undefined) {\n",
       "      if (el != null) {\n",
       "        el.textContent = \"BokehJS \" + root.Bokeh.version + \" successfully loaded.\";\n",
       "      }\n",
       "    } else if (Date.now() < root._bokeh_timeout) {\n",
       "      setTimeout(display_loaded, 100)\n",
       "    }\n",
       "  }\n",
       "\n",
       "  function run_callbacks() {\n",
       "    try {\n",
       "      root._bokeh_onload_callbacks.forEach(function(callback) {\n",
       "        if (callback != null)\n",
       "          callback();\n",
       "      });\n",
       "    } finally {\n",
       "      delete root._bokeh_onload_callbacks\n",
       "    }\n",
       "    console.debug(\"Bokeh: all callbacks have finished\");\n",
       "  }\n",
       "\n",
       "  function load_libs(css_urls, js_urls, callback) {\n",
       "    if (css_urls == null) css_urls = [];\n",
       "    if (js_urls == null) js_urls = [];\n",
       "\n",
       "    root._bokeh_onload_callbacks.push(callback);\n",
       "    if (root._bokeh_is_loading > 0) {\n",
       "      console.debug(\"Bokeh: BokehJS is being loaded, scheduling callback at\", now());\n",
       "      return null;\n",
       "    }\n",
       "    if (js_urls == null || js_urls.length === 0) {\n",
       "      run_callbacks();\n",
       "      return null;\n",
       "    }\n",
       "    console.debug(\"Bokeh: BokehJS not loaded, scheduling load and callback at\", now());\n",
       "    root._bokeh_is_loading = css_urls.length + js_urls.length;\n",
       "\n",
       "    function on_load() {\n",
       "      root._bokeh_is_loading--;\n",
       "      if (root._bokeh_is_loading === 0) {\n",
       "        console.debug(\"Bokeh: all BokehJS libraries/stylesheets loaded\");\n",
       "        run_callbacks()\n",
       "      }\n",
       "    }\n",
       "\n",
       "    function on_error(url) {\n",
       "      console.error(\"failed to load \" + url);\n",
       "    }\n",
       "\n",
       "    for (let i = 0; i < css_urls.length; i++) {\n",
       "      const url = css_urls[i];\n",
       "      const element = document.createElement(\"link\");\n",
       "      element.onload = on_load;\n",
       "      element.onerror = on_error.bind(null, url);\n",
       "      element.rel = \"stylesheet\";\n",
       "      element.type = \"text/css\";\n",
       "      element.href = url;\n",
       "      console.debug(\"Bokeh: injecting link tag for BokehJS stylesheet: \", url);\n",
       "      document.body.appendChild(element);\n",
       "    }\n",
       "\n",
       "    for (let i = 0; i < js_urls.length; i++) {\n",
       "      const url = js_urls[i];\n",
       "      const element = document.createElement('script');\n",
       "      element.onload = on_load;\n",
       "      element.onerror = on_error.bind(null, url);\n",
       "      element.async = false;\n",
       "      element.src = url;\n",
       "      console.debug(\"Bokeh: injecting script tag for BokehJS library: \", url);\n",
       "      document.head.appendChild(element);\n",
       "    }\n",
       "  };\n",
       "\n",
       "  function inject_raw_css(css) {\n",
       "    const element = document.createElement(\"style\");\n",
       "    element.appendChild(document.createTextNode(css));\n",
       "    document.body.appendChild(element);\n",
       "  }\n",
       "\n",
       "  const js_urls = [\"https://cdn.bokeh.org/bokeh/release/bokeh-2.4.3.min.js\", \"https://cdn.bokeh.org/bokeh/release/bokeh-gl-2.4.3.min.js\", \"https://cdn.bokeh.org/bokeh/release/bokeh-widgets-2.4.3.min.js\", \"https://cdn.bokeh.org/bokeh/release/bokeh-tables-2.4.3.min.js\", \"https://cdn.bokeh.org/bokeh/release/bokeh-mathjax-2.4.3.min.js\"];\n",
       "  const css_urls = [];\n",
       "\n",
       "  const inline_js = [    function(Bokeh) {\n",
       "      Bokeh.set_log_level(\"info\");\n",
       "    },\n",
       "function(Bokeh) {\n",
       "    }\n",
       "  ];\n",
       "\n",
       "  function run_inline_js() {\n",
       "    if (root.Bokeh !== undefined || force === true) {\n",
       "          for (let i = 0; i < inline_js.length; i++) {\n",
       "      inline_js[i].call(root, root.Bokeh);\n",
       "    }\n",
       "if (force === true) {\n",
       "        display_loaded();\n",
       "      }} else if (Date.now() < root._bokeh_timeout) {\n",
       "      setTimeout(run_inline_js, 100);\n",
       "    } else if (!root._bokeh_failed_load) {\n",
       "      console.log(\"Bokeh: BokehJS failed to load within specified timeout.\");\n",
       "      root._bokeh_failed_load = true;\n",
       "    } else if (force !== true) {\n",
       "      const cell = $(document.getElementById(\"1288\")).parents('.cell').data().cell;\n",
       "      cell.output_area.append_execute_result(NB_LOAD_WARNING)\n",
       "    }\n",
       "  }\n",
       "\n",
       "  if (root._bokeh_is_loading === 0) {\n",
       "    console.debug(\"Bokeh: BokehJS loaded, going straight to plotting\");\n",
       "    run_inline_js();\n",
       "  } else {\n",
       "    load_libs(css_urls, js_urls, function() {\n",
       "      console.debug(\"Bokeh: BokehJS plotting callback run at\", now());\n",
       "      run_inline_js();\n",
       "    });\n",
       "  }\n",
       "}(window));"
      ],
      "application/vnd.bokehjs_load.v0+json": "(function(root) {\n  function now() {\n    return new Date();\n  }\n\n  const force = true;\n\n  if (typeof root._bokeh_onload_callbacks === \"undefined\" || force === true) {\n    root._bokeh_onload_callbacks = [];\n    root._bokeh_is_loading = undefined;\n  }\n\n\n  if (typeof (root._bokeh_timeout) === \"undefined\" || force === true) {\n    root._bokeh_timeout = Date.now() + 5000;\n    root._bokeh_failed_load = false;\n  }\n\n  const NB_LOAD_WARNING = {'data': {'text/html':\n     \"<div style='background-color: #fdd'>\\n\"+\n     \"<p>\\n\"+\n     \"BokehJS does not appear to have successfully loaded. If loading BokehJS from CDN, this \\n\"+\n     \"may be due to a slow or bad network connection. Possible fixes:\\n\"+\n     \"</p>\\n\"+\n     \"<ul>\\n\"+\n     \"<li>re-rerun `output_notebook()` to attempt to load from CDN again, or</li>\\n\"+\n     \"<li>use INLINE resources instead, as so:</li>\\n\"+\n     \"</ul>\\n\"+\n     \"<code>\\n\"+\n     \"from bokeh.resources import INLINE\\n\"+\n     \"output_notebook(resources=INLINE)\\n\"+\n     \"</code>\\n\"+\n     \"</div>\"}};\n\n  function display_loaded() {\n    const el = document.getElementById(\"1288\");\n    if (el != null) {\n      el.textContent = \"BokehJS is loading...\";\n    }\n    if (root.Bokeh !== undefined) {\n      if (el != null) {\n        el.textContent = \"BokehJS \" + root.Bokeh.version + \" successfully loaded.\";\n      }\n    } else if (Date.now() < root._bokeh_timeout) {\n      setTimeout(display_loaded, 100)\n    }\n  }\n\n  function run_callbacks() {\n    try {\n      root._bokeh_onload_callbacks.forEach(function(callback) {\n        if (callback != null)\n          callback();\n      });\n    } finally {\n      delete root._bokeh_onload_callbacks\n    }\n    console.debug(\"Bokeh: all callbacks have finished\");\n  }\n\n  function load_libs(css_urls, js_urls, callback) {\n    if (css_urls == null) css_urls = [];\n    if (js_urls == null) js_urls = [];\n\n    root._bokeh_onload_callbacks.push(callback);\n    if (root._bokeh_is_loading > 0) {\n      console.debug(\"Bokeh: BokehJS is being loaded, scheduling callback at\", now());\n      return null;\n    }\n    if (js_urls == null || js_urls.length === 0) {\n      run_callbacks();\n      return null;\n    }\n    console.debug(\"Bokeh: BokehJS not loaded, scheduling load and callback at\", now());\n    root._bokeh_is_loading = css_urls.length + js_urls.length;\n\n    function on_load() {\n      root._bokeh_is_loading--;\n      if (root._bokeh_is_loading === 0) {\n        console.debug(\"Bokeh: all BokehJS libraries/stylesheets loaded\");\n        run_callbacks()\n      }\n    }\n\n    function on_error(url) {\n      console.error(\"failed to load \" + url);\n    }\n\n    for (let i = 0; i < css_urls.length; i++) {\n      const url = css_urls[i];\n      const element = document.createElement(\"link\");\n      element.onload = on_load;\n      element.onerror = on_error.bind(null, url);\n      element.rel = \"stylesheet\";\n      element.type = \"text/css\";\n      element.href = url;\n      console.debug(\"Bokeh: injecting link tag for BokehJS stylesheet: \", url);\n      document.body.appendChild(element);\n    }\n\n    for (let i = 0; i < js_urls.length; i++) {\n      const url = js_urls[i];\n      const element = document.createElement('script');\n      element.onload = on_load;\n      element.onerror = on_error.bind(null, url);\n      element.async = false;\n      element.src = url;\n      console.debug(\"Bokeh: injecting script tag for BokehJS library: \", url);\n      document.head.appendChild(element);\n    }\n  };\n\n  function inject_raw_css(css) {\n    const element = document.createElement(\"style\");\n    element.appendChild(document.createTextNode(css));\n    document.body.appendChild(element);\n  }\n\n  const js_urls = [\"https://cdn.bokeh.org/bokeh/release/bokeh-2.4.3.min.js\", \"https://cdn.bokeh.org/bokeh/release/bokeh-gl-2.4.3.min.js\", \"https://cdn.bokeh.org/bokeh/release/bokeh-widgets-2.4.3.min.js\", \"https://cdn.bokeh.org/bokeh/release/bokeh-tables-2.4.3.min.js\", \"https://cdn.bokeh.org/bokeh/release/bokeh-mathjax-2.4.3.min.js\"];\n  const css_urls = [];\n\n  const inline_js = [    function(Bokeh) {\n      Bokeh.set_log_level(\"info\");\n    },\nfunction(Bokeh) {\n    }\n  ];\n\n  function run_inline_js() {\n    if (root.Bokeh !== undefined || force === true) {\n          for (let i = 0; i < inline_js.length; i++) {\n      inline_js[i].call(root, root.Bokeh);\n    }\nif (force === true) {\n        display_loaded();\n      }} else if (Date.now() < root._bokeh_timeout) {\n      setTimeout(run_inline_js, 100);\n    } else if (!root._bokeh_failed_load) {\n      console.log(\"Bokeh: BokehJS failed to load within specified timeout.\");\n      root._bokeh_failed_load = true;\n    } else if (force !== true) {\n      const cell = $(document.getElementById(\"1288\")).parents('.cell').data().cell;\n      cell.output_area.append_execute_result(NB_LOAD_WARNING)\n    }\n  }\n\n  if (root._bokeh_is_loading === 0) {\n    console.debug(\"Bokeh: BokehJS loaded, going straight to plotting\");\n    run_inline_js();\n  } else {\n    load_libs(css_urls, js_urls, function() {\n      console.debug(\"Bokeh: BokehJS plotting callback run at\", now());\n      run_inline_js();\n    });\n  }\n}(window));"
     },
     "metadata": {},
     "output_type": "display_data"
    },
    {
     "data": {
      "text/html": [
       "\n",
       "  <div class=\"bk-root\" id=\"3f41fd2c-2d37-4a54-8406-deb786363159\" data-root-id=\"1242\"></div>\n"
      ]
     },
     "metadata": {},
     "output_type": "display_data"
    },
    {
     "data": {
      "application/javascript": [
       "(function(root) {\n",
       "  function embed_document(root) {\n",
       "  const docs_json = {\"ec4d385b-9219-464f-b3e8-1ec29da7de21\":{\"defs\":[],\"roots\":{\"references\":[{\"attributes\":{\"below\":[{\"id\":\"1251\"}],\"center\":[{\"id\":\"1254\"},{\"id\":\"1258\"}],\"left\":[{\"id\":\"1255\"}],\"renderers\":[{\"id\":\"1283\"}],\"title\":{\"id\":\"1311\"},\"toolbar\":{\"id\":\"1266\"},\"x_range\":{\"id\":\"1243\"},\"x_scale\":{\"id\":\"1247\"},\"y_range\":{\"id\":\"1245\"},\"y_scale\":{\"id\":\"1249\"}},\"id\":\"1242\",\"subtype\":\"Figure\",\"type\":\"Plot\"},{\"attributes\":{\"coordinates\":null,\"group\":null},\"id\":\"1311\",\"type\":\"Title\"},{\"attributes\":{\"axis_label\":\"Ion mobility (1/K0)\",\"coordinates\":null,\"formatter\":{\"id\":\"1314\"},\"group\":null,\"major_label_policy\":{\"id\":\"1315\"},\"ticker\":{\"id\":\"1256\"}},\"id\":\"1255\",\"type\":\"LinearAxis\"},{\"attributes\":{\"palette\":[\"#ffffff\",\"#fffffd\",\"#fffffb\",\"#fffff9\",\"#fffff7\",\"#fffff4\",\"#fffff3\",\"#fffff1\",\"#ffffef\",\"#ffffed\",\"#ffffeb\",\"#ffffe9\",\"#ffffe6\",\"#ffffe4\",\"#ffffe3\",\"#ffffe1\",\"#ffffdf\",\"#ffffdd\",\"#ffffdb\",\"#ffffd9\",\"#ffffd7\",\"#ffffd4\",\"#ffffd3\",\"#ffffd1\",\"#ffffcf\",\"#ffffcd\",\"#ffffcb\",\"#ffffc9\",\"#ffffc6\",\"#ffffc4\",\"#ffffc3\",\"#ffffc1\",\"#ffffbf\",\"#ffffbd\",\"#ffffbb\",\"#ffffb9\",\"#ffffb7\",\"#ffffb5\",\"#ffffb3\",\"#ffffb1\",\"#ffffaf\",\"#ffffad\",\"#ffffab\",\"#ffffa8\",\"#ffffa6\",\"#ffffa4\",\"#ffffa3\",\"#ffffa1\",\"#ffff9f\",\"#ffff9d\",\"#ffff9b\",\"#ffff99\",\"#ffff97\",\"#ffff95\",\"#ffff93\",\"#ffff91\",\"#ffff8f\",\"#ffff8d\",\"#ffff8b\",\"#ffff88\",\"#ffff86\",\"#ffff84\",\"#ffff83\",\"#ffff81\",\"#fffe7f\",\"#fffc7d\",\"#fffa7b\",\"#fff879\",\"#fff677\",\"#fff475\",\"#fff272\",\"#fff071\",\"#ffee6f\",\"#ffec6d\",\"#ffea6b\",\"#ffe868\",\"#ffe666\",\"#ffe464\",\"#ffe262\",\"#ffe061\",\"#ffde5f\",\"#ffdc5d\",\"#ffda5b\",\"#ffd859\",\"#ffd657\",\"#ffd455\",\"#ffd252\",\"#ffd051\",\"#ffce4f\",\"#ffcc4d\",\"#ffca4b\",\"#ffc848\",\"#ffc646\",\"#ffc444\",\"#ffc242\",\"#ffc041\",\"#ffbe3f\",\"#ffbc3d\",\"#ffba3b\",\"#ffb839\",\"#ffb637\",\"#ffb435\",\"#ffb232\",\"#ffb030\",\"#ffae2f\",\"#ffac2d\",\"#ffaa2b\",\"#ffa828\",\"#ffa626\",\"#ffa424\",\"#ffa222\",\"#ffa020\",\"#ff9e1f\",\"#ff9c1d\",\"#ff9a1b\",\"#ff9819\",\"#ff9617\",\"#ff9415\",\"#ff9212\",\"#ff9010\",\"#ff8e0f\",\"#ff8c0d\",\"#ff8a0b\",\"#ff8808\",\"#ff8606\",\"#ff8404\",\"#ff8202\",\"#ff8000\",\"#fe7e00\",\"#fc7c00\",\"#fa7a00\",\"#f87800\",\"#f67600\",\"#f37400\",\"#f27200\",\"#f07000\",\"#ee6e00\",\"#ec6c00\",\"#ea6a00\",\"#e86800\",\"#e56600\",\"#e36400\",\"#e26200\",\"#e06000\",\"#de5e00\",\"#dc5c00\",\"#da5a00\",\"#d85800\",\"#d65600\",\"#d35400\",\"#d25200\",\"#d05000\",\"#ce4e00\",\"#cc4c00\",\"#ca4a00\",\"#c84800\",\"#c54600\",\"#c34400\",\"#c24200\",\"#c04000\",\"#be3e00\",\"#bc3c00\",\"#ba3a00\",\"#b83800\",\"#b63600\",\"#b33400\",\"#b23200\",\"#b03000\",\"#ae2e00\",\"#ac2c00\",\"#aa2a00\",\"#a82800\",\"#a52600\",\"#a32400\",\"#a22200\",\"#a02000\",\"#9e1e00\",\"#9c1c00\",\"#9a1a00\",\"#981800\",\"#961600\",\"#931400\",\"#921200\",\"#901000\",\"#8e0e00\",\"#8c0c00\",\"#8a0a00\",\"#880800\",\"#850600\",\"#830400\",\"#820200\",\"#800000\",\"#7e0000\",\"#7c0000\",\"#7a0000\",\"#780000\",\"#760000\",\"#730000\",\"#710000\",\"#700000\",\"#6e0000\",\"#6c0000\",\"#6a0000\",\"#680000\",\"#650000\",\"#630000\",\"#610000\",\"#600000\",\"#5e0000\",\"#5c0000\",\"#5a0000\",\"#580000\",\"#560000\",\"#530000\",\"#510000\",\"#500000\",\"#4e0000\",\"#4c0000\",\"#4a0000\",\"#480000\",\"#450000\",\"#430000\",\"#410000\",\"#400000\",\"#3e0000\",\"#3c0000\",\"#3a0000\",\"#380000\",\"#360000\",\"#330000\",\"#310000\",\"#300000\",\"#2e0000\",\"#2c0000\",\"#2a0000\",\"#280000\",\"#250000\",\"#230000\",\"#210000\",\"#200000\",\"#1e0000\",\"#1c0000\",\"#1a0000\",\"#180000\",\"#160000\",\"#130000\",\"#110000\",\"#100000\",\"#0e0000\",\"#0c0000\",\"#0a0000\",\"#080000\",\"#050000\",\"#030000\",\"#010000\",\"#000000\"]},\"id\":\"1275\",\"type\":\"LinearColorMapper\"},{\"attributes\":{\"axis\":{\"id\":\"1255\"},\"coordinates\":null,\"dimension\":1,\"group\":null,\"ticker\":null,\"visible\":false},\"id\":\"1258\",\"type\":\"Grid\"},{\"attributes\":{\"color_mapper\":{\"id\":\"1281\"},\"dh\":{\"value\":0.19259363412857056},\"dw\":{\"value\":41.51002997585965},\"global_alpha\":{\"value\":0.2},\"image\":{\"field\":\"image\"},\"x\":{\"value\":6225.00510572313},\"y\":{\"value\":0.878601610660553}},\"id\":\"1280\",\"type\":\"Image\"},{\"attributes\":{},\"id\":\"1259\",\"type\":\"PanTool\"},{\"attributes\":{},\"id\":\"1319\",\"type\":\"UnionRenderers\"},{\"attributes\":{},\"id\":\"1264\",\"type\":\"HelpTool\"},{\"attributes\":{\"overlay\":{\"id\":\"1265\"}},\"id\":\"1261\",\"type\":\"BoxZoomTool\"},{\"attributes\":{},\"id\":\"1320\",\"type\":\"Selection\"},{\"attributes\":{\"coordinates\":null,\"data_source\":{\"id\":\"1273\"},\"glyph\":{\"id\":\"1274\"},\"group\":null,\"hover_glyph\":null,\"muted_glyph\":{\"id\":\"1280\"},\"nonselection_glyph\":{\"id\":\"1277\"},\"view\":{\"id\":\"1284\"}},\"id\":\"1283\",\"type\":\"GlyphRenderer\"},{\"attributes\":{},\"id\":\"1260\",\"type\":\"WheelZoomTool\"},{\"attributes\":{\"color_mapper\":{\"id\":\"1278\"},\"dh\":{\"value\":0.19259363412857056},\"dw\":{\"value\":41.51002997585965},\"global_alpha\":{\"value\":0.1},\"image\":{\"field\":\"image\"},\"x\":{\"value\":6225.00510572313},\"y\":{\"value\":0.878601610660553}},\"id\":\"1277\",\"type\":\"Image\"},{\"attributes\":{},\"id\":\"1241\",\"type\":\"CrosshairTool\"},{\"attributes\":{\"palette\":[\"#ffffff\",\"#fffffd\",\"#fffffb\",\"#fffff9\",\"#fffff7\",\"#fffff4\",\"#fffff3\",\"#fffff1\",\"#ffffef\",\"#ffffed\",\"#ffffeb\",\"#ffffe9\",\"#ffffe6\",\"#ffffe4\",\"#ffffe3\",\"#ffffe1\",\"#ffffdf\",\"#ffffdd\",\"#ffffdb\",\"#ffffd9\",\"#ffffd7\",\"#ffffd4\",\"#ffffd3\",\"#ffffd1\",\"#ffffcf\",\"#ffffcd\",\"#ffffcb\",\"#ffffc9\",\"#ffffc6\",\"#ffffc4\",\"#ffffc3\",\"#ffffc1\",\"#ffffbf\",\"#ffffbd\",\"#ffffbb\",\"#ffffb9\",\"#ffffb7\",\"#ffffb5\",\"#ffffb3\",\"#ffffb1\",\"#ffffaf\",\"#ffffad\",\"#ffffab\",\"#ffffa8\",\"#ffffa6\",\"#ffffa4\",\"#ffffa3\",\"#ffffa1\",\"#ffff9f\",\"#ffff9d\",\"#ffff9b\",\"#ffff99\",\"#ffff97\",\"#ffff95\",\"#ffff93\",\"#ffff91\",\"#ffff8f\",\"#ffff8d\",\"#ffff8b\",\"#ffff88\",\"#ffff86\",\"#ffff84\",\"#ffff83\",\"#ffff81\",\"#fffe7f\",\"#fffc7d\",\"#fffa7b\",\"#fff879\",\"#fff677\",\"#fff475\",\"#fff272\",\"#fff071\",\"#ffee6f\",\"#ffec6d\",\"#ffea6b\",\"#ffe868\",\"#ffe666\",\"#ffe464\",\"#ffe262\",\"#ffe061\",\"#ffde5f\",\"#ffdc5d\",\"#ffda5b\",\"#ffd859\",\"#ffd657\",\"#ffd455\",\"#ffd252\",\"#ffd051\",\"#ffce4f\",\"#ffcc4d\",\"#ffca4b\",\"#ffc848\",\"#ffc646\",\"#ffc444\",\"#ffc242\",\"#ffc041\",\"#ffbe3f\",\"#ffbc3d\",\"#ffba3b\",\"#ffb839\",\"#ffb637\",\"#ffb435\",\"#ffb232\",\"#ffb030\",\"#ffae2f\",\"#ffac2d\",\"#ffaa2b\",\"#ffa828\",\"#ffa626\",\"#ffa424\",\"#ffa222\",\"#ffa020\",\"#ff9e1f\",\"#ff9c1d\",\"#ff9a1b\",\"#ff9819\",\"#ff9617\",\"#ff9415\",\"#ff9212\",\"#ff9010\",\"#ff8e0f\",\"#ff8c0d\",\"#ff8a0b\",\"#ff8808\",\"#ff8606\",\"#ff8404\",\"#ff8202\",\"#ff8000\",\"#fe7e00\",\"#fc7c00\",\"#fa7a00\",\"#f87800\",\"#f67600\",\"#f37400\",\"#f27200\",\"#f07000\",\"#ee6e00\",\"#ec6c00\",\"#ea6a00\",\"#e86800\",\"#e56600\",\"#e36400\",\"#e26200\",\"#e06000\",\"#de5e00\",\"#dc5c00\",\"#da5a00\",\"#d85800\",\"#d65600\",\"#d35400\",\"#d25200\",\"#d05000\",\"#ce4e00\",\"#cc4c00\",\"#ca4a00\",\"#c84800\",\"#c54600\",\"#c34400\",\"#c24200\",\"#c04000\",\"#be3e00\",\"#bc3c00\",\"#ba3a00\",\"#b83800\",\"#b63600\",\"#b33400\",\"#b23200\",\"#b03000\",\"#ae2e00\",\"#ac2c00\",\"#aa2a00\",\"#a82800\",\"#a52600\",\"#a32400\",\"#a22200\",\"#a02000\",\"#9e1e00\",\"#9c1c00\",\"#9a1a00\",\"#981800\",\"#961600\",\"#931400\",\"#921200\",\"#901000\",\"#8e0e00\",\"#8c0c00\",\"#8a0a00\",\"#880800\",\"#850600\",\"#830400\",\"#820200\",\"#800000\",\"#7e0000\",\"#7c0000\",\"#7a0000\",\"#780000\",\"#760000\",\"#730000\",\"#710000\",\"#700000\",\"#6e0000\",\"#6c0000\",\"#6a0000\",\"#680000\",\"#650000\",\"#630000\",\"#610000\",\"#600000\",\"#5e0000\",\"#5c0000\",\"#5a0000\",\"#580000\",\"#560000\",\"#530000\",\"#510000\",\"#500000\",\"#4e0000\",\"#4c0000\",\"#4a0000\",\"#480000\",\"#450000\",\"#430000\",\"#410000\",\"#400000\",\"#3e0000\",\"#3c0000\",\"#3a0000\",\"#380000\",\"#360000\",\"#330000\",\"#310000\",\"#300000\",\"#2e0000\",\"#2c0000\",\"#2a0000\",\"#280000\",\"#250000\",\"#230000\",\"#210000\",\"#200000\",\"#1e0000\",\"#1c0000\",\"#1a0000\",\"#180000\",\"#160000\",\"#130000\",\"#110000\",\"#100000\",\"#0e0000\",\"#0c0000\",\"#0a0000\",\"#080000\",\"#050000\",\"#030000\",\"#010000\",\"#000000\"]},\"id\":\"1281\",\"type\":\"LinearColorMapper\"},{\"attributes\":{\"end\":6266.51513569899,\"start\":6225.00510572313},\"id\":\"1243\",\"type\":\"Range1d\"},{\"attributes\":{\"callback\":null,\"renderers\":[{\"id\":\"1283\"}],\"tooltips\":[[\"Value\",\"@image\"]]},\"id\":\"1285\",\"type\":\"HoverTool\"},{\"attributes\":{\"tools\":[{\"id\":\"1259\"},{\"id\":\"1260\"},{\"id\":\"1261\"},{\"id\":\"1262\"},{\"id\":\"1263\"},{\"id\":\"1264\"},{\"id\":\"1285\"},{\"id\":\"1241\"}]},\"id\":\"1266\",\"type\":\"Toolbar\"},{\"attributes\":{},\"id\":\"1252\",\"type\":\"BasicTicker\"},{\"attributes\":{},\"id\":\"1314\",\"type\":\"BasicTickFormatter\"},{\"attributes\":{\"data\":{\"image\":[{\"__ndarray__\":\"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\",\"dtype\":\"float32\",\"order\":\"little\",\"shape\":[137,48]}]},\"selected\":{\"id\":\"1320\"},\"selection_policy\":{\"id\":\"1319\"}},\"id\":\"1273\",\"type\":\"ColumnDataSource\"},{\"attributes\":{},\"id\":\"1263\",\"type\":\"ResetTool\"},{\"attributes\":{},\"id\":\"1247\",\"type\":\"LinearScale\"},{\"attributes\":{\"source\":{\"id\":\"1273\"}},\"id\":\"1284\",\"type\":\"CDSView\"},{\"attributes\":{},\"id\":\"1249\",\"type\":\"LinearScale\"},{\"attributes\":{\"axis\":{\"id\":\"1251\"},\"coordinates\":null,\"group\":null,\"ticker\":null,\"visible\":false},\"id\":\"1254\",\"type\":\"Grid\"},{\"attributes\":{},\"id\":\"1262\",\"type\":\"SaveTool\"},{\"attributes\":{\"bottom_units\":\"screen\",\"coordinates\":null,\"fill_alpha\":0.5,\"fill_color\":\"lightgrey\",\"group\":null,\"left_units\":\"screen\",\"level\":\"overlay\",\"line_alpha\":1.0,\"line_color\":\"black\",\"line_dash\":[4,4],\"line_width\":2,\"right_units\":\"screen\",\"syncable\":false,\"top_units\":\"screen\"},\"id\":\"1265\",\"type\":\"BoxAnnotation\"},{\"attributes\":{},\"id\":\"1315\",\"type\":\"AllLabels\"},{\"attributes\":{},\"id\":\"1317\",\"type\":\"BasicTickFormatter\"},{\"attributes\":{},\"id\":\"1256\",\"type\":\"BasicTicker\"},{\"attributes\":{\"end\":1.0711952447891235,\"start\":0.878601610660553},\"id\":\"1245\",\"type\":\"Range1d\"},{\"attributes\":{},\"id\":\"1318\",\"type\":\"AllLabels\"},{\"attributes\":{\"color_mapper\":{\"id\":\"1275\"},\"dh\":{\"value\":0.19259363412857056},\"dw\":{\"value\":41.51002997585965},\"image\":{\"field\":\"image\"},\"x\":{\"value\":6225.00510572313},\"y\":{\"value\":0.878601610660553}},\"id\":\"1274\",\"type\":\"Image\"},{\"attributes\":{\"axis_label\":\"Retention time (s)\",\"coordinates\":null,\"formatter\":{\"id\":\"1317\"},\"group\":null,\"major_label_policy\":{\"id\":\"1318\"},\"ticker\":{\"id\":\"1252\"}},\"id\":\"1251\",\"type\":\"LinearAxis\"},{\"attributes\":{\"palette\":[\"#ffffff\",\"#fffffd\",\"#fffffb\",\"#fffff9\",\"#fffff7\",\"#fffff4\",\"#fffff3\",\"#fffff1\",\"#ffffef\",\"#ffffed\",\"#ffffeb\",\"#ffffe9\",\"#ffffe6\",\"#ffffe4\",\"#ffffe3\",\"#ffffe1\",\"#ffffdf\",\"#ffffdd\",\"#ffffdb\",\"#ffffd9\",\"#ffffd7\",\"#ffffd4\",\"#ffffd3\",\"#ffffd1\",\"#ffffcf\",\"#ffffcd\",\"#ffffcb\",\"#ffffc9\",\"#ffffc6\",\"#ffffc4\",\"#ffffc3\",\"#ffffc1\",\"#ffffbf\",\"#ffffbd\",\"#ffffbb\",\"#ffffb9\",\"#ffffb7\",\"#ffffb5\",\"#ffffb3\",\"#ffffb1\",\"#ffffaf\",\"#ffffad\",\"#ffffab\",\"#ffffa8\",\"#ffffa6\",\"#ffffa4\",\"#ffffa3\",\"#ffffa1\",\"#ffff9f\",\"#ffff9d\",\"#ffff9b\",\"#ffff99\",\"#ffff97\",\"#ffff95\",\"#ffff93\",\"#ffff91\",\"#ffff8f\",\"#ffff8d\",\"#ffff8b\",\"#ffff88\",\"#ffff86\",\"#ffff84\",\"#ffff83\",\"#ffff81\",\"#fffe7f\",\"#fffc7d\",\"#fffa7b\",\"#fff879\",\"#fff677\",\"#fff475\",\"#fff272\",\"#fff071\",\"#ffee6f\",\"#ffec6d\",\"#ffea6b\",\"#ffe868\",\"#ffe666\",\"#ffe464\",\"#ffe262\",\"#ffe061\",\"#ffde5f\",\"#ffdc5d\",\"#ffda5b\",\"#ffd859\",\"#ffd657\",\"#ffd455\",\"#ffd252\",\"#ffd051\",\"#ffce4f\",\"#ffcc4d\",\"#ffca4b\",\"#ffc848\",\"#ffc646\",\"#ffc444\",\"#ffc242\",\"#ffc041\",\"#ffbe3f\",\"#ffbc3d\",\"#ffba3b\",\"#ffb839\",\"#ffb637\",\"#ffb435\",\"#ffb232\",\"#ffb030\",\"#ffae2f\",\"#ffac2d\",\"#ffaa2b\",\"#ffa828\",\"#ffa626\",\"#ffa424\",\"#ffa222\",\"#ffa020\",\"#ff9e1f\",\"#ff9c1d\",\"#ff9a1b\",\"#ff9819\",\"#ff9617\",\"#ff9415\",\"#ff9212\",\"#ff9010\",\"#ff8e0f\",\"#ff8c0d\",\"#ff8a0b\",\"#ff8808\",\"#ff8606\",\"#ff8404\",\"#ff8202\",\"#ff8000\",\"#fe7e00\",\"#fc7c00\",\"#fa7a00\",\"#f87800\",\"#f67600\",\"#f37400\",\"#f27200\",\"#f07000\",\"#ee6e00\",\"#ec6c00\",\"#ea6a00\",\"#e86800\",\"#e56600\",\"#e36400\",\"#e26200\",\"#e06000\",\"#de5e00\",\"#dc5c00\",\"#da5a00\",\"#d85800\",\"#d65600\",\"#d35400\",\"#d25200\",\"#d05000\",\"#ce4e00\",\"#cc4c00\",\"#ca4a00\",\"#c84800\",\"#c54600\",\"#c34400\",\"#c24200\",\"#c04000\",\"#be3e00\",\"#bc3c00\",\"#ba3a00\",\"#b83800\",\"#b63600\",\"#b33400\",\"#b23200\",\"#b03000\",\"#ae2e00\",\"#ac2c00\",\"#aa2a00\",\"#a82800\",\"#a52600\",\"#a32400\",\"#a22200\",\"#a02000\",\"#9e1e00\",\"#9c1c00\",\"#9a1a00\",\"#981800\",\"#961600\",\"#931400\",\"#921200\",\"#901000\",\"#8e0e00\",\"#8c0c00\",\"#8a0a00\",\"#880800\",\"#850600\",\"#830400\",\"#820200\",\"#800000\",\"#7e0000\",\"#7c0000\",\"#7a0000\",\"#780000\",\"#760000\",\"#730000\",\"#710000\",\"#700000\",\"#6e0000\",\"#6c0000\",\"#6a0000\",\"#680000\",\"#650000\",\"#630000\",\"#610000\",\"#600000\",\"#5e0000\",\"#5c0000\",\"#5a0000\",\"#580000\",\"#560000\",\"#530000\",\"#510000\",\"#500000\",\"#4e0000\",\"#4c0000\",\"#4a0000\",\"#480000\",\"#450000\",\"#430000\",\"#410000\",\"#400000\",\"#3e0000\",\"#3c0000\",\"#3a0000\",\"#380000\",\"#360000\",\"#330000\",\"#310000\",\"#300000\",\"#2e0000\",\"#2c0000\",\"#2a0000\",\"#280000\",\"#250000\",\"#230000\",\"#210000\",\"#200000\",\"#1e0000\",\"#1c0000\",\"#1a0000\",\"#180000\",\"#160000\",\"#130000\",\"#110000\",\"#100000\",\"#0e0000\",\"#0c0000\",\"#0a0000\",\"#080000\",\"#050000\",\"#030000\",\"#010000\",\"#000000\"]},\"id\":\"1278\",\"type\":\"LinearColorMapper\"}],\"root_ids\":[\"1242\"]},\"title\":\"Bokeh Application\",\"version\":\"2.4.3\"}};\n",
       "  const render_items = [{\"docid\":\"ec4d385b-9219-464f-b3e8-1ec29da7de21\",\"root_ids\":[\"1242\"],\"roots\":{\"1242\":\"3f41fd2c-2d37-4a54-8406-deb786363159\"}}];\n",
       "  root.Bokeh.embed.embed_items_notebook(docs_json, render_items);\n",
       "  }\n",
       "  if (root.Bokeh !== undefined) {\n",
       "    embed_document(root);\n",
       "  } else {\n",
       "    let attempts = 0;\n",
       "    const timer = setInterval(function(root) {\n",
       "      if (root.Bokeh !== undefined) {\n",
       "        clearInterval(timer);\n",
       "        embed_document(root);\n",
       "      } else {\n",
       "        attempts++;\n",
       "        if (attempts > 100) {\n",
       "          clearInterval(timer);\n",
       "          console.log(\"Bokeh: ERROR: Unable to run BokehJS code because BokehJS library is missing\");\n",
       "        }\n",
       "      }\n",
       "    }, 10, root)\n",
       "  }\n",
       "})(window);"
      ],
      "application/vnd.bokehjs_exec.v0+json": ""
     },
     "metadata": {
      "application/vnd.bokehjs_exec.v0+json": {
       "id": "1242"
      }
     },
     "output_type": "display_data"
    }
   ],
   "source": [
    "from massdash.plotting import PlotConfig, InteractiveTwoDimensionPlotter\n",
    "\n",
    "config = PlotConfig()\n",
    "config.context = 'jupyter'\n",
    "config.include_ms1 = True\n",
    "config.include_ms2 = True\n",
    "config.aggregate_mslevels = True ## merges heatmaps\n",
    "\n",
    "\n",
    "#config.type_of_heatmap = 'm/z vs retention time'\n",
    "#config.type_of_heatmap = 'm/z vs ion mobility' \n",
    "config.type_of_heatmap = 'retention time vs ion mobility'\n",
    "\n",
    "plotter = InteractiveTwoDimensionPlotter(config)\n",
    "plotter.plot(featureMap)\n",
    "plotter.show()"
   ]
  },
  {
   "cell_type": "code",
   "execution_count": null,
   "id": "e4734cf1-ff93-4aef-b57a-e98179ac5d29",
   "metadata": {},
   "outputs": [],
   "source": []
  }
 ],
 "metadata": {
  "kernelspec": {
   "display_name": "Python 3 (ipykernel)",
   "language": "python",
   "name": "python3"
  },
  "language_info": {
   "codemirror_mode": {
    "name": "ipython",
    "version": 3
   },
   "file_extension": ".py",
   "mimetype": "text/x-python",
   "name": "python",
   "nbconvert_exporter": "python",
   "pygments_lexer": "ipython3",
   "version": "3.9.18"
  }
 },
 "nbformat": 4,
 "nbformat_minor": 5
}
