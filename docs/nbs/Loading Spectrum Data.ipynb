{
 "cells": [
  {
   "cell_type": "markdown",
   "id": "1eb7016d-c75e-44f9-929d-8e60bc0b3840",
   "metadata": {
    "editable": true,
    "slideshow": {
     "slide_type": ""
    },
    "tags": []
   },
   "source": [
    "# Loading Spectrum Data"
   ]
  },
  {
   "cell_type": "code",
   "execution_count": 1,
   "id": "441d91d2-a996-44eb-ad40-9084b626d496",
   "metadata": {},
   "outputs": [],
   "source": [
    "%load_ext autoreload"
   ]
  },
  {
   "cell_type": "code",
   "execution_count": 2,
   "id": "33259ae2-f185-48ab-9f86-43f283c54b8d",
   "metadata": {},
   "outputs": [],
   "source": [
    "%autoreload 2"
   ]
  },
  {
   "cell_type": "markdown",
   "id": "a230b2c6-101b-4d54-9a0c-1af477b9ad76",
   "metadata": {
    "editable": true,
    "slideshow": {
     "slide_type": ""
    },
    "tags": []
   },
   "source": [
    "Spectrum data loaders implement the same methods as Chromatogram Data Loaders as well as some additional methods since more information can be gathered from spectrum data loaders. Fetching raw data with spectrum loaders takes more time since data is extracted on the fly. Additionally [TargetedDIAExtractionParameters](<link>) must be specified to instruct how the peptide should be extracted. "
   ]
  },
  {
   "cell_type": "code",
   "execution_count": 3,
   "id": "f15a7806-3adb-41be-8d81-5e1eda910d71",
   "metadata": {
    "editable": true,
    "nbsphinx": "hidden",
    "slideshow": {
     "slide_type": ""
    },
    "tags": []
   },
   "outputs": [],
   "source": [
    "# Please run this before executing any cell\n",
    "import os\n",
    "os.chdir(\"../../tests/test_data/\") #### Insert path to data, this is the path to the tutorial data. "
   ]
  },
  {
   "cell_type": "markdown",
   "id": "7e070013-5f19-468e-a620-f04d18fbc421",
   "metadata": {
    "editable": true,
    "slideshow": {
     "slide_type": ""
    },
    "tags": []
   },
   "source": [
    "## Initiating a Spectrum Data Loader"
   ]
  },
  {
   "cell_type": "markdown",
   "id": "dfd2e13c-4307-4663-bbae-16a885016e73",
   "metadata": {
    "editable": true,
    "slideshow": {
     "slide_type": ""
    },
    "tags": []
   },
   "source": [
    "Most Spectrum loaders require the following inputs. \n",
    "1. dataFiles - a list of raw data files \n",
    "2. rsltsFile - a `.osw` or DIA-NN `.tsv` file containing the features\n",
    "3. libraryFile - a `.tsv`/`.osw`/`.pqp` file contaning the library (m/z and annotations of all transitions)"
   ]
  },
  {
   "cell_type": "markdown",
   "id": "ea839a4e-bd9d-42f9-b68e-3fc34817dcda",
   "metadata": {
    "editable": true,
    "slideshow": {
     "slide_type": ""
    },
    "tags": []
   },
   "source": [
    "We can initiate a `MzMLDataLoader` object with follows. "
   ]
  },
  {
   "cell_type": "code",
   "execution_count": 4,
   "id": "efbbf242-6cb5-4e67-a771-38d8d5357d9a",
   "metadata": {},
   "outputs": [
    {
     "name": "stdout",
     "output_type": "stream",
     "text": [
      "[2024-01-02 11:50:17,072] MzMLDataAccess - DEBUG - Creating OnDiscExperiment...: Elapsed 5.0067901611328125e-06 ms\n",
      "[2024-01-02 11:50:17,162] MzMLDataAccess - INFO - Opening ionMobilityTest2/ionMobilityTest2.mzML file...: Elapsed 0.08959078788757324 ms\n",
      "[2024-01-02 11:50:17,163] MzMLDataAccess - DEBUG - Extracting meta data...: Elapsed 5.4836273193359375e-06 ms\n",
      "[2024-01-02 11:50:17,163] MzMLDataAccess - INFO - There are 125 spectra and 0 chromatograms.\n",
      "[2024-01-02 11:50:17,164] MzMLDataAccess - INFO - There are 25 MS1 spectra and 100 MS2 spectra.\n"
     ]
    }
   ],
   "source": [
    "from massseer.loaders import MzMLDataLoader\n",
    "loader = MzMLDataLoader(dataFiles=\"ionMobilityTest2/ionMobilityTest2.mzML\",\n",
    "                        rsltsFile=\"ionMobilityTest2/ionMobilityTest2.osw\",\n",
    "                        rsltsFileType=\"OpenSWATH\",\n",
    "                       verbose=1)"
   ]
  },
  {
   "cell_type": "markdown",
   "id": "c8056e1b-4ca0-48a8-a018-136cfea86d56",
   "metadata": {},
   "source": [
    "This same a MzML file can also be initiated with DIA-NN output as shown. Note, since DIA-NN results files do not always have transition level information, a library file must also be provided."
   ]
  },
  {
   "cell_type": "code",
   "execution_count": 5,
   "id": "9d07e867-60fd-4112-97d7-9bb7ce8cc2b6",
   "metadata": {},
   "outputs": [
    {
     "name": "stdout",
     "output_type": "stream",
     "text": [
      "[2024-01-02 11:50:17,241] MzMLDataAccess - INFO - Opening ionMobilityTest2/ionMobilityTest2.mzML file...: Elapsed 0.04728055000305176 ms\n",
      "[2024-01-02 11:50:17,242] MzMLDataAccess - INFO - There are 125 spectra and 0 chromatograms.\n",
      "[2024-01-02 11:50:17,242] MzMLDataAccess - INFO - There are 25 MS1 spectra and 100 MS2 spectra.\n"
     ]
    }
   ],
   "source": [
    "from massseer.loaders import MzMLDataLoader\n",
    "loader_diann = MzMLDataLoader(dataFiles=\"ionMobilityTest2/ionMobilityTest2.mzML\",\n",
    "                        rsltsFile=\"ionMobilityTest2/ionMobilityTest2-diannReport.tsv\",\n",
    "                        libraryFile=\"ionMobilityTest2/ionMobilityTest2Library.tsv\",\n",
    "                        rsltsFileType='DIA-NN')"
   ]
  },
  {
   "cell_type": "markdown",
   "id": "eb32524e-f7b8-4d58-b301-9b48ea0d9749",
   "metadata": {},
   "source": [
    "For the purpose of this tutorial we will be using the OpenSwath results this approach will work with any properly initiated MzMLDataLoader."
   ]
  },
  {
   "cell_type": "markdown",
   "id": "e04297c9-77b9-4e08-86f1-217a9b5f21c4",
   "metadata": {
    "editable": true,
    "slideshow": {
     "slide_type": ""
    },
    "tags": []
   },
   "source": [
    "<div class=\"alert alert-info\">\n",
    "\n",
    "Note\n",
    "\n",
    "If a `.osw` file is provided as a rslts file and no library file is provided, MassSeer will assume the `.osw` file should also be used as the library. \n",
    "\n",
    "</div>"
   ]
  },
  {
   "cell_type": "markdown",
   "id": "a2d65655-b46f-4b6c-9338-5f351541cf58",
   "metadata": {},
   "source": [
    "## Loading a Transition Group"
   ]
  },
  {
   "cell_type": "markdown",
   "id": "53faccb7-78bd-4b62-a182-88bdd42c8290",
   "metadata": {
    "editable": true,
    "slideshow": {
     "slide_type": ""
    },
    "tags": []
   },
   "source": [
    "To fetch the chromatograms for a particular transitionGroup, we can call the `loadTransitionGroups()` method. In addition to the modified peptide sequence and  charge state, this method also requires a [:class:`~massseer.structs.DIATargetedExtraction`](#DIATargetedExtraction) which specifies the extraction parameters and will load the transition groups across all runs. This method can take a while since it is fetching the data across all experiments from disk. "
   ]
  },
  {
   "cell_type": "markdown",
   "id": "9b9713c1-7000-4167-871d-5ea478221889",
   "metadata": {
    "editable": true,
    "slideshow": {
     "slide_type": ""
    },
    "tags": []
   },
   "source": [
    "In this example we will visualize the peptide *NKESPT(UniMod:21)KAIVR(UniMod:267)* with a charge state of *3*"
   ]
  },
  {
   "cell_type": "markdown",
   "id": "04d02405-f994-45bb-81f6-d624033119a8",
   "metadata": {
    "editable": true,
    "slideshow": {
     "slide_type": ""
    },
    "tags": []
   },
   "source": [
    "First, we can create a [:class:`~massseer.structs.DIATargetedExtraction`](#DIATargetedExtraction) object. "
   ]
  },
  {
   "cell_type": "code",
   "execution_count": 6,
   "id": "e647514a-0a3f-4055-bee0-d794b05c51c3",
   "metadata": {},
   "outputs": [],
   "source": [
    "from massseer.structs.TargetedDIAConfig import TargetedDIAConfig\n",
    "extraciton_config = TargetedDIAConfig()\n",
    "extraciton_config.im_window = 0.2\n",
    "extraciton_config.rt_window = 50\n",
    "extraciton_config.mz_tol = 20"
   ]
  },
  {
   "cell_type": "code",
   "execution_count": null,
   "id": "c584b23a-0791-41db-acfa-3b9462f43e18",
   "metadata": {},
   "outputs": [],
   "source": []
  },
  {
   "cell_type": "code",
   "execution_count": 7,
   "id": "49942906-4dc2-4d7a-8a70-812ab233fcd4",
   "metadata": {
    "editable": true,
    "slideshow": {
     "slide_type": ""
    },
    "tags": []
   },
   "outputs": [
    {
     "data": {
      "text/plain": [
       "{'ionMobilityTest2/ionMobilityTest2.mzML': <massseer.structs.TransitionGroup.TransitionGroup at 0x7f6ffc75abe0>}"
      ]
     },
     "execution_count": 7,
     "metadata": {},
     "output_type": "execute_result"
    }
   ],
   "source": [
    "transitionGroup = loader.loadTransitionGroups(\"AFVDFLSDEIK\", 2, extraciton_config)\n",
    "transitionGroup"
   ]
  },
  {
   "cell_type": "markdown",
   "id": "df08958d-4bd6-46b1-8020-5195de05bfce",
   "metadata": {
    "editable": true,
    "slideshow": {
     "slide_type": ""
    },
    "tags": []
   },
   "source": [
    "Like the ChromatogramLoaders, a dictionary is returned where the file keys are the SQMass connectors and the values are a `TransitionGroup` object. The `TransitionGroup` object holds a series of chromatograms belonging to the same precursor. This `TransitionGroup` object can be used to plot for plotting as shown [here]"
   ]
  },
  {
   "cell_type": "markdown",
   "id": "1861d1fe-915d-434a-bade-2d3139e6ab3d",
   "metadata": {
    "editable": true,
    "slideshow": {
     "slide_type": ""
    },
    "tags": []
   },
   "source": [
    "### Loading Chromatogram Data as a Pandas DataFrame (Not Recommended)"
   ]
  },
  {
   "cell_type": "markdown",
   "id": "c8e1a045-3138-4d59-b318-44f0005e07e8",
   "metadata": {},
   "source": [
    "Like in the chromatogram loaders, data can be loaded into a pandas dataframe using the `loadTransitionGroupDf()`."
   ]
  },
  {
   "cell_type": "code",
   "execution_count": null,
   "id": "564969ca-c692-4f10-bbb2-87098a74c414",
   "metadata": {
    "editable": true,
    "slideshow": {
     "slide_type": ""
    },
    "tags": []
   },
   "outputs": [],
   "source": [
    "transitionGroupDf = loader.loadTransitionGroupsDf(\"AFVDFLSDEIK\", 2, extraciton_config )"
   ]
  },
  {
   "cell_type": "markdown",
   "id": "a3df005c-6b4f-49e9-9cdc-593c77c5a1b0",
   "metadata": {
    "editable": true,
    "slideshow": {
     "slide_type": ""
    },
    "tags": []
   },
   "source": [
    "This dataframe has all of the intensities and retention times for all of the files across all transitions. Transitions can be diffrentiated by the *annotation* column and the *filename* column diffrentiates the file/run in which the chromatograms originate from. "
   ]
  },
  {
   "cell_type": "markdown",
   "id": "3a03eab8-0607-45f6-b46a-be3f470b7110",
   "metadata": {
    "editable": true,
    "slideshow": {
     "slide_type": ""
    },
    "tags": []
   },
   "source": [
    "<div class=\"alert alert-info\">\n",
    "\n",
    "Note\n",
    "\n",
    "If a pandas dataframe is required it is recomended to use the `FeatureMap` object directly as described below.   \n",
    "\n",
    "</div>"
   ]
  },
  {
   "cell_type": "markdown",
   "id": "bdac10f5-6801-43a7-8e7c-626754b79437",
   "metadata": {
    "editable": true,
    "slideshow": {
     "slide_type": ""
    },
    "tags": []
   },
   "source": [
    "Alternatively for analysis directly in python the loaders can return a pandas dataframe object contianing all of the points for this peptide by using the `loadTransitionGroupsDf()` method instead."
   ]
  },
  {
   "cell_type": "markdown",
   "id": "1822082b-f449-4f8f-b4df-4ac48ac35037",
   "metadata": {
    "editable": true,
    "slideshow": {
     "slide_type": ""
    },
    "tags": []
   },
   "source": [
    "## Loading a Feature Map"
   ]
  },
  {
   "cell_type": "markdown",
   "id": "a26fc6a2-7c2e-4d3c-9dd3-aa42b96380e5",
   "metadata": {},
   "source": [
    "The primary datatype that is fetched from a [:class:~massseer.structs.FeatureMap](#FeatureMap) which is contains a pandas dataframe of the extracted chromatogram across all precursors and transitions. Thus, under the hood, the :function:[~massseer.structs.loadTransitionGroups()] method is fetching a :class:[~massseer.structs.FeatureMap] and converting it into a :class:[~massseer.structs.TransitionGroup]. Due to this conversion step, if a pandas dataframe is required, it is generally faster to work with the :class:[~massseer.structs.FeatureMap] directly. "
   ]
  },
  {
   "cell_type": "markdown",
   "id": "e9ded880-a45b-4111-a3af-c899bc83227b",
   "metadata": {},
   "source": [
    "The FeatureMap object can be loaded using the `loadFeatureMap()` method as demonstrated below. "
   ]
  },
  {
   "cell_type": "code",
   "execution_count": 15,
   "id": "74e8d17b-603b-4e0d-ac02-f2ad5b37309b",
   "metadata": {},
   "outputs": [
    {
     "data": {
      "text/plain": [
       "{'ionMobilityTest2/ionMobilityTest2.mzML': <massseer.structs.FeatureMap.FeatureMap at 0x7f6ff8df7a30>}"
      ]
     },
     "execution_count": 15,
     "metadata": {},
     "output_type": "execute_result"
    }
   ],
   "source": [
    "featureMap = loader.loadFeatureMaps(\"AFVDFLSDEIK\", 2, extraciton_config)\n",
    "featureMap"
   ]
  },
  {
   "cell_type": "markdown",
   "id": "6174ba96-e1a5-49d8-b9ec-78190e5d64df",
   "metadata": {},
   "source": [
    "Like the `loadTransitionGroupFeature()` method this method returns a dictionary where the keys are the run names. However here the values are feature map objects."
   ]
  },
  {
   "cell_type": "markdown",
   "id": "73c39bb6-38f8-4350-bd55-dbf64e6cc8b0",
   "metadata": {},
   "source": [
    "The `FeatureMap` object has two important properties:\n",
    "1. `.feature_df` property which returns the dataframe\n",
    "2. `.config` property which returns the `TargetedDIAConfig()` that was used to generate this `FeatureMap`"
   ]
  },
  {
   "cell_type": "code",
   "execution_count": 16,
   "id": "16eb9f10-f1c8-4910-8e93-a197e005e6cf",
   "metadata": {},
   "outputs": [
    {
     "data": {
      "text/html": [
       "<div>\n",
       "<style scoped>\n",
       "    .dataframe tbody tr th:only-of-type {\n",
       "        vertical-align: middle;\n",
       "    }\n",
       "\n",
       "    .dataframe tbody tr th {\n",
       "        vertical-align: top;\n",
       "    }\n",
       "\n",
       "    .dataframe thead th {\n",
       "        text-align: right;\n",
       "    }\n",
       "</style>\n",
       "<table border=\"1\" class=\"dataframe\">\n",
       "  <thead>\n",
       "    <tr style=\"text-align: right;\">\n",
       "      <th></th>\n",
       "      <th>native_id</th>\n",
       "      <th>ms_level</th>\n",
       "      <th>precursor_mz</th>\n",
       "      <th>mz</th>\n",
       "      <th>rt</th>\n",
       "      <th>im</th>\n",
       "      <th>int</th>\n",
       "      <th>Annotation</th>\n",
       "      <th>product_mz</th>\n",
       "    </tr>\n",
       "  </thead>\n",
       "  <tbody>\n",
       "    <tr>\n",
       "      <th>0</th>\n",
       "      <td></td>\n",
       "      <td>1</td>\n",
       "      <td>642.3295</td>\n",
       "      <td>642.334187</td>\n",
       "      <td>6225.005106</td>\n",
       "      <td>0.900254</td>\n",
       "      <td>76.000458</td>\n",
       "      <td>prec</td>\n",
       "      <td>642.3295</td>\n",
       "    </tr>\n",
       "    <tr>\n",
       "      <th>1</th>\n",
       "      <td></td>\n",
       "      <td>1</td>\n",
       "      <td>642.3295</td>\n",
       "      <td>642.334187</td>\n",
       "      <td>6225.005106</td>\n",
       "      <td>0.969271</td>\n",
       "      <td>153.011276</td>\n",
       "      <td>prec</td>\n",
       "      <td>642.3295</td>\n",
       "    </tr>\n",
       "    <tr>\n",
       "      <th>2</th>\n",
       "      <td></td>\n",
       "      <td>2</td>\n",
       "      <td>642.3295</td>\n",
       "      <td>504.262011</td>\n",
       "      <td>6225.110817</td>\n",
       "      <td>0.935281</td>\n",
       "      <td>68.001518</td>\n",
       "      <td>y4^1</td>\n",
       "      <td>504.2664</td>\n",
       "    </tr>\n",
       "    <tr>\n",
       "      <th>3</th>\n",
       "      <td></td>\n",
       "      <td>2</td>\n",
       "      <td>642.3295</td>\n",
       "      <td>504.262011</td>\n",
       "      <td>6225.110817</td>\n",
       "      <td>1.025902</td>\n",
       "      <td>41.000328</td>\n",
       "      <td>y4^1</td>\n",
       "      <td>504.2664</td>\n",
       "    </tr>\n",
       "    <tr>\n",
       "      <th>4</th>\n",
       "      <td></td>\n",
       "      <td>2</td>\n",
       "      <td>642.3295</td>\n",
       "      <td>591.298142</td>\n",
       "      <td>6225.110817</td>\n",
       "      <td>0.887884</td>\n",
       "      <td>92.002846</td>\n",
       "      <td>y5^1</td>\n",
       "      <td>591.2984</td>\n",
       "    </tr>\n",
       "    <tr>\n",
       "      <th>...</th>\n",
       "      <td>...</td>\n",
       "      <td>...</td>\n",
       "      <td>...</td>\n",
       "      <td>...</td>\n",
       "      <td>...</td>\n",
       "      <td>...</td>\n",
       "      <td>...</td>\n",
       "      <td>...</td>\n",
       "      <td>...</td>\n",
       "    </tr>\n",
       "    <tr>\n",
       "      <th>6812</th>\n",
       "      <td></td>\n",
       "      <td>2</td>\n",
       "      <td>642.3295</td>\n",
       "      <td>966.486248</td>\n",
       "      <td>6266.827558</td>\n",
       "      <td>0.982659</td>\n",
       "      <td>141.999191</td>\n",
       "      <td>y8^1</td>\n",
       "      <td>966.4779</td>\n",
       "    </tr>\n",
       "    <tr>\n",
       "      <th>6813</th>\n",
       "      <td></td>\n",
       "      <td>2</td>\n",
       "      <td>642.3295</td>\n",
       "      <td>966.486248</td>\n",
       "      <td>6266.827558</td>\n",
       "      <td>0.988840</td>\n",
       "      <td>68.997574</td>\n",
       "      <td>y8^1</td>\n",
       "      <td>966.4779</td>\n",
       "    </tr>\n",
       "    <tr>\n",
       "      <th>6814</th>\n",
       "      <td></td>\n",
       "      <td>2</td>\n",
       "      <td>642.3295</td>\n",
       "      <td>1065.535905</td>\n",
       "      <td>6266.827558</td>\n",
       "      <td>0.918785</td>\n",
       "      <td>72.001709</td>\n",
       "      <td>y9^1</td>\n",
       "      <td>1065.5463</td>\n",
       "    </tr>\n",
       "    <tr>\n",
       "      <th>6815</th>\n",
       "      <td></td>\n",
       "      <td>2</td>\n",
       "      <td>642.3295</td>\n",
       "      <td>1065.535905</td>\n",
       "      <td>6266.827558</td>\n",
       "      <td>0.979575</td>\n",
       "      <td>51.001892</td>\n",
       "      <td>y9^1</td>\n",
       "      <td>1065.5463</td>\n",
       "    </tr>\n",
       "    <tr>\n",
       "      <th>6816</th>\n",
       "      <td></td>\n",
       "      <td>2</td>\n",
       "      <td>642.3295</td>\n",
       "      <td>1065.535905</td>\n",
       "      <td>6266.827558</td>\n",
       "      <td>0.984717</td>\n",
       "      <td>68.997574</td>\n",
       "      <td>y9^1</td>\n",
       "      <td>1065.5463</td>\n",
       "    </tr>\n",
       "  </tbody>\n",
       "</table>\n",
       "<p>6817 rows × 9 columns</p>\n",
       "</div>"
      ],
      "text/plain": [
       "     native_id  ms_level  precursor_mz           mz           rt        im  \\\n",
       "0                      1      642.3295   642.334187  6225.005106  0.900254   \n",
       "1                      1      642.3295   642.334187  6225.005106  0.969271   \n",
       "2                      2      642.3295   504.262011  6225.110817  0.935281   \n",
       "3                      2      642.3295   504.262011  6225.110817  1.025902   \n",
       "4                      2      642.3295   591.298142  6225.110817  0.887884   \n",
       "...        ...       ...           ...          ...          ...       ...   \n",
       "6812                   2      642.3295   966.486248  6266.827558  0.982659   \n",
       "6813                   2      642.3295   966.486248  6266.827558  0.988840   \n",
       "6814                   2      642.3295  1065.535905  6266.827558  0.918785   \n",
       "6815                   2      642.3295  1065.535905  6266.827558  0.979575   \n",
       "6816                   2      642.3295  1065.535905  6266.827558  0.984717   \n",
       "\n",
       "             int Annotation  product_mz  \n",
       "0      76.000458       prec    642.3295  \n",
       "1     153.011276       prec    642.3295  \n",
       "2      68.001518       y4^1    504.2664  \n",
       "3      41.000328       y4^1    504.2664  \n",
       "4      92.002846       y5^1    591.2984  \n",
       "...          ...        ...         ...  \n",
       "6812  141.999191       y8^1    966.4779  \n",
       "6813   68.997574       y8^1    966.4779  \n",
       "6814   72.001709       y9^1   1065.5463  \n",
       "6815   51.001892       y9^1   1065.5463  \n",
       "6816   68.997574       y9^1   1065.5463  \n",
       "\n",
       "[6817 rows x 9 columns]"
      ]
     },
     "execution_count": 16,
     "metadata": {},
     "output_type": "execute_result"
    }
   ],
   "source": [
    "featureMap['ionMobilityTest2/ionMobilityTest2.mzML'].feature_df"
   ]
  },
  {
   "cell_type": "code",
   "execution_count": 17,
   "id": "ff3e0ad6-3924-49e3-a17b-0d4460223c61",
   "metadata": {},
   "outputs": [
    {
     "data": {
      "text/plain": [
       "<massseer.structs.TargetedDIAConfig.TargetedDIAConfig at 0x7f6ffc70be20>"
      ]
     },
     "execution_count": 17,
     "metadata": {},
     "output_type": "execute_result"
    }
   ],
   "source": [
    "featureMap['ionMobilityTest2/ionMobilityTest2.mzML'].config"
   ]
  }
 ],
 "metadata": {
  "kernelspec": {
   "display_name": "Python 3 (ipykernel)",
   "language": "python",
   "name": "python3"
  },
  "language_info": {
   "codemirror_mode": {
    "name": "ipython",
    "version": 3
   },
   "file_extension": ".py",
   "mimetype": "text/x-python",
   "name": "python",
   "nbconvert_exporter": "python",
   "pygments_lexer": "ipython3",
   "version": "3.9.18"
  }
 },
 "nbformat": 4,
 "nbformat_minor": 5
}
