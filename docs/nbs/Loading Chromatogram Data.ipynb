{
 "cells": [
  {
   "cell_type": "markdown",
   "id": "200badbc-9db1-45f8-ab23-b55a36f786de",
   "metadata": {
    "editable": true,
    "slideshow": {
     "slide_type": ""
    },
    "tags": []
   },
   "source": [
    "# Loading Chromatogram Data"
   ]
  },
  {
   "cell_type": "raw",
   "id": "7f6ada18-3d66-4064-a58c-5e36735be757",
   "metadata": {
    "editable": true,
    "raw_mimetype": "text/restructuredtext",
    "slideshow": {
     "slide_type": ""
    },
    "tags": []
   },
   "source": [
    ".. currentmodule:: massseer"
   ]
  },
  {
   "cell_type": "raw",
   "id": "aef105c5-fa5e-4a15-9040-66af75bb9f32",
   "metadata": {
    "editable": true,
    "raw_mimetype": "text/restructuredtext",
    "slideshow": {
     "slide_type": ""
    },
    "tags": []
   },
   "source": [
    "A Chromatogram Loader loads raw data from chromatograms. This leads to faster data loading since no on the fly extraction is needed however this leads to less flexibility. "
   ]
  },
  {
   "cell_type": "code",
   "execution_count": 1,
   "id": "332bb4b3-e639-43e9-aab6-55d788215940",
   "metadata": {
    "editable": true,
    "nbsphinx": "hidden",
    "slideshow": {
     "slide_type": ""
    },
    "tags": []
   },
   "outputs": [],
   "source": [
    "# Please run this before executing any cell\n",
    "import os\n",
    "os.chdir(\"../../tests/test_data/\") #### Insert path to data, this is the path to the tutorial data. "
   ]
  },
  {
   "cell_type": "markdown",
   "id": "4956e403-6780-428a-9d5d-49ab28f5eb01",
   "metadata": {
    "editable": true,
    "slideshow": {
     "slide_type": ""
    },
    "tags": []
   },
   "source": [
    "## Initiating a Chromatogram Loader"
   ]
  },
  {
   "cell_type": "raw",
   "id": "88d418b1-ebd1-4e87-a8af-06d6b3620a06",
   "metadata": {
    "editable": true,
    "raw_mimetype": "text/restructuredtext",
    "slideshow": {
     "slide_type": ""
    },
    "tags": []
   },
   "source": [
    "All Chromatogram Loaders require the following inputs. "
   ]
  },
  {
   "cell_type": "raw",
   "id": "dd832354-db54-4d65-b1aa-e362921f6e1c",
   "metadata": {
    "editable": true,
    "raw_mimetype": "text/restructuredtext",
    "slideshow": {
     "slide_type": ""
    },
    "tags": []
   },
   "source": [
    "\n",
    "1. dataFiles - a list of raw data files \n",
    "2. rsltsFile - a file containing the features"
   ]
  },
  {
   "cell_type": "raw",
   "id": "1e3e2f4b-4e97-463c-bb4c-8ab42ea383e4",
   "metadata": {
    "editable": true,
    "raw_mimetype": "text/restructuredtext",
    "slideshow": {
     "slide_type": ""
    },
    "tags": []
   },
   "source": [
    "In the case of an :py:class:`~loaders.SqMassLoader` the data files must be a list of `.sqMass` files and the rsltsFile must be a `.osw` merged file output from pyprophet. This output is useful to visualize because it shows the exact Chromatogram which the OpenSwath peak picking uses for peak picking. "
   ]
  },
  {
   "cell_type": "markdown",
   "id": "7217abb6-acb6-4f2b-875a-e34194fb8254",
   "metadata": {
    "editable": true,
    "slideshow": {
     "slide_type": ""
    },
    "tags": []
   },
   "source": [
    "We can initiate a SqMassLoader object with multiple sqMass files as follows. "
   ]
  },
  {
   "cell_type": "code",
   "execution_count": 2,
   "id": "bc1bc445-aabb-4e39-8d87-e63ee1fb1961",
   "metadata": {
    "editable": true,
    "slideshow": {
     "slide_type": ""
    },
    "tags": []
   },
   "outputs": [],
   "source": [
    "from massseer.loaders import SqMassLoader\n",
    "loader = SqMassLoader(dataFiles=[\"xics/test_chrom_1.sqMass\", \"xics/test_chrom_2.sqMass\"],\n",
    "                      rsltsFile=\"osw/test_data.osw\")"
   ]
  },
  {
   "cell_type": "markdown",
   "id": "0b6ffb10-9b61-4252-b16c-dfc98d3407a0",
   "metadata": {
    "editable": true,
    "slideshow": {
     "slide_type": ""
    },
    "tags": []
   },
   "source": [
    "<div class=\"alert alert-info\">\n",
    "\n",
    "Note\n",
    "\n",
    "The provided `.osw` file must contain information for all runs.\n",
    "\n",
    "</div>"
   ]
  },
  {
   "cell_type": "markdown",
   "id": "526eceb9-9cb3-4b87-b5be-80a0240aba92",
   "metadata": {
    "editable": true,
    "slideshow": {
     "slide_type": ""
    },
    "tags": []
   },
   "source": [
    "Priting the loader objects shows the file paths for all of the linked files"
   ]
  },
  {
   "cell_type": "code",
   "execution_count": 3,
   "id": "30d2b59c-d987-4ae6-b680-412b294b42da",
   "metadata": {
    "editable": true,
    "slideshow": {
     "slide_type": ""
    },
    "tags": []
   },
   "outputs": [
    {
     "data": {
      "text/plain": [
       "SqMassLoader(rsltsFile=osw/test_data.osw, dataFiles=['xics/test_chrom_1.sqMass', 'xics/test_chrom_2.sqMass']"
      ]
     },
     "execution_count": 3,
     "metadata": {},
     "output_type": "execute_result"
    }
   ],
   "source": [
    "loader"
   ]
  },
  {
   "cell_type": "markdown",
   "id": "99d6e296-f7c3-4092-bbd6-7e48c2cdb01a",
   "metadata": {
    "editable": true,
    "slideshow": {
     "slide_type": ""
    },
    "tags": []
   },
   "source": [
    "## Loading a Transition Group"
   ]
  },
  {
   "cell_type": "raw",
   "id": "373e50d3-89b8-41e7-8239-5674229184f9",
   "metadata": {
    "editable": true,
    "raw_mimetype": "text/restructuredtext",
    "slideshow": {
     "slide_type": ""
    },
    "tags": []
   },
   "source": [
    "To fetch the chromatograms for a particular transitionGroup, we can call the :py:func:`~loaders.SqMassLoader.loadTransitionGroups` method. This method requires a modified peptide sequence and a charge state and will load the transition groups across all runs. This method can take a while since it is fetching the data across all experiments from disk. "
   ]
  },
  {
   "cell_type": "markdown",
   "id": "4c51615f-49dc-41b2-807b-21e3705d5df6",
   "metadata": {
    "editable": true,
    "slideshow": {
     "slide_type": ""
    },
    "tags": []
   },
   "source": [
    "In this example we will visualize the peptide *NKESPT(UniMod:21)KAIVR(UniMod:267)* with a charge state of *3*"
   ]
  },
  {
   "cell_type": "code",
   "execution_count": 4,
   "id": "6e600006-0b96-42f7-a6cb-94dc50d3ab74",
   "metadata": {
    "editable": true,
    "slideshow": {
     "slide_type": ""
    },
    "tags": []
   },
   "outputs": [
    {
     "data": {
      "text/plain": [
       "{SqMassDataAccess(filename=xics/test_chrom_1.sqMass): <massseer.structs.TransitionGroup.TransitionGroup at 0x7f98729db3d0>,\n",
       " SqMassDataAccess(filename=xics/test_chrom_2.sqMass): <massseer.structs.TransitionGroup.TransitionGroup at 0x7f98729db400>}"
      ]
     },
     "execution_count": 4,
     "metadata": {},
     "output_type": "execute_result"
    }
   ],
   "source": [
    "loader.loadTransitionGroups(\"NKESPT(UniMod:21)KAIVR(UniMod:267)\", 3)"
   ]
  },
  {
   "cell_type": "raw",
   "id": "f7352626-9660-4641-897f-db0a42164500",
   "metadata": {
    "editable": true,
    "raw_mimetype": "text/restructuredtext",
    "slideshow": {
     "slide_type": ""
    },
    "tags": []
   },
   "source": [
    "Here we have a dictionary returned where the file keys are the SQMass connectors and the values are a :py:class:`~structs.TransitionGroup`. The :py:class:`~structs.TransitionGroup` object holds a series of chromatograms belonging to the same precursor. "
   ]
  },
  {
   "cell_type": "markdown",
   "id": "3ae9e823-8a13-4985-8887-bfdfe4ac49db",
   "metadata": {
    "editable": true,
    "slideshow": {
     "slide_type": ""
    },
    "tags": []
   },
   "source": [
    "### Loading Chromatogram Data as a Pandas DataFrame"
   ]
  },
  {
   "cell_type": "raw",
   "id": "cf18f0d5-9449-43cd-99c5-efc4b6f124ea",
   "metadata": {
    "editable": true,
    "raw_mimetype": "text/restructuredtext",
    "slideshow": {
     "slide_type": ""
    },
    "tags": []
   },
   "source": [
    "Alternatively for analysis directly in python the loaders can return a pandas dataframe object contianing all of the points for this peptide by using the :py:func:`~loaders.SqMassLoader.loadTransitionGroups` method instead."
   ]
  },
  {
   "cell_type": "code",
   "execution_count": 5,
   "id": "0c068fd8-f2d6-4956-81c8-de40bc76afde",
   "metadata": {
    "editable": true,
    "slideshow": {
     "slide_type": ""
    },
    "tags": []
   },
   "outputs": [
    {
     "data": {
      "text/html": [
       "<div>\n",
       "<style scoped>\n",
       "    .dataframe tbody tr th:only-of-type {\n",
       "        vertical-align: middle;\n",
       "    }\n",
       "\n",
       "    .dataframe tbody tr th {\n",
       "        vertical-align: top;\n",
       "    }\n",
       "\n",
       "    .dataframe thead th {\n",
       "        text-align: right;\n",
       "    }\n",
       "</style>\n",
       "<table border=\"1\" class=\"dataframe\">\n",
       "  <thead>\n",
       "    <tr style=\"text-align: right;\">\n",
       "      <th></th>\n",
       "      <th>filename</th>\n",
       "      <th>rt</th>\n",
       "      <th>intensity</th>\n",
       "      <th>annotation</th>\n",
       "    </tr>\n",
       "  </thead>\n",
       "  <tbody>\n",
       "    <tr>\n",
       "      <th>0</th>\n",
       "      <td>xics/test_chrom_1.sqMass</td>\n",
       "      <td>512.8</td>\n",
       "      <td>1069.051908</td>\n",
       "      <td>2274_Precursor_i0</td>\n",
       "    </tr>\n",
       "    <tr>\n",
       "      <th>1</th>\n",
       "      <td>xics/test_chrom_1.sqMass</td>\n",
       "      <td>516.4</td>\n",
       "      <td>2230.982597</td>\n",
       "      <td>2274_Precursor_i0</td>\n",
       "    </tr>\n",
       "    <tr>\n",
       "      <th>2</th>\n",
       "      <td>xics/test_chrom_1.sqMass</td>\n",
       "      <td>520.0</td>\n",
       "      <td>2583.056921</td>\n",
       "      <td>2274_Precursor_i0</td>\n",
       "    </tr>\n",
       "    <tr>\n",
       "      <th>3</th>\n",
       "      <td>xics/test_chrom_1.sqMass</td>\n",
       "      <td>523.7</td>\n",
       "      <td>1876.955276</td>\n",
       "      <td>2274_Precursor_i0</td>\n",
       "    </tr>\n",
       "    <tr>\n",
       "      <th>4</th>\n",
       "      <td>xics/test_chrom_1.sqMass</td>\n",
       "      <td>527.3</td>\n",
       "      <td>1862.126603</td>\n",
       "      <td>2274_Precursor_i0</td>\n",
       "    </tr>\n",
       "    <tr>\n",
       "      <th>...</th>\n",
       "      <td>...</td>\n",
       "      <td>...</td>\n",
       "      <td>...</td>\n",
       "      <td>...</td>\n",
       "    </tr>\n",
       "    <tr>\n",
       "      <th>2697</th>\n",
       "      <td>xics/test_chrom_2.sqMass</td>\n",
       "      <td>1251.0</td>\n",
       "      <td>0.000000</td>\n",
       "      <td>b4^1</td>\n",
       "    </tr>\n",
       "    <tr>\n",
       "      <th>2698</th>\n",
       "      <td>xics/test_chrom_2.sqMass</td>\n",
       "      <td>1254.7</td>\n",
       "      <td>42.001872</td>\n",
       "      <td>b4^1</td>\n",
       "    </tr>\n",
       "    <tr>\n",
       "      <th>2699</th>\n",
       "      <td>xics/test_chrom_2.sqMass</td>\n",
       "      <td>1258.3</td>\n",
       "      <td>20.999608</td>\n",
       "      <td>b4^1</td>\n",
       "    </tr>\n",
       "    <tr>\n",
       "      <th>2700</th>\n",
       "      <td>xics/test_chrom_2.sqMass</td>\n",
       "      <td>1261.9</td>\n",
       "      <td>20.999608</td>\n",
       "      <td>b4^1</td>\n",
       "    </tr>\n",
       "    <tr>\n",
       "      <th>2701</th>\n",
       "      <td>xics/test_chrom_2.sqMass</td>\n",
       "      <td>1265.6</td>\n",
       "      <td>0.000000</td>\n",
       "      <td>b4^1</td>\n",
       "    </tr>\n",
       "  </tbody>\n",
       "</table>\n",
       "<p>2702 rows × 4 columns</p>\n",
       "</div>"
      ],
      "text/plain": [
       "                      filename      rt    intensity         annotation\n",
       "0     xics/test_chrom_1.sqMass   512.8  1069.051908  2274_Precursor_i0\n",
       "1     xics/test_chrom_1.sqMass   516.4  2230.982597  2274_Precursor_i0\n",
       "2     xics/test_chrom_1.sqMass   520.0  2583.056921  2274_Precursor_i0\n",
       "3     xics/test_chrom_1.sqMass   523.7  1876.955276  2274_Precursor_i0\n",
       "4     xics/test_chrom_1.sqMass   527.3  1862.126603  2274_Precursor_i0\n",
       "...                        ...     ...          ...                ...\n",
       "2697  xics/test_chrom_2.sqMass  1251.0     0.000000               b4^1\n",
       "2698  xics/test_chrom_2.sqMass  1254.7    42.001872               b4^1\n",
       "2699  xics/test_chrom_2.sqMass  1258.3    20.999608               b4^1\n",
       "2700  xics/test_chrom_2.sqMass  1261.9    20.999608               b4^1\n",
       "2701  xics/test_chrom_2.sqMass  1265.6     0.000000               b4^1\n",
       "\n",
       "[2702 rows x 4 columns]"
      ]
     },
     "execution_count": 5,
     "metadata": {},
     "output_type": "execute_result"
    }
   ],
   "source": [
    "transitionGroupDf = loader.loadTransitionGroupsDf(\"NKESPT(UniMod:21)KAIVR(UniMod:267)\", 3)\n",
    "transitionGroupDf"
   ]
  },
  {
   "cell_type": "markdown",
   "id": "0cf285b2-63a0-4a8f-b377-77b5a5001bb3",
   "metadata": {
    "editable": true,
    "slideshow": {
     "slide_type": ""
    },
    "tags": []
   },
   "source": [
    "This dataframe has all of the intensities and retention times for all of the files across all transitions. Transitions can be diffrentiated by the *annotation* column and the *filename* column diffrentiates the file/run in which the chromatograms originate from. "
   ]
  },
  {
   "cell_type": "markdown",
   "id": "92c5601a-5e39-49de-b3da-7355795128cd",
   "metadata": {
    "editable": true,
    "slideshow": {
     "slide_type": ""
    },
    "tags": []
   },
   "source": [
    "For example to get the total intensity across the intensities we can use the pandas `groupby()` functions "
   ]
  },
  {
   "cell_type": "code",
   "execution_count": 6,
   "id": "efb996ca-8bd1-4dcc-b2ff-2664a12fa16d",
   "metadata": {
    "editable": true,
    "slideshow": {
     "slide_type": ""
    },
    "tags": []
   },
   "outputs": [
    {
     "data": {
      "text/html": [
       "<div>\n",
       "<style scoped>\n",
       "    .dataframe tbody tr th:only-of-type {\n",
       "        vertical-align: middle;\n",
       "    }\n",
       "\n",
       "    .dataframe tbody tr th {\n",
       "        vertical-align: top;\n",
       "    }\n",
       "\n",
       "    .dataframe thead th {\n",
       "        text-align: right;\n",
       "    }\n",
       "</style>\n",
       "<table border=\"1\" class=\"dataframe\">\n",
       "  <thead>\n",
       "    <tr style=\"text-align: right;\">\n",
       "      <th></th>\n",
       "      <th></th>\n",
       "      <th>intensity</th>\n",
       "    </tr>\n",
       "    <tr>\n",
       "      <th>filename</th>\n",
       "      <th>annotation</th>\n",
       "      <th></th>\n",
       "    </tr>\n",
       "  </thead>\n",
       "  <tbody>\n",
       "    <tr>\n",
       "      <th rowspan=\"7\" valign=\"top\">xics/test_chrom_1.sqMass</th>\n",
       "      <th>2274_Precursor_i0</th>\n",
       "      <td>2.139805e+06</td>\n",
       "    </tr>\n",
       "    <tr>\n",
       "      <th>b4^1</th>\n",
       "      <td>3.000697e+04</td>\n",
       "    </tr>\n",
       "    <tr>\n",
       "      <th>y1^1</th>\n",
       "      <td>1.300780e+05</td>\n",
       "    </tr>\n",
       "    <tr>\n",
       "      <th>y2^1</th>\n",
       "      <td>2.837481e+04</td>\n",
       "    </tr>\n",
       "    <tr>\n",
       "      <th>y3^1</th>\n",
       "      <td>3.879062e+05</td>\n",
       "    </tr>\n",
       "    <tr>\n",
       "      <th>y4^1</th>\n",
       "      <td>1.295312e+05</td>\n",
       "    </tr>\n",
       "    <tr>\n",
       "      <th>y5^1</th>\n",
       "      <td>5.707377e+04</td>\n",
       "    </tr>\n",
       "    <tr>\n",
       "      <th rowspan=\"7\" valign=\"top\">xics/test_chrom_2.sqMass</th>\n",
       "      <th>2274_Precursor_i0</th>\n",
       "      <td>5.931736e+05</td>\n",
       "    </tr>\n",
       "    <tr>\n",
       "      <th>b4^1</th>\n",
       "      <td>7.226959e+03</td>\n",
       "    </tr>\n",
       "    <tr>\n",
       "      <th>y1^1</th>\n",
       "      <td>1.137597e+04</td>\n",
       "    </tr>\n",
       "    <tr>\n",
       "      <th>y2^1</th>\n",
       "      <td>1.631975e+05</td>\n",
       "    </tr>\n",
       "    <tr>\n",
       "      <th>y3^1</th>\n",
       "      <td>4.025936e+04</td>\n",
       "    </tr>\n",
       "    <tr>\n",
       "      <th>y4^1</th>\n",
       "      <td>3.567035e+03</td>\n",
       "    </tr>\n",
       "    <tr>\n",
       "      <th>y5^1</th>\n",
       "      <td>1.758796e+04</td>\n",
       "    </tr>\n",
       "  </tbody>\n",
       "</table>\n",
       "</div>"
      ],
      "text/plain": [
       "                                               intensity\n",
       "filename                 annotation                     \n",
       "xics/test_chrom_1.sqMass 2274_Precursor_i0  2.139805e+06\n",
       "                         b4^1               3.000697e+04\n",
       "                         y1^1               1.300780e+05\n",
       "                         y2^1               2.837481e+04\n",
       "                         y3^1               3.879062e+05\n",
       "                         y4^1               1.295312e+05\n",
       "                         y5^1               5.707377e+04\n",
       "xics/test_chrom_2.sqMass 2274_Precursor_i0  5.931736e+05\n",
       "                         b4^1               7.226959e+03\n",
       "                         y1^1               1.137597e+04\n",
       "                         y2^1               1.631975e+05\n",
       "                         y3^1               4.025936e+04\n",
       "                         y4^1               3.567035e+03\n",
       "                         y5^1               1.758796e+04"
      ]
     },
     "execution_count": 6,
     "metadata": {},
     "output_type": "execute_result"
    }
   ],
   "source": [
    "transitionGroupDf[['intensity', 'filename', 'annotation']].groupby(['filename', 'annotation']).sum()"
   ]
  }
 ],
 "metadata": {
  "kernelspec": {
   "display_name": "Python 3 (ipykernel)",
   "language": "python",
   "name": "python3"
  },
  "language_info": {
   "codemirror_mode": {
    "name": "ipython",
    "version": 3
   },
   "file_extension": ".py",
   "mimetype": "text/x-python",
   "name": "python",
   "nbconvert_exporter": "python",
   "pygments_lexer": "ipython3",
   "version": "3.9.18"
  }
 },
 "nbformat": 4,
 "nbformat_minor": 5
}
