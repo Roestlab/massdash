{
 "cells": [
  {
   "cell_type": "markdown",
   "id": "5f66cc36-2ca9-4c86-b2fd-7d3bc0c185aa",
   "metadata": {
    "editable": true,
    "slideshow": {
     "slide_type": ""
    },
    "tags": []
   },
   "source": [
    "# Heatmap Per Transition"
   ]
  },
  {
   "cell_type": "raw",
   "id": "25f013fb-2a84-4c2e-8c9e-08b9aa8b7f19",
   "metadata": {
    "editable": true,
    "raw_mimetype": "text/restructuredtext",
    "slideshow": {
     "slide_type": ""
    },
    "tags": []
   },
   "source": [
    "    Input: :py:class:`~massdash.structs.FeatureMap`"
   ]
  },
  {
   "cell_type": "raw",
   "id": "c7ca1436-714f-466a-bb26-5b5a993eca38",
   "metadata": {
    "editable": true,
    "raw_mimetype": "text/restructuredtext",
    "slideshow": {
     "slide_type": ""
    },
    "tags": []
   },
   "source": [
    "By changing the ``type_of_heatmap`` in the `:py:class:~massseer.plotting.PlotConfig`, we can plot different axis against one another."
   ]
  },
  {
   "cell_type": "markdown",
   "id": "109a0b12-a22f-4b13-8923-08cdb7b8c0be",
   "metadata": {
    "editable": true,
    "raw_mimetype": "",
    "slideshow": {
     "slide_type": ""
    },
    "tags": []
   },
   "source": [
    "Options are:\n",
    "\n",
    "1. m/z vs retention time\n",
    "2. m/z vs ion mobility\n",
    "3. retention time vs ion mobility"
   ]
  },
  {
   "cell_type": "code",
   "execution_count": 1,
   "id": "856cd75e-038e-458e-a0fc-b93b4083727a",
   "metadata": {
    "editable": true,
    "nbsphinx": "hidden",
    "slideshow": {
     "slide_type": ""
    },
    "tags": []
   },
   "outputs": [],
   "source": [
    "%load_ext autoreload \n",
    "%autoreload 2"
   ]
  },
  {
   "cell_type": "code",
   "execution_count": 2,
   "id": "c9a89257-de1d-42c4-bc47-089581152abb",
   "metadata": {
    "editable": true,
    "nbsphinx": "hidden",
    "slideshow": {
     "slide_type": ""
    },
    "tags": []
   },
   "outputs": [],
   "source": [
    "# Please run this before executing any cell\n",
    "import os\n",
    "os.chdir(\"../../../test/test_data/\") #### Insert path to data, this is the path to the tutorial data. "
   ]
  },
  {
   "cell_type": "markdown",
   "id": "a8a98079-d5f9-4411-8c55-d43b9a6225f5",
   "metadata": {
    "editable": true,
    "slideshow": {
     "slide_type": ""
    },
    "tags": []
   },
   "source": [
    "## Load FeatureMap"
   ]
  },
  {
   "cell_type": "code",
   "execution_count": 3,
   "id": "45ca3c23-7133-4082-a958-8ad8c3e1632d",
   "metadata": {
    "editable": true,
    "slideshow": {
     "slide_type": ""
    },
    "tags": []
   },
   "outputs": [
    {
     "name": "stdout",
     "output_type": "stream",
     "text": [
      "[2024-01-12 10:57:15,266] MzMLDataAccess - INFO - Opening mzml/ionMobilityTest.mzML file...: Elapsed 0.08799862861633301 ms\n",
      "[2024-01-12 10:57:15,267] MzMLDataAccess - INFO - There are 50 spectra and 0 chromatograms.\n",
      "[2024-01-12 10:57:15,268] MzMLDataAccess - INFO - There are 25 MS1 spectra and 25 MS2 spectra.\n"
     ]
    }
   ],
   "source": [
    "from massdash.loaders import MzMLDataLoader\n",
    "from massdash.structs import TargetedDIAConfig\n",
    "\n",
    "# Initate TargetedDIAConfig and set parameters\n",
    "extraction_config = TargetedDIAConfig()\n",
    "extraction_config.im_window = 0.2\n",
    "extraction_config.rt_window = 50\n",
    "extraction_config.mz_tol = 20\n",
    "\n",
    "# Initiate loader object\n",
    "loader = MzMLDataLoader(dataFiles=\"mzml/ionMobilityTest.mzML\",\n",
    "                        rsltsFile=\"osw/ionMobilityTest.osw\",\n",
    "                        rsltsFileType=\"OpenSWATH\")\n",
    "\n",
    "# fetch featureMap for target peptide\n",
    "featureMap = loader.loadFeatureMaps(\"AFVDFLSDEIK\", 2, extraction_config)['mzml/ionMobilityTest.mzML']"
   ]
  },
  {
   "cell_type": "markdown",
   "id": "5e9f35c0-eaf7-4173-b5f8-0ea94afddde1",
   "metadata": {
    "editable": true,
    "slideshow": {
     "slide_type": ""
    },
    "tags": []
   },
   "source": [
    "## Plot Recipe"
   ]
  },
  {
   "cell_type": "markdown",
   "id": "130f8c86-3dd0-4860-a13e-33539ea6c142",
   "metadata": {
    "editable": true,
    "slideshow": {
     "slide_type": ""
    },
    "tags": []
   },
   "source": [
    "For demonstration purposes, `retention time vs ion mobility` is shown but this can be changes by uncommenting the other `config.type_of_heatmap` statements."
   ]
  },
  {
   "cell_type": "code",
   "execution_count": 4,
   "id": "a7bab367-86ad-4eb8-9f9f-e0b9b5383cb5",
   "metadata": {
    "editable": true,
    "slideshow": {
     "slide_type": ""
    },
    "tags": []
   },
   "outputs": [
    {
     "ename": "ModuleNotFoundError",
     "evalue": "No module named 'massseer'",
     "output_type": "error",
     "traceback": [
      "\u001b[0;31m---------------------------------------------------------------------------\u001b[0m",
      "\u001b[0;31mModuleNotFoundError\u001b[0m                       Traceback (most recent call last)",
      "Cell \u001b[0;32mIn[4], line 1\u001b[0m\n\u001b[0;32m----> 1\u001b[0m \u001b[38;5;28;01mfrom\u001b[39;00m \u001b[38;5;21;01mmassseer\u001b[39;00m\u001b[38;5;21;01m.\u001b[39;00m\u001b[38;5;21;01mplotting\u001b[39;00m \u001b[38;5;28;01mimport\u001b[39;00m PlotConfig, InteractiveTwoDimensionPlotter\n\u001b[1;32m      3\u001b[0m config \u001b[38;5;241m=\u001b[39m PlotConfig()\n\u001b[1;32m      4\u001b[0m config\u001b[38;5;241m.\u001b[39mcontext \u001b[38;5;241m=\u001b[39m \u001b[38;5;124m'\u001b[39m\u001b[38;5;124mjupyter\u001b[39m\u001b[38;5;124m'\u001b[39m\n",
      "\u001b[0;31mModuleNotFoundError\u001b[0m: No module named 'massseer'"
     ]
    }
   ],
   "source": [
    "from massseer.plotting import PlotConfig, InteractiveTwoDimensionPlotter\n",
    "\n",
    "config = PlotConfig()\n",
    "config.context = 'jupyter'\n",
    "config.include_ms1 = True\n",
    "config.include_ms2 = True\n",
    "config.aggregate_mslevels = False ## separate plot per transition\n",
    "\n",
    "#config.type_of_heatmap = 'm/z vs retention time'\n",
    "#config.type_of_heatmap = 'm/z vs ion mobility' \n",
    "config.type_of_heatmap = 'retention time vs ion mobility'\n",
    "\n",
    "plotter = InteractiveTwoDimensionPlotter(config)\n",
    "plotter.plot(featureMap)\n",
    "plotter.show()"
   ]
  }
 ],
 "metadata": {
  "kernelspec": {
   "display_name": "Python 3 (ipykernel)",
   "language": "python",
   "name": "python3"
  },
  "language_info": {
   "codemirror_mode": {
    "name": "ipython",
    "version": 3
   },
   "file_extension": ".py",
   "mimetype": "text/x-python",
   "name": "python",
   "nbconvert_exporter": "python",
   "pygments_lexer": "ipython3",
   "version": "3.9.18"
  }
 },
 "nbformat": 4,
 "nbformat_minor": 5
}
