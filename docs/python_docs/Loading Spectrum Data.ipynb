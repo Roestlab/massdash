{
 "cells": [
  {
   "cell_type": "markdown",
   "id": "1eb7016d-c75e-44f9-929d-8e60bc0b3840",
   "metadata": {
    "editable": true,
    "slideshow": {
     "slide_type": ""
    },
    "tags": []
   },
   "source": [
    "# Loading Spectrum Data"
   ]
  },
  {
   "cell_type": "raw",
   "id": "95faed62-f403-4863-970c-b0ab14d8b471",
   "metadata": {
    "editable": true,
    "raw_mimetype": "text/restructuredtext",
    "slideshow": {
     "slide_type": ""
    },
    "tags": []
   },
   "source": [
    ".. currentmodule:: massdash"
   ]
  },
  {
   "cell_type": "raw",
   "id": "42dfd8ee-cbc2-4b0d-8867-394be19db190",
   "metadata": {
    "editable": true,
    "raw_mimetype": "text/restructuredtext",
    "slideshow": {
     "slide_type": ""
    },
    "tags": []
   },
   "source": [
    "Spectrum data loaders implement the same methods as Chromatogram Data Loaders as well as some additional methods since more information can be gathered from spectrum data loaders. Fetching raw data with spectrum loaders takes more time since data is extracted on the fly. Additionally :py:class:`~structs.TargetedDIAConfig` must be specified to instruct how the peptide should be extracted. "
   ]
  },
  {
   "cell_type": "code",
   "execution_count": 1,
   "id": "2f7b4ad2-0486-4f1b-ba89-11e7dd381b0e",
   "metadata": {
    "editable": true,
    "nbsphinx": "hidden",
    "slideshow": {
     "slide_type": ""
    },
    "tags": []
   },
   "outputs": [],
   "source": [
    "%load_ext autoreload\n",
    "%autoreload 2"
   ]
  },
  {
   "cell_type": "code",
   "execution_count": 2,
   "id": "f15a7806-3adb-41be-8d81-5e1eda910d71",
   "metadata": {
    "editable": true,
    "nbsphinx": "hidden",
    "slideshow": {
     "slide_type": ""
    },
    "tags": []
   },
   "outputs": [],
   "source": [
    "# Please run this before executing any cell\n",
    "import os\n",
    "os.chdir(\"../../test/test_data/\") #### Insert path to data, this is the path to the tutorial data. "
   ]
  },
  {
   "cell_type": "markdown",
   "id": "7e070013-5f19-468e-a620-f04d18fbc421",
   "metadata": {
    "editable": true,
    "slideshow": {
     "slide_type": ""
    },
    "tags": []
   },
   "source": [
    "## Initiating a Spectrum Data Loader"
   ]
  },
  {
   "cell_type": "markdown",
   "id": "f97a362b-3752-4992-9bb4-230a2b4b7810",
   "metadata": {
    "editable": true,
    "raw_mimetype": "text/markdown",
    "slideshow": {
     "slide_type": ""
    },
    "tags": []
   },
   "source": [
    "Most [Spectrum Loaders](../generated/massdash.loaders.GenericSpectrumLoader.rst) require the following inputs. "
   ]
  },
  {
   "cell_type": "markdown",
   "id": "dfd2e13c-4307-4663-bbae-16a885016e73",
   "metadata": {
    "editable": true,
    "slideshow": {
     "slide_type": ""
    },
    "tags": []
   },
   "source": [
    "\n",
    "1. **dataFiles** - a list of raw data files \n",
    "2. **rsltsFile** - a `.osw` or DIA-NN `.tsv` file containing the features\n",
    "3. **libraryFile** - a `.tsv`/`.osw`/`.pqp` file contaning the library (m/z and annotations of all transitions)"
   ]
  },
  {
   "cell_type": "raw",
   "id": "1094bb7e-5ba5-4378-885e-9f0ae5e659ae",
   "metadata": {
    "editable": true,
    "raw_mimetype": "text/restructuredtext",
    "slideshow": {
     "slide_type": ""
    },
    "tags": []
   },
   "source": [
    "We can initiate a :py:class:`~loaders.MzMLDataLoader` object with follows. "
   ]
  },
  {
   "cell_type": "code",
   "execution_count": 3,
   "id": "efbbf242-6cb5-4e67-a771-38d8d5357d9a",
   "metadata": {
    "editable": true,
    "slideshow": {
     "slide_type": ""
    },
    "tags": []
   },
   "outputs": [
    {
     "name": "stdout",
     "output_type": "stream",
     "text": [
      "[2024-01-12 10:47:32,489] MzMLDataAccess - INFO - Opening mzml/ionMobilityTest.mzML file...: Elapsed 0.08150815963745117 ms\n",
      "[2024-01-12 10:47:32,490] MzMLDataAccess - INFO - There are 50 spectra and 0 chromatograms.\n",
      "[2024-01-12 10:47:32,490] MzMLDataAccess - INFO - There are 25 MS1 spectra and 25 MS2 spectra.\n"
     ]
    }
   ],
   "source": [
    "from massdash.loaders import MzMLDataLoader\n",
    "loader = MzMLDataLoader(dataFiles=\"mzml/ionMobilityTest.mzML\",\n",
    "                        rsltsFile=\"osw/ionMobilityTest.osw\",\n",
    "                        rsltsFileType=\"OpenSWATH\")"
   ]
  },
  {
   "cell_type": "markdown",
   "id": "c8056e1b-4ca0-48a8-a018-136cfea86d56",
   "metadata": {
    "editable": true,
    "slideshow": {
     "slide_type": ""
    },
    "tags": []
   },
   "source": [
    "This same `.MzML` file can also be initiated with DIA-NN output as shown. Note, since DIA-NN results files do not always have transition level information, a library file must also be provided."
   ]
  },
  {
   "cell_type": "code",
   "execution_count": 4,
   "id": "9d07e867-60fd-4112-97d7-9bb7ce8cc2b6",
   "metadata": {
    "editable": true,
    "slideshow": {
     "slide_type": ""
    },
    "tags": []
   },
   "outputs": [
    {
     "name": "stdout",
     "output_type": "stream",
     "text": [
      "[2024-01-12 10:47:32,556] MzMLDataAccess - INFO - Opening mzml/ionMobilityTest.mzML file...: Elapsed 0.038275718688964844 ms\n",
      "[2024-01-12 10:47:32,557] MzMLDataAccess - INFO - There are 50 spectra and 0 chromatograms.\n",
      "[2024-01-12 10:47:32,557] MzMLDataAccess - INFO - There are 25 MS1 spectra and 25 MS2 spectra.\n"
     ]
    }
   ],
   "source": [
    "from massdash.loaders import MzMLDataLoader\n",
    "loader_diann = MzMLDataLoader(dataFiles=\"mzml/ionMobilityTest.mzML\",\n",
    "                        rsltsFile=\"diann/ionMobilityTest-diannReport.tsv\",\n",
    "                        libraryFile=\"library/ionMobilityTestLibrary.tsv\",\n",
    "                        rsltsFileType='DIA-NN')"
   ]
  },
  {
   "cell_type": "raw",
   "id": "84f24441-dac1-4ade-87fd-840369bbb616",
   "metadata": {
    "editable": true,
    "raw_mimetype": "text/restructuredtext",
    "slideshow": {
     "slide_type": ""
    },
    "tags": []
   },
   "source": [
    "For the purpose of this tutorial we will be using the OpenSwath results this approach will work with any properly initiated :py:class:`~loaders.MzMLDataLoader`."
   ]
  },
  {
   "cell_type": "markdown",
   "id": "e04297c9-77b9-4e08-86f1-217a9b5f21c4",
   "metadata": {
    "editable": true,
    "slideshow": {
     "slide_type": ""
    },
    "tags": []
   },
   "source": [
    "<div class=\"alert alert-info\">\n",
    "\n",
    "Note\n",
    "\n",
    "If a `.osw` file is provided as a rslts file and no library file is provided, MassDash will assume the `.osw` file should also be used as the library. \n",
    "\n",
    "</div>"
   ]
  },
  {
   "cell_type": "markdown",
   "id": "a2d65655-b46f-4b6c-9338-5f351541cf58",
   "metadata": {
    "editable": true,
    "slideshow": {
     "slide_type": ""
    },
    "tags": []
   },
   "source": [
    "## Loading a Transition Group"
   ]
  },
  {
   "cell_type": "raw",
   "id": "fa5cdda7-0d26-4b49-9ac0-65d7ed7eb6ba",
   "metadata": {
    "editable": true,
    "raw_mimetype": "text/restructuredtext",
    "slideshow": {
     "slide_type": ""
    },
    "tags": []
   },
   "source": [
    "To fetch the chromatograms for a particular transitionGroup, we can call the :py:func:`~structs.GenericSpectrumLoader.loadTransitionGroups` method. In addition to the modified peptide sequence and  charge state, this method also requires a :py:class:`~structs.TargetedDIAConfig` which specifies the extraction parameters and will load the transition groups across all runs. This method can take a while since it is fetching the data across all experiments from disk. "
   ]
  },
  {
   "cell_type": "markdown",
   "id": "9b9713c1-7000-4167-871d-5ea478221889",
   "metadata": {
    "editable": true,
    "slideshow": {
     "slide_type": ""
    },
    "tags": []
   },
   "source": [
    "In this example we will visualize the peptide *NKESPT(UniMod:21)KAIVR(UniMod:267)* with a charge state of *3*"
   ]
  },
  {
   "cell_type": "raw",
   "id": "a23a6d2c-33b3-4015-801e-eb7fe1353512",
   "metadata": {
    "editable": true,
    "raw_mimetype": "text/restructuredtext",
    "slideshow": {
     "slide_type": ""
    },
    "tags": []
   },
   "source": [
    "First, we can create a :py:class:`~structs.TargetedDIAConfig`."
   ]
  },
  {
   "cell_type": "code",
   "execution_count": 5,
   "id": "e647514a-0a3f-4055-bee0-d794b05c51c3",
   "metadata": {
    "editable": true,
    "slideshow": {
     "slide_type": ""
    },
    "tags": []
   },
   "outputs": [],
   "source": [
    "from massdash.structs.TargetedDIAConfig import TargetedDIAConfig\n",
    "extraction_config = TargetedDIAConfig()\n",
    "extraction_config.im_window = 0.2\n",
    "extraction_config.rt_window = 50\n",
    "extraction_config.mz_tol = 20"
   ]
  },
  {
   "cell_type": "raw",
   "id": "ea889aac-45d7-472a-b3fe-8c042c8c6965",
   "metadata": {
    "editable": true,
    "raw_mimetype": "text/restructuredtext",
    "slideshow": {
     "slide_type": ""
    },
    "tags": []
   },
   "source": [
    "Then we can invoke the :py:func:`~structs.MzMLDataLoader.loadTransitionGroups` method with the target sequence, charge and extraction config."
   ]
  },
  {
   "cell_type": "code",
   "execution_count": 6,
   "id": "49942906-4dc2-4d7a-8a70-812ab233fcd4",
   "metadata": {
    "editable": true,
    "slideshow": {
     "slide_type": ""
    },
    "tags": []
   },
   "outputs": [
    {
     "data": {
      "text/plain": [
       "{'mzml/ionMobilityTest.mzML': <massdash.structs.TransitionGroup.TransitionGroup at 0x7ff236a91e50>}"
      ]
     },
     "execution_count": 6,
     "metadata": {},
     "output_type": "execute_result"
    }
   ],
   "source": [
    "transitionGroup = loader.loadTransitionGroups(\"AFVDFLSDEIK\", 2, extraction_config)\n",
    "transitionGroup"
   ]
  },
  {
   "cell_type": "raw",
   "id": "6eba544d-4d20-456e-a0d0-fe2eac478903",
   "metadata": {
    "editable": true,
    "raw_mimetype": "text/restructuredtext",
    "slideshow": {
     "slide_type": ""
    },
    "tags": []
   },
   "source": [
    "Like the ChromatogramLoaders, a dictionary is returned where the file keys are the the filename and the values are a :py:class:`~structs.TransitionGroup`. The :py:class:`~structs.TransitionGroup` holds a series of chromatograms belonging to the same precursor. This :py:class:`~structs.TransitionGroup` object can be used for plotting as shown [here]"
   ]
  },
  {
   "cell_type": "markdown",
   "id": "1861d1fe-915d-434a-bade-2d3139e6ab3d",
   "metadata": {
    "editable": true,
    "slideshow": {
     "slide_type": ""
    },
    "tags": []
   },
   "source": [
    "### Loading Chromatogram Data as a Pandas DataFrame"
   ]
  },
  {
   "cell_type": "raw",
   "id": "ec921337-8ed3-4550-becd-2ac734d1c048",
   "metadata": {
    "editable": true,
    "raw_mimetype": "text/restructuredtext",
    "slideshow": {
     "slide_type": ""
    },
    "tags": []
   },
   "source": [
    "Like `Chromatogram Data Loaders`_, data can be loaded into a pandas dataframe using the :py:func:`~loaders.MzMLDataLoader.loadTransitionGroupsDf`.\n",
    "\n",
    ".. _Chromatogram Data Loaders: Loading\\ Chromatogram\\ Data.ipynb#Loading-Chromatogram-Data-as-a-Pandas-DataFrame"
   ]
  },
  {
   "cell_type": "code",
   "execution_count": 7,
   "id": "564969ca-c692-4f10-bbb2-87098a74c414",
   "metadata": {
    "editable": true,
    "slideshow": {
     "slide_type": ""
    },
    "tags": []
   },
   "outputs": [
    {
     "data": {
      "text/html": [
       "<div>\n",
       "<style scoped>\n",
       "    .dataframe tbody tr th:only-of-type {\n",
       "        vertical-align: middle;\n",
       "    }\n",
       "\n",
       "    .dataframe tbody tr th {\n",
       "        vertical-align: top;\n",
       "    }\n",
       "\n",
       "    .dataframe thead th {\n",
       "        text-align: right;\n",
       "    }\n",
       "</style>\n",
       "<table border=\"1\" class=\"dataframe\">\n",
       "  <thead>\n",
       "    <tr style=\"text-align: right;\">\n",
       "      <th></th>\n",
       "      <th>filename</th>\n",
       "      <th>Annotation</th>\n",
       "      <th>rt</th>\n",
       "      <th>int</th>\n",
       "    </tr>\n",
       "  </thead>\n",
       "  <tbody>\n",
       "    <tr>\n",
       "      <th>0</th>\n",
       "      <td>mzml/ionMobilityTest.mzML</td>\n",
       "      <td>prec</td>\n",
       "      <td>6225.005106</td>\n",
       "      <td>229.011734</td>\n",
       "    </tr>\n",
       "    <tr>\n",
       "      <th>1</th>\n",
       "      <td>mzml/ionMobilityTest.mzML</td>\n",
       "      <td>prec</td>\n",
       "      <td>6226.792950</td>\n",
       "      <td>26.001631</td>\n",
       "    </tr>\n",
       "    <tr>\n",
       "      <th>2</th>\n",
       "      <td>mzml/ionMobilityTest.mzML</td>\n",
       "      <td>prec</td>\n",
       "      <td>6228.580932</td>\n",
       "      <td>57.999416</td>\n",
       "    </tr>\n",
       "    <tr>\n",
       "      <th>3</th>\n",
       "      <td>mzml/ionMobilityTest.mzML</td>\n",
       "      <td>prec</td>\n",
       "      <td>6230.367189</td>\n",
       "      <td>826.008179</td>\n",
       "    </tr>\n",
       "    <tr>\n",
       "      <th>4</th>\n",
       "      <td>mzml/ionMobilityTest.mzML</td>\n",
       "      <td>prec</td>\n",
       "      <td>6232.156436</td>\n",
       "      <td>1589.015259</td>\n",
       "    </tr>\n",
       "    <tr>\n",
       "      <th>...</th>\n",
       "      <td>...</td>\n",
       "      <td>...</td>\n",
       "      <td>...</td>\n",
       "      <td>...</td>\n",
       "    </tr>\n",
       "    <tr>\n",
       "      <th>163</th>\n",
       "      <td>mzml/ionMobilityTest.mzML</td>\n",
       "      <td>y9^1</td>\n",
       "      <td>6259.292755</td>\n",
       "      <td>4355.988281</td>\n",
       "    </tr>\n",
       "    <tr>\n",
       "      <th>164</th>\n",
       "      <td>mzml/ionMobilityTest.mzML</td>\n",
       "      <td>y9^1</td>\n",
       "      <td>6261.101406</td>\n",
       "      <td>1168.029907</td>\n",
       "    </tr>\n",
       "    <tr>\n",
       "      <th>165</th>\n",
       "      <td>mzml/ionMobilityTest.mzML</td>\n",
       "      <td>y9^1</td>\n",
       "      <td>6262.909095</td>\n",
       "      <td>1286.014038</td>\n",
       "    </tr>\n",
       "    <tr>\n",
       "      <th>166</th>\n",
       "      <td>mzml/ionMobilityTest.mzML</td>\n",
       "      <td>y9^1</td>\n",
       "      <td>6264.711573</td>\n",
       "      <td>413.995209</td>\n",
       "    </tr>\n",
       "    <tr>\n",
       "      <th>167</th>\n",
       "      <td>mzml/ionMobilityTest.mzML</td>\n",
       "      <td>y9^1</td>\n",
       "      <td>6266.515136</td>\n",
       "      <td>1217.012207</td>\n",
       "    </tr>\n",
       "  </tbody>\n",
       "</table>\n",
       "<p>168 rows × 4 columns</p>\n",
       "</div>"
      ],
      "text/plain": [
       "                      filename Annotation           rt          int\n",
       "0    mzml/ionMobilityTest.mzML       prec  6225.005106   229.011734\n",
       "1    mzml/ionMobilityTest.mzML       prec  6226.792950    26.001631\n",
       "2    mzml/ionMobilityTest.mzML       prec  6228.580932    57.999416\n",
       "3    mzml/ionMobilityTest.mzML       prec  6230.367189   826.008179\n",
       "4    mzml/ionMobilityTest.mzML       prec  6232.156436  1589.015259\n",
       "..                         ...        ...          ...          ...\n",
       "163  mzml/ionMobilityTest.mzML       y9^1  6259.292755  4355.988281\n",
       "164  mzml/ionMobilityTest.mzML       y9^1  6261.101406  1168.029907\n",
       "165  mzml/ionMobilityTest.mzML       y9^1  6262.909095  1286.014038\n",
       "166  mzml/ionMobilityTest.mzML       y9^1  6264.711573   413.995209\n",
       "167  mzml/ionMobilityTest.mzML       y9^1  6266.515136  1217.012207\n",
       "\n",
       "[168 rows x 4 columns]"
      ]
     },
     "execution_count": 7,
     "metadata": {},
     "output_type": "execute_result"
    }
   ],
   "source": [
    "transitionGroupDf = loader.loadTransitionGroupsDf(\"AFVDFLSDEIK\", 2, extraction_config )\n",
    "transitionGroupDf"
   ]
  },
  {
   "cell_type": "markdown",
   "id": "a3df005c-6b4f-49e9-9cdc-593c77c5a1b0",
   "metadata": {
    "editable": true,
    "slideshow": {
     "slide_type": ""
    },
    "tags": []
   },
   "source": [
    "This dataframe has all of the intensities and retention times for all of the files across all transitions. Transitions can be diffrentiated by the *annotation* column and the *filename* column diffrentiates the file/run in which the chromatograms originate from. If ion mobility was present in the original file, intensities are summed across all values of ion mobility."
   ]
  },
  {
   "cell_type": "markdown",
   "id": "3a03eab8-0607-45f6-b46a-be3f470b7110",
   "metadata": {
    "editable": true,
    "slideshow": {
     "slide_type": ""
    },
    "tags": []
   },
   "source": [
    "<div class=\"alert alert-info\">\n",
    "\n",
    "Note\n",
    "\n",
    "If a pandas dataframe is required it is recomended to use the `FeatureMap` object directly as described below.   \n",
    "\n",
    "</div>"
   ]
  },
  {
   "cell_type": "markdown",
   "id": "1822082b-f449-4f8f-b4df-4ac48ac35037",
   "metadata": {
    "editable": true,
    "slideshow": {
     "slide_type": ""
    },
    "tags": []
   },
   "source": [
    "## Loading a Feature Map"
   ]
  },
  {
   "cell_type": "raw",
   "id": "8c467799-e720-4824-95b7-58da5be771ea",
   "metadata": {
    "editable": true,
    "raw_mimetype": "text/restructuredtext",
    "slideshow": {
     "slide_type": ""
    },
    "tags": []
   },
   "source": [
    "The primary datatype that is fetched from a :py:class:`~structs.FeatureMap` which is contains a pandas dataframe of the extracted chromatogram across all precursors and transitions. Thus, under the hood, the :py:func:`~loaders.GenericSpectrumLoader.loadTransitionGroups` method is fetching a :py:class:`~structs.TransitionGroup` and converting it into a :py:class:`~structs.FeatureMap`. Due to this conversion step, if a pandas dataframe is required, it is generally faster to work with the :py:class:`~structs.FeatureMap` directly. "
   ]
  },
  {
   "cell_type": "raw",
   "id": "93ed758c-a7af-4fff-b5b5-92bfdd3dc18c",
   "metadata": {
    "editable": true,
    "raw_mimetype": "text/restructuredtext",
    "slideshow": {
     "slide_type": ""
    },
    "tags": []
   },
   "source": [
    "The FeatureMap object can be loaded using the :py:func:`~loaders.GenericSpectrumLoader.loadFeatureMaps` method as demonstrated below. "
   ]
  },
  {
   "cell_type": "code",
   "execution_count": 8,
   "id": "74e8d17b-603b-4e0d-ac02-f2ad5b37309b",
   "metadata": {
    "editable": true,
    "slideshow": {
     "slide_type": ""
    },
    "tags": []
   },
   "outputs": [
    {
     "data": {
      "text/plain": [
       "{'mzml/ionMobilityTest.mzML': <massdash.structs.FeatureMap.FeatureMap at 0x7ff236a59760>}"
      ]
     },
     "execution_count": 8,
     "metadata": {},
     "output_type": "execute_result"
    }
   ],
   "source": [
    "featureMap = loader.loadFeatureMaps(\"AFVDFLSDEIK\", 2, extraction_config)\n",
    "featureMap"
   ]
  },
  {
   "cell_type": "raw",
   "id": "d50835f2-7f03-4954-95b0-3158eb8ec4e8",
   "metadata": {
    "editable": true,
    "raw_mimetype": "text/restructuredtext",
    "slideshow": {
     "slide_type": ""
    },
    "tags": []
   },
   "source": [
    "Like the :py:func:`~loaders.GenericSpectrumLoader.loadTransitionGroup` method this method returns a dictionary where the keys are the run names. However here the values are feature map objects."
   ]
  },
  {
   "attachments": {},
   "cell_type": "raw",
   "id": "957806d6-49ce-4863-b6fb-cb97162fec18",
   "metadata": {
    "editable": true,
    "raw_mimetype": "text/restructuredtext",
    "slideshow": {
     "slide_type": ""
    },
    "tags": []
   },
   "source": [
    "The :py:class:`~structs.FeatureMap` object has two important properties:\n",
    "\n",
    "1. `.feature_df` property which returns the dataframe\n",
    "2. `.config` property which returns the :py:class:`~structs.TargetedDIAExtraction` that was used to generate this :py:class:`~structs.FeatureMap`"
   ]
  },
  {
   "cell_type": "code",
   "execution_count": 9,
   "id": "16eb9f10-f1c8-4910-8e93-a197e005e6cf",
   "metadata": {
    "editable": true,
    "slideshow": {
     "slide_type": ""
    },
    "tags": []
   },
   "outputs": [
    {
     "data": {
      "text/html": [
       "<div>\n",
       "<style scoped>\n",
       "    .dataframe tbody tr th:only-of-type {\n",
       "        vertical-align: middle;\n",
       "    }\n",
       "\n",
       "    .dataframe tbody tr th {\n",
       "        vertical-align: top;\n",
       "    }\n",
       "\n",
       "    .dataframe thead th {\n",
       "        text-align: right;\n",
       "    }\n",
       "</style>\n",
       "<table border=\"1\" class=\"dataframe\">\n",
       "  <thead>\n",
       "    <tr style=\"text-align: right;\">\n",
       "      <th></th>\n",
       "      <th>native_id</th>\n",
       "      <th>ms_level</th>\n",
       "      <th>precursor_mz</th>\n",
       "      <th>mz</th>\n",
       "      <th>rt</th>\n",
       "      <th>im</th>\n",
       "      <th>int</th>\n",
       "      <th>Annotation</th>\n",
       "      <th>product_mz</th>\n",
       "    </tr>\n",
       "  </thead>\n",
       "  <tbody>\n",
       "    <tr>\n",
       "      <th>0</th>\n",
       "      <td></td>\n",
       "      <td>1</td>\n",
       "      <td>642.3295</td>\n",
       "      <td>642.334187</td>\n",
       "      <td>6225.005106</td>\n",
       "      <td>0.900254</td>\n",
       "      <td>76.000458</td>\n",
       "      <td>prec</td>\n",
       "      <td>642.3295</td>\n",
       "    </tr>\n",
       "    <tr>\n",
       "      <th>1</th>\n",
       "      <td></td>\n",
       "      <td>1</td>\n",
       "      <td>642.3295</td>\n",
       "      <td>642.334187</td>\n",
       "      <td>6225.005106</td>\n",
       "      <td>0.969271</td>\n",
       "      <td>153.011276</td>\n",
       "      <td>prec</td>\n",
       "      <td>642.3295</td>\n",
       "    </tr>\n",
       "    <tr>\n",
       "      <th>2</th>\n",
       "      <td></td>\n",
       "      <td>2</td>\n",
       "      <td>642.3295</td>\n",
       "      <td>504.262011</td>\n",
       "      <td>6225.110817</td>\n",
       "      <td>0.935281</td>\n",
       "      <td>68.001518</td>\n",
       "      <td>y4^1</td>\n",
       "      <td>504.2664</td>\n",
       "    </tr>\n",
       "    <tr>\n",
       "      <th>3</th>\n",
       "      <td></td>\n",
       "      <td>2</td>\n",
       "      <td>642.3295</td>\n",
       "      <td>504.262011</td>\n",
       "      <td>6225.110817</td>\n",
       "      <td>1.025902</td>\n",
       "      <td>41.000328</td>\n",
       "      <td>y4^1</td>\n",
       "      <td>504.2664</td>\n",
       "    </tr>\n",
       "    <tr>\n",
       "      <th>4</th>\n",
       "      <td></td>\n",
       "      <td>2</td>\n",
       "      <td>642.3295</td>\n",
       "      <td>504.262011</td>\n",
       "      <td>6225.110817</td>\n",
       "      <td>0.926001</td>\n",
       "      <td>43.000782</td>\n",
       "      <td>y4^1</td>\n",
       "      <td>504.2664</td>\n",
       "    </tr>\n",
       "    <tr>\n",
       "      <th>...</th>\n",
       "      <td>...</td>\n",
       "      <td>...</td>\n",
       "      <td>...</td>\n",
       "      <td>...</td>\n",
       "      <td>...</td>\n",
       "      <td>...</td>\n",
       "      <td>...</td>\n",
       "      <td>...</td>\n",
       "      <td>...</td>\n",
       "    </tr>\n",
       "    <tr>\n",
       "      <th>6812</th>\n",
       "      <td></td>\n",
       "      <td>2</td>\n",
       "      <td>642.3295</td>\n",
       "      <td>1065.546118</td>\n",
       "      <td>6266.515136</td>\n",
       "      <td>0.975441</td>\n",
       "      <td>8.999968</td>\n",
       "      <td>y9^1</td>\n",
       "      <td>1065.5463</td>\n",
       "    </tr>\n",
       "    <tr>\n",
       "      <th>6813</th>\n",
       "      <td></td>\n",
       "      <td>2</td>\n",
       "      <td>642.3295</td>\n",
       "      <td>1065.551224</td>\n",
       "      <td>6266.515136</td>\n",
       "      <td>0.986777</td>\n",
       "      <td>33.001766</td>\n",
       "      <td>y9^1</td>\n",
       "      <td>1065.5463</td>\n",
       "    </tr>\n",
       "    <tr>\n",
       "      <th>6814</th>\n",
       "      <td></td>\n",
       "      <td>2</td>\n",
       "      <td>642.3295</td>\n",
       "      <td>1065.551224</td>\n",
       "      <td>6266.515136</td>\n",
       "      <td>0.923945</td>\n",
       "      <td>84.003464</td>\n",
       "      <td>y9^1</td>\n",
       "      <td>1065.5463</td>\n",
       "    </tr>\n",
       "    <tr>\n",
       "      <th>6815</th>\n",
       "      <td></td>\n",
       "      <td>2</td>\n",
       "      <td>642.3295</td>\n",
       "      <td>1065.556331</td>\n",
       "      <td>6266.515136</td>\n",
       "      <td>0.910546</td>\n",
       "      <td>63.997871</td>\n",
       "      <td>y9^1</td>\n",
       "      <td>1065.5463</td>\n",
       "    </tr>\n",
       "    <tr>\n",
       "      <th>6816</th>\n",
       "      <td></td>\n",
       "      <td>2</td>\n",
       "      <td>642.3295</td>\n",
       "      <td>1065.556331</td>\n",
       "      <td>6266.515136</td>\n",
       "      <td>0.921891</td>\n",
       "      <td>54.000694</td>\n",
       "      <td>y9^1</td>\n",
       "      <td>1065.5463</td>\n",
       "    </tr>\n",
       "  </tbody>\n",
       "</table>\n",
       "<p>6817 rows × 9 columns</p>\n",
       "</div>"
      ],
      "text/plain": [
       "     native_id  ms_level  precursor_mz           mz           rt        im  \\\n",
       "0                      1      642.3295   642.334187  6225.005106  0.900254   \n",
       "1                      1      642.3295   642.334187  6225.005106  0.969271   \n",
       "2                      2      642.3295   504.262011  6225.110817  0.935281   \n",
       "3                      2      642.3295   504.262011  6225.110817  1.025902   \n",
       "4                      2      642.3295   504.262011  6225.110817  0.926001   \n",
       "...        ...       ...           ...          ...          ...       ...   \n",
       "6812                   2      642.3295  1065.546118  6266.515136  0.975441   \n",
       "6813                   2      642.3295  1065.551224  6266.515136  0.986777   \n",
       "6814                   2      642.3295  1065.551224  6266.515136  0.923945   \n",
       "6815                   2      642.3295  1065.556331  6266.515136  0.910546   \n",
       "6816                   2      642.3295  1065.556331  6266.515136  0.921891   \n",
       "\n",
       "             int Annotation  product_mz  \n",
       "0      76.000458       prec    642.3295  \n",
       "1     153.011276       prec    642.3295  \n",
       "2      68.001518       y4^1    504.2664  \n",
       "3      41.000328       y4^1    504.2664  \n",
       "4      43.000782       y4^1    504.2664  \n",
       "...          ...        ...         ...  \n",
       "6812    8.999968       y9^1   1065.5463  \n",
       "6813   33.001766       y9^1   1065.5463  \n",
       "6814   84.003464       y9^1   1065.5463  \n",
       "6815   63.997871       y9^1   1065.5463  \n",
       "6816   54.000694       y9^1   1065.5463  \n",
       "\n",
       "[6817 rows x 9 columns]"
      ]
     },
     "execution_count": 9,
     "metadata": {},
     "output_type": "execute_result"
    }
   ],
   "source": [
    "featureMap['mzml/ionMobilityTest.mzML'].feature_df"
   ]
  },
  {
   "cell_type": "code",
   "execution_count": 10,
   "id": "ff3e0ad6-3924-49e3-a17b-0d4460223c61",
   "metadata": {
    "editable": true,
    "slideshow": {
     "slide_type": ""
    },
    "tags": []
   },
   "outputs": [
    {
     "data": {
      "text/plain": [
       "<massdash.structs.TargetedDIAConfig.TargetedDIAConfig at 0x7ff236a91fd0>"
      ]
     },
     "execution_count": 10,
     "metadata": {},
     "output_type": "execute_result"
    }
   ],
   "source": [
    "featureMap['mzml/ionMobilityTest.mzML'].config"
   ]
  },
  {
   "cell_type": "markdown",
   "id": "2c5b0cb8-81c3-4134-8b98-9d886f40dbbe",
   "metadata": {},
   "source": [
    "## Converting a FeatureMap to 1D data"
   ]
  },
  {
   "cell_type": "markdown",
   "id": "6c917a2e-f959-40af-aada-2f71c8a197e9",
   "metadata": {},
   "source": [
    "A `FeatureMap` by itself can be difficult to visualize due to its high dimensionality. Thus, massDash has built in methods to convert a `featureMap` into a `chromatogram` (retention time vs intensity), `spectrum` (m/z vs intensity` or, if ion mobility is present a `mobilogram` (intensity vs ion mobility)"
   ]
  },
  {
   "cell_type": "markdown",
   "id": "fbdc1934-8809-4cad-b8fb-97fb076ea0b0",
   "metadata": {},
   "source": [
    "To accomplish this we can use the `to_chromatogram`, `to_spectra` or `to_mobilogram` methods respectively"
   ]
  },
  {
   "cell_type": "code",
   "execution_count": 11,
   "id": "c985108c-3a95-4475-bd39-32f4f0f38119",
   "metadata": {},
   "outputs": [
    {
     "data": {
      "text/plain": [
       "<massdash.structs.TransitionGroup.TransitionGroup at 0x7ff236a59160>"
      ]
     },
     "execution_count": 11,
     "metadata": {},
     "output_type": "execute_result"
    }
   ],
   "source": [
    "chromatograms = featureMap['mzml/ionMobilityTest.mzML'].to_chromatograms()\n",
    "chromatograms"
   ]
  },
  {
   "cell_type": "code",
   "execution_count": 12,
   "id": "766bcae8-96b7-4f8e-940e-e12a83ac0d73",
   "metadata": {},
   "outputs": [
    {
     "data": {
      "text/plain": [
       "<massdash.structs.TransitionGroup.TransitionGroup at 0x7ff2368c8040>"
      ]
     },
     "execution_count": 12,
     "metadata": {},
     "output_type": "execute_result"
    }
   ],
   "source": [
    "mobilograms = featureMap['mzml/ionMobilityTest.mzML'].to_mobilograms()\n",
    "mobilograms"
   ]
  },
  {
   "cell_type": "code",
   "execution_count": 13,
   "id": "eddc00a5-ef6a-4c01-87f3-4553ad280d4a",
   "metadata": {},
   "outputs": [
    {
     "data": {
      "text/plain": [
       "<massdash.structs.TransitionGroup.TransitionGroup at 0x7ff287caf400>"
      ]
     },
     "execution_count": 13,
     "metadata": {},
     "output_type": "execute_result"
    }
   ],
   "source": [
    "spectra = featureMap['mzml/ionMobilityTest.mzML'].to_spectra()\n",
    "spectra"
   ]
  },
  {
   "cell_type": "markdown",
   "id": "fa035d11-bc1d-48b1-876d-548e9a2ccaee",
   "metadata": {
    "editable": true,
    "slideshow": {
     "slide_type": ""
    },
    "tags": []
   },
   "source": [
    "<div class=\"alert alert-info\">\n",
    "\n",
    "Note\n",
    "\n",
    "When converting a `FeatureMap` a `TransitionGroup` is always returned however the underlying data type is different based on the conversion method used.   \n",
    "\n",
    "</div>"
   ]
  },
  {
   "cell_type": "markdown",
   "id": "506636ff-689d-41b2-8735-9e07beb37378",
   "metadata": {},
   "source": [
    "## Converting a FeatureMap DataFrame to 1D data"
   ]
  },
  {
   "cell_type": "markdown",
   "id": "62b4273a-6bab-4b85-8035-f07a4e8d4051",
   "metadata": {},
   "source": [
    "If the FeatureMap was fetched as a dataframe, the data can be converted to 1D data using the built in pandas groupby functions. "
   ]
  },
  {
   "cell_type": "code",
   "execution_count": 14,
   "id": "4f378601-37d4-466a-8cd0-0aee746cab44",
   "metadata": {},
   "outputs": [
    {
     "data": {
      "text/html": [
       "<div>\n",
       "<style scoped>\n",
       "    .dataframe tbody tr th:only-of-type {\n",
       "        vertical-align: middle;\n",
       "    }\n",
       "\n",
       "    .dataframe tbody tr th {\n",
       "        vertical-align: top;\n",
       "    }\n",
       "\n",
       "    .dataframe thead th {\n",
       "        text-align: right;\n",
       "    }\n",
       "</style>\n",
       "<table border=\"1\" class=\"dataframe\">\n",
       "  <thead>\n",
       "    <tr style=\"text-align: right;\">\n",
       "      <th></th>\n",
       "      <th>Annotation</th>\n",
       "      <th>ms_level</th>\n",
       "      <th>native_id</th>\n",
       "      <th>product_mz</th>\n",
       "      <th>precursor_mz</th>\n",
       "      <th>rt</th>\n",
       "      <th>int</th>\n",
       "    </tr>\n",
       "  </thead>\n",
       "  <tbody>\n",
       "    <tr>\n",
       "      <th>0</th>\n",
       "      <td>prec</td>\n",
       "      <td>1</td>\n",
       "      <td></td>\n",
       "      <td>642.3295</td>\n",
       "      <td>642.3295</td>\n",
       "      <td>6225.005106</td>\n",
       "      <td>229.011734</td>\n",
       "    </tr>\n",
       "    <tr>\n",
       "      <th>1</th>\n",
       "      <td>prec</td>\n",
       "      <td>1</td>\n",
       "      <td></td>\n",
       "      <td>642.3295</td>\n",
       "      <td>642.3295</td>\n",
       "      <td>6226.792950</td>\n",
       "      <td>26.001631</td>\n",
       "    </tr>\n",
       "    <tr>\n",
       "      <th>2</th>\n",
       "      <td>prec</td>\n",
       "      <td>1</td>\n",
       "      <td></td>\n",
       "      <td>642.3295</td>\n",
       "      <td>642.3295</td>\n",
       "      <td>6228.580932</td>\n",
       "      <td>57.999416</td>\n",
       "    </tr>\n",
       "    <tr>\n",
       "      <th>3</th>\n",
       "      <td>prec</td>\n",
       "      <td>1</td>\n",
       "      <td></td>\n",
       "      <td>642.3295</td>\n",
       "      <td>642.3295</td>\n",
       "      <td>6230.367189</td>\n",
       "      <td>826.008179</td>\n",
       "    </tr>\n",
       "    <tr>\n",
       "      <th>4</th>\n",
       "      <td>prec</td>\n",
       "      <td>1</td>\n",
       "      <td></td>\n",
       "      <td>642.3295</td>\n",
       "      <td>642.3295</td>\n",
       "      <td>6232.156436</td>\n",
       "      <td>1589.015259</td>\n",
       "    </tr>\n",
       "    <tr>\n",
       "      <th>...</th>\n",
       "      <td>...</td>\n",
       "      <td>...</td>\n",
       "      <td>...</td>\n",
       "      <td>...</td>\n",
       "      <td>...</td>\n",
       "      <td>...</td>\n",
       "      <td>...</td>\n",
       "    </tr>\n",
       "    <tr>\n",
       "      <th>163</th>\n",
       "      <td>y9^1</td>\n",
       "      <td>2</td>\n",
       "      <td></td>\n",
       "      <td>1065.5463</td>\n",
       "      <td>642.3295</td>\n",
       "      <td>6259.292755</td>\n",
       "      <td>4355.988281</td>\n",
       "    </tr>\n",
       "    <tr>\n",
       "      <th>164</th>\n",
       "      <td>y9^1</td>\n",
       "      <td>2</td>\n",
       "      <td></td>\n",
       "      <td>1065.5463</td>\n",
       "      <td>642.3295</td>\n",
       "      <td>6261.101406</td>\n",
       "      <td>1168.029907</td>\n",
       "    </tr>\n",
       "    <tr>\n",
       "      <th>165</th>\n",
       "      <td>y9^1</td>\n",
       "      <td>2</td>\n",
       "      <td></td>\n",
       "      <td>1065.5463</td>\n",
       "      <td>642.3295</td>\n",
       "      <td>6262.909095</td>\n",
       "      <td>1286.014038</td>\n",
       "    </tr>\n",
       "    <tr>\n",
       "      <th>166</th>\n",
       "      <td>y9^1</td>\n",
       "      <td>2</td>\n",
       "      <td></td>\n",
       "      <td>1065.5463</td>\n",
       "      <td>642.3295</td>\n",
       "      <td>6264.711573</td>\n",
       "      <td>413.995209</td>\n",
       "    </tr>\n",
       "    <tr>\n",
       "      <th>167</th>\n",
       "      <td>y9^1</td>\n",
       "      <td>2</td>\n",
       "      <td></td>\n",
       "      <td>1065.5463</td>\n",
       "      <td>642.3295</td>\n",
       "      <td>6266.515136</td>\n",
       "      <td>1217.012207</td>\n",
       "    </tr>\n",
       "  </tbody>\n",
       "</table>\n",
       "<p>168 rows × 7 columns</p>\n",
       "</div>"
      ],
      "text/plain": [
       "    Annotation  ms_level native_id  product_mz  precursor_mz           rt  \\\n",
       "0         prec         1              642.3295      642.3295  6225.005106   \n",
       "1         prec         1              642.3295      642.3295  6226.792950   \n",
       "2         prec         1              642.3295      642.3295  6228.580932   \n",
       "3         prec         1              642.3295      642.3295  6230.367189   \n",
       "4         prec         1              642.3295      642.3295  6232.156436   \n",
       "..         ...       ...       ...         ...           ...          ...   \n",
       "163       y9^1         2             1065.5463      642.3295  6259.292755   \n",
       "164       y9^1         2             1065.5463      642.3295  6261.101406   \n",
       "165       y9^1         2             1065.5463      642.3295  6262.909095   \n",
       "166       y9^1         2             1065.5463      642.3295  6264.711573   \n",
       "167       y9^1         2             1065.5463      642.3295  6266.515136   \n",
       "\n",
       "             int  \n",
       "0     229.011734  \n",
       "1      26.001631  \n",
       "2      57.999416  \n",
       "3     826.008179  \n",
       "4    1589.015259  \n",
       "..           ...  \n",
       "163  4355.988281  \n",
       "164  1168.029907  \n",
       "165  1286.014038  \n",
       "166   413.995209  \n",
       "167  1217.012207  \n",
       "\n",
       "[168 rows x 7 columns]"
      ]
     },
     "execution_count": 14,
     "metadata": {},
     "output_type": "execute_result"
    }
   ],
   "source": [
    "df = featureMap['mzml/ionMobilityTest.mzML'].feature_df\n",
    "chromatograms = (df\n",
    "                 .drop(columns=[\"im\", \"mz\"]) # drop columns want to sum across\n",
    "                 .groupby(['Annotation', 'ms_level', 'native_id', 'product_mz', 'precursor_mz', 'rt']) # groupby retention time and labels\n",
    "                 .sum()\n",
    "                 .reset_index())\n",
    "chromatograms"
   ]
  },
  {
   "cell_type": "code",
   "execution_count": 15,
   "id": "60ed7cde-3f66-43a4-9b4f-5911f4a38d8d",
   "metadata": {},
   "outputs": [
    {
     "data": {
      "text/html": [
       "<div>\n",
       "<style scoped>\n",
       "    .dataframe tbody tr th:only-of-type {\n",
       "        vertical-align: middle;\n",
       "    }\n",
       "\n",
       "    .dataframe tbody tr th {\n",
       "        vertical-align: top;\n",
       "    }\n",
       "\n",
       "    .dataframe thead th {\n",
       "        text-align: right;\n",
       "    }\n",
       "</style>\n",
       "<table border=\"1\" class=\"dataframe\">\n",
       "  <thead>\n",
       "    <tr style=\"text-align: right;\">\n",
       "      <th></th>\n",
       "      <th>Annotation</th>\n",
       "      <th>ms_level</th>\n",
       "      <th>native_id</th>\n",
       "      <th>product_mz</th>\n",
       "      <th>precursor_mz</th>\n",
       "      <th>mz</th>\n",
       "      <th>int</th>\n",
       "    </tr>\n",
       "  </thead>\n",
       "  <tbody>\n",
       "    <tr>\n",
       "      <th>0</th>\n",
       "      <td>prec</td>\n",
       "      <td>1</td>\n",
       "      <td></td>\n",
       "      <td>642.3295</td>\n",
       "      <td>642.3295</td>\n",
       "      <td>642.326260</td>\n",
       "      <td>476.006775</td>\n",
       "    </tr>\n",
       "    <tr>\n",
       "      <th>1</th>\n",
       "      <td>prec</td>\n",
       "      <td>1</td>\n",
       "      <td></td>\n",
       "      <td>642.3295</td>\n",
       "      <td>642.3295</td>\n",
       "      <td>642.326260</td>\n",
       "      <td>806.987183</td>\n",
       "    </tr>\n",
       "    <tr>\n",
       "      <th>2</th>\n",
       "      <td>prec</td>\n",
       "      <td>1</td>\n",
       "      <td></td>\n",
       "      <td>642.3295</td>\n",
       "      <td>642.3295</td>\n",
       "      <td>642.326260</td>\n",
       "      <td>399.992432</td>\n",
       "    </tr>\n",
       "    <tr>\n",
       "      <th>3</th>\n",
       "      <td>prec</td>\n",
       "      <td>1</td>\n",
       "      <td></td>\n",
       "      <td>642.3295</td>\n",
       "      <td>642.3295</td>\n",
       "      <td>642.326260</td>\n",
       "      <td>26.001631</td>\n",
       "    </tr>\n",
       "    <tr>\n",
       "      <th>4</th>\n",
       "      <td>prec</td>\n",
       "      <td>1</td>\n",
       "      <td></td>\n",
       "      <td>642.3295</td>\n",
       "      <td>642.3295</td>\n",
       "      <td>642.326261</td>\n",
       "      <td>73.003876</td>\n",
       "    </tr>\n",
       "    <tr>\n",
       "      <th>...</th>\n",
       "      <td>...</td>\n",
       "      <td>...</td>\n",
       "      <td>...</td>\n",
       "      <td>...</td>\n",
       "      <td>...</td>\n",
       "      <td>...</td>\n",
       "      <td>...</td>\n",
       "    </tr>\n",
       "    <tr>\n",
       "      <th>548</th>\n",
       "      <td>y9^1</td>\n",
       "      <td>2</td>\n",
       "      <td></td>\n",
       "      <td>1065.5463</td>\n",
       "      <td>642.3295</td>\n",
       "      <td>1065.556333</td>\n",
       "      <td>220.996506</td>\n",
       "    </tr>\n",
       "    <tr>\n",
       "      <th>549</th>\n",
       "      <td>y9^1</td>\n",
       "      <td>2</td>\n",
       "      <td></td>\n",
       "      <td>1065.5463</td>\n",
       "      <td>642.3295</td>\n",
       "      <td>1065.556333</td>\n",
       "      <td>103.002426</td>\n",
       "    </tr>\n",
       "    <tr>\n",
       "      <th>550</th>\n",
       "      <td>y9^1</td>\n",
       "      <td>2</td>\n",
       "      <td></td>\n",
       "      <td>1065.5463</td>\n",
       "      <td>642.3295</td>\n",
       "      <td>1065.556333</td>\n",
       "      <td>138.000320</td>\n",
       "    </tr>\n",
       "    <tr>\n",
       "      <th>551</th>\n",
       "      <td>y9^1</td>\n",
       "      <td>2</td>\n",
       "      <td></td>\n",
       "      <td>1065.5463</td>\n",
       "      <td>642.3295</td>\n",
       "      <td>1065.556333</td>\n",
       "      <td>264.998871</td>\n",
       "    </tr>\n",
       "    <tr>\n",
       "      <th>552</th>\n",
       "      <td>y9^1</td>\n",
       "      <td>2</td>\n",
       "      <td></td>\n",
       "      <td>1065.5463</td>\n",
       "      <td>642.3295</td>\n",
       "      <td>1065.556334</td>\n",
       "      <td>761.004456</td>\n",
       "    </tr>\n",
       "  </tbody>\n",
       "</table>\n",
       "<p>553 rows × 7 columns</p>\n",
       "</div>"
      ],
      "text/plain": [
       "    Annotation  ms_level native_id  product_mz  precursor_mz           mz  \\\n",
       "0         prec         1              642.3295      642.3295   642.326260   \n",
       "1         prec         1              642.3295      642.3295   642.326260   \n",
       "2         prec         1              642.3295      642.3295   642.326260   \n",
       "3         prec         1              642.3295      642.3295   642.326260   \n",
       "4         prec         1              642.3295      642.3295   642.326261   \n",
       "..         ...       ...       ...         ...           ...          ...   \n",
       "548       y9^1         2             1065.5463      642.3295  1065.556333   \n",
       "549       y9^1         2             1065.5463      642.3295  1065.556333   \n",
       "550       y9^1         2             1065.5463      642.3295  1065.556333   \n",
       "551       y9^1         2             1065.5463      642.3295  1065.556333   \n",
       "552       y9^1         2             1065.5463      642.3295  1065.556334   \n",
       "\n",
       "            int  \n",
       "0    476.006775  \n",
       "1    806.987183  \n",
       "2    399.992432  \n",
       "3     26.001631  \n",
       "4     73.003876  \n",
       "..          ...  \n",
       "548  220.996506  \n",
       "549  103.002426  \n",
       "550  138.000320  \n",
       "551  264.998871  \n",
       "552  761.004456  \n",
       "\n",
       "[553 rows x 7 columns]"
      ]
     },
     "execution_count": 15,
     "metadata": {},
     "output_type": "execute_result"
    }
   ],
   "source": [
    "df = featureMap['mzml/ionMobilityTest.mzML'].feature_df\n",
    "spectra = (df\n",
    "           .drop(columns=[\"rt\", \"im\"]) # drop columns want to sum across\n",
    "           .groupby(['Annotation', 'ms_level', 'native_id', 'product_mz', 'precursor_mz', 'mz']) # groupby retention time and labels\n",
    "           .sum()\n",
    "           .reset_index())\n",
    "spectra"
   ]
  },
  {
   "cell_type": "code",
   "execution_count": 16,
   "id": "7cf9eaed-6312-401d-969b-93b43c5560e4",
   "metadata": {},
   "outputs": [
    {
     "data": {
      "text/html": [
       "<div>\n",
       "<style scoped>\n",
       "    .dataframe tbody tr th:only-of-type {\n",
       "        vertical-align: middle;\n",
       "    }\n",
       "\n",
       "    .dataframe tbody tr th {\n",
       "        vertical-align: top;\n",
       "    }\n",
       "\n",
       "    .dataframe thead th {\n",
       "        text-align: right;\n",
       "    }\n",
       "</style>\n",
       "<table border=\"1\" class=\"dataframe\">\n",
       "  <thead>\n",
       "    <tr style=\"text-align: right;\">\n",
       "      <th></th>\n",
       "      <th>Annotation</th>\n",
       "      <th>ms_level</th>\n",
       "      <th>native_id</th>\n",
       "      <th>product_mz</th>\n",
       "      <th>precursor_mz</th>\n",
       "      <th>im</th>\n",
       "      <th>int</th>\n",
       "    </tr>\n",
       "  </thead>\n",
       "  <tbody>\n",
       "    <tr>\n",
       "      <th>0</th>\n",
       "      <td>prec</td>\n",
       "      <td>1</td>\n",
       "      <td></td>\n",
       "      <td>642.3295</td>\n",
       "      <td>642.3295</td>\n",
       "      <td>0.878602</td>\n",
       "      <td>148.001190</td>\n",
       "    </tr>\n",
       "    <tr>\n",
       "      <th>1</th>\n",
       "      <td>prec</td>\n",
       "      <td>1</td>\n",
       "      <td></td>\n",
       "      <td>642.3295</td>\n",
       "      <td>642.3295</td>\n",
       "      <td>0.883769</td>\n",
       "      <td>48.997837</td>\n",
       "    </tr>\n",
       "    <tr>\n",
       "      <th>2</th>\n",
       "      <td>prec</td>\n",
       "      <td>1</td>\n",
       "      <td></td>\n",
       "      <td>642.3295</td>\n",
       "      <td>642.3295</td>\n",
       "      <td>0.884804</td>\n",
       "      <td>172.007217</td>\n",
       "    </tr>\n",
       "    <tr>\n",
       "      <th>3</th>\n",
       "      <td>prec</td>\n",
       "      <td>1</td>\n",
       "      <td></td>\n",
       "      <td>642.3295</td>\n",
       "      <td>642.3295</td>\n",
       "      <td>0.885811</td>\n",
       "      <td>319.003937</td>\n",
       "    </tr>\n",
       "    <tr>\n",
       "      <th>4</th>\n",
       "      <td>prec</td>\n",
       "      <td>1</td>\n",
       "      <td></td>\n",
       "      <td>642.3295</td>\n",
       "      <td>642.3295</td>\n",
       "      <td>0.887884</td>\n",
       "      <td>394.968414</td>\n",
       "    </tr>\n",
       "    <tr>\n",
       "      <th>...</th>\n",
       "      <td>...</td>\n",
       "      <td>...</td>\n",
       "      <td>...</td>\n",
       "      <td>...</td>\n",
       "      <td>...</td>\n",
       "      <td>...</td>\n",
       "      <td>...</td>\n",
       "    </tr>\n",
       "    <tr>\n",
       "      <th>793</th>\n",
       "      <td>y9^1</td>\n",
       "      <td>2</td>\n",
       "      <td></td>\n",
       "      <td>1065.5463</td>\n",
       "      <td>642.3295</td>\n",
       "      <td>1.019729</td>\n",
       "      <td>90.003929</td>\n",
       "    </tr>\n",
       "    <tr>\n",
       "      <th>794</th>\n",
       "      <td>y9^1</td>\n",
       "      <td>2</td>\n",
       "      <td></td>\n",
       "      <td>1065.5463</td>\n",
       "      <td>642.3295</td>\n",
       "      <td>1.020746</td>\n",
       "      <td>63.004654</td>\n",
       "    </tr>\n",
       "    <tr>\n",
       "      <th>795</th>\n",
       "      <td>y9^1</td>\n",
       "      <td>2</td>\n",
       "      <td></td>\n",
       "      <td>1065.5463</td>\n",
       "      <td>642.3295</td>\n",
       "      <td>1.021795</td>\n",
       "      <td>219.001572</td>\n",
       "    </tr>\n",
       "    <tr>\n",
       "      <th>796</th>\n",
       "      <td>y9^1</td>\n",
       "      <td>2</td>\n",
       "      <td></td>\n",
       "      <td>1065.5463</td>\n",
       "      <td>642.3295</td>\n",
       "      <td>1.023832</td>\n",
       "      <td>62.997398</td>\n",
       "    </tr>\n",
       "    <tr>\n",
       "      <th>797</th>\n",
       "      <td>y9^1</td>\n",
       "      <td>2</td>\n",
       "      <td></td>\n",
       "      <td>1065.5463</td>\n",
       "      <td>642.3295</td>\n",
       "      <td>1.024882</td>\n",
       "      <td>152.999557</td>\n",
       "    </tr>\n",
       "  </tbody>\n",
       "</table>\n",
       "<p>798 rows × 7 columns</p>\n",
       "</div>"
      ],
      "text/plain": [
       "    Annotation  ms_level native_id  product_mz  precursor_mz        im  \\\n",
       "0         prec         1              642.3295      642.3295  0.878602   \n",
       "1         prec         1              642.3295      642.3295  0.883769   \n",
       "2         prec         1              642.3295      642.3295  0.884804   \n",
       "3         prec         1              642.3295      642.3295  0.885811   \n",
       "4         prec         1              642.3295      642.3295  0.887884   \n",
       "..         ...       ...       ...         ...           ...       ...   \n",
       "793       y9^1         2             1065.5463      642.3295  1.019729   \n",
       "794       y9^1         2             1065.5463      642.3295  1.020746   \n",
       "795       y9^1         2             1065.5463      642.3295  1.021795   \n",
       "796       y9^1         2             1065.5463      642.3295  1.023832   \n",
       "797       y9^1         2             1065.5463      642.3295  1.024882   \n",
       "\n",
       "            int  \n",
       "0    148.001190  \n",
       "1     48.997837  \n",
       "2    172.007217  \n",
       "3    319.003937  \n",
       "4    394.968414  \n",
       "..          ...  \n",
       "793   90.003929  \n",
       "794   63.004654  \n",
       "795  219.001572  \n",
       "796   62.997398  \n",
       "797  152.999557  \n",
       "\n",
       "[798 rows x 7 columns]"
      ]
     },
     "execution_count": 16,
     "metadata": {},
     "output_type": "execute_result"
    }
   ],
   "source": [
    "df = featureMap['mzml/ionMobilityTest.mzML'].feature_df\n",
    "mobilograms = (df\n",
    "               .drop(columns=[\"rt\", \"mz\"]) # drop columns want to sum across\n",
    "               .groupby(['Annotation', 'ms_level', 'native_id', 'product_mz', 'precursor_mz', 'im']) # groupby retention time and labels\n",
    "               .sum()\n",
    "               .reset_index())\n",
    "mobilograms"
   ]
  }
 ],
 "metadata": {
  "kernelspec": {
   "display_name": "Python 3 (ipykernel)",
   "language": "python",
   "name": "python3"
  },
  "language_info": {
   "codemirror_mode": {
    "name": "ipython",
    "version": 3
   },
   "file_extension": ".py",
   "mimetype": "text/x-python",
   "name": "python",
   "nbconvert_exporter": "python",
   "pygments_lexer": "ipython3",
   "version": "3.9.18"
  }
 },
 "nbformat": 4,
 "nbformat_minor": 5
}
