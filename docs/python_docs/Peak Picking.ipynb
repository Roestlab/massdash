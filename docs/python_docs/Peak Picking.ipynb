{
 "cells": [
  {
   "cell_type": "markdown",
   "id": "762816f4-26b8-48de-81a0-e4da844b40f9",
   "metadata": {
    "editable": true,
    "slideshow": {
     "slide_type": ""
    },
    "tags": []
   },
   "source": [
    "# Peak Picking"
   ]
  },
  {
   "cell_type": "raw",
   "id": "798e0492-4fc9-42b9-9a71-8d25db10813f",
   "metadata": {
    "editable": true,
    "raw_mimetype": "text/restructuredtext",
    "slideshow": {
     "slide_type": ""
    },
    "tags": []
   },
   "source": [
    ".. currentmodule:: massdash"
   ]
  },
  {
   "cell_type": "markdown",
   "id": "7083fef7-4e52-48d7-9f5f-f2950eb2848e",
   "metadata": {
    "editable": true,
    "slideshow": {
     "slide_type": ""
    },
    "tags": []
   },
   "source": [
    "One of the powerful tools of *MassDash* is the ability to perform peak picking on the chromatograms. "
   ]
  },
  {
   "cell_type": "raw",
   "id": "8ea1a1a6-e2d6-4f1c-82d0-890ba5cf883d",
   "metadata": {
    "editable": true,
    "raw_mimetype": "text/restructuredtext",
    "slideshow": {
     "slide_type": ""
    },
    "tags": []
   },
   "source": [
    "All supported peak pickers are located in the :py:mod:`peakPicking` module"
   ]
  },
  {
   "cell_type": "markdown",
   "id": "6af37340-a7c6-4c17-b35e-53f09e35168a",
   "metadata": {
    "editable": true,
    "slideshow": {
     "slide_type": ""
    },
    "tags": []
   },
   "source": [
    "Currently supported peak pickers are:"
   ]
  },
  {
   "cell_type": "raw",
   "id": "8fff8f03-92c2-4eb5-8865-0cbefdbbd94e",
   "metadata": {
    "editable": true,
    "raw_mimetype": "text/restructuredtext",
    "slideshow": {
     "slide_type": ""
    },
    "tags": []
   },
   "source": [
    "\n",
    "1. :py:class:`~peakPickers.MRMTransitionGroupPicker`\n",
    "2. :py:class:`~peakPickers.PyMRMTransitionGroupPicker`\n",
    "3. :py:class:`~peakPickers.Conformer`"
   ]
  },
  {
   "cell_type": "raw",
   "id": "335fc53c-889f-4a75-9465-652d537220dc",
   "metadata": {
    "editable": true,
    "raw_mimetype": "text/restructuredtext",
    "slideshow": {
     "slide_type": ""
    },
    "tags": []
   },
   "source": [
    "The general outline for any MassDash peak picker is to:\n",
    "\n",
    "1. Initiate the peak picking object\n",
    "2. Set the parameters (specific to each peak picker)\n",
    "3. use the :py:func:`~peakPicking.GenericPeakPicker.pick` function to perform peak picking\n",
    "4. Visualize results"
   ]
  },
  {
   "cell_type": "code",
   "execution_count": 1,
   "id": "86969d27-c510-4edc-81ce-15b46f137ad5",
   "metadata": {
    "editable": true,
    "nbsphinx": "hidden",
    "slideshow": {
     "slide_type": ""
    },
    "tags": []
   },
   "outputs": [],
   "source": [
    "%load_ext autoreload\n",
    "%autoreload 2"
   ]
  },
  {
   "cell_type": "code",
   "execution_count": 2,
   "id": "a6c65b1c-9ef5-4e9a-bb34-60d7782495e4",
   "metadata": {
    "editable": true,
    "nbsphinx": "hidden",
    "slideshow": {
     "slide_type": ""
    },
    "tags": []
   },
   "outputs": [],
   "source": [
    "# Please run this before executing any cell\n",
    "import os\n",
    "os.chdir(\"../../test/test_data/\") #### Insert path to data, this is the path to the tutorial data. "
   ]
  },
  {
   "cell_type": "code",
   "execution_count": 3,
   "id": "44224d51-a667-431f-9e62-9e964fa5f8f2",
   "metadata": {
    "editable": true,
    "slideshow": {
     "slide_type": ""
    },
    "tags": []
   },
   "outputs": [],
   "source": [
    "from massdash.loaders import SqMassLoader\n",
    "import os\n",
    "pep = \"NKESPT(UniMod:21)KAIVR(UniMod:267)\"\n",
    "charge = 3\n",
    "loader = SqMassLoader(dataFiles=[\"xics/test_chrom_1.sqMass\"], rsltsFile=\"osw/test_data.osw\")\n",
    "transitionGroup = list(loader.loadTransitionGroups(pep, charge).values())[0]\n",
    "transitionGroupFeatures = loader.loadTransitionGroupFeaturesDf(pep, charge)"
   ]
  },
  {
   "cell_type": "markdown",
   "id": "f6834e5b-7ca5-42d7-b9e7-9d9a41c8ddda",
   "metadata": {
    "editable": true,
    "slideshow": {
     "slide_type": ""
    },
    "tags": []
   },
   "source": [
    "If the above code does not look familliar, please look at previous notebooks."
   ]
  },
  {
   "cell_type": "markdown",
   "id": "e15b83f1-3c70-4483-a71d-5707d8d76a5e",
   "metadata": {
    "editable": true,
    "slideshow": {
     "slide_type": ""
    },
    "tags": []
   },
   "source": [
    "## MRMTransitionGroupPicker"
   ]
  },
  {
   "cell_type": "raw",
   "id": "4a88c62c-4dc9-4eae-96fe-7ea742164710",
   "metadata": {
    "editable": true,
    "raw_mimetype": "text/restructuredtext",
    "slideshow": {
     "slide_type": ""
    },
    "tags": []
   },
   "source": [
    "The :py:class:`~peakPickers.MRMTransitionGroupPicker` picker class is a wrapper around the ``pyopenms MRMTransitionGroupPicker`` object. This is the same peak picker that is used in ``OpenSwath``. "
   ]
  },
  {
   "cell_type": "markdown",
   "id": "3f4ed176-0e32-4964-947e-cd5aa31a395e",
   "metadata": {
    "editable": true,
    "raw_mimetype": "",
    "slideshow": {
     "slide_type": ""
    },
    "tags": []
   },
   "source": [
    "### 1. Initiate MRMTransitionGroupPicker Object"
   ]
  },
  {
   "attachments": {},
   "cell_type": "raw",
   "id": "e37e6a62-0961-4a09-b6c4-649853f4a705",
   "metadata": {
    "editable": true,
    "raw_mimetype": "text/restructuredtext",
    "slideshow": {
     "slide_type": ""
    },
    "tags": []
   },
   "source": [
    "Different peak pickers are initiated differently.  \n",
    "The :py:class:`~peakPickers.MRMTransitionGroupPicker` requires one argument 'smoother' which is the smoothing that should be applied to the transition group before picking. This can be one of `sgolay`, `gauss` or `original` (no smoothing) and arguments for the smoother. Additional arguments specifying the smoothing can be supplied following. Below are some examples on initiating an :py:class:`~peakPickers.MRMTransitionGroupPicker` object"
   ]
  },
  {
   "cell_type": "code",
   "execution_count": 4,
   "id": "b631fd51-1179-42a6-ad0e-a52b8736b088",
   "metadata": {
    "editable": true,
    "slideshow": {
     "slide_type": ""
    },
    "tags": []
   },
   "outputs": [],
   "source": [
    "from massdash.peakPickers import MRMTransitionGroupPicker\n",
    "\n",
    "noSmoothing = MRMTransitionGroupPicker(\"original\") # No smoothing\n",
    "guassSmoothing = MRMTransitionGroupPicker(\"gauss\", gauss_width=50.0) # Gaussian smoothing\n",
    "sgolaySmoothing = MRMTransitionGroupPicker(\"sgolay\", sgolay_frame_length = 11, sgolay_polynomial_order=3) #Sgolay smoothing "
   ]
  },
  {
   "cell_type": "markdown",
   "id": "77cd71f8-1d03-46d2-8946-b0620e396fcb",
   "metadata": {
    "editable": true,
    "slideshow": {
     "slide_type": ""
    },
    "tags": []
   },
   "source": [
    "For the following example we will use the sgolay smoother as this is the default for OpenSwath."
   ]
  },
  {
   "cell_type": "raw",
   "id": "f7261649-4370-4ae2-90f7-fff2d48ad519",
   "metadata": {
    "editable": true,
    "raw_mimetype": "text/restructuredtext",
    "slideshow": {
     "slide_type": ""
    },
    "tags": []
   },
   "source": [
    "Additional parameters can be set using the :py:func:`~peakPickers.MRMTransitionGroupPicker.setGeneralParameters` method."
   ]
  },
  {
   "cell_type": "raw",
   "id": "9323fdaa-d006-40ad-a3f3-9c7c6dc9db72",
   "metadata": {
    "editable": true,
    "raw_mimetype": "text/restructuredtext",
    "slideshow": {
     "slide_type": ""
    },
    "tags": []
   },
   "source": [
    ".. automethod:: massdash.peakPickers.MRMTransitionGroupPicker.setGeneralParameters\n",
    "    :noindex:\n"
   ]
  },
  {
   "cell_type": "markdown",
   "id": "87263415-dbde-43e7-99e6-30d6b730bc5c",
   "metadata": {
    "editable": true,
    "slideshow": {
     "slide_type": ""
    },
    "tags": []
   },
   "source": [
    "### 2. Customize Parameters"
   ]
  },
  {
   "cell_type": "markdown",
   "id": "e7e84ef8-94ef-4b8a-a3c6-356a0efbab20",
   "metadata": {
    "editable": true,
    "slideshow": {
     "slide_type": ""
    },
    "tags": []
   },
   "source": [
    "Here to cap ourselves at a reasonable number of features we will change `stop_after_feature` to 5. Also since we know that for this example the precursor signal is reasonable we will try turn on the `use_precursor` parameter. Since this precursor is quite high in intensity we can change the `signal_to_noise` cutoff to be more stringent. "
   ]
  },
  {
   "cell_type": "code",
   "execution_count": 5,
   "id": "864e37a2-d359-439b-97be-c1bd45ef6429",
   "metadata": {
    "editable": true,
    "slideshow": {
     "slide_type": ""
    },
    "tags": []
   },
   "outputs": [],
   "source": [
    "sgolaySmoothing.setGeneralParameters(stop_after_feature=5, signal_to_noise=0.001, use_precursors='true')"
   ]
  },
  {
   "cell_type": "markdown",
   "id": "b393cbde-95db-49b1-8cc3-19a631b8b581",
   "metadata": {
    "editable": true,
    "slideshow": {
     "slide_type": ""
    },
    "tags": []
   },
   "source": [
    "### 3. Pick Precursor"
   ]
  },
  {
   "cell_type": "raw",
   "id": "41a837b2-e164-4ebc-afcf-d7b5d89aa9fb",
   "metadata": {
    "editable": true,
    "raw_mimetype": "text/restructuredtext",
    "slideshow": {
     "slide_type": ""
    },
    "tags": []
   },
   "source": [
    "After we have set the parameters we can use the :py:func:`~PeakPickers.MRMTransitionGroupPicker.pick` function to pick the precursor"
   ]
  },
  {
   "cell_type": "raw",
   "id": "372a1fd7-d5ba-450d-992c-a14826f85c82",
   "metadata": {
    "editable": true,
    "raw_mimetype": "text/restructuredtext",
    "slideshow": {
     "slide_type": ""
    },
    "tags": []
   },
   "source": [
    "All peak pickers implement the :py:func:`~PeakPickers.MRMTransitionGroupPicker.pick` function which requires a :py:class:`~structs.TransitionGroup` object and outputs a list of :py:class:`~structs.TransitionGroupFeature` objects."
   ]
  },
  {
   "cell_type": "code",
   "execution_count": 6,
   "id": "e8c37da1-71c5-41e7-b857-6e760ad5d07d",
   "metadata": {
    "editable": true,
    "slideshow": {
     "slide_type": ""
    },
    "tags": []
   },
   "outputs": [],
   "source": [
    "features = sgolaySmoothing.pick(transitionGroup)"
   ]
  },
  {
   "cell_type": "markdown",
   "id": "63da344d-7c16-4775-a3b4-3336c8161cf6",
   "metadata": {
    "editable": true,
    "slideshow": {
     "slide_type": ""
    },
    "tags": []
   },
   "source": [
    "For easier inspection of the features, we can convert them to a pandas dataframe"
   ]
  },
  {
   "cell_type": "code",
   "execution_count": 7,
   "id": "1c5d3c19-1aca-4357-bd7b-1fd73e38f7a8",
   "metadata": {
    "editable": true,
    "scrolled": true,
    "slideshow": {
     "slide_type": ""
    },
    "tags": []
   },
   "outputs": [
    {
     "data": {
      "text/html": [
       "<div>\n",
       "<style scoped>\n",
       "    .dataframe tbody tr th:only-of-type {\n",
       "        vertical-align: middle;\n",
       "    }\n",
       "\n",
       "    .dataframe tbody tr th {\n",
       "        vertical-align: top;\n",
       "    }\n",
       "\n",
       "    .dataframe thead th {\n",
       "        text-align: right;\n",
       "    }\n",
       "</style>\n",
       "<table border=\"1\" class=\"dataframe\">\n",
       "  <thead>\n",
       "    <tr style=\"text-align: right;\">\n",
       "      <th></th>\n",
       "      <th>leftBoundary</th>\n",
       "      <th>rightBoundary</th>\n",
       "      <th>areaIntensity</th>\n",
       "      <th>qvalue</th>\n",
       "      <th>consensusApex</th>\n",
       "      <th>consensusApexIntensity</th>\n",
       "    </tr>\n",
       "  </thead>\n",
       "  <tbody>\n",
       "    <tr>\n",
       "      <th>0</th>\n",
       "      <td>843.5</td>\n",
       "      <td>901.700012</td>\n",
       "      <td>223735.421875</td>\n",
       "      <td>None</td>\n",
       "      <td>865.628726</td>\n",
       "      <td>None</td>\n",
       "    </tr>\n",
       "    <tr>\n",
       "      <th>1</th>\n",
       "      <td>818.099976</td>\n",
       "      <td>843.900024</td>\n",
       "      <td>65524.886719</td>\n",
       "      <td>None</td>\n",
       "      <td>839.389013</td>\n",
       "      <td>None</td>\n",
       "    </tr>\n",
       "    <tr>\n",
       "      <th>2</th>\n",
       "      <td>1177.900024</td>\n",
       "      <td>1207.0</td>\n",
       "      <td>32929.136719</td>\n",
       "      <td>None</td>\n",
       "      <td>1196.055723</td>\n",
       "      <td>None</td>\n",
       "    </tr>\n",
       "    <tr>\n",
       "      <th>3</th>\n",
       "      <td>1051.099976</td>\n",
       "      <td>1087.5</td>\n",
       "      <td>48799.734375</td>\n",
       "      <td>None</td>\n",
       "      <td>1069.299988</td>\n",
       "      <td>None</td>\n",
       "    </tr>\n",
       "    <tr>\n",
       "      <th>4</th>\n",
       "      <td>978.400024</td>\n",
       "      <td>1011.099976</td>\n",
       "      <td>19260.796875</td>\n",
       "      <td>None</td>\n",
       "      <td>995.780439</td>\n",
       "      <td>None</td>\n",
       "    </tr>\n",
       "    <tr>\n",
       "      <th>5</th>\n",
       "      <td>1112.5</td>\n",
       "      <td>1152.5</td>\n",
       "      <td>36867.34375</td>\n",
       "      <td>None</td>\n",
       "      <td>1133.06705</td>\n",
       "      <td>None</td>\n",
       "    </tr>\n",
       "  </tbody>\n",
       "</table>\n",
       "</div>"
      ],
      "text/plain": [
       "  leftBoundary rightBoundary  areaIntensity qvalue consensusApex  \\\n",
       "0        843.5    901.700012  223735.421875   None    865.628726   \n",
       "1   818.099976    843.900024   65524.886719   None    839.389013   \n",
       "2  1177.900024        1207.0   32929.136719   None   1196.055723   \n",
       "3  1051.099976        1087.5   48799.734375   None   1069.299988   \n",
       "4   978.400024   1011.099976   19260.796875   None    995.780439   \n",
       "5       1112.5        1152.5    36867.34375   None    1133.06705   \n",
       "\n",
       "  consensusApexIntensity  \n",
       "0                   None  \n",
       "1                   None  \n",
       "2                   None  \n",
       "3                   None  \n",
       "4                   None  \n",
       "5                   None  "
      ]
     },
     "execution_count": 7,
     "metadata": {},
     "output_type": "execute_result"
    }
   ],
   "source": [
    "from massdash.structs import TransitionGroupFeature\n",
    "TransitionGroupFeature.toPandasDf(features)"
   ]
  },
  {
   "cell_type": "markdown",
   "id": "5230230a-1d4a-4c2d-8131-35dfa79f75e8",
   "metadata": {
    "editable": true,
    "raw_mimetype": "",
    "slideshow": {
     "slide_type": ""
    },
    "tags": []
   },
   "source": [
    "### 4. Visualize Results"
   ]
  },
  {
   "cell_type": "markdown",
   "id": "767cf233-03bf-4740-b956-19b470b5f255",
   "metadata": {
    "editable": true,
    "slideshow": {
     "slide_type": ""
    },
    "tags": []
   },
   "source": [
    "As shown in the plotting1D notebook, the chromatogram can easily be visualized directly from the transitionGroup object. Here instead of linking `OpenSwath` or `DIA-NN` found features, we can use the features that we just computed. "
   ]
  },
  {
   "cell_type": "code",
   "execution_count": 8,
   "id": "dc8684b5-17aa-4680-9460-bebd9350c2fa",
   "metadata": {
    "editable": true,
    "slideshow": {
     "slide_type": ""
    },
    "tags": []
   },
   "outputs": [
    {
     "data": {
      "text/html": [
       "<div class=\"bk-root\">\n",
       "        <a href=\"https://bokeh.org\" target=\"_blank\" class=\"bk-logo bk-logo-small bk-logo-notebook\"></a>\n",
       "        <span id=\"1208\">Loading BokehJS ...</span>\n",
       "    </div>\n"
      ]
     },
     "metadata": {},
     "output_type": "display_data"
    },
    {
     "data": {
      "application/javascript": [
       "(function(root) {\n",
       "  function now() {\n",
       "    return new Date();\n",
       "  }\n",
       "\n",
       "  const force = true;\n",
       "\n",
       "  if (typeof root._bokeh_onload_callbacks === \"undefined\" || force === true) {\n",
       "    root._bokeh_onload_callbacks = [];\n",
       "    root._bokeh_is_loading = undefined;\n",
       "  }\n",
       "\n",
       "const JS_MIME_TYPE = 'application/javascript';\n",
       "  const HTML_MIME_TYPE = 'text/html';\n",
       "  const EXEC_MIME_TYPE = 'application/vnd.bokehjs_exec.v0+json';\n",
       "  const CLASS_NAME = 'output_bokeh rendered_html';\n",
       "\n",
       "  /**\n",
       "   * Render data to the DOM node\n",
       "   */\n",
       "  function render(props, node) {\n",
       "    const script = document.createElement(\"script\");\n",
       "    node.appendChild(script);\n",
       "  }\n",
       "\n",
       "  /**\n",
       "   * Handle when an output is cleared or removed\n",
       "   */\n",
       "  function handleClearOutput(event, handle) {\n",
       "    const cell = handle.cell;\n",
       "\n",
       "    const id = cell.output_area._bokeh_element_id;\n",
       "    const server_id = cell.output_area._bokeh_server_id;\n",
       "    // Clean up Bokeh references\n",
       "    if (id != null && id in Bokeh.index) {\n",
       "      Bokeh.index[id].model.document.clear();\n",
       "      delete Bokeh.index[id];\n",
       "    }\n",
       "\n",
       "    if (server_id !== undefined) {\n",
       "      // Clean up Bokeh references\n",
       "      const cmd_clean = \"from bokeh.io.state import curstate; print(curstate().uuid_to_server['\" + server_id + \"'].get_sessions()[0].document.roots[0]._id)\";\n",
       "      cell.notebook.kernel.execute(cmd_clean, {\n",
       "        iopub: {\n",
       "          output: function(msg) {\n",
       "            const id = msg.content.text.trim();\n",
       "            if (id in Bokeh.index) {\n",
       "              Bokeh.index[id].model.document.clear();\n",
       "              delete Bokeh.index[id];\n",
       "            }\n",
       "          }\n",
       "        }\n",
       "      });\n",
       "      // Destroy server and session\n",
       "      const cmd_destroy = \"import bokeh.io.notebook as ion; ion.destroy_server('\" + server_id + \"')\";\n",
       "      cell.notebook.kernel.execute(cmd_destroy);\n",
       "    }\n",
       "  }\n",
       "\n",
       "  /**\n",
       "   * Handle when a new output is added\n",
       "   */\n",
       "  function handleAddOutput(event, handle) {\n",
       "    const output_area = handle.output_area;\n",
       "    const output = handle.output;\n",
       "\n",
       "    // limit handleAddOutput to display_data with EXEC_MIME_TYPE content only\n",
       "    if ((output.output_type != \"display_data\") || (!Object.prototype.hasOwnProperty.call(output.data, EXEC_MIME_TYPE))) {\n",
       "      return\n",
       "    }\n",
       "\n",
       "    const toinsert = output_area.element.find(\".\" + CLASS_NAME.split(' ')[0]);\n",
       "\n",
       "    if (output.metadata[EXEC_MIME_TYPE][\"id\"] !== undefined) {\n",
       "      toinsert[toinsert.length - 1].firstChild.textContent = output.data[JS_MIME_TYPE];\n",
       "      // store reference to embed id on output_area\n",
       "      output_area._bokeh_element_id = output.metadata[EXEC_MIME_TYPE][\"id\"];\n",
       "    }\n",
       "    if (output.metadata[EXEC_MIME_TYPE][\"server_id\"] !== undefined) {\n",
       "      const bk_div = document.createElement(\"div\");\n",
       "      bk_div.innerHTML = output.data[HTML_MIME_TYPE];\n",
       "      const script_attrs = bk_div.children[0].attributes;\n",
       "      for (let i = 0; i < script_attrs.length; i++) {\n",
       "        toinsert[toinsert.length - 1].firstChild.setAttribute(script_attrs[i].name, script_attrs[i].value);\n",
       "        toinsert[toinsert.length - 1].firstChild.textContent = bk_div.children[0].textContent\n",
       "      }\n",
       "      // store reference to server id on output_area\n",
       "      output_area._bokeh_server_id = output.metadata[EXEC_MIME_TYPE][\"server_id\"];\n",
       "    }\n",
       "  }\n",
       "\n",
       "  function register_renderer(events, OutputArea) {\n",
       "\n",
       "    function append_mime(data, metadata, element) {\n",
       "      // create a DOM node to render to\n",
       "      const toinsert = this.create_output_subarea(\n",
       "        metadata,\n",
       "        CLASS_NAME,\n",
       "        EXEC_MIME_TYPE\n",
       "      );\n",
       "      this.keyboard_manager.register_events(toinsert);\n",
       "      // Render to node\n",
       "      const props = {data: data, metadata: metadata[EXEC_MIME_TYPE]};\n",
       "      render(props, toinsert[toinsert.length - 1]);\n",
       "      element.append(toinsert);\n",
       "      return toinsert\n",
       "    }\n",
       "\n",
       "    /* Handle when an output is cleared or removed */\n",
       "    events.on('clear_output.CodeCell', handleClearOutput);\n",
       "    events.on('delete.Cell', handleClearOutput);\n",
       "\n",
       "    /* Handle when a new output is added */\n",
       "    events.on('output_added.OutputArea', handleAddOutput);\n",
       "\n",
       "    /**\n",
       "     * Register the mime type and append_mime function with output_area\n",
       "     */\n",
       "    OutputArea.prototype.register_mime_type(EXEC_MIME_TYPE, append_mime, {\n",
       "      /* Is output safe? */\n",
       "      safe: true,\n",
       "      /* Index of renderer in `output_area.display_order` */\n",
       "      index: 0\n",
       "    });\n",
       "  }\n",
       "\n",
       "  // register the mime type if in Jupyter Notebook environment and previously unregistered\n",
       "  if (root.Jupyter !== undefined) {\n",
       "    const events = require('base/js/events');\n",
       "    const OutputArea = require('notebook/js/outputarea').OutputArea;\n",
       "\n",
       "    if (OutputArea.prototype.mime_types().indexOf(EXEC_MIME_TYPE) == -1) {\n",
       "      register_renderer(events, OutputArea);\n",
       "    }\n",
       "  }\n",
       "  if (typeof (root._bokeh_timeout) === \"undefined\" || force === true) {\n",
       "    root._bokeh_timeout = Date.now() + 5000;\n",
       "    root._bokeh_failed_load = false;\n",
       "  }\n",
       "\n",
       "  const NB_LOAD_WARNING = {'data': {'text/html':\n",
       "     \"<div style='background-color: #fdd'>\\n\"+\n",
       "     \"<p>\\n\"+\n",
       "     \"BokehJS does not appear to have successfully loaded. If loading BokehJS from CDN, this \\n\"+\n",
       "     \"may be due to a slow or bad network connection. Possible fixes:\\n\"+\n",
       "     \"</p>\\n\"+\n",
       "     \"<ul>\\n\"+\n",
       "     \"<li>re-rerun `output_notebook()` to attempt to load from CDN again, or</li>\\n\"+\n",
       "     \"<li>use INLINE resources instead, as so:</li>\\n\"+\n",
       "     \"</ul>\\n\"+\n",
       "     \"<code>\\n\"+\n",
       "     \"from bokeh.resources import INLINE\\n\"+\n",
       "     \"output_notebook(resources=INLINE)\\n\"+\n",
       "     \"</code>\\n\"+\n",
       "     \"</div>\"}};\n",
       "\n",
       "  function display_loaded() {\n",
       "    const el = document.getElementById(\"1208\");\n",
       "    if (el != null) {\n",
       "      el.textContent = \"BokehJS is loading...\";\n",
       "    }\n",
       "    if (root.Bokeh !== undefined) {\n",
       "      if (el != null) {\n",
       "        el.textContent = \"BokehJS \" + root.Bokeh.version + \" successfully loaded.\";\n",
       "      }\n",
       "    } else if (Date.now() < root._bokeh_timeout) {\n",
       "      setTimeout(display_loaded, 100)\n",
       "    }\n",
       "  }\n",
       "\n",
       "  function run_callbacks() {\n",
       "    try {\n",
       "      root._bokeh_onload_callbacks.forEach(function(callback) {\n",
       "        if (callback != null)\n",
       "          callback();\n",
       "      });\n",
       "    } finally {\n",
       "      delete root._bokeh_onload_callbacks\n",
       "    }\n",
       "    console.debug(\"Bokeh: all callbacks have finished\");\n",
       "  }\n",
       "\n",
       "  function load_libs(css_urls, js_urls, callback) {\n",
       "    if (css_urls == null) css_urls = [];\n",
       "    if (js_urls == null) js_urls = [];\n",
       "\n",
       "    root._bokeh_onload_callbacks.push(callback);\n",
       "    if (root._bokeh_is_loading > 0) {\n",
       "      console.debug(\"Bokeh: BokehJS is being loaded, scheduling callback at\", now());\n",
       "      return null;\n",
       "    }\n",
       "    if (js_urls == null || js_urls.length === 0) {\n",
       "      run_callbacks();\n",
       "      return null;\n",
       "    }\n",
       "    console.debug(\"Bokeh: BokehJS not loaded, scheduling load and callback at\", now());\n",
       "    root._bokeh_is_loading = css_urls.length + js_urls.length;\n",
       "\n",
       "    function on_load() {\n",
       "      root._bokeh_is_loading--;\n",
       "      if (root._bokeh_is_loading === 0) {\n",
       "        console.debug(\"Bokeh: all BokehJS libraries/stylesheets loaded\");\n",
       "        run_callbacks()\n",
       "      }\n",
       "    }\n",
       "\n",
       "    function on_error(url) {\n",
       "      console.error(\"failed to load \" + url);\n",
       "    }\n",
       "\n",
       "    for (let i = 0; i < css_urls.length; i++) {\n",
       "      const url = css_urls[i];\n",
       "      const element = document.createElement(\"link\");\n",
       "      element.onload = on_load;\n",
       "      element.onerror = on_error.bind(null, url);\n",
       "      element.rel = \"stylesheet\";\n",
       "      element.type = \"text/css\";\n",
       "      element.href = url;\n",
       "      console.debug(\"Bokeh: injecting link tag for BokehJS stylesheet: \", url);\n",
       "      document.body.appendChild(element);\n",
       "    }\n",
       "\n",
       "    for (let i = 0; i < js_urls.length; i++) {\n",
       "      const url = js_urls[i];\n",
       "      const element = document.createElement('script');\n",
       "      element.onload = on_load;\n",
       "      element.onerror = on_error.bind(null, url);\n",
       "      element.async = false;\n",
       "      element.src = url;\n",
       "      console.debug(\"Bokeh: injecting script tag for BokehJS library: \", url);\n",
       "      document.head.appendChild(element);\n",
       "    }\n",
       "  };\n",
       "\n",
       "  function inject_raw_css(css) {\n",
       "    const element = document.createElement(\"style\");\n",
       "    element.appendChild(document.createTextNode(css));\n",
       "    document.body.appendChild(element);\n",
       "  }\n",
       "\n",
       "  const js_urls = [\"https://cdn.bokeh.org/bokeh/release/bokeh-2.4.3.min.js\", \"https://cdn.bokeh.org/bokeh/release/bokeh-gl-2.4.3.min.js\", \"https://cdn.bokeh.org/bokeh/release/bokeh-widgets-2.4.3.min.js\", \"https://cdn.bokeh.org/bokeh/release/bokeh-tables-2.4.3.min.js\", \"https://cdn.bokeh.org/bokeh/release/bokeh-mathjax-2.4.3.min.js\"];\n",
       "  const css_urls = [];\n",
       "\n",
       "  const inline_js = [    function(Bokeh) {\n",
       "      Bokeh.set_log_level(\"info\");\n",
       "    },\n",
       "function(Bokeh) {\n",
       "    }\n",
       "  ];\n",
       "\n",
       "  function run_inline_js() {\n",
       "    if (root.Bokeh !== undefined || force === true) {\n",
       "          for (let i = 0; i < inline_js.length; i++) {\n",
       "      inline_js[i].call(root, root.Bokeh);\n",
       "    }\n",
       "if (force === true) {\n",
       "        display_loaded();\n",
       "      }} else if (Date.now() < root._bokeh_timeout) {\n",
       "      setTimeout(run_inline_js, 100);\n",
       "    } else if (!root._bokeh_failed_load) {\n",
       "      console.log(\"Bokeh: BokehJS failed to load within specified timeout.\");\n",
       "      root._bokeh_failed_load = true;\n",
       "    } else if (force !== true) {\n",
       "      const cell = $(document.getElementById(\"1208\")).parents('.cell').data().cell;\n",
       "      cell.output_area.append_execute_result(NB_LOAD_WARNING)\n",
       "    }\n",
       "  }\n",
       "\n",
       "  if (root._bokeh_is_loading === 0) {\n",
       "    console.debug(\"Bokeh: BokehJS loaded, going straight to plotting\");\n",
       "    run_inline_js();\n",
       "  } else {\n",
       "    load_libs(css_urls, js_urls, function() {\n",
       "      console.debug(\"Bokeh: BokehJS plotting callback run at\", now());\n",
       "      run_inline_js();\n",
       "    });\n",
       "  }\n",
       "}(window));"
      ],
      "application/vnd.bokehjs_load.v0+json": "(function(root) {\n  function now() {\n    return new Date();\n  }\n\n  const force = true;\n\n  if (typeof root._bokeh_onload_callbacks === \"undefined\" || force === true) {\n    root._bokeh_onload_callbacks = [];\n    root._bokeh_is_loading = undefined;\n  }\n\n\n  if (typeof (root._bokeh_timeout) === \"undefined\" || force === true) {\n    root._bokeh_timeout = Date.now() + 5000;\n    root._bokeh_failed_load = false;\n  }\n\n  const NB_LOAD_WARNING = {'data': {'text/html':\n     \"<div style='background-color: #fdd'>\\n\"+\n     \"<p>\\n\"+\n     \"BokehJS does not appear to have successfully loaded. If loading BokehJS from CDN, this \\n\"+\n     \"may be due to a slow or bad network connection. Possible fixes:\\n\"+\n     \"</p>\\n\"+\n     \"<ul>\\n\"+\n     \"<li>re-rerun `output_notebook()` to attempt to load from CDN again, or</li>\\n\"+\n     \"<li>use INLINE resources instead, as so:</li>\\n\"+\n     \"</ul>\\n\"+\n     \"<code>\\n\"+\n     \"from bokeh.resources import INLINE\\n\"+\n     \"output_notebook(resources=INLINE)\\n\"+\n     \"</code>\\n\"+\n     \"</div>\"}};\n\n  function display_loaded() {\n    const el = document.getElementById(\"1208\");\n    if (el != null) {\n      el.textContent = \"BokehJS is loading...\";\n    }\n    if (root.Bokeh !== undefined) {\n      if (el != null) {\n        el.textContent = \"BokehJS \" + root.Bokeh.version + \" successfully loaded.\";\n      }\n    } else if (Date.now() < root._bokeh_timeout) {\n      setTimeout(display_loaded, 100)\n    }\n  }\n\n  function run_callbacks() {\n    try {\n      root._bokeh_onload_callbacks.forEach(function(callback) {\n        if (callback != null)\n          callback();\n      });\n    } finally {\n      delete root._bokeh_onload_callbacks\n    }\n    console.debug(\"Bokeh: all callbacks have finished\");\n  }\n\n  function load_libs(css_urls, js_urls, callback) {\n    if (css_urls == null) css_urls = [];\n    if (js_urls == null) js_urls = [];\n\n    root._bokeh_onload_callbacks.push(callback);\n    if (root._bokeh_is_loading > 0) {\n      console.debug(\"Bokeh: BokehJS is being loaded, scheduling callback at\", now());\n      return null;\n    }\n    if (js_urls == null || js_urls.length === 0) {\n      run_callbacks();\n      return null;\n    }\n    console.debug(\"Bokeh: BokehJS not loaded, scheduling load and callback at\", now());\n    root._bokeh_is_loading = css_urls.length + js_urls.length;\n\n    function on_load() {\n      root._bokeh_is_loading--;\n      if (root._bokeh_is_loading === 0) {\n        console.debug(\"Bokeh: all BokehJS libraries/stylesheets loaded\");\n        run_callbacks()\n      }\n    }\n\n    function on_error(url) {\n      console.error(\"failed to load \" + url);\n    }\n\n    for (let i = 0; i < css_urls.length; i++) {\n      const url = css_urls[i];\n      const element = document.createElement(\"link\");\n      element.onload = on_load;\n      element.onerror = on_error.bind(null, url);\n      element.rel = \"stylesheet\";\n      element.type = \"text/css\";\n      element.href = url;\n      console.debug(\"Bokeh: injecting link tag for BokehJS stylesheet: \", url);\n      document.body.appendChild(element);\n    }\n\n    for (let i = 0; i < js_urls.length; i++) {\n      const url = js_urls[i];\n      const element = document.createElement('script');\n      element.onload = on_load;\n      element.onerror = on_error.bind(null, url);\n      element.async = false;\n      element.src = url;\n      console.debug(\"Bokeh: injecting script tag for BokehJS library: \", url);\n      document.head.appendChild(element);\n    }\n  };\n\n  function inject_raw_css(css) {\n    const element = document.createElement(\"style\");\n    element.appendChild(document.createTextNode(css));\n    document.body.appendChild(element);\n  }\n\n  const js_urls = [\"https://cdn.bokeh.org/bokeh/release/bokeh-2.4.3.min.js\", \"https://cdn.bokeh.org/bokeh/release/bokeh-gl-2.4.3.min.js\", \"https://cdn.bokeh.org/bokeh/release/bokeh-widgets-2.4.3.min.js\", \"https://cdn.bokeh.org/bokeh/release/bokeh-tables-2.4.3.min.js\", \"https://cdn.bokeh.org/bokeh/release/bokeh-mathjax-2.4.3.min.js\"];\n  const css_urls = [];\n\n  const inline_js = [    function(Bokeh) {\n      Bokeh.set_log_level(\"info\");\n    },\nfunction(Bokeh) {\n    }\n  ];\n\n  function run_inline_js() {\n    if (root.Bokeh !== undefined || force === true) {\n          for (let i = 0; i < inline_js.length; i++) {\n      inline_js[i].call(root, root.Bokeh);\n    }\nif (force === true) {\n        display_loaded();\n      }} else if (Date.now() < root._bokeh_timeout) {\n      setTimeout(run_inline_js, 100);\n    } else if (!root._bokeh_failed_load) {\n      console.log(\"Bokeh: BokehJS failed to load within specified timeout.\");\n      root._bokeh_failed_load = true;\n    } else if (force !== true) {\n      const cell = $(document.getElementById(\"1208\")).parents('.cell').data().cell;\n      cell.output_area.append_execute_result(NB_LOAD_WARNING)\n    }\n  }\n\n  if (root._bokeh_is_loading === 0) {\n    console.debug(\"Bokeh: BokehJS loaded, going straight to plotting\");\n    run_inline_js();\n  } else {\n    load_libs(css_urls, js_urls, function() {\n      console.debug(\"Bokeh: BokehJS plotting callback run at\", now());\n      run_inline_js();\n    });\n  }\n}(window));"
     },
     "metadata": {},
     "output_type": "display_data"
    },
    {
     "data": {
      "text/html": [
       "\n",
       "  <div class=\"bk-root\" id=\"52459857-656f-4d5d-85b2-23531c910665\" data-root-id=\"1002\"></div>\n"
      ]
     },
     "metadata": {},
     "output_type": "display_data"
    },
    {
     "data": {
      "application/javascript": [
       "(function(root) {\n",
       "  function embed_document(root) {\n",
       "  const docs_json = {\"10f475f6-affb-44dc-ba1c-8ca4979f00a8\":{\"defs\":[],\"roots\":{\"references\":[{\"attributes\":{\"below\":[{\"id\":\"1011\"}],\"center\":[{\"id\":\"1014\"},{\"id\":\"1018\"}],\"height\":450,\"left\":[{\"id\":\"1015\"}],\"renderers\":[{\"id\":\"1041\"},{\"id\":\"1048\"},{\"id\":\"1055\"},{\"id\":\"1062\"},{\"id\":\"1069\"},{\"id\":\"1076\"},{\"id\":\"1083\"},{\"id\":\"1097\"},{\"id\":\"1103\"},{\"id\":\"1109\"},{\"id\":\"1116\"},{\"id\":\"1122\"},{\"id\":\"1128\"},{\"id\":\"1135\"},{\"id\":\"1141\"},{\"id\":\"1147\"},{\"id\":\"1154\"},{\"id\":\"1160\"},{\"id\":\"1166\"},{\"id\":\"1173\"},{\"id\":\"1179\"},{\"id\":\"1185\"},{\"id\":\"1192\"},{\"id\":\"1198\"},{\"id\":\"1204\"}],\"right\":[{\"id\":\"1035\"}],\"sizing_mode\":\"scale_width\",\"title\":{\"id\":\"1209\"},\"toolbar\":{\"id\":\"1027\"},\"toolbar_location\":\"above\",\"width\":800,\"x_range\":{\"id\":\"1003\"},\"x_scale\":{\"id\":\"1007\"},\"y_range\":{\"id\":\"1005\"},\"y_scale\":{\"id\":\"1009\"}},\"id\":\"1002\",\"subtype\":\"Figure\",\"type\":\"Plot\"},{\"attributes\":{\"tools\":[{\"id\":\"1019\"},{\"id\":\"1020\"},{\"id\":\"1021\"},{\"id\":\"1022\"},{\"id\":\"1023\"},{\"id\":\"1024\"},{\"id\":\"1026\"},{\"id\":\"1206\"}]},\"id\":\"1027\",\"type\":\"Toolbar\"},{\"attributes\":{\"data\":{\"Intensity\":[7714.024013090071],\"bottom_int\":[0],\"leftWidth\":[978.4000244140625],\"ms2_mscore\":[null],\"rightWidth\":[1011.0999755859375]},\"selected\":{\"id\":\"1240\"},\"selection_policy\":{\"id\":\"1239\"}},\"id\":\"1168\",\"type\":\"ColumnDataSource\"},{\"attributes\":{},\"id\":\"1225\",\"type\":\"UnionRenderers\"},{\"attributes\":{\"fill_alpha\":{\"value\":0.1},\"fill_color\":{\"value\":\"#1f77b4\"},\"hatch_alpha\":{\"value\":0.1},\"line_alpha\":{\"value\":0.1},\"line_color\":{\"value\":\"#1f77b4\"},\"x\":{\"field\":\"leftWidth\"},\"y\":{\"field\":\"Intensity\"}},\"id\":\"1164\",\"type\":\"Circle\"},{\"attributes\":{},\"id\":\"1226\",\"type\":\"Selection\"},{\"attributes\":{\"bottom\":{\"field\":\"bottom_int\"},\"fill_alpha\":{\"value\":0.1},\"fill_color\":{\"value\":\"#66A61E\"},\"hatch_alpha\":{\"value\":0.1},\"hatch_color\":{\"value\":\"#66A61E\"},\"line_alpha\":{\"value\":0.1},\"line_color\":{\"value\":\"#66A61E\"},\"top\":{\"field\":\"Intensity\"},\"width\":{\"value\":0.3},\"x\":{\"field\":\"leftWidth\"}},\"id\":\"1171\",\"type\":\"VBar\"},{\"attributes\":{\"coordinates\":null,\"data_source\":{\"id\":\"1149\"},\"glyph\":{\"id\":\"1163\"},\"group\":null,\"hover_glyph\":null,\"muted_glyph\":{\"id\":\"1165\"},\"name\":\"leftWidth_apex_point\",\"nonselection_glyph\":{\"id\":\"1164\"},\"view\":{\"id\":\"1167\"}},\"id\":\"1166\",\"type\":\"GlyphRenderer\"},{\"attributes\":{\"line_alpha\":0.1,\"line_color\":\"#1f77b4\",\"line_width\":2,\"x\":{\"field\":\"x\"},\"y\":{\"field\":\"y\"}},\"id\":\"1046\",\"type\":\"Line\"},{\"attributes\":{\"source\":{\"id\":\"1036\"}},\"id\":\"1042\",\"type\":\"CDSView\"},{\"attributes\":{\"bottom\":{\"field\":\"bottom_int\"},\"fill_color\":{\"value\":\"#66A61E\"},\"hatch_color\":{\"value\":\"#66A61E\"},\"line_color\":{\"value\":\"#66A61E\"},\"top\":{\"field\":\"Intensity\"},\"width\":{\"value\":0.3},\"x\":{\"field\":\"leftWidth\"}},\"id\":\"1170\",\"type\":\"VBar\"},{\"attributes\":{\"fill_alpha\":{\"value\":0.2},\"fill_color\":{\"value\":\"#1f77b4\"},\"hatch_alpha\":{\"value\":0.2},\"line_alpha\":{\"value\":0.2},\"line_color\":{\"value\":\"#1f77b4\"},\"x\":{\"field\":\"leftWidth\"},\"y\":{\"field\":\"Intensity\"}},\"id\":\"1165\",\"type\":\"Circle\"},{\"attributes\":{\"bottom\":{\"field\":\"bottom_int\"},\"fill_alpha\":{\"value\":0.1},\"fill_color\":{\"value\":\"#66A61E\"},\"hatch_alpha\":{\"value\":0.1},\"hatch_color\":{\"value\":\"#66A61E\"},\"line_alpha\":{\"value\":0.1},\"line_color\":{\"value\":\"#66A61E\"},\"top\":{\"field\":\"Intensity\"},\"width\":{\"value\":0.3},\"x\":{\"field\":\"rightWidth\"}},\"id\":\"1177\",\"type\":\"VBar\"},{\"attributes\":{},\"id\":\"1217\",\"type\":\"UnionRenderers\"},{\"attributes\":{\"data\":{\"precursor_mz\":[null,null,null,null,null,null,null,null,null,null,null,null,null,null,null,null,null,null,null,null,null,null,null,null,null,null,null,null,null,null,null,null,null,null,null,null,null,null,null,null,null,null,null,null,null,null,null,null,null,null,null,null,null,null,null,null,null,null,null,null,null,null,null,null,null,null,null,null,null,null,null,null,null,null,null,null,null,null,null,null,null,null,null,null,null,null,null,null,null,null,null,null,null,null,null,null,null,null,null,null,null,null,null,null,null,null,null,null,null,null,null,null,null,null,null,null,null,null,null,null,null,null,null,null,null,null,null,null,null,null,null,null,null,null,null,null,null,null,null,null,null,null,null,null,null,null,null,null,null,null,null,null,null,null,null,null,null,null,null,null,null,null,null,null,null,null,null,null,null,null,null,null,null,null,null,null,null,null,null,null,null,null,null,null,null,null,null,null,null,null,null,null,null],\"product_charge\":[null,null,null,null,null,null,null,null,null,null,null,null,null,null,null,null,null,null,null,null,null,null,null,null,null,null,null,null,null,null,null,null,null,null,null,null,null,null,null,null,null,null,null,null,null,null,null,null,null,null,null,null,null,null,null,null,null,null,null,null,null,null,null,null,null,null,null,null,null,null,null,null,null,null,null,null,null,null,null,null,null,null,null,null,null,null,null,null,null,null,null,null,null,null,null,null,null,null,null,null,null,null,null,null,null,null,null,null,null,null,null,null,null,null,null,null,null,null,null,null,null,null,null,null,null,null,null,null,null,null,null,null,null,null,null,null,null,null,null,null,null,null,null,null,null,null,null,null,null,null,null,null,null,null,null,null,null,null,null,null,null,null,null,null,null,null,null,null,null,null,null,null,null,null,null,null,null,null,null,null,null,null,null,null,null,null,null,null,null,null,null,null,null],\"product_mz\":[null,null,null,null,null,null,null,null,null,null,null,null,null,null,null,null,null,null,null,null,null,null,null,null,null,null,null,null,null,null,null,null,null,null,null,null,null,null,null,null,null,null,null,null,null,null,null,null,null,null,null,null,null,null,null,null,null,null,null,null,null,null,null,null,null,null,null,null,null,null,null,null,null,null,null,null,null,null,null,null,null,null,null,null,null,null,null,null,null,null,null,null,null,null,null,null,null,null,null,null,null,null,null,null,null,null,null,null,null,null,null,null,null,null,null,null,null,null,null,null,null,null,null,null,null,null,null,null,null,null,null,null,null,null,null,null,null,null,null,null,null,null,null,null,null,null,null,null,null,null,null,null,null,null,null,null,null,null,null,null,null,null,null,null,null,null,null,null,null,null,null,null,null,null,null,null,null,null,null,null,null,null,null,null,null,null,null,null,null,null,null,null,null],\"x\":{\"__ndarray__\":\"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\",\"dtype\":\"float64\",\"order\":\"little\",\"shape\":[193]},\"y\":{\"__ndarray__\":\"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\",\"dtype\":\"float64\",\"order\":\"little\",\"shape\":[193]}},\"selected\":{\"id\":\"1220\"},\"selection_policy\":{\"id\":\"1219\"}},\"id\":\"1043\",\"type\":\"ColumnDataSource\"},{\"attributes\":{\"source\":{\"id\":\"1149\"}},\"id\":\"1167\",\"type\":\"CDSView\"},{\"attributes\":{\"coordinates\":null,\"data_source\":{\"id\":\"1111\"},\"glyph\":{\"id\":\"1125\"},\"group\":null,\"hover_glyph\":null,\"muted_glyph\":{\"id\":\"1127\"},\"name\":\"leftWidth_apex_point\",\"nonselection_glyph\":{\"id\":\"1126\"},\"view\":{\"id\":\"1129\"}},\"id\":\"1128\",\"type\":\"GlyphRenderer\"},{\"attributes\":{},\"id\":\"1218\",\"type\":\"Selection\"},{\"attributes\":{\"line_alpha\":0.1,\"line_color\":\"#aec7e8\",\"line_width\":2,\"x\":{\"field\":\"x\"},\"y\":{\"field\":\"y\"}},\"id\":\"1053\",\"type\":\"Line\"},{\"attributes\":{\"coordinates\":null,\"data_source\":{\"id\":\"1168\"},\"glyph\":{\"id\":\"1176\"},\"group\":null,\"hover_glyph\":null,\"muted_glyph\":{\"id\":\"1178\"},\"nonselection_glyph\":{\"id\":\"1177\"},\"view\":{\"id\":\"1180\"}},\"id\":\"1179\",\"type\":\"GlyphRenderer\"},{\"attributes\":{\"fill_alpha\":{\"value\":0.2},\"fill_color\":{\"value\":\"#1f77b4\"},\"hatch_alpha\":{\"value\":0.2},\"line_alpha\":{\"value\":0.2},\"line_color\":{\"value\":\"#1f77b4\"},\"x\":{\"field\":\"leftWidth\"},\"y\":{\"field\":\"Intensity\"}},\"id\":\"1127\",\"type\":\"Circle\"},{\"attributes\":{\"coordinates\":null,\"data_source\":{\"id\":\"1050\"},\"glyph\":{\"id\":\"1052\"},\"group\":null,\"hover_glyph\":null,\"muted_glyph\":{\"id\":\"1054\"},\"nonselection_glyph\":{\"id\":\"1053\"},\"view\":{\"id\":\"1056\"}},\"id\":\"1055\",\"type\":\"GlyphRenderer\"},{\"attributes\":{\"coordinates\":null,\"data_source\":{\"id\":\"1168\"},\"glyph\":{\"id\":\"1170\"},\"group\":null,\"hover_glyph\":null,\"muted_glyph\":{\"id\":\"1172\"},\"nonselection_glyph\":{\"id\":\"1171\"},\"view\":{\"id\":\"1174\"}},\"id\":\"1173\",\"type\":\"GlyphRenderer\"},{\"attributes\":{\"line_alpha\":0.2,\"line_color\":\"#1f77b4\",\"line_width\":2,\"x\":{\"field\":\"x\"},\"y\":{\"field\":\"y\"}},\"id\":\"1047\",\"type\":\"Line\"},{\"attributes\":{\"line_alpha\":0.5,\"line_color\":\"#aec7e8\",\"line_width\":2,\"x\":{\"field\":\"x\"},\"y\":{\"field\":\"y\"}},\"id\":\"1052\",\"type\":\"Line\"},{\"attributes\":{},\"id\":\"1227\",\"type\":\"UnionRenderers\"},{\"attributes\":{\"source\":{\"id\":\"1043\"}},\"id\":\"1049\",\"type\":\"CDSView\"},{\"attributes\":{\"bottom\":{\"field\":\"bottom_int\"},\"fill_alpha\":{\"value\":0.2},\"fill_color\":{\"value\":\"#66A61E\"},\"hatch_alpha\":{\"value\":0.2},\"hatch_color\":{\"value\":\"#66A61E\"},\"line_alpha\":{\"value\":0.2},\"line_color\":{\"value\":\"#66A61E\"},\"top\":{\"field\":\"Intensity\"},\"width\":{\"value\":0.3},\"x\":{\"field\":\"leftWidth\"}},\"id\":\"1172\",\"type\":\"VBar\"},{\"attributes\":{\"data\":{\"precursor_mz\":[null,null,null,null,null,null,null,null,null,null,null,null,null,null,null,null,null,null,null,null,null,null,null,null,null,null,null,null,null,null,null,null,null,null,null,null,null,null,null,null,null,null,null,null,null,null,null,null,null,null,null,null,null,null,null,null,null,null,null,null,null,null,null,null,null,null,null,null,null,null,null,null,null,null,null,null,null,null,null,null,null,null,null,null,null,null,null,null,null,null,null,null,null,null,null,null,null,null,null,null,null,null,null,null,null,null,null,null,null,null,null,null,null,null,null,null,null,null,null,null,null,null,null,null,null,null,null,null,null,null,null,null,null,null,null,null,null,null,null,null,null,null,null,null,null,null,null,null,null,null,null,null,null,null,null,null,null,null,null,null,null,null,null,null,null,null,null,null,null,null,null,null,null,null,null,null,null,null,null,null,null,null,null,null,null,null,null,null,null,null,null,null,null],\"product_charge\":[null,null,null,null,null,null,null,null,null,null,null,null,null,null,null,null,null,null,null,null,null,null,null,null,null,null,null,null,null,null,null,null,null,null,null,null,null,null,null,null,null,null,null,null,null,null,null,null,null,null,null,null,null,null,null,null,null,null,null,null,null,null,null,null,null,null,null,null,null,null,null,null,null,null,null,null,null,null,null,null,null,null,null,null,null,null,null,null,null,null,null,null,null,null,null,null,null,null,null,null,null,null,null,null,null,null,null,null,null,null,null,null,null,null,null,null,null,null,null,null,null,null,null,null,null,null,null,null,null,null,null,null,null,null,null,null,null,null,null,null,null,null,null,null,null,null,null,null,null,null,null,null,null,null,null,null,null,null,null,null,null,null,null,null,null,null,null,null,null,null,null,null,null,null,null,null,null,null,null,null,null,null,null,null,null,null,null,null,null,null,null,null,null],\"product_mz\":[null,null,null,null,null,null,null,null,null,null,null,null,null,null,null,null,null,null,null,null,null,null,null,null,null,null,null,null,null,null,null,null,null,null,null,null,null,null,null,null,null,null,null,null,null,null,null,null,null,null,null,null,null,null,null,null,null,null,null,null,null,null,null,null,null,null,null,null,null,null,null,null,null,null,null,null,null,null,null,null,null,null,null,null,null,null,null,null,null,null,null,null,null,null,null,null,null,null,null,null,null,null,null,null,null,null,null,null,null,null,null,null,null,null,null,null,null,null,null,null,null,null,null,null,null,null,null,null,null,null,null,null,null,null,null,null,null,null,null,null,null,null,null,null,null,null,null,null,null,null,null,null,null,null,null,null,null,null,null,null,null,null,null,null,null,null,null,null,null,null,null,null,null,null,null,null,null,null,null,null,null,null,null,null,null,null,null,null,null,null,null,null,null],\"x\":{\"__ndarray__\":\"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\",\"dtype\":\"float64\",\"order\":\"little\",\"shape\":[193]},\"y\":{\"__ndarray__\":\"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\",\"dtype\":\"float64\",\"order\":\"little\",\"shape\":[193]}},\"selected\":{\"id\":\"1222\"},\"selection_policy\":{\"id\":\"1221\"}},\"id\":\"1050\",\"type\":\"ColumnDataSource\"},{\"attributes\":{\"source\":{\"id\":\"1168\"}},\"id\":\"1174\",\"type\":\"CDSView\"},{\"attributes\":{\"source\":{\"id\":\"1111\"}},\"id\":\"1123\",\"type\":\"CDSView\"},{\"attributes\":{\"bottom\":{\"field\":\"bottom_int\"},\"fill_color\":{\"value\":\"#66A61E\"},\"hatch_color\":{\"value\":\"#66A61E\"},\"line_color\":{\"value\":\"#66A61E\"},\"top\":{\"field\":\"Intensity\"},\"width\":{\"value\":0.3},\"x\":{\"field\":\"rightWidth\"}},\"id\":\"1176\",\"type\":\"VBar\"},{\"attributes\":{},\"id\":\"1228\",\"type\":\"Selection\"},{\"attributes\":{\"line_alpha\":0.1,\"line_color\":\"#ff7f0e\",\"line_width\":2,\"x\":{\"field\":\"x\"},\"y\":{\"field\":\"y\"}},\"id\":\"1060\",\"type\":\"Line\"},{\"attributes\":{\"fill_alpha\":{\"value\":0.1},\"fill_color\":{\"value\":\"#1f77b4\"},\"hatch_alpha\":{\"value\":0.1},\"line_alpha\":{\"value\":0.1},\"line_color\":{\"value\":\"#1f77b4\"},\"x\":{\"field\":\"leftWidth\"},\"y\":{\"field\":\"Intensity\"}},\"id\":\"1183\",\"type\":\"Circle\"},{\"attributes\":{},\"id\":\"1239\",\"type\":\"UnionRenderers\"},{\"attributes\":{\"fill_alpha\":{\"value\":0},\"fill_color\":{\"value\":\"#1f77b4\"},\"hatch_alpha\":{\"value\":0},\"line_alpha\":{\"value\":0},\"line_color\":{\"value\":\"#1f77b4\"},\"x\":{\"field\":\"leftWidth\"},\"y\":{\"field\":\"Intensity\"}},\"id\":\"1125\",\"type\":\"Circle\"},{\"attributes\":{\"coordinates\":null,\"data_source\":{\"id\":\"1057\"},\"glyph\":{\"id\":\"1059\"},\"group\":null,\"hover_glyph\":null,\"muted_glyph\":{\"id\":\"1061\"},\"nonselection_glyph\":{\"id\":\"1060\"},\"view\":{\"id\":\"1063\"}},\"id\":\"1062\",\"type\":\"GlyphRenderer\"},{\"attributes\":{},\"id\":\"1233\",\"type\":\"UnionRenderers\"},{\"attributes\":{\"line_alpha\":0.2,\"line_color\":\"#aec7e8\",\"line_width\":2,\"x\":{\"field\":\"x\"},\"y\":{\"field\":\"y\"}},\"id\":\"1054\",\"type\":\"Line\"},{\"attributes\":{\"bottom\":{\"field\":\"bottom_int\"},\"fill_alpha\":{\"value\":0.2},\"fill_color\":{\"value\":\"#66A61E\"},\"hatch_alpha\":{\"value\":0.2},\"hatch_color\":{\"value\":\"#66A61E\"},\"line_alpha\":{\"value\":0.2},\"line_color\":{\"value\":\"#66A61E\"},\"top\":{\"field\":\"Intensity\"},\"width\":{\"value\":0.3},\"x\":{\"field\":\"rightWidth\"}},\"id\":\"1178\",\"type\":\"VBar\"},{\"attributes\":{},\"id\":\"1240\",\"type\":\"Selection\"},{\"attributes\":{\"source\":{\"id\":\"1168\"}},\"id\":\"1180\",\"type\":\"CDSView\"},{\"attributes\":{\"fill_alpha\":{\"value\":0},\"fill_color\":{\"value\":\"#1f77b4\"},\"hatch_alpha\":{\"value\":0},\"line_alpha\":{\"value\":0},\"line_color\":{\"value\":\"#1f77b4\"},\"x\":{\"field\":\"leftWidth\"},\"y\":{\"field\":\"Intensity\"}},\"id\":\"1182\",\"type\":\"Circle\"},{\"attributes\":{},\"id\":\"1234\",\"type\":\"Selection\"},{\"attributes\":{\"data\":{\"Intensity\":[10654.984462627379],\"bottom_int\":[0],\"leftWidth\":[1112.5],\"ms2_mscore\":[null],\"rightWidth\":[1152.5]},\"selected\":{\"id\":\"1242\"},\"selection_policy\":{\"id\":\"1241\"}},\"id\":\"1187\",\"type\":\"ColumnDataSource\"},{\"attributes\":{\"coordinates\":null,\"data_source\":{\"id\":\"1168\"},\"glyph\":{\"id\":\"1182\"},\"group\":null,\"hover_glyph\":null,\"muted_glyph\":{\"id\":\"1184\"},\"name\":\"leftWidth_apex_point\",\"nonselection_glyph\":{\"id\":\"1183\"},\"view\":{\"id\":\"1186\"}},\"id\":\"1185\",\"type\":\"GlyphRenderer\"},{\"attributes\":{\"line_alpha\":0.1,\"line_dash\":[6],\"line_width\":2,\"x\":{\"field\":\"x\"},\"y\":{\"field\":\"y\"}},\"id\":\"1039\",\"type\":\"Line\"},{\"attributes\":{},\"id\":\"1219\",\"type\":\"UnionRenderers\"},{\"attributes\":{\"data\":{\"precursor_mz\":[null,null,null,null,null,null,null,null,null,null,null,null,null,null,null,null,null,null,null,null,null,null,null,null,null,null,null,null,null,null,null,null,null,null,null,null,null,null,null,null,null,null,null,null,null,null,null,null,null,null,null,null,null,null,null,null,null,null,null,null,null,null,null,null,null,null,null,null,null,null,null,null,null,null,null,null,null,null,null,null,null,null,null,null,null,null,null,null,null,null,null,null,null,null,null,null,null,null,null,null,null,null,null,null,null,null,null,null,null,null,null,null,null,null,null,null,null,null,null,null,null,null,null,null,null,null,null,null,null,null,null,null,null,null,null,null,null,null,null,null,null,null,null,null,null,null,null,null,null,null,null,null,null,null,null,null,null,null,null,null,null,null,null,null,null,null,null,null,null,null,null,null,null,null,null,null,null,null,null,null,null,null,null,null,null,null,null,null,null,null,null,null,null],\"product_charge\":[null,null,null,null,null,null,null,null,null,null,null,null,null,null,null,null,null,null,null,null,null,null,null,null,null,null,null,null,null,null,null,null,null,null,null,null,null,null,null,null,null,null,null,null,null,null,null,null,null,null,null,null,null,null,null,null,null,null,null,null,null,null,null,null,null,null,null,null,null,null,null,null,null,null,null,null,null,null,null,null,null,null,null,null,null,null,null,null,null,null,null,null,null,null,null,null,null,null,null,null,null,null,null,null,null,null,null,null,null,null,null,null,null,null,null,null,null,null,null,null,null,null,null,null,null,null,null,null,null,null,null,null,null,null,null,null,null,null,null,null,null,null,null,null,null,null,null,null,null,null,null,null,null,null,null,null,null,null,null,null,null,null,null,null,null,null,null,null,null,null,null,null,null,null,null,null,null,null,null,null,null,null,null,null,null,null,null,null,null,null,null,null,null],\"product_mz\":[null,null,null,null,null,null,null,null,null,null,null,null,null,null,null,null,null,null,null,null,null,null,null,null,null,null,null,null,null,null,null,null,null,null,null,null,null,null,null,null,null,null,null,null,null,null,null,null,null,null,null,null,null,null,null,null,null,null,null,null,null,null,null,null,null,null,null,null,null,null,null,null,null,null,null,null,null,null,null,null,null,null,null,null,null,null,null,null,null,null,null,null,null,null,null,null,null,null,null,null,null,null,null,null,null,null,null,null,null,null,null,null,null,null,null,null,null,null,null,null,null,null,null,null,null,null,null,null,null,null,null,null,null,null,null,null,null,null,null,null,null,null,null,null,null,null,null,null,null,null,null,null,null,null,null,null,null,null,null,null,null,null,null,null,null,null,null,null,null,null,null,null,null,null,null,null,null,null,null,null,null,null,null,null,null,null,null,null,null,null,null,null,null],\"x\":{\"__ndarray__\":\"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\",\"dtype\":\"float64\",\"order\":\"little\",\"shape\":[193]},\"y\":{\"__ndarray__\":\"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\",\"dtype\":\"float64\",\"order\":\"little\",\"shape\":[193]}},\"selected\":{\"id\":\"1226\"},\"selection_policy\":{\"id\":\"1225\"}},\"id\":\"1064\",\"type\":\"ColumnDataSource\"},{\"attributes\":{\"bottom\":{\"field\":\"bottom_int\"},\"fill_alpha\":{\"value\":0.1},\"fill_color\":{\"value\":\"#E6AB02\"},\"hatch_alpha\":{\"value\":0.1},\"hatch_color\":{\"value\":\"#E6AB02\"},\"line_alpha\":{\"value\":0.1},\"line_color\":{\"value\":\"#E6AB02\"},\"top\":{\"field\":\"Intensity\"},\"width\":{\"value\":0.3},\"x\":{\"field\":\"rightWidth\"}},\"id\":\"1196\",\"type\":\"VBar\"},{\"attributes\":{\"bottom\":{\"field\":\"bottom_int\"},\"fill_alpha\":{\"value\":0.1},\"fill_color\":{\"value\":\"#D95F02\"},\"hatch_alpha\":{\"value\":0.1},\"hatch_color\":{\"value\":\"#D95F02\"},\"line_alpha\":{\"value\":0.1},\"line_color\":{\"value\":\"#D95F02\"},\"top\":{\"field\":\"Intensity\"},\"width\":{\"value\":0.3},\"x\":{\"field\":\"rightWidth\"}},\"id\":\"1120\",\"type\":\"VBar\"},{\"attributes\":{\"fill_alpha\":{\"value\":0.2},\"fill_color\":{\"value\":\"#1f77b4\"},\"hatch_alpha\":{\"value\":0.2},\"line_alpha\":{\"value\":0.2},\"line_color\":{\"value\":\"#1f77b4\"},\"x\":{\"field\":\"leftWidth\"},\"y\":{\"field\":\"Intensity\"}},\"id\":\"1184\",\"type\":\"Circle\"},{\"attributes\":{\"bottom\":{\"field\":\"bottom_int\"},\"fill_alpha\":{\"value\":0.1},\"fill_color\":{\"value\":\"#E6AB02\"},\"hatch_alpha\":{\"value\":0.1},\"hatch_color\":{\"value\":\"#E6AB02\"},\"line_alpha\":{\"value\":0.1},\"line_color\":{\"value\":\"#E6AB02\"},\"top\":{\"field\":\"Intensity\"},\"width\":{\"value\":0.3},\"x\":{\"field\":\"leftWidth\"}},\"id\":\"1190\",\"type\":\"VBar\"},{\"attributes\":{},\"id\":\"1220\",\"type\":\"Selection\"},{\"attributes\":{\"line_alpha\":0.5,\"line_color\":\"#ff7f0e\",\"line_width\":2,\"x\":{\"field\":\"x\"},\"y\":{\"field\":\"y\"}},\"id\":\"1059\",\"type\":\"Line\"},{\"attributes\":{\"source\":{\"id\":\"1168\"}},\"id\":\"1186\",\"type\":\"CDSView\"},{\"attributes\":{\"source\":{\"id\":\"1050\"}},\"id\":\"1056\",\"type\":\"CDSView\"},{\"attributes\":{\"bottom\":{\"field\":\"bottom_int\"},\"fill_color\":{\"value\":\"#E6AB02\"},\"hatch_color\":{\"value\":\"#E6AB02\"},\"line_color\":{\"value\":\"#E6AB02\"},\"top\":{\"field\":\"Intensity\"},\"width\":{\"value\":0.3},\"x\":{\"field\":\"leftWidth\"}},\"id\":\"1189\",\"type\":\"VBar\"},{\"attributes\":{\"data\":{\"precursor_mz\":[null,null,null,null,null,null,null,null,null,null,null,null,null,null,null,null,null,null,null,null,null,null,null,null,null,null,null,null,null,null,null,null,null,null,null,null,null,null,null,null,null,null,null,null,null,null,null,null,null,null,null,null,null,null,null,null,null,null,null,null,null,null,null,null,null,null,null,null,null,null,null,null,null,null,null,null,null,null,null,null,null,null,null,null,null,null,null,null,null,null,null,null,null,null,null,null,null,null,null,null,null,null,null,null,null,null,null,null,null,null,null,null,null,null,null,null,null,null,null,null,null,null,null,null,null,null,null,null,null,null,null,null,null,null,null,null,null,null,null,null,null,null,null,null,null,null,null,null,null,null,null,null,null,null,null,null,null,null,null,null,null,null,null,null,null,null,null,null,null,null,null,null,null,null,null,null,null,null,null,null,null,null,null,null,null,null,null,null,null,null,null,null,null],\"product_charge\":[null,null,null,null,null,null,null,null,null,null,null,null,null,null,null,null,null,null,null,null,null,null,null,null,null,null,null,null,null,null,null,null,null,null,null,null,null,null,null,null,null,null,null,null,null,null,null,null,null,null,null,null,null,null,null,null,null,null,null,null,null,null,null,null,null,null,null,null,null,null,null,null,null,null,null,null,null,null,null,null,null,null,null,null,null,null,null,null,null,null,null,null,null,null,null,null,null,null,null,null,null,null,null,null,null,null,null,null,null,null,null,null,null,null,null,null,null,null,null,null,null,null,null,null,null,null,null,null,null,null,null,null,null,null,null,null,null,null,null,null,null,null,null,null,null,null,null,null,null,null,null,null,null,null,null,null,null,null,null,null,null,null,null,null,null,null,null,null,null,null,null,null,null,null,null,null,null,null,null,null,null,null,null,null,null,null,null,null,null,null,null,null,null],\"product_mz\":[null,null,null,null,null,null,null,null,null,null,null,null,null,null,null,null,null,null,null,null,null,null,null,null,null,null,null,null,null,null,null,null,null,null,null,null,null,null,null,null,null,null,null,null,null,null,null,null,null,null,null,null,null,null,null,null,null,null,null,null,null,null,null,null,null,null,null,null,null,null,null,null,null,null,null,null,null,null,null,null,null,null,null,null,null,null,null,null,null,null,null,null,null,null,null,null,null,null,null,null,null,null,null,null,null,null,null,null,null,null,null,null,null,null,null,null,null,null,null,null,null,null,null,null,null,null,null,null,null,null,null,null,null,null,null,null,null,null,null,null,null,null,null,null,null,null,null,null,null,null,null,null,null,null,null,null,null,null,null,null,null,null,null,null,null,null,null,null,null,null,null,null,null,null,null,null,null,null,null,null,null,null,null,null,null,null,null,null,null,null,null,null,null],\"x\":{\"__ndarray__\":\"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\",\"dtype\":\"float64\",\"order\":\"little\",\"shape\":[193]},\"y\":{\"__ndarray__\":\"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\",\"dtype\":\"float64\",\"order\":\"little\",\"shape\":[193]}},\"selected\":{\"id\":\"1224\"},\"selection_policy\":{\"id\":\"1223\"}},\"id\":\"1057\",\"type\":\"ColumnDataSource\"},{\"attributes\":{},\"id\":\"1229\",\"type\":\"UnionRenderers\"},{\"attributes\":{\"coordinates\":null,\"group\":null},\"id\":\"1209\",\"type\":\"Title\"},{\"attributes\":{\"coordinates\":null,\"data_source\":{\"id\":\"1111\"},\"glyph\":{\"id\":\"1119\"},\"group\":null,\"hover_glyph\":null,\"muted_glyph\":{\"id\":\"1121\"},\"nonselection_glyph\":{\"id\":\"1120\"},\"view\":{\"id\":\"1123\"}},\"id\":\"1122\",\"type\":\"GlyphRenderer\"},{\"attributes\":{\"coordinates\":null,\"data_source\":{\"id\":\"1187\"},\"glyph\":{\"id\":\"1195\"},\"group\":null,\"hover_glyph\":null,\"muted_glyph\":{\"id\":\"1197\"},\"nonselection_glyph\":{\"id\":\"1196\"},\"view\":{\"id\":\"1199\"}},\"id\":\"1198\",\"type\":\"GlyphRenderer\"},{\"attributes\":{\"line_alpha\":0.1,\"line_color\":\"#ffbb78\",\"line_width\":2,\"x\":{\"field\":\"x\"},\"y\":{\"field\":\"y\"}},\"id\":\"1067\",\"type\":\"Line\"},{\"attributes\":{},\"id\":\"1230\",\"type\":\"Selection\"},{\"attributes\":{\"coordinates\":null,\"data_source\":{\"id\":\"1187\"},\"glyph\":{\"id\":\"1189\"},\"group\":null,\"hover_glyph\":null,\"muted_glyph\":{\"id\":\"1191\"},\"nonselection_glyph\":{\"id\":\"1190\"},\"view\":{\"id\":\"1193\"}},\"id\":\"1192\",\"type\":\"GlyphRenderer\"},{\"attributes\":{\"fill_alpha\":{\"value\":0.1},\"fill_color\":{\"value\":\"#1f77b4\"},\"hatch_alpha\":{\"value\":0.1},\"line_alpha\":{\"value\":0.1},\"line_color\":{\"value\":\"#1f77b4\"},\"x\":{\"field\":\"leftWidth\"},\"y\":{\"field\":\"Intensity\"}},\"id\":\"1126\",\"type\":\"Circle\"},{\"attributes\":{\"bottom\":{\"field\":\"bottom_int\"},\"fill_alpha\":{\"value\":0.2},\"fill_color\":{\"value\":\"#E6AB02\"},\"hatch_alpha\":{\"value\":0.2},\"hatch_color\":{\"value\":\"#E6AB02\"},\"line_alpha\":{\"value\":0.2},\"line_color\":{\"value\":\"#E6AB02\"},\"top\":{\"field\":\"Intensity\"},\"width\":{\"value\":0.3},\"x\":{\"field\":\"leftWidth\"}},\"id\":\"1191\",\"type\":\"VBar\"},{\"attributes\":{\"coordinates\":null,\"data_source\":{\"id\":\"1064\"},\"glyph\":{\"id\":\"1066\"},\"group\":null,\"hover_glyph\":null,\"muted_glyph\":{\"id\":\"1068\"},\"nonselection_glyph\":{\"id\":\"1067\"},\"view\":{\"id\":\"1070\"}},\"id\":\"1069\",\"type\":\"GlyphRenderer\"},{\"attributes\":{\"source\":{\"id\":\"1187\"}},\"id\":\"1193\",\"type\":\"CDSView\"},{\"attributes\":{\"line_alpha\":0.2,\"line_color\":\"#ff7f0e\",\"line_width\":2,\"x\":{\"field\":\"x\"},\"y\":{\"field\":\"y\"}},\"id\":\"1061\",\"type\":\"Line\"},{\"attributes\":{\"bottom\":{\"field\":\"bottom_int\"},\"fill_color\":{\"value\":\"#E6AB02\"},\"hatch_color\":{\"value\":\"#E6AB02\"},\"line_color\":{\"value\":\"#E6AB02\"},\"top\":{\"field\":\"Intensity\"},\"width\":{\"value\":0.3},\"x\":{\"field\":\"rightWidth\"}},\"id\":\"1195\",\"type\":\"VBar\"},{\"attributes\":{\"data\":{\"precursor_mz\":[null,null,null,null,null,null,null,null,null,null,null,null,null,null,null,null,null,null,null,null,null,null,null,null,null,null,null,null,null,null,null,null,null,null,null,null,null,null,null,null,null,null,null,null,null,null,null,null,null,null,null,null,null,null,null,null,null,null,null,null,null,null,null,null,null,null,null,null,null,null,null,null,null,null,null,null,null,null,null,null,null,null,null,null,null,null,null,null,null,null,null,null,null,null,null,null,null,null,null,null,null,null,null,null,null,null,null,null,null,null,null,null,null,null,null,null,null,null,null,null,null,null,null,null,null,null,null,null,null,null,null,null,null,null,null,null,null,null,null,null,null,null,null,null,null,null,null,null,null,null,null,null,null,null,null,null,null,null,null,null,null,null,null,null,null,null,null,null,null,null,null,null,null,null,null,null,null,null,null,null,null,null,null,null,null,null,null,null,null,null,null,null,null],\"product_charge\":[null,null,null,null,null,null,null,null,null,null,null,null,null,null,null,null,null,null,null,null,null,null,null,null,null,null,null,null,null,null,null,null,null,null,null,null,null,null,null,null,null,null,null,null,null,null,null,null,null,null,null,null,null,null,null,null,null,null,null,null,null,null,null,null,null,null,null,null,null,null,null,null,null,null,null,null,null,null,null,null,null,null,null,null,null,null,null,null,null,null,null,null,null,null,null,null,null,null,null,null,null,null,null,null,null,null,null,null,null,null,null,null,null,null,null,null,null,null,null,null,null,null,null,null,null,null,null,null,null,null,null,null,null,null,null,null,null,null,null,null,null,null,null,null,null,null,null,null,null,null,null,null,null,null,null,null,null,null,null,null,null,null,null,null,null,null,null,null,null,null,null,null,null,null,null,null,null,null,null,null,null,null,null,null,null,null,null,null,null,null,null,null,null],\"product_mz\":[null,null,null,null,null,null,null,null,null,null,null,null,null,null,null,null,null,null,null,null,null,null,null,null,null,null,null,null,null,null,null,null,null,null,null,null,null,null,null,null,null,null,null,null,null,null,null,null,null,null,null,null,null,null,null,null,null,null,null,null,null,null,null,null,null,null,null,null,null,null,null,null,null,null,null,null,null,null,null,null,null,null,null,null,null,null,null,null,null,null,null,null,null,null,null,null,null,null,null,null,null,null,null,null,null,null,null,null,null,null,null,null,null,null,null,null,null,null,null,null,null,null,null,null,null,null,null,null,null,null,null,null,null,null,null,null,null,null,null,null,null,null,null,null,null,null,null,null,null,null,null,null,null,null,null,null,null,null,null,null,null,null,null,null,null,null,null,null,null,null,null,null,null,null,null,null,null,null,null,null,null,null,null,null,null,null,null,null,null,null,null,null,null],\"x\":{\"__ndarray__\":\"mpmZmZkJgEBmZmZmZiaAQDMzMzMzQ4BAzczMzMxggECamZmZmX2AQGZmZmZmmoBAAAAAAAC4gEDNzMzMzNSAQJqZmZmZ8YBAMzMzMzMPgUAAAAAAACyBQM3MzMzMSIFAZmZmZmZmgUAzMzMzM4OBQAAAAAAAoIFAmpmZmZm9gUBmZmZmZtqBQDMzMzMz94FAzczMzMwUgkCamZmZmTGCQDMzMzMzT4JAAAAAAABsgkDNzMzMzIiCQGZmZmZmpoJAMzMzMzPDgkAAAAAAAOCCQJqZmZmZ/YJAZmZmZmYag0AzMzMzMzeDQM3MzMzMVINAmpmZmZlxg0BmZmZmZo6DQAAAAAAArINAzczMzMzIg0CamZmZmeWDQDMzMzMzA4RAAAAAAAAghEDNzMzMzDyEQGZmZmZmWoRAMzMzMzN3hEAAAAAAAJSEQJqZmZmZsYRAZmZmZmbOhEAAAAAAAOyEQM3MzMzMCIVAmpmZmZklhUAzMzMzM0OFQAAAAAAAYIVAzczMzMx8hUBmZmZmZpqFQDMzMzMzt4VAAAAAAADUhUCamZmZmfGFQGZmZmZmDoZAMzMzMzMrhkDNzMzMzEiGQJqZmZmZZYZAZmZmZmaChkAAAAAAAKCGQM3MzMzMvIZAmpmZmZnZhkAzMzMzM/eGQAAAAAAAFIdAzczMzMwwh0BmZmZmZk6HQDMzMzMza4dAzczMzMyIh0CamZmZmaWHQGZmZmZmwodAAAAAAADgh0DNzMzMzPyHQJqZmZmZGYhAMzMzMzM3iEAAAAAAAFSIQM3MzMzMcIhAZmZmZmaOiEAzMzMzM6uIQAAAAAAAyIhAmpmZmZnliEBmZmZmZgKJQDMzMzMzH4lAzczMzMw8iUCamZmZmVmJQGZmZmZmdolAAAAAAACUiUDNzMzMzLCJQJqZmZmZzYlAMzMzMzPriUAAAAAAAAiKQJqZmZmZJYpAZmZmZmZCikAzMzMzM1+KQM3MzMzMfIpAmpmZmZmZikBmZmZmZraKQAAAAAAA1IpAzczMzMzwikCamZmZmQ2LQDMzMzMzK4tAAAAAAABIi0DNzMzMzGSLQGZmZmZmgotAMzMzMzOfi0AAAAAAALyLQJqZmZmZ2YtAZmZmZmb2i0AzMzMzMxOMQM3MzMzMMIxAmpmZmZlNjEAzMzMzM2uMQAAAAAAAiIxAzczMzMykjEBmZmZmZsKMQDMzMzMz34xAAAAAAAD8jECamZmZmRmNQGZmZmZmNo1AMzMzMzNTjUDNzMzMzHCNQJqZmZmZjY1AZmZmZmaqjUAAAAAAAMiNQM3MzMzM5I1AmpmZmZkBjkAzMzMzMx+OQAAAAAAAPI5AzczMzMxYjkBmZmZmZnaOQDMzMzMzk45AAAAAAACwjkCamZmZmc2OQGZmZmZm6o5AMzMzMzMHj0DNzMzMzCSPQJqZmZmZQY9AMzMzMzNfj0AAAAAAAHyPQM3MzMzMmI9AZmZmZma2j0AzMzMzM9OPQAAAAAAA8I9AzczMzMwGkEAzMzMzMxWQQJqZmZmZI5BAZmZmZmYykEDNzMzMzECQQDMzMzMzT5BAAAAAAABekEBmZmZmZmyQQM3MzMzMepBAmpmZmZmJkEAAAAAAAJiQQM3MzMzMppBAMzMzMzO1kECamZmZmcOQQGZmZmZm0pBAzczMzMzgkEAzMzMzM++QQAAAAAAA/pBAZmZmZmYMkUDNzMzMzBqRQJqZmZmZKZFAAAAAAAA4kUBmZmZmZkaRQDMzMzMzVZFAmpmZmZljkUAAAAAAAHKRQM3MzMzMgJFAMzMzMzOPkUCamZmZmZ2RQGZmZmZmrJFAzczMzMy6kUAzMzMzM8mRQAAAAAAA2JFAZmZmZmbmkUAzMzMzM/WRQJqZmZmZA5JAAAAAAAASkkDNzMzMzCCSQDMzMzMzL5JAmpmZmZk9kkBmZmZmZkySQM3MzMzMWpJAMzMzMzNpkkAAAAAAAHiSQGZmZmZmhpJAzczMzMyUkkCamZmZmaOSQAAAAAAAspJAZmZmZmbAkkAzMzMzM8+SQJqZmZmZ3ZJAAAAAAADskkA=\",\"dtype\":\"float64\",\"order\":\"little\",\"shape\":[193]},\"y\":{\"__ndarray__\":\"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\",\"dtype\":\"float64\",\"order\":\"little\",\"shape\":[193]}},\"selected\":{\"id\":\"1230\"},\"selection_policy\":{\"id\":\"1229\"}},\"id\":\"1078\",\"type\":\"ColumnDataSource\"},{\"attributes\":{\"line_alpha\":0.5,\"line_color\":\"#ffbb78\",\"line_width\":2,\"x\":{\"field\":\"x\"},\"y\":{\"field\":\"y\"}},\"id\":\"1066\",\"type\":\"Line\"},{\"attributes\":{\"fill_alpha\":{\"value\":0.1},\"fill_color\":{\"value\":\"#1f77b4\"},\"hatch_alpha\":{\"value\":0.1},\"line_alpha\":{\"value\":0.1},\"line_color\":{\"value\":\"#1f77b4\"},\"x\":{\"field\":\"leftWidth\"},\"y\":{\"field\":\"Intensity\"}},\"id\":\"1202\",\"type\":\"Circle\"},{\"attributes\":{\"source\":{\"id\":\"1071\"}},\"id\":\"1077\",\"type\":\"CDSView\"},{\"attributes\":{\"source\":{\"id\":\"1057\"}},\"id\":\"1063\",\"type\":\"CDSView\"},{\"attributes\":{},\"id\":\"1221\",\"type\":\"UnionRenderers\"},{\"attributes\":{\"line_alpha\":0.2,\"line_color\":\"#2ca02c\",\"line_width\":2,\"x\":{\"field\":\"x\"},\"y\":{\"field\":\"y\"}},\"id\":\"1075\",\"type\":\"Line\"},{\"attributes\":{\"bottom\":{\"field\":\"bottom_int\"},\"fill_alpha\":{\"value\":0.2},\"fill_color\":{\"value\":\"#E6AB02\"},\"hatch_alpha\":{\"value\":0.2},\"hatch_color\":{\"value\":\"#E6AB02\"},\"line_alpha\":{\"value\":0.2},\"line_color\":{\"value\":\"#E6AB02\"},\"top\":{\"field\":\"Intensity\"},\"width\":{\"value\":0.3},\"x\":{\"field\":\"rightWidth\"}},\"id\":\"1197\",\"type\":\"VBar\"},{\"attributes\":{\"source\":{\"id\":\"1187\"}},\"id\":\"1199\",\"type\":\"CDSView\"},{\"attributes\":{\"fill_alpha\":{\"value\":0},\"fill_color\":{\"value\":\"#1f77b4\"},\"hatch_alpha\":{\"value\":0},\"line_alpha\":{\"value\":0},\"line_color\":{\"value\":\"#1f77b4\"},\"x\":{\"field\":\"leftWidth\"},\"y\":{\"field\":\"Intensity\"}},\"id\":\"1201\",\"type\":\"Circle\"},{\"attributes\":{\"callback\":null,\"tooltips\":[[\"index\",\"$index\"],[\"(rt,int)\",\"(@x{0.00}, @y)\"]]},\"id\":\"1026\",\"type\":\"HoverTool\"},{\"attributes\":{},\"id\":\"1222\",\"type\":\"Selection\"},{\"attributes\":{\"coordinates\":null,\"data_source\":{\"id\":\"1187\"},\"glyph\":{\"id\":\"1201\"},\"group\":null,\"hover_glyph\":null,\"muted_glyph\":{\"id\":\"1203\"},\"name\":\"leftWidth_apex_point\",\"nonselection_glyph\":{\"id\":\"1202\"},\"view\":{\"id\":\"1205\"}},\"id\":\"1204\",\"type\":\"GlyphRenderer\"},{\"attributes\":{},\"id\":\"1012\",\"type\":\"BasicTicker\"},{\"attributes\":{\"axis\":{\"id\":\"1011\"},\"coordinates\":null,\"group\":null,\"ticker\":null},\"id\":\"1014\",\"type\":\"Grid\"},{\"attributes\":{\"data\":{\"Intensity\":[235346.49947055007],\"bottom_int\":[0],\"leftWidth\":[843.5],\"ms2_mscore\":[null],\"rightWidth\":[901.7000122070312]},\"selected\":{\"id\":\"1232\"},\"selection_policy\":{\"id\":\"1231\"}},\"id\":\"1092\",\"type\":\"ColumnDataSource\"},{\"attributes\":{},\"id\":\"1231\",\"type\":\"UnionRenderers\"},{\"attributes\":{\"fill_alpha\":{\"value\":0.2},\"fill_color\":{\"value\":\"#1f77b4\"},\"hatch_alpha\":{\"value\":0.2},\"line_alpha\":{\"value\":0.2},\"line_color\":{\"value\":\"#1f77b4\"},\"x\":{\"field\":\"leftWidth\"},\"y\":{\"field\":\"Intensity\"}},\"id\":\"1203\",\"type\":\"Circle\"},{\"attributes\":{},\"id\":\"1020\",\"type\":\"WheelZoomTool\"},{\"attributes\":{\"callback\":null,\"names\":[\"leftWidth_apex_point\"],\"tooltips\":[[\"Intensity\",\"@Intensity\"],[\"Left Width\",\"@leftWidth{0.00}\"],[\"Right Width\",\"@rightWidth{0.00}\"],[\"Peak Group Rank\",\"@peakgroup_rank\"],[\"MS2 m-score\",\"@ms2_mscore\"]]},\"id\":\"1206\",\"type\":\"HoverTool\"},{\"attributes\":{\"axis_label\":\"Retention Time\",\"axis_label_text_font_size\":\"11pt\",\"coordinates\":null,\"formatter\":{\"id\":\"1215\"},\"group\":null,\"major_label_policy\":{\"id\":\"1216\"},\"major_label_text_font_size\":\"11pt\",\"ticker\":{\"id\":\"1012\"}},\"id\":\"1011\",\"type\":\"LinearAxis\"},{\"attributes\":{\"bottom\":{\"field\":\"bottom_int\"},\"fill_alpha\":{\"value\":0.2},\"fill_color\":{\"value\":\"#D95F02\"},\"hatch_alpha\":{\"value\":0.2},\"hatch_color\":{\"value\":\"#D95F02\"},\"line_alpha\":{\"value\":0.2},\"line_color\":{\"value\":\"#D95F02\"},\"top\":{\"field\":\"Intensity\"},\"width\":{\"value\":0.3},\"x\":{\"field\":\"rightWidth\"}},\"id\":\"1121\",\"type\":\"VBar\"},{\"attributes\":{\"axis_label\":\"Intensity\",\"axis_label_text_font_size\":\"11pt\",\"coordinates\":null,\"formatter\":{\"id\":\"1212\"},\"group\":null,\"major_label_policy\":{\"id\":\"1213\"},\"major_label_text_font_size\":\"11pt\",\"ticker\":{\"id\":\"1016\"}},\"id\":\"1015\",\"type\":\"LinearAxis\"},{\"attributes\":{\"source\":{\"id\":\"1187\"}},\"id\":\"1205\",\"type\":\"CDSView\"},{\"attributes\":{},\"id\":\"1232\",\"type\":\"Selection\"},{\"attributes\":{\"axis\":{\"id\":\"1015\"},\"coordinates\":null,\"dimension\":1,\"group\":null,\"ticker\":null},\"id\":\"1018\",\"type\":\"Grid\"},{\"attributes\":{\"coordinates\":null,\"data_source\":{\"id\":\"1078\"},\"glyph\":{\"id\":\"1080\"},\"group\":null,\"hover_glyph\":null,\"muted_glyph\":{\"id\":\"1082\"},\"nonselection_glyph\":{\"id\":\"1081\"},\"view\":{\"id\":\"1084\"}},\"id\":\"1083\",\"type\":\"GlyphRenderer\"},{\"attributes\":{},\"id\":\"1016\",\"type\":\"BasicTicker\"},{\"attributes\":{\"source\":{\"id\":\"1111\"}},\"id\":\"1129\",\"type\":\"CDSView\"},{\"attributes\":{\"line_alpha\":0.5,\"line_color\":\"#98df8a\",\"line_width\":2,\"x\":{\"field\":\"x\"},\"y\":{\"field\":\"y\"}},\"id\":\"1080\",\"type\":\"Line\"},{\"attributes\":{\"line_alpha\":0.1,\"line_color\":\"#98df8a\",\"line_width\":2,\"x\":{\"field\":\"x\"},\"y\":{\"field\":\"y\"}},\"id\":\"1081\",\"type\":\"Line\"},{\"attributes\":{},\"id\":\"1024\",\"type\":\"HelpTool\"},{\"attributes\":{\"bottom\":{\"field\":\"bottom_int\"},\"fill_color\":{\"value\":\"#D95F02\"},\"hatch_color\":{\"value\":\"#D95F02\"},\"line_color\":{\"value\":\"#D95F02\"},\"top\":{\"field\":\"Intensity\"},\"width\":{\"value\":0.3},\"x\":{\"field\":\"rightWidth\"}},\"id\":\"1119\",\"type\":\"VBar\"},{\"attributes\":{},\"id\":\"1019\",\"type\":\"PanTool\"},{\"attributes\":{\"coordinates\":null,\"data_source\":{\"id\":\"1071\"},\"glyph\":{\"id\":\"1073\"},\"group\":null,\"hover_glyph\":null,\"muted_glyph\":{\"id\":\"1075\"},\"nonselection_glyph\":{\"id\":\"1074\"},\"view\":{\"id\":\"1077\"}},\"id\":\"1076\",\"type\":\"GlyphRenderer\"},{\"attributes\":{\"overlay\":{\"id\":\"1025\"}},\"id\":\"1021\",\"type\":\"BoxZoomTool\"},{\"attributes\":{},\"id\":\"1022\",\"type\":\"SaveTool\"},{\"attributes\":{\"line_alpha\":0.2,\"line_color\":\"#98df8a\",\"line_width\":2,\"x\":{\"field\":\"x\"},\"y\":{\"field\":\"y\"}},\"id\":\"1082\",\"type\":\"Line\"},{\"attributes\":{},\"id\":\"1023\",\"type\":\"ResetTool\"},{\"attributes\":{},\"id\":\"1223\",\"type\":\"UnionRenderers\"},{\"attributes\":{\"label\":{\"value\":\"2274_Precursor_i0\"},\"renderers\":[{\"id\":\"1041\"}]},\"id\":\"1085\",\"type\":\"LegendItem\"},{\"attributes\":{\"data\":{\"precursor_mz\":[null,null,null,null,null,null,null,null,null,null,null,null,null,null,null,null,null,null,null,null,null,null,null,null,null,null,null,null,null,null,null,null,null,null,null,null,null,null,null,null,null,null,null,null,null,null,null,null,null,null,null,null,null,null,null,null,null,null,null,null,null,null,null,null,null,null,null,null,null,null,null,null,null,null,null,null,null,null,null,null,null,null,null,null,null,null,null,null,null,null,null,null,null,null,null,null,null,null,null,null,null,null,null,null,null,null,null,null,null,null,null,null,null,null,null,null,null,null,null,null,null,null,null,null,null,null,null,null,null,null,null,null,null,null,null,null,null,null,null,null,null,null,null,null,null,null,null,null,null,null,null,null,null,null,null,null,null,null,null,null,null,null,null,null,null,null,null,null,null,null,null,null,null,null,null,null,null,null,null,null,null,null,null,null,null,null,null,null,null,null,null,null,null],\"product_charge\":[null,null,null,null,null,null,null,null,null,null,null,null,null,null,null,null,null,null,null,null,null,null,null,null,null,null,null,null,null,null,null,null,null,null,null,null,null,null,null,null,null,null,null,null,null,null,null,null,null,null,null,null,null,null,null,null,null,null,null,null,null,null,null,null,null,null,null,null,null,null,null,null,null,null,null,null,null,null,null,null,null,null,null,null,null,null,null,null,null,null,null,null,null,null,null,null,null,null,null,null,null,null,null,null,null,null,null,null,null,null,null,null,null,null,null,null,null,null,null,null,null,null,null,null,null,null,null,null,null,null,null,null,null,null,null,null,null,null,null,null,null,null,null,null,null,null,null,null,null,null,null,null,null,null,null,null,null,null,null,null,null,null,null,null,null,null,null,null,null,null,null,null,null,null,null,null,null,null,null,null,null,null,null,null,null,null,null,null,null,null,null,null,null],\"product_mz\":[null,null,null,null,null,null,null,null,null,null,null,null,null,null,null,null,null,null,null,null,null,null,null,null,null,null,null,null,null,null,null,null,null,null,null,null,null,null,null,null,null,null,null,null,null,null,null,null,null,null,null,null,null,null,null,null,null,null,null,null,null,null,null,null,null,null,null,null,null,null,null,null,null,null,null,null,null,null,null,null,null,null,null,null,null,null,null,null,null,null,null,null,null,null,null,null,null,null,null,null,null,null,null,null,null,null,null,null,null,null,null,null,null,null,null,null,null,null,null,null,null,null,null,null,null,null,null,null,null,null,null,null,null,null,null,null,null,null,null,null,null,null,null,null,null,null,null,null,null,null,null,null,null,null,null,null,null,null,null,null,null,null,null,null,null,null,null,null,null,null,null,null,null,null,null,null,null,null,null,null,null,null,null,null,null,null,null,null,null,null,null,null,null],\"x\":{\"__ndarray__\":\"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\",\"dtype\":\"float64\",\"order\":\"little\",\"shape\":[193]},\"y\":{\"__ndarray__\":\"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\",\"dtype\":\"float64\",\"order\":\"little\",\"shape\":[193]}},\"selected\":{\"id\":\"1228\"},\"selection_policy\":{\"id\":\"1227\"}},\"id\":\"1071\",\"type\":\"ColumnDataSource\"},{\"attributes\":{},\"id\":\"1003\",\"type\":\"DataRange1d\"},{\"attributes\":{},\"id\":\"1224\",\"type\":\"Selection\"},{\"attributes\":{\"bottom_units\":\"screen\",\"coordinates\":null,\"fill_alpha\":0.5,\"fill_color\":\"lightgrey\",\"group\":null,\"left_units\":\"screen\",\"level\":\"overlay\",\"line_alpha\":1.0,\"line_color\":\"black\",\"line_dash\":[4,4],\"line_width\":2,\"right_units\":\"screen\",\"syncable\":false,\"top_units\":\"screen\"},\"id\":\"1025\",\"type\":\"BoxAnnotation\"},{\"attributes\":{\"click_policy\":\"mute\",\"coordinates\":null,\"group\":null,\"items\":[{\"id\":\"1085\"},{\"id\":\"1086\"},{\"id\":\"1087\"},{\"id\":\"1088\"},{\"id\":\"1089\"},{\"id\":\"1090\"},{\"id\":\"1091\"}],\"label_text_font_size\":\"10pt\",\"location\":\"top_left\",\"title\":\"Transition\"},\"id\":\"1035\",\"type\":\"Legend\"},{\"attributes\":{\"line_alpha\":0.5,\"line_color\":\"#2ca02c\",\"line_width\":2,\"x\":{\"field\":\"x\"},\"y\":{\"field\":\"y\"}},\"id\":\"1073\",\"type\":\"Line\"},{\"attributes\":{\"line_alpha\":0.2,\"line_color\":\"#ffbb78\",\"line_width\":2,\"x\":{\"field\":\"x\"},\"y\":{\"field\":\"y\"}},\"id\":\"1068\",\"type\":\"Line\"},{\"attributes\":{\"line_alpha\":0.1,\"line_color\":\"#2ca02c\",\"line_width\":2,\"x\":{\"field\":\"x\"},\"y\":{\"field\":\"y\"}},\"id\":\"1074\",\"type\":\"Line\"},{\"attributes\":{\"source\":{\"id\":\"1064\"}},\"id\":\"1070\",\"type\":\"CDSView\"},{\"attributes\":{\"data\":{\"precursor_mz\":[null,null,null,null,null,null,null,null,null,null,null,null,null,null,null,null,null,null,null,null,null,null,null,null,null,null,null,null,null,null,null,null,null,null,null,null,null,null,null,null,null,null,null,null,null,null,null,null,null,null,null,null,null,null,null,null,null,null,null,null,null,null,null,null,null,null,null,null,null,null,null,null,null,null,null,null,null,null,null,null,null,null,null,null,null,null,null,null,null,null,null,null,null,null,null,null,null,null,null,null,null,null,null,null,null,null,null,null,null,null,null,null,null,null,null,null,null,null,null,null,null,null,null,null,null,null,null,null,null,null,null,null,null,null,null,null,null,null,null,null,null,null,null,null,null,null,null,null,null,null,null,null,null,null,null,null,null,null,null,null,null,null,null,null,null,null,null,null,null,null,null,null,null,null,null,null,null,null,null,null,null,null,null,null,null,null,null,null,null,null,null,null,null],\"product_charge\":[null,null,null,null,null,null,null,null,null,null,null,null,null,null,null,null,null,null,null,null,null,null,null,null,null,null,null,null,null,null,null,null,null,null,null,null,null,null,null,null,null,null,null,null,null,null,null,null,null,null,null,null,null,null,null,null,null,null,null,null,null,null,null,null,null,null,null,null,null,null,null,null,null,null,null,null,null,null,null,null,null,null,null,null,null,null,null,null,null,null,null,null,null,null,null,null,null,null,null,null,null,null,null,null,null,null,null,null,null,null,null,null,null,null,null,null,null,null,null,null,null,null,null,null,null,null,null,null,null,null,null,null,null,null,null,null,null,null,null,null,null,null,null,null,null,null,null,null,null,null,null,null,null,null,null,null,null,null,null,null,null,null,null,null,null,null,null,null,null,null,null,null,null,null,null,null,null,null,null,null,null,null,null,null,null,null,null,null,null,null,null,null,null],\"product_mz\":[null,null,null,null,null,null,null,null,null,null,null,null,null,null,null,null,null,null,null,null,null,null,null,null,null,null,null,null,null,null,null,null,null,null,null,null,null,null,null,null,null,null,null,null,null,null,null,null,null,null,null,null,null,null,null,null,null,null,null,null,null,null,null,null,null,null,null,null,null,null,null,null,null,null,null,null,null,null,null,null,null,null,null,null,null,null,null,null,null,null,null,null,null,null,null,null,null,null,null,null,null,null,null,null,null,null,null,null,null,null,null,null,null,null,null,null,null,null,null,null,null,null,null,null,null,null,null,null,null,null,null,null,null,null,null,null,null,null,null,null,null,null,null,null,null,null,null,null,null,null,null,null,null,null,null,null,null,null,null,null,null,null,null,null,null,null,null,null,null,null,null,null,null,null,null,null,null,null,null,null,null,null,null,null,null,null,null,null,null,null,null,null,null],\"x\":{\"__ndarray__\":\"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\",\"dtype\":\"float64\",\"order\":\"little\",\"shape\":[193]},\"y\":{\"__ndarray__\":\"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\",\"dtype\":\"float64\",\"order\":\"little\",\"shape\":[193]}},\"selected\":{\"id\":\"1218\"},\"selection_policy\":{\"id\":\"1217\"}},\"id\":\"1036\",\"type\":\"ColumnDataSource\"},{\"attributes\":{},\"id\":\"1241\",\"type\":\"UnionRenderers\"},{\"attributes\":{\"line_alpha\":0.5,\"line_dash\":[6],\"line_width\":2,\"x\":{\"field\":\"x\"},\"y\":{\"field\":\"y\"}},\"id\":\"1038\",\"type\":\"Line\"},{\"attributes\":{},\"id\":\"1242\",\"type\":\"Selection\"},{\"attributes\":{\"line_alpha\":0.5,\"line_color\":\"#1f77b4\",\"line_width\":2,\"x\":{\"field\":\"x\"},\"y\":{\"field\":\"y\"}},\"id\":\"1045\",\"type\":\"Line\"},{\"attributes\":{\"coordinates\":null,\"data_source\":{\"id\":\"1036\"},\"glyph\":{\"id\":\"1038\"},\"group\":null,\"hover_glyph\":null,\"muted_glyph\":{\"id\":\"1040\"},\"nonselection_glyph\":{\"id\":\"1039\"},\"view\":{\"id\":\"1042\"}},\"id\":\"1041\",\"type\":\"GlyphRenderer\"},{\"attributes\":{\"line_alpha\":0.2,\"line_dash\":[6],\"line_width\":2,\"x\":{\"field\":\"x\"},\"y\":{\"field\":\"y\"}},\"id\":\"1040\",\"type\":\"Line\"},{\"attributes\":{\"coordinates\":null,\"data_source\":{\"id\":\"1043\"},\"glyph\":{\"id\":\"1045\"},\"group\":null,\"hover_glyph\":null,\"muted_glyph\":{\"id\":\"1047\"},\"nonselection_glyph\":{\"id\":\"1046\"},\"view\":{\"id\":\"1049\"}},\"id\":\"1048\",\"type\":\"GlyphRenderer\"},{\"attributes\":{\"source\":{\"id\":\"1078\"}},\"id\":\"1084\",\"type\":\"CDSView\"},{\"attributes\":{\"bottom\":{\"field\":\"bottom_int\"},\"fill_alpha\":{\"value\":0.1},\"fill_color\":{\"value\":\"#1B9E77\"},\"hatch_alpha\":{\"value\":0.1},\"hatch_color\":{\"value\":\"#1B9E77\"},\"line_alpha\":{\"value\":0.1},\"line_color\":{\"value\":\"#1B9E77\"},\"top\":{\"field\":\"Intensity\"},\"width\":{\"value\":0.3},\"x\":{\"field\":\"rightWidth\"}},\"id\":\"1101\",\"type\":\"VBar\"},{\"attributes\":{},\"id\":\"1235\",\"type\":\"UnionRenderers\"},{\"attributes\":{\"label\":{\"value\":\"y4^1\"},\"renderers\":[{\"id\":\"1048\"}]},\"id\":\"1086\",\"type\":\"LegendItem\"},{\"attributes\":{},\"id\":\"1236\",\"type\":\"Selection\"},{\"attributes\":{\"label\":{\"value\":\"y1^1\"},\"renderers\":[{\"id\":\"1055\"}]},\"id\":\"1087\",\"type\":\"LegendItem\"},{\"attributes\":{},\"id\":\"1005\",\"type\":\"DataRange1d\"},{\"attributes\":{\"label\":{\"value\":\"y3^1\"},\"renderers\":[{\"id\":\"1062\"}]},\"id\":\"1088\",\"type\":\"LegendItem\"},{\"attributes\":{\"label\":{\"value\":\"y5^1\"},\"renderers\":[{\"id\":\"1069\"}]},\"id\":\"1089\",\"type\":\"LegendItem\"},{\"attributes\":{\"label\":{\"value\":\"y2^1\"},\"renderers\":[{\"id\":\"1076\"}]},\"id\":\"1090\",\"type\":\"LegendItem\"},{\"attributes\":{\"label\":{\"value\":\"b4^1\"},\"renderers\":[{\"id\":\"1083\"}]},\"id\":\"1091\",\"type\":\"LegendItem\"},{\"attributes\":{\"bottom\":{\"field\":\"bottom_int\"},\"fill_color\":{\"value\":\"#1B9E77\"},\"hatch_color\":{\"value\":\"#1B9E77\"},\"line_color\":{\"value\":\"#1B9E77\"},\"top\":{\"field\":\"Intensity\"},\"width\":{\"value\":0.3},\"x\":{\"field\":\"leftWidth\"}},\"id\":\"1094\",\"type\":\"VBar\"},{\"attributes\":{\"bottom\":{\"field\":\"bottom_int\"},\"fill_alpha\":{\"value\":0.1},\"fill_color\":{\"value\":\"#1B9E77\"},\"hatch_alpha\":{\"value\":0.1},\"hatch_color\":{\"value\":\"#1B9E77\"},\"line_alpha\":{\"value\":0.1},\"line_color\":{\"value\":\"#1B9E77\"},\"top\":{\"field\":\"Intensity\"},\"width\":{\"value\":0.3},\"x\":{\"field\":\"leftWidth\"}},\"id\":\"1095\",\"type\":\"VBar\"},{\"attributes\":{\"coordinates\":null,\"data_source\":{\"id\":\"1092\"},\"glyph\":{\"id\":\"1100\"},\"group\":null,\"hover_glyph\":null,\"muted_glyph\":{\"id\":\"1102\"},\"nonselection_glyph\":{\"id\":\"1101\"},\"view\":{\"id\":\"1104\"}},\"id\":\"1103\",\"type\":\"GlyphRenderer\"},{\"attributes\":{\"coordinates\":null,\"data_source\":{\"id\":\"1130\"},\"glyph\":{\"id\":\"1132\"},\"group\":null,\"hover_glyph\":null,\"muted_glyph\":{\"id\":\"1134\"},\"nonselection_glyph\":{\"id\":\"1133\"},\"view\":{\"id\":\"1136\"}},\"id\":\"1135\",\"type\":\"GlyphRenderer\"},{\"attributes\":{\"coordinates\":null,\"data_source\":{\"id\":\"1092\"},\"glyph\":{\"id\":\"1094\"},\"group\":null,\"hover_glyph\":null,\"muted_glyph\":{\"id\":\"1096\"},\"nonselection_glyph\":{\"id\":\"1095\"},\"view\":{\"id\":\"1098\"}},\"id\":\"1097\",\"type\":\"GlyphRenderer\"},{\"attributes\":{\"coordinates\":null,\"data_source\":{\"id\":\"1130\"},\"glyph\":{\"id\":\"1138\"},\"group\":null,\"hover_glyph\":null,\"muted_glyph\":{\"id\":\"1140\"},\"nonselection_glyph\":{\"id\":\"1139\"},\"view\":{\"id\":\"1142\"}},\"id\":\"1141\",\"type\":\"GlyphRenderer\"},{\"attributes\":{\"bottom\":{\"field\":\"bottom_int\"},\"fill_alpha\":{\"value\":0.2},\"fill_color\":{\"value\":\"#1B9E77\"},\"hatch_alpha\":{\"value\":0.2},\"hatch_color\":{\"value\":\"#1B9E77\"},\"line_alpha\":{\"value\":0.2},\"line_color\":{\"value\":\"#1B9E77\"},\"top\":{\"field\":\"Intensity\"},\"width\":{\"value\":0.3},\"x\":{\"field\":\"leftWidth\"}},\"id\":\"1096\",\"type\":\"VBar\"},{\"attributes\":{\"source\":{\"id\":\"1092\"}},\"id\":\"1098\",\"type\":\"CDSView\"},{\"attributes\":{\"bottom\":{\"field\":\"bottom_int\"},\"fill_color\":{\"value\":\"#1B9E77\"},\"hatch_color\":{\"value\":\"#1B9E77\"},\"line_color\":{\"value\":\"#1B9E77\"},\"top\":{\"field\":\"Intensity\"},\"width\":{\"value\":0.3},\"x\":{\"field\":\"rightWidth\"}},\"id\":\"1100\",\"type\":\"VBar\"},{\"attributes\":{\"fill_alpha\":{\"value\":0.1},\"fill_color\":{\"value\":\"#1f77b4\"},\"hatch_alpha\":{\"value\":0.1},\"line_alpha\":{\"value\":0.1},\"line_color\":{\"value\":\"#1f77b4\"},\"x\":{\"field\":\"leftWidth\"},\"y\":{\"field\":\"Intensity\"}},\"id\":\"1107\",\"type\":\"Circle\"},{\"attributes\":{\"bottom\":{\"field\":\"bottom_int\"},\"fill_alpha\":{\"value\":0.2},\"fill_color\":{\"value\":\"#1B9E77\"},\"hatch_alpha\":{\"value\":0.2},\"hatch_color\":{\"value\":\"#1B9E77\"},\"line_alpha\":{\"value\":0.2},\"line_color\":{\"value\":\"#1B9E77\"},\"top\":{\"field\":\"Intensity\"},\"width\":{\"value\":0.3},\"x\":{\"field\":\"rightWidth\"}},\"id\":\"1102\",\"type\":\"VBar\"},{\"attributes\":{\"source\":{\"id\":\"1092\"}},\"id\":\"1104\",\"type\":\"CDSView\"},{\"attributes\":{\"fill_alpha\":{\"value\":0},\"fill_color\":{\"value\":\"#1f77b4\"},\"hatch_alpha\":{\"value\":0},\"line_alpha\":{\"value\":0},\"line_color\":{\"value\":\"#1f77b4\"},\"x\":{\"field\":\"leftWidth\"},\"y\":{\"field\":\"Intensity\"}},\"id\":\"1106\",\"type\":\"Circle\"},{\"attributes\":{\"data\":{\"Intensity\":[78247.75276112532],\"bottom_int\":[0],\"leftWidth\":[818.0999755859375],\"ms2_mscore\":[null],\"rightWidth\":[843.9000244140625]},\"selected\":{\"id\":\"1234\"},\"selection_policy\":{\"id\":\"1233\"}},\"id\":\"1111\",\"type\":\"ColumnDataSource\"},{\"attributes\":{\"coordinates\":null,\"data_source\":{\"id\":\"1092\"},\"glyph\":{\"id\":\"1106\"},\"group\":null,\"hover_glyph\":null,\"muted_glyph\":{\"id\":\"1108\"},\"name\":\"leftWidth_apex_point\",\"nonselection_glyph\":{\"id\":\"1107\"},\"view\":{\"id\":\"1110\"}},\"id\":\"1109\",\"type\":\"GlyphRenderer\"},{\"attributes\":{\"data\":{\"Intensity\":[64678.45858579843],\"bottom_int\":[0],\"leftWidth\":[1177.9000244140625],\"ms2_mscore\":[null],\"rightWidth\":[1207.0]},\"selected\":{\"id\":\"1236\"},\"selection_policy\":{\"id\":\"1235\"}},\"id\":\"1130\",\"type\":\"ColumnDataSource\"},{\"attributes\":{\"fill_alpha\":{\"value\":0.2},\"fill_color\":{\"value\":\"#1f77b4\"},\"hatch_alpha\":{\"value\":0.2},\"line_alpha\":{\"value\":0.2},\"line_color\":{\"value\":\"#1f77b4\"},\"x\":{\"field\":\"leftWidth\"},\"y\":{\"field\":\"Intensity\"}},\"id\":\"1108\",\"type\":\"Circle\"},{\"attributes\":{\"bottom\":{\"field\":\"bottom_int\"},\"fill_alpha\":{\"value\":0.1},\"fill_color\":{\"value\":\"#D95F02\"},\"hatch_alpha\":{\"value\":0.1},\"hatch_color\":{\"value\":\"#D95F02\"},\"line_alpha\":{\"value\":0.1},\"line_color\":{\"value\":\"#D95F02\"},\"top\":{\"field\":\"Intensity\"},\"width\":{\"value\":0.3},\"x\":{\"field\":\"leftWidth\"}},\"id\":\"1114\",\"type\":\"VBar\"},{\"attributes\":{\"source\":{\"id\":\"1092\"}},\"id\":\"1110\",\"type\":\"CDSView\"},{\"attributes\":{\"bottom\":{\"field\":\"bottom_int\"},\"fill_color\":{\"value\":\"#D95F02\"},\"hatch_color\":{\"value\":\"#D95F02\"},\"line_color\":{\"value\":\"#D95F02\"},\"top\":{\"field\":\"Intensity\"},\"width\":{\"value\":0.3},\"x\":{\"field\":\"leftWidth\"}},\"id\":\"1113\",\"type\":\"VBar\"},{\"attributes\":{},\"id\":\"1009\",\"type\":\"LinearScale\"},{\"attributes\":{\"bottom\":{\"field\":\"bottom_int\"},\"fill_alpha\":{\"value\":0.1},\"fill_color\":{\"value\":\"#7570B3\"},\"hatch_alpha\":{\"value\":0.1},\"hatch_color\":{\"value\":\"#7570B3\"},\"line_alpha\":{\"value\":0.1},\"line_color\":{\"value\":\"#7570B3\"},\"top\":{\"field\":\"Intensity\"},\"width\":{\"value\":0.3},\"x\":{\"field\":\"rightWidth\"}},\"id\":\"1139\",\"type\":\"VBar\"},{\"attributes\":{\"bottom\":{\"field\":\"bottom_int\"},\"fill_alpha\":{\"value\":0.2},\"fill_color\":{\"value\":\"#7570B3\"},\"hatch_alpha\":{\"value\":0.2},\"hatch_color\":{\"value\":\"#7570B3\"},\"line_alpha\":{\"value\":0.2},\"line_color\":{\"value\":\"#7570B3\"},\"top\":{\"field\":\"Intensity\"},\"width\":{\"value\":0.3},\"x\":{\"field\":\"leftWidth\"}},\"id\":\"1134\",\"type\":\"VBar\"},{\"attributes\":{\"coordinates\":null,\"data_source\":{\"id\":\"1111\"},\"glyph\":{\"id\":\"1113\"},\"group\":null,\"hover_glyph\":null,\"muted_glyph\":{\"id\":\"1115\"},\"nonselection_glyph\":{\"id\":\"1114\"},\"view\":{\"id\":\"1117\"}},\"id\":\"1116\",\"type\":\"GlyphRenderer\"},{\"attributes\":{\"bottom\":{\"field\":\"bottom_int\"},\"fill_alpha\":{\"value\":0.2},\"fill_color\":{\"value\":\"#D95F02\"},\"hatch_alpha\":{\"value\":0.2},\"hatch_color\":{\"value\":\"#D95F02\"},\"line_alpha\":{\"value\":0.2},\"line_color\":{\"value\":\"#D95F02\"},\"top\":{\"field\":\"Intensity\"},\"width\":{\"value\":0.3},\"x\":{\"field\":\"leftWidth\"}},\"id\":\"1115\",\"type\":\"VBar\"},{\"attributes\":{\"source\":{\"id\":\"1111\"}},\"id\":\"1117\",\"type\":\"CDSView\"},{\"attributes\":{},\"id\":\"1237\",\"type\":\"UnionRenderers\"},{\"attributes\":{\"bottom\":{\"field\":\"bottom_int\"},\"fill_alpha\":{\"value\":0.1},\"fill_color\":{\"value\":\"#7570B3\"},\"hatch_alpha\":{\"value\":0.1},\"hatch_color\":{\"value\":\"#7570B3\"},\"line_alpha\":{\"value\":0.1},\"line_color\":{\"value\":\"#7570B3\"},\"top\":{\"field\":\"Intensity\"},\"width\":{\"value\":0.3},\"x\":{\"field\":\"leftWidth\"}},\"id\":\"1133\",\"type\":\"VBar\"},{\"attributes\":{\"bottom\":{\"field\":\"bottom_int\"},\"fill_color\":{\"value\":\"#7570B3\"},\"hatch_color\":{\"value\":\"#7570B3\"},\"line_color\":{\"value\":\"#7570B3\"},\"top\":{\"field\":\"Intensity\"},\"width\":{\"value\":0.3},\"x\":{\"field\":\"leftWidth\"}},\"id\":\"1132\",\"type\":\"VBar\"},{\"attributes\":{\"source\":{\"id\":\"1130\"}},\"id\":\"1136\",\"type\":\"CDSView\"},{\"attributes\":{},\"id\":\"1238\",\"type\":\"Selection\"},{\"attributes\":{\"bottom\":{\"field\":\"bottom_int\"},\"fill_color\":{\"value\":\"#7570B3\"},\"hatch_color\":{\"value\":\"#7570B3\"},\"line_color\":{\"value\":\"#7570B3\"},\"top\":{\"field\":\"Intensity\"},\"width\":{\"value\":0.3},\"x\":{\"field\":\"rightWidth\"}},\"id\":\"1138\",\"type\":\"VBar\"},{\"attributes\":{\"fill_alpha\":{\"value\":0.1},\"fill_color\":{\"value\":\"#1f77b4\"},\"hatch_alpha\":{\"value\":0.1},\"line_alpha\":{\"value\":0.1},\"line_color\":{\"value\":\"#1f77b4\"},\"x\":{\"field\":\"leftWidth\"},\"y\":{\"field\":\"Intensity\"}},\"id\":\"1145\",\"type\":\"Circle\"},{\"attributes\":{\"bottom\":{\"field\":\"bottom_int\"},\"fill_alpha\":{\"value\":0.2},\"fill_color\":{\"value\":\"#7570B3\"},\"hatch_alpha\":{\"value\":0.2},\"hatch_color\":{\"value\":\"#7570B3\"},\"line_alpha\":{\"value\":0.2},\"line_color\":{\"value\":\"#7570B3\"},\"top\":{\"field\":\"Intensity\"},\"width\":{\"value\":0.3},\"x\":{\"field\":\"rightWidth\"}},\"id\":\"1140\",\"type\":\"VBar\"},{\"attributes\":{\"source\":{\"id\":\"1130\"}},\"id\":\"1142\",\"type\":\"CDSView\"},{\"attributes\":{\"fill_alpha\":{\"value\":0},\"fill_color\":{\"value\":\"#1f77b4\"},\"hatch_alpha\":{\"value\":0},\"line_alpha\":{\"value\":0},\"line_color\":{\"value\":\"#1f77b4\"},\"x\":{\"field\":\"leftWidth\"},\"y\":{\"field\":\"Intensity\"}},\"id\":\"1144\",\"type\":\"Circle\"},{\"attributes\":{\"data\":{\"Intensity\":[3911.792376844459],\"bottom_int\":[0],\"leftWidth\":[1051.0999755859375],\"ms2_mscore\":[null],\"rightWidth\":[1087.5]},\"selected\":{\"id\":\"1238\"},\"selection_policy\":{\"id\":\"1237\"}},\"id\":\"1149\",\"type\":\"ColumnDataSource\"},{\"attributes\":{\"coordinates\":null,\"data_source\":{\"id\":\"1130\"},\"glyph\":{\"id\":\"1144\"},\"group\":null,\"hover_glyph\":null,\"muted_glyph\":{\"id\":\"1146\"},\"name\":\"leftWidth_apex_point\",\"nonselection_glyph\":{\"id\":\"1145\"},\"view\":{\"id\":\"1148\"}},\"id\":\"1147\",\"type\":\"GlyphRenderer\"},{\"attributes\":{\"bottom\":{\"field\":\"bottom_int\"},\"fill_alpha\":{\"value\":0.1},\"fill_color\":{\"value\":\"#E7298A\"},\"hatch_alpha\":{\"value\":0.1},\"hatch_color\":{\"value\":\"#E7298A\"},\"line_alpha\":{\"value\":0.1},\"line_color\":{\"value\":\"#E7298A\"},\"top\":{\"field\":\"Intensity\"},\"width\":{\"value\":0.3},\"x\":{\"field\":\"rightWidth\"}},\"id\":\"1158\",\"type\":\"VBar\"},{\"attributes\":{},\"id\":\"1212\",\"type\":\"BasicTickFormatter\"},{\"attributes\":{\"fill_alpha\":{\"value\":0.2},\"fill_color\":{\"value\":\"#1f77b4\"},\"hatch_alpha\":{\"value\":0.2},\"line_alpha\":{\"value\":0.2},\"line_color\":{\"value\":\"#1f77b4\"},\"x\":{\"field\":\"leftWidth\"},\"y\":{\"field\":\"Intensity\"}},\"id\":\"1146\",\"type\":\"Circle\"},{\"attributes\":{\"bottom\":{\"field\":\"bottom_int\"},\"fill_alpha\":{\"value\":0.1},\"fill_color\":{\"value\":\"#E7298A\"},\"hatch_alpha\":{\"value\":0.1},\"hatch_color\":{\"value\":\"#E7298A\"},\"line_alpha\":{\"value\":0.1},\"line_color\":{\"value\":\"#E7298A\"},\"top\":{\"field\":\"Intensity\"},\"width\":{\"value\":0.3},\"x\":{\"field\":\"leftWidth\"}},\"id\":\"1152\",\"type\":\"VBar\"},{\"attributes\":{\"source\":{\"id\":\"1130\"}},\"id\":\"1148\",\"type\":\"CDSView\"},{\"attributes\":{},\"id\":\"1213\",\"type\":\"AllLabels\"},{\"attributes\":{\"bottom\":{\"field\":\"bottom_int\"},\"fill_color\":{\"value\":\"#E7298A\"},\"hatch_color\":{\"value\":\"#E7298A\"},\"line_color\":{\"value\":\"#E7298A\"},\"top\":{\"field\":\"Intensity\"},\"width\":{\"value\":0.3},\"x\":{\"field\":\"leftWidth\"}},\"id\":\"1151\",\"type\":\"VBar\"},{\"attributes\":{\"fill_alpha\":{\"value\":0},\"fill_color\":{\"value\":\"#1f77b4\"},\"hatch_alpha\":{\"value\":0},\"line_alpha\":{\"value\":0},\"line_color\":{\"value\":\"#1f77b4\"},\"x\":{\"field\":\"leftWidth\"},\"y\":{\"field\":\"Intensity\"}},\"id\":\"1163\",\"type\":\"Circle\"},{\"attributes\":{\"coordinates\":null,\"data_source\":{\"id\":\"1149\"},\"glyph\":{\"id\":\"1151\"},\"group\":null,\"hover_glyph\":null,\"muted_glyph\":{\"id\":\"1153\"},\"nonselection_glyph\":{\"id\":\"1152\"},\"view\":{\"id\":\"1155\"}},\"id\":\"1154\",\"type\":\"GlyphRenderer\"},{\"attributes\":{},\"id\":\"1007\",\"type\":\"LinearScale\"},{\"attributes\":{},\"id\":\"1215\",\"type\":\"BasicTickFormatter\"},{\"attributes\":{\"bottom\":{\"field\":\"bottom_int\"},\"fill_alpha\":{\"value\":0.2},\"fill_color\":{\"value\":\"#E7298A\"},\"hatch_alpha\":{\"value\":0.2},\"hatch_color\":{\"value\":\"#E7298A\"},\"line_alpha\":{\"value\":0.2},\"line_color\":{\"value\":\"#E7298A\"},\"top\":{\"field\":\"Intensity\"},\"width\":{\"value\":0.3},\"x\":{\"field\":\"leftWidth\"}},\"id\":\"1153\",\"type\":\"VBar\"},{\"attributes\":{\"source\":{\"id\":\"1149\"}},\"id\":\"1155\",\"type\":\"CDSView\"},{\"attributes\":{\"bottom\":{\"field\":\"bottom_int\"},\"fill_color\":{\"value\":\"#E7298A\"},\"hatch_color\":{\"value\":\"#E7298A\"},\"line_color\":{\"value\":\"#E7298A\"},\"top\":{\"field\":\"Intensity\"},\"width\":{\"value\":0.3},\"x\":{\"field\":\"rightWidth\"}},\"id\":\"1157\",\"type\":\"VBar\"},{\"attributes\":{},\"id\":\"1216\",\"type\":\"AllLabels\"},{\"attributes\":{\"source\":{\"id\":\"1149\"}},\"id\":\"1161\",\"type\":\"CDSView\"},{\"attributes\":{\"bottom\":{\"field\":\"bottom_int\"},\"fill_alpha\":{\"value\":0.2},\"fill_color\":{\"value\":\"#E7298A\"},\"hatch_alpha\":{\"value\":0.2},\"hatch_color\":{\"value\":\"#E7298A\"},\"line_alpha\":{\"value\":0.2},\"line_color\":{\"value\":\"#E7298A\"},\"top\":{\"field\":\"Intensity\"},\"width\":{\"value\":0.3},\"x\":{\"field\":\"rightWidth\"}},\"id\":\"1159\",\"type\":\"VBar\"},{\"attributes\":{\"coordinates\":null,\"data_source\":{\"id\":\"1149\"},\"glyph\":{\"id\":\"1157\"},\"group\":null,\"hover_glyph\":null,\"muted_glyph\":{\"id\":\"1159\"},\"nonselection_glyph\":{\"id\":\"1158\"},\"view\":{\"id\":\"1161\"}},\"id\":\"1160\",\"type\":\"GlyphRenderer\"}],\"root_ids\":[\"1002\"]},\"title\":\"Bokeh Application\",\"version\":\"2.4.3\"}};\n",
       "  const render_items = [{\"docid\":\"10f475f6-affb-44dc-ba1c-8ca4979f00a8\",\"root_ids\":[\"1002\"],\"roots\":{\"1002\":\"52459857-656f-4d5d-85b2-23531c910665\"}}];\n",
       "  root.Bokeh.embed.embed_items_notebook(docs_json, render_items);\n",
       "  }\n",
       "  if (root.Bokeh !== undefined) {\n",
       "    embed_document(root);\n",
       "  } else {\n",
       "    let attempts = 0;\n",
       "    const timer = setInterval(function(root) {\n",
       "      if (root.Bokeh !== undefined) {\n",
       "        clearInterval(timer);\n",
       "        embed_document(root);\n",
       "      } else {\n",
       "        attempts++;\n",
       "        if (attempts > 100) {\n",
       "          clearInterval(timer);\n",
       "          console.log(\"Bokeh: ERROR: Unable to run BokehJS code because BokehJS library is missing\");\n",
       "        }\n",
       "      }\n",
       "    }, 10, root)\n",
       "  }\n",
       "})(window);"
      ],
      "application/vnd.bokehjs_exec.v0+json": ""
     },
     "metadata": {
      "application/vnd.bokehjs_exec.v0+json": {
       "id": "1002"
      }
     },
     "output_type": "display_data"
    }
   ],
   "source": [
    "transitionGroup.plot(transitionGroupFeatures=features)"
   ]
  },
  {
   "cell_type": "markdown",
   "id": "5d1278a6-ca0b-49d4-88c4-d1440dd77095",
   "metadata": {
    "editable": true,
    "slideshow": {
     "slide_type": ""
    },
    "tags": []
   },
   "source": [
    "## PyMRMPeakPicker"
   ]
  },
  {
   "cell_type": "raw",
   "id": "aff964eb-c312-4a76-a25d-e92c9b77488b",
   "metadata": {
    "editable": true,
    "raw_mimetype": "text/restructuredtext",
    "slideshow": {
     "slide_type": ""
    },
    "tags": []
   },
   "source": [
    "The :py:class:`~peakPickers.pyMRMTransitionGroupPicker` is a python reimplementation based on the pyopenms MRMPeakPicker above. Looking at the source code for this peak picker can give insights into how the `OpenSwath` peak picker is working in a python readable format. "
   ]
  },
  {
   "cell_type": "markdown",
   "id": "d8fb65e1-484c-4bd8-b3aa-0854021f43ac",
   "metadata": {
    "editable": true,
    "slideshow": {
     "slide_type": ""
    },
    "tags": []
   },
   "source": [
    "### 1. Initiate the Peak Picker"
   ]
  },
  {
   "cell_type": "markdown",
   "id": "5862532d-371d-4b08-b0fc-58eb9257883d",
   "metadata": {
    "editable": true,
    "slideshow": {
     "slide_type": ""
    },
    "tags": []
   },
   "source": [
    "This peak picker requires no arguments for initating the peak picking object"
   ]
  },
  {
   "cell_type": "code",
   "execution_count": 9,
   "id": "588c930a-3c12-46d7-b8cf-16ffc79cc969",
   "metadata": {
    "editable": true,
    "scrolled": true,
    "slideshow": {
     "slide_type": ""
    },
    "tags": []
   },
   "outputs": [],
   "source": [
    "from massdash.peakPickers.pyMRMTransitionGroupPicker import pyMRMTransitionGroupPicker\n",
    "picker = pyMRMTransitionGroupPicker()"
   ]
  },
  {
   "cell_type": "markdown",
   "id": "b8e22a9d-ab80-427a-88b1-6ffd753ba9dd",
   "metadata": {
    "editable": true,
    "slideshow": {
     "slide_type": ""
    },
    "tags": []
   },
   "source": [
    "### 2. Customize Parameters"
   ]
  },
  {
   "cell_type": "markdown",
   "id": "295ac108-006f-4df0-8cd5-ae7b0bda1f77",
   "metadata": {
    "editable": true,
    "slideshow": {
     "slide_type": ""
    },
    "tags": []
   },
   "source": [
    "For this peak picker no parameters can be customized"
   ]
  },
  {
   "cell_type": "markdown",
   "id": "638eb17b-af7c-4e91-9bfa-de5931b669d5",
   "metadata": {
    "editable": true,
    "raw_mimetype": "",
    "slideshow": {
     "slide_type": ""
    },
    "tags": []
   },
   "source": [
    "### 3. Pick Precursor"
   ]
  },
  {
   "cell_type": "code",
   "execution_count": 10,
   "id": "6d0757ab-5d09-411c-8c3d-b3fbc1331aa8",
   "metadata": {
    "editable": true,
    "scrolled": true,
    "slideshow": {
     "slide_type": ""
    },
    "tags": []
   },
   "outputs": [
    {
     "name": "stderr",
     "output_type": "stream",
     "text": [
      "/home/joshua/Development/massdash_alt/massdash/massdash/peakPickers/pyMRMTransitionGroupPicker.py:111: FutureWarning: ChainedAssignmentError: behaviour will change in pandas 3.0!\n",
      "You are setting values through chained assignment. Currently this works in certain cases, but when using Copy-on-Write (which will become the default behaviour in pandas 3.0) this will never work to update the original DataFrame or Series, because the intermediate object on which we are setting values will behave as a copy.\n",
      "A typical example is when you are setting values in a column of a DataFrame, like:\n",
      "\n",
      "df[\"col\"][row_indexer] = value\n",
      "\n",
      "Use `df.loc[row_indexer, \"col\"] = values` instead, to perform the assignment in a single step and ensure this keeps updating the original `df`.\n",
      "\n",
      "See the caveats in the documentation: https://pandas.pydata.org/pandas-docs/stable/user_guide/indexing.html#returning-a-view-versus-a-copy\n",
      "\n",
      "  newPeaks['areaIntensity'].iloc[-1] += peaksDf['areaIntensity'].iloc[idx]\n"
     ]
    },
    {
     "data": {
      "text/html": [
       "<div>\n",
       "<style scoped>\n",
       "    .dataframe tbody tr th:only-of-type {\n",
       "        vertical-align: middle;\n",
       "    }\n",
       "\n",
       "    .dataframe tbody tr th {\n",
       "        vertical-align: top;\n",
       "    }\n",
       "\n",
       "    .dataframe thead th {\n",
       "        text-align: right;\n",
       "    }\n",
       "</style>\n",
       "<table border=\"1\" class=\"dataframe\">\n",
       "  <thead>\n",
       "    <tr style=\"text-align: right;\">\n",
       "      <th></th>\n",
       "      <th>leftBoundary</th>\n",
       "      <th>rightBoundary</th>\n",
       "      <th>areaIntensity</th>\n",
       "      <th>qvalue</th>\n",
       "      <th>consensusApex</th>\n",
       "      <th>consensusApexIntensity</th>\n",
       "    </tr>\n",
       "  </thead>\n",
       "  <tbody>\n",
       "    <tr>\n",
       "      <th>0</th>\n",
       "      <td>843.5</td>\n",
       "      <td>901.700012</td>\n",
       "      <td>1537205.913208</td>\n",
       "      <td>None</td>\n",
       "      <td>None</td>\n",
       "      <td>235346.499471</td>\n",
       "    </tr>\n",
       "    <tr>\n",
       "      <th>1</th>\n",
       "      <td>818.099976</td>\n",
       "      <td>843.5</td>\n",
       "      <td>425795.080078</td>\n",
       "      <td>None</td>\n",
       "      <td>None</td>\n",
       "      <td>78247.752761</td>\n",
       "    </tr>\n",
       "    <tr>\n",
       "      <th>2</th>\n",
       "      <td>1189.199951</td>\n",
       "      <td>1203.800049</td>\n",
       "      <td>2428.022644</td>\n",
       "      <td>None</td>\n",
       "      <td>None</td>\n",
       "      <td>64678.458586</td>\n",
       "    </tr>\n",
       "    <tr>\n",
       "      <th>3</th>\n",
       "      <td>1167.400024</td>\n",
       "      <td>1189.199951</td>\n",
       "      <td>226734.0625</td>\n",
       "      <td>None</td>\n",
       "      <td>None</td>\n",
       "      <td>28407.271623</td>\n",
       "    </tr>\n",
       "    <tr>\n",
       "      <th>4</th>\n",
       "      <td>1131.099976</td>\n",
       "      <td>1156.5</td>\n",
       "      <td>2091.005585</td>\n",
       "      <td>None</td>\n",
       "      <td>None</td>\n",
       "      <td>10654.984463</td>\n",
       "    </tr>\n",
       "  </tbody>\n",
       "</table>\n",
       "</div>"
      ],
      "text/plain": [
       "  leftBoundary rightBoundary   areaIntensity qvalue consensusApex  \\\n",
       "0        843.5    901.700012  1537205.913208   None          None   \n",
       "1   818.099976         843.5   425795.080078   None          None   \n",
       "2  1189.199951   1203.800049     2428.022644   None          None   \n",
       "3  1167.400024   1189.199951     226734.0625   None          None   \n",
       "4  1131.099976        1156.5     2091.005585   None          None   \n",
       "\n",
       "  consensusApexIntensity  \n",
       "0          235346.499471  \n",
       "1           78247.752761  \n",
       "2           64678.458586  \n",
       "3           28407.271623  \n",
       "4           10654.984463  "
      ]
     },
     "execution_count": 10,
     "metadata": {},
     "output_type": "execute_result"
    }
   ],
   "source": [
    "features = picker.pick(transitionGroup)\n",
    "TransitionGroupFeature.toPandasDf(features)"
   ]
  },
  {
   "cell_type": "markdown",
   "id": "ac588e03-b15b-4bdf-886c-d3c08ac0d400",
   "metadata": {
    "editable": true,
    "slideshow": {
     "slide_type": ""
    },
    "tags": []
   },
   "source": [
    "Like above can inspect in pandas dataframe. We can see that the features are slightly different from above however the top two most intense features are the same. "
   ]
  },
  {
   "cell_type": "markdown",
   "id": "0c49931e-4d08-4f42-a546-f9099c0311f1",
   "metadata": {
    "editable": true,
    "slideshow": {
     "slide_type": ""
    },
    "tags": []
   },
   "source": [
    "#### 4. Visualization"
   ]
  },
  {
   "cell_type": "code",
   "execution_count": 11,
   "id": "5b796382-f4ff-4705-9750-6a3d8ba61f5c",
   "metadata": {
    "editable": true,
    "slideshow": {
     "slide_type": ""
    },
    "tags": []
   },
   "outputs": [
    {
     "data": {
      "text/html": [
       "<div class=\"bk-root\">\n",
       "        <a href=\"https://bokeh.org\" target=\"_blank\" class=\"bk-logo bk-logo-small bk-logo-notebook\"></a>\n",
       "        <span id=\"1606\">Loading BokehJS ...</span>\n",
       "    </div>\n"
      ]
     },
     "metadata": {},
     "output_type": "display_data"
    },
    {
     "data": {
      "application/javascript": [
       "(function(root) {\n",
       "  function now() {\n",
       "    return new Date();\n",
       "  }\n",
       "\n",
       "  const force = true;\n",
       "\n",
       "  if (typeof root._bokeh_onload_callbacks === \"undefined\" || force === true) {\n",
       "    root._bokeh_onload_callbacks = [];\n",
       "    root._bokeh_is_loading = undefined;\n",
       "  }\n",
       "\n",
       "const JS_MIME_TYPE = 'application/javascript';\n",
       "  const HTML_MIME_TYPE = 'text/html';\n",
       "  const EXEC_MIME_TYPE = 'application/vnd.bokehjs_exec.v0+json';\n",
       "  const CLASS_NAME = 'output_bokeh rendered_html';\n",
       "\n",
       "  /**\n",
       "   * Render data to the DOM node\n",
       "   */\n",
       "  function render(props, node) {\n",
       "    const script = document.createElement(\"script\");\n",
       "    node.appendChild(script);\n",
       "  }\n",
       "\n",
       "  /**\n",
       "   * Handle when an output is cleared or removed\n",
       "   */\n",
       "  function handleClearOutput(event, handle) {\n",
       "    const cell = handle.cell;\n",
       "\n",
       "    const id = cell.output_area._bokeh_element_id;\n",
       "    const server_id = cell.output_area._bokeh_server_id;\n",
       "    // Clean up Bokeh references\n",
       "    if (id != null && id in Bokeh.index) {\n",
       "      Bokeh.index[id].model.document.clear();\n",
       "      delete Bokeh.index[id];\n",
       "    }\n",
       "\n",
       "    if (server_id !== undefined) {\n",
       "      // Clean up Bokeh references\n",
       "      const cmd_clean = \"from bokeh.io.state import curstate; print(curstate().uuid_to_server['\" + server_id + \"'].get_sessions()[0].document.roots[0]._id)\";\n",
       "      cell.notebook.kernel.execute(cmd_clean, {\n",
       "        iopub: {\n",
       "          output: function(msg) {\n",
       "            const id = msg.content.text.trim();\n",
       "            if (id in Bokeh.index) {\n",
       "              Bokeh.index[id].model.document.clear();\n",
       "              delete Bokeh.index[id];\n",
       "            }\n",
       "          }\n",
       "        }\n",
       "      });\n",
       "      // Destroy server and session\n",
       "      const cmd_destroy = \"import bokeh.io.notebook as ion; ion.destroy_server('\" + server_id + \"')\";\n",
       "      cell.notebook.kernel.execute(cmd_destroy);\n",
       "    }\n",
       "  }\n",
       "\n",
       "  /**\n",
       "   * Handle when a new output is added\n",
       "   */\n",
       "  function handleAddOutput(event, handle) {\n",
       "    const output_area = handle.output_area;\n",
       "    const output = handle.output;\n",
       "\n",
       "    // limit handleAddOutput to display_data with EXEC_MIME_TYPE content only\n",
       "    if ((output.output_type != \"display_data\") || (!Object.prototype.hasOwnProperty.call(output.data, EXEC_MIME_TYPE))) {\n",
       "      return\n",
       "    }\n",
       "\n",
       "    const toinsert = output_area.element.find(\".\" + CLASS_NAME.split(' ')[0]);\n",
       "\n",
       "    if (output.metadata[EXEC_MIME_TYPE][\"id\"] !== undefined) {\n",
       "      toinsert[toinsert.length - 1].firstChild.textContent = output.data[JS_MIME_TYPE];\n",
       "      // store reference to embed id on output_area\n",
       "      output_area._bokeh_element_id = output.metadata[EXEC_MIME_TYPE][\"id\"];\n",
       "    }\n",
       "    if (output.metadata[EXEC_MIME_TYPE][\"server_id\"] !== undefined) {\n",
       "      const bk_div = document.createElement(\"div\");\n",
       "      bk_div.innerHTML = output.data[HTML_MIME_TYPE];\n",
       "      const script_attrs = bk_div.children[0].attributes;\n",
       "      for (let i = 0; i < script_attrs.length; i++) {\n",
       "        toinsert[toinsert.length - 1].firstChild.setAttribute(script_attrs[i].name, script_attrs[i].value);\n",
       "        toinsert[toinsert.length - 1].firstChild.textContent = bk_div.children[0].textContent\n",
       "      }\n",
       "      // store reference to server id on output_area\n",
       "      output_area._bokeh_server_id = output.metadata[EXEC_MIME_TYPE][\"server_id\"];\n",
       "    }\n",
       "  }\n",
       "\n",
       "  function register_renderer(events, OutputArea) {\n",
       "\n",
       "    function append_mime(data, metadata, element) {\n",
       "      // create a DOM node to render to\n",
       "      const toinsert = this.create_output_subarea(\n",
       "        metadata,\n",
       "        CLASS_NAME,\n",
       "        EXEC_MIME_TYPE\n",
       "      );\n",
       "      this.keyboard_manager.register_events(toinsert);\n",
       "      // Render to node\n",
       "      const props = {data: data, metadata: metadata[EXEC_MIME_TYPE]};\n",
       "      render(props, toinsert[toinsert.length - 1]);\n",
       "      element.append(toinsert);\n",
       "      return toinsert\n",
       "    }\n",
       "\n",
       "    /* Handle when an output is cleared or removed */\n",
       "    events.on('clear_output.CodeCell', handleClearOutput);\n",
       "    events.on('delete.Cell', handleClearOutput);\n",
       "\n",
       "    /* Handle when a new output is added */\n",
       "    events.on('output_added.OutputArea', handleAddOutput);\n",
       "\n",
       "    /**\n",
       "     * Register the mime type and append_mime function with output_area\n",
       "     */\n",
       "    OutputArea.prototype.register_mime_type(EXEC_MIME_TYPE, append_mime, {\n",
       "      /* Is output safe? */\n",
       "      safe: true,\n",
       "      /* Index of renderer in `output_area.display_order` */\n",
       "      index: 0\n",
       "    });\n",
       "  }\n",
       "\n",
       "  // register the mime type if in Jupyter Notebook environment and previously unregistered\n",
       "  if (root.Jupyter !== undefined) {\n",
       "    const events = require('base/js/events');\n",
       "    const OutputArea = require('notebook/js/outputarea').OutputArea;\n",
       "\n",
       "    if (OutputArea.prototype.mime_types().indexOf(EXEC_MIME_TYPE) == -1) {\n",
       "      register_renderer(events, OutputArea);\n",
       "    }\n",
       "  }\n",
       "  if (typeof (root._bokeh_timeout) === \"undefined\" || force === true) {\n",
       "    root._bokeh_timeout = Date.now() + 5000;\n",
       "    root._bokeh_failed_load = false;\n",
       "  }\n",
       "\n",
       "  const NB_LOAD_WARNING = {'data': {'text/html':\n",
       "     \"<div style='background-color: #fdd'>\\n\"+\n",
       "     \"<p>\\n\"+\n",
       "     \"BokehJS does not appear to have successfully loaded. If loading BokehJS from CDN, this \\n\"+\n",
       "     \"may be due to a slow or bad network connection. Possible fixes:\\n\"+\n",
       "     \"</p>\\n\"+\n",
       "     \"<ul>\\n\"+\n",
       "     \"<li>re-rerun `output_notebook()` to attempt to load from CDN again, or</li>\\n\"+\n",
       "     \"<li>use INLINE resources instead, as so:</li>\\n\"+\n",
       "     \"</ul>\\n\"+\n",
       "     \"<code>\\n\"+\n",
       "     \"from bokeh.resources import INLINE\\n\"+\n",
       "     \"output_notebook(resources=INLINE)\\n\"+\n",
       "     \"</code>\\n\"+\n",
       "     \"</div>\"}};\n",
       "\n",
       "  function display_loaded() {\n",
       "    const el = document.getElementById(\"1606\");\n",
       "    if (el != null) {\n",
       "      el.textContent = \"BokehJS is loading...\";\n",
       "    }\n",
       "    if (root.Bokeh !== undefined) {\n",
       "      if (el != null) {\n",
       "        el.textContent = \"BokehJS \" + root.Bokeh.version + \" successfully loaded.\";\n",
       "      }\n",
       "    } else if (Date.now() < root._bokeh_timeout) {\n",
       "      setTimeout(display_loaded, 100)\n",
       "    }\n",
       "  }\n",
       "\n",
       "  function run_callbacks() {\n",
       "    try {\n",
       "      root._bokeh_onload_callbacks.forEach(function(callback) {\n",
       "        if (callback != null)\n",
       "          callback();\n",
       "      });\n",
       "    } finally {\n",
       "      delete root._bokeh_onload_callbacks\n",
       "    }\n",
       "    console.debug(\"Bokeh: all callbacks have finished\");\n",
       "  }\n",
       "\n",
       "  function load_libs(css_urls, js_urls, callback) {\n",
       "    if (css_urls == null) css_urls = [];\n",
       "    if (js_urls == null) js_urls = [];\n",
       "\n",
       "    root._bokeh_onload_callbacks.push(callback);\n",
       "    if (root._bokeh_is_loading > 0) {\n",
       "      console.debug(\"Bokeh: BokehJS is being loaded, scheduling callback at\", now());\n",
       "      return null;\n",
       "    }\n",
       "    if (js_urls == null || js_urls.length === 0) {\n",
       "      run_callbacks();\n",
       "      return null;\n",
       "    }\n",
       "    console.debug(\"Bokeh: BokehJS not loaded, scheduling load and callback at\", now());\n",
       "    root._bokeh_is_loading = css_urls.length + js_urls.length;\n",
       "\n",
       "    function on_load() {\n",
       "      root._bokeh_is_loading--;\n",
       "      if (root._bokeh_is_loading === 0) {\n",
       "        console.debug(\"Bokeh: all BokehJS libraries/stylesheets loaded\");\n",
       "        run_callbacks()\n",
       "      }\n",
       "    }\n",
       "\n",
       "    function on_error(url) {\n",
       "      console.error(\"failed to load \" + url);\n",
       "    }\n",
       "\n",
       "    for (let i = 0; i < css_urls.length; i++) {\n",
       "      const url = css_urls[i];\n",
       "      const element = document.createElement(\"link\");\n",
       "      element.onload = on_load;\n",
       "      element.onerror = on_error.bind(null, url);\n",
       "      element.rel = \"stylesheet\";\n",
       "      element.type = \"text/css\";\n",
       "      element.href = url;\n",
       "      console.debug(\"Bokeh: injecting link tag for BokehJS stylesheet: \", url);\n",
       "      document.body.appendChild(element);\n",
       "    }\n",
       "\n",
       "    for (let i = 0; i < js_urls.length; i++) {\n",
       "      const url = js_urls[i];\n",
       "      const element = document.createElement('script');\n",
       "      element.onload = on_load;\n",
       "      element.onerror = on_error.bind(null, url);\n",
       "      element.async = false;\n",
       "      element.src = url;\n",
       "      console.debug(\"Bokeh: injecting script tag for BokehJS library: \", url);\n",
       "      document.head.appendChild(element);\n",
       "    }\n",
       "  };\n",
       "\n",
       "  function inject_raw_css(css) {\n",
       "    const element = document.createElement(\"style\");\n",
       "    element.appendChild(document.createTextNode(css));\n",
       "    document.body.appendChild(element);\n",
       "  }\n",
       "\n",
       "  const js_urls = [\"https://cdn.bokeh.org/bokeh/release/bokeh-2.4.3.min.js\", \"https://cdn.bokeh.org/bokeh/release/bokeh-gl-2.4.3.min.js\", \"https://cdn.bokeh.org/bokeh/release/bokeh-widgets-2.4.3.min.js\", \"https://cdn.bokeh.org/bokeh/release/bokeh-tables-2.4.3.min.js\", \"https://cdn.bokeh.org/bokeh/release/bokeh-mathjax-2.4.3.min.js\"];\n",
       "  const css_urls = [];\n",
       "\n",
       "  const inline_js = [    function(Bokeh) {\n",
       "      Bokeh.set_log_level(\"info\");\n",
       "    },\n",
       "function(Bokeh) {\n",
       "    }\n",
       "  ];\n",
       "\n",
       "  function run_inline_js() {\n",
       "    if (root.Bokeh !== undefined || force === true) {\n",
       "          for (let i = 0; i < inline_js.length; i++) {\n",
       "      inline_js[i].call(root, root.Bokeh);\n",
       "    }\n",
       "if (force === true) {\n",
       "        display_loaded();\n",
       "      }} else if (Date.now() < root._bokeh_timeout) {\n",
       "      setTimeout(run_inline_js, 100);\n",
       "    } else if (!root._bokeh_failed_load) {\n",
       "      console.log(\"Bokeh: BokehJS failed to load within specified timeout.\");\n",
       "      root._bokeh_failed_load = true;\n",
       "    } else if (force !== true) {\n",
       "      const cell = $(document.getElementById(\"1606\")).parents('.cell').data().cell;\n",
       "      cell.output_area.append_execute_result(NB_LOAD_WARNING)\n",
       "    }\n",
       "  }\n",
       "\n",
       "  if (root._bokeh_is_loading === 0) {\n",
       "    console.debug(\"Bokeh: BokehJS loaded, going straight to plotting\");\n",
       "    run_inline_js();\n",
       "  } else {\n",
       "    load_libs(css_urls, js_urls, function() {\n",
       "      console.debug(\"Bokeh: BokehJS plotting callback run at\", now());\n",
       "      run_inline_js();\n",
       "    });\n",
       "  }\n",
       "}(window));"
      ],
      "application/vnd.bokehjs_load.v0+json": "(function(root) {\n  function now() {\n    return new Date();\n  }\n\n  const force = true;\n\n  if (typeof root._bokeh_onload_callbacks === \"undefined\" || force === true) {\n    root._bokeh_onload_callbacks = [];\n    root._bokeh_is_loading = undefined;\n  }\n\n\n  if (typeof (root._bokeh_timeout) === \"undefined\" || force === true) {\n    root._bokeh_timeout = Date.now() + 5000;\n    root._bokeh_failed_load = false;\n  }\n\n  const NB_LOAD_WARNING = {'data': {'text/html':\n     \"<div style='background-color: #fdd'>\\n\"+\n     \"<p>\\n\"+\n     \"BokehJS does not appear to have successfully loaded. If loading BokehJS from CDN, this \\n\"+\n     \"may be due to a slow or bad network connection. Possible fixes:\\n\"+\n     \"</p>\\n\"+\n     \"<ul>\\n\"+\n     \"<li>re-rerun `output_notebook()` to attempt to load from CDN again, or</li>\\n\"+\n     \"<li>use INLINE resources instead, as so:</li>\\n\"+\n     \"</ul>\\n\"+\n     \"<code>\\n\"+\n     \"from bokeh.resources import INLINE\\n\"+\n     \"output_notebook(resources=INLINE)\\n\"+\n     \"</code>\\n\"+\n     \"</div>\"}};\n\n  function display_loaded() {\n    const el = document.getElementById(\"1606\");\n    if (el != null) {\n      el.textContent = \"BokehJS is loading...\";\n    }\n    if (root.Bokeh !== undefined) {\n      if (el != null) {\n        el.textContent = \"BokehJS \" + root.Bokeh.version + \" successfully loaded.\";\n      }\n    } else if (Date.now() < root._bokeh_timeout) {\n      setTimeout(display_loaded, 100)\n    }\n  }\n\n  function run_callbacks() {\n    try {\n      root._bokeh_onload_callbacks.forEach(function(callback) {\n        if (callback != null)\n          callback();\n      });\n    } finally {\n      delete root._bokeh_onload_callbacks\n    }\n    console.debug(\"Bokeh: all callbacks have finished\");\n  }\n\n  function load_libs(css_urls, js_urls, callback) {\n    if (css_urls == null) css_urls = [];\n    if (js_urls == null) js_urls = [];\n\n    root._bokeh_onload_callbacks.push(callback);\n    if (root._bokeh_is_loading > 0) {\n      console.debug(\"Bokeh: BokehJS is being loaded, scheduling callback at\", now());\n      return null;\n    }\n    if (js_urls == null || js_urls.length === 0) {\n      run_callbacks();\n      return null;\n    }\n    console.debug(\"Bokeh: BokehJS not loaded, scheduling load and callback at\", now());\n    root._bokeh_is_loading = css_urls.length + js_urls.length;\n\n    function on_load() {\n      root._bokeh_is_loading--;\n      if (root._bokeh_is_loading === 0) {\n        console.debug(\"Bokeh: all BokehJS libraries/stylesheets loaded\");\n        run_callbacks()\n      }\n    }\n\n    function on_error(url) {\n      console.error(\"failed to load \" + url);\n    }\n\n    for (let i = 0; i < css_urls.length; i++) {\n      const url = css_urls[i];\n      const element = document.createElement(\"link\");\n      element.onload = on_load;\n      element.onerror = on_error.bind(null, url);\n      element.rel = \"stylesheet\";\n      element.type = \"text/css\";\n      element.href = url;\n      console.debug(\"Bokeh: injecting link tag for BokehJS stylesheet: \", url);\n      document.body.appendChild(element);\n    }\n\n    for (let i = 0; i < js_urls.length; i++) {\n      const url = js_urls[i];\n      const element = document.createElement('script');\n      element.onload = on_load;\n      element.onerror = on_error.bind(null, url);\n      element.async = false;\n      element.src = url;\n      console.debug(\"Bokeh: injecting script tag for BokehJS library: \", url);\n      document.head.appendChild(element);\n    }\n  };\n\n  function inject_raw_css(css) {\n    const element = document.createElement(\"style\");\n    element.appendChild(document.createTextNode(css));\n    document.body.appendChild(element);\n  }\n\n  const js_urls = [\"https://cdn.bokeh.org/bokeh/release/bokeh-2.4.3.min.js\", \"https://cdn.bokeh.org/bokeh/release/bokeh-gl-2.4.3.min.js\", \"https://cdn.bokeh.org/bokeh/release/bokeh-widgets-2.4.3.min.js\", \"https://cdn.bokeh.org/bokeh/release/bokeh-tables-2.4.3.min.js\", \"https://cdn.bokeh.org/bokeh/release/bokeh-mathjax-2.4.3.min.js\"];\n  const css_urls = [];\n\n  const inline_js = [    function(Bokeh) {\n      Bokeh.set_log_level(\"info\");\n    },\nfunction(Bokeh) {\n    }\n  ];\n\n  function run_inline_js() {\n    if (root.Bokeh !== undefined || force === true) {\n          for (let i = 0; i < inline_js.length; i++) {\n      inline_js[i].call(root, root.Bokeh);\n    }\nif (force === true) {\n        display_loaded();\n      }} else if (Date.now() < root._bokeh_timeout) {\n      setTimeout(run_inline_js, 100);\n    } else if (!root._bokeh_failed_load) {\n      console.log(\"Bokeh: BokehJS failed to load within specified timeout.\");\n      root._bokeh_failed_load = true;\n    } else if (force !== true) {\n      const cell = $(document.getElementById(\"1606\")).parents('.cell').data().cell;\n      cell.output_area.append_execute_result(NB_LOAD_WARNING)\n    }\n  }\n\n  if (root._bokeh_is_loading === 0) {\n    console.debug(\"Bokeh: BokehJS loaded, going straight to plotting\");\n    run_inline_js();\n  } else {\n    load_libs(css_urls, js_urls, function() {\n      console.debug(\"Bokeh: BokehJS plotting callback run at\", now());\n      run_inline_js();\n    });\n  }\n}(window));"
     },
     "metadata": {},
     "output_type": "display_data"
    },
    {
     "data": {
      "text/html": [
       "\n",
       "  <div class=\"bk-root\" id=\"7f9612ac-11a7-4e04-a1c9-f3b3e99f91fc\" data-root-id=\"1419\"></div>\n"
      ]
     },
     "metadata": {},
     "output_type": "display_data"
    },
    {
     "data": {
      "application/javascript": [
       "(function(root) {\n",
       "  function embed_document(root) {\n",
       "  const docs_json = {\"8d9c4d1b-329d-428a-9ed9-92f0514e4d9b\":{\"defs\":[],\"roots\":{\"references\":[{\"attributes\":{\"below\":[{\"id\":\"1428\"}],\"center\":[{\"id\":\"1431\"},{\"id\":\"1435\"}],\"height\":450,\"left\":[{\"id\":\"1432\"}],\"renderers\":[{\"id\":\"1458\"},{\"id\":\"1465\"},{\"id\":\"1472\"},{\"id\":\"1479\"},{\"id\":\"1486\"},{\"id\":\"1493\"},{\"id\":\"1500\"},{\"id\":\"1514\"},{\"id\":\"1520\"},{\"id\":\"1526\"},{\"id\":\"1533\"},{\"id\":\"1539\"},{\"id\":\"1545\"},{\"id\":\"1552\"},{\"id\":\"1558\"},{\"id\":\"1564\"},{\"id\":\"1571\"},{\"id\":\"1577\"},{\"id\":\"1583\"},{\"id\":\"1590\"},{\"id\":\"1596\"},{\"id\":\"1602\"}],\"right\":[{\"id\":\"1452\"}],\"sizing_mode\":\"scale_width\",\"title\":{\"id\":\"1642\"},\"toolbar\":{\"id\":\"1444\"},\"toolbar_location\":\"above\",\"width\":800,\"x_range\":{\"id\":\"1420\"},\"x_scale\":{\"id\":\"1424\"},\"y_range\":{\"id\":\"1422\"},\"y_scale\":{\"id\":\"1426\"}},\"id\":\"1419\",\"subtype\":\"Figure\",\"type\":\"Plot\"},{\"attributes\":{\"data\":{\"Intensity\":[10654.984462627379],\"bottom_int\":[0],\"leftWidth\":[1131.0999755859375],\"ms2_mscore\":[null],\"rightWidth\":[1156.5]},\"selected\":{\"id\":\"1673\"},\"selection_policy\":{\"id\":\"1672\"}},\"id\":\"1585\",\"type\":\"ColumnDataSource\"},{\"attributes\":{\"fill_alpha\":{\"value\":0.1},\"fill_color\":{\"value\":\"#1f77b4\"},\"hatch_alpha\":{\"value\":0.1},\"line_alpha\":{\"value\":0.1},\"line_color\":{\"value\":\"#1f77b4\"},\"x\":{\"field\":\"leftWidth\"},\"y\":{\"field\":\"Intensity\"}},\"id\":\"1581\",\"type\":\"Circle\"},{\"attributes\":{\"coordinates\":null,\"data_source\":{\"id\":\"1566\"},\"glyph\":{\"id\":\"1580\"},\"group\":null,\"hover_glyph\":null,\"muted_glyph\":{\"id\":\"1582\"},\"name\":\"leftWidth_apex_point\",\"nonselection_glyph\":{\"id\":\"1581\"},\"view\":{\"id\":\"1584\"}},\"id\":\"1583\",\"type\":\"GlyphRenderer\"},{\"attributes\":{\"bottom\":{\"field\":\"bottom_int\"},\"fill_color\":{\"value\":\"#66A61E\"},\"hatch_color\":{\"value\":\"#66A61E\"},\"line_color\":{\"value\":\"#66A61E\"},\"top\":{\"field\":\"Intensity\"},\"width\":{\"value\":0.3},\"x\":{\"field\":\"leftWidth\"}},\"id\":\"1587\",\"type\":\"VBar\"},{\"attributes\":{\"fill_alpha\":{\"value\":0.2},\"fill_color\":{\"value\":\"#1f77b4\"},\"hatch_alpha\":{\"value\":0.2},\"line_alpha\":{\"value\":0.2},\"line_color\":{\"value\":\"#1f77b4\"},\"x\":{\"field\":\"leftWidth\"},\"y\":{\"field\":\"Intensity\"}},\"id\":\"1582\",\"type\":\"Circle\"},{\"attributes\":{\"bottom\":{\"field\":\"bottom_int\"},\"fill_alpha\":{\"value\":0.1},\"fill_color\":{\"value\":\"#66A61E\"},\"hatch_alpha\":{\"value\":0.1},\"hatch_color\":{\"value\":\"#66A61E\"},\"line_alpha\":{\"value\":0.1},\"line_color\":{\"value\":\"#66A61E\"},\"top\":{\"field\":\"Intensity\"},\"width\":{\"value\":0.3},\"x\":{\"field\":\"leftWidth\"}},\"id\":\"1588\",\"type\":\"VBar\"},{\"attributes\":{\"source\":{\"id\":\"1566\"}},\"id\":\"1584\",\"type\":\"CDSView\"},{\"attributes\":{},\"id\":\"1670\",\"type\":\"UnionRenderers\"},{\"attributes\":{\"bottom\":{\"field\":\"bottom_int\"},\"fill_alpha\":{\"value\":0.1},\"fill_color\":{\"value\":\"#66A61E\"},\"hatch_alpha\":{\"value\":0.1},\"hatch_color\":{\"value\":\"#66A61E\"},\"line_alpha\":{\"value\":0.1},\"line_color\":{\"value\":\"#66A61E\"},\"top\":{\"field\":\"Intensity\"},\"width\":{\"value\":0.3},\"x\":{\"field\":\"rightWidth\"}},\"id\":\"1594\",\"type\":\"VBar\"},{\"attributes\":{},\"id\":\"1654\",\"type\":\"UnionRenderers\"},{\"attributes\":{},\"id\":\"1671\",\"type\":\"Selection\"},{\"attributes\":{\"coordinates\":null,\"data_source\":{\"id\":\"1585\"},\"glyph\":{\"id\":\"1593\"},\"group\":null,\"hover_glyph\":null,\"muted_glyph\":{\"id\":\"1595\"},\"nonselection_glyph\":{\"id\":\"1594\"},\"view\":{\"id\":\"1597\"}},\"id\":\"1596\",\"type\":\"GlyphRenderer\"},{\"attributes\":{},\"id\":\"1655\",\"type\":\"Selection\"},{\"attributes\":{\"coordinates\":null,\"data_source\":{\"id\":\"1585\"},\"glyph\":{\"id\":\"1587\"},\"group\":null,\"hover_glyph\":null,\"muted_glyph\":{\"id\":\"1589\"},\"nonselection_glyph\":{\"id\":\"1588\"},\"view\":{\"id\":\"1591\"}},\"id\":\"1590\",\"type\":\"GlyphRenderer\"},{\"attributes\":{\"bottom\":{\"field\":\"bottom_int\"},\"fill_alpha\":{\"value\":0.2},\"fill_color\":{\"value\":\"#66A61E\"},\"hatch_alpha\":{\"value\":0.2},\"hatch_color\":{\"value\":\"#66A61E\"},\"line_alpha\":{\"value\":0.2},\"line_color\":{\"value\":\"#66A61E\"},\"top\":{\"field\":\"Intensity\"},\"width\":{\"value\":0.3},\"x\":{\"field\":\"leftWidth\"}},\"id\":\"1589\",\"type\":\"VBar\"},{\"attributes\":{\"source\":{\"id\":\"1585\"}},\"id\":\"1591\",\"type\":\"CDSView\"},{\"attributes\":{\"bottom\":{\"field\":\"bottom_int\"},\"fill_color\":{\"value\":\"#66A61E\"},\"hatch_color\":{\"value\":\"#66A61E\"},\"line_color\":{\"value\":\"#66A61E\"},\"top\":{\"field\":\"Intensity\"},\"width\":{\"value\":0.3},\"x\":{\"field\":\"rightWidth\"}},\"id\":\"1593\",\"type\":\"VBar\"},{\"attributes\":{\"fill_alpha\":{\"value\":0.1},\"fill_color\":{\"value\":\"#1f77b4\"},\"hatch_alpha\":{\"value\":0.1},\"line_alpha\":{\"value\":0.1},\"line_color\":{\"value\":\"#1f77b4\"},\"x\":{\"field\":\"leftWidth\"},\"y\":{\"field\":\"Intensity\"}},\"id\":\"1600\",\"type\":\"Circle\"},{\"attributes\":{\"bottom\":{\"field\":\"bottom_int\"},\"fill_alpha\":{\"value\":0.2},\"fill_color\":{\"value\":\"#66A61E\"},\"hatch_alpha\":{\"value\":0.2},\"hatch_color\":{\"value\":\"#66A61E\"},\"line_alpha\":{\"value\":0.2},\"line_color\":{\"value\":\"#66A61E\"},\"top\":{\"field\":\"Intensity\"},\"width\":{\"value\":0.3},\"x\":{\"field\":\"rightWidth\"}},\"id\":\"1595\",\"type\":\"VBar\"},{\"attributes\":{\"source\":{\"id\":\"1585\"}},\"id\":\"1597\",\"type\":\"CDSView\"},{\"attributes\":{\"fill_alpha\":{\"value\":0},\"fill_color\":{\"value\":\"#1f77b4\"},\"hatch_alpha\":{\"value\":0},\"line_alpha\":{\"value\":0},\"line_color\":{\"value\":\"#1f77b4\"},\"x\":{\"field\":\"leftWidth\"},\"y\":{\"field\":\"Intensity\"}},\"id\":\"1599\",\"type\":\"Circle\"},{\"attributes\":{},\"id\":\"1645\",\"type\":\"BasicTickFormatter\"},{\"attributes\":{\"coordinates\":null,\"data_source\":{\"id\":\"1585\"},\"glyph\":{\"id\":\"1599\"},\"group\":null,\"hover_glyph\":null,\"muted_glyph\":{\"id\":\"1601\"},\"name\":\"leftWidth_apex_point\",\"nonselection_glyph\":{\"id\":\"1600\"},\"view\":{\"id\":\"1603\"}},\"id\":\"1602\",\"type\":\"GlyphRenderer\"},{\"attributes\":{},\"id\":\"1656\",\"type\":\"UnionRenderers\"},{\"attributes\":{\"fill_alpha\":{\"value\":0.2},\"fill_color\":{\"value\":\"#1f77b4\"},\"hatch_alpha\":{\"value\":0.2},\"line_alpha\":{\"value\":0.2},\"line_color\":{\"value\":\"#1f77b4\"},\"x\":{\"field\":\"leftWidth\"},\"y\":{\"field\":\"Intensity\"}},\"id\":\"1601\",\"type\":\"Circle\"},{\"attributes\":{\"coordinates\":null,\"data_source\":{\"id\":\"1566\"},\"glyph\":{\"id\":\"1574\"},\"group\":null,\"hover_glyph\":null,\"muted_glyph\":{\"id\":\"1576\"},\"nonselection_glyph\":{\"id\":\"1575\"},\"view\":{\"id\":\"1578\"}},\"id\":\"1577\",\"type\":\"GlyphRenderer\"},{\"attributes\":{\"source\":{\"id\":\"1585\"}},\"id\":\"1603\",\"type\":\"CDSView\"},{\"attributes\":{},\"id\":\"1657\",\"type\":\"Selection\"},{\"attributes\":{\"bottom\":{\"field\":\"bottom_int\"},\"fill_color\":{\"value\":\"#7570B3\"},\"hatch_color\":{\"value\":\"#7570B3\"},\"line_color\":{\"value\":\"#7570B3\"},\"top\":{\"field\":\"Intensity\"},\"width\":{\"value\":0.3},\"x\":{\"field\":\"rightWidth\"}},\"id\":\"1555\",\"type\":\"VBar\"},{\"attributes\":{},\"id\":\"1668\",\"type\":\"UnionRenderers\"},{\"attributes\":{},\"id\":\"1669\",\"type\":\"Selection\"},{\"attributes\":{\"coordinates\":null,\"group\":null},\"id\":\"1642\",\"type\":\"Title\"},{\"attributes\":{},\"id\":\"1648\",\"type\":\"BasicTickFormatter\"},{\"attributes\":{},\"id\":\"1658\",\"type\":\"UnionRenderers\"},{\"attributes\":{\"line_alpha\":0.2,\"line_color\":\"#aec7e8\",\"line_width\":2,\"x\":{\"field\":\"x\"},\"y\":{\"field\":\"y\"}},\"id\":\"1471\",\"type\":\"Line\"},{\"attributes\":{},\"id\":\"1649\",\"type\":\"AllLabels\"},{\"attributes\":{},\"id\":\"1659\",\"type\":\"Selection\"},{\"attributes\":{\"line_alpha\":0.1,\"line_dash\":[6],\"line_width\":2,\"x\":{\"field\":\"x\"},\"y\":{\"field\":\"y\"}},\"id\":\"1456\",\"type\":\"Line\"},{\"attributes\":{\"coordinates\":null,\"data_source\":{\"id\":\"1453\"},\"glyph\":{\"id\":\"1455\"},\"group\":null,\"hover_glyph\":null,\"muted_glyph\":{\"id\":\"1457\"},\"nonselection_glyph\":{\"id\":\"1456\"},\"view\":{\"id\":\"1459\"}},\"id\":\"1458\",\"type\":\"GlyphRenderer\"},{\"attributes\":{},\"id\":\"1650\",\"type\":\"UnionRenderers\"},{\"attributes\":{\"line_alpha\":0.1,\"line_color\":\"#aec7e8\",\"line_width\":2,\"x\":{\"field\":\"x\"},\"y\":{\"field\":\"y\"}},\"id\":\"1470\",\"type\":\"Line\"},{\"attributes\":{},\"id\":\"1672\",\"type\":\"UnionRenderers\"},{\"attributes\":{},\"id\":\"1651\",\"type\":\"Selection\"},{\"attributes\":{},\"id\":\"1673\",\"type\":\"Selection\"},{\"attributes\":{},\"id\":\"1660\",\"type\":\"UnionRenderers\"},{\"attributes\":{\"source\":{\"id\":\"1453\"}},\"id\":\"1459\",\"type\":\"CDSView\"},{\"attributes\":{},\"id\":\"1661\",\"type\":\"Selection\"},{\"attributes\":{\"tools\":[{\"id\":\"1436\"},{\"id\":\"1437\"},{\"id\":\"1438\"},{\"id\":\"1439\"},{\"id\":\"1440\"},{\"id\":\"1441\"},{\"id\":\"1443\"},{\"id\":\"1604\"}]},\"id\":\"1444\",\"type\":\"Toolbar\"},{\"attributes\":{\"data\":{\"precursor_mz\":[null,null,null,null,null,null,null,null,null,null,null,null,null,null,null,null,null,null,null,null,null,null,null,null,null,null,null,null,null,null,null,null,null,null,null,null,null,null,null,null,null,null,null,null,null,null,null,null,null,null,null,null,null,null,null,null,null,null,null,null,null,null,null,null,null,null,null,null,null,null,null,null,null,null,null,null,null,null,null,null,null,null,null,null,null,null,null,null,null,null,null,null,null,null,null,null,null,null,null,null,null,null,null,null,null,null,null,null,null,null,null,null,null,null,null,null,null,null,null,null,null,null,null,null,null,null,null,null,null,null,null,null,null,null,null,null,null,null,null,null,null,null,null,null,null,null,null,null,null,null,null,null,null,null,null,null,null,null,null,null,null,null,null,null,null,null,null,null,null,null,null,null,null,null,null,null,null,null,null,null,null,null,null,null,null,null,null,null,null,null,null,null,null],\"product_charge\":[null,null,null,null,null,null,null,null,null,null,null,null,null,null,null,null,null,null,null,null,null,null,null,null,null,null,null,null,null,null,null,null,null,null,null,null,null,null,null,null,null,null,null,null,null,null,null,null,null,null,null,null,null,null,null,null,null,null,null,null,null,null,null,null,null,null,null,null,null,null,null,null,null,null,null,null,null,null,null,null,null,null,null,null,null,null,null,null,null,null,null,null,null,null,null,null,null,null,null,null,null,null,null,null,null,null,null,null,null,null,null,null,null,null,null,null,null,null,null,null,null,null,null,null,null,null,null,null,null,null,null,null,null,null,null,null,null,null,null,null,null,null,null,null,null,null,null,null,null,null,null,null,null,null,null,null,null,null,null,null,null,null,null,null,null,null,null,null,null,null,null,null,null,null,null,null,null,null,null,null,null,null,null,null,null,null,null,null,null,null,null,null,null],\"product_mz\":[null,null,null,null,null,null,null,null,null,null,null,null,null,null,null,null,null,null,null,null,null,null,null,null,null,null,null,null,null,null,null,null,null,null,null,null,null,null,null,null,null,null,null,null,null,null,null,null,null,null,null,null,null,null,null,null,null,null,null,null,null,null,null,null,null,null,null,null,null,null,null,null,null,null,null,null,null,null,null,null,null,null,null,null,null,null,null,null,null,null,null,null,null,null,null,null,null,null,null,null,null,null,null,null,null,null,null,null,null,null,null,null,null,null,null,null,null,null,null,null,null,null,null,null,null,null,null,null,null,null,null,null,null,null,null,null,null,null,null,null,null,null,null,null,null,null,null,null,null,null,null,null,null,null,null,null,null,null,null,null,null,null,null,null,null,null,null,null,null,null,null,null,null,null,null,null,null,null,null,null,null,null,null,null,null,null,null,null,null,null,null,null,null],\"x\":{\"__ndarray__\":\"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\",\"dtype\":\"float64\",\"order\":\"little\",\"shape\":[193]},\"y\":{\"__ndarray__\":\"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\",\"dtype\":\"float64\",\"order\":\"little\",\"shape\":[193]}},\"selected\":{\"id\":\"1651\"},\"selection_policy\":{\"id\":\"1650\"}},\"id\":\"1453\",\"type\":\"ColumnDataSource\"},{\"attributes\":{\"line_alpha\":0.2,\"line_dash\":[6],\"line_width\":2,\"x\":{\"field\":\"x\"},\"y\":{\"field\":\"y\"}},\"id\":\"1457\",\"type\":\"Line\"},{\"attributes\":{\"source\":{\"id\":\"1467\"}},\"id\":\"1473\",\"type\":\"CDSView\"},{\"attributes\":{\"coordinates\":null,\"data_source\":{\"id\":\"1467\"},\"glyph\":{\"id\":\"1469\"},\"group\":null,\"hover_glyph\":null,\"muted_glyph\":{\"id\":\"1471\"},\"nonselection_glyph\":{\"id\":\"1470\"},\"view\":{\"id\":\"1473\"}},\"id\":\"1472\",\"type\":\"GlyphRenderer\"},{\"attributes\":{},\"id\":\"1652\",\"type\":\"UnionRenderers\"},{\"attributes\":{\"callback\":null,\"names\":[\"leftWidth_apex_point\"],\"tooltips\":[[\"Intensity\",\"@Intensity\"],[\"Left Width\",\"@leftWidth{0.00}\"],[\"Right Width\",\"@rightWidth{0.00}\"],[\"Peak Group Rank\",\"@peakgroup_rank\"],[\"MS2 m-score\",\"@ms2_mscore\"]]},\"id\":\"1604\",\"type\":\"HoverTool\"},{\"attributes\":{\"line_alpha\":0.5,\"line_color\":\"#aec7e8\",\"line_width\":2,\"x\":{\"field\":\"x\"},\"y\":{\"field\":\"y\"}},\"id\":\"1469\",\"type\":\"Line\"},{\"attributes\":{},\"id\":\"1653\",\"type\":\"Selection\"},{\"attributes\":{\"line_alpha\":0.5,\"line_dash\":[6],\"line_width\":2,\"x\":{\"field\":\"x\"},\"y\":{\"field\":\"y\"}},\"id\":\"1455\",\"type\":\"Line\"},{\"attributes\":{\"source\":{\"id\":\"1488\"}},\"id\":\"1494\",\"type\":\"CDSView\"},{\"attributes\":{},\"id\":\"1662\",\"type\":\"UnionRenderers\"},{\"attributes\":{\"coordinates\":null,\"data_source\":{\"id\":\"1547\"},\"glyph\":{\"id\":\"1549\"},\"group\":null,\"hover_glyph\":null,\"muted_glyph\":{\"id\":\"1551\"},\"nonselection_glyph\":{\"id\":\"1550\"},\"view\":{\"id\":\"1553\"}},\"id\":\"1552\",\"type\":\"GlyphRenderer\"},{\"attributes\":{},\"id\":\"1440\",\"type\":\"ResetTool\"},{\"attributes\":{},\"id\":\"1429\",\"type\":\"BasicTicker\"},{\"attributes\":{},\"id\":\"1663\",\"type\":\"Selection\"},{\"attributes\":{\"data\":{\"Intensity\":[235346.49947055007],\"bottom_int\":[0],\"leftWidth\":[843.5],\"ms2_mscore\":[null],\"rightWidth\":[901.7000122070312]},\"selected\":{\"id\":\"1665\"},\"selection_policy\":{\"id\":\"1664\"}},\"id\":\"1509\",\"type\":\"ColumnDataSource\"},{\"attributes\":{\"click_policy\":\"mute\",\"coordinates\":null,\"group\":null,\"items\":[{\"id\":\"1502\"},{\"id\":\"1503\"},{\"id\":\"1504\"},{\"id\":\"1505\"},{\"id\":\"1506\"},{\"id\":\"1507\"},{\"id\":\"1508\"}],\"label_text_font_size\":\"10pt\",\"location\":\"top_left\",\"title\":\"Transition\"},\"id\":\"1452\",\"type\":\"Legend\"},{\"attributes\":{\"data\":{\"precursor_mz\":[null,null,null,null,null,null,null,null,null,null,null,null,null,null,null,null,null,null,null,null,null,null,null,null,null,null,null,null,null,null,null,null,null,null,null,null,null,null,null,null,null,null,null,null,null,null,null,null,null,null,null,null,null,null,null,null,null,null,null,null,null,null,null,null,null,null,null,null,null,null,null,null,null,null,null,null,null,null,null,null,null,null,null,null,null,null,null,null,null,null,null,null,null,null,null,null,null,null,null,null,null,null,null,null,null,null,null,null,null,null,null,null,null,null,null,null,null,null,null,null,null,null,null,null,null,null,null,null,null,null,null,null,null,null,null,null,null,null,null,null,null,null,null,null,null,null,null,null,null,null,null,null,null,null,null,null,null,null,null,null,null,null,null,null,null,null,null,null,null,null,null,null,null,null,null,null,null,null,null,null,null,null,null,null,null,null,null,null,null,null,null,null,null],\"product_charge\":[null,null,null,null,null,null,null,null,null,null,null,null,null,null,null,null,null,null,null,null,null,null,null,null,null,null,null,null,null,null,null,null,null,null,null,null,null,null,null,null,null,null,null,null,null,null,null,null,null,null,null,null,null,null,null,null,null,null,null,null,null,null,null,null,null,null,null,null,null,null,null,null,null,null,null,null,null,null,null,null,null,null,null,null,null,null,null,null,null,null,null,null,null,null,null,null,null,null,null,null,null,null,null,null,null,null,null,null,null,null,null,null,null,null,null,null,null,null,null,null,null,null,null,null,null,null,null,null,null,null,null,null,null,null,null,null,null,null,null,null,null,null,null,null,null,null,null,null,null,null,null,null,null,null,null,null,null,null,null,null,null,null,null,null,null,null,null,null,null,null,null,null,null,null,null,null,null,null,null,null,null,null,null,null,null,null,null,null,null,null,null,null,null],\"product_mz\":[null,null,null,null,null,null,null,null,null,null,null,null,null,null,null,null,null,null,null,null,null,null,null,null,null,null,null,null,null,null,null,null,null,null,null,null,null,null,null,null,null,null,null,null,null,null,null,null,null,null,null,null,null,null,null,null,null,null,null,null,null,null,null,null,null,null,null,null,null,null,null,null,null,null,null,null,null,null,null,null,null,null,null,null,null,null,null,null,null,null,null,null,null,null,null,null,null,null,null,null,null,null,null,null,null,null,null,null,null,null,null,null,null,null,null,null,null,null,null,null,null,null,null,null,null,null,null,null,null,null,null,null,null,null,null,null,null,null,null,null,null,null,null,null,null,null,null,null,null,null,null,null,null,null,null,null,null,null,null,null,null,null,null,null,null,null,null,null,null,null,null,null,null,null,null,null,null,null,null,null,null,null,null,null,null,null,null,null,null,null,null,null,null],\"x\":{\"__ndarray__\":\"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\",\"dtype\":\"float64\",\"order\":\"little\",\"shape\":[193]},\"y\":{\"__ndarray__\":\"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\",\"dtype\":\"float64\",\"order\":\"little\",\"shape\":[193]}},\"selected\":{\"id\":\"1653\"},\"selection_policy\":{\"id\":\"1652\"}},\"id\":\"1460\",\"type\":\"ColumnDataSource\"},{\"attributes\":{},\"id\":\"1424\",\"type\":\"LinearScale\"},{\"attributes\":{\"axis_label\":\"Intensity\",\"axis_label_text_font_size\":\"11pt\",\"coordinates\":null,\"formatter\":{\"id\":\"1645\"},\"group\":null,\"major_label_policy\":{\"id\":\"1646\"},\"major_label_text_font_size\":\"11pt\",\"ticker\":{\"id\":\"1433\"}},\"id\":\"1432\",\"type\":\"LinearAxis\"},{\"attributes\":{\"line_alpha\":0.2,\"line_color\":\"#98df8a\",\"line_width\":2,\"x\":{\"field\":\"x\"},\"y\":{\"field\":\"y\"}},\"id\":\"1499\",\"type\":\"Line\"},{\"attributes\":{\"bottom\":{\"field\":\"bottom_int\"},\"fill_alpha\":{\"value\":0.1},\"fill_color\":{\"value\":\"#1B9E77\"},\"hatch_alpha\":{\"value\":0.1},\"hatch_color\":{\"value\":\"#1B9E77\"},\"line_alpha\":{\"value\":0.1},\"line_color\":{\"value\":\"#1B9E77\"},\"top\":{\"field\":\"Intensity\"},\"width\":{\"value\":0.3},\"x\":{\"field\":\"rightWidth\"}},\"id\":\"1518\",\"type\":\"VBar\"},{\"attributes\":{\"label\":{\"value\":\"y4^1\"},\"renderers\":[{\"id\":\"1465\"}]},\"id\":\"1503\",\"type\":\"LegendItem\"},{\"attributes\":{\"data\":{\"precursor_mz\":[null,null,null,null,null,null,null,null,null,null,null,null,null,null,null,null,null,null,null,null,null,null,null,null,null,null,null,null,null,null,null,null,null,null,null,null,null,null,null,null,null,null,null,null,null,null,null,null,null,null,null,null,null,null,null,null,null,null,null,null,null,null,null,null,null,null,null,null,null,null,null,null,null,null,null,null,null,null,null,null,null,null,null,null,null,null,null,null,null,null,null,null,null,null,null,null,null,null,null,null,null,null,null,null,null,null,null,null,null,null,null,null,null,null,null,null,null,null,null,null,null,null,null,null,null,null,null,null,null,null,null,null,null,null,null,null,null,null,null,null,null,null,null,null,null,null,null,null,null,null,null,null,null,null,null,null,null,null,null,null,null,null,null,null,null,null,null,null,null,null,null,null,null,null,null,null,null,null,null,null,null,null,null,null,null,null,null,null,null,null,null,null,null],\"product_charge\":[null,null,null,null,null,null,null,null,null,null,null,null,null,null,null,null,null,null,null,null,null,null,null,null,null,null,null,null,null,null,null,null,null,null,null,null,null,null,null,null,null,null,null,null,null,null,null,null,null,null,null,null,null,null,null,null,null,null,null,null,null,null,null,null,null,null,null,null,null,null,null,null,null,null,null,null,null,null,null,null,null,null,null,null,null,null,null,null,null,null,null,null,null,null,null,null,null,null,null,null,null,null,null,null,null,null,null,null,null,null,null,null,null,null,null,null,null,null,null,null,null,null,null,null,null,null,null,null,null,null,null,null,null,null,null,null,null,null,null,null,null,null,null,null,null,null,null,null,null,null,null,null,null,null,null,null,null,null,null,null,null,null,null,null,null,null,null,null,null,null,null,null,null,null,null,null,null,null,null,null,null,null,null,null,null,null,null,null,null,null,null,null,null],\"product_mz\":[null,null,null,null,null,null,null,null,null,null,null,null,null,null,null,null,null,null,null,null,null,null,null,null,null,null,null,null,null,null,null,null,null,null,null,null,null,null,null,null,null,null,null,null,null,null,null,null,null,null,null,null,null,null,null,null,null,null,null,null,null,null,null,null,null,null,null,null,null,null,null,null,null,null,null,null,null,null,null,null,null,null,null,null,null,null,null,null,null,null,null,null,null,null,null,null,null,null,null,null,null,null,null,null,null,null,null,null,null,null,null,null,null,null,null,null,null,null,null,null,null,null,null,null,null,null,null,null,null,null,null,null,null,null,null,null,null,null,null,null,null,null,null,null,null,null,null,null,null,null,null,null,null,null,null,null,null,null,null,null,null,null,null,null,null,null,null,null,null,null,null,null,null,null,null,null,null,null,null,null,null,null,null,null,null,null,null,null,null,null,null,null,null],\"x\":{\"__ndarray__\":\"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\",\"dtype\":\"float64\",\"order\":\"little\",\"shape\":[193]},\"y\":{\"__ndarray__\":\"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\",\"dtype\":\"float64\",\"order\":\"little\",\"shape\":[193]}},\"selected\":{\"id\":\"1659\"},\"selection_policy\":{\"id\":\"1658\"}},\"id\":\"1481\",\"type\":\"ColumnDataSource\"},{\"attributes\":{\"axis\":{\"id\":\"1432\"},\"coordinates\":null,\"dimension\":1,\"group\":null,\"ticker\":null},\"id\":\"1435\",\"type\":\"Grid\"},{\"attributes\":{\"data\":{\"precursor_mz\":[null,null,null,null,null,null,null,null,null,null,null,null,null,null,null,null,null,null,null,null,null,null,null,null,null,null,null,null,null,null,null,null,null,null,null,null,null,null,null,null,null,null,null,null,null,null,null,null,null,null,null,null,null,null,null,null,null,null,null,null,null,null,null,null,null,null,null,null,null,null,null,null,null,null,null,null,null,null,null,null,null,null,null,null,null,null,null,null,null,null,null,null,null,null,null,null,null,null,null,null,null,null,null,null,null,null,null,null,null,null,null,null,null,null,null,null,null,null,null,null,null,null,null,null,null,null,null,null,null,null,null,null,null,null,null,null,null,null,null,null,null,null,null,null,null,null,null,null,null,null,null,null,null,null,null,null,null,null,null,null,null,null,null,null,null,null,null,null,null,null,null,null,null,null,null,null,null,null,null,null,null,null,null,null,null,null,null,null,null,null,null,null,null],\"product_charge\":[null,null,null,null,null,null,null,null,null,null,null,null,null,null,null,null,null,null,null,null,null,null,null,null,null,null,null,null,null,null,null,null,null,null,null,null,null,null,null,null,null,null,null,null,null,null,null,null,null,null,null,null,null,null,null,null,null,null,null,null,null,null,null,null,null,null,null,null,null,null,null,null,null,null,null,null,null,null,null,null,null,null,null,null,null,null,null,null,null,null,null,null,null,null,null,null,null,null,null,null,null,null,null,null,null,null,null,null,null,null,null,null,null,null,null,null,null,null,null,null,null,null,null,null,null,null,null,null,null,null,null,null,null,null,null,null,null,null,null,null,null,null,null,null,null,null,null,null,null,null,null,null,null,null,null,null,null,null,null,null,null,null,null,null,null,null,null,null,null,null,null,null,null,null,null,null,null,null,null,null,null,null,null,null,null,null,null,null,null,null,null,null,null],\"product_mz\":[null,null,null,null,null,null,null,null,null,null,null,null,null,null,null,null,null,null,null,null,null,null,null,null,null,null,null,null,null,null,null,null,null,null,null,null,null,null,null,null,null,null,null,null,null,null,null,null,null,null,null,null,null,null,null,null,null,null,null,null,null,null,null,null,null,null,null,null,null,null,null,null,null,null,null,null,null,null,null,null,null,null,null,null,null,null,null,null,null,null,null,null,null,null,null,null,null,null,null,null,null,null,null,null,null,null,null,null,null,null,null,null,null,null,null,null,null,null,null,null,null,null,null,null,null,null,null,null,null,null,null,null,null,null,null,null,null,null,null,null,null,null,null,null,null,null,null,null,null,null,null,null,null,null,null,null,null,null,null,null,null,null,null,null,null,null,null,null,null,null,null,null,null,null,null,null,null,null,null,null,null,null,null,null,null,null,null,null,null,null,null,null,null],\"x\":{\"__ndarray__\":\"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\",\"dtype\":\"float64\",\"order\":\"little\",\"shape\":[193]},\"y\":{\"__ndarray__\":\"AAAAAAAAAAAAAAAAAAAAAFYy4sZSADVAAAAAAAAAAAAAAAAAAAAAAAAAAAAAAAAAAAAAAAAAAAAAAAAAAAAAAAAAAAAAAAAAAAAAAAAAAABWMuLGUgA1QFYy4sZSADVAVjLixlIANUAAAAAAAAAAAAAAAAAAAAAAAAAAAAAAAABWMuLGUgA1QAAAAAAAAAAAAAAAAAAAAAAAAAAAAAAAAAAAAAAAAAAAAAAAAAAAAAAAAAAAAAAAAAAAAAAAAAAAAAAAAAAAAAAAAAAAAAAAAAAAAAAAAAAAVjLixlIANUAAAAAAAAAAAAAAAAAAAAAAVjLixlIANUAAAAAAAAAAAAAAAAAAAAAAVjLixlIANUAAAAAAAAAAAAAAAAAAAAAAAAAAAAAAAAAAAAAAAAAAAAAAAAAAAAAAAAAAAAAAAAAAAAAAAAAAAAAAAAAAAAAAAAAAAAAAAAAAAAAAAAAAAAAAAAAAAAAAAAAAAAAAAAAAAAAAAAAAAAAAAAAAAAAAAAAAAAAAAAAAAAAAAAAAAAAAAAAAAAAAVjLixlIANUAAAAAAAAAAAAAAAAAAAAAAAAAAAAAAAAAAAAAAAAAAAFYy4sZSADVAAAAAAAAAAAAAAAAAAAAAAAAAAAAAAAAAAAAAAAAAAAAAAAAAAAAAAAAAAAAAAAAAAAAAAAAAAAAAAAAAAAAAAAAAAAAAAAAAAAAAAAAAAAAAAAAAAAAAAAAAAAAAAAAAAAAAAAAAAABWMuLGUgA1QAAAAAAAAAAAVjLixlIANUBWMuLGUgA1QAAAAAAAAAAAVjLixlIANUAAAAAAAAAAAAAAAAAAAAAAVjLixlIANUAAAAAAAAAAAAAAAAAAAAAAAAAAAAAAAACOnbIkrP9EQAAAAAAAAAAAjp2yJKz/RECOnbIkrP9EQL2+0qXBX2JA9t24/9iLlEAkG1vu9LuVQC0EDhPZn5VALAJ1Aq7flEA6XnLI3juRQP+tyKL+b4dAMDBQ218wj0BLDWrTqROcQNN1aGHi45tA/+BSBPN7pkCGGps5D3KpQExFhNA9NKJAwKSothZklkDpB745zEeNQLnqW5EeUH9AJQJAZvQ/ckAiYSy35J9nQBN33oK2P2JA/dpn4mZAWkAiYSy35J9nQJFSRyAOAFVAjp2yJKz/RECOnbIkrP9EQJFSRyAOAFVAWFD1CuN/T0COnbIkrP9EQI6dsiSs/0RAjp2yJKz/REBWMuLGUgA1QFYy4sZSADVAAAAAAAAAAABWMuLGUgA1QAAAAAAAAAAAVjLixlIANUBWMuLGUgA1QI6dsiSs/0RAE3fegrY/YkBWMuLGUgA1QFhQ9Qrjf09Ajp2yJKz/REBWMuLGUgA1QFhQ9Qrjf09AAAAAAAAAAABYUPUK439PQI6dsiSs/0RAAAAAAAAAAABWMuLGUgA1QAAAAAAAAAAAAAAAAAAAAABWMuLGUgA1QAAAAAAAAAAAVjLixlIANUAAAAAAAAAAAAAAAAAAAAAAAAAAAAAAAABWMuLGUgA1QAAAAAAAAAAAAAAAAAAAAABWMuLGUgA1QFYy4sZSADVAjp2yJKz/REBWMuLGUgA1QAAAAAAAAAAAAAAAAAAAAACOnbIkrP9EQI6dsiSs/0RAWFD1CuN/T0BYUPUK439PQNBjFxzL/2RAvb7SpcFfYkBYUPUK439PQJFSRyAOAFVAWFD1CuN/T0COnbIkrP9EQFYy4sZSADVAVjLixlIANUDQYxccy/9kQKAfy/T5v2xAvb7SpcFfYkDQYxccy/9kQOBWbcA9gF9ACtJQbEdAX0D92mfiZkBaQAAAAAAAAAAA5bjRCPi/VEBWMuLGUgA1QAAAAAAAAAAAVjLixlIANUCOnbIkrP9EQFhQ9Qrjf09AkVJHIA4AVUBWMuLGUgA1QI6dsiSs/0RAAAAAAAAAAAAAAAAAAAAAAFYy4sZSADVAVjLixlIANUAAAAAAAAAAAFYy4sZSADVAWFD1CuN/T0AAAAAAAAAAAAAAAAAAAAAAVjLixlIANUAAAAAAAAAAAAAAAAAAAAAAVjLixlIANUA=\",\"dtype\":\"float64\",\"order\":\"little\",\"shape\":[193]}},\"selected\":{\"id\":\"1661\"},\"selection_policy\":{\"id\":\"1660\"}},\"id\":\"1488\",\"type\":\"ColumnDataSource\"},{\"attributes\":{\"line_alpha\":0.2,\"line_color\":\"#2ca02c\",\"line_width\":2,\"x\":{\"field\":\"x\"},\"y\":{\"field\":\"y\"}},\"id\":\"1492\",\"type\":\"Line\"},{\"attributes\":{\"axis\":{\"id\":\"1428\"},\"coordinates\":null,\"group\":null,\"ticker\":null},\"id\":\"1431\",\"type\":\"Grid\"},{\"attributes\":{\"label\":{\"value\":\"y1^1\"},\"renderers\":[{\"id\":\"1472\"}]},\"id\":\"1504\",\"type\":\"LegendItem\"},{\"attributes\":{\"label\":{\"value\":\"y5^1\"},\"renderers\":[{\"id\":\"1486\"}]},\"id\":\"1506\",\"type\":\"LegendItem\"},{\"attributes\":{},\"id\":\"1420\",\"type\":\"DataRange1d\"},{\"attributes\":{\"label\":{\"value\":\"2274_Precursor_i0\"},\"renderers\":[{\"id\":\"1458\"}]},\"id\":\"1502\",\"type\":\"LegendItem\"},{\"attributes\":{},\"id\":\"1664\",\"type\":\"UnionRenderers\"},{\"attributes\":{\"label\":{\"value\":\"y2^1\"},\"renderers\":[{\"id\":\"1493\"}]},\"id\":\"1507\",\"type\":\"LegendItem\"},{\"attributes\":{\"coordinates\":null,\"data_source\":{\"id\":\"1495\"},\"glyph\":{\"id\":\"1497\"},\"group\":null,\"hover_glyph\":null,\"muted_glyph\":{\"id\":\"1499\"},\"nonselection_glyph\":{\"id\":\"1498\"},\"view\":{\"id\":\"1501\"}},\"id\":\"1500\",\"type\":\"GlyphRenderer\"},{\"attributes\":{\"bottom\":{\"field\":\"bottom_int\"},\"fill_alpha\":{\"value\":0.1},\"fill_color\":{\"value\":\"#7570B3\"},\"hatch_alpha\":{\"value\":0.1},\"hatch_color\":{\"value\":\"#7570B3\"},\"line_alpha\":{\"value\":0.1},\"line_color\":{\"value\":\"#7570B3\"},\"top\":{\"field\":\"Intensity\"},\"width\":{\"value\":0.3},\"x\":{\"field\":\"leftWidth\"}},\"id\":\"1550\",\"type\":\"VBar\"},{\"attributes\":{},\"id\":\"1665\",\"type\":\"Selection\"},{\"attributes\":{\"line_alpha\":0.1,\"line_color\":\"#2ca02c\",\"line_width\":2,\"x\":{\"field\":\"x\"},\"y\":{\"field\":\"y\"}},\"id\":\"1491\",\"type\":\"Line\"},{\"attributes\":{\"label\":{\"value\":\"b4^1\"},\"renderers\":[{\"id\":\"1500\"}]},\"id\":\"1508\",\"type\":\"LegendItem\"},{\"attributes\":{\"source\":{\"id\":\"1495\"}},\"id\":\"1501\",\"type\":\"CDSView\"},{\"attributes\":{\"bottom\":{\"field\":\"bottom_int\"},\"fill_color\":{\"value\":\"#1B9E77\"},\"hatch_color\":{\"value\":\"#1B9E77\"},\"line_color\":{\"value\":\"#1B9E77\"},\"top\":{\"field\":\"Intensity\"},\"width\":{\"value\":0.3},\"x\":{\"field\":\"leftWidth\"}},\"id\":\"1511\",\"type\":\"VBar\"},{\"attributes\":{},\"id\":\"1422\",\"type\":\"DataRange1d\"},{\"attributes\":{\"coordinates\":null,\"data_source\":{\"id\":\"1481\"},\"glyph\":{\"id\":\"1483\"},\"group\":null,\"hover_glyph\":null,\"muted_glyph\":{\"id\":\"1485\"},\"nonselection_glyph\":{\"id\":\"1484\"},\"view\":{\"id\":\"1487\"}},\"id\":\"1486\",\"type\":\"GlyphRenderer\"},{\"attributes\":{\"bottom\":{\"field\":\"bottom_int\"},\"fill_alpha\":{\"value\":0.1},\"fill_color\":{\"value\":\"#1B9E77\"},\"hatch_alpha\":{\"value\":0.1},\"hatch_color\":{\"value\":\"#1B9E77\"},\"line_alpha\":{\"value\":0.1},\"line_color\":{\"value\":\"#1B9E77\"},\"top\":{\"field\":\"Intensity\"},\"width\":{\"value\":0.3},\"x\":{\"field\":\"leftWidth\"}},\"id\":\"1512\",\"type\":\"VBar\"},{\"attributes\":{\"line_alpha\":0.2,\"line_color\":\"#1f77b4\",\"line_width\":2,\"x\":{\"field\":\"x\"},\"y\":{\"field\":\"y\"}},\"id\":\"1464\",\"type\":\"Line\"},{\"attributes\":{\"coordinates\":null,\"data_source\":{\"id\":\"1509\"},\"glyph\":{\"id\":\"1517\"},\"group\":null,\"hover_glyph\":null,\"muted_glyph\":{\"id\":\"1519\"},\"nonselection_glyph\":{\"id\":\"1518\"},\"view\":{\"id\":\"1521\"}},\"id\":\"1520\",\"type\":\"GlyphRenderer\"},{\"attributes\":{\"coordinates\":null,\"data_source\":{\"id\":\"1547\"},\"glyph\":{\"id\":\"1555\"},\"group\":null,\"hover_glyph\":null,\"muted_glyph\":{\"id\":\"1557\"},\"nonselection_glyph\":{\"id\":\"1556\"},\"view\":{\"id\":\"1559\"}},\"id\":\"1558\",\"type\":\"GlyphRenderer\"},{\"attributes\":{\"bottom\":{\"field\":\"bottom_int\"},\"fill_alpha\":{\"value\":0.2},\"fill_color\":{\"value\":\"#E7298A\"},\"hatch_alpha\":{\"value\":0.2},\"hatch_color\":{\"value\":\"#E7298A\"},\"line_alpha\":{\"value\":0.2},\"line_color\":{\"value\":\"#E7298A\"},\"top\":{\"field\":\"Intensity\"},\"width\":{\"value\":0.3},\"x\":{\"field\":\"leftWidth\"}},\"id\":\"1570\",\"type\":\"VBar\"},{\"attributes\":{\"source\":{\"id\":\"1566\"}},\"id\":\"1572\",\"type\":\"CDSView\"},{\"attributes\":{\"coordinates\":null,\"data_source\":{\"id\":\"1509\"},\"glyph\":{\"id\":\"1511\"},\"group\":null,\"hover_glyph\":null,\"muted_glyph\":{\"id\":\"1513\"},\"nonselection_glyph\":{\"id\":\"1512\"},\"view\":{\"id\":\"1515\"}},\"id\":\"1514\",\"type\":\"GlyphRenderer\"},{\"attributes\":{\"coordinates\":null,\"data_source\":{\"id\":\"1566\"},\"glyph\":{\"id\":\"1568\"},\"group\":null,\"hover_glyph\":null,\"muted_glyph\":{\"id\":\"1570\"},\"nonselection_glyph\":{\"id\":\"1569\"},\"view\":{\"id\":\"1572\"}},\"id\":\"1571\",\"type\":\"GlyphRenderer\"},{\"attributes\":{\"line_alpha\":0.1,\"line_color\":\"#98df8a\",\"line_width\":2,\"x\":{\"field\":\"x\"},\"y\":{\"field\":\"y\"}},\"id\":\"1498\",\"type\":\"Line\"},{\"attributes\":{\"line_alpha\":0.5,\"line_color\":\"#98df8a\",\"line_width\":2,\"x\":{\"field\":\"x\"},\"y\":{\"field\":\"y\"}},\"id\":\"1497\",\"type\":\"Line\"},{\"attributes\":{\"bottom\":{\"field\":\"bottom_int\"},\"fill_alpha\":{\"value\":0.2},\"fill_color\":{\"value\":\"#1B9E77\"},\"hatch_alpha\":{\"value\":0.2},\"hatch_color\":{\"value\":\"#1B9E77\"},\"line_alpha\":{\"value\":0.2},\"line_color\":{\"value\":\"#1B9E77\"},\"top\":{\"field\":\"Intensity\"},\"width\":{\"value\":0.3},\"x\":{\"field\":\"leftWidth\"}},\"id\":\"1513\",\"type\":\"VBar\"},{\"attributes\":{\"line_alpha\":0.5,\"line_color\":\"#1f77b4\",\"line_width\":2,\"x\":{\"field\":\"x\"},\"y\":{\"field\":\"y\"}},\"id\":\"1462\",\"type\":\"Line\"},{\"attributes\":{\"source\":{\"id\":\"1509\"}},\"id\":\"1515\",\"type\":\"CDSView\"},{\"attributes\":{\"bottom\":{\"field\":\"bottom_int\"},\"fill_color\":{\"value\":\"#1B9E77\"},\"hatch_color\":{\"value\":\"#1B9E77\"},\"line_color\":{\"value\":\"#1B9E77\"},\"top\":{\"field\":\"Intensity\"},\"width\":{\"value\":0.3},\"x\":{\"field\":\"rightWidth\"}},\"id\":\"1517\",\"type\":\"VBar\"},{\"attributes\":{\"bottom\":{\"field\":\"bottom_int\"},\"fill_alpha\":{\"value\":0.1},\"fill_color\":{\"value\":\"#7570B3\"},\"hatch_alpha\":{\"value\":0.1},\"hatch_color\":{\"value\":\"#7570B3\"},\"line_alpha\":{\"value\":0.1},\"line_color\":{\"value\":\"#7570B3\"},\"top\":{\"field\":\"Intensity\"},\"width\":{\"value\":0.3},\"x\":{\"field\":\"rightWidth\"}},\"id\":\"1556\",\"type\":\"VBar\"},{\"attributes\":{\"line_alpha\":0.2,\"line_color\":\"#ffbb78\",\"line_width\":2,\"x\":{\"field\":\"x\"},\"y\":{\"field\":\"y\"}},\"id\":\"1485\",\"type\":\"Line\"},{\"attributes\":{\"coordinates\":null,\"data_source\":{\"id\":\"1488\"},\"glyph\":{\"id\":\"1490\"},\"group\":null,\"hover_glyph\":null,\"muted_glyph\":{\"id\":\"1492\"},\"nonselection_glyph\":{\"id\":\"1491\"},\"view\":{\"id\":\"1494\"}},\"id\":\"1493\",\"type\":\"GlyphRenderer\"},{\"attributes\":{\"fill_alpha\":{\"value\":0.1},\"fill_color\":{\"value\":\"#1f77b4\"},\"hatch_alpha\":{\"value\":0.1},\"line_alpha\":{\"value\":0.1},\"line_color\":{\"value\":\"#1f77b4\"},\"x\":{\"field\":\"leftWidth\"},\"y\":{\"field\":\"Intensity\"}},\"id\":\"1524\",\"type\":\"Circle\"},{\"attributes\":{},\"id\":\"1439\",\"type\":\"SaveTool\"},{\"attributes\":{\"source\":{\"id\":\"1481\"}},\"id\":\"1487\",\"type\":\"CDSView\"},{\"attributes\":{\"source\":{\"id\":\"1566\"}},\"id\":\"1578\",\"type\":\"CDSView\"},{\"attributes\":{\"bottom\":{\"field\":\"bottom_int\"},\"fill_alpha\":{\"value\":0.2},\"fill_color\":{\"value\":\"#1B9E77\"},\"hatch_alpha\":{\"value\":0.2},\"hatch_color\":{\"value\":\"#1B9E77\"},\"line_alpha\":{\"value\":0.2},\"line_color\":{\"value\":\"#1B9E77\"},\"top\":{\"field\":\"Intensity\"},\"width\":{\"value\":0.3},\"x\":{\"field\":\"rightWidth\"}},\"id\":\"1519\",\"type\":\"VBar\"},{\"attributes\":{\"source\":{\"id\":\"1509\"}},\"id\":\"1521\",\"type\":\"CDSView\"},{\"attributes\":{},\"id\":\"1441\",\"type\":\"HelpTool\"},{\"attributes\":{\"line_alpha\":0.2,\"line_color\":\"#ff7f0e\",\"line_width\":2,\"x\":{\"field\":\"x\"},\"y\":{\"field\":\"y\"}},\"id\":\"1478\",\"type\":\"Line\"},{\"attributes\":{\"fill_alpha\":{\"value\":0},\"fill_color\":{\"value\":\"#1f77b4\"},\"hatch_alpha\":{\"value\":0},\"line_alpha\":{\"value\":0},\"line_color\":{\"value\":\"#1f77b4\"},\"x\":{\"field\":\"leftWidth\"},\"y\":{\"field\":\"Intensity\"}},\"id\":\"1523\",\"type\":\"Circle\"},{\"attributes\":{},\"id\":\"1437\",\"type\":\"WheelZoomTool\"},{\"attributes\":{\"data\":{\"Intensity\":[78247.75276112532],\"bottom_int\":[0],\"leftWidth\":[818.0999755859375],\"ms2_mscore\":[null],\"rightWidth\":[843.5]},\"selected\":{\"id\":\"1667\"},\"selection_policy\":{\"id\":\"1666\"}},\"id\":\"1528\",\"type\":\"ColumnDataSource\"},{\"attributes\":{\"coordinates\":null,\"data_source\":{\"id\":\"1509\"},\"glyph\":{\"id\":\"1523\"},\"group\":null,\"hover_glyph\":null,\"muted_glyph\":{\"id\":\"1525\"},\"name\":\"leftWidth_apex_point\",\"nonselection_glyph\":{\"id\":\"1524\"},\"view\":{\"id\":\"1527\"}},\"id\":\"1526\",\"type\":\"GlyphRenderer\"},{\"attributes\":{\"bottom\":{\"field\":\"bottom_int\"},\"fill_alpha\":{\"value\":0.2},\"fill_color\":{\"value\":\"#7570B3\"},\"hatch_alpha\":{\"value\":0.2},\"hatch_color\":{\"value\":\"#7570B3\"},\"line_alpha\":{\"value\":0.2},\"line_color\":{\"value\":\"#7570B3\"},\"top\":{\"field\":\"Intensity\"},\"width\":{\"value\":0.3},\"x\":{\"field\":\"leftWidth\"}},\"id\":\"1551\",\"type\":\"VBar\"},{\"attributes\":{\"line_alpha\":0.5,\"line_color\":\"#2ca02c\",\"line_width\":2,\"x\":{\"field\":\"x\"},\"y\":{\"field\":\"y\"}},\"id\":\"1490\",\"type\":\"Line\"},{\"attributes\":{\"bottom\":{\"field\":\"bottom_int\"},\"fill_alpha\":{\"value\":0.1},\"fill_color\":{\"value\":\"#D95F02\"},\"hatch_alpha\":{\"value\":0.1},\"hatch_color\":{\"value\":\"#D95F02\"},\"line_alpha\":{\"value\":0.1},\"line_color\":{\"value\":\"#D95F02\"},\"top\":{\"field\":\"Intensity\"},\"width\":{\"value\":0.3},\"x\":{\"field\":\"rightWidth\"}},\"id\":\"1537\",\"type\":\"VBar\"},{\"attributes\":{\"fill_alpha\":{\"value\":0.2},\"fill_color\":{\"value\":\"#1f77b4\"},\"hatch_alpha\":{\"value\":0.2},\"line_alpha\":{\"value\":0.2},\"line_color\":{\"value\":\"#1f77b4\"},\"x\":{\"field\":\"leftWidth\"},\"y\":{\"field\":\"Intensity\"}},\"id\":\"1525\",\"type\":\"Circle\"},{\"attributes\":{\"source\":{\"id\":\"1547\"}},\"id\":\"1553\",\"type\":\"CDSView\"},{\"attributes\":{\"bottom\":{\"field\":\"bottom_int\"},\"fill_alpha\":{\"value\":0.1},\"fill_color\":{\"value\":\"#D95F02\"},\"hatch_alpha\":{\"value\":0.1},\"hatch_color\":{\"value\":\"#D95F02\"},\"line_alpha\":{\"value\":0.1},\"line_color\":{\"value\":\"#D95F02\"},\"top\":{\"field\":\"Intensity\"},\"width\":{\"value\":0.3},\"x\":{\"field\":\"leftWidth\"}},\"id\":\"1531\",\"type\":\"VBar\"},{\"attributes\":{\"line_alpha\":0.1,\"line_color\":\"#ffbb78\",\"line_width\":2,\"x\":{\"field\":\"x\"},\"y\":{\"field\":\"y\"}},\"id\":\"1484\",\"type\":\"Line\"},{\"attributes\":{\"source\":{\"id\":\"1509\"}},\"id\":\"1527\",\"type\":\"CDSView\"},{\"attributes\":{\"bottom\":{\"field\":\"bottom_int\"},\"fill_color\":{\"value\":\"#D95F02\"},\"hatch_color\":{\"value\":\"#D95F02\"},\"line_color\":{\"value\":\"#D95F02\"},\"top\":{\"field\":\"Intensity\"},\"width\":{\"value\":0.3},\"x\":{\"field\":\"leftWidth\"}},\"id\":\"1530\",\"type\":\"VBar\"},{\"attributes\":{\"source\":{\"id\":\"1460\"}},\"id\":\"1466\",\"type\":\"CDSView\"},{\"attributes\":{},\"id\":\"1646\",\"type\":\"AllLabels\"},{\"attributes\":{\"bottom_units\":\"screen\",\"coordinates\":null,\"fill_alpha\":0.5,\"fill_color\":\"lightgrey\",\"group\":null,\"left_units\":\"screen\",\"level\":\"overlay\",\"line_alpha\":1.0,\"line_color\":\"black\",\"line_dash\":[4,4],\"line_width\":2,\"right_units\":\"screen\",\"syncable\":false,\"top_units\":\"screen\"},\"id\":\"1442\",\"type\":\"BoxAnnotation\"},{\"attributes\":{\"bottom\":{\"field\":\"bottom_int\"},\"fill_color\":{\"value\":\"#E7298A\"},\"hatch_color\":{\"value\":\"#E7298A\"},\"line_color\":{\"value\":\"#E7298A\"},\"top\":{\"field\":\"Intensity\"},\"width\":{\"value\":0.3},\"x\":{\"field\":\"leftWidth\"}},\"id\":\"1568\",\"type\":\"VBar\"},{\"attributes\":{},\"id\":\"1436\",\"type\":\"PanTool\"},{\"attributes\":{\"coordinates\":null,\"data_source\":{\"id\":\"1528\"},\"glyph\":{\"id\":\"1536\"},\"group\":null,\"hover_glyph\":null,\"muted_glyph\":{\"id\":\"1538\"},\"nonselection_glyph\":{\"id\":\"1537\"},\"view\":{\"id\":\"1540\"}},\"id\":\"1539\",\"type\":\"GlyphRenderer\"},{\"attributes\":{\"line_alpha\":0.1,\"line_color\":\"#1f77b4\",\"line_width\":2,\"x\":{\"field\":\"x\"},\"y\":{\"field\":\"y\"}},\"id\":\"1463\",\"type\":\"Line\"},{\"attributes\":{\"coordinates\":null,\"data_source\":{\"id\":\"1528\"},\"glyph\":{\"id\":\"1530\"},\"group\":null,\"hover_glyph\":null,\"muted_glyph\":{\"id\":\"1532\"},\"nonselection_glyph\":{\"id\":\"1531\"},\"view\":{\"id\":\"1534\"}},\"id\":\"1533\",\"type\":\"GlyphRenderer\"},{\"attributes\":{\"axis_label\":\"Retention Time\",\"axis_label_text_font_size\":\"11pt\",\"coordinates\":null,\"formatter\":{\"id\":\"1648\"},\"group\":null,\"major_label_policy\":{\"id\":\"1649\"},\"major_label_text_font_size\":\"11pt\",\"ticker\":{\"id\":\"1429\"}},\"id\":\"1428\",\"type\":\"LinearAxis\"},{\"attributes\":{\"source\":{\"id\":\"1547\"}},\"id\":\"1565\",\"type\":\"CDSView\"},{\"attributes\":{\"bottom\":{\"field\":\"bottom_int\"},\"fill_alpha\":{\"value\":0.2},\"fill_color\":{\"value\":\"#D95F02\"},\"hatch_alpha\":{\"value\":0.2},\"hatch_color\":{\"value\":\"#D95F02\"},\"line_alpha\":{\"value\":0.2},\"line_color\":{\"value\":\"#D95F02\"},\"top\":{\"field\":\"Intensity\"},\"width\":{\"value\":0.3},\"x\":{\"field\":\"leftWidth\"}},\"id\":\"1532\",\"type\":\"VBar\"},{\"attributes\":{\"source\":{\"id\":\"1528\"}},\"id\":\"1534\",\"type\":\"CDSView\"},{\"attributes\":{\"bottom\":{\"field\":\"bottom_int\"},\"fill_color\":{\"value\":\"#D95F02\"},\"hatch_color\":{\"value\":\"#D95F02\"},\"line_color\":{\"value\":\"#D95F02\"},\"top\":{\"field\":\"Intensity\"},\"width\":{\"value\":0.3},\"x\":{\"field\":\"rightWidth\"}},\"id\":\"1536\",\"type\":\"VBar\"},{\"attributes\":{\"coordinates\":null,\"data_source\":{\"id\":\"1460\"},\"glyph\":{\"id\":\"1462\"},\"group\":null,\"hover_glyph\":null,\"muted_glyph\":{\"id\":\"1464\"},\"nonselection_glyph\":{\"id\":\"1463\"},\"view\":{\"id\":\"1466\"}},\"id\":\"1465\",\"type\":\"GlyphRenderer\"},{\"attributes\":{\"data\":{\"Intensity\":[64678.45858579843],\"bottom_int\":[0],\"leftWidth\":[1189.199951171875],\"ms2_mscore\":[null],\"rightWidth\":[1203.800048828125]},\"selected\":{\"id\":\"1669\"},\"selection_policy\":{\"id\":\"1668\"}},\"id\":\"1547\",\"type\":\"ColumnDataSource\"},{\"attributes\":{\"callback\":null,\"tooltips\":[[\"index\",\"$index\"],[\"(rt,int)\",\"(@x{0.00}, @y)\"]]},\"id\":\"1443\",\"type\":\"HoverTool\"},{\"attributes\":{\"fill_alpha\":{\"value\":0.1},\"fill_color\":{\"value\":\"#1f77b4\"},\"hatch_alpha\":{\"value\":0.1},\"line_alpha\":{\"value\":0.1},\"line_color\":{\"value\":\"#1f77b4\"},\"x\":{\"field\":\"leftWidth\"},\"y\":{\"field\":\"Intensity\"}},\"id\":\"1543\",\"type\":\"Circle\"},{\"attributes\":{},\"id\":\"1433\",\"type\":\"BasicTicker\"},{\"attributes\":{\"bottom\":{\"field\":\"bottom_int\"},\"fill_alpha\":{\"value\":0.1},\"fill_color\":{\"value\":\"#E7298A\"},\"hatch_alpha\":{\"value\":0.1},\"hatch_color\":{\"value\":\"#E7298A\"},\"line_alpha\":{\"value\":0.1},\"line_color\":{\"value\":\"#E7298A\"},\"top\":{\"field\":\"Intensity\"},\"width\":{\"value\":0.3},\"x\":{\"field\":\"leftWidth\"}},\"id\":\"1569\",\"type\":\"VBar\"},{\"attributes\":{\"data\":{\"precursor_mz\":[null,null,null,null,null,null,null,null,null,null,null,null,null,null,null,null,null,null,null,null,null,null,null,null,null,null,null,null,null,null,null,null,null,null,null,null,null,null,null,null,null,null,null,null,null,null,null,null,null,null,null,null,null,null,null,null,null,null,null,null,null,null,null,null,null,null,null,null,null,null,null,null,null,null,null,null,null,null,null,null,null,null,null,null,null,null,null,null,null,null,null,null,null,null,null,null,null,null,null,null,null,null,null,null,null,null,null,null,null,null,null,null,null,null,null,null,null,null,null,null,null,null,null,null,null,null,null,null,null,null,null,null,null,null,null,null,null,null,null,null,null,null,null,null,null,null,null,null,null,null,null,null,null,null,null,null,null,null,null,null,null,null,null,null,null,null,null,null,null,null,null,null,null,null,null,null,null,null,null,null,null,null,null,null,null,null,null,null,null,null,null,null,null],\"product_charge\":[null,null,null,null,null,null,null,null,null,null,null,null,null,null,null,null,null,null,null,null,null,null,null,null,null,null,null,null,null,null,null,null,null,null,null,null,null,null,null,null,null,null,null,null,null,null,null,null,null,null,null,null,null,null,null,null,null,null,null,null,null,null,null,null,null,null,null,null,null,null,null,null,null,null,null,null,null,null,null,null,null,null,null,null,null,null,null,null,null,null,null,null,null,null,null,null,null,null,null,null,null,null,null,null,null,null,null,null,null,null,null,null,null,null,null,null,null,null,null,null,null,null,null,null,null,null,null,null,null,null,null,null,null,null,null,null,null,null,null,null,null,null,null,null,null,null,null,null,null,null,null,null,null,null,null,null,null,null,null,null,null,null,null,null,null,null,null,null,null,null,null,null,null,null,null,null,null,null,null,null,null,null,null,null,null,null,null,null,null,null,null,null,null],\"product_mz\":[null,null,null,null,null,null,null,null,null,null,null,null,null,null,null,null,null,null,null,null,null,null,null,null,null,null,null,null,null,null,null,null,null,null,null,null,null,null,null,null,null,null,null,null,null,null,null,null,null,null,null,null,null,null,null,null,null,null,null,null,null,null,null,null,null,null,null,null,null,null,null,null,null,null,null,null,null,null,null,null,null,null,null,null,null,null,null,null,null,null,null,null,null,null,null,null,null,null,null,null,null,null,null,null,null,null,null,null,null,null,null,null,null,null,null,null,null,null,null,null,null,null,null,null,null,null,null,null,null,null,null,null,null,null,null,null,null,null,null,null,null,null,null,null,null,null,null,null,null,null,null,null,null,null,null,null,null,null,null,null,null,null,null,null,null,null,null,null,null,null,null,null,null,null,null,null,null,null,null,null,null,null,null,null,null,null,null,null,null,null,null,null,null],\"x\":{\"__ndarray__\":\"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\",\"dtype\":\"float64\",\"order\":\"little\",\"shape\":[193]},\"y\":{\"__ndarray__\":\"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\",\"dtype\":\"float64\",\"order\":\"little\",\"shape\":[193]}},\"selected\":{\"id\":\"1655\"},\"selection_policy\":{\"id\":\"1654\"}},\"id\":\"1467\",\"type\":\"ColumnDataSource\"},{\"attributes\":{\"fill_alpha\":{\"value\":0.2},\"fill_color\":{\"value\":\"#1f77b4\"},\"hatch_alpha\":{\"value\":0.2},\"line_alpha\":{\"value\":0.2},\"line_color\":{\"value\":\"#1f77b4\"},\"x\":{\"field\":\"leftWidth\"},\"y\":{\"field\":\"Intensity\"}},\"id\":\"1563\",\"type\":\"Circle\"},{\"attributes\":{},\"id\":\"1426\",\"type\":\"LinearScale\"},{\"attributes\":{\"line_alpha\":0.1,\"line_color\":\"#ff7f0e\",\"line_width\":2,\"x\":{\"field\":\"x\"},\"y\":{\"field\":\"y\"}},\"id\":\"1477\",\"type\":\"Line\"},{\"attributes\":{\"bottom\":{\"field\":\"bottom_int\"},\"fill_alpha\":{\"value\":0.2},\"fill_color\":{\"value\":\"#D95F02\"},\"hatch_alpha\":{\"value\":0.2},\"hatch_color\":{\"value\":\"#D95F02\"},\"line_alpha\":{\"value\":0.2},\"line_color\":{\"value\":\"#D95F02\"},\"top\":{\"field\":\"Intensity\"},\"width\":{\"value\":0.3},\"x\":{\"field\":\"rightWidth\"}},\"id\":\"1538\",\"type\":\"VBar\"},{\"attributes\":{\"data\":{\"precursor_mz\":[null,null,null,null,null,null,null,null,null,null,null,null,null,null,null,null,null,null,null,null,null,null,null,null,null,null,null,null,null,null,null,null,null,null,null,null,null,null,null,null,null,null,null,null,null,null,null,null,null,null,null,null,null,null,null,null,null,null,null,null,null,null,null,null,null,null,null,null,null,null,null,null,null,null,null,null,null,null,null,null,null,null,null,null,null,null,null,null,null,null,null,null,null,null,null,null,null,null,null,null,null,null,null,null,null,null,null,null,null,null,null,null,null,null,null,null,null,null,null,null,null,null,null,null,null,null,null,null,null,null,null,null,null,null,null,null,null,null,null,null,null,null,null,null,null,null,null,null,null,null,null,null,null,null,null,null,null,null,null,null,null,null,null,null,null,null,null,null,null,null,null,null,null,null,null,null,null,null,null,null,null,null,null,null,null,null,null,null,null,null,null,null,null],\"product_charge\":[null,null,null,null,null,null,null,null,null,null,null,null,null,null,null,null,null,null,null,null,null,null,null,null,null,null,null,null,null,null,null,null,null,null,null,null,null,null,null,null,null,null,null,null,null,null,null,null,null,null,null,null,null,null,null,null,null,null,null,null,null,null,null,null,null,null,null,null,null,null,null,null,null,null,null,null,null,null,null,null,null,null,null,null,null,null,null,null,null,null,null,null,null,null,null,null,null,null,null,null,null,null,null,null,null,null,null,null,null,null,null,null,null,null,null,null,null,null,null,null,null,null,null,null,null,null,null,null,null,null,null,null,null,null,null,null,null,null,null,null,null,null,null,null,null,null,null,null,null,null,null,null,null,null,null,null,null,null,null,null,null,null,null,null,null,null,null,null,null,null,null,null,null,null,null,null,null,null,null,null,null,null,null,null,null,null,null,null,null,null,null,null,null],\"product_mz\":[null,null,null,null,null,null,null,null,null,null,null,null,null,null,null,null,null,null,null,null,null,null,null,null,null,null,null,null,null,null,null,null,null,null,null,null,null,null,null,null,null,null,null,null,null,null,null,null,null,null,null,null,null,null,null,null,null,null,null,null,null,null,null,null,null,null,null,null,null,null,null,null,null,null,null,null,null,null,null,null,null,null,null,null,null,null,null,null,null,null,null,null,null,null,null,null,null,null,null,null,null,null,null,null,null,null,null,null,null,null,null,null,null,null,null,null,null,null,null,null,null,null,null,null,null,null,null,null,null,null,null,null,null,null,null,null,null,null,null,null,null,null,null,null,null,null,null,null,null,null,null,null,null,null,null,null,null,null,null,null,null,null,null,null,null,null,null,null,null,null,null,null,null,null,null,null,null,null,null,null,null,null,null,null,null,null,null,null,null,null,null,null,null],\"x\":{\"__ndarray__\":\"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\",\"dtype\":\"float64\",\"order\":\"little\",\"shape\":[193]},\"y\":{\"__ndarray__\":\"AAAAAAAAAAB1VmKN0z9aQFOrYtn5/2RAdVZijdM/WkAvMYFIEABVQHUdv2U5AEVAHLoYM3iAT0C28zVf559nQBy6GDN4gE9AHLoYM3iAT0CT1//8MoBnQHUdv2U5AEVAdVZijdM/WkAvMYFIEABVQPJvEJtCADVALzGBSBAAVUCqWTzDE4BfQJt6cbgG4GRAU6ti2fn/ZECbenG4BuBkQLbzNV/nn2dAdVZijdM/WkB1VmKN0z9aQC8xgUgQAFVAdR2/ZTkARUDybxCbQgA1QM3K85tIAFpALzGBSBAAVUB1Hb9lOQBFQAAAAAAAAAAA8m8Qm0IANUDybxCbQgA1QBy6GDN4gE9ALzGBSBAAVUDNyvObSABaQKpZPMMTgF9ALzGBSBAAVUAvMYFIEABVQBy6GDN4gE9AHLoYM3iAT0CqWTzDE4BfQHUdv2U5AEVAdR2/ZTkARUDybxCbQgA1QHUdv2U5AEVA8m8Qm0IANUB1Hb9lOQBFQC8xgUgQAFVAdVZijdM/WkCqWTzDE4BfQGpMmQunP2pALzGBSBAAVUAvMYFIEABVQBy6GDN4gE9AAAAAAAAAAAAvMYFIEABVQIMjLib/X2JAdR2/ZTkARUAAAAAAAAAAABy6GDN4gE9A8m8Qm0IANUAcuhgzeIBPQHUdv2U5AEVAdVZijdM/WkDybxCbQgA1QAAAAAAAAAAAdVZijdM/WkB1Hb9lOQBFQPJvEJtCADVAdVZijdM/WkB1VmKN0z9aQPJvEJtCADVAdVZijdM/WkB1VmKN0z9aQFOrYtn5/2RAtvM1X+efZ0CJWxmDMEBiQHVWYo3TP1pAdR2/ZTkARUB1VmKN0z9aQKWDHiwdQF9AAAAAAAAAAACDIy4m/19iQHVWYo3TP1pAHLoYM3iAT0AvMYFIEABVQC8xgUgQAFVAdVZijdM/WkCJWxmDMEBiQKWDHiwdQF9ALzGBSBAAVUAvMYFIEABVQIl8WBbu73BAWeybuQHgeEA8Sm43t4eDQIkrBWq0/5NAx5hJnj+QnUDxtGrg3qOfQI65sNLXq5tASlb5utpfiUD1a/uQ3b98QFOrYtn5/2RAYUqngxxgckC28zVf559nQLLQ990T8HRAmh/6Obf/dEB6+HPkMGBvQKpZPMMTgF9AHLoYM3iAT0B1Hb9lOQBFQLbzNV/nn2dAqlk8wxOAX0BTq2LZ+f9kQAAAAAAAAAAAdR2/ZTkARUAcuhgzeIBPQKpZPMMTgF9AtvM1X+efZ0DN9Izc8N9sQHVWYo3TP1pAqlk8wxOAX0CDIy4m/19iQIMjLib/X2JAdR2/ZTkARUB1VmKN0z9aQBy6GDN4gE9AHLoYM3iAT0DNyvObSABaQC8xgUgQAFVAdVZijdM/WkB1VmKN0z9aQBy6GDN4gE9AzfSM3PDfbEAvMYFIEABVQJt6cbgG4GRAqlk8wxOAX0B1VmKN0z9aQKpZPMMTgF9AzfSM3PDfbEBTq2LZ+f9kQIMjLib/X2JAgyMuJv9fYkCqWTzDE4BfQJt6cbgG4GRA3Y4TmqEvekBxwT+5HYB3QJpBNxgcgG9ALzGBSBAAVUCqWTzDE4BfQKpZPMMTgF9AU6ti2fn/ZECqWTzDE4BfQKpZPMMTgF9AgyMuJv9fYkB1Hb9lOQBFQKpZPMMTgF9A8m8Qm0IANUCqWTzDE4BfQHVWYo3TP1pAHLoYM3iAT0CqWTzDE4BfQIMjLib/X2JAtvM1X+efZ0CDIy4m/19iQIMjLib/X2JAqlk8wxOAX0BTq2LZ+f9kQC8xgUgQAFVALzGBSBAAVUAcuhgzeIBPQM30jNzw32xAHLoYM3iAT0B1VmKN0z9aQHVWYo3TP1pAqlk8wxOAX0B1VmKN0z9aQBy6GDN4gE9A8m8Qm0IANUAAAAAAAAAAABy6GDN4gE9AHLoYM3iAT0AcuhgzeIBPQHVWYo3TP1pAqlk8wxOAX0AcuhgzeIBPQHUdv2U5AEVAougDC1kgakCqWTzDE4BfQFXrcew/gHNAiXxYFu7vcECaQTcYHIBvQCnMDSQxsHNAtvM1X+efZ0A=\",\"dtype\":\"float64\",\"order\":\"little\",\"shape\":[193]}},\"selected\":{\"id\":\"1663\"},\"selection_policy\":{\"id\":\"1662\"}},\"id\":\"1495\",\"type\":\"ColumnDataSource\"},{\"attributes\":{\"source\":{\"id\":\"1528\"}},\"id\":\"1540\",\"type\":\"CDSView\"},{\"attributes\":{\"fill_alpha\":{\"value\":0},\"fill_color\":{\"value\":\"#1f77b4\"},\"hatch_alpha\":{\"value\":0},\"line_alpha\":{\"value\":0},\"line_color\":{\"value\":\"#1f77b4\"},\"x\":{\"field\":\"leftWidth\"},\"y\":{\"field\":\"Intensity\"}},\"id\":\"1542\",\"type\":\"Circle\"},{\"attributes\":{\"coordinates\":null,\"data_source\":{\"id\":\"1528\"},\"glyph\":{\"id\":\"1542\"},\"group\":null,\"hover_glyph\":null,\"muted_glyph\":{\"id\":\"1544\"},\"name\":\"leftWidth_apex_point\",\"nonselection_glyph\":{\"id\":\"1543\"},\"view\":{\"id\":\"1546\"}},\"id\":\"1545\",\"type\":\"GlyphRenderer\"},{\"attributes\":{\"data\":{\"Intensity\":[28407.271623429402],\"bottom_int\":[0],\"leftWidth\":[1167.4000244140625],\"ms2_mscore\":[null],\"rightWidth\":[1189.199951171875]},\"selected\":{\"id\":\"1671\"},\"selection_policy\":{\"id\":\"1670\"}},\"id\":\"1566\",\"type\":\"ColumnDataSource\"},{\"attributes\":{\"fill_alpha\":{\"value\":0.2},\"fill_color\":{\"value\":\"#1f77b4\"},\"hatch_alpha\":{\"value\":0.2},\"line_alpha\":{\"value\":0.2},\"line_color\":{\"value\":\"#1f77b4\"},\"x\":{\"field\":\"leftWidth\"},\"y\":{\"field\":\"Intensity\"}},\"id\":\"1544\",\"type\":\"Circle\"},{\"attributes\":{\"bottom\":{\"field\":\"bottom_int\"},\"fill_alpha\":{\"value\":0.2},\"fill_color\":{\"value\":\"#7570B3\"},\"hatch_alpha\":{\"value\":0.2},\"hatch_color\":{\"value\":\"#7570B3\"},\"line_alpha\":{\"value\":0.2},\"line_color\":{\"value\":\"#7570B3\"},\"top\":{\"field\":\"Intensity\"},\"width\":{\"value\":0.3},\"x\":{\"field\":\"rightWidth\"}},\"id\":\"1557\",\"type\":\"VBar\"},{\"attributes\":{\"line_alpha\":0.5,\"line_color\":\"#ff7f0e\",\"line_width\":2,\"x\":{\"field\":\"x\"},\"y\":{\"field\":\"y\"}},\"id\":\"1476\",\"type\":\"Line\"},{\"attributes\":{\"source\":{\"id\":\"1528\"}},\"id\":\"1546\",\"type\":\"CDSView\"},{\"attributes\":{\"coordinates\":null,\"data_source\":{\"id\":\"1474\"},\"glyph\":{\"id\":\"1476\"},\"group\":null,\"hover_glyph\":null,\"muted_glyph\":{\"id\":\"1478\"},\"nonselection_glyph\":{\"id\":\"1477\"},\"view\":{\"id\":\"1480\"}},\"id\":\"1479\",\"type\":\"GlyphRenderer\"},{\"attributes\":{\"bottom\":{\"field\":\"bottom_int\"},\"fill_color\":{\"value\":\"#7570B3\"},\"hatch_color\":{\"value\":\"#7570B3\"},\"line_color\":{\"value\":\"#7570B3\"},\"top\":{\"field\":\"Intensity\"},\"width\":{\"value\":0.3},\"x\":{\"field\":\"leftWidth\"}},\"id\":\"1549\",\"type\":\"VBar\"},{\"attributes\":{},\"id\":\"1666\",\"type\":\"UnionRenderers\"},{\"attributes\":{\"fill_alpha\":{\"value\":0.1},\"fill_color\":{\"value\":\"#1f77b4\"},\"hatch_alpha\":{\"value\":0.1},\"line_alpha\":{\"value\":0.1},\"line_color\":{\"value\":\"#1f77b4\"},\"x\":{\"field\":\"leftWidth\"},\"y\":{\"field\":\"Intensity\"}},\"id\":\"1562\",\"type\":\"Circle\"},{\"attributes\":{\"coordinates\":null,\"data_source\":{\"id\":\"1547\"},\"glyph\":{\"id\":\"1561\"},\"group\":null,\"hover_glyph\":null,\"muted_glyph\":{\"id\":\"1563\"},\"name\":\"leftWidth_apex_point\",\"nonselection_glyph\":{\"id\":\"1562\"},\"view\":{\"id\":\"1565\"}},\"id\":\"1564\",\"type\":\"GlyphRenderer\"},{\"attributes\":{\"line_alpha\":0.5,\"line_color\":\"#ffbb78\",\"line_width\":2,\"x\":{\"field\":\"x\"},\"y\":{\"field\":\"y\"}},\"id\":\"1483\",\"type\":\"Line\"},{\"attributes\":{},\"id\":\"1667\",\"type\":\"Selection\"},{\"attributes\":{\"source\":{\"id\":\"1547\"}},\"id\":\"1559\",\"type\":\"CDSView\"},{\"attributes\":{\"bottom\":{\"field\":\"bottom_int\"},\"fill_alpha\":{\"value\":0.1},\"fill_color\":{\"value\":\"#E7298A\"},\"hatch_alpha\":{\"value\":0.1},\"hatch_color\":{\"value\":\"#E7298A\"},\"line_alpha\":{\"value\":0.1},\"line_color\":{\"value\":\"#E7298A\"},\"top\":{\"field\":\"Intensity\"},\"width\":{\"value\":0.3},\"x\":{\"field\":\"rightWidth\"}},\"id\":\"1575\",\"type\":\"VBar\"},{\"attributes\":{\"fill_alpha\":{\"value\":0},\"fill_color\":{\"value\":\"#1f77b4\"},\"hatch_alpha\":{\"value\":0},\"line_alpha\":{\"value\":0},\"line_color\":{\"value\":\"#1f77b4\"},\"x\":{\"field\":\"leftWidth\"},\"y\":{\"field\":\"Intensity\"}},\"id\":\"1561\",\"type\":\"Circle\"},{\"attributes\":{\"source\":{\"id\":\"1474\"}},\"id\":\"1480\",\"type\":\"CDSView\"},{\"attributes\":{\"bottom\":{\"field\":\"bottom_int\"},\"fill_color\":{\"value\":\"#E7298A\"},\"hatch_color\":{\"value\":\"#E7298A\"},\"line_color\":{\"value\":\"#E7298A\"},\"top\":{\"field\":\"Intensity\"},\"width\":{\"value\":0.3},\"x\":{\"field\":\"rightWidth\"}},\"id\":\"1574\",\"type\":\"VBar\"},{\"attributes\":{\"label\":{\"value\":\"y3^1\"},\"renderers\":[{\"id\":\"1479\"}]},\"id\":\"1505\",\"type\":\"LegendItem\"},{\"attributes\":{\"bottom\":{\"field\":\"bottom_int\"},\"fill_alpha\":{\"value\":0.2},\"fill_color\":{\"value\":\"#E7298A\"},\"hatch_alpha\":{\"value\":0.2},\"hatch_color\":{\"value\":\"#E7298A\"},\"line_alpha\":{\"value\":0.2},\"line_color\":{\"value\":\"#E7298A\"},\"top\":{\"field\":\"Intensity\"},\"width\":{\"value\":0.3},\"x\":{\"field\":\"rightWidth\"}},\"id\":\"1576\",\"type\":\"VBar\"},{\"attributes\":{\"overlay\":{\"id\":\"1442\"}},\"id\":\"1438\",\"type\":\"BoxZoomTool\"},{\"attributes\":{\"data\":{\"precursor_mz\":[null,null,null,null,null,null,null,null,null,null,null,null,null,null,null,null,null,null,null,null,null,null,null,null,null,null,null,null,null,null,null,null,null,null,null,null,null,null,null,null,null,null,null,null,null,null,null,null,null,null,null,null,null,null,null,null,null,null,null,null,null,null,null,null,null,null,null,null,null,null,null,null,null,null,null,null,null,null,null,null,null,null,null,null,null,null,null,null,null,null,null,null,null,null,null,null,null,null,null,null,null,null,null,null,null,null,null,null,null,null,null,null,null,null,null,null,null,null,null,null,null,null,null,null,null,null,null,null,null,null,null,null,null,null,null,null,null,null,null,null,null,null,null,null,null,null,null,null,null,null,null,null,null,null,null,null,null,null,null,null,null,null,null,null,null,null,null,null,null,null,null,null,null,null,null,null,null,null,null,null,null,null,null,null,null,null,null,null,null,null,null,null,null],\"product_charge\":[null,null,null,null,null,null,null,null,null,null,null,null,null,null,null,null,null,null,null,null,null,null,null,null,null,null,null,null,null,null,null,null,null,null,null,null,null,null,null,null,null,null,null,null,null,null,null,null,null,null,null,null,null,null,null,null,null,null,null,null,null,null,null,null,null,null,null,null,null,null,null,null,null,null,null,null,null,null,null,null,null,null,null,null,null,null,null,null,null,null,null,null,null,null,null,null,null,null,null,null,null,null,null,null,null,null,null,null,null,null,null,null,null,null,null,null,null,null,null,null,null,null,null,null,null,null,null,null,null,null,null,null,null,null,null,null,null,null,null,null,null,null,null,null,null,null,null,null,null,null,null,null,null,null,null,null,null,null,null,null,null,null,null,null,null,null,null,null,null,null,null,null,null,null,null,null,null,null,null,null,null,null,null,null,null,null,null,null,null,null,null,null,null],\"product_mz\":[null,null,null,null,null,null,null,null,null,null,null,null,null,null,null,null,null,null,null,null,null,null,null,null,null,null,null,null,null,null,null,null,null,null,null,null,null,null,null,null,null,null,null,null,null,null,null,null,null,null,null,null,null,null,null,null,null,null,null,null,null,null,null,null,null,null,null,null,null,null,null,null,null,null,null,null,null,null,null,null,null,null,null,null,null,null,null,null,null,null,null,null,null,null,null,null,null,null,null,null,null,null,null,null,null,null,null,null,null,null,null,null,null,null,null,null,null,null,null,null,null,null,null,null,null,null,null,null,null,null,null,null,null,null,null,null,null,null,null,null,null,null,null,null,null,null,null,null,null,null,null,null,null,null,null,null,null,null,null,null,null,null,null,null,null,null,null,null,null,null,null,null,null,null,null,null,null,null,null,null,null,null,null,null,null,null,null,null,null,null,null,null,null],\"x\":{\"__ndarray__\":\"mpmZmZkJgEBmZmZmZiaAQDMzMzMzQ4BAzczMzMxggECamZmZmX2AQGZmZmZmmoBAAAAAAAC4gEDNzMzMzNSAQJqZmZmZ8YBAMzMzMzMPgUAAAAAAACyBQM3MzMzMSIFAZmZmZmZmgUAzMzMzM4OBQAAAAAAAoIFAmpmZmZm9gUBmZmZmZtqBQDMzMzMz94FAzczMzMwUgkCamZmZmTGCQDMzMzMzT4JAAAAAAABsgkDNzMzMzIiCQGZmZmZmpoJAMzMzMzPDgkAAAAAAAOCCQJqZmZmZ/YJAZmZmZmYag0AzMzMzMzeDQM3MzMzMVINAmpmZmZlxg0BmZmZmZo6DQAAAAAAArINAzczMzMzIg0CamZmZmeWDQDMzMzMzA4RAAAAAAAAghEDNzMzMzDyEQGZmZmZmWoRAMzMzMzN3hEAAAAAAAJSEQJqZmZmZsYRAZmZmZmbOhEAAAAAAAOyEQM3MzMzMCIVAmpmZmZklhUAzMzMzM0OFQAAAAAAAYIVAzczMzMx8hUBmZmZmZpqFQDMzMzMzt4VAAAAAAADUhUCamZmZmfGFQGZmZmZmDoZAMzMzMzMrhkDNzMzMzEiGQJqZmZmZZYZAZmZmZmaChkAAAAAAAKCGQM3MzMzMvIZAmpmZmZnZhkAzMzMzM/eGQAAAAAAAFIdAzczMzMwwh0BmZmZmZk6HQDMzMzMza4dAzczMzMyIh0CamZmZmaWHQGZmZmZmwodAAAAAAADgh0DNzMzMzPyHQJqZmZmZGYhAMzMzMzM3iEAAAAAAAFSIQM3MzMzMcIhAZmZmZmaOiEAzMzMzM6uIQAAAAAAAyIhAmpmZmZnliEBmZmZmZgKJQDMzMzMzH4lAzczMzMw8iUCamZmZmVmJQGZmZmZmdolAAAAAAACUiUDNzMzMzLCJQJqZmZmZzYlAMzMzMzPriUAAAAAAAAiKQJqZmZmZJYpAZmZmZmZCikAzMzMzM1+KQM3MzMzMfIpAmpmZmZmZikBmZmZmZraKQAAAAAAA1IpAzczMzMzwikCamZmZmQ2LQDMzMzMzK4tAAAAAAABIi0DNzMzMzGSLQGZmZmZmgotAMzMzMzOfi0AAAAAAALyLQJqZmZmZ2YtAZmZmZmb2i0AzMzMzMxOMQM3MzMzMMIxAmpmZmZlNjEAzMzMzM2uMQAAAAAAAiIxAzczMzMykjEBmZmZmZsKMQDMzMzMz34xAAAAAAAD8jECamZmZmRmNQGZmZmZmNo1AMzMzMzNTjUDNzMzMzHCNQJqZmZmZjY1AZmZmZmaqjUAAAAAAAMiNQM3MzMzM5I1AmpmZmZkBjkAzMzMzMx+OQAAAAAAAPI5AzczMzMxYjkBmZmZmZnaOQDMzMzMzk45AAAAAAACwjkCamZmZmc2OQGZmZmZm6o5AMzMzMzMHj0DNzMzMzCSPQJqZmZmZQY9AMzMzMzNfj0AAAAAAAHyPQM3MzMzMmI9AZmZmZma2j0AzMzMzM9OPQAAAAAAA8I9AzczMzMwGkEAzMzMzMxWQQJqZmZmZI5BAZmZmZmYykEDNzMzMzECQQDMzMzMzT5BAAAAAAABekEBmZmZmZmyQQM3MzMzMepBAmpmZmZmJkEAAAAAAAJiQQM3MzMzMppBAMzMzMzO1kECamZmZmcOQQGZmZmZm0pBAzczMzMzgkEAzMzMzM++QQAAAAAAA/pBAZmZmZmYMkUDNzMzMzBqRQJqZmZmZKZFAAAAAAAA4kUBmZmZmZkaRQDMzMzMzVZFAmpmZmZljkUAAAAAAAHKRQM3MzMzMgJFAMzMzMzOPkUCamZmZmZ2RQGZmZmZmrJFAzczMzMy6kUAzMzMzM8mRQAAAAAAA2JFAZmZmZmbmkUAzMzMzM/WRQJqZmZmZA5JAAAAAAAASkkDNzMzMzCCSQDMzMzMzL5JAmpmZmZk9kkBmZmZmZkySQM3MzMzMWpJAMzMzMzNpkkAAAAAAAHiSQGZmZmZmhpJAzczMzMyUkkCamZmZmaOSQAAAAAAAspJAZmZmZmbAkkAzMzMzM8+SQJqZmZmZ3ZJAAAAAAADskkA=\",\"dtype\":\"float64\",\"order\":\"little\",\"shape\":[193]},\"y\":{\"__ndarray__\":\"uWj8sQackEBEq8GNNIiUQKgsz7nY+5NAmPAAqMyHk0C1bPX/8I+XQO9NludNzJZAQ7jj4UAKokBfpyQ589+hQJdV9IvEHaBAWqx9CTwuoEDdz6mtxZujQIebIrM5WqJA7tilHE6AqEChN0goVaysQKpbo42iA6tAHWTMqDf+oUBEBluy38miQGQ7lpo6+qBAAg/ooWQsm0C+6M0TGiCWQCZNOVTd15pA5OViFee3oUCW4zas4++jQLNkxBDM26RALQEU2DZ+o0De1gvBAiSnQIrfTDRMMKpA0qhRAKuhpkBlIzr0S8iWQM/F0Yq565FAnFJr7SZMkEDpfrQirOeZQMOiFaLqR6BArJ1wrx2apUAB6KvY1k+bQLXgsmGLE5pA5j3b6t0rlEB1LBiAJGyYQI3FV5s67JlAu4vmX09okkDOESxcUxiWQODh3OpJBJNAzbYPKkrAlkCwN+KbNViQQGrubWxP8I9An4jxc+ZfkkDaGXe0+nOWQPYKcTMhYJhAERXzs0wUmEBBs+loVlyUQNoZd7T6c5ZAjhPUhQtUmkBGgUDG34OUQG+msIAHRJFALvmJGzbIhkBeFbfo+m+JQB8AG34dQIJAoDRrj1Foh0BtDxvDMOiCQP1MJ7Y87JBAMwfVl/13h0AgGMugRfiNQHbrc9nmN49ALvmJGzbIhkB6mcSRMxCIQGrubWxP8I9AIBjLoEX4jUBBSsAgzveLQGE5JJtkSI9Aj7dViC7EkUDt7M692EuWQP1SPDDl96FAG93+dKK7pUDgaOCgEPqoQGnB6D4yFqdAEKIKCJuXqEBV6LeGna2mQAfLEL9FGKVAKAGXM5UhqkCnuR28y2eiQF/Hw0bu55pAkVLqlvuznUAsSfNIUJiTQJt/HxQN9JtAfthrdBxglUD/Nq2AInyTQL8H5hOOy5xAeoFaCAHkk0B+h5NMQI2yQJ8iw1v+s7FAphlv6BXErkBKSJak36uRQPdvTcQofJtAb4KykhdgmkAJVPwU+yegQNuUeP8yOJxA2eu5+lDglEBDuOPhQAqiQIjw9HDHhL9A4bOKI0OOtEC7+JDX29OnQMXOnXThG6dASkR43DMAoUAb9WHIcCiZQGot9BewF5hAiKmirsyLl0D90xe1SsSWQGrubWxP8I9A1gv5MU3gkkBUeSfVKlCQQIuxwnMOLJhARafuKtm3l0DHMeEa+DeYQL7ozRMaIJZAq7AL+mycmEDqdeGi04uaQOY92+rdK5RA+dxzk13gmkB65rzN8rOZQHWP8CzTQ6dAYR/ce94ho0CwTwm+c8ieQD+B2wAOkJxAzj2e1WzAnEDvkp2GDoySQNoZd7T6c5ZAzwpm1e13lkAHialukGeZQJOoRzvd95RAOr2eLNZ/lkD1vYBmUNyTQEBJ3UNP/J9AZUv21q2zl0AyqfbZtJ+XQAGRpCrvO5lAAuuk4y64mECVn9iVyaebQFsam70QNKNAHhYXdhGMnkBWYmak6bOeQFMOjcwQkKNA1fxYTP23n0Ay8lvO72OmQPyT2lB0EJ5A9Xy7uPc/qkC9mKjvNgCpQAjXkgn+y6ZAft9c/A1QnEBb+tYNaSSYQLlo/LEGnJBAk6hHO933lECg1kgXaoCfQPjUbF0HeqFAPe7RkPd1oEAcBsOH6U+iQBwGw4fpT6JAQ7jj4UAKokDjrVjorPuiQF21+a7NGaNAvU9ghKZ3pkAXMFZ6O0asQKaG1tgbtKdAvIA9SQDQpkA09HcbVByoQBY9joKCv6xA77MSkvPJqEDn6N+t+lekQMiSnTQ1MqRAIQRH3OYhpEAqbQZ+zRuaQOtj/hMiRJBAQ91YfDlYi0Cn1iMD3neKQMCJgSQeWJFAkGx46bVVokCTag0l322gQF9Xcu0EXKFA1R8r6zQwlUCYp/MVNOiTQJx/rOlhwqZAe1ZpXECQpUC8dOFbBaymQJdFqowN9KRAt97jjCSgnEB2TCEzC8ydQN5d/NdqZJhAwr5AbOtVoUBNy0qALSaqQA3y+iPanLNA7xDyEDQbtEDVOd5XW5qrQJn8M+EJDJRA/RP0eFWwmUA=\",\"dtype\":\"float64\",\"order\":\"little\",\"shape\":[193]}},\"selected\":{\"id\":\"1657\"},\"selection_policy\":{\"id\":\"1656\"}},\"id\":\"1474\",\"type\":\"ColumnDataSource\"},{\"attributes\":{\"fill_alpha\":{\"value\":0},\"fill_color\":{\"value\":\"#1f77b4\"},\"hatch_alpha\":{\"value\":0},\"line_alpha\":{\"value\":0},\"line_color\":{\"value\":\"#1f77b4\"},\"x\":{\"field\":\"leftWidth\"},\"y\":{\"field\":\"Intensity\"}},\"id\":\"1580\",\"type\":\"Circle\"}],\"root_ids\":[\"1419\"]},\"title\":\"Bokeh Application\",\"version\":\"2.4.3\"}};\n",
       "  const render_items = [{\"docid\":\"8d9c4d1b-329d-428a-9ed9-92f0514e4d9b\",\"root_ids\":[\"1419\"],\"roots\":{\"1419\":\"7f9612ac-11a7-4e04-a1c9-f3b3e99f91fc\"}}];\n",
       "  root.Bokeh.embed.embed_items_notebook(docs_json, render_items);\n",
       "  }\n",
       "  if (root.Bokeh !== undefined) {\n",
       "    embed_document(root);\n",
       "  } else {\n",
       "    let attempts = 0;\n",
       "    const timer = setInterval(function(root) {\n",
       "      if (root.Bokeh !== undefined) {\n",
       "        clearInterval(timer);\n",
       "        embed_document(root);\n",
       "      } else {\n",
       "        attempts++;\n",
       "        if (attempts > 100) {\n",
       "          clearInterval(timer);\n",
       "          console.log(\"Bokeh: ERROR: Unable to run BokehJS code because BokehJS library is missing\");\n",
       "        }\n",
       "      }\n",
       "    }, 10, root)\n",
       "  }\n",
       "})(window);"
      ],
      "application/vnd.bokehjs_exec.v0+json": ""
     },
     "metadata": {
      "application/vnd.bokehjs_exec.v0+json": {
       "id": "1419"
      }
     },
     "output_type": "display_data"
    }
   ],
   "source": [
    "transitionGroup.plot(transitionGroupFeatures=features)"
   ]
  },
  {
   "cell_type": "markdown",
   "id": "0e7477bd-5806-49df-93b3-eb048d007f90",
   "metadata": {
    "editable": true,
    "slideshow": {
     "slide_type": ""
    },
    "tags": []
   },
   "source": [
    "Note: Some of the intensities of the features are so small they cannot be seen."
   ]
  },
  {
   "cell_type": "markdown",
   "id": "0032fdca-2b0a-4acd-a820-ab98aa88db80",
   "metadata": {
    "editable": true,
    "slideshow": {
     "slide_type": ""
    },
    "tags": []
   },
   "source": [
    "### Implementing Your Own Peak Picker"
   ]
  },
  {
   "cell_type": "raw",
   "id": "5273a145-3184-42a4-a8a4-1fca58e00a46",
   "metadata": {
    "editable": true,
    "raw_mimetype": "text/restructuredtext",
    "slideshow": {
     "slide_type": ""
    },
    "tags": []
   },
   "source": [
    "To implement your own peak picker create a custom python class that inherits from the :py:class:`~peakPickers.GenericPeakPicker` the only required method to implement is the :py:func:`~peakPickers.GenericPeakPicker.pick` method which performs peak picking. "
   ]
  }
 ],
 "metadata": {
  "kernelspec": {
   "display_name": "Python 3 (ipykernel)",
   "language": "python",
   "name": "python3"
  },
  "language_info": {
   "codemirror_mode": {
    "name": "ipython",
    "version": 3
   },
   "file_extension": ".py",
   "mimetype": "text/x-python",
   "name": "python",
   "nbconvert_exporter": "python",
   "pygments_lexer": "ipython3",
   "version": "3.9.18"
  }
 },
 "nbformat": 4,
 "nbformat_minor": 5
}
