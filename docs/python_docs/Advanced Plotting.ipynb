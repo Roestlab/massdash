{
 "cells": [
  {
   "cell_type": "markdown",
   "id": "8d9f8656-ab02-411d-9369-693546ee8284",
   "metadata": {
    "editable": true,
    "slideshow": {
     "slide_type": ""
    },
    "tags": []
   },
   "source": [
    "# Advanced Plotting "
   ]
  },
  {
   "cell_type": "raw",
   "id": "49385c01-f910-4268-bb94-37b81fb0b87b",
   "metadata": {
    "editable": true,
    "raw_mimetype": "text/restructuredtext",
    "slideshow": {
     "slide_type": ""
    },
    "tags": []
   },
   "source": [
    ".. currentmodule:: massdash"
   ]
  },
  {
   "cell_type": "markdown",
   "id": "77fd2f73-2c5e-4c22-b3a0-89903aaf3a22",
   "metadata": {
    "editable": true,
    "slideshow": {
     "slide_type": ""
    },
    "tags": []
   },
   "source": [
    "This contains an overview of how to generate plots directly from the plotting library."
   ]
  },
  {
   "cell_type": "markdown",
   "id": "36d69fdf-31f6-4216-8c68-2ac9c910bd55",
   "metadata": {
    "editable": true,
    "slideshow": {
     "slide_type": ""
    },
    "tags": []
   },
   "source": [
    "<div class=\"alert alert-warning\">\n",
    "Warning\n",
    "    \n",
    "Plotting library interface is currently *unstable*. Please be aware that future changes may break the current interface!\n",
    "</div>"
   ]
  },
  {
   "cell_type": "code",
   "execution_count": 2,
   "id": "2f7b4ad2-0486-4f1b-ba89-11e7dd381b0e",
   "metadata": {
    "editable": true,
    "nbsphinx": "hidden",
    "slideshow": {
     "slide_type": ""
    },
    "tags": []
   },
   "outputs": [],
   "source": [
    "%load_ext autoreload\n",
    "%autoreload 2"
   ]
  },
  {
   "cell_type": "markdown",
   "id": "967fa58d-ebac-45f0-884b-3ac3b4ff538b",
   "metadata": {
    "editable": true,
    "slideshow": {
     "slide_type": ""
    },
    "tags": []
   },
   "source": [
    "MassSeer is also capable of generating many different other plot types. Since these plots are more complex, plotting is more involved. "
   ]
  },
  {
   "cell_type": "code",
   "execution_count": 1,
   "id": "0788e100-89c8-4b8f-af7e-3be17096a0a3",
   "metadata": {
    "editable": true,
    "nbsphinx": "hidden",
    "slideshow": {
     "slide_type": ""
    },
    "tags": []
   },
   "outputs": [],
   "source": [
    "# Please run this before executing any cell\n",
    "import os\n",
    "os.chdir(\"../../test/test_data/\") #### Insert path to data, this is the path to the tutorial data. "
   ]
  },
  {
   "cell_type": "raw",
   "id": "5f520911-cb20-4ad8-9f57-57f5b72fc726",
   "metadata": {
    "editable": true,
    "raw_mimetype": "text/restructuredtext",
    "slideshow": {
     "slide_type": ""
    },
    "tags": []
   },
   "source": [
    "In general to create a plot we have to fetch the data \n",
    "\n",
    "1. Fetch the data in either a :py:class:`~structs.TransitionGroup` or :py:class:`~structs.FeatureMap` object, depending on our plottype. \n",
    "2. Initiate a :py:class:`~plotting.PlotConfig`\n",
    "3. Initiate a Plotter object (e.g. :py:class:`~plotting.InterativePlotter` :py:class:`~plotting.InteractiveTwoDimensionalPlotter`,  :py:class:`~plotting.InteractiveThreeDimensionalPlotter`) with the  :py:class:`~plotting.PlotConfig`\n",
    "4. Call the :py:class:`~plotting.GenericPlotter.plot` method with the :py:class:`~structs.TransitionGroup` or :py:class:`~structs.FeatureMap` object.\n",
    "5. Show the plot (bokeh or plotly backend depending on the plot) "
   ]
  },
  {
   "cell_type": "markdown",
   "id": "ac70cb9d-950a-4b5b-8101-e82b4c7fbeec",
   "metadata": {
    "editable": true,
    "slideshow": {
     "slide_type": ""
    },
    "tags": []
   },
   "source": [
    "Here is an example of how we can plot a chromatogram directly using the plotting library. "
   ]
  },
  {
   "cell_type": "markdown",
   "id": "3fa53891-f431-4144-9052-fb080b1e127c",
   "metadata": {
    "editable": true,
    "slideshow": {
     "slide_type": ""
    },
    "tags": []
   },
   "source": [
    "## 1. Fetch the Target Data"
   ]
  },
  {
   "cell_type": "raw",
   "id": "3d640e75-db7a-4ede-acd4-c9c989c850dd",
   "metadata": {
    "editable": true,
    "raw_mimetype": "text/restructuredtext",
    "slideshow": {
     "slide_type": ""
    },
    "tags": []
   },
   "source": [
    "First, lets load our a sample :py:class:`~structs.TransitionGroup` for plotting."
   ]
  },
  {
   "cell_type": "code",
   "execution_count": 2,
   "id": "efbbf242-6cb5-4e67-a771-38d8d5357d9a",
   "metadata": {
    "editable": true,
    "slideshow": {
     "slide_type": ""
    },
    "tags": []
   },
   "outputs": [
    {
     "name": "stdout",
     "output_type": "stream",
     "text": [
      "[2024-01-12 11:04:43,718] MzMLDataAccess - INFO - Opening mzml/ionMobilityTest.mzML file...: Elapsed 0.08490705490112305 ms\n",
      "[2024-01-12 11:04:43,719] MzMLDataAccess - INFO - There are 50 spectra and 0 chromatograms.\n",
      "[2024-01-12 11:04:43,720] MzMLDataAccess - INFO - There are 25 MS1 spectra and 25 MS2 spectra.\n"
     ]
    }
   ],
   "source": [
    "from massdash.loaders import MzMLDataLoader\n",
    "from massdash.structs import TargetedDIAConfig\n",
    "\n",
    "# Initate TargetedDIAConfig and set parameters\n",
    "extraction_config = TargetedDIAConfig()\n",
    "extraction_config.im_window = 0.2\n",
    "extraction_config.rt_window = 50\n",
    "extraction_config.mz_tol = 20\n",
    "\n",
    "# Initiate loader object\n",
    "loader = MzMLDataLoader(dataFiles=\"mzml/ionMobilityTest.mzML\",\n",
    "                        rsltsFile=\"osw/ionMobilityTest.osw\",\n",
    "                        rsltsFileType=\"OpenSWATH\")\n",
    "\n",
    "# fetch transitionGroup for target peptide\n",
    "transitionGroup = loader.loadTransitionGroups(\"AFVDFLSDEIK\", 2, extraction_config)['mzml/ionMobilityTest.mzML']"
   ]
  },
  {
   "cell_type": "markdown",
   "id": "737b9ab3-f48a-42bf-a30b-95edd83622f6",
   "metadata": {
    "editable": true,
    "slideshow": {
     "slide_type": ""
    },
    "tags": []
   },
   "source": [
    "If the above code block does not look familliar please visit the [Loading Spectrum Data](Loading\\ Spectrum\\ Data.ipynb) page."
   ]
  },
  {
   "cell_type": "markdown",
   "id": "de860daf-946f-4007-b20e-70c425847b60",
   "metadata": {
    "editable": true,
    "slideshow": {
     "slide_type": ""
    },
    "tags": []
   },
   "source": [
    "## 2. Initiate the PlotConfig Object"
   ]
  },
  {
   "cell_type": "raw",
   "id": "2ddc1ab8-3d9b-431f-9e55-8c5b01dc373a",
   "metadata": {
    "editable": true,
    "raw_mimetype": "text/restructuredtext",
    "slideshow": {
     "slide_type": ""
    },
    "tags": []
   },
   "source": [
    "A :py:class:`~plotting.PlotConfig` object is required to initiate any plotting object. "
   ]
  },
  {
   "cell_type": "markdown",
   "id": "00a6fee0-3f0e-4c09-91c2-114933aa583b",
   "metadata": {
    "editable": true,
    "slideshow": {
     "slide_type": ""
    },
    "tags": []
   },
   "source": [
    "### General Configurations"
   ]
  },
  {
   "cell_type": "raw",
   "id": "f4d81174-24ed-445f-b208-b4c56a4f0d79",
   "metadata": {
    "editable": true,
    "raw_mimetype": "text/restructuredtext",
    "slideshow": {
     "slide_type": ""
    },
    "tags": []
   },
   "source": [
    ".. autoclass:: massdash.plotting.PlotConfig\n",
    "   :noindex:"
   ]
  },
  {
   "cell_type": "markdown",
   "id": "3e579fa7-2042-40f1-930e-4f406ac76dfa",
   "metadata": {
    "editable": true,
    "slideshow": {
     "slide_type": ""
    },
    "tags": []
   },
   "source": [
    "For this example chromatogram we will use the following configuration set below"
   ]
  },
  {
   "cell_type": "code",
   "execution_count": 4,
   "id": "85647669-bf68-418c-ab54-671dc8faced6",
   "metadata": {
    "editable": true,
    "slideshow": {
     "slide_type": ""
    },
    "tags": []
   },
   "outputs": [],
   "source": [
    "from massseer.plotting import PlotConfig\n",
    "plotConfig = PlotConfig()\n",
    "plotConfig.include_ms1 = True\n",
    "plotConfig.include_ms2 = True\n",
    "plotConfig.aggregate_mslevels = True\n",
    "plotConfig.smoothing_dict = dict(type='sgolay',sgolay_polynomial_order=3, sgolay_frame_length=11) \n",
    "plotConfig.title = \"Test Chromatogram\""
   ]
  },
  {
   "cell_type": "markdown",
   "id": "8299e3a8-1466-4380-8ed6-cae648bbed5a",
   "metadata": {
    "editable": true,
    "slideshow": {
     "slide_type": ""
    },
    "tags": []
   },
   "source": [
    "## 3. Initiate the Plotting Object"
   ]
  },
  {
   "cell_type": "code",
   "execution_count": 5,
   "id": "bbc266d3-39ea-4d89-bf5e-b465fe25cd11",
   "metadata": {
    "editable": true,
    "slideshow": {
     "slide_type": ""
    },
    "tags": []
   },
   "outputs": [],
   "source": [
    "from massseer.plotting import InteractivePlotter\n",
    "plotter = InteractivePlotter(plotConfig)"
   ]
  },
  {
   "cell_type": "markdown",
   "id": "5f5f0e92-0908-4188-b1bc-9264d47d1057",
   "metadata": {
    "editable": true,
    "raw_mimetype": "",
    "slideshow": {
     "slide_type": ""
    },
    "tags": []
   },
   "source": [
    "## 4. Plot"
   ]
  },
  {
   "cell_type": "code",
   "execution_count": 6,
   "id": "1fb360cd-72ca-409c-8c26-864f3adeac81",
   "metadata": {
    "editable": true,
    "slideshow": {
     "slide_type": ""
    },
    "tags": []
   },
   "outputs": [
    {
     "data": {
      "text/html": [
       "<div class=\"bk-root\">\n",
       "        <a href=\"https://bokeh.org\" target=\"_blank\" class=\"bk-logo bk-logo-small bk-logo-notebook\"></a>\n",
       "        <span id=\"1095\">Loading BokehJS ...</span>\n",
       "    </div>\n"
      ]
     },
     "metadata": {},
     "output_type": "display_data"
    },
    {
     "data": {
      "application/javascript": "(function(root) {\n  function now() {\n    return new Date();\n  }\n\n  const force = true;\n\n  if (typeof root._bokeh_onload_callbacks === \"undefined\" || force === true) {\n    root._bokeh_onload_callbacks = [];\n    root._bokeh_is_loading = undefined;\n  }\n\nconst JS_MIME_TYPE = 'application/javascript';\n  const HTML_MIME_TYPE = 'text/html';\n  const EXEC_MIME_TYPE = 'application/vnd.bokehjs_exec.v0+json';\n  const CLASS_NAME = 'output_bokeh rendered_html';\n\n  /**\n   * Render data to the DOM node\n   */\n  function render(props, node) {\n    const script = document.createElement(\"script\");\n    node.appendChild(script);\n  }\n\n  /**\n   * Handle when an output is cleared or removed\n   */\n  function handleClearOutput(event, handle) {\n    const cell = handle.cell;\n\n    const id = cell.output_area._bokeh_element_id;\n    const server_id = cell.output_area._bokeh_server_id;\n    // Clean up Bokeh references\n    if (id != null && id in Bokeh.index) {\n      Bokeh.index[id].model.document.clear();\n      delete Bokeh.index[id];\n    }\n\n    if (server_id !== undefined) {\n      // Clean up Bokeh references\n      const cmd_clean = \"from bokeh.io.state import curstate; print(curstate().uuid_to_server['\" + server_id + \"'].get_sessions()[0].document.roots[0]._id)\";\n      cell.notebook.kernel.execute(cmd_clean, {\n        iopub: {\n          output: function(msg) {\n            const id = msg.content.text.trim();\n            if (id in Bokeh.index) {\n              Bokeh.index[id].model.document.clear();\n              delete Bokeh.index[id];\n            }\n          }\n        }\n      });\n      // Destroy server and session\n      const cmd_destroy = \"import bokeh.io.notebook as ion; ion.destroy_server('\" + server_id + \"')\";\n      cell.notebook.kernel.execute(cmd_destroy);\n    }\n  }\n\n  /**\n   * Handle when a new output is added\n   */\n  function handleAddOutput(event, handle) {\n    const output_area = handle.output_area;\n    const output = handle.output;\n\n    // limit handleAddOutput to display_data with EXEC_MIME_TYPE content only\n    if ((output.output_type != \"display_data\") || (!Object.prototype.hasOwnProperty.call(output.data, EXEC_MIME_TYPE))) {\n      return\n    }\n\n    const toinsert = output_area.element.find(\".\" + CLASS_NAME.split(' ')[0]);\n\n    if (output.metadata[EXEC_MIME_TYPE][\"id\"] !== undefined) {\n      toinsert[toinsert.length - 1].firstChild.textContent = output.data[JS_MIME_TYPE];\n      // store reference to embed id on output_area\n      output_area._bokeh_element_id = output.metadata[EXEC_MIME_TYPE][\"id\"];\n    }\n    if (output.metadata[EXEC_MIME_TYPE][\"server_id\"] !== undefined) {\n      const bk_div = document.createElement(\"div\");\n      bk_div.innerHTML = output.data[HTML_MIME_TYPE];\n      const script_attrs = bk_div.children[0].attributes;\n      for (let i = 0; i < script_attrs.length; i++) {\n        toinsert[toinsert.length - 1].firstChild.setAttribute(script_attrs[i].name, script_attrs[i].value);\n        toinsert[toinsert.length - 1].firstChild.textContent = bk_div.children[0].textContent\n      }\n      // store reference to server id on output_area\n      output_area._bokeh_server_id = output.metadata[EXEC_MIME_TYPE][\"server_id\"];\n    }\n  }\n\n  function register_renderer(events, OutputArea) {\n\n    function append_mime(data, metadata, element) {\n      // create a DOM node to render to\n      const toinsert = this.create_output_subarea(\n        metadata,\n        CLASS_NAME,\n        EXEC_MIME_TYPE\n      );\n      this.keyboard_manager.register_events(toinsert);\n      // Render to node\n      const props = {data: data, metadata: metadata[EXEC_MIME_TYPE]};\n      render(props, toinsert[toinsert.length - 1]);\n      element.append(toinsert);\n      return toinsert\n    }\n\n    /* Handle when an output is cleared or removed */\n    events.on('clear_output.CodeCell', handleClearOutput);\n    events.on('delete.Cell', handleClearOutput);\n\n    /* Handle when a new output is added */\n    events.on('output_added.OutputArea', handleAddOutput);\n\n    /**\n     * Register the mime type and append_mime function with output_area\n     */\n    OutputArea.prototype.register_mime_type(EXEC_MIME_TYPE, append_mime, {\n      /* Is output safe? */\n      safe: true,\n      /* Index of renderer in `output_area.display_order` */\n      index: 0\n    });\n  }\n\n  // register the mime type if in Jupyter Notebook environment and previously unregistered\n  if (root.Jupyter !== undefined) {\n    const events = require('base/js/events');\n    const OutputArea = require('notebook/js/outputarea').OutputArea;\n\n    if (OutputArea.prototype.mime_types().indexOf(EXEC_MIME_TYPE) == -1) {\n      register_renderer(events, OutputArea);\n    }\n  }\n  if (typeof (root._bokeh_timeout) === \"undefined\" || force === true) {\n    root._bokeh_timeout = Date.now() + 5000;\n    root._bokeh_failed_load = false;\n  }\n\n  const NB_LOAD_WARNING = {'data': {'text/html':\n     \"<div style='background-color: #fdd'>\\n\"+\n     \"<p>\\n\"+\n     \"BokehJS does not appear to have successfully loaded. If loading BokehJS from CDN, this \\n\"+\n     \"may be due to a slow or bad network connection. Possible fixes:\\n\"+\n     \"</p>\\n\"+\n     \"<ul>\\n\"+\n     \"<li>re-rerun `output_notebook()` to attempt to load from CDN again, or</li>\\n\"+\n     \"<li>use INLINE resources instead, as so:</li>\\n\"+\n     \"</ul>\\n\"+\n     \"<code>\\n\"+\n     \"from bokeh.resources import INLINE\\n\"+\n     \"output_notebook(resources=INLINE)\\n\"+\n     \"</code>\\n\"+\n     \"</div>\"}};\n\n  function display_loaded() {\n    const el = document.getElementById(\"1095\");\n    if (el != null) {\n      el.textContent = \"BokehJS is loading...\";\n    }\n    if (root.Bokeh !== undefined) {\n      if (el != null) {\n        el.textContent = \"BokehJS \" + root.Bokeh.version + \" successfully loaded.\";\n      }\n    } else if (Date.now() < root._bokeh_timeout) {\n      setTimeout(display_loaded, 100)\n    }\n  }\n\n  function run_callbacks() {\n    try {\n      root._bokeh_onload_callbacks.forEach(function(callback) {\n        if (callback != null)\n          callback();\n      });\n    } finally {\n      delete root._bokeh_onload_callbacks\n    }\n    console.debug(\"Bokeh: all callbacks have finished\");\n  }\n\n  function load_libs(css_urls, js_urls, callback) {\n    if (css_urls == null) css_urls = [];\n    if (js_urls == null) js_urls = [];\n\n    root._bokeh_onload_callbacks.push(callback);\n    if (root._bokeh_is_loading > 0) {\n      console.debug(\"Bokeh: BokehJS is being loaded, scheduling callback at\", now());\n      return null;\n    }\n    if (js_urls == null || js_urls.length === 0) {\n      run_callbacks();\n      return null;\n    }\n    console.debug(\"Bokeh: BokehJS not loaded, scheduling load and callback at\", now());\n    root._bokeh_is_loading = css_urls.length + js_urls.length;\n\n    function on_load() {\n      root._bokeh_is_loading--;\n      if (root._bokeh_is_loading === 0) {\n        console.debug(\"Bokeh: all BokehJS libraries/stylesheets loaded\");\n        run_callbacks()\n      }\n    }\n\n    function on_error(url) {\n      console.error(\"failed to load \" + url);\n    }\n\n    for (let i = 0; i < css_urls.length; i++) {\n      const url = css_urls[i];\n      const element = document.createElement(\"link\");\n      element.onload = on_load;\n      element.onerror = on_error.bind(null, url);\n      element.rel = \"stylesheet\";\n      element.type = \"text/css\";\n      element.href = url;\n      console.debug(\"Bokeh: injecting link tag for BokehJS stylesheet: \", url);\n      document.body.appendChild(element);\n    }\n\n    for (let i = 0; i < js_urls.length; i++) {\n      const url = js_urls[i];\n      const element = document.createElement('script');\n      element.onload = on_load;\n      element.onerror = on_error.bind(null, url);\n      element.async = false;\n      element.src = url;\n      console.debug(\"Bokeh: injecting script tag for BokehJS library: \", url);\n      document.head.appendChild(element);\n    }\n  };\n\n  function inject_raw_css(css) {\n    const element = document.createElement(\"style\");\n    element.appendChild(document.createTextNode(css));\n    document.body.appendChild(element);\n  }\n\n  const js_urls = [\"https://cdn.bokeh.org/bokeh/release/bokeh-2.4.3.min.js\", \"https://cdn.bokeh.org/bokeh/release/bokeh-gl-2.4.3.min.js\", \"https://cdn.bokeh.org/bokeh/release/bokeh-widgets-2.4.3.min.js\", \"https://cdn.bokeh.org/bokeh/release/bokeh-tables-2.4.3.min.js\", \"https://cdn.bokeh.org/bokeh/release/bokeh-mathjax-2.4.3.min.js\"];\n  const css_urls = [];\n\n  const inline_js = [    function(Bokeh) {\n      Bokeh.set_log_level(\"info\");\n    },\nfunction(Bokeh) {\n    }\n  ];\n\n  function run_inline_js() {\n    if (root.Bokeh !== undefined || force === true) {\n          for (let i = 0; i < inline_js.length; i++) {\n      inline_js[i].call(root, root.Bokeh);\n    }\nif (force === true) {\n        display_loaded();\n      }} else if (Date.now() < root._bokeh_timeout) {\n      setTimeout(run_inline_js, 100);\n    } else if (!root._bokeh_failed_load) {\n      console.log(\"Bokeh: BokehJS failed to load within specified timeout.\");\n      root._bokeh_failed_load = true;\n    } else if (force !== true) {\n      const cell = $(document.getElementById(\"1095\")).parents('.cell').data().cell;\n      cell.output_area.append_execute_result(NB_LOAD_WARNING)\n    }\n  }\n\n  if (root._bokeh_is_loading === 0) {\n    console.debug(\"Bokeh: BokehJS loaded, going straight to plotting\");\n    run_inline_js();\n  } else {\n    load_libs(css_urls, js_urls, function() {\n      console.debug(\"Bokeh: BokehJS plotting callback run at\", now());\n      run_inline_js();\n    });\n  }\n}(window));",
      "application/vnd.bokehjs_load.v0+json": ""
     },
     "metadata": {},
     "output_type": "display_data"
    },
    {
     "data": {
      "text/html": [
       "\n",
       "  <div class=\"bk-root\" id=\"60703af7-fa7a-4bc0-b1f8-9a581968df6f\" data-root-id=\"1002\"></div>\n"
      ]
     },
     "metadata": {},
     "output_type": "display_data"
    },
    {
     "data": {
      "application/javascript": "(function(root) {\n  function embed_document(root) {\n  const docs_json = {\"4ad9a4e9-8838-4114-88aa-291bb0f1a191\":{\"defs\":[],\"roots\":{\"references\":[{\"attributes\":{\"below\":[{\"id\":\"1011\"}],\"center\":[{\"id\":\"1014\"},{\"id\":\"1018\"}],\"height\":400,\"left\":[{\"id\":\"1015\"}],\"renderers\":[{\"id\":\"1044\"},{\"id\":\"1051\"},{\"id\":\"1058\"},{\"id\":\"1065\"},{\"id\":\"1072\"},{\"id\":\"1079\"},{\"id\":\"1086\"}],\"right\":[{\"id\":\"1038\"}],\"sizing_mode\":\"scale_width\",\"title\":{\"id\":\"1035\"},\"toolbar\":{\"id\":\"1027\"},\"toolbar_location\":\"above\",\"width\":800,\"x_range\":{\"id\":\"1003\"},\"x_scale\":{\"id\":\"1007\"},\"y_range\":{\"id\":\"1005\"},\"y_scale\":{\"id\":\"1009\"}},\"id\":\"1002\",\"subtype\":\"Figure\",\"type\":\"Plot\"},{\"attributes\":{\"coordinates\":null,\"data_source\":{\"id\":\"1067\"},\"glyph\":{\"id\":\"1069\"},\"group\":null,\"hover_glyph\":null,\"muted_glyph\":{\"id\":\"1071\"},\"nonselection_glyph\":{\"id\":\"1070\"},\"view\":{\"id\":\"1073\"}},\"id\":\"1072\",\"type\":\"GlyphRenderer\"},{\"attributes\":{\"coordinates\":null,\"data_source\":{\"id\":\"1074\"},\"glyph\":{\"id\":\"1076\"},\"group\":null,\"hover_glyph\":null,\"muted_glyph\":{\"id\":\"1078\"},\"nonselection_glyph\":{\"id\":\"1077\"},\"view\":{\"id\":\"1080\"}},\"id\":\"1079\",\"type\":\"GlyphRenderer\"},{\"attributes\":{\"label\":{\"value\":\"y7^1\"},\"renderers\":[{\"id\":\"1065\"}]},\"id\":\"1091\",\"type\":\"LegendItem\"},{\"attributes\":{\"data\":{\"precursor_mz\":[null,null,null,null,null,null,null,null,null,null,null,null,null,null,null,null,null,null,null,null,null,null,null,null,null,null,null,null,null,null,null,null,null,null,null,null,null,null,null,null,null,null,null,null,null,null,null,null,null,null,null,null,null,null,null,null,null,null,null,null,null,null,null,null,null,null,null,null,null,null,null,null,null,null,null,null,null,null,null,null,null,null,null,null,null,null,null,null],\"product_charge\":[null,null,null,null,null,null,null,null,null,null,null,null,null,null,null,null,null,null,null,null,null,null,null,null,null,null,null,null,null,null,null,null,null,null,null,null,null,null,null,null,null,null,null,null,null,null,null,null,null,null,null,null,null,null,null,null,null,null,null,null,null,null,null,null,null,null,null,null,null,null,null,null,null,null,null,null,null,null,null,null,null,null,null,null,null,null,null,null],\"product_mz\":[null,null,null,null,null,null,null,null,null,null,null,null,null,null,null,null,null,null,null,null,null,null,null,null,null,null,null,null,null,null,null,null,null,null,null,null,null,null,null,null,null,null,null,null,null,null,null,null,null,null,null,null,null,null,null,null,null,null,null,null,null,null,null,null,null,null,null,null,null,null,null,null,null,null,null,null,null,null,null,null,null,null,null,null,null,null,null,null],\"x\":{\"__ndarray__\":\"UmZcQTdRuED3Ok4MUlG4QIXdKdLlUrhAZpU+uABTuEDEKUaKr1S4QNgpwJrKVLhAhfZROeVUuED/LsswAFW4QDO8vqGTVrhAEnDDyq5WuECQc69fyVa4QON6zApeWLhAdYbzb3lYuEDXjMmwDVq4QFm85+YnWrhAR4s2v11auEAmVYQ+2Vu4QMxXqvfzW7hAvfOz9w1cuECxw2obKVy4QFIdJWmlXbhABNIuLb9duEAzR9NI2l24QMpBTNb1XbhAiHiu7G9fuEB7J5utiV+4QFUqKbykX7hAcmnfp79fuEBpAD/pPmG4QOx6r85YYbhAbz8Ts3NhuEBJVliejmG4QLyCo+YIY7hAHD8Y0CJjuEAOng67PWO4QLWBLZ9YY7hAmwAC9tNkuEAbWe+y7WS4QLwHG/wIZbhAMuCoCyRluEDc+dPwoGa4QNd8G8K6ZrhA2jE149VmuECewqHr8Ga4QNcs+6ZtaLhAqSatZYdouECxO0w2o2i4QJ19fFi9aLhANuuuwzpquEBJVhbCVGq4QJPKzYhvarhASYR8ZopquECA4HABCGy4QLCvLbohbLhAbJD3wzxsuEA5rU65V2y4QMgzgwXWbbhASkl+P/BtuEBnu79AC264QHcEsSwmbrhAUUbBU6VvuECuuz8gv2+4QPqAghnab7hAsPifQfVvuECQT9Q1c3G4QCxlg5qNcbhA7eFE6adxuEDbx429wnG4QFKi9vFKc7hAXR/g42RzuEBxmuLef3O4QA39DLmac7hA2vbF9Rl1uEA7Uae/M3W4QHIvHzZPdbhAANWu4Wl1uEDkcnO66Ha4QEHo8YYCd7hA4V6HaB13uEDz2S9OOHe4QJQ1rSm2eLhAkfqsKdB4uEC1HMTF6ni4QHECPwwGebhAKuTu34N6uEBo1xfVnXq4QAPFy864erhAYEbV2tN6uEA=\",\"dtype\":\"float64\",\"order\":\"little\",\"shape\":[88]},\"y\":{\"__ndarray__\":\"fKa4QH5VQEKI5KhCfrnlQq5VC0Pu3R1Dr2cwQ1QUJ0OTJxlD6PY7Q89mQEPpF0FDtwhJQ3ppTUOP9UJDeHzVQsn9lUJ6WBdDS/KHQwAAAADWQ7JCvGvMRCAYXEUKf3VFX2PjRY9dTkb0R51G9x7aRuAgC0febR5HVS4xR8efQUc8tDtH7uAkR4BpDkfY1PFGzKC7RkUTiUaceDlG3jnQRX3fg0Wd9W9FFiIDRbNorERrr1tEspbARMD6rkRgYphEDpWHRKYqiETKg3tEgdJfRCwjR0Ss4D9Eu5cuRKw9GUTFCgREpBDYQ7ka2UOXGN1DTlPbQxcF1EM/O+ZDDXXjQ2aGAkSbFfpDOrz3Q5K68EPY/glEZHsIRATQGkRd1itErI8jRPkmJ0R0AClEv0geRAmsBkQKWd5D8c3TQ1+SvUMz6sJDChbNQ7u5skNGp7dDA5K2QwChqENH+4ZDxo8VQw==\",\"dtype\":\"float32\",\"order\":\"little\",\"shape\":[88]}},\"selected\":{\"id\":\"1117\"},\"selection_policy\":{\"id\":\"1116\"}},\"id\":\"1081\",\"type\":\"ColumnDataSource\"},{\"attributes\":{\"label\":{\"value\":\"y4^1\"},\"renderers\":[{\"id\":\"1051\"}]},\"id\":\"1089\",\"type\":\"LegendItem\"},{\"attributes\":{\"axis_label\":\"Retention Time\",\"coordinates\":null,\"formatter\":{\"id\":\"1102\"},\"group\":null,\"major_label_policy\":{\"id\":\"1103\"},\"ticker\":{\"id\":\"1012\"}},\"id\":\"1011\",\"type\":\"LinearAxis\"},{\"attributes\":{\"source\":{\"id\":\"1053\"}},\"id\":\"1059\",\"type\":\"CDSView\"},{\"attributes\":{\"line_alpha\":0.2,\"line_color\":\"#2ca02c\",\"line_width\":2,\"x\":{\"field\":\"x\"},\"y\":{\"field\":\"y\"}},\"id\":\"1078\",\"type\":\"Line\"},{\"attributes\":{\"axis\":{\"id\":\"1015\"},\"coordinates\":null,\"dimension\":1,\"group\":null,\"ticker\":null},\"id\":\"1018\",\"type\":\"Grid\"},{\"attributes\":{\"line_alpha\":0.5,\"line_color\":\"#ffbb78\",\"line_width\":2,\"x\":{\"field\":\"x\"},\"y\":{\"field\":\"y\"}},\"id\":\"1069\",\"type\":\"Line\"},{\"attributes\":{\"line_alpha\":0.5,\"line_color\":\"#2ca02c\",\"line_width\":2,\"x\":{\"field\":\"x\"},\"y\":{\"field\":\"y\"}},\"id\":\"1076\",\"type\":\"Line\"},{\"attributes\":{\"line_alpha\":0.5,\"line_color\":\"#ff7f0e\",\"line_width\":2,\"x\":{\"field\":\"x\"},\"y\":{\"field\":\"y\"}},\"id\":\"1062\",\"type\":\"Line\"},{\"attributes\":{\"source\":{\"id\":\"1067\"}},\"id\":\"1073\",\"type\":\"CDSView\"},{\"attributes\":{\"axis\":{\"id\":\"1011\"},\"coordinates\":null,\"group\":null,\"ticker\":null},\"id\":\"1014\",\"type\":\"Grid\"},{\"attributes\":{\"data\":{\"precursor_mz\":[null,null,null,null,null,null,null,null,null,null,null,null,null,null,null,null,null,null,null,null,null,null,null,null,null,null,null,null,null,null,null,null,null,null,null,null,null,null,null,null,null,null,null,null,null,null,null,null,null,null,null,null,null,null,null,null,null,null,null,null,null,null,null,null,null,null,null,null,null,null,null,null,null,null,null,null,null,null,null,null,null,null,null,null,null,null,null,null,null,null,null,null,null],\"product_charge\":[null,null,null,null,null,null,null,null,null,null,null,null,null,null,null,null,null,null,null,null,null,null,null,null,null,null,null,null,null,null,null,null,null,null,null,null,null,null,null,null,null,null,null,null,null,null,null,null,null,null,null,null,null,null,null,null,null,null,null,null,null,null,null,null,null,null,null,null,null,null,null,null,null,null,null,null,null,null,null,null,null,null,null,null,null,null,null,null,null,null,null,null,null],\"product_mz\":[null,null,null,null,null,null,null,null,null,null,null,null,null,null,null,null,null,null,null,null,null,null,null,null,null,null,null,null,null,null,null,null,null,null,null,null,null,null,null,null,null,null,null,null,null,null,null,null,null,null,null,null,null,null,null,null,null,null,null,null,null,null,null,null,null,null,null,null,null,null,null,null,null,null,null,null,null,null,null,null,null,null,null,null,null,null,null,null,null,null,null,null,null],\"x\":{\"__ndarray__\":\"r019XhxRuEBSZlxBN1G4QIXdKdLlUrhAZpU+uABTuEC+BGy7G1O4QOCczVM2U7hAxClGiq9UuEDYKcCaylS4QIX2UTnlVLhA/y7LMABVuEBHTLSmeVa4QDO8vqGTVrhAEnDDyq5WuECQc69fyVa4QAV1NfdCWLhA43rMCl5YuEB1hvNveVi4QMSrVO2TWLhAWbzn5idauEA2XA66Qlq4QEeLNr9dWrhAJlWEPtlbuEDMV6r381u4QL3zs/cNXLhAscNqGylcuEBSHSVppV24QATSLi2/XbhAM0fTSNpduEDKQUzW9V24QIh4ruxvX7hAeyebrYlfuEBVKim8pF+4QHJp36e/X7hAaQA/6T5huEDseq/OWGG4QG8/E7NzYbhASVZYno5huEC8gqPmCGO4QBw/GNAiY7hADp4Ouz1juEC1gS2fWGO4QJsAAvbTZLhAG1nvsu1kuEC8Bxv8CGW4QDLgqAskZbhA3PnT8KBmuEDXfBvCuma4QNoxNePVZrhAnsKh6/BmuEDXLPumbWi4QKkmrWWHaLhAsTtMNqNouECdfXxYvWi4QDbrrsM6arhASVYWwlRquECTys2Ib2q4QEmEfGaKarhAgOBwAQhsuECwry26IWy4QGyQ98M8bLhAOa1OuVdsuEDIM4MF1m24QEpJfj/wbbhAZ7u/QAtuuEB3BLEsJm64QFFGwVOlb7hArrs/IL9vuED6gIIZ2m+4QLD4n0H1b7hAkE/UNXNxuEAsZYOajXG4QO3hROmncbhA28eNvcJxuEBSovbxSnO4QF0f4ONkc7hAcZri3n9zuEAN/Qy5mnO4QNr2xfUZdbhAO1GnvzN1uEByLx82T3W4QADVruFpdbhA5HJzuuh2uEBB6PGGAne4QOFeh2gdd7hA89kvTjh3uECUNa0ptni4QJH6rCnQeLhAtRzExep4uEBxAj8MBnm4QCrk7t+DerhAaNcX1Z16uEADxcvOuHq4QGBG1drTerhA\",\"dtype\":\"float64\",\"order\":\"little\",\"shape\":[93]},\"y\":{\"__ndarray__\":\"qVRoQsOnukKO7OdCRwgAQ8yVA0PCqgBDIQfkQsvB5UJZDr5C0Qy3QiPX/kJ6CypDZjVfQ7CYYEMWboRDnrCIQ89PfUOxtWdDnzsXQ0eYF0O728dCZ77wQqxd60KEHS5DAAAAAKUV7kErw4NEMawuRdQyIUVwuqRFkUYpRrrzhEax7L9GmYP5RpUUEkdgECRHfII1R7brMkfGzxpHKTYGR7Z14UaDdKlGpKJ1RsZ3H0bTDbNFV15JRcEsYEV1ew5Fsxu5RO47uURUC9JEzEuwRNZ1k0TVgoFErGRwRHOHL0SP3x5ED9YURPLpJ0TzgDJE8cgqREpLI0Tc7Q9Ewx8mRCSqJUSfURVEemwfRInaBUQUGvlD7anmQz8qu0NMK6ZDZcqtQwKvxUMLD65D7EqoQ8Ust0PTDKhDh+qZQyKbhkP9uGFDA2WmQ1C97UNxxSNE/TBkRD35jUREBqNEHJaiRDf0jkQDGWJE41wXRPylhkMAAAAA\",\"dtype\":\"float32\",\"order\":\"little\",\"shape\":[93]}},\"selected\":{\"id\":\"1111\"},\"selection_policy\":{\"id\":\"1110\"}},\"id\":\"1060\",\"type\":\"ColumnDataSource\"},{\"attributes\":{\"line_alpha\":0.2,\"line_color\":\"#ffbb78\",\"line_width\":2,\"x\":{\"field\":\"x\"},\"y\":{\"field\":\"y\"}},\"id\":\"1071\",\"type\":\"Line\"},{\"attributes\":{},\"id\":\"1012\",\"type\":\"BasicTicker\"},{\"attributes\":{\"line_alpha\":0.1,\"line_color\":\"#ffbb78\",\"line_width\":2,\"x\":{\"field\":\"x\"},\"y\":{\"field\":\"y\"}},\"id\":\"1070\",\"type\":\"Line\"},{\"attributes\":{\"line_alpha\":0.1,\"line_color\":\"#aec7e8\",\"line_width\":2,\"x\":{\"field\":\"x\"},\"y\":{\"field\":\"y\"}},\"id\":\"1056\",\"type\":\"Line\"},{\"attributes\":{\"data\":{\"precursor_mz\":[null,null,null,null,null,null,null,null,null,null,null,null,null,null,null,null,null,null,null,null,null,null,null,null,null,null,null,null,null,null,null,null,null,null,null,null,null,null,null,null,null,null,null,null,null,null,null,null,null,null,null,null,null,null,null,null,null,null,null,null,null,null,null,null,null,null,null,null,null,null,null,null,null,null,null,null,null,null,null,null,null,null,null,null,null,null,null],\"product_charge\":[null,null,null,null,null,null,null,null,null,null,null,null,null,null,null,null,null,null,null,null,null,null,null,null,null,null,null,null,null,null,null,null,null,null,null,null,null,null,null,null,null,null,null,null,null,null,null,null,null,null,null,null,null,null,null,null,null,null,null,null,null,null,null,null,null,null,null,null,null,null,null,null,null,null,null,null,null,null,null,null,null,null,null,null,null,null,null],\"product_mz\":[null,null,null,null,null,null,null,null,null,null,null,null,null,null,null,null,null,null,null,null,null,null,null,null,null,null,null,null,null,null,null,null,null,null,null,null,null,null,null,null,null,null,null,null,null,null,null,null,null,null,null,null,null,null,null,null,null,null,null,null,null,null,null,null,null,null,null,null,null,null,null,null,null,null,null,null,null,null,null,null,null,null,null,null,null,null,null],\"x\":{\"__ndarray__\":\"r019XhxRuEBSZlxBN1G4QP6WIrlsUbhAhd0p0uVSuEDYKcCaylS4QP8uyzAAVbhAR0y0pnlWuEAzvL6hk1a4QBJww8quVrhA43rMCl5YuEB1hvNveVi4QMSrVO2TWLhA14zJsA1auEA2XA66Qlq4QEeLNr9dWrhAJlWEPtlbuEDMV6r381u4QL3zs/cNXLhAscNqGylcuEBSHSVppV24QATSLi2/XbhAM0fTSNpduEDKQUzW9V24QIh4ruxvX7hAeyebrYlfuEBVKim8pF+4QHJp36e/X7hAaQA/6T5huEDseq/OWGG4QG8/E7NzYbhASVZYno5huEC8gqPmCGO4QBw/GNAiY7hADp4Ouz1juEC1gS2fWGO4QJsAAvbTZLhAG1nvsu1kuEC8Bxv8CGW4QDLgqAskZbhA3PnT8KBmuEDXfBvCuma4QNoxNePVZrhAnsKh6/BmuEDXLPumbWi4QKkmrWWHaLhAsTtMNqNouECdfXxYvWi4QDbrrsM6arhASVYWwlRquECTys2Ib2q4QEmEfGaKarhAgOBwAQhsuECwry26IWy4QGyQ98M8bLhAOa1OuVdsuEDIM4MF1m24QEpJfj/wbbhAZ7u/QAtuuEB3BLEsJm64QFFGwVOlb7hArrs/IL9vuED6gIIZ2m+4QLD4n0H1b7hAkE/UNXNxuEAsZYOajXG4QO3hROmncbhA28eNvcJxuEBSovbxSnO4QF0f4ONkc7hAcZri3n9zuEAN/Qy5mnO4QNr2xfUZdbhAO1GnvzN1uEByLx82T3W4QADVruFpdbhA5HJzuuh2uEBB6PGGAne4QOFeh2gdd7hA89kvTjh3uECUNa0ptni4QJH6rCnQeLhAtRzExep4uEBxAj8MBnm4QCrk7t+DerhAaNcX1Z16uEADxcvOuHq4QGBG1drTerhA\",\"dtype\":\"float64\",\"order\":\"little\",\"shape\":[87]},\"y\":{\"__ndarray__\":\"YWesQqPBvkL9vctCNonSQhVQ0kJgP8pC1CmkQsunPEJifYVCsqukQp66t0LBP7hC6iYgQ7tVSEMIA/xCkGM0Q236qkM/XABEAAAAAAAAAAB5wOREOweaRTnAhEUBbwtGvT+bRhZzAkdtf0BHxUp7Ry3WlUdMgKpHFsC8R9izuUcpj6BHFvmHR/bfYEe99SZHQSblRvjciEYINg1Gm9+WRf7vrUUss0lFd9/cRGJ+jES7bONEXjieROMrcEQLLm1EhKtkRLDxQEQJElxEx7NRRNxYbkR5JmBEFphCRHjsKETqhiVEuMouRATsJ0SokBdEIr03RJ02R0QoRkdEpuBERB6dWkQ1I4lETGuzRGl8xkSj68ZECTe/RAq6q0Q09IRELFIsRLaeu0OCgElDjEMqQ9p+oUO4Z7ZDW5/GQ17o2kOKr8FDpP2UQ0lrV0N2ny5DU2RNQzLDqEOLNBZE\",\"dtype\":\"float32\",\"order\":\"little\",\"shape\":[87]}},\"selected\":{\"id\":\"1113\"},\"selection_policy\":{\"id\":\"1112\"}},\"id\":\"1067\",\"type\":\"ColumnDataSource\"},{\"attributes\":{\"line_alpha\":0.1,\"line_color\":\"#2ca02c\",\"line_width\":2,\"x\":{\"field\":\"x\"},\"y\":{\"field\":\"y\"}},\"id\":\"1077\",\"type\":\"Line\"},{\"attributes\":{\"bottom_units\":\"screen\",\"coordinates\":null,\"fill_alpha\":0.5,\"fill_color\":\"lightgrey\",\"group\":null,\"left_units\":\"screen\",\"level\":\"overlay\",\"line_alpha\":1.0,\"line_color\":\"black\",\"line_dash\":[4,4],\"line_width\":2,\"right_units\":\"screen\",\"syncable\":false,\"top_units\":\"screen\"},\"id\":\"1025\",\"type\":\"BoxAnnotation\"},{\"attributes\":{\"line_alpha\":0.5,\"line_dash\":[6],\"line_width\":2,\"x\":{\"field\":\"x\"},\"y\":{\"field\":\"y\"}},\"id\":\"1041\",\"type\":\"Line\"},{\"attributes\":{\"data\":{\"precursor_mz\":[null,null,null,null,null,null,null,null,null,null,null,null,null,null,null,null,null,null,null,null,null,null,null,null],\"product_charge\":[null,null,null,null,null,null,null,null,null,null,null,null,null,null,null,null,null,null,null,null,null,null,null,null],\"product_mz\":[null,null,null,null,null,null,null,null,null,null,null,null,null,null,null,null,null,null,null,null,null,null,null,null],\"x\":{\"__ndarray__\":\"3tGbTgFRuEBASMP+ylK4QAXv/LeUVLhAohkYAF5WuEASPzUMKFi4QNoH8u3xWbhAcwMggrxbuEBsyS+Rh124QDvU8pNSX7hA1/Ke5R1huECWl8Dx7GK4QIkDkPe2ZLhAJvikyYFmuECJpYOVTmi4QEUaoQ8barhAFA4/6+hruEAa+x5Etm24QDUu4t6Eb7hAztsc3VJxuEAstZR1IHO4QHs6sk74dLhAQcgTecd2uECYaFUdlni4QHnu7+9jerhA\",\"dtype\":\"float64\",\"order\":\"little\",\"shape\":[24]},\"y\":{\"__ndarray__\":\"AAAAAE/RAkbis75FAAAAAAAAAAAAAAAATdgqR64NykdbYg5Iy7okSBGvJ0i61xZIQi/kR9iCakcAAAAAAAAAAAAAAACXbsREGC8HRW6sBkWG6gZFf+YBRfA640QhGaBE\",\"dtype\":\"float32\",\"order\":\"little\",\"shape\":[24]}},\"selected\":{\"id\":\"1105\"},\"selection_policy\":{\"id\":\"1104\"}},\"id\":\"1039\",\"type\":\"ColumnDataSource\"},{\"attributes\":{\"source\":{\"id\":\"1081\"}},\"id\":\"1087\",\"type\":\"CDSView\"},{\"attributes\":{},\"id\":\"1003\",\"type\":\"DataRange1d\"},{\"attributes\":{\"line_alpha\":0.2,\"line_color\":\"#ff7f0e\",\"line_width\":2,\"x\":{\"field\":\"x\"},\"y\":{\"field\":\"y\"}},\"id\":\"1064\",\"type\":\"Line\"},{\"attributes\":{},\"id\":\"1024\",\"type\":\"HelpTool\"},{\"attributes\":{},\"id\":\"1005\",\"type\":\"DataRange1d\"},{\"attributes\":{},\"id\":\"1099\",\"type\":\"BasicTickFormatter\"},{\"attributes\":{\"data\":{\"precursor_mz\":[null,null,null,null,null,null,null,null,null,null,null,null,null,null,null,null,null,null,null,null,null,null,null,null,null,null,null,null,null,null,null,null,null,null,null,null,null,null,null,null,null,null,null,null,null,null,null,null,null,null,null,null,null,null,null,null,null,null,null,null,null,null,null,null,null,null,null,null,null,null,null,null,null,null,null,null,null,null,null,null,null],\"product_charge\":[null,null,null,null,null,null,null,null,null,null,null,null,null,null,null,null,null,null,null,null,null,null,null,null,null,null,null,null,null,null,null,null,null,null,null,null,null,null,null,null,null,null,null,null,null,null,null,null,null,null,null,null,null,null,null,null,null,null,null,null,null,null,null,null,null,null,null,null,null,null,null,null,null,null,null,null,null,null,null,null,null],\"product_mz\":[null,null,null,null,null,null,null,null,null,null,null,null,null,null,null,null,null,null,null,null,null,null,null,null,null,null,null,null,null,null,null,null,null,null,null,null,null,null,null,null,null,null,null,null,null,null,null,null,null,null,null,null,null,null,null,null,null,null,null,null,null,null,null,null,null,null,null,null,null,null,null,null,null,null,null,null,null,null,null,null,null],\"x\":{\"__ndarray__\":\"r019XhxRuED3Ok4MUlG4QOCczVM2U7hAxClGiq9UuED/LsswAFW4QDO8vqGTVrhAEnDDyq5WuEAFdTX3Qli4QNeMybANWrhAWbzn5idauEBHiza/XVq4QCZVhD7ZW7hAvfOz9w1cuECxw2obKVy4QFIdJWmlXbhABNIuLb9duEAzR9NI2l24QMpBTNb1XbhAiHiu7G9fuEB7J5utiV+4QFUqKbykX7hAcmnfp79fuEBpAD/pPmG4QOx6r85YYbhAbz8Ts3NhuEBJVliejmG4QLyCo+YIY7hAHD8Y0CJjuEAOng67PWO4QLWBLZ9YY7hAmwAC9tNkuEAbWe+y7WS4QLwHG/wIZbhAMuCoCyRluEDc+dPwoGa4QNd8G8K6ZrhA2jE149VmuECewqHr8Ga4QNcs+6ZtaLhAqSatZYdouECxO0w2o2i4QJ19fFi9aLhANuuuwzpquEBJVhbCVGq4QJPKzYhvarhASYR8ZopquECA4HABCGy4QLCvLbohbLhAbJD3wzxsuEA5rU65V2y4QMgzgwXWbbhASkl+P/BtuEBnu79AC264QHcEsSwmbrhAUUbBU6VvuECuuz8gv2+4QPqAghnab7hAsPifQfVvuECQT9Q1c3G4QCxlg5qNcbhA7eFE6adxuEDbx429wnG4QFKi9vFKc7hAXR/g42RzuEBxmuLef3O4QA39DLmac7hA2vbF9Rl1uEA7Uae/M3W4QHIvHzZPdbhAANWu4Wl1uEDkcnO66Ha4QEHo8YYCd7hA4V6HaB13uEDz2S9OOHe4QJH6rCnQeLhAtRzExep4uEBxAj8MBnm4QCrk7t+DerhAaNcX1Z16uEADxcvOuHq4QGBG1drTerhA\",\"dtype\":\"float64\",\"order\":\"little\",\"shape\":[81]},\"y\":{\"__ndarray__\":\"/EaTQqRoYkKLOj5CikQzQn7HOkJDBE5CsINpQpnoZEIN4D9CBxmFQUbl8kH14PVCYk0pQwAAAAAAAAAAIuVnRFf8D0U1NA9FGSqYRYVRFEaaF3VG/f2wRkdG5kYW6QdHCjwYRwm+KEepSCVHJuAPR28U9EaEjcZGGtKURjsvTEbPDPlF5ol/RS1hAUW5VSdFKHPVRII0jUSYAEBEMiyKROtYSkSTxSxE9g0GRNtxCUR20QtELGQLRBXRJUTA7C5Ea0gkRAO9GEQ0RuJD117LQ9mbmkPqMIZDKZqXQ8akk0PaCaRDdpV/Q3lYUUM3EHJDhmxrQxgI/kNQNjJE0vtJRF+KUUT2hkpE8L4yRAgCE0T+G+ZDgmGnQzWfgkOBpbhDcdaeQy9sU0P+yRpDBLQjQzSyUkOlhYJDMeeUQ0sFmEN/Z4ND\",\"dtype\":\"float32\",\"order\":\"little\",\"shape\":[81]}},\"selected\":{\"id\":\"1115\"},\"selection_policy\":{\"id\":\"1114\"}},\"id\":\"1074\",\"type\":\"ColumnDataSource\"},{\"attributes\":{},\"id\":\"1100\",\"type\":\"AllLabels\"},{\"attributes\":{\"coordinates\":null,\"data_source\":{\"id\":\"1081\"},\"glyph\":{\"id\":\"1083\"},\"group\":null,\"hover_glyph\":null,\"muted_glyph\":{\"id\":\"1085\"},\"nonselection_glyph\":{\"id\":\"1084\"},\"view\":{\"id\":\"1087\"}},\"id\":\"1086\",\"type\":\"GlyphRenderer\"},{\"attributes\":{},\"id\":\"1016\",\"type\":\"BasicTicker\"},{\"attributes\":{},\"id\":\"1009\",\"type\":\"LinearScale\"},{\"attributes\":{\"label\":{\"value\":\"prec\"},\"renderers\":[{\"id\":\"1044\"}]},\"id\":\"1088\",\"type\":\"LegendItem\"},{\"attributes\":{},\"id\":\"1102\",\"type\":\"BasicTickFormatter\"},{\"attributes\":{},\"id\":\"1103\",\"type\":\"AllLabels\"},{\"attributes\":{\"axis_label\":\"Intensity\",\"coordinates\":null,\"formatter\":{\"id\":\"1099\"},\"group\":null,\"major_label_policy\":{\"id\":\"1100\"},\"ticker\":{\"id\":\"1016\"}},\"id\":\"1015\",\"type\":\"LinearAxis\"},{\"attributes\":{},\"id\":\"1007\",\"type\":\"LinearScale\"},{\"attributes\":{},\"id\":\"1022\",\"type\":\"SaveTool\"},{\"attributes\":{\"line_alpha\":0.2,\"line_color\":\"#98df8a\",\"line_width\":2,\"x\":{\"field\":\"x\"},\"y\":{\"field\":\"y\"}},\"id\":\"1085\",\"type\":\"Line\"},{\"attributes\":{\"line_alpha\":0.2,\"line_color\":\"#aec7e8\",\"line_width\":2,\"x\":{\"field\":\"x\"},\"y\":{\"field\":\"y\"}},\"id\":\"1057\",\"type\":\"Line\"},{\"attributes\":{},\"id\":\"1023\",\"type\":\"ResetTool\"},{\"attributes\":{\"line_alpha\":0.1,\"line_dash\":[6],\"line_width\":2,\"x\":{\"field\":\"x\"},\"y\":{\"field\":\"y\"}},\"id\":\"1042\",\"type\":\"Line\"},{\"attributes\":{\"source\":{\"id\":\"1074\"}},\"id\":\"1080\",\"type\":\"CDSView\"},{\"attributes\":{\"callback\":null,\"tooltips\":[[\"index\",\"$index\"],[\"(rt,int)\",\"(@x{0.00}, @y)\"]]},\"id\":\"1026\",\"type\":\"HoverTool\"},{\"attributes\":{\"coordinates\":null,\"data_source\":{\"id\":\"1060\"},\"glyph\":{\"id\":\"1062\"},\"group\":null,\"hover_glyph\":null,\"muted_glyph\":{\"id\":\"1064\"},\"nonselection_glyph\":{\"id\":\"1063\"},\"view\":{\"id\":\"1066\"}},\"id\":\"1065\",\"type\":\"GlyphRenderer\"},{\"attributes\":{},\"id\":\"1019\",\"type\":\"PanTool\"},{\"attributes\":{},\"id\":\"1020\",\"type\":\"WheelZoomTool\"},{\"attributes\":{\"label\":{\"value\":\"y6^1\"},\"renderers\":[{\"id\":\"1086\"}]},\"id\":\"1094\",\"type\":\"LegendItem\"},{\"attributes\":{},\"id\":\"1104\",\"type\":\"UnionRenderers\"},{\"attributes\":{\"line_alpha\":0.5,\"line_color\":\"#98df8a\",\"line_width\":2,\"x\":{\"field\":\"x\"},\"y\":{\"field\":\"y\"}},\"id\":\"1083\",\"type\":\"Line\"},{\"attributes\":{\"click_policy\":\"mute\",\"coordinates\":null,\"group\":null,\"items\":[{\"id\":\"1088\"},{\"id\":\"1089\"},{\"id\":\"1090\"},{\"id\":\"1091\"},{\"id\":\"1092\"},{\"id\":\"1093\"},{\"id\":\"1094\"}],\"label_text_font_size\":\"10pt\",\"location\":\"top_left\",\"title\":\"Transition\"},\"id\":\"1038\",\"type\":\"Legend\"},{\"attributes\":{\"label\":{\"value\":\"y5^1\"},\"renderers\":[{\"id\":\"1058\"}]},\"id\":\"1090\",\"type\":\"LegendItem\"},{\"attributes\":{\"line_alpha\":0.1,\"line_color\":\"#98df8a\",\"line_width\":2,\"x\":{\"field\":\"x\"},\"y\":{\"field\":\"y\"}},\"id\":\"1084\",\"type\":\"Line\"},{\"attributes\":{},\"id\":\"1105\",\"type\":\"Selection\"},{\"attributes\":{\"coordinates\":null,\"data_source\":{\"id\":\"1053\"},\"glyph\":{\"id\":\"1055\"},\"group\":null,\"hover_glyph\":null,\"muted_glyph\":{\"id\":\"1057\"},\"nonselection_glyph\":{\"id\":\"1056\"},\"view\":{\"id\":\"1059\"}},\"id\":\"1058\",\"type\":\"GlyphRenderer\"},{\"attributes\":{\"line_alpha\":0.1,\"line_color\":\"#ff7f0e\",\"line_width\":2,\"x\":{\"field\":\"x\"},\"y\":{\"field\":\"y\"}},\"id\":\"1063\",\"type\":\"Line\"},{\"attributes\":{\"tools\":[{\"id\":\"1019\"},{\"id\":\"1020\"},{\"id\":\"1021\"},{\"id\":\"1022\"},{\"id\":\"1023\"},{\"id\":\"1024\"},{\"id\":\"1026\"}]},\"id\":\"1027\",\"type\":\"Toolbar\"},{\"attributes\":{\"label\":{\"value\":\"y8^1\"},\"renderers\":[{\"id\":\"1072\"}]},\"id\":\"1092\",\"type\":\"LegendItem\"},{\"attributes\":{\"label\":{\"value\":\"y9^1\"},\"renderers\":[{\"id\":\"1079\"}]},\"id\":\"1093\",\"type\":\"LegendItem\"},{\"attributes\":{\"overlay\":{\"id\":\"1025\"}},\"id\":\"1021\",\"type\":\"BoxZoomTool\"},{\"attributes\":{\"source\":{\"id\":\"1060\"}},\"id\":\"1066\",\"type\":\"CDSView\"},{\"attributes\":{\"align\":\"center\",\"coordinates\":null,\"group\":null,\"text\":\"Test Chromatogram\",\"text_font_size\":\"16pt\"},\"id\":\"1035\",\"type\":\"Title\"},{\"attributes\":{\"coordinates\":null,\"data_source\":{\"id\":\"1046\"},\"glyph\":{\"id\":\"1048\"},\"group\":null,\"hover_glyph\":null,\"muted_glyph\":{\"id\":\"1050\"},\"nonselection_glyph\":{\"id\":\"1049\"},\"view\":{\"id\":\"1052\"}},\"id\":\"1051\",\"type\":\"GlyphRenderer\"},{\"attributes\":{},\"id\":\"1106\",\"type\":\"UnionRenderers\"},{\"attributes\":{},\"id\":\"1107\",\"type\":\"Selection\"},{\"attributes\":{},\"id\":\"1116\",\"type\":\"UnionRenderers\"},{\"attributes\":{},\"id\":\"1117\",\"type\":\"Selection\"},{\"attributes\":{\"coordinates\":null,\"data_source\":{\"id\":\"1039\"},\"glyph\":{\"id\":\"1041\"},\"group\":null,\"hover_glyph\":null,\"muted_glyph\":{\"id\":\"1043\"},\"nonselection_glyph\":{\"id\":\"1042\"},\"view\":{\"id\":\"1045\"}},\"id\":\"1044\",\"type\":\"GlyphRenderer\"},{\"attributes\":{},\"id\":\"1108\",\"type\":\"UnionRenderers\"},{\"attributes\":{\"data\":{\"precursor_mz\":[null,null,null,null,null,null,null,null,null,null,null,null,null,null,null,null,null,null,null,null,null,null,null,null,null,null,null,null,null,null,null,null,null,null,null,null,null,null,null,null,null,null,null,null,null,null,null,null,null,null,null,null,null,null,null,null,null,null,null,null,null,null,null,null,null,null,null,null,null,null,null,null,null,null,null,null,null,null,null,null,null,null,null,null,null,null,null],\"product_charge\":[null,null,null,null,null,null,null,null,null,null,null,null,null,null,null,null,null,null,null,null,null,null,null,null,null,null,null,null,null,null,null,null,null,null,null,null,null,null,null,null,null,null,null,null,null,null,null,null,null,null,null,null,null,null,null,null,null,null,null,null,null,null,null,null,null,null,null,null,null,null,null,null,null,null,null,null,null,null,null,null,null,null,null,null,null,null,null],\"product_mz\":[null,null,null,null,null,null,null,null,null,null,null,null,null,null,null,null,null,null,null,null,null,null,null,null,null,null,null,null,null,null,null,null,null,null,null,null,null,null,null,null,null,null,null,null,null,null,null,null,null,null,null,null,null,null,null,null,null,null,null,null,null,null,null,null,null,null,null,null,null,null,null,null,null,null,null,null,null,null,null,null,null,null,null,null,null,null,null],\"x\":{\"__ndarray__\":\"r019XhxRuEC+BGy7G1O4QIX2UTnlVLhA/y7LMABVuEBHTLSmeVa4QDO8vqGTVrhAEnDDyq5WuECQc69fyVa4QAV1NfdCWLhA43rMCl5YuEB1hvNveVi4QMSrVO2TWLhA14zJsA1auEBZvOfmJ1q4QDZcDrpCWrhAJlWEPtlbuEDMV6r381u4QL3zs/cNXLhAscNqGylcuEBSHSVppV24QATSLi2/XbhAM0fTSNpduEDKQUzW9V24QIh4ruxvX7hAeyebrYlfuEBVKim8pF+4QHJp36e/X7hAaQA/6T5huEDseq/OWGG4QG8/E7NzYbhASVZYno5huEC8gqPmCGO4QBw/GNAiY7hADp4Ouz1juEC1gS2fWGO4QJsAAvbTZLhAG1nvsu1kuEC8Bxv8CGW4QDLgqAskZbhA3PnT8KBmuEDXfBvCuma4QNoxNePVZrhAnsKh6/BmuEDXLPumbWi4QKkmrWWHaLhAsTtMNqNouECdfXxYvWi4QDbrrsM6arhASVYWwlRquECTys2Ib2q4QEmEfGaKarhAgOBwAQhsuECwry26IWy4QGyQ98M8bLhAOa1OuVdsuEDIM4MF1m24QEpJfj/wbbhAZ7u/QAtuuEB3BLEsJm64QFFGwVOlb7hArrs/IL9vuED6gIIZ2m+4QLD4n0H1b7hAkE/UNXNxuEAsZYOajXG4QO3hROmncbhA28eNvcJxuEBSovbxSnO4QF0f4ONkc7hAcZri3n9zuEAN/Qy5mnO4QNr2xfUZdbhAO1GnvzN1uEByLx82T3W4QADVruFpdbhA5HJzuuh2uEBB6PGGAne4QOFeh2gdd7hA89kvTjh3uECUNa0ptni4QJH6rCnQeLhAtRzExep4uEBxAj8MBnm4QCrk7t+DerhAaNcX1Z16uEADxcvOuHq4QGBG1drTerhA\",\"dtype\":\"float64\",\"order\":\"little\",\"shape\":[87]},\"y\":{\"__ndarray__\":\"+CmTQ9RBgUODcmVDP8dPQ5woQkNXPT1DUp45Q/86ZkP2fHdD852ZQ4LXnEOBaIdDyQaGQyaLdUPyhu1CkyMKQ0oAe0NIF8dDAAAAAHNYLkMiZNdEE6RwRYFbekUqfQNG0zNfRuI/sEbGJ/tGdVsfRx46O0cYelRHnVlpR53TZUcusEpH+mEyR3KwE0ddDelGp36pRn5qXEZYiQhGsaGmRRsHlkUHZDJFkhrKRMYOnETSuNtEm1+2RFwNikSGjXtE5YeFRBoYe0T79oFEn+V8RNEhdkRauWREt+w4RDuKEkQK8wpE0woLRMtEHUSD1C5ENEg+RFNXQERX4DVE5h4bRDnQAkTFJh1EFoxURJHAikTbNplE4tuhRG6lmUSge4REhvpIRCiRCkS4G8RD90TbQydVEUTUEg9EpGoNRIT6CkTHdM9DFYvHQ3qntkPcv6pDILujQyiAoUPZ9aND\",\"dtype\":\"float32\",\"order\":\"little\",\"shape\":[87]}},\"selected\":{\"id\":\"1109\"},\"selection_policy\":{\"id\":\"1108\"}},\"id\":\"1053\",\"type\":\"ColumnDataSource\"},{\"attributes\":{\"line_alpha\":0.2,\"line_color\":\"#1f77b4\",\"line_width\":2,\"x\":{\"field\":\"x\"},\"y\":{\"field\":\"y\"}},\"id\":\"1050\",\"type\":\"Line\"},{\"attributes\":{},\"id\":\"1109\",\"type\":\"Selection\"},{\"attributes\":{\"line_alpha\":0.2,\"line_dash\":[6],\"line_width\":2,\"x\":{\"field\":\"x\"},\"y\":{\"field\":\"y\"}},\"id\":\"1043\",\"type\":\"Line\"},{\"attributes\":{\"line_alpha\":0.1,\"line_color\":\"#1f77b4\",\"line_width\":2,\"x\":{\"field\":\"x\"},\"y\":{\"field\":\"y\"}},\"id\":\"1049\",\"type\":\"Line\"},{\"attributes\":{\"line_alpha\":0.5,\"line_color\":\"#1f77b4\",\"line_width\":2,\"x\":{\"field\":\"x\"},\"y\":{\"field\":\"y\"}},\"id\":\"1048\",\"type\":\"Line\"},{\"attributes\":{},\"id\":\"1110\",\"type\":\"UnionRenderers\"},{\"attributes\":{\"data\":{\"precursor_mz\":[null,null,null,null,null,null,null,null,null,null,null,null,null,null,null,null,null,null,null,null,null,null,null,null,null,null,null,null,null,null,null,null,null,null,null,null,null,null,null,null,null,null,null,null,null,null,null,null,null,null,null,null,null,null,null,null,null,null,null,null,null,null,null,null,null,null,null,null,null,null,null,null,null,null,null,null,null,null,null,null],\"product_charge\":[null,null,null,null,null,null,null,null,null,null,null,null,null,null,null,null,null,null,null,null,null,null,null,null,null,null,null,null,null,null,null,null,null,null,null,null,null,null,null,null,null,null,null,null,null,null,null,null,null,null,null,null,null,null,null,null,null,null,null,null,null,null,null,null,null,null,null,null,null,null,null,null,null,null,null,null,null,null,null,null],\"product_mz\":[null,null,null,null,null,null,null,null,null,null,null,null,null,null,null,null,null,null,null,null,null,null,null,null,null,null,null,null,null,null,null,null,null,null,null,null,null,null,null,null,null,null,null,null,null,null,null,null,null,null,null,null,null,null,null,null,null,null,null,null,null,null,null,null,null,null,null,null,null,null,null,null,null,null,null,null,null,null,null,null],\"x\":{\"__ndarray__\":\"r019XhxRuED+liK5bFG4QL4EbLsbU7hAxClGiq9UuEDYKcCaylS4QBJww8quVrhAkHOvX8lWuEAFdTX3Qli4QHWG8295WLhAxKtU7ZNYuEDXjMmwDVq4QFm85+YnWrhANlwOukJauEBHiza/XVq4QCZVhD7ZW7hAzFeq9/NbuECxw2obKVy4QFIdJWmlXbhABNIuLb9duEAzR9NI2l24QMpBTNb1XbhAiHiu7G9fuEB7J5utiV+4QFUqKbykX7hAcmnfp79fuEBpAD/pPmG4QOx6r85YYbhAbz8Ts3NhuEBJVliejmG4QLyCo+YIY7hAHD8Y0CJjuEAOng67PWO4QLWBLZ9YY7hAmwAC9tNkuEAbWe+y7WS4QLwHG/wIZbhAMuCoCyRluEDc+dPwoGa4QNd8G8K6ZrhA2jE149VmuECewqHr8Ga4QNcs+6ZtaLhAqSatZYdouECxO0w2o2i4QJ19fFi9aLhANuuuwzpquEBJVhbCVGq4QEmEfGaKarhAgOBwAQhsuECwry26IWy4QGyQ98M8bLhAOa1OuVdsuEDIM4MF1m24QEpJfj/wbbhAZ7u/QAtuuEB3BLEsJm64QFFGwVOlb7hArrs/IL9vuED6gIIZ2m+4QLD4n0H1b7hAkE/UNXNxuEAsZYOajXG4QO3hROmncbhA28eNvcJxuEBdH+DjZHO4QHGa4t5/c7hADf0MuZpzuEDa9sX1GXW4QDtRp78zdbhAci8fNk91uEAA1a7haXW4QORyc7rodrhAQejxhgJ3uEDz2S9OOHe4QJQ1rSm2eLhAkfqsKdB4uEC1HMTF6ni4QHECPwwGebhAKuTu34N6uEADxcvOuHq4QA==\",\"dtype\":\"float64\",\"order\":\"little\",\"shape\":[80]},\"y\":{\"__ndarray__\":\"z2+kQu0FhULruXJCsRR5QoajiULtvZtCcB57Qmvfo0K8YepCCFMAQ1THMkNODXNDX5R1Q8NLQkPqGU1DhFiQQ2asiUO6Z4VDQn4WRI0joESQWa5EvtgMRRlbXEU3aJxFV7bjRYH3FEbjwTJGR01GRr3UXUZlH19GpcZDRsnvK0btKw5GB4LYRY/vokWiaGJFTfkXRWTJu0Q8C7hE9XlcRG2j3UM4cMhDAqvaQwnkpEOF2EdDsHp+Q+m2jEM1WT9DoS9ZQ+BKQ0NtnGxD0R5cQ9NcSkPJ+TZDEy8YQ4wBREMj10pD+BSGQ2IluUNabstDpAfIQ5VVsEMTDnxDiIoxQx+mM0MiFTBD+R0iQ9lMZUN8onxDrMmEQ0q5gUNIbFlDHqglQ2FcBUPtx0NDnKQ8QxXaMkMjsSlDknIkQyxnJkM=\",\"dtype\":\"float32\",\"order\":\"little\",\"shape\":[80]}},\"selected\":{\"id\":\"1107\"},\"selection_policy\":{\"id\":\"1106\"}},\"id\":\"1046\",\"type\":\"ColumnDataSource\"},{\"attributes\":{\"source\":{\"id\":\"1046\"}},\"id\":\"1052\",\"type\":\"CDSView\"},{\"attributes\":{},\"id\":\"1111\",\"type\":\"Selection\"},{\"attributes\":{\"line_alpha\":0.5,\"line_color\":\"#aec7e8\",\"line_width\":2,\"x\":{\"field\":\"x\"},\"y\":{\"field\":\"y\"}},\"id\":\"1055\",\"type\":\"Line\"},{\"attributes\":{\"source\":{\"id\":\"1039\"}},\"id\":\"1045\",\"type\":\"CDSView\"},{\"attributes\":{},\"id\":\"1112\",\"type\":\"UnionRenderers\"},{\"attributes\":{},\"id\":\"1113\",\"type\":\"Selection\"},{\"attributes\":{},\"id\":\"1114\",\"type\":\"UnionRenderers\"},{\"attributes\":{},\"id\":\"1115\",\"type\":\"Selection\"}],\"root_ids\":[\"1002\"]},\"title\":\"Bokeh Application\",\"version\":\"2.4.3\"}};\n  const render_items = [{\"docid\":\"4ad9a4e9-8838-4114-88aa-291bb0f1a191\",\"root_ids\":[\"1002\"],\"roots\":{\"1002\":\"60703af7-fa7a-4bc0-b1f8-9a581968df6f\"}}];\n  root.Bokeh.embed.embed_items_notebook(docs_json, render_items);\n  }\n  if (root.Bokeh !== undefined) {\n    embed_document(root);\n  } else {\n    let attempts = 0;\n    const timer = setInterval(function(root) {\n      if (root.Bokeh !== undefined) {\n        clearInterval(timer);\n        embed_document(root);\n      } else {\n        attempts++;\n        if (attempts > 100) {\n          clearInterval(timer);\n          console.log(\"Bokeh: ERROR: Unable to run BokehJS code because BokehJS library is missing\");\n        }\n      }\n    }, 10, root)\n  }\n})(window);",
      "application/vnd.bokehjs_exec.v0+json": ""
     },
     "metadata": {
      "application/vnd.bokehjs_exec.v0+json": {
       "id": "1002"
      }
     },
     "output_type": "display_data"
    }
   ],
   "source": [
    "fig = plotter.plot(transitionGroup)\n",
    "plotter.show()"
   ]
  },
  {
   "cell_type": "code",
   "execution_count": 7,
   "id": "f014000a-dbee-4651-8b8b-61a7e2aef918",
   "metadata": {
    "editable": true,
    "slideshow": {
     "slide_type": ""
    },
    "tags": []
   },
   "outputs": [
    {
     "data": {
      "text/plain": [
       "{'type': 'sgolay', 'sgolay_polynomial_order': 3, 'sgolay_frame_length': 11}"
      ]
     },
     "execution_count": 7,
     "metadata": {},
     "output_type": "execute_result"
    }
   ],
   "source": [
    "plotConfig.smoothing_dict"
   ]
  },
  {
   "cell_type": "markdown",
   "id": "d584c7fd-21b1-4180-9322-fc7829168a64",
   "metadata": {
    "editable": true,
    "slideshow": {
     "slide_type": ""
    },
    "tags": []
   },
   "source": [
    "### Add Transition Group Features to the Plot"
   ]
  },
  {
   "cell_type": "markdown",
   "id": "a0a3891d-bbd0-473f-a0b1-4fe1a6f345a8",
   "metadata": {
    "editable": true,
    "slideshow": {
     "slide_type": ""
    },
    "tags": []
   },
   "source": [
    "To add `TransitionGroupFeatures` to the plot we can use the `plot_boundaries` method"
   ]
  },
  {
   "cell_type": "code",
   "execution_count": 8,
   "id": "7d767007-171f-4f38-8626-30fb3b9240f1",
   "metadata": {
    "editable": true,
    "slideshow": {
     "slide_type": ""
    },
    "tags": []
   },
   "outputs": [],
   "source": [
    "# fetch transition group features\n",
    "transitionGroupFeatures = loader.loadTransitionGroupFeatures(\"AFVDFLSDEIK\", 2)['ionMobilityTest2/ionMobilityTest2.mzML']"
   ]
  },
  {
   "cell_type": "code",
   "execution_count": 9,
   "id": "dba7d5bd-8512-454e-af08-d9f9fef4716d",
   "metadata": {
    "editable": true,
    "slideshow": {
     "slide_type": ""
    },
    "tags": []
   },
   "outputs": [
    {
     "data": {
      "text/html": [
       "<div class=\"bk-root\">\n",
       "        <a href=\"https://bokeh.org\" target=\"_blank\" class=\"bk-logo bk-logo-small bk-logo-notebook\"></a>\n",
       "        <span id=\"1457\">Loading BokehJS ...</span>\n",
       "    </div>\n"
      ]
     },
     "metadata": {},
     "output_type": "display_data"
    },
    {
     "data": {
      "application/javascript": "(function(root) {\n  function now() {\n    return new Date();\n  }\n\n  const force = true;\n\n  if (typeof root._bokeh_onload_callbacks === \"undefined\" || force === true) {\n    root._bokeh_onload_callbacks = [];\n    root._bokeh_is_loading = undefined;\n  }\n\nconst JS_MIME_TYPE = 'application/javascript';\n  const HTML_MIME_TYPE = 'text/html';\n  const EXEC_MIME_TYPE = 'application/vnd.bokehjs_exec.v0+json';\n  const CLASS_NAME = 'output_bokeh rendered_html';\n\n  /**\n   * Render data to the DOM node\n   */\n  function render(props, node) {\n    const script = document.createElement(\"script\");\n    node.appendChild(script);\n  }\n\n  /**\n   * Handle when an output is cleared or removed\n   */\n  function handleClearOutput(event, handle) {\n    const cell = handle.cell;\n\n    const id = cell.output_area._bokeh_element_id;\n    const server_id = cell.output_area._bokeh_server_id;\n    // Clean up Bokeh references\n    if (id != null && id in Bokeh.index) {\n      Bokeh.index[id].model.document.clear();\n      delete Bokeh.index[id];\n    }\n\n    if (server_id !== undefined) {\n      // Clean up Bokeh references\n      const cmd_clean = \"from bokeh.io.state import curstate; print(curstate().uuid_to_server['\" + server_id + \"'].get_sessions()[0].document.roots[0]._id)\";\n      cell.notebook.kernel.execute(cmd_clean, {\n        iopub: {\n          output: function(msg) {\n            const id = msg.content.text.trim();\n            if (id in Bokeh.index) {\n              Bokeh.index[id].model.document.clear();\n              delete Bokeh.index[id];\n            }\n          }\n        }\n      });\n      // Destroy server and session\n      const cmd_destroy = \"import bokeh.io.notebook as ion; ion.destroy_server('\" + server_id + \"')\";\n      cell.notebook.kernel.execute(cmd_destroy);\n    }\n  }\n\n  /**\n   * Handle when a new output is added\n   */\n  function handleAddOutput(event, handle) {\n    const output_area = handle.output_area;\n    const output = handle.output;\n\n    // limit handleAddOutput to display_data with EXEC_MIME_TYPE content only\n    if ((output.output_type != \"display_data\") || (!Object.prototype.hasOwnProperty.call(output.data, EXEC_MIME_TYPE))) {\n      return\n    }\n\n    const toinsert = output_area.element.find(\".\" + CLASS_NAME.split(' ')[0]);\n\n    if (output.metadata[EXEC_MIME_TYPE][\"id\"] !== undefined) {\n      toinsert[toinsert.length - 1].firstChild.textContent = output.data[JS_MIME_TYPE];\n      // store reference to embed id on output_area\n      output_area._bokeh_element_id = output.metadata[EXEC_MIME_TYPE][\"id\"];\n    }\n    if (output.metadata[EXEC_MIME_TYPE][\"server_id\"] !== undefined) {\n      const bk_div = document.createElement(\"div\");\n      bk_div.innerHTML = output.data[HTML_MIME_TYPE];\n      const script_attrs = bk_div.children[0].attributes;\n      for (let i = 0; i < script_attrs.length; i++) {\n        toinsert[toinsert.length - 1].firstChild.setAttribute(script_attrs[i].name, script_attrs[i].value);\n        toinsert[toinsert.length - 1].firstChild.textContent = bk_div.children[0].textContent\n      }\n      // store reference to server id on output_area\n      output_area._bokeh_server_id = output.metadata[EXEC_MIME_TYPE][\"server_id\"];\n    }\n  }\n\n  function register_renderer(events, OutputArea) {\n\n    function append_mime(data, metadata, element) {\n      // create a DOM node to render to\n      const toinsert = this.create_output_subarea(\n        metadata,\n        CLASS_NAME,\n        EXEC_MIME_TYPE\n      );\n      this.keyboard_manager.register_events(toinsert);\n      // Render to node\n      const props = {data: data, metadata: metadata[EXEC_MIME_TYPE]};\n      render(props, toinsert[toinsert.length - 1]);\n      element.append(toinsert);\n      return toinsert\n    }\n\n    /* Handle when an output is cleared or removed */\n    events.on('clear_output.CodeCell', handleClearOutput);\n    events.on('delete.Cell', handleClearOutput);\n\n    /* Handle when a new output is added */\n    events.on('output_added.OutputArea', handleAddOutput);\n\n    /**\n     * Register the mime type and append_mime function with output_area\n     */\n    OutputArea.prototype.register_mime_type(EXEC_MIME_TYPE, append_mime, {\n      /* Is output safe? */\n      safe: true,\n      /* Index of renderer in `output_area.display_order` */\n      index: 0\n    });\n  }\n\n  // register the mime type if in Jupyter Notebook environment and previously unregistered\n  if (root.Jupyter !== undefined) {\n    const events = require('base/js/events');\n    const OutputArea = require('notebook/js/outputarea').OutputArea;\n\n    if (OutputArea.prototype.mime_types().indexOf(EXEC_MIME_TYPE) == -1) {\n      register_renderer(events, OutputArea);\n    }\n  }\n  if (typeof (root._bokeh_timeout) === \"undefined\" || force === true) {\n    root._bokeh_timeout = Date.now() + 5000;\n    root._bokeh_failed_load = false;\n  }\n\n  const NB_LOAD_WARNING = {'data': {'text/html':\n     \"<div style='background-color: #fdd'>\\n\"+\n     \"<p>\\n\"+\n     \"BokehJS does not appear to have successfully loaded. If loading BokehJS from CDN, this \\n\"+\n     \"may be due to a slow or bad network connection. Possible fixes:\\n\"+\n     \"</p>\\n\"+\n     \"<ul>\\n\"+\n     \"<li>re-rerun `output_notebook()` to attempt to load from CDN again, or</li>\\n\"+\n     \"<li>use INLINE resources instead, as so:</li>\\n\"+\n     \"</ul>\\n\"+\n     \"<code>\\n\"+\n     \"from bokeh.resources import INLINE\\n\"+\n     \"output_notebook(resources=INLINE)\\n\"+\n     \"</code>\\n\"+\n     \"</div>\"}};\n\n  function display_loaded() {\n    const el = document.getElementById(\"1457\");\n    if (el != null) {\n      el.textContent = \"BokehJS is loading...\";\n    }\n    if (root.Bokeh !== undefined) {\n      if (el != null) {\n        el.textContent = \"BokehJS \" + root.Bokeh.version + \" successfully loaded.\";\n      }\n    } else if (Date.now() < root._bokeh_timeout) {\n      setTimeout(display_loaded, 100)\n    }\n  }\n\n  function run_callbacks() {\n    try {\n      root._bokeh_onload_callbacks.forEach(function(callback) {\n        if (callback != null)\n          callback();\n      });\n    } finally {\n      delete root._bokeh_onload_callbacks\n    }\n    console.debug(\"Bokeh: all callbacks have finished\");\n  }\n\n  function load_libs(css_urls, js_urls, callback) {\n    if (css_urls == null) css_urls = [];\n    if (js_urls == null) js_urls = [];\n\n    root._bokeh_onload_callbacks.push(callback);\n    if (root._bokeh_is_loading > 0) {\n      console.debug(\"Bokeh: BokehJS is being loaded, scheduling callback at\", now());\n      return null;\n    }\n    if (js_urls == null || js_urls.length === 0) {\n      run_callbacks();\n      return null;\n    }\n    console.debug(\"Bokeh: BokehJS not loaded, scheduling load and callback at\", now());\n    root._bokeh_is_loading = css_urls.length + js_urls.length;\n\n    function on_load() {\n      root._bokeh_is_loading--;\n      if (root._bokeh_is_loading === 0) {\n        console.debug(\"Bokeh: all BokehJS libraries/stylesheets loaded\");\n        run_callbacks()\n      }\n    }\n\n    function on_error(url) {\n      console.error(\"failed to load \" + url);\n    }\n\n    for (let i = 0; i < css_urls.length; i++) {\n      const url = css_urls[i];\n      const element = document.createElement(\"link\");\n      element.onload = on_load;\n      element.onerror = on_error.bind(null, url);\n      element.rel = \"stylesheet\";\n      element.type = \"text/css\";\n      element.href = url;\n      console.debug(\"Bokeh: injecting link tag for BokehJS stylesheet: \", url);\n      document.body.appendChild(element);\n    }\n\n    for (let i = 0; i < js_urls.length; i++) {\n      const url = js_urls[i];\n      const element = document.createElement('script');\n      element.onload = on_load;\n      element.onerror = on_error.bind(null, url);\n      element.async = false;\n      element.src = url;\n      console.debug(\"Bokeh: injecting script tag for BokehJS library: \", url);\n      document.head.appendChild(element);\n    }\n  };\n\n  function inject_raw_css(css) {\n    const element = document.createElement(\"style\");\n    element.appendChild(document.createTextNode(css));\n    document.body.appendChild(element);\n  }\n\n  const js_urls = [\"https://cdn.bokeh.org/bokeh/release/bokeh-2.4.3.min.js\", \"https://cdn.bokeh.org/bokeh/release/bokeh-gl-2.4.3.min.js\", \"https://cdn.bokeh.org/bokeh/release/bokeh-widgets-2.4.3.min.js\", \"https://cdn.bokeh.org/bokeh/release/bokeh-tables-2.4.3.min.js\", \"https://cdn.bokeh.org/bokeh/release/bokeh-mathjax-2.4.3.min.js\"];\n  const css_urls = [];\n\n  const inline_js = [    function(Bokeh) {\n      Bokeh.set_log_level(\"info\");\n    },\nfunction(Bokeh) {\n    }\n  ];\n\n  function run_inline_js() {\n    if (root.Bokeh !== undefined || force === true) {\n          for (let i = 0; i < inline_js.length; i++) {\n      inline_js[i].call(root, root.Bokeh);\n    }\nif (force === true) {\n        display_loaded();\n      }} else if (Date.now() < root._bokeh_timeout) {\n      setTimeout(run_inline_js, 100);\n    } else if (!root._bokeh_failed_load) {\n      console.log(\"Bokeh: BokehJS failed to load within specified timeout.\");\n      root._bokeh_failed_load = true;\n    } else if (force !== true) {\n      const cell = $(document.getElementById(\"1457\")).parents('.cell').data().cell;\n      cell.output_area.append_execute_result(NB_LOAD_WARNING)\n    }\n  }\n\n  if (root._bokeh_is_loading === 0) {\n    console.debug(\"Bokeh: BokehJS loaded, going straight to plotting\");\n    run_inline_js();\n  } else {\n    load_libs(css_urls, js_urls, function() {\n      console.debug(\"Bokeh: BokehJS plotting callback run at\", now());\n      run_inline_js();\n    });\n  }\n}(window));",
      "application/vnd.bokehjs_load.v0+json": ""
     },
     "metadata": {},
     "output_type": "display_data"
    },
    {
     "data": {
      "text/html": [
       "\n",
       "  <div class=\"bk-root\" id=\"91be19c3-2422-476e-b2dc-86dafd0747a9\" data-root-id=\"1002\"></div>\n"
      ]
     },
     "metadata": {},
     "output_type": "display_data"
    },
    {
     "data": {
      "application/javascript": "(function(root) {\n  function embed_document(root) {\n  const docs_json = {\"5a9cccac-3cc7-463a-9c8b-a6cbdb4454eb\":{\"defs\":[],\"roots\":{\"references\":[{\"attributes\":{\"below\":[{\"id\":\"1011\"}],\"center\":[{\"id\":\"1014\"},{\"id\":\"1018\"}],\"height\":400,\"left\":[{\"id\":\"1015\"}],\"renderers\":[{\"id\":\"1044\"},{\"id\":\"1051\"},{\"id\":\"1058\"},{\"id\":\"1065\"},{\"id\":\"1072\"},{\"id\":\"1079\"},{\"id\":\"1086\"},{\"id\":\"1239\"},{\"id\":\"1270\"},{\"id\":\"1301\"},{\"id\":\"1333\"},{\"id\":\"1366\"},{\"id\":\"1399\"}],\"right\":[{\"id\":\"1038\"}],\"sizing_mode\":\"scale_width\",\"title\":{\"id\":\"1035\"},\"toolbar\":{\"id\":\"1027\"},\"toolbar_location\":\"above\",\"width\":800,\"x_range\":{\"id\":\"1003\"},\"x_scale\":{\"id\":\"1007\"},\"y_range\":{\"id\":\"1005\"},\"y_scale\":{\"id\":\"1009\"}},\"id\":\"1002\",\"subtype\":\"Figure\",\"type\":\"Plot\"},{\"attributes\":{\"coordinates\":null,\"data_source\":{\"id\":\"1067\"},\"glyph\":{\"id\":\"1069\"},\"group\":null,\"hover_glyph\":null,\"muted_glyph\":{\"id\":\"1071\"},\"nonselection_glyph\":{\"id\":\"1070\"},\"view\":{\"id\":\"1073\"}},\"id\":\"1072\",\"type\":\"GlyphRenderer\"},{\"attributes\":{\"coordinates\":null,\"data_source\":{\"id\":\"1074\"},\"glyph\":{\"id\":\"1076\"},\"group\":null,\"hover_glyph\":null,\"muted_glyph\":{\"id\":\"1078\"},\"nonselection_glyph\":{\"id\":\"1077\"},\"view\":{\"id\":\"1080\"}},\"id\":\"1079\",\"type\":\"GlyphRenderer\"},{\"attributes\":{\"label\":{\"value\":\"y7^1\"},\"renderers\":[{\"id\":\"1065\"}]},\"id\":\"1091\",\"type\":\"LegendItem\"},{\"attributes\":{\"data\":{\"precursor_mz\":[null,null,null,null,null,null,null,null,null,null,null,null,null,null,null,null,null,null,null,null,null,null,null,null,null,null,null,null,null,null,null,null,null,null,null,null,null,null,null,null,null,null,null,null,null,null,null,null,null,null,null,null,null,null,null,null,null,null,null,null,null,null,null,null,null,null,null,null,null,null,null,null,null,null,null,null,null,null,null,null,null,null,null,null,null,null,null,null],\"product_charge\":[null,null,null,null,null,null,null,null,null,null,null,null,null,null,null,null,null,null,null,null,null,null,null,null,null,null,null,null,null,null,null,null,null,null,null,null,null,null,null,null,null,null,null,null,null,null,null,null,null,null,null,null,null,null,null,null,null,null,null,null,null,null,null,null,null,null,null,null,null,null,null,null,null,null,null,null,null,null,null,null,null,null,null,null,null,null,null,null],\"product_mz\":[null,null,null,null,null,null,null,null,null,null,null,null,null,null,null,null,null,null,null,null,null,null,null,null,null,null,null,null,null,null,null,null,null,null,null,null,null,null,null,null,null,null,null,null,null,null,null,null,null,null,null,null,null,null,null,null,null,null,null,null,null,null,null,null,null,null,null,null,null,null,null,null,null,null,null,null,null,null,null,null,null,null,null,null,null,null,null,null],\"x\":{\"__ndarray__\":\"UmZcQTdRuED3Ok4MUlG4QIXdKdLlUrhAZpU+uABTuEDEKUaKr1S4QNgpwJrKVLhAhfZROeVUuED/LsswAFW4QDO8vqGTVrhAEnDDyq5WuECQc69fyVa4QON6zApeWLhAdYbzb3lYuEDXjMmwDVq4QFm85+YnWrhAR4s2v11auEAmVYQ+2Vu4QMxXqvfzW7hAvfOz9w1cuECxw2obKVy4QFIdJWmlXbhABNIuLb9duEAzR9NI2l24QMpBTNb1XbhAiHiu7G9fuEB7J5utiV+4QFUqKbykX7hAcmnfp79fuEBpAD/pPmG4QOx6r85YYbhAbz8Ts3NhuEBJVliejmG4QLyCo+YIY7hAHD8Y0CJjuEAOng67PWO4QLWBLZ9YY7hAmwAC9tNkuEAbWe+y7WS4QLwHG/wIZbhAMuCoCyRluEDc+dPwoGa4QNd8G8K6ZrhA2jE149VmuECewqHr8Ga4QNcs+6ZtaLhAqSatZYdouECxO0w2o2i4QJ19fFi9aLhANuuuwzpquEBJVhbCVGq4QJPKzYhvarhASYR8ZopquECA4HABCGy4QLCvLbohbLhAbJD3wzxsuEA5rU65V2y4QMgzgwXWbbhASkl+P/BtuEBnu79AC264QHcEsSwmbrhAUUbBU6VvuECuuz8gv2+4QPqAghnab7hAsPifQfVvuECQT9Q1c3G4QCxlg5qNcbhA7eFE6adxuEDbx429wnG4QFKi9vFKc7hAXR/g42RzuEBxmuLef3O4QA39DLmac7hA2vbF9Rl1uEA7Uae/M3W4QHIvHzZPdbhAANWu4Wl1uEDkcnO66Ha4QEHo8YYCd7hA4V6HaB13uEDz2S9OOHe4QJQ1rSm2eLhAkfqsKdB4uEC1HMTF6ni4QHECPwwGebhAKuTu34N6uEBo1xfVnXq4QAPFy864erhAYEbV2tN6uEA=\",\"dtype\":\"float64\",\"order\":\"little\",\"shape\":[88]},\"y\":{\"__ndarray__\":\"fKa4QH5VQEKI5KhCfrnlQq5VC0Pu3R1Dr2cwQ1QUJ0OTJxlD6PY7Q89mQEPpF0FDtwhJQ3ppTUOP9UJDeHzVQsn9lUJ6WBdDS/KHQwAAAADWQ7JCvGvMRCAYXEUKf3VFX2PjRY9dTkb0R51G9x7aRuAgC0febR5HVS4xR8efQUc8tDtH7uAkR4BpDkfY1PFGzKC7RkUTiUaceDlG3jnQRX3fg0Wd9W9FFiIDRbNorERrr1tEspbARMD6rkRgYphEDpWHRKYqiETKg3tEgdJfRCwjR0Ss4D9Eu5cuRKw9GUTFCgREpBDYQ7ka2UOXGN1DTlPbQxcF1EM/O+ZDDXXjQ2aGAkSbFfpDOrz3Q5K68EPY/glEZHsIRATQGkRd1itErI8jRPkmJ0R0AClEv0geRAmsBkQKWd5D8c3TQ1+SvUMz6sJDChbNQ7u5skNGp7dDA5K2QwChqENH+4ZDxo8VQw==\",\"dtype\":\"float32\",\"order\":\"little\",\"shape\":[88]}},\"selected\":{\"id\":\"1117\"},\"selection_policy\":{\"id\":\"1116\"}},\"id\":\"1081\",\"type\":\"ColumnDataSource\"},{\"attributes\":{\"bottom\":{\"field\":\"bottom_int\"},\"fill_alpha\":{\"value\":0.2},\"fill_color\":{\"value\":\"#1B9E77\"},\"hatch_alpha\":{\"value\":0.2},\"hatch_color\":{\"value\":\"#1B9E77\"},\"line_alpha\":{\"value\":0.2},\"line_color\":{\"value\":\"#1B9E77\"},\"top\":{\"field\":\"Intensity\"},\"width\":{\"value\":0.1},\"x\":{\"field\":\"rightWidth\"}},\"id\":\"1269\",\"type\":\"VBar\"},{\"attributes\":{\"label\":{\"value\":\"y4^1\"},\"renderers\":[{\"id\":\"1051\"}]},\"id\":\"1089\",\"type\":\"LegendItem\"},{\"attributes\":{\"axis_label\":\"Retention Time\",\"coordinates\":null,\"formatter\":{\"id\":\"1102\"},\"group\":null,\"major_label_policy\":{\"id\":\"1103\"},\"ticker\":{\"id\":\"1012\"}},\"id\":\"1011\",\"type\":\"LinearAxis\"},{\"attributes\":{\"source\":{\"id\":\"1053\"}},\"id\":\"1059\",\"type\":\"CDSView\"},{\"attributes\":{\"line_alpha\":0.2,\"line_color\":\"#2ca02c\",\"line_width\":2,\"x\":{\"field\":\"x\"},\"y\":{\"field\":\"y\"}},\"id\":\"1078\",\"type\":\"Line\"},{\"attributes\":{\"bottom\":{\"field\":\"bottom_int\"},\"fill_color\":{\"value\":\"#D95F02\"},\"hatch_color\":{\"value\":\"#D95F02\"},\"line_color\":{\"value\":\"#D95F02\"},\"top\":{\"field\":\"Intensity\"},\"width\":{\"value\":0.1},\"x\":{\"field\":\"leftWidth\"}},\"id\":\"1330\",\"type\":\"VBar\"},{\"attributes\":{\"axis\":{\"id\":\"1015\"},\"coordinates\":null,\"dimension\":1,\"group\":null,\"ticker\":null},\"id\":\"1018\",\"type\":\"Grid\"},{\"attributes\":{\"line_alpha\":0.5,\"line_color\":\"#ffbb78\",\"line_width\":2,\"x\":{\"field\":\"x\"},\"y\":{\"field\":\"y\"}},\"id\":\"1069\",\"type\":\"Line\"},{\"attributes\":{\"fill_alpha\":{\"value\":0.1},\"fill_color\":{\"value\":\"#1f77b4\"},\"hatch_alpha\":{\"value\":0.1},\"line_alpha\":{\"value\":0.1},\"line_color\":{\"value\":\"#1f77b4\"},\"x\":{\"field\":\"leftWidth\"},\"y\":{\"field\":\"Intensity\"}},\"id\":\"1299\",\"type\":\"Circle\"},{\"attributes\":{\"fill_alpha\":{\"value\":0},\"fill_color\":{\"value\":\"#1f77b4\"},\"hatch_alpha\":{\"value\":0},\"line_alpha\":{\"value\":0},\"line_color\":{\"value\":\"#1f77b4\"},\"x\":{\"field\":\"leftWidth\"},\"y\":{\"field\":\"Intensity\"}},\"id\":\"1298\",\"type\":\"Circle\"},{\"attributes\":{\"line_alpha\":0.5,\"line_color\":\"#2ca02c\",\"line_width\":2,\"x\":{\"field\":\"x\"},\"y\":{\"field\":\"y\"}},\"id\":\"1076\",\"type\":\"Line\"},{\"attributes\":{\"source\":{\"id\":\"1234\"}},\"id\":\"1271\",\"type\":\"CDSView\"},{\"attributes\":{\"line_alpha\":0.5,\"line_color\":\"#ff7f0e\",\"line_width\":2,\"x\":{\"field\":\"x\"},\"y\":{\"field\":\"y\"}},\"id\":\"1062\",\"type\":\"Line\"},{\"attributes\":{\"source\":{\"id\":\"1067\"}},\"id\":\"1073\",\"type\":\"CDSView\"},{\"attributes\":{\"axis\":{\"id\":\"1011\"},\"coordinates\":null,\"group\":null,\"ticker\":null},\"id\":\"1014\",\"type\":\"Grid\"},{\"attributes\":{\"data\":{\"precursor_mz\":[null,null,null,null,null,null,null,null,null,null,null,null,null,null,null,null,null,null,null,null,null,null,null,null,null,null,null,null,null,null,null,null,null,null,null,null,null,null,null,null,null,null,null,null,null,null,null,null,null,null,null,null,null,null,null,null,null,null,null,null,null,null,null,null,null,null,null,null,null,null,null,null,null,null,null,null,null,null,null,null,null,null,null,null,null,null,null,null,null,null,null,null,null],\"product_charge\":[null,null,null,null,null,null,null,null,null,null,null,null,null,null,null,null,null,null,null,null,null,null,null,null,null,null,null,null,null,null,null,null,null,null,null,null,null,null,null,null,null,null,null,null,null,null,null,null,null,null,null,null,null,null,null,null,null,null,null,null,null,null,null,null,null,null,null,null,null,null,null,null,null,null,null,null,null,null,null,null,null,null,null,null,null,null,null,null,null,null,null,null,null],\"product_mz\":[null,null,null,null,null,null,null,null,null,null,null,null,null,null,null,null,null,null,null,null,null,null,null,null,null,null,null,null,null,null,null,null,null,null,null,null,null,null,null,null,null,null,null,null,null,null,null,null,null,null,null,null,null,null,null,null,null,null,null,null,null,null,null,null,null,null,null,null,null,null,null,null,null,null,null,null,null,null,null,null,null,null,null,null,null,null,null,null,null,null,null,null,null],\"x\":{\"__ndarray__\":\"r019XhxRuEBSZlxBN1G4QIXdKdLlUrhAZpU+uABTuEC+BGy7G1O4QOCczVM2U7hAxClGiq9UuEDYKcCaylS4QIX2UTnlVLhA/y7LMABVuEBHTLSmeVa4QDO8vqGTVrhAEnDDyq5WuECQc69fyVa4QAV1NfdCWLhA43rMCl5YuEB1hvNveVi4QMSrVO2TWLhAWbzn5idauEA2XA66Qlq4QEeLNr9dWrhAJlWEPtlbuEDMV6r381u4QL3zs/cNXLhAscNqGylcuEBSHSVppV24QATSLi2/XbhAM0fTSNpduEDKQUzW9V24QIh4ruxvX7hAeyebrYlfuEBVKim8pF+4QHJp36e/X7hAaQA/6T5huEDseq/OWGG4QG8/E7NzYbhASVZYno5huEC8gqPmCGO4QBw/GNAiY7hADp4Ouz1juEC1gS2fWGO4QJsAAvbTZLhAG1nvsu1kuEC8Bxv8CGW4QDLgqAskZbhA3PnT8KBmuEDXfBvCuma4QNoxNePVZrhAnsKh6/BmuEDXLPumbWi4QKkmrWWHaLhAsTtMNqNouECdfXxYvWi4QDbrrsM6arhASVYWwlRquECTys2Ib2q4QEmEfGaKarhAgOBwAQhsuECwry26IWy4QGyQ98M8bLhAOa1OuVdsuEDIM4MF1m24QEpJfj/wbbhAZ7u/QAtuuEB3BLEsJm64QFFGwVOlb7hArrs/IL9vuED6gIIZ2m+4QLD4n0H1b7hAkE/UNXNxuEAsZYOajXG4QO3hROmncbhA28eNvcJxuEBSovbxSnO4QF0f4ONkc7hAcZri3n9zuEAN/Qy5mnO4QNr2xfUZdbhAO1GnvzN1uEByLx82T3W4QADVruFpdbhA5HJzuuh2uEBB6PGGAne4QOFeh2gdd7hA89kvTjh3uECUNa0ptni4QJH6rCnQeLhAtRzExep4uEBxAj8MBnm4QCrk7t+DerhAaNcX1Z16uEADxcvOuHq4QGBG1drTerhA\",\"dtype\":\"float64\",\"order\":\"little\",\"shape\":[93]},\"y\":{\"__ndarray__\":\"qVRoQsOnukKO7OdCRwgAQ8yVA0PCqgBDIQfkQsvB5UJZDr5C0Qy3QiPX/kJ6CypDZjVfQ7CYYEMWboRDnrCIQ89PfUOxtWdDnzsXQ0eYF0O728dCZ77wQqxd60KEHS5DAAAAAKUV7kErw4NEMawuRdQyIUVwuqRFkUYpRrrzhEax7L9GmYP5RpUUEkdgECRHfII1R7brMkfGzxpHKTYGR7Z14UaDdKlGpKJ1RsZ3H0bTDbNFV15JRcEsYEV1ew5Fsxu5RO47uURUC9JEzEuwRNZ1k0TVgoFErGRwRHOHL0SP3x5ED9YURPLpJ0TzgDJE8cgqREpLI0Tc7Q9Ewx8mRCSqJUSfURVEemwfRInaBUQUGvlD7anmQz8qu0NMK6ZDZcqtQwKvxUMLD65D7EqoQ8Ust0PTDKhDh+qZQyKbhkP9uGFDA2WmQ1C97UNxxSNE/TBkRD35jUREBqNEHJaiRDf0jkQDGWJE41wXRPylhkMAAAAA\",\"dtype\":\"float32\",\"order\":\"little\",\"shape\":[93]}},\"selected\":{\"id\":\"1111\"},\"selection_policy\":{\"id\":\"1110\"}},\"id\":\"1060\",\"type\":\"ColumnDataSource\"},{\"attributes\":{\"line_alpha\":0.2,\"line_color\":\"#ffbb78\",\"line_width\":2,\"x\":{\"field\":\"x\"},\"y\":{\"field\":\"y\"}},\"id\":\"1071\",\"type\":\"Line\"},{\"attributes\":{},\"id\":\"1012\",\"type\":\"BasicTicker\"},{\"attributes\":{\"line_alpha\":0.1,\"line_color\":\"#ffbb78\",\"line_width\":2,\"x\":{\"field\":\"x\"},\"y\":{\"field\":\"y\"}},\"id\":\"1070\",\"type\":\"Line\"},{\"attributes\":{\"line_alpha\":0.1,\"line_color\":\"#aec7e8\",\"line_width\":2,\"x\":{\"field\":\"x\"},\"y\":{\"field\":\"y\"}},\"id\":\"1056\",\"type\":\"Line\"},{\"attributes\":{\"data\":{\"precursor_mz\":[null,null,null,null,null,null,null,null,null,null,null,null,null,null,null,null,null,null,null,null,null,null,null,null,null,null,null,null,null,null,null,null,null,null,null,null,null,null,null,null,null,null,null,null,null,null,null,null,null,null,null,null,null,null,null,null,null,null,null,null,null,null,null,null,null,null,null,null,null,null,null,null,null,null,null,null,null,null,null,null,null,null,null,null,null,null,null],\"product_charge\":[null,null,null,null,null,null,null,null,null,null,null,null,null,null,null,null,null,null,null,null,null,null,null,null,null,null,null,null,null,null,null,null,null,null,null,null,null,null,null,null,null,null,null,null,null,null,null,null,null,null,null,null,null,null,null,null,null,null,null,null,null,null,null,null,null,null,null,null,null,null,null,null,null,null,null,null,null,null,null,null,null,null,null,null,null,null,null],\"product_mz\":[null,null,null,null,null,null,null,null,null,null,null,null,null,null,null,null,null,null,null,null,null,null,null,null,null,null,null,null,null,null,null,null,null,null,null,null,null,null,null,null,null,null,null,null,null,null,null,null,null,null,null,null,null,null,null,null,null,null,null,null,null,null,null,null,null,null,null,null,null,null,null,null,null,null,null,null,null,null,null,null,null,null,null,null,null,null,null],\"x\":{\"__ndarray__\":\"r019XhxRuEBSZlxBN1G4QP6WIrlsUbhAhd0p0uVSuEDYKcCaylS4QP8uyzAAVbhAR0y0pnlWuEAzvL6hk1a4QBJww8quVrhA43rMCl5YuEB1hvNveVi4QMSrVO2TWLhA14zJsA1auEA2XA66Qlq4QEeLNr9dWrhAJlWEPtlbuEDMV6r381u4QL3zs/cNXLhAscNqGylcuEBSHSVppV24QATSLi2/XbhAM0fTSNpduEDKQUzW9V24QIh4ruxvX7hAeyebrYlfuEBVKim8pF+4QHJp36e/X7hAaQA/6T5huEDseq/OWGG4QG8/E7NzYbhASVZYno5huEC8gqPmCGO4QBw/GNAiY7hADp4Ouz1juEC1gS2fWGO4QJsAAvbTZLhAG1nvsu1kuEC8Bxv8CGW4QDLgqAskZbhA3PnT8KBmuEDXfBvCuma4QNoxNePVZrhAnsKh6/BmuEDXLPumbWi4QKkmrWWHaLhAsTtMNqNouECdfXxYvWi4QDbrrsM6arhASVYWwlRquECTys2Ib2q4QEmEfGaKarhAgOBwAQhsuECwry26IWy4QGyQ98M8bLhAOa1OuVdsuEDIM4MF1m24QEpJfj/wbbhAZ7u/QAtuuEB3BLEsJm64QFFGwVOlb7hArrs/IL9vuED6gIIZ2m+4QLD4n0H1b7hAkE/UNXNxuEAsZYOajXG4QO3hROmncbhA28eNvcJxuEBSovbxSnO4QF0f4ONkc7hAcZri3n9zuEAN/Qy5mnO4QNr2xfUZdbhAO1GnvzN1uEByLx82T3W4QADVruFpdbhA5HJzuuh2uEBB6PGGAne4QOFeh2gdd7hA89kvTjh3uECUNa0ptni4QJH6rCnQeLhAtRzExep4uEBxAj8MBnm4QCrk7t+DerhAaNcX1Z16uEADxcvOuHq4QGBG1drTerhA\",\"dtype\":\"float64\",\"order\":\"little\",\"shape\":[87]},\"y\":{\"__ndarray__\":\"YWesQqPBvkL9vctCNonSQhVQ0kJgP8pC1CmkQsunPEJifYVCsqukQp66t0LBP7hC6iYgQ7tVSEMIA/xCkGM0Q236qkM/XABEAAAAAAAAAAB5wOREOweaRTnAhEUBbwtGvT+bRhZzAkdtf0BHxUp7Ry3WlUdMgKpHFsC8R9izuUcpj6BHFvmHR/bfYEe99SZHQSblRvjciEYINg1Gm9+WRf7vrUUss0lFd9/cRGJ+jES7bONEXjieROMrcEQLLm1EhKtkRLDxQEQJElxEx7NRRNxYbkR5JmBEFphCRHjsKETqhiVEuMouRATsJ0SokBdEIr03RJ02R0QoRkdEpuBERB6dWkQ1I4lETGuzRGl8xkSj68ZECTe/RAq6q0Q09IRELFIsRLaeu0OCgElDjEMqQ9p+oUO4Z7ZDW5/GQ17o2kOKr8FDpP2UQ0lrV0N2ny5DU2RNQzLDqEOLNBZE\",\"dtype\":\"float32\",\"order\":\"little\",\"shape\":[87]}},\"selected\":{\"id\":\"1113\"},\"selection_policy\":{\"id\":\"1112\"}},\"id\":\"1067\",\"type\":\"ColumnDataSource\"},{\"attributes\":{\"line_alpha\":0.1,\"line_color\":\"#2ca02c\",\"line_width\":2,\"x\":{\"field\":\"x\"},\"y\":{\"field\":\"y\"}},\"id\":\"1077\",\"type\":\"Line\"},{\"attributes\":{\"bottom_units\":\"screen\",\"coordinates\":null,\"fill_alpha\":0.5,\"fill_color\":\"lightgrey\",\"group\":null,\"left_units\":\"screen\",\"level\":\"overlay\",\"line_alpha\":1.0,\"line_color\":\"black\",\"line_dash\":[4,4],\"line_width\":2,\"right_units\":\"screen\",\"syncable\":false,\"top_units\":\"screen\"},\"id\":\"1025\",\"type\":\"BoxAnnotation\"},{\"attributes\":{\"line_alpha\":0.5,\"line_dash\":[6],\"line_width\":2,\"x\":{\"field\":\"x\"},\"y\":{\"field\":\"y\"}},\"id\":\"1041\",\"type\":\"Line\"},{\"attributes\":{\"data\":{\"precursor_mz\":[null,null,null,null,null,null,null,null,null,null,null,null,null,null,null,null,null,null,null,null,null,null,null,null],\"product_charge\":[null,null,null,null,null,null,null,null,null,null,null,null,null,null,null,null,null,null,null,null,null,null,null,null],\"product_mz\":[null,null,null,null,null,null,null,null,null,null,null,null,null,null,null,null,null,null,null,null,null,null,null,null],\"x\":{\"__ndarray__\":\"3tGbTgFRuEBASMP+ylK4QAXv/LeUVLhAohkYAF5WuEASPzUMKFi4QNoH8u3xWbhAcwMggrxbuEBsyS+Rh124QDvU8pNSX7hA1/Ke5R1huECWl8Dx7GK4QIkDkPe2ZLhAJvikyYFmuECJpYOVTmi4QEUaoQ8barhAFA4/6+hruEAa+x5Etm24QDUu4t6Eb7hAztsc3VJxuEAstZR1IHO4QHs6sk74dLhAQcgTecd2uECYaFUdlni4QHnu7+9jerhA\",\"dtype\":\"float64\",\"order\":\"little\",\"shape\":[24]},\"y\":{\"__ndarray__\":\"AAAAAE/RAkbis75FAAAAAAAAAAAAAAAATdgqR64NykdbYg5Iy7okSBGvJ0i61xZIQi/kR9iCakcAAAAAAAAAAAAAAACXbsREGC8HRW6sBkWG6gZFf+YBRfA640QhGaBE\",\"dtype\":\"float32\",\"order\":\"little\",\"shape\":[24]}},\"selected\":{\"id\":\"1105\"},\"selection_policy\":{\"id\":\"1104\"}},\"id\":\"1039\",\"type\":\"ColumnDataSource\"},{\"attributes\":{\"source\":{\"id\":\"1081\"}},\"id\":\"1087\",\"type\":\"CDSView\"},{\"attributes\":{},\"id\":\"1003\",\"type\":\"DataRange1d\"},{\"attributes\":{\"source\":{\"id\":\"1234\"}},\"id\":\"1240\",\"type\":\"CDSView\"},{\"attributes\":{},\"id\":\"1264\",\"type\":\"Selection\"},{\"attributes\":{\"line_alpha\":0.2,\"line_color\":\"#ff7f0e\",\"line_width\":2,\"x\":{\"field\":\"x\"},\"y\":{\"field\":\"y\"}},\"id\":\"1064\",\"type\":\"Line\"},{\"attributes\":{},\"id\":\"1024\",\"type\":\"HelpTool\"},{\"attributes\":{},\"id\":\"1005\",\"type\":\"DataRange1d\"},{\"attributes\":{},\"id\":\"1099\",\"type\":\"BasicTickFormatter\"},{\"attributes\":{\"data\":{\"precursor_mz\":[null,null,null,null,null,null,null,null,null,null,null,null,null,null,null,null,null,null,null,null,null,null,null,null,null,null,null,null,null,null,null,null,null,null,null,null,null,null,null,null,null,null,null,null,null,null,null,null,null,null,null,null,null,null,null,null,null,null,null,null,null,null,null,null,null,null,null,null,null,null,null,null,null,null,null,null,null,null,null,null,null],\"product_charge\":[null,null,null,null,null,null,null,null,null,null,null,null,null,null,null,null,null,null,null,null,null,null,null,null,null,null,null,null,null,null,null,null,null,null,null,null,null,null,null,null,null,null,null,null,null,null,null,null,null,null,null,null,null,null,null,null,null,null,null,null,null,null,null,null,null,null,null,null,null,null,null,null,null,null,null,null,null,null,null,null,null],\"product_mz\":[null,null,null,null,null,null,null,null,null,null,null,null,null,null,null,null,null,null,null,null,null,null,null,null,null,null,null,null,null,null,null,null,null,null,null,null,null,null,null,null,null,null,null,null,null,null,null,null,null,null,null,null,null,null,null,null,null,null,null,null,null,null,null,null,null,null,null,null,null,null,null,null,null,null,null,null,null,null,null,null,null],\"x\":{\"__ndarray__\":\"r019XhxRuED3Ok4MUlG4QOCczVM2U7hAxClGiq9UuED/LsswAFW4QDO8vqGTVrhAEnDDyq5WuEAFdTX3Qli4QNeMybANWrhAWbzn5idauEBHiza/XVq4QCZVhD7ZW7hAvfOz9w1cuECxw2obKVy4QFIdJWmlXbhABNIuLb9duEAzR9NI2l24QMpBTNb1XbhAiHiu7G9fuEB7J5utiV+4QFUqKbykX7hAcmnfp79fuEBpAD/pPmG4QOx6r85YYbhAbz8Ts3NhuEBJVliejmG4QLyCo+YIY7hAHD8Y0CJjuEAOng67PWO4QLWBLZ9YY7hAmwAC9tNkuEAbWe+y7WS4QLwHG/wIZbhAMuCoCyRluEDc+dPwoGa4QNd8G8K6ZrhA2jE149VmuECewqHr8Ga4QNcs+6ZtaLhAqSatZYdouECxO0w2o2i4QJ19fFi9aLhANuuuwzpquEBJVhbCVGq4QJPKzYhvarhASYR8ZopquECA4HABCGy4QLCvLbohbLhAbJD3wzxsuEA5rU65V2y4QMgzgwXWbbhASkl+P/BtuEBnu79AC264QHcEsSwmbrhAUUbBU6VvuECuuz8gv2+4QPqAghnab7hAsPifQfVvuECQT9Q1c3G4QCxlg5qNcbhA7eFE6adxuEDbx429wnG4QFKi9vFKc7hAXR/g42RzuEBxmuLef3O4QA39DLmac7hA2vbF9Rl1uEA7Uae/M3W4QHIvHzZPdbhAANWu4Wl1uEDkcnO66Ha4QEHo8YYCd7hA4V6HaB13uEDz2S9OOHe4QJH6rCnQeLhAtRzExep4uEBxAj8MBnm4QCrk7t+DerhAaNcX1Z16uEADxcvOuHq4QGBG1drTerhA\",\"dtype\":\"float64\",\"order\":\"little\",\"shape\":[81]},\"y\":{\"__ndarray__\":\"/EaTQqRoYkKLOj5CikQzQn7HOkJDBE5CsINpQpnoZEIN4D9CBxmFQUbl8kH14PVCYk0pQwAAAAAAAAAAIuVnRFf8D0U1NA9FGSqYRYVRFEaaF3VG/f2wRkdG5kYW6QdHCjwYRwm+KEepSCVHJuAPR28U9EaEjcZGGtKURjsvTEbPDPlF5ol/RS1hAUW5VSdFKHPVRII0jUSYAEBEMiyKROtYSkSTxSxE9g0GRNtxCUR20QtELGQLRBXRJUTA7C5Ea0gkRAO9GEQ0RuJD117LQ9mbmkPqMIZDKZqXQ8akk0PaCaRDdpV/Q3lYUUM3EHJDhmxrQxgI/kNQNjJE0vtJRF+KUUT2hkpE8L4yRAgCE0T+G+ZDgmGnQzWfgkOBpbhDcdaeQy9sU0P+yRpDBLQjQzSyUkOlhYJDMeeUQ0sFmEN/Z4ND\",\"dtype\":\"float32\",\"order\":\"little\",\"shape\":[81]}},\"selected\":{\"id\":\"1115\"},\"selection_policy\":{\"id\":\"1114\"}},\"id\":\"1074\",\"type\":\"ColumnDataSource\"},{\"attributes\":{},\"id\":\"1100\",\"type\":\"AllLabels\"},{\"attributes\":{\"coordinates\":null,\"data_source\":{\"id\":\"1081\"},\"glyph\":{\"id\":\"1083\"},\"group\":null,\"hover_glyph\":null,\"muted_glyph\":{\"id\":\"1085\"},\"nonselection_glyph\":{\"id\":\"1084\"},\"view\":{\"id\":\"1087\"}},\"id\":\"1086\",\"type\":\"GlyphRenderer\"},{\"attributes\":{},\"id\":\"1016\",\"type\":\"BasicTicker\"},{\"attributes\":{\"bottom\":{\"field\":\"bottom_int\"},\"fill_alpha\":{\"value\":0.2},\"fill_color\":{\"value\":\"#1B9E77\"},\"hatch_alpha\":{\"value\":0.2},\"hatch_color\":{\"value\":\"#1B9E77\"},\"line_alpha\":{\"value\":0.2},\"line_color\":{\"value\":\"#1B9E77\"},\"top\":{\"field\":\"Intensity\"},\"width\":{\"value\":0.1},\"x\":{\"field\":\"leftWidth\"}},\"id\":\"1238\",\"type\":\"VBar\"},{\"attributes\":{},\"id\":\"1009\",\"type\":\"LinearScale\"},{\"attributes\":{\"label\":{\"value\":\"prec\"},\"renderers\":[{\"id\":\"1044\"}]},\"id\":\"1088\",\"type\":\"LegendItem\"},{\"attributes\":{},\"id\":\"1102\",\"type\":\"BasicTickFormatter\"},{\"attributes\":{\"bottom\":{\"field\":\"bottom_int\"},\"fill_color\":{\"value\":\"#1B9E77\"},\"hatch_color\":{\"value\":\"#1B9E77\"},\"line_color\":{\"value\":\"#1B9E77\"},\"top\":{\"field\":\"Intensity\"},\"width\":{\"value\":0.1},\"x\":{\"field\":\"leftWidth\"}},\"id\":\"1236\",\"type\":\"VBar\"},{\"attributes\":{},\"id\":\"1103\",\"type\":\"AllLabels\"},{\"attributes\":{\"axis_label\":\"Intensity\",\"coordinates\":null,\"formatter\":{\"id\":\"1099\"},\"group\":null,\"major_label_policy\":{\"id\":\"1100\"},\"ticker\":{\"id\":\"1016\"}},\"id\":\"1015\",\"type\":\"LinearAxis\"},{\"attributes\":{},\"id\":\"1007\",\"type\":\"LinearScale\"},{\"attributes\":{},\"id\":\"1022\",\"type\":\"SaveTool\"},{\"attributes\":{\"line_alpha\":0.2,\"line_color\":\"#98df8a\",\"line_width\":2,\"x\":{\"field\":\"x\"},\"y\":{\"field\":\"y\"}},\"id\":\"1085\",\"type\":\"Line\"},{\"attributes\":{},\"id\":\"1263\",\"type\":\"UnionRenderers\"},{\"attributes\":{\"coordinates\":null,\"data_source\":{\"id\":\"1234\"},\"glyph\":{\"id\":\"1298\"},\"group\":null,\"hover_glyph\":null,\"muted_glyph\":{\"id\":\"1300\"},\"name\":\"leftWidth_apex_point\",\"nonselection_glyph\":{\"id\":\"1299\"},\"view\":{\"id\":\"1302\"}},\"id\":\"1301\",\"type\":\"GlyphRenderer\"},{\"attributes\":{\"line_alpha\":0.2,\"line_color\":\"#aec7e8\",\"line_width\":2,\"x\":{\"field\":\"x\"},\"y\":{\"field\":\"y\"}},\"id\":\"1057\",\"type\":\"Line\"},{\"attributes\":{\"bottom\":{\"field\":\"bottom_int\"},\"fill_alpha\":{\"value\":0.1},\"fill_color\":{\"value\":\"#1B9E77\"},\"hatch_alpha\":{\"value\":0.1},\"hatch_color\":{\"value\":\"#1B9E77\"},\"line_alpha\":{\"value\":0.1},\"line_color\":{\"value\":\"#1B9E77\"},\"top\":{\"field\":\"Intensity\"},\"width\":{\"value\":0.1},\"x\":{\"field\":\"rightWidth\"}},\"id\":\"1268\",\"type\":\"VBar\"},{\"attributes\":{},\"id\":\"1023\",\"type\":\"ResetTool\"},{\"attributes\":{\"line_alpha\":0.1,\"line_dash\":[6],\"line_width\":2,\"x\":{\"field\":\"x\"},\"y\":{\"field\":\"y\"}},\"id\":\"1042\",\"type\":\"Line\"},{\"attributes\":{\"coordinates\":null,\"data_source\":{\"id\":\"1234\"},\"glyph\":{\"id\":\"1236\"},\"group\":null,\"hover_glyph\":null,\"muted_glyph\":{\"id\":\"1238\"},\"nonselection_glyph\":{\"id\":\"1237\"},\"view\":{\"id\":\"1240\"}},\"id\":\"1239\",\"type\":\"GlyphRenderer\"},{\"attributes\":{\"source\":{\"id\":\"1074\"}},\"id\":\"1080\",\"type\":\"CDSView\"},{\"attributes\":{\"callback\":null,\"tooltips\":[[\"index\",\"$index\"],[\"(rt,int)\",\"(@x{0.00}, @y)\"]]},\"id\":\"1026\",\"type\":\"HoverTool\"},{\"attributes\":{\"coordinates\":null,\"data_source\":{\"id\":\"1060\"},\"glyph\":{\"id\":\"1062\"},\"group\":null,\"hover_glyph\":null,\"muted_glyph\":{\"id\":\"1064\"},\"nonselection_glyph\":{\"id\":\"1063\"},\"view\":{\"id\":\"1066\"}},\"id\":\"1065\",\"type\":\"GlyphRenderer\"},{\"attributes\":{\"source\":{\"id\":\"1234\"}},\"id\":\"1302\",\"type\":\"CDSView\"},{\"attributes\":{\"data\":{\"Intensity\":[2848190.0],\"bottom_int\":[0],\"leftWidth\":[6235.8486328125],\"ms2_mscore\":[3.5084067486223456e-05],\"rightWidth\":[6248.42822265625]},\"selected\":{\"id\":\"1264\"},\"selection_policy\":{\"id\":\"1263\"}},\"id\":\"1234\",\"type\":\"ColumnDataSource\"},{\"attributes\":{},\"id\":\"1019\",\"type\":\"PanTool\"},{\"attributes\":{\"bottom\":{\"field\":\"bottom_int\"},\"fill_color\":{\"value\":\"#D95F02\"},\"hatch_color\":{\"value\":\"#D95F02\"},\"line_color\":{\"value\":\"#D95F02\"},\"top\":{\"field\":\"Intensity\"},\"width\":{\"value\":0.1},\"x\":{\"field\":\"rightWidth\"}},\"id\":\"1363\",\"type\":\"VBar\"},{\"attributes\":{},\"id\":\"1020\",\"type\":\"WheelZoomTool\"},{\"attributes\":{\"label\":{\"value\":\"y6^1\"},\"renderers\":[{\"id\":\"1086\"}]},\"id\":\"1094\",\"type\":\"LegendItem\"},{\"attributes\":{\"coordinates\":null,\"data_source\":{\"id\":\"1234\"},\"glyph\":{\"id\":\"1267\"},\"group\":null,\"hover_glyph\":null,\"muted_glyph\":{\"id\":\"1269\"},\"nonselection_glyph\":{\"id\":\"1268\"},\"view\":{\"id\":\"1271\"}},\"id\":\"1270\",\"type\":\"GlyphRenderer\"},{\"attributes\":{\"line_alpha\":0.5,\"line_color\":\"#98df8a\",\"line_width\":2,\"x\":{\"field\":\"x\"},\"y\":{\"field\":\"y\"}},\"id\":\"1083\",\"type\":\"Line\"},{\"attributes\":{\"bottom\":{\"field\":\"bottom_int\"},\"fill_color\":{\"value\":\"#1B9E77\"},\"hatch_color\":{\"value\":\"#1B9E77\"},\"line_color\":{\"value\":\"#1B9E77\"},\"top\":{\"field\":\"Intensity\"},\"width\":{\"value\":0.1},\"x\":{\"field\":\"rightWidth\"}},\"id\":\"1267\",\"type\":\"VBar\"},{\"attributes\":{\"click_policy\":\"mute\",\"coordinates\":null,\"group\":null,\"items\":[{\"id\":\"1088\"},{\"id\":\"1089\"},{\"id\":\"1090\"},{\"id\":\"1091\"},{\"id\":\"1092\"},{\"id\":\"1093\"},{\"id\":\"1094\"}],\"label_text_font_size\":\"10pt\",\"location\":\"top_left\",\"title\":\"Transition\"},\"id\":\"1038\",\"type\":\"Legend\"},{\"attributes\":{\"label\":{\"value\":\"y5^1\"},\"renderers\":[{\"id\":\"1058\"}]},\"id\":\"1090\",\"type\":\"LegendItem\"},{\"attributes\":{},\"id\":\"1104\",\"type\":\"UnionRenderers\"},{\"attributes\":{\"line_alpha\":0.1,\"line_color\":\"#98df8a\",\"line_width\":2,\"x\":{\"field\":\"x\"},\"y\":{\"field\":\"y\"}},\"id\":\"1084\",\"type\":\"Line\"},{\"attributes\":{},\"id\":\"1105\",\"type\":\"Selection\"},{\"attributes\":{\"callback\":null,\"names\":[\"leftWidth_apex_point\"],\"tooltips\":[[\"Intensity\",\"@Intensity\"],[\"Left Width\",\"@leftWidth{0.00}\"],[\"Right Width\",\"@rightWidth{0.00}\"],[\"Peak Group Rank\",\"@peakgroup_rank\"],[\"MS2 m-score\",\"@ms2_mscore\"]]},\"id\":\"1428\",\"type\":\"HoverTool\"},{\"attributes\":{\"coordinates\":null,\"data_source\":{\"id\":\"1053\"},\"glyph\":{\"id\":\"1055\"},\"group\":null,\"hover_glyph\":null,\"muted_glyph\":{\"id\":\"1057\"},\"nonselection_glyph\":{\"id\":\"1056\"},\"view\":{\"id\":\"1059\"}},\"id\":\"1058\",\"type\":\"GlyphRenderer\"},{\"attributes\":{\"line_alpha\":0.1,\"line_color\":\"#ff7f0e\",\"line_width\":2,\"x\":{\"field\":\"x\"},\"y\":{\"field\":\"y\"}},\"id\":\"1063\",\"type\":\"Line\"},{\"attributes\":{\"tools\":[{\"id\":\"1019\"},{\"id\":\"1020\"},{\"id\":\"1021\"},{\"id\":\"1022\"},{\"id\":\"1023\"},{\"id\":\"1024\"},{\"id\":\"1026\"},{\"id\":\"1428\"}]},\"id\":\"1027\",\"type\":\"Toolbar\"},{\"attributes\":{\"label\":{\"value\":\"y8^1\"},\"renderers\":[{\"id\":\"1072\"}]},\"id\":\"1092\",\"type\":\"LegendItem\"},{\"attributes\":{\"bottom\":{\"field\":\"bottom_int\"},\"fill_alpha\":{\"value\":0.1},\"fill_color\":{\"value\":\"#1B9E77\"},\"hatch_alpha\":{\"value\":0.1},\"hatch_color\":{\"value\":\"#1B9E77\"},\"line_alpha\":{\"value\":0.1},\"line_color\":{\"value\":\"#1B9E77\"},\"top\":{\"field\":\"Intensity\"},\"width\":{\"value\":0.1},\"x\":{\"field\":\"leftWidth\"}},\"id\":\"1237\",\"type\":\"VBar\"},{\"attributes\":{\"overlay\":{\"id\":\"1025\"}},\"id\":\"1021\",\"type\":\"BoxZoomTool\"},{\"attributes\":{\"label\":{\"value\":\"y9^1\"},\"renderers\":[{\"id\":\"1079\"}]},\"id\":\"1093\",\"type\":\"LegendItem\"},{\"attributes\":{\"data\":{\"Intensity\":[35433.9],\"bottom_int\":[0],\"leftWidth\":[6255.64599609375],\"ms2_mscore\":[0.0001776217262565],\"rightWidth\":[6266.51513671875]},\"selected\":{\"id\":\"1360\"},\"selection_policy\":{\"id\":\"1359\"}},\"id\":\"1328\",\"type\":\"ColumnDataSource\"},{\"attributes\":{\"source\":{\"id\":\"1060\"}},\"id\":\"1066\",\"type\":\"CDSView\"},{\"attributes\":{\"fill_alpha\":{\"value\":0.2},\"fill_color\":{\"value\":\"#1f77b4\"},\"hatch_alpha\":{\"value\":0.2},\"line_alpha\":{\"value\":0.2},\"line_color\":{\"value\":\"#1f77b4\"},\"x\":{\"field\":\"leftWidth\"},\"y\":{\"field\":\"Intensity\"}},\"id\":\"1300\",\"type\":\"Circle\"},{\"attributes\":{\"align\":\"center\",\"coordinates\":null,\"group\":null,\"text\":\"Test Chromatogram\",\"text_font_size\":\"16pt\"},\"id\":\"1035\",\"type\":\"Title\"},{\"attributes\":{\"coordinates\":null,\"data_source\":{\"id\":\"1046\"},\"glyph\":{\"id\":\"1048\"},\"group\":null,\"hover_glyph\":null,\"muted_glyph\":{\"id\":\"1050\"},\"nonselection_glyph\":{\"id\":\"1049\"},\"view\":{\"id\":\"1052\"}},\"id\":\"1051\",\"type\":\"GlyphRenderer\"},{\"attributes\":{},\"id\":\"1106\",\"type\":\"UnionRenderers\"},{\"attributes\":{},\"id\":\"1107\",\"type\":\"Selection\"},{\"attributes\":{},\"id\":\"1116\",\"type\":\"UnionRenderers\"},{\"attributes\":{\"bottom\":{\"field\":\"bottom_int\"},\"fill_alpha\":{\"value\":0.1},\"fill_color\":{\"value\":\"#D95F02\"},\"hatch_alpha\":{\"value\":0.1},\"hatch_color\":{\"value\":\"#D95F02\"},\"line_alpha\":{\"value\":0.1},\"line_color\":{\"value\":\"#D95F02\"},\"top\":{\"field\":\"Intensity\"},\"width\":{\"value\":0.1},\"x\":{\"field\":\"leftWidth\"}},\"id\":\"1331\",\"type\":\"VBar\"},{\"attributes\":{},\"id\":\"1117\",\"type\":\"Selection\"},{\"attributes\":{\"bottom\":{\"field\":\"bottom_int\"},\"fill_alpha\":{\"value\":0.2},\"fill_color\":{\"value\":\"#D95F02\"},\"hatch_alpha\":{\"value\":0.2},\"hatch_color\":{\"value\":\"#D95F02\"},\"line_alpha\":{\"value\":0.2},\"line_color\":{\"value\":\"#D95F02\"},\"top\":{\"field\":\"Intensity\"},\"width\":{\"value\":0.1},\"x\":{\"field\":\"leftWidth\"}},\"id\":\"1332\",\"type\":\"VBar\"},{\"attributes\":{\"coordinates\":null,\"data_source\":{\"id\":\"1328\"},\"glyph\":{\"id\":\"1363\"},\"group\":null,\"hover_glyph\":null,\"muted_glyph\":{\"id\":\"1365\"},\"nonselection_glyph\":{\"id\":\"1364\"},\"view\":{\"id\":\"1367\"}},\"id\":\"1366\",\"type\":\"GlyphRenderer\"},{\"attributes\":{\"coordinates\":null,\"data_source\":{\"id\":\"1328\"},\"glyph\":{\"id\":\"1330\"},\"group\":null,\"hover_glyph\":null,\"muted_glyph\":{\"id\":\"1332\"},\"nonselection_glyph\":{\"id\":\"1331\"},\"view\":{\"id\":\"1334\"}},\"id\":\"1333\",\"type\":\"GlyphRenderer\"},{\"attributes\":{\"coordinates\":null,\"data_source\":{\"id\":\"1328\"},\"glyph\":{\"id\":\"1396\"},\"group\":null,\"hover_glyph\":null,\"muted_glyph\":{\"id\":\"1398\"},\"name\":\"leftWidth_apex_point\",\"nonselection_glyph\":{\"id\":\"1397\"},\"view\":{\"id\":\"1400\"}},\"id\":\"1399\",\"type\":\"GlyphRenderer\"},{\"attributes\":{\"source\":{\"id\":\"1328\"}},\"id\":\"1334\",\"type\":\"CDSView\"},{\"attributes\":{\"bottom\":{\"field\":\"bottom_int\"},\"fill_alpha\":{\"value\":0.1},\"fill_color\":{\"value\":\"#D95F02\"},\"hatch_alpha\":{\"value\":0.1},\"hatch_color\":{\"value\":\"#D95F02\"},\"line_alpha\":{\"value\":0.1},\"line_color\":{\"value\":\"#D95F02\"},\"top\":{\"field\":\"Intensity\"},\"width\":{\"value\":0.1},\"x\":{\"field\":\"rightWidth\"}},\"id\":\"1364\",\"type\":\"VBar\"},{\"attributes\":{\"coordinates\":null,\"data_source\":{\"id\":\"1039\"},\"glyph\":{\"id\":\"1041\"},\"group\":null,\"hover_glyph\":null,\"muted_glyph\":{\"id\":\"1043\"},\"nonselection_glyph\":{\"id\":\"1042\"},\"view\":{\"id\":\"1045\"}},\"id\":\"1044\",\"type\":\"GlyphRenderer\"},{\"attributes\":{},\"id\":\"1108\",\"type\":\"UnionRenderers\"},{\"attributes\":{},\"id\":\"1360\",\"type\":\"Selection\"},{\"attributes\":{\"data\":{\"precursor_mz\":[null,null,null,null,null,null,null,null,null,null,null,null,null,null,null,null,null,null,null,null,null,null,null,null,null,null,null,null,null,null,null,null,null,null,null,null,null,null,null,null,null,null,null,null,null,null,null,null,null,null,null,null,null,null,null,null,null,null,null,null,null,null,null,null,null,null,null,null,null,null,null,null,null,null,null,null,null,null,null,null,null,null,null,null,null,null,null],\"product_charge\":[null,null,null,null,null,null,null,null,null,null,null,null,null,null,null,null,null,null,null,null,null,null,null,null,null,null,null,null,null,null,null,null,null,null,null,null,null,null,null,null,null,null,null,null,null,null,null,null,null,null,null,null,null,null,null,null,null,null,null,null,null,null,null,null,null,null,null,null,null,null,null,null,null,null,null,null,null,null,null,null,null,null,null,null,null,null,null],\"product_mz\":[null,null,null,null,null,null,null,null,null,null,null,null,null,null,null,null,null,null,null,null,null,null,null,null,null,null,null,null,null,null,null,null,null,null,null,null,null,null,null,null,null,null,null,null,null,null,null,null,null,null,null,null,null,null,null,null,null,null,null,null,null,null,null,null,null,null,null,null,null,null,null,null,null,null,null,null,null,null,null,null,null,null,null,null,null,null,null],\"x\":{\"__ndarray__\":\"r019XhxRuEC+BGy7G1O4QIX2UTnlVLhA/y7LMABVuEBHTLSmeVa4QDO8vqGTVrhAEnDDyq5WuECQc69fyVa4QAV1NfdCWLhA43rMCl5YuEB1hvNveVi4QMSrVO2TWLhA14zJsA1auEBZvOfmJ1q4QDZcDrpCWrhAJlWEPtlbuEDMV6r381u4QL3zs/cNXLhAscNqGylcuEBSHSVppV24QATSLi2/XbhAM0fTSNpduEDKQUzW9V24QIh4ruxvX7hAeyebrYlfuEBVKim8pF+4QHJp36e/X7hAaQA/6T5huEDseq/OWGG4QG8/E7NzYbhASVZYno5huEC8gqPmCGO4QBw/GNAiY7hADp4Ouz1juEC1gS2fWGO4QJsAAvbTZLhAG1nvsu1kuEC8Bxv8CGW4QDLgqAskZbhA3PnT8KBmuEDXfBvCuma4QNoxNePVZrhAnsKh6/BmuEDXLPumbWi4QKkmrWWHaLhAsTtMNqNouECdfXxYvWi4QDbrrsM6arhASVYWwlRquECTys2Ib2q4QEmEfGaKarhAgOBwAQhsuECwry26IWy4QGyQ98M8bLhAOa1OuVdsuEDIM4MF1m24QEpJfj/wbbhAZ7u/QAtuuEB3BLEsJm64QFFGwVOlb7hArrs/IL9vuED6gIIZ2m+4QLD4n0H1b7hAkE/UNXNxuEAsZYOajXG4QO3hROmncbhA28eNvcJxuEBSovbxSnO4QF0f4ONkc7hAcZri3n9zuEAN/Qy5mnO4QNr2xfUZdbhAO1GnvzN1uEByLx82T3W4QADVruFpdbhA5HJzuuh2uEBB6PGGAne4QOFeh2gdd7hA89kvTjh3uECUNa0ptni4QJH6rCnQeLhAtRzExep4uEBxAj8MBnm4QCrk7t+DerhAaNcX1Z16uEADxcvOuHq4QGBG1drTerhA\",\"dtype\":\"float64\",\"order\":\"little\",\"shape\":[87]},\"y\":{\"__ndarray__\":\"+CmTQ9RBgUODcmVDP8dPQ5woQkNXPT1DUp45Q/86ZkP2fHdD852ZQ4LXnEOBaIdDyQaGQyaLdUPyhu1CkyMKQ0oAe0NIF8dDAAAAAHNYLkMiZNdEE6RwRYFbekUqfQNG0zNfRuI/sEbGJ/tGdVsfRx46O0cYelRHnVlpR53TZUcusEpH+mEyR3KwE0ddDelGp36pRn5qXEZYiQhGsaGmRRsHlkUHZDJFkhrKRMYOnETSuNtEm1+2RFwNikSGjXtE5YeFRBoYe0T79oFEn+V8RNEhdkRauWREt+w4RDuKEkQK8wpE0woLRMtEHUSD1C5ENEg+RFNXQERX4DVE5h4bRDnQAkTFJh1EFoxURJHAikTbNplE4tuhRG6lmUSge4REhvpIRCiRCkS4G8RD90TbQydVEUTUEg9EpGoNRIT6CkTHdM9DFYvHQ3qntkPcv6pDILujQyiAoUPZ9aND\",\"dtype\":\"float32\",\"order\":\"little\",\"shape\":[87]}},\"selected\":{\"id\":\"1109\"},\"selection_policy\":{\"id\":\"1108\"}},\"id\":\"1053\",\"type\":\"ColumnDataSource\"},{\"attributes\":{},\"id\":\"1359\",\"type\":\"UnionRenderers\"},{\"attributes\":{\"line_alpha\":0.2,\"line_color\":\"#1f77b4\",\"line_width\":2,\"x\":{\"field\":\"x\"},\"y\":{\"field\":\"y\"}},\"id\":\"1050\",\"type\":\"Line\"},{\"attributes\":{},\"id\":\"1109\",\"type\":\"Selection\"},{\"attributes\":{\"line_alpha\":0.2,\"line_dash\":[6],\"line_width\":2,\"x\":{\"field\":\"x\"},\"y\":{\"field\":\"y\"}},\"id\":\"1043\",\"type\":\"Line\"},{\"attributes\":{\"line_alpha\":0.1,\"line_color\":\"#1f77b4\",\"line_width\":2,\"x\":{\"field\":\"x\"},\"y\":{\"field\":\"y\"}},\"id\":\"1049\",\"type\":\"Line\"},{\"attributes\":{\"line_alpha\":0.5,\"line_color\":\"#1f77b4\",\"line_width\":2,\"x\":{\"field\":\"x\"},\"y\":{\"field\":\"y\"}},\"id\":\"1048\",\"type\":\"Line\"},{\"attributes\":{},\"id\":\"1110\",\"type\":\"UnionRenderers\"},{\"attributes\":{\"data\":{\"precursor_mz\":[null,null,null,null,null,null,null,null,null,null,null,null,null,null,null,null,null,null,null,null,null,null,null,null,null,null,null,null,null,null,null,null,null,null,null,null,null,null,null,null,null,null,null,null,null,null,null,null,null,null,null,null,null,null,null,null,null,null,null,null,null,null,null,null,null,null,null,null,null,null,null,null,null,null,null,null,null,null,null,null],\"product_charge\":[null,null,null,null,null,null,null,null,null,null,null,null,null,null,null,null,null,null,null,null,null,null,null,null,null,null,null,null,null,null,null,null,null,null,null,null,null,null,null,null,null,null,null,null,null,null,null,null,null,null,null,null,null,null,null,null,null,null,null,null,null,null,null,null,null,null,null,null,null,null,null,null,null,null,null,null,null,null,null,null],\"product_mz\":[null,null,null,null,null,null,null,null,null,null,null,null,null,null,null,null,null,null,null,null,null,null,null,null,null,null,null,null,null,null,null,null,null,null,null,null,null,null,null,null,null,null,null,null,null,null,null,null,null,null,null,null,null,null,null,null,null,null,null,null,null,null,null,null,null,null,null,null,null,null,null,null,null,null,null,null,null,null,null,null],\"x\":{\"__ndarray__\":\"r019XhxRuED+liK5bFG4QL4EbLsbU7hAxClGiq9UuEDYKcCaylS4QBJww8quVrhAkHOvX8lWuEAFdTX3Qli4QHWG8295WLhAxKtU7ZNYuEDXjMmwDVq4QFm85+YnWrhANlwOukJauEBHiza/XVq4QCZVhD7ZW7hAzFeq9/NbuECxw2obKVy4QFIdJWmlXbhABNIuLb9duEAzR9NI2l24QMpBTNb1XbhAiHiu7G9fuEB7J5utiV+4QFUqKbykX7hAcmnfp79fuEBpAD/pPmG4QOx6r85YYbhAbz8Ts3NhuEBJVliejmG4QLyCo+YIY7hAHD8Y0CJjuEAOng67PWO4QLWBLZ9YY7hAmwAC9tNkuEAbWe+y7WS4QLwHG/wIZbhAMuCoCyRluEDc+dPwoGa4QNd8G8K6ZrhA2jE149VmuECewqHr8Ga4QNcs+6ZtaLhAqSatZYdouECxO0w2o2i4QJ19fFi9aLhANuuuwzpquEBJVhbCVGq4QEmEfGaKarhAgOBwAQhsuECwry26IWy4QGyQ98M8bLhAOa1OuVdsuEDIM4MF1m24QEpJfj/wbbhAZ7u/QAtuuEB3BLEsJm64QFFGwVOlb7hArrs/IL9vuED6gIIZ2m+4QLD4n0H1b7hAkE/UNXNxuEAsZYOajXG4QO3hROmncbhA28eNvcJxuEBdH+DjZHO4QHGa4t5/c7hADf0MuZpzuEDa9sX1GXW4QDtRp78zdbhAci8fNk91uEAA1a7haXW4QORyc7rodrhAQejxhgJ3uEDz2S9OOHe4QJQ1rSm2eLhAkfqsKdB4uEC1HMTF6ni4QHECPwwGebhAKuTu34N6uEADxcvOuHq4QA==\",\"dtype\":\"float64\",\"order\":\"little\",\"shape\":[80]},\"y\":{\"__ndarray__\":\"z2+kQu0FhULruXJCsRR5QoajiULtvZtCcB57Qmvfo0K8YepCCFMAQ1THMkNODXNDX5R1Q8NLQkPqGU1DhFiQQ2asiUO6Z4VDQn4WRI0joESQWa5EvtgMRRlbXEU3aJxFV7bjRYH3FEbjwTJGR01GRr3UXUZlH19GpcZDRsnvK0btKw5GB4LYRY/vokWiaGJFTfkXRWTJu0Q8C7hE9XlcRG2j3UM4cMhDAqvaQwnkpEOF2EdDsHp+Q+m2jEM1WT9DoS9ZQ+BKQ0NtnGxD0R5cQ9NcSkPJ+TZDEy8YQ4wBREMj10pD+BSGQ2IluUNabstDpAfIQ5VVsEMTDnxDiIoxQx+mM0MiFTBD+R0iQ9lMZUN8onxDrMmEQ0q5gUNIbFlDHqglQ2FcBUPtx0NDnKQ8QxXaMkMjsSlDknIkQyxnJkM=\",\"dtype\":\"float32\",\"order\":\"little\",\"shape\":[80]}},\"selected\":{\"id\":\"1107\"},\"selection_policy\":{\"id\":\"1106\"}},\"id\":\"1046\",\"type\":\"ColumnDataSource\"},{\"attributes\":{\"source\":{\"id\":\"1046\"}},\"id\":\"1052\",\"type\":\"CDSView\"},{\"attributes\":{},\"id\":\"1111\",\"type\":\"Selection\"},{\"attributes\":{\"line_alpha\":0.5,\"line_color\":\"#aec7e8\",\"line_width\":2,\"x\":{\"field\":\"x\"},\"y\":{\"field\":\"y\"}},\"id\":\"1055\",\"type\":\"Line\"},{\"attributes\":{\"bottom\":{\"field\":\"bottom_int\"},\"fill_alpha\":{\"value\":0.2},\"fill_color\":{\"value\":\"#D95F02\"},\"hatch_alpha\":{\"value\":0.2},\"hatch_color\":{\"value\":\"#D95F02\"},\"line_alpha\":{\"value\":0.2},\"line_color\":{\"value\":\"#D95F02\"},\"top\":{\"field\":\"Intensity\"},\"width\":{\"value\":0.1},\"x\":{\"field\":\"rightWidth\"}},\"id\":\"1365\",\"type\":\"VBar\"},{\"attributes\":{\"fill_alpha\":{\"value\":0.1},\"fill_color\":{\"value\":\"#1f77b4\"},\"hatch_alpha\":{\"value\":0.1},\"line_alpha\":{\"value\":0.1},\"line_color\":{\"value\":\"#1f77b4\"},\"x\":{\"field\":\"leftWidth\"},\"y\":{\"field\":\"Intensity\"}},\"id\":\"1397\",\"type\":\"Circle\"},{\"attributes\":{\"source\":{\"id\":\"1328\"}},\"id\":\"1367\",\"type\":\"CDSView\"},{\"attributes\":{\"source\":{\"id\":\"1039\"}},\"id\":\"1045\",\"type\":\"CDSView\"},{\"attributes\":{\"fill_alpha\":{\"value\":0},\"fill_color\":{\"value\":\"#1f77b4\"},\"hatch_alpha\":{\"value\":0},\"line_alpha\":{\"value\":0},\"line_color\":{\"value\":\"#1f77b4\"},\"x\":{\"field\":\"leftWidth\"},\"y\":{\"field\":\"Intensity\"}},\"id\":\"1396\",\"type\":\"Circle\"},{\"attributes\":{},\"id\":\"1112\",\"type\":\"UnionRenderers\"},{\"attributes\":{},\"id\":\"1113\",\"type\":\"Selection\"},{\"attributes\":{},\"id\":\"1114\",\"type\":\"UnionRenderers\"},{\"attributes\":{\"fill_alpha\":{\"value\":0.2},\"fill_color\":{\"value\":\"#1f77b4\"},\"hatch_alpha\":{\"value\":0.2},\"line_alpha\":{\"value\":0.2},\"line_color\":{\"value\":\"#1f77b4\"},\"x\":{\"field\":\"leftWidth\"},\"y\":{\"field\":\"Intensity\"}},\"id\":\"1398\",\"type\":\"Circle\"},{\"attributes\":{},\"id\":\"1115\",\"type\":\"Selection\"},{\"attributes\":{\"source\":{\"id\":\"1328\"}},\"id\":\"1400\",\"type\":\"CDSView\"}],\"root_ids\":[\"1002\"]},\"title\":\"Bokeh Application\",\"version\":\"2.4.3\"}};\n  const render_items = [{\"docid\":\"5a9cccac-3cc7-463a-9c8b-a6cbdb4454eb\",\"root_ids\":[\"1002\"],\"roots\":{\"1002\":\"91be19c3-2422-476e-b2dc-86dafd0747a9\"}}];\n  root.Bokeh.embed.embed_items_notebook(docs_json, render_items);\n  }\n  if (root.Bokeh !== undefined) {\n    embed_document(root);\n  } else {\n    let attempts = 0;\n    const timer = setInterval(function(root) {\n      if (root.Bokeh !== undefined) {\n        clearInterval(timer);\n        embed_document(root);\n      } else {\n        attempts++;\n        if (attempts > 100) {\n          clearInterval(timer);\n          console.log(\"Bokeh: ERROR: Unable to run BokehJS code because BokehJS library is missing\");\n        }\n      }\n    }, 10, root)\n  }\n})(window);",
      "application/vnd.bokehjs_exec.v0+json": ""
     },
     "metadata": {
      "application/vnd.bokehjs_exec.v0+json": {
       "id": "1002"
      }
     },
     "output_type": "display_data"
    }
   ],
   "source": [
    "plotter.add_peak_boundaries(fig, transitionGroupFeatures, transitionGroup)\n",
    "plotter.show()"
   ]
  },
  {
   "cell_type": "markdown",
   "id": "b1ab6fa6-da25-41fb-9d79-026b6d4741c3",
   "metadata": {
    "editable": true,
    "slideshow": {
     "slide_type": ""
    },
    "tags": []
   },
   "source": [
    "## More Information "
   ]
  },
  {
   "cell_type": "markdown",
   "id": "39cd9af7-8200-4bc8-857d-a083030926a8",
   "metadata": {
    "editable": true,
    "slideshow": {
     "slide_type": ""
    },
    "tags": []
   },
   "source": [
    "For more information on plotting, please checkout the [Plotting Gallery](../Plotting\\ Gallery.rst) which features recipes for various different plot types. "
   ]
  }
 ],
 "metadata": {
  "kernelspec": {
   "display_name": "Python 3 (ipykernel)",
   "language": "python",
   "name": "python3"
  },
  "language_info": {
   "codemirror_mode": {
    "name": "ipython",
    "version": 3
   },
   "file_extension": ".py",
   "mimetype": "text/x-python",
   "name": "python",
   "nbconvert_exporter": "python",
   "pygments_lexer": "ipython3",
   "version": "3.9.18"
  }
 },
 "nbformat": 4,
 "nbformat_minor": 5
}
